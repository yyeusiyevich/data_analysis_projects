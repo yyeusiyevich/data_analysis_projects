{
 "cells": [
  {
   "cell_type": "markdown",
   "id": "01affc46",
   "metadata": {},
   "source": [
    "# Decomposition"
   ]
  },
  {
   "cell_type": "markdown",
   "id": "f0521f52",
   "metadata": {},
   "source": [
    "I. Data upload. Primary data analysis. Conclusions.\n",
    "\n",
    "\n",
    "II. Data preprocessing.\n",
    " * missing values processing;\n",
    " * change of data type;\n",
    " * analysis of categorical variables (checking unique values for implicit duplicates);\n",
    " * analysis of numerical variables (event and advertising campaign dates, cost distribution histogram, user ID uniqueness);\n",
    " * interim conclusions;\n",
    "\n",
    "\n",
    "III. Exploratory Data Analysis (EDA).\n",
    "\n",
    "*Game Platform Analysis:* \n",
    " * histogram of user activity (DAU) in dynamics, average indicators (per day);\n",
    " * histograms of the number of game events in the dynamics (general, by event type), average (per day, per player);\n",
    " * histograms of the number of buildings in the dynamics (general, by building type), average;\n",
    "    \n",
    "*User profiles creation:*\n",
    "\n",
    "* selection features for user profiles: completion of target event (and its date), strategy (PvP, PvE), dates of first and last session, total game time, time to complete the target event;\n",
    "    \n",
    "*Analysis of the features the have an impact on the first level completion (target event):*\n",
    "    \n",
    "* the impact of the number of buildings (by acquisition channel);\n",
    "* the impact of strategy, total game time and time to complete the target event;\n",
    "    \n",
    "*Cohort analysis.*\n",
    "* retention rate (heatmap);\n",
    "* retention curves (by date of acquisition, lifetime, target event, strategy, acquisition channel);\n",
    "   \n",
    "*Interim conclusions.*\n",
    "    \n",
    "\n",
    "IV. Advertising campaign. Monetization strategy.\n",
    "* general analysis (duration, total amount), histograms by the acquisition channel;\n",
    "* histograms of the total number of attracted users,  by the acquisition channel (dynamics);\n",
    "* CAC calculation (averages  by the acquisition channel, CAC in dynamics);\n",
    "    \n",
    "*Development of monetization strategy and payback estimation.*\n",
    "* LTV: heatmap, LTV curves (general,  by the acquisition channel, target event, game strategy);\n",
    "* ROI:  by the acquisition channel;\n",
    "* interim conclusions;   \n",
    "    \n",
    "\n",
    "V. Hypotheses testing.\n",
    "* hypothesis of inequality in the time spent on the first level depending on the chosen strategy; \n",
    "* hypothesis of inequality in the number of constructions depending on the channel of attraction; \n",
    "* interim conclusions;\n",
    "    \n",
    "\n",
    "VI. General conclusion and recommendations.\n",
    "\n"
   ]
  },
  {
   "cell_type": "code",
   "execution_count": null,
   "id": "bcc06257",
   "metadata": {},
   "outputs": [],
   "source": []
  }
 ],
 "metadata": {
  "kernelspec": {
   "display_name": "Python 3 (ipykernel)",
   "language": "python",
   "name": "python3"
  },
  "language_info": {
   "codemirror_mode": {
    "name": "ipython",
    "version": 3
   },
   "file_extension": ".py",
   "mimetype": "text/x-python",
   "name": "python",
   "nbconvert_exporter": "python",
   "pygments_lexer": "ipython3",
   "version": "3.9.7"
  }
 },
 "nbformat": 4,
 "nbformat_minor": 5
}
