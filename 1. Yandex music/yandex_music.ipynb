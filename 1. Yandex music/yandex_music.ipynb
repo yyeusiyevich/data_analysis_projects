{
 "cells": [
  {
   "cell_type": "markdown",
   "metadata": {
    "id": "E0vqbgi9ay0H"
   },
   "source": [
    "# Yandex.Music"
   ]
  },
  {
   "cell_type": "markdown",
   "metadata": {},
   "source": [
    "# Table of contents\n",
    "\n",
    "I. General Information. Interim conclusions.  \n",
    "\n",
    "\n",
    "II. Data preprocessing. Interim conclusions.    \n",
    " - Column headings processing  \n",
    " - Categorical data processing     \n",
    " - Numerical data processing   \n",
    " - Missing values processing    \n",
    " - Duplicates processing\n",
    "\n",
    "\n",
    "III. Exploratory Data Analysis (EDA). Interim conclusions.  \n",
    " - User activity analysis during the week (in terms of cities) (1st hypothesis)  \n",
    " - User activity analysis during the day (in terms of cities) (2nd hypothesis)  \n",
    " - Preferred genres analysis (in terms of cities) (3rd hypothesis)      \n",
    "    \n",
    "\n",
    "IV. General conclusion."
   ]
  },
  {
   "cell_type": "markdown",
   "metadata": {
    "id": "Ml1hmfXC_Zcs"
   },
   "source": [
    "# General Information <a id='id1'></a>"
   ]
  },
  {
   "cell_type": "code",
   "execution_count": 1,
   "metadata": {
    "id": "AXN7PHPN_Zcs"
   },
   "outputs": [
    {
     "name": "stderr",
     "output_type": "stream",
     "text": []
    }
   ],
   "source": [
    "# libraries import\n",
    "import pandas as pd\n",
    "import numpy as np\n",
    "import seaborn as sns\n",
    "from datetime import datetime, timedelta\n",
    "import matplotlib.pyplot as plt\n",
    "import os\n",
    "from fuzzywuzzy import fuzz\n",
    "import warnings\n",
    "warnings.filterwarnings('ignore')"
   ]
  },
  {
   "cell_type": "code",
   "execution_count": 2,
   "metadata": {},
   "outputs": [],
   "source": [
    "# pandas customization\n",
    "pd.set_option('display.float_format', '{:,.2f}'.format)"
   ]
  },
  {
   "cell_type": "code",
   "execution_count": 3,
   "metadata": {},
   "outputs": [],
   "source": [
    "# seaborn customization\n",
    "sns.set(rc={'figure.figsize':(10,10)})\n",
    "sns.set_theme(style='whitegrid', palette='pastel')"
   ]
  },
  {
   "cell_type": "markdown",
   "metadata": {},
   "source": [
    "Displaying tables with borders:"
   ]
  },
  {
   "cell_type": "code",
   "execution_count": 4,
   "metadata": {},
   "outputs": [
    {
     "data": {
      "text/html": [
       "<style type=\"text/css\">\n",
       "table.dataframe td, table.dataframe th {\n",
       "    border: 1px  black solid !important;\n",
       "  color: black !important;\n",
       "}\n",
       "</style>\n"
      ],
      "text/plain": [
       "<IPython.core.display.HTML object>"
      ]
     },
     "metadata": {},
     "output_type": "display_data"
    }
   ],
   "source": [
    "%%HTML\n",
    "<style type=\"text/css\">\n",
    "table.dataframe td, table.dataframe th {\n",
    "    border: 1px  black solid !important;\n",
    "  color: black !important;\n",
    "}\n",
    "</style>"
   ]
  },
  {
   "cell_type": "code",
   "execution_count": 5,
   "metadata": {
    "id": "fFVu7vqh_Zct"
   },
   "outputs": [],
   "source": [
    "# reading the file and saving it to the 'df' variable\n",
    "pth1 = '\\home\\yuso\\jupyter_dir\\jupyter_env\\datasets\\yandex_music_data.csv'\n",
    "\n",
    "if os.path.exists(pth1):\n",
    "    df = pd.read_csv(pth1)\n",
    "else:\n",
    "    print('Something is wrong')"
   ]
  },
  {
   "cell_type": "code",
   "execution_count": 6,
   "metadata": {
    "id": "oWTVX3gW_Zct",
    "scrolled": true
   },
   "outputs": [],
   "source": [
    "# primary data analysis function\n",
    "def get_info(df):\n",
    "    '''The function takes a dataframe as an input and provides general information about it: dataframe shape (rows, columns),\n",
    "    columns data type, number of non-null values (DataFrame.info()), first five rows (DataFrame.head(5)) and also brief \n",
    "    analysis for categorical and numerical data - DataFrame.describe().'''\n",
    "    percentiles= [.20, .40, .60, .80]\n",
    "    include=['object', 'float', 'int']\n",
    "    print(f'Total number of rows: {df.shape[0]}, total number of columns: {df.shape[1]}.')\n",
    "    print()\n",
    "    print(df.info())\n",
    "    display(df.head(5))\n",
    "    display(pd.DataFrame(df.describe(percentiles = percentiles, include = include).T))"
   ]
  },
  {
   "cell_type": "code",
   "execution_count": 7,
   "metadata": {},
   "outputs": [
    {
     "name": "stdout",
     "output_type": "stream",
     "text": [
      "Total number of rows: 65079, total number of columns: 7.\n",
      "\n",
      "<class 'pandas.core.frame.DataFrame'>\n",
      "RangeIndex: 65079 entries, 0 to 65078\n",
      "Data columns (total 7 columns):\n",
      " #   Column    Non-Null Count  Dtype \n",
      "---  ------    --------------  ----- \n",
      " 0     userID  65079 non-null  object\n",
      " 1   Track     63848 non-null  object\n",
      " 2   artist    57876 non-null  object\n",
      " 3   genre     63881 non-null  object\n",
      " 4     City    65079 non-null  object\n",
      " 5   time      65079 non-null  object\n",
      " 6   Day       65079 non-null  object\n",
      "dtypes: object(7)\n",
      "memory usage: 3.5+ MB\n",
      "None\n"
     ]
    },
    {
     "data": {
      "text/html": [
       "<div>\n",
       "<style scoped>\n",
       "    .dataframe tbody tr th:only-of-type {\n",
       "        vertical-align: middle;\n",
       "    }\n",
       "\n",
       "    .dataframe tbody tr th {\n",
       "        vertical-align: top;\n",
       "    }\n",
       "\n",
       "    .dataframe thead th {\n",
       "        text-align: right;\n",
       "    }\n",
       "</style>\n",
       "<table border=\"1\" class=\"dataframe\">\n",
       "  <thead>\n",
       "    <tr style=\"text-align: right;\">\n",
       "      <th></th>\n",
       "      <th>userID</th>\n",
       "      <th>Track</th>\n",
       "      <th>artist</th>\n",
       "      <th>genre</th>\n",
       "      <th>City</th>\n",
       "      <th>time</th>\n",
       "      <th>Day</th>\n",
       "    </tr>\n",
       "  </thead>\n",
       "  <tbody>\n",
       "    <tr>\n",
       "      <th>0</th>\n",
       "      <td>FFB692EC</td>\n",
       "      <td>Kamigata To Boots</td>\n",
       "      <td>The Mass Missile</td>\n",
       "      <td>rock</td>\n",
       "      <td>Saint-Petersburg</td>\n",
       "      <td>20:28:33</td>\n",
       "      <td>Wednesday</td>\n",
       "    </tr>\n",
       "    <tr>\n",
       "      <th>1</th>\n",
       "      <td>55204538</td>\n",
       "      <td>Delayed Because of Accident</td>\n",
       "      <td>Andreas Rönnberg</td>\n",
       "      <td>rock</td>\n",
       "      <td>Moscow</td>\n",
       "      <td>14:07:09</td>\n",
       "      <td>Friday</td>\n",
       "    </tr>\n",
       "    <tr>\n",
       "      <th>2</th>\n",
       "      <td>20EC38</td>\n",
       "      <td>Funiculì funiculà</td>\n",
       "      <td>Mario Lanza</td>\n",
       "      <td>pop</td>\n",
       "      <td>Saint-Petersburg</td>\n",
       "      <td>20:58:07</td>\n",
       "      <td>Wednesday</td>\n",
       "    </tr>\n",
       "    <tr>\n",
       "      <th>3</th>\n",
       "      <td>A3DD03C9</td>\n",
       "      <td>Dragons in the Sunset</td>\n",
       "      <td>Fire + Ice</td>\n",
       "      <td>folk</td>\n",
       "      <td>Saint-Petersburg</td>\n",
       "      <td>08:37:09</td>\n",
       "      <td>Monday</td>\n",
       "    </tr>\n",
       "    <tr>\n",
       "      <th>4</th>\n",
       "      <td>E2DC1FAE</td>\n",
       "      <td>Soul People</td>\n",
       "      <td>Space Echo</td>\n",
       "      <td>dance</td>\n",
       "      <td>Moscow</td>\n",
       "      <td>08:34:34</td>\n",
       "      <td>Monday</td>\n",
       "    </tr>\n",
       "  </tbody>\n",
       "</table>\n",
       "</div>"
      ],
      "text/plain": [
       "     userID                        Track            artist  genre  \\\n",
       "0  FFB692EC            Kamigata To Boots  The Mass Missile   rock   \n",
       "1  55204538  Delayed Because of Accident  Andreas Rönnberg   rock   \n",
       "2    20EC38            Funiculì funiculà       Mario Lanza    pop   \n",
       "3  A3DD03C9        Dragons in the Sunset        Fire + Ice   folk   \n",
       "4  E2DC1FAE                  Soul People        Space Echo  dance   \n",
       "\n",
       "             City        time        Day  \n",
       "0  Saint-Petersburg  20:28:33  Wednesday  \n",
       "1            Moscow  14:07:09     Friday  \n",
       "2  Saint-Petersburg  20:58:07  Wednesday  \n",
       "3  Saint-Petersburg  08:37:09     Monday  \n",
       "4            Moscow  08:34:34     Monday  "
      ]
     },
     "metadata": {},
     "output_type": "display_data"
    },
    {
     "data": {
      "text/html": [
       "<div>\n",
       "<style scoped>\n",
       "    .dataframe tbody tr th:only-of-type {\n",
       "        vertical-align: middle;\n",
       "    }\n",
       "\n",
       "    .dataframe tbody tr th {\n",
       "        vertical-align: top;\n",
       "    }\n",
       "\n",
       "    .dataframe thead th {\n",
       "        text-align: right;\n",
       "    }\n",
       "</style>\n",
       "<table border=\"1\" class=\"dataframe\">\n",
       "  <thead>\n",
       "    <tr style=\"text-align: right;\">\n",
       "      <th></th>\n",
       "      <th>count</th>\n",
       "      <th>unique</th>\n",
       "      <th>top</th>\n",
       "      <th>freq</th>\n",
       "    </tr>\n",
       "  </thead>\n",
       "  <tbody>\n",
       "    <tr>\n",
       "      <th>userID</th>\n",
       "      <td>65079</td>\n",
       "      <td>41748</td>\n",
       "      <td>A8AE9169</td>\n",
       "      <td>76</td>\n",
       "    </tr>\n",
       "    <tr>\n",
       "      <th>Track</th>\n",
       "      <td>63848</td>\n",
       "      <td>47245</td>\n",
       "      <td>Intro</td>\n",
       "      <td>34</td>\n",
       "    </tr>\n",
       "    <tr>\n",
       "      <th>artist</th>\n",
       "      <td>57876</td>\n",
       "      <td>43605</td>\n",
       "      <td>Sasha</td>\n",
       "      <td>6</td>\n",
       "    </tr>\n",
       "    <tr>\n",
       "      <th>genre</th>\n",
       "      <td>63881</td>\n",
       "      <td>289</td>\n",
       "      <td>pop</td>\n",
       "      <td>8850</td>\n",
       "    </tr>\n",
       "    <tr>\n",
       "      <th>City</th>\n",
       "      <td>65079</td>\n",
       "      <td>2</td>\n",
       "      <td>Moscow</td>\n",
       "      <td>45360</td>\n",
       "    </tr>\n",
       "    <tr>\n",
       "      <th>time</th>\n",
       "      <td>65079</td>\n",
       "      <td>20392</td>\n",
       "      <td>08:14:07</td>\n",
       "      <td>14</td>\n",
       "    </tr>\n",
       "    <tr>\n",
       "      <th>Day</th>\n",
       "      <td>65079</td>\n",
       "      <td>3</td>\n",
       "      <td>Friday</td>\n",
       "      <td>23149</td>\n",
       "    </tr>\n",
       "  </tbody>\n",
       "</table>\n",
       "</div>"
      ],
      "text/plain": [
       "          count unique       top   freq\n",
       "  userID  65079  41748  A8AE9169     76\n",
       "Track     63848  47245     Intro     34\n",
       "artist    57876  43605     Sasha      6\n",
       "genre     63881    289       pop   8850\n",
       "  City    65079      2    Moscow  45360\n",
       "time      65079  20392  08:14:07     14\n",
       "Day       65079      3    Friday  23149"
      ]
     },
     "metadata": {},
     "output_type": "display_data"
    }
   ],
   "source": [
    "# applying get_info function\n",
    "get_info(df)"
   ]
  },
  {
   "cell_type": "markdown",
   "metadata": {
    "id": "TaQ2Iwbr_Zct"
   },
   "source": [
    "**According to the documentation::**  \n",
    "\n",
    "* `userID` — unique user identifier;\n",
    "* `Track` — song name;  \n",
    "* `artist` — song artist;\n",
    "* `genre` — song genre;\n",
    "* `City` — user's location;\n",
    "* `time` — start of listening;\n",
    "* `Day` — day of the week.   \n",
    "\n",
    "**Brief data analysis:**  \n",
    "\n",
    "* there are missing values in `Track`, `artist` and `genre` columns;\n",
    "* column names issues:     \n",
    "    1) combined lower and uppercase letters;  \n",
    "    2) spaces before and after column names;      \n",
    "    3) multiple word variables not in 'snake case' style;    \n",
    "* categorical data also contains combined lower and uppercase letters which implies possible implicit duplicates in it (lowercase transformation is needed);"
   ]
  },
  {
   "cell_type": "markdown",
   "metadata": {},
   "source": [
    "## Interim conclusions<a id='id11'></a>   "
   ]
  },
  {
   "cell_type": "markdown",
   "metadata": {
    "id": "MCB6-dXG_Zct"
   },
   "source": [
    "Each row of the table contains data about the song. Some columns describe the song itself: its name, artist and genre. Other columns contain information about the user: ID, location and listening time.   \n",
    "  \n",
    "There are 65079 rows in data: 41748 unique users. The most active user has *A8AE9169* ID (occurs 76 times). Number of unique track names - 47245, unique artists - 43605, genres - 289 (such value of unique genres implies implicit duplicates in the data).   \n",
    "The data was provided for 3 specific days of the week (Monday, Wednesday, Friday - most common one, 23149 records ) for Moscow (45360 records) and St.Petersburg.\n",
    "\n",
    "It can be argued that currently available data is sufficient for the task. But this data needs to be processed: we need to check and remove duplicates, process missing values, transform categorical values into lowercase. "
   ]
  },
  {
   "cell_type": "markdown",
   "metadata": {
    "id": "SjYF6Ub9_Zct"
   },
   "source": [
    "# Data preprocessing <a id='id2'></a>\n"
   ]
  },
  {
   "cell_type": "markdown",
   "metadata": {},
   "source": [
    "## Column headings processing <a id='id21'></a>"
   ]
  },
  {
   "cell_type": "markdown",
   "metadata": {
    "id": "dIaKXr29_Zct"
   },
   "source": [
    "In this section we'll change column headings that do not meet naming conventions in Python."
   ]
  },
  {
   "cell_type": "code",
   "execution_count": 8,
   "metadata": {
    "id": "oKOTdF_Q_Zct",
    "scrolled": true
   },
   "outputs": [
    {
     "data": {
      "text/plain": [
       "Index(['  userID', 'Track', 'artist', 'genre', '  City  ', 'time', 'Day'], dtype='object')"
      ]
     },
     "execution_count": 8,
     "metadata": {},
     "output_type": "execute_result"
    }
   ],
   "source": [
    "# selecting column names\n",
    "df.columns"
   ]
  },
  {
   "cell_type": "code",
   "execution_count": 9,
   "metadata": {
    "id": "ISlFqs5y_Zct"
   },
   "outputs": [],
   "source": [
    "# renaming columns\n",
    "df = df.rename(\n",
    "    columns = {\n",
    "    '  userID': 'user_id', 'Track': 'track', '  City  ': 'city', 'Day': 'day'})"
   ]
  },
  {
   "cell_type": "code",
   "execution_count": 10,
   "metadata": {
    "id": "d4NOAmTW_Zct",
    "scrolled": true
   },
   "outputs": [
    {
     "data": {
      "text/plain": [
       "Index(['user_id', 'track', 'artist', 'genre', 'city', 'time', 'day'], dtype='object')"
      ]
     },
     "execution_count": 10,
     "metadata": {},
     "output_type": "execute_result"
    }
   ],
   "source": [
    "# check\n",
    "df.columns"
   ]
  },
  {
   "cell_type": "markdown",
   "metadata": {},
   "source": [
    "## Categorical data processing <a id='id23'></a>"
   ]
  },
  {
   "cell_type": "markdown",
   "metadata": {},
   "source": [
    "In this section we'll transform all categorical data into the lowercase letters (`str.lower()` method). To process all columns at once we will use `apply` method (apply a function along an axis of the DataFrame).     \n",
    "\n",
    "Also we'll check unique values in `city` and `day` columns."
   ]
  },
  {
   "cell_type": "code",
   "execution_count": 11,
   "metadata": {},
   "outputs": [],
   "source": [
    "# selecting required columns \n",
    "obj_cols_list = ['track', 'artist', 'city', 'day', 'genre']"
   ]
  },
  {
   "cell_type": "code",
   "execution_count": 12,
   "metadata": {},
   "outputs": [],
   "source": [
    "# lowercase transformation\n",
    "df = df.apply(lambda x: x.str.lower() if x.name in obj_cols_list else x)"
   ]
  },
  {
   "cell_type": "code",
   "execution_count": 13,
   "metadata": {
    "scrolled": false
   },
   "outputs": [
    {
     "data": {
      "text/html": [
       "<div>\n",
       "<style scoped>\n",
       "    .dataframe tbody tr th:only-of-type {\n",
       "        vertical-align: middle;\n",
       "    }\n",
       "\n",
       "    .dataframe tbody tr th {\n",
       "        vertical-align: top;\n",
       "    }\n",
       "\n",
       "    .dataframe thead th {\n",
       "        text-align: right;\n",
       "    }\n",
       "</style>\n",
       "<table border=\"1\" class=\"dataframe\">\n",
       "  <thead>\n",
       "    <tr style=\"text-align: right;\">\n",
       "      <th></th>\n",
       "      <th>user_id</th>\n",
       "      <th>track</th>\n",
       "      <th>artist</th>\n",
       "      <th>genre</th>\n",
       "      <th>city</th>\n",
       "      <th>time</th>\n",
       "      <th>day</th>\n",
       "    </tr>\n",
       "  </thead>\n",
       "  <tbody>\n",
       "    <tr>\n",
       "      <th>0</th>\n",
       "      <td>FFB692EC</td>\n",
       "      <td>kamigata to boots</td>\n",
       "      <td>the mass missile</td>\n",
       "      <td>rock</td>\n",
       "      <td>saint-petersburg</td>\n",
       "      <td>20:28:33</td>\n",
       "      <td>wednesday</td>\n",
       "    </tr>\n",
       "    <tr>\n",
       "      <th>1</th>\n",
       "      <td>55204538</td>\n",
       "      <td>delayed because of accident</td>\n",
       "      <td>andreas rönnberg</td>\n",
       "      <td>rock</td>\n",
       "      <td>moscow</td>\n",
       "      <td>14:07:09</td>\n",
       "      <td>friday</td>\n",
       "    </tr>\n",
       "    <tr>\n",
       "      <th>2</th>\n",
       "      <td>20EC38</td>\n",
       "      <td>funiculì funiculà</td>\n",
       "      <td>mario lanza</td>\n",
       "      <td>pop</td>\n",
       "      <td>saint-petersburg</td>\n",
       "      <td>20:58:07</td>\n",
       "      <td>wednesday</td>\n",
       "    </tr>\n",
       "    <tr>\n",
       "      <th>3</th>\n",
       "      <td>A3DD03C9</td>\n",
       "      <td>dragons in the sunset</td>\n",
       "      <td>fire + ice</td>\n",
       "      <td>folk</td>\n",
       "      <td>saint-petersburg</td>\n",
       "      <td>08:37:09</td>\n",
       "      <td>monday</td>\n",
       "    </tr>\n",
       "    <tr>\n",
       "      <th>4</th>\n",
       "      <td>E2DC1FAE</td>\n",
       "      <td>soul people</td>\n",
       "      <td>space echo</td>\n",
       "      <td>dance</td>\n",
       "      <td>moscow</td>\n",
       "      <td>08:34:34</td>\n",
       "      <td>monday</td>\n",
       "    </tr>\n",
       "  </tbody>\n",
       "</table>\n",
       "</div>"
      ],
      "text/plain": [
       "    user_id                        track            artist  genre  \\\n",
       "0  FFB692EC            kamigata to boots  the mass missile   rock   \n",
       "1  55204538  delayed because of accident  andreas rönnberg   rock   \n",
       "2    20EC38            funiculì funiculà       mario lanza    pop   \n",
       "3  A3DD03C9        dragons in the sunset        fire + ice   folk   \n",
       "4  E2DC1FAE                  soul people        space echo  dance   \n",
       "\n",
       "               city      time        day  \n",
       "0  saint-petersburg  20:28:33  wednesday  \n",
       "1            moscow  14:07:09     friday  \n",
       "2  saint-petersburg  20:58:07  wednesday  \n",
       "3  saint-petersburg  08:37:09     monday  \n",
       "4            moscow  08:34:34     monday  "
      ]
     },
     "execution_count": 13,
     "metadata": {},
     "output_type": "execute_result"
    }
   ],
   "source": [
    "# check\n",
    "df.head(5)"
   ]
  },
  {
   "cell_type": "code",
   "execution_count": 14,
   "metadata": {},
   "outputs": [
    {
     "data": {
      "text/plain": [
       "array(['wednesday', 'friday', 'monday'], dtype=object)"
      ]
     },
     "execution_count": 14,
     "metadata": {},
     "output_type": "execute_result"
    }
   ],
   "source": [
    "# unique values in `day` column\n",
    "df['day'].unique()"
   ]
  },
  {
   "cell_type": "code",
   "execution_count": 15,
   "metadata": {},
   "outputs": [
    {
     "data": {
      "text/plain": [
       "array(['saint-petersburg', 'moscow'], dtype=object)"
      ]
     },
     "execution_count": 15,
     "metadata": {},
     "output_type": "execute_result"
    }
   ],
   "source": [
    "# unique values in `city` column\n",
    "df['city'].unique()"
   ]
  },
  {
   "cell_type": "markdown",
   "metadata": {},
   "source": [
    "## Numerical data processing <a id='id24'></a>"
   ]
  },
  {
   "cell_type": "markdown",
   "metadata": {},
   "source": [
    "In this section we'll check min and max time values."
   ]
  },
  {
   "cell_type": "code",
   "execution_count": 16,
   "metadata": {
    "scrolled": true
   },
   "outputs": [
    {
     "name": "stdout",
     "output_type": "stream",
     "text": [
      "Min time: 08:00:00\n",
      "Max time: 22:00:59\n"
     ]
    }
   ],
   "source": [
    "# max and min listening time check\n",
    "print(f'Min time: {df[\"time\"].min()}')\n",
    "print(f'Max time: {df[\"time\"].max()}')"
   ]
  },
  {
   "cell_type": "markdown",
   "metadata": {
    "id": "5ISfbcfY_Zct"
   },
   "source": [
    "## Missing values processing <a id='id26'></a>"
   ]
  },
  {
   "cell_type": "code",
   "execution_count": 17,
   "metadata": {},
   "outputs": [
    {
     "data": {
      "text/html": [
       "<style type=\"text/css\">\n",
       "#T_28ed7_row0_col0, #T_28ed7_row0_col1, #T_28ed7_row4_col0, #T_28ed7_row4_col1, #T_28ed7_row5_col0, #T_28ed7_row5_col1, #T_28ed7_row6_col0, #T_28ed7_row6_col1 {\n",
       "  background-color: #3b4cc0;\n",
       "  color: #f1f1f1;\n",
       "}\n",
       "#T_28ed7_row1_col0, #T_28ed7_row1_col1 {\n",
       "  background-color: #7093f3;\n",
       "  color: #f1f1f1;\n",
       "}\n",
       "#T_28ed7_row2_col0, #T_28ed7_row2_col1 {\n",
       "  background-color: #b40426;\n",
       "  color: #f1f1f1;\n",
       "}\n",
       "#T_28ed7_row3_col0, #T_28ed7_row3_col1 {\n",
       "  background-color: #6f92f3;\n",
       "  color: #f1f1f1;\n",
       "}\n",
       "</style>\n",
       "<table id=\"T_28ed7_\">\n",
       "  <thead>\n",
       "    <tr>\n",
       "      <th class=\"blank level0\" >&nbsp;</th>\n",
       "      <th class=\"col_heading level0 col0\" >missing_values</th>\n",
       "      <th class=\"col_heading level0 col1\" >% of total</th>\n",
       "    </tr>\n",
       "  </thead>\n",
       "  <tbody>\n",
       "    <tr>\n",
       "      <th id=\"T_28ed7_level0_row0\" class=\"row_heading level0 row0\" >user_id</th>\n",
       "      <td id=\"T_28ed7_row0_col0\" class=\"data row0 col0\" >0</td>\n",
       "      <td id=\"T_28ed7_row0_col1\" class=\"data row0 col1\" >0.000000</td>\n",
       "    </tr>\n",
       "    <tr>\n",
       "      <th id=\"T_28ed7_level0_row1\" class=\"row_heading level0 row1\" >track</th>\n",
       "      <td id=\"T_28ed7_row1_col0\" class=\"data row1 col0\" >1231</td>\n",
       "      <td id=\"T_28ed7_row1_col1\" class=\"data row1 col1\" >1.890000</td>\n",
       "    </tr>\n",
       "    <tr>\n",
       "      <th id=\"T_28ed7_level0_row2\" class=\"row_heading level0 row2\" >artist</th>\n",
       "      <td id=\"T_28ed7_row2_col0\" class=\"data row2 col0\" >7203</td>\n",
       "      <td id=\"T_28ed7_row2_col1\" class=\"data row2 col1\" >11.070000</td>\n",
       "    </tr>\n",
       "    <tr>\n",
       "      <th id=\"T_28ed7_level0_row3\" class=\"row_heading level0 row3\" >genre</th>\n",
       "      <td id=\"T_28ed7_row3_col0\" class=\"data row3 col0\" >1198</td>\n",
       "      <td id=\"T_28ed7_row3_col1\" class=\"data row3 col1\" >1.840000</td>\n",
       "    </tr>\n",
       "    <tr>\n",
       "      <th id=\"T_28ed7_level0_row4\" class=\"row_heading level0 row4\" >city</th>\n",
       "      <td id=\"T_28ed7_row4_col0\" class=\"data row4 col0\" >0</td>\n",
       "      <td id=\"T_28ed7_row4_col1\" class=\"data row4 col1\" >0.000000</td>\n",
       "    </tr>\n",
       "    <tr>\n",
       "      <th id=\"T_28ed7_level0_row5\" class=\"row_heading level0 row5\" >time</th>\n",
       "      <td id=\"T_28ed7_row5_col0\" class=\"data row5 col0\" >0</td>\n",
       "      <td id=\"T_28ed7_row5_col1\" class=\"data row5 col1\" >0.000000</td>\n",
       "    </tr>\n",
       "    <tr>\n",
       "      <th id=\"T_28ed7_level0_row6\" class=\"row_heading level0 row6\" >day</th>\n",
       "      <td id=\"T_28ed7_row6_col0\" class=\"data row6 col0\" >0</td>\n",
       "      <td id=\"T_28ed7_row6_col1\" class=\"data row6 col1\" >0.000000</td>\n",
       "    </tr>\n",
       "  </tbody>\n",
       "</table>\n"
      ],
      "text/plain": [
       "<pandas.io.formats.style.Styler at 0x14fe48daa90>"
      ]
     },
     "execution_count": 17,
     "metadata": {},
     "output_type": "execute_result"
    }
   ],
   "source": [
    "# missing values calculation\n",
    "report = df.isna().sum().to_frame()\n",
    "report = report.rename(columns = {0: 'missing_values'})\n",
    "report['% of total'] = (100 * report['missing_values'] / df.shape[0]).round(2)\n",
    "report.sort_values(by = 'missing_values', ascending = False)\n",
    "report.style.background_gradient('coolwarm')"
   ]
  },
  {
   "cell_type": "markdown",
   "metadata": {
    "id": "qubhgnlO_Zct"
   },
   "source": [
    "Not all of the missing values affect the outcomes of analysis. The missing values in `track` and `artist` columns are not important for our research. It will be enough to replace them with common word ('unknown' for example).     \n",
    "The missing values in `genre` column prevent the musical preferences research. The reason should be established and the data should be recovered. But we don't have such option in this project. So we'll fill all of the missing values with 'unknown'."
   ]
  },
  {
   "cell_type": "code",
   "execution_count": 18,
   "metadata": {
    "id": "KplB5qWs_Zct"
   },
   "outputs": [],
   "source": [
    "# missing values replacement\n",
    "columns_to_replace = ['track', 'artist', 'genre']\n",
    "for col in columns_to_replace:\n",
    "    df[col] = df[col].fillna('unknown')  "
   ]
  },
  {
   "cell_type": "code",
   "execution_count": 19,
   "metadata": {
    "id": "Tq4nYRX4_Zct"
   },
   "outputs": [
    {
     "data": {
      "text/html": [
       "<style type=\"text/css\">\n",
       "#T_ee4da_row0_col0, #T_ee4da_row0_col1, #T_ee4da_row1_col0, #T_ee4da_row1_col1, #T_ee4da_row2_col0, #T_ee4da_row2_col1, #T_ee4da_row3_col0, #T_ee4da_row3_col1, #T_ee4da_row4_col0, #T_ee4da_row4_col1, #T_ee4da_row5_col0, #T_ee4da_row5_col1, #T_ee4da_row6_col0, #T_ee4da_row6_col1 {\n",
       "  background-color: #3b4cc0;\n",
       "  color: #f1f1f1;\n",
       "}\n",
       "</style>\n",
       "<table id=\"T_ee4da_\">\n",
       "  <thead>\n",
       "    <tr>\n",
       "      <th class=\"blank level0\" >&nbsp;</th>\n",
       "      <th class=\"col_heading level0 col0\" >missing_values</th>\n",
       "      <th class=\"col_heading level0 col1\" >% of total</th>\n",
       "    </tr>\n",
       "  </thead>\n",
       "  <tbody>\n",
       "    <tr>\n",
       "      <th id=\"T_ee4da_level0_row0\" class=\"row_heading level0 row0\" >user_id</th>\n",
       "      <td id=\"T_ee4da_row0_col0\" class=\"data row0 col0\" >0</td>\n",
       "      <td id=\"T_ee4da_row0_col1\" class=\"data row0 col1\" >0.000000</td>\n",
       "    </tr>\n",
       "    <tr>\n",
       "      <th id=\"T_ee4da_level0_row1\" class=\"row_heading level0 row1\" >track</th>\n",
       "      <td id=\"T_ee4da_row1_col0\" class=\"data row1 col0\" >0</td>\n",
       "      <td id=\"T_ee4da_row1_col1\" class=\"data row1 col1\" >0.000000</td>\n",
       "    </tr>\n",
       "    <tr>\n",
       "      <th id=\"T_ee4da_level0_row2\" class=\"row_heading level0 row2\" >artist</th>\n",
       "      <td id=\"T_ee4da_row2_col0\" class=\"data row2 col0\" >0</td>\n",
       "      <td id=\"T_ee4da_row2_col1\" class=\"data row2 col1\" >0.000000</td>\n",
       "    </tr>\n",
       "    <tr>\n",
       "      <th id=\"T_ee4da_level0_row3\" class=\"row_heading level0 row3\" >genre</th>\n",
       "      <td id=\"T_ee4da_row3_col0\" class=\"data row3 col0\" >0</td>\n",
       "      <td id=\"T_ee4da_row3_col1\" class=\"data row3 col1\" >0.000000</td>\n",
       "    </tr>\n",
       "    <tr>\n",
       "      <th id=\"T_ee4da_level0_row4\" class=\"row_heading level0 row4\" >city</th>\n",
       "      <td id=\"T_ee4da_row4_col0\" class=\"data row4 col0\" >0</td>\n",
       "      <td id=\"T_ee4da_row4_col1\" class=\"data row4 col1\" >0.000000</td>\n",
       "    </tr>\n",
       "    <tr>\n",
       "      <th id=\"T_ee4da_level0_row5\" class=\"row_heading level0 row5\" >time</th>\n",
       "      <td id=\"T_ee4da_row5_col0\" class=\"data row5 col0\" >0</td>\n",
       "      <td id=\"T_ee4da_row5_col1\" class=\"data row5 col1\" >0.000000</td>\n",
       "    </tr>\n",
       "    <tr>\n",
       "      <th id=\"T_ee4da_level0_row6\" class=\"row_heading level0 row6\" >day</th>\n",
       "      <td id=\"T_ee4da_row6_col0\" class=\"data row6 col0\" >0</td>\n",
       "      <td id=\"T_ee4da_row6_col1\" class=\"data row6 col1\" >0.000000</td>\n",
       "    </tr>\n",
       "  </tbody>\n",
       "</table>\n"
      ],
      "text/plain": [
       "<pandas.io.formats.style.Styler at 0x14fe48bfc70>"
      ]
     },
     "execution_count": 19,
     "metadata": {},
     "output_type": "execute_result"
    }
   ],
   "source": [
    "# check\n",
    "report = df.isna().sum().to_frame()s\n",
    "report = report.rename(columns = {0: 'missing_values'})\n",
    "report['% of total'] = (100 * report['missing_values'] / df.shape[0]).round(2)\n",
    "report.sort_values(by = 'missing_values', ascending = False)\n",
    "report.style.background_gradient('coolwarm')"
   ]
  },
  {
   "cell_type": "markdown",
   "metadata": {
    "id": "BWKRtBJ3_Zct"
   },
   "source": [
    "## Duplicates processing <a id='id27'></a>"
   ]
  },
  {
   "cell_type": "markdown",
   "metadata": {},
   "source": [
    "In this section we'll find and remove all duplicates. Also we'll check `genre` column for implicit duplicates (the same name of the same genre can be recorded in some different way). To find this duplicates we'll write a new function that will be count the Levenschtein distance between genre names."
   ]
  },
  {
   "cell_type": "code",
   "execution_count": 20,
   "metadata": {
    "id": "36eES_S0_Zct"
   },
   "outputs": [
    {
     "data": {
      "text/plain": [
       "3826"
      ]
     },
     "execution_count": 20,
     "metadata": {},
     "output_type": "execute_result"
    }
   ],
   "source": [
    "# duplicates calculation\n",
    "df.duplicated().sum()  "
   ]
  },
  {
   "cell_type": "code",
   "execution_count": 21,
   "metadata": {
    "id": "exFHq6tt_Zct"
   },
   "outputs": [],
   "source": [
    "# duplicates deleting\n",
    "df = df.drop_duplicates().reset_index(drop=True)"
   ]
  },
  {
   "cell_type": "code",
   "execution_count": 22,
   "metadata": {
    "id": "-8PuNWQ0_Zct"
   },
   "outputs": [
    {
     "data": {
      "text/plain": [
       "0"
      ]
     },
     "execution_count": 22,
     "metadata": {},
     "output_type": "execute_result"
    }
   ],
   "source": [
    "# check\n",
    "df.duplicated().sum()"
   ]
  },
  {
   "cell_type": "code",
   "execution_count": 23,
   "metadata": {
    "scrolled": false
   },
   "outputs": [
    {
     "data": {
      "text/plain": [
       "array(['acid', 'acoustic', 'action', 'adult', 'africa', 'afrikaans',\n",
       "       'alternative', 'alternativepunk', 'ambient', 'americana',\n",
       "       'animated', 'anime', 'arabesk', 'arabic', 'arena',\n",
       "       'argentinetango', 'art', 'audiobook', 'author', 'avantgarde',\n",
       "       'axé', 'baile', 'balkan', 'beats', 'bigroom', 'black', 'bluegrass',\n",
       "       'blues', 'bollywood', 'bossa', 'brazilian', 'breakbeat', 'breaks',\n",
       "       'broadway', 'cantautori', 'cantopop', 'canzone', 'caribbean',\n",
       "       'caucasian', 'celtic', 'chamber', 'chanson', 'children', 'chill',\n",
       "       'chinese', 'choral', 'christian', 'christmas', 'classical',\n",
       "       'classicmetal', 'club', 'colombian', 'comedy', 'conjazz',\n",
       "       'contemporary', 'country', 'cuban', 'dance', 'dancehall',\n",
       "       'dancepop', 'dark', 'death', 'deep', 'deutschrock', 'deutschspr',\n",
       "       'dirty', 'disco', 'dnb', 'documentary', 'downbeat', 'downtempo',\n",
       "       'drum', 'dub', 'dubstep', 'eastern', 'easy', 'electronic',\n",
       "       'electropop', 'emo', 'entehno', 'epicmetal', 'estrada', 'ethnic',\n",
       "       'eurofolk', 'european', 'experimental', 'extrememetal', 'fado',\n",
       "       'fairytail', 'film', 'fitness', 'flamenco', 'folk', 'folklore',\n",
       "       'folkmetal', 'folkrock', 'folktronica', 'forró', 'frankreich',\n",
       "       'französisch', 'french', 'funk', 'future', 'gangsta', 'garage',\n",
       "       'german', 'ghazal', 'gitarre', 'glitch', 'gospel', 'gothic',\n",
       "       'grime', 'grunge', 'gypsy', 'handsup', \"hard'n'heavy\", 'hardcore',\n",
       "       'hardstyle', 'hardtechno', 'hip', 'hip-hop', 'hiphop',\n",
       "       'historisch', 'holiday', 'hop', 'horror', 'house', 'hymn', 'idm',\n",
       "       'independent', 'indian', 'indie', 'indipop', 'industrial',\n",
       "       'inspirational', 'instrumental', 'international', 'irish', 'jam',\n",
       "       'japanese', 'jazz', 'jewish', 'jpop', 'jungle', 'k-pop',\n",
       "       'karadeniz', 'karaoke', 'kayokyoku', 'korean', 'laiko', 'latin',\n",
       "       'latino', 'leftfield', 'local', 'lounge', 'loungeelectronic',\n",
       "       'lovers', 'malaysian', 'mandopop', 'marschmusik', 'meditative',\n",
       "       'mediterranean', 'melodic', 'metal', 'metalcore', 'mexican',\n",
       "       'middle', 'minimal', 'miscellaneous', 'modern', 'mood', 'mpb',\n",
       "       'muslim', 'native', 'neoklassik', 'neue', 'new', 'newage',\n",
       "       'newwave', 'nu', 'nujazz', 'numetal', 'oceania', 'old', 'opera',\n",
       "       'orchestral', 'other', 'piano', 'podcasts', 'pop', 'popdance',\n",
       "       'popelectronic', 'popeurodance', 'poprussian', 'post',\n",
       "       'posthardcore', 'postrock', 'power', 'progmetal', 'progressive',\n",
       "       'psychedelic', 'punjabi', 'punk', 'quebecois', 'ragga', 'ram',\n",
       "       'rancheras', 'rap', 'rave', 'reggae', 'reggaeton', 'regional',\n",
       "       'relax', 'religious', 'retro', 'rhythm', 'rnb', 'rnr', 'rock',\n",
       "       'rockabilly', 'rockalternative', 'rockindie', 'rockother',\n",
       "       'romance', 'roots', 'ruspop', 'rusrap', 'rusrock', 'russian',\n",
       "       'salsa', 'samba', 'scenic', 'schlager', 'self', 'sertanejo',\n",
       "       'shanson', 'shoegazing', 'showtunes', 'singer', 'ska', 'skarock',\n",
       "       'slow', 'smooth', 'soft', 'soul', 'soulful', 'sound', 'soundtrack',\n",
       "       'southern', 'specialty', 'speech', 'spiritual', 'sport',\n",
       "       'stonerrock', 'surf', 'swing', 'synthpop', 'synthrock',\n",
       "       'sängerportrait', 'tango', 'tanzorchester', 'taraftar', 'tatar',\n",
       "       'tech', 'techno', 'teen', 'thrash', 'top', 'traditional',\n",
       "       'tradjazz', 'trance', 'tribal', 'trip', 'triphop', 'tropical',\n",
       "       'türk', 'türkçe', 'ukrrock', 'unknown', 'urban', 'uzbek',\n",
       "       'variété', 'vi', 'videogame', 'vocal', 'western', 'world',\n",
       "       'worldbeat', 'ïîï', 'электроника'], dtype=object)"
      ]
     },
     "execution_count": 23,
     "metadata": {},
     "output_type": "execute_result"
    }
   ],
   "source": [
    "# unique genres\n",
    "sorted_df = df.sort_values(by='genre')\n",
    "sorted_df['genre'].unique()"
   ]
  },
  {
   "cell_type": "code",
   "execution_count": 24,
   "metadata": {},
   "outputs": [],
   "source": [
    "# similar words search function\n",
    "def similar(df, column):\n",
    "    '''The function takes a dataframe and a column name as an input, selects unique values from the column and returns couples\n",
    "    of words with Levenschtein distance > 75.'''\n",
    "    lst = df[column].dropna().unique().tolist()\n",
    "    for i in range (len(lst) - 1):\n",
    "        for j in range(i, len(lst) - 1):\n",
    "            ratio = fuzz.token_sort_ratio(lst[i], lst[j])\n",
    "            if ratio > 75 and i != j:\n",
    "                print(lst[j], lst[i])"
   ]
  },
  {
   "cell_type": "code",
   "execution_count": 25,
   "metadata": {
    "scrolled": false
   },
   "outputs": [
    {
     "name": "stdout",
     "output_type": "stream",
     "text": [
      "jpop pop\n",
      "dancepop dance\n",
      "popdance dance\n",
      "loungeelectronic electronic\n",
      "popelectronic electronic\n",
      "alternativepunk alternative\n",
      "rockalternative alternative\n",
      "nujazz jazz\n",
      "latino latin\n",
      "classicmetal classical\n",
      "numetal metal\n",
      "reggaeton reggae\n",
      "türkçe türk\n",
      "nujazz conjazz\n",
      "hardcore posthardcore\n",
      "vocal local\n",
      "tech techno\n",
      "entehno techno\n",
      "christian christmas\n",
      "chanson shanson\n",
      "eastern western\n",
      "cuban urban\n",
      "romance trance\n",
      "animated anime\n",
      "poprussian russian\n",
      "other southern\n",
      "hip-hop hiphop\n",
      "triphop hiphop\n",
      "epicmetal experimental\n",
      "inspirational international\n",
      "newwave newage\n",
      "deutschspr deutschrock\n",
      "popdance popeurodance\n",
      "popelectronic loungeelectronic\n"
     ]
    }
   ],
   "source": [
    "# applying the function to the 'genre' column\n",
    "similar(df, 'genre')"
   ]
  },
  {
   "cell_type": "markdown",
   "metadata": {},
   "source": [
    "We've found implicit duplicates. To clear the data from it we'll write one more function."
   ]
  },
  {
   "cell_type": "code",
   "execution_count": 26,
   "metadata": {
    "id": "ErNDkmns_Zct"
   },
   "outputs": [],
   "source": [
    "# duplicates replacing function\n",
    "def replace_wrong_genres(wrong_genres, correct_genre):\n",
    "    '''The function takes incorrect genre names as an input (wrong_genres parameter). Replaces each incorrect value with the value in correct_genre variable.'''\n",
    "    for wrong_genre in wrong_genres:\n",
    "        df['genre'] = df['genre'].replace(wrong_genre, correct_genre)"
   ]
  },
  {
   "cell_type": "code",
   "execution_count": 27,
   "metadata": {
    "id": "YN5i2hpmSo09"
   },
   "outputs": [],
   "source": [
    "# implicit duplicates removing\n",
    "duplicates = ['hip', 'hop', 'hip-hop']\n",
    "right_name = 'hiphop' \n",
    "replace_wrong_genres(duplicates, right_name)"
   ]
  },
  {
   "cell_type": "code",
   "execution_count": 28,
   "metadata": {},
   "outputs": [],
   "source": [
    "# removing other duplicates\n",
    "df['genre'] = df['genre'].replace('электроника', 'electronic')\n",
    "df['genre'] = df['genre'].replace('türkçe', 'türk')\n",
    "df['genre'] = df['genre'].replace('latino', 'latin')\n",
    "df['genre'] = df['genre'].replace('tech', 'techno')\n",
    "df['genre'] = df['genre'].replace('shanson', 'chanson')"
   ]
  },
  {
   "cell_type": "code",
   "execution_count": 29,
   "metadata": {},
   "outputs": [],
   "source": [
    "# removing incorrect genre names\n",
    "df['genre'] = df['genre'].replace('ïîï', 'unknown')"
   ]
  },
  {
   "cell_type": "code",
   "execution_count": 30,
   "metadata": {
    "id": "wvixALnFG15m",
    "scrolled": true
   },
   "outputs": [
    {
     "name": "stdout",
     "output_type": "stream",
     "text": [
      "['acid' 'acoustic' 'action' 'adult' 'africa' 'afrikaans' 'alternative'\n",
      " 'alternativepunk' 'ambient' 'americana' 'animated' 'anime' 'arabesk'\n",
      " 'arabic' 'arena' 'argentinetango' 'art' 'audiobook' 'author' 'avantgarde'\n",
      " 'axé' 'baile' 'balkan' 'beats' 'bigroom' 'black' 'bluegrass' 'blues'\n",
      " 'bollywood' 'bossa' 'brazilian' 'breakbeat' 'breaks' 'broadway'\n",
      " 'cantautori' 'cantopop' 'canzone' 'caribbean' 'caucasian' 'celtic'\n",
      " 'chamber' 'chanson' 'children' 'chill' 'chinese' 'choral' 'christian'\n",
      " 'christmas' 'classical' 'classicmetal' 'club' 'colombian' 'comedy'\n",
      " 'conjazz' 'contemporary' 'country' 'cuban' 'dance' 'dancehall' 'dancepop'\n",
      " 'dark' 'death' 'deep' 'deutschrock' 'deutschspr' 'dirty' 'disco' 'dnb'\n",
      " 'documentary' 'downbeat' 'downtempo' 'drum' 'dub' 'dubstep' 'eastern'\n",
      " 'easy' 'electronic' 'electropop' 'emo' 'entehno' 'epicmetal' 'estrada'\n",
      " 'ethnic' 'eurofolk' 'european' 'experimental' 'extrememetal' 'fado'\n",
      " 'fairytail' 'film' 'fitness' 'flamenco' 'folk' 'folklore' 'folkmetal'\n",
      " 'folkrock' 'folktronica' 'forró' 'frankreich' 'französisch' 'french'\n",
      " 'funk' 'future' 'gangsta' 'garage' 'german' 'ghazal' 'gitarre' 'glitch'\n",
      " 'gospel' 'gothic' 'grime' 'grunge' 'gypsy' 'handsup' \"hard'n'heavy\"\n",
      " 'hardcore' 'hardstyle' 'hardtechno' 'hiphop' 'historisch' 'holiday'\n",
      " 'horror' 'house' 'hymn' 'idm' 'independent' 'indian' 'indie' 'indipop'\n",
      " 'industrial' 'inspirational' 'instrumental' 'international' 'irish' 'jam'\n",
      " 'japanese' 'jazz' 'jewish' 'jpop' 'jungle' 'k-pop' 'karadeniz' 'karaoke'\n",
      " 'kayokyoku' 'korean' 'laiko' 'latin' 'leftfield' 'local' 'lounge'\n",
      " 'loungeelectronic' 'lovers' 'malaysian' 'mandopop' 'marschmusik'\n",
      " 'meditative' 'mediterranean' 'melodic' 'metal' 'metalcore' 'mexican'\n",
      " 'middle' 'minimal' 'miscellaneous' 'modern' 'mood' 'mpb' 'muslim'\n",
      " 'native' 'neoklassik' 'neue' 'new' 'newage' 'newwave' 'nu' 'nujazz'\n",
      " 'numetal' 'oceania' 'old' 'opera' 'orchestral' 'other' 'piano' 'podcasts'\n",
      " 'pop' 'popdance' 'popelectronic' 'popeurodance' 'poprussian' 'post'\n",
      " 'posthardcore' 'postrock' 'power' 'progmetal' 'progressive' 'psychedelic'\n",
      " 'punjabi' 'punk' 'quebecois' 'ragga' 'ram' 'rancheras' 'rap' 'rave'\n",
      " 'reggae' 'reggaeton' 'regional' 'relax' 'religious' 'retro' 'rhythm'\n",
      " 'rnb' 'rnr' 'rock' 'rockabilly' 'rockalternative' 'rockindie' 'rockother'\n",
      " 'romance' 'roots' 'ruspop' 'rusrap' 'rusrock' 'russian' 'salsa' 'samba'\n",
      " 'scenic' 'schlager' 'self' 'sertanejo' 'shoegazing' 'showtunes' 'singer'\n",
      " 'ska' 'skarock' 'slow' 'smooth' 'soft' 'soul' 'soulful' 'sound'\n",
      " 'soundtrack' 'southern' 'specialty' 'speech' 'spiritual' 'sport'\n",
      " 'stonerrock' 'surf' 'swing' 'synthpop' 'synthrock' 'sängerportrait'\n",
      " 'tango' 'tanzorchester' 'taraftar' 'tatar' 'techno' 'teen' 'thrash' 'top'\n",
      " 'traditional' 'tradjazz' 'trance' 'tribal' 'trip' 'triphop' 'tropical'\n",
      " 'türk' 'ukrrock' 'unknown' 'urban' 'uzbek' 'variété' 'vi' 'videogame'\n",
      " 'vocal' 'western' 'world' 'worldbeat']\n",
      "\n",
      "jpop pop\n",
      "dancepop dance\n",
      "popdance dance\n",
      "loungeelectronic electronic\n",
      "popelectronic electronic\n",
      "alternativepunk alternative\n",
      "rockalternative alternative\n",
      "triphop hiphop\n",
      "nujazz jazz\n",
      "classicmetal classical\n",
      "numetal metal\n",
      "reggaeton reggae\n",
      "nujazz conjazz\n",
      "hardcore posthardcore\n",
      "vocal local\n",
      "entehno techno\n",
      "christian christmas\n",
      "eastern western\n",
      "cuban urban\n",
      "romance trance\n",
      "animated anime\n",
      "poprussian russian\n",
      "other southern\n",
      "epicmetal experimental\n",
      "inspirational international\n",
      "newwave newage\n",
      "deutschspr deutschrock\n",
      "popdance popeurodance\n",
      "popelectronic loungeelectronic\n"
     ]
    }
   ],
   "source": [
    "# check\n",
    "sorted_df = df.sort_values(by='genre')\n",
    "print(sorted_df['genre'].unique())\n",
    "print()\n",
    "similar(df, 'genre')"
   ]
  },
  {
   "cell_type": "markdown",
   "metadata": {},
   "source": [
    "## Interim conclusions <a id='id25'></a>   "
   ]
  },
  {
   "cell_type": "markdown",
   "metadata": {
    "id": "jz6a9-7HQUDd"
   },
   "source": [
    "In this section we've:\n",
    "* edited some of the column headings according to the naming conventions in Python;   \n",
    "* found and deleted duplicates;\n",
    "* edited implicit duplicates (lowercase transformartion) in musical genres;\n",
    "* analysed numeric data - min and max values in time column;\n",
    "* found and filled missing values in the data;"
   ]
  },
  {
   "cell_type": "markdown",
   "metadata": {
    "id": "WttZHXH0SqKk"
   },
   "source": [
    "# Exploratory Data Analysis (EDA) <a id='id3'></a>"
   ]
  },
  {
   "cell_type": "markdown",
   "metadata": {
    "id": "Im936VVi_Zcu"
   },
   "source": [
    "## User activity analysis during the week (in terms of cities) <a id='id31'></a>"
   ]
  },
  {
   "cell_type": "markdown",
   "metadata": {
    "id": "nwt_MuaL_Zcu"
   },
   "source": [
    "*Hypothesis: User activity depends on the day of the week. Moreover, in Moscow and St. Petersburg it differs.*    \n",
    "\n",
    "We'll check this hypothesis with Monday's, Wednesday's and Friday's data.\n",
    "\n",
    "Our steps:\n",
    "* we'll split users from Moscow and St.Petersburg;\n",
    "* we'll compare how many tracks each group have listened depending on the day of the week; "
   ]
  },
  {
   "cell_type": "code",
   "execution_count": 31,
   "metadata": {},
   "outputs": [],
   "source": [
    "# listening count function\n",
    "def number_tracks(day, city):  \n",
    "    '''The function takes day of the week and city as an input, then filters dataframe according the specified\n",
    "    values, counts and returns number of unique ID (is equivalent to the listened tracks).'''\n",
    "    track_list = df[df['day'] == day]\n",
    "    track_list = track_list[track_list['city'] == city]\n",
    "    track_list_count = track_list['user_id'].count()\n",
    "    return track_list_count"
   ]
  },
  {
   "cell_type": "markdown",
   "metadata": {},
   "source": [
    "Get data for each city in each of the days."
   ]
  },
  {
   "cell_type": "code",
   "execution_count": 32,
   "metadata": {
    "scrolled": true
   },
   "outputs": [
    {
     "name": "stdout",
     "output_type": "stream",
     "text": [
      "Monday. 15740 tracks listened in Moscow.\n",
      "Monday. 5614 tracks listened in Saint-Petersburg.\n"
     ]
    }
   ],
   "source": [
    "print(f'Monday. {number_tracks(\"monday\", \"moscow\")} tracks listened in Moscow.')\n",
    "print(f'Monday. {number_tracks(\"monday\", \"saint-petersburg\")} tracks listened in Saint-Petersburg.')"
   ]
  },
  {
   "cell_type": "code",
   "execution_count": 33,
   "metadata": {
    "scrolled": true
   },
   "outputs": [
    {
     "name": "stdout",
     "output_type": "stream",
     "text": [
      "Wednesday. 11056 tracks listened in Moscow.\n",
      "Wednesday. 7003 tracks listened in Saint-Petersburg.\n"
     ]
    }
   ],
   "source": [
    "print(f'Wednesday. {number_tracks(\"wednesday\", \"moscow\")} tracks listened in Moscow.')\n",
    "print(f'Wednesday. {number_tracks(\"wednesday\", \"saint-petersburg\")} tracks listened in Saint-Petersburg.')"
   ]
  },
  {
   "cell_type": "code",
   "execution_count": 34,
   "metadata": {},
   "outputs": [
    {
     "name": "stdout",
     "output_type": "stream",
     "text": [
      "Friday. 15945 tracks listened in Moscow.\n",
      "Friday. 5895 tracks listened in Saint-Petersburg.\n"
     ]
    }
   ],
   "source": [
    "print(f'Friday. {number_tracks(\"friday\", \"moscow\")} tracks listened in Moscow.')\n",
    "print(f'Friday. {number_tracks(\"friday\", \"saint-petersburg\")} tracks listened in Saint-Petersburg.')"
   ]
  },
  {
   "cell_type": "markdown",
   "metadata": {
    "id": "dzli3w8o_Zcu"
   },
   "source": [
    "Users from Moscow have listened more tracks than users from St.Petersburg. But it does not mean that Moscow users are more active because Moscow's population is much larger.       \n",
    "On average users are less active on Wednesdays. But the situation may change if we consider each city individually. "
   ]
  },
  {
   "cell_type": "code",
   "execution_count": 35,
   "metadata": {
    "id": "APAcLpOr_Zcu"
   },
   "outputs": [
    {
     "data": {
      "text/html": [
       "<div>\n",
       "<style scoped>\n",
       "    .dataframe tbody tr th:only-of-type {\n",
       "        vertical-align: middle;\n",
       "    }\n",
       "\n",
       "    .dataframe tbody tr th {\n",
       "        vertical-align: top;\n",
       "    }\n",
       "\n",
       "    .dataframe thead th {\n",
       "        text-align: right;\n",
       "    }\n",
       "</style>\n",
       "<table border=\"1\" class=\"dataframe\">\n",
       "  <thead>\n",
       "    <tr style=\"text-align: right;\">\n",
       "      <th></th>\n",
       "      <th>City</th>\n",
       "      <th>Monday</th>\n",
       "      <th>Wednesday</th>\n",
       "      <th>Friday</th>\n",
       "    </tr>\n",
       "  </thead>\n",
       "  <tbody>\n",
       "    <tr>\n",
       "      <th>0</th>\n",
       "      <td>Moscow</td>\n",
       "      <td>15740</td>\n",
       "      <td>11056</td>\n",
       "      <td>15945</td>\n",
       "    </tr>\n",
       "    <tr>\n",
       "      <th>1</th>\n",
       "      <td>Saint-Petersburg</td>\n",
       "      <td>5614</td>\n",
       "      <td>7003</td>\n",
       "      <td>5895</td>\n",
       "    </tr>\n",
       "  </tbody>\n",
       "</table>\n",
       "</div>"
      ],
      "text/plain": [
       "               City  Monday  Wednesday  Friday\n",
       "0            Moscow   15740      11056   15945\n",
       "1  Saint-Petersburg    5614       7003    5895"
      ]
     },
     "metadata": {},
     "output_type": "display_data"
    }
   ],
   "source": [
    "# creating table with results\n",
    "columns = ['City', 'Monday', 'Wednesday', 'Friday']\n",
    "data = [['Moscow', 15740, 11056, 15945], ['Saint-Petersburg', 5614, 7003, 5895]]\n",
    "results = pd.DataFrame(data=data, columns=columns)\n",
    "display(results)"
   ]
  },
  {
   "cell_type": "markdown",
   "metadata": {
    "id": "atZAxtq4_Zcu"
   },
   "source": [
    "## User activity analysis during the day (in terms of cities)  <a id='id32'></a>"
   ]
  },
  {
   "cell_type": "markdown",
   "metadata": {
    "id": "eXrQqXFH_Zcu"
   },
   "source": [
    "*Hypothesis: оn Monday mornings, certain genres prevail in Moscow, while others prevail in St. Petersburg. The same goes for Friday evenings, depending on the city.*\n",
    "\n",
    "For this task we'll split the users from Moscow and St.Petersburg and create a new function that returns top 10 musical genres depending on the day of the week and the time range. Then we'll compare the most popular genres in two cities on Monday mornings and Friday evenings. Also we'll create pie charts based on our results. "
   ]
  },
  {
   "cell_type": "code",
   "execution_count": 36,
   "metadata": {
    "id": "qeaFfM_P_Zcu"
   },
   "outputs": [],
   "source": [
    "# Moscow data\n",
    "moscow_general = df[df['city'] == 'moscow']"
   ]
  },
  {
   "cell_type": "code",
   "execution_count": 37,
   "metadata": {
    "id": "ORaVRKto_Zcu"
   },
   "outputs": [],
   "source": [
    "# Saint-Petersburg data\n",
    "spb_general = df[df['city'] == 'saint-petersburg']"
   ]
  },
  {
   "cell_type": "code",
   "execution_count": 38,
   "metadata": {
    "id": "laJT9BYl_Zcu"
   },
   "outputs": [],
   "source": [
    "# top 10 musical genres function\n",
    "def genre_weekday(table, day, time1, time2):\n",
    "    \"\"\"The function takes the dataframe, a day of thr week and two timestamps (initial and final) as an input. Filters dataframe's rows according to the specified parameters, than groups the data based on musical genres, counts unique user IDs for each genre and returns a dataframe with top 10 most popular genres. \"\"\"\n",
    "    genre_df = table[table['day'] == day]\n",
    "    genre_df = genre_df[genre_df['time'] > time1]\n",
    "    genre_df = genre_df[genre_df['time'] < time2]\n",
    "    genre_df_count = genre_df.groupby('genre')['user_id'].count()\n",
    "    genre_df_sorted = genre_df_count.sort_values(ascending=False)\n",
    "    return genre_df_sorted.head(10).to_frame()"
   ]
  },
  {
   "cell_type": "code",
   "execution_count": 39,
   "metadata": {
    "id": "yz7itPUQ_Zcu",
    "scrolled": false
   },
   "outputs": [
    {
     "data": {
      "text/html": [
       "<div>\n",
       "<style scoped>\n",
       "    .dataframe tbody tr th:only-of-type {\n",
       "        vertical-align: middle;\n",
       "    }\n",
       "\n",
       "    .dataframe tbody tr th {\n",
       "        vertical-align: top;\n",
       "    }\n",
       "\n",
       "    .dataframe thead th {\n",
       "        text-align: right;\n",
       "    }\n",
       "</style>\n",
       "<table border=\"1\" class=\"dataframe\">\n",
       "  <thead>\n",
       "    <tr style=\"text-align: right;\">\n",
       "      <th></th>\n",
       "      <th>user_id</th>\n",
       "    </tr>\n",
       "    <tr>\n",
       "      <th>genre</th>\n",
       "      <th></th>\n",
       "    </tr>\n",
       "  </thead>\n",
       "  <tbody>\n",
       "    <tr>\n",
       "      <th>pop</th>\n",
       "      <td>781</td>\n",
       "    </tr>\n",
       "    <tr>\n",
       "      <th>dance</th>\n",
       "      <td>549</td>\n",
       "    </tr>\n",
       "    <tr>\n",
       "      <th>electronic</th>\n",
       "      <td>480</td>\n",
       "    </tr>\n",
       "    <tr>\n",
       "      <th>rock</th>\n",
       "      <td>474</td>\n",
       "    </tr>\n",
       "    <tr>\n",
       "      <th>hiphop</th>\n",
       "      <td>286</td>\n",
       "    </tr>\n",
       "    <tr>\n",
       "      <th>ruspop</th>\n",
       "      <td>186</td>\n",
       "    </tr>\n",
       "    <tr>\n",
       "      <th>world</th>\n",
       "      <td>181</td>\n",
       "    </tr>\n",
       "    <tr>\n",
       "      <th>rusrap</th>\n",
       "      <td>175</td>\n",
       "    </tr>\n",
       "    <tr>\n",
       "      <th>alternative</th>\n",
       "      <td>164</td>\n",
       "    </tr>\n",
       "    <tr>\n",
       "      <th>unknown</th>\n",
       "      <td>161</td>\n",
       "    </tr>\n",
       "  </tbody>\n",
       "</table>\n",
       "</div>"
      ],
      "text/plain": [
       "             user_id\n",
       "genre               \n",
       "pop              781\n",
       "dance            549\n",
       "electronic       480\n",
       "rock             474\n",
       "hiphop           286\n",
       "ruspop           186\n",
       "world            181\n",
       "rusrap           175\n",
       "alternative      164\n",
       "unknown          161"
      ]
     },
     "execution_count": 39,
     "metadata": {},
     "output_type": "execute_result"
    }
   ],
   "source": [
    "# top 10 genres (Moscow, Monday 7-11 am.)\n",
    "msk_morning = genre_weekday(moscow_general, 'monday', '07:00', '11:00')\n",
    "msk_morning"
   ]
  },
  {
   "cell_type": "code",
   "execution_count": 40,
   "metadata": {},
   "outputs": [
    {
     "name": "stderr",
     "output_type": "stream",
     "text": [
      "No handles with labels found to put in legend.\n"
     ]
    },
    {
     "data": {
      "image/png": "[encoded data removed]",
      "text/plain": [
       "<Figure size 720x720 with 1 Axes>"
      ]
     },
     "metadata": {},
     "output_type": "display_data"
    }
   ],
   "source": [
    "# top 10 genres (Moscow, Monday 7-11 am.) pie chart\n",
    "msk_morning.plot.pie(subplots=True, autopct='%.1f%%', explode = (0.2, 0, 0, 0, 0, 0, 0, 0, 0, 0), labels=None)\n",
    "plt.title('Top 10 music genres (Moscow, Monday mornings)', fontsize=20)\n",
    "plt.legend(title='Genres', fontsize=15, labels=msk_morning.index, bbox_to_anchor=(1, 1), loc=2, borderaxespad=0.)\n",
    "plt.ylabel('');"
   ]
  },
  {
   "cell_type": "code",
   "execution_count": 41,
   "metadata": {
    "id": "kwUcHPdy_Zcu",
    "scrolled": true
   },
   "outputs": [
    {
     "data": {
      "text/html": [
       "<div>\n",
       "<style scoped>\n",
       "    .dataframe tbody tr th:only-of-type {\n",
       "        vertical-align: middle;\n",
       "    }\n",
       "\n",
       "    .dataframe tbody tr th {\n",
       "        vertical-align: top;\n",
       "    }\n",
       "\n",
       "    .dataframe thead th {\n",
       "        text-align: right;\n",
       "    }\n",
       "</style>\n",
       "<table border=\"1\" class=\"dataframe\">\n",
       "  <thead>\n",
       "    <tr style=\"text-align: right;\">\n",
       "      <th></th>\n",
       "      <th>user_id</th>\n",
       "    </tr>\n",
       "    <tr>\n",
       "      <th>genre</th>\n",
       "      <th></th>\n",
       "    </tr>\n",
       "  </thead>\n",
       "  <tbody>\n",
       "    <tr>\n",
       "      <th>pop</th>\n",
       "      <td>218</td>\n",
       "    </tr>\n",
       "    <tr>\n",
       "      <th>dance</th>\n",
       "      <td>182</td>\n",
       "    </tr>\n",
       "    <tr>\n",
       "      <th>rock</th>\n",
       "      <td>162</td>\n",
       "    </tr>\n",
       "    <tr>\n",
       "      <th>electronic</th>\n",
       "      <td>147</td>\n",
       "    </tr>\n",
       "    <tr>\n",
       "      <th>hiphop</th>\n",
       "      <td>80</td>\n",
       "    </tr>\n",
       "    <tr>\n",
       "      <th>ruspop</th>\n",
       "      <td>64</td>\n",
       "    </tr>\n",
       "    <tr>\n",
       "      <th>alternative</th>\n",
       "      <td>58</td>\n",
       "    </tr>\n",
       "    <tr>\n",
       "      <th>rusrap</th>\n",
       "      <td>55</td>\n",
       "    </tr>\n",
       "    <tr>\n",
       "      <th>jazz</th>\n",
       "      <td>44</td>\n",
       "    </tr>\n",
       "    <tr>\n",
       "      <th>classical</th>\n",
       "      <td>40</td>\n",
       "    </tr>\n",
       "  </tbody>\n",
       "</table>\n",
       "</div>"
      ],
      "text/plain": [
       "             user_id\n",
       "genre               \n",
       "pop              218\n",
       "dance            182\n",
       "rock             162\n",
       "electronic       147\n",
       "hiphop            80\n",
       "ruspop            64\n",
       "alternative       58\n",
       "rusrap            55\n",
       "jazz              44\n",
       "classical         40"
      ]
     },
     "execution_count": 41,
     "metadata": {},
     "output_type": "execute_result"
    }
   ],
   "source": [
    "# top 10 genres (St.Petersburg, Monday 7-11 am.)\n",
    "spb_morning = genre_weekday(spb_general, 'monday', '07:00', '11:00')\n",
    "spb_morning"
   ]
  },
  {
   "cell_type": "code",
   "execution_count": 42,
   "metadata": {},
   "outputs": [
    {
     "name": "stderr",
     "output_type": "stream",
     "text": [
      "No handles with labels found to put in legend.\n"
     ]
    },
    {
     "data": {
      "image/png": "[encoded data removed]",
      "text/plain": [
       "<Figure size 720x720 with 1 Axes>"
      ]
     },
     "metadata": {},
     "output_type": "display_data"
    }
   ],
   "source": [
    "# top 10 genres (St.Petersburg, Monday 7-11 am.) pie chart\n",
    "spb_morning.plot.pie(subplots=True, autopct='%.1f%%', explode = (0.2, 0, 0, 0, 0, 0, 0, 0, 0, 0), labels=None)\n",
    "plt.title('Top 10 music genres (St.Petersburg, Monday mornings)', fontsize=20)\n",
    "plt.legend(title='Genres', fontsize=15, labels=spb_morning.index, bbox_to_anchor=(1, 1), loc=2, borderaxespad=0.)\n",
    "plt.ylabel('');"
   ]
  },
  {
   "cell_type": "code",
   "execution_count": 43,
   "metadata": {
    "id": "EzXVRE1o_Zcu",
    "scrolled": true
   },
   "outputs": [
    {
     "data": {
      "text/html": [
       "<div>\n",
       "<style scoped>\n",
       "    .dataframe tbody tr th:only-of-type {\n",
       "        vertical-align: middle;\n",
       "    }\n",
       "\n",
       "    .dataframe tbody tr th {\n",
       "        vertical-align: top;\n",
       "    }\n",
       "\n",
       "    .dataframe thead th {\n",
       "        text-align: right;\n",
       "    }\n",
       "</style>\n",
       "<table border=\"1\" class=\"dataframe\">\n",
       "  <thead>\n",
       "    <tr style=\"text-align: right;\">\n",
       "      <th></th>\n",
       "      <th>user_id</th>\n",
       "    </tr>\n",
       "    <tr>\n",
       "      <th>genre</th>\n",
       "      <th></th>\n",
       "    </tr>\n",
       "  </thead>\n",
       "  <tbody>\n",
       "    <tr>\n",
       "      <th>pop</th>\n",
       "      <td>713</td>\n",
       "    </tr>\n",
       "    <tr>\n",
       "      <th>rock</th>\n",
       "      <td>517</td>\n",
       "    </tr>\n",
       "    <tr>\n",
       "      <th>dance</th>\n",
       "      <td>495</td>\n",
       "    </tr>\n",
       "    <tr>\n",
       "      <th>electronic</th>\n",
       "      <td>482</td>\n",
       "    </tr>\n",
       "    <tr>\n",
       "      <th>hiphop</th>\n",
       "      <td>273</td>\n",
       "    </tr>\n",
       "    <tr>\n",
       "      <th>world</th>\n",
       "      <td>208</td>\n",
       "    </tr>\n",
       "    <tr>\n",
       "      <th>ruspop</th>\n",
       "      <td>170</td>\n",
       "    </tr>\n",
       "    <tr>\n",
       "      <th>alternative</th>\n",
       "      <td>163</td>\n",
       "    </tr>\n",
       "    <tr>\n",
       "      <th>classical</th>\n",
       "      <td>163</td>\n",
       "    </tr>\n",
       "    <tr>\n",
       "      <th>rusrap</th>\n",
       "      <td>142</td>\n",
       "    </tr>\n",
       "  </tbody>\n",
       "</table>\n",
       "</div>"
      ],
      "text/plain": [
       "             user_id\n",
       "genre               \n",
       "pop              713\n",
       "rock             517\n",
       "dance            495\n",
       "electronic       482\n",
       "hiphop           273\n",
       "world            208\n",
       "ruspop           170\n",
       "alternative      163\n",
       "classical        163\n",
       "rusrap           142"
      ]
     },
     "execution_count": 43,
     "metadata": {},
     "output_type": "execute_result"
    }
   ],
   "source": [
    "# top 10 genres (Moscow, Friday 5-11 pm.)\n",
    "msk_evenings = genre_weekday(moscow_general, 'friday', '17:00', '23:00')\n",
    "msk_evenings"
   ]
  },
  {
   "cell_type": "code",
   "execution_count": 44,
   "metadata": {},
   "outputs": [
    {
     "name": "stderr",
     "output_type": "stream",
     "text": [
      "No handles with labels found to put in legend.\n"
     ]
    },
    {
     "data": {
      "image/png": "[encoded data removed]",
      "text/plain": [
       "<Figure size 720x720 with 1 Axes>"
      ]
     },
     "metadata": {},
     "output_type": "display_data"
    }
   ],
   "source": [
    "# top 10 genres (Moscow, Friday 5-11 pm.) pie chart\n",
    "msk_evenings.plot.pie(subplots=True, autopct='%.1f%%', explode = (0.2, 0, 0, 0, 0, 0, 0, 0, 0, 0), labels=None)\n",
    "plt.title('Top 10 music genres (Moscow, Friday evenings)', fontsize=20)\n",
    "plt.legend(title='Genres', fontsize=15, labels=msk_evenings.index, bbox_to_anchor=(1, 1), loc=2, borderaxespad=0.)\n",
    "plt.ylabel('');"
   ]
  },
  {
   "cell_type": "code",
   "execution_count": 45,
   "metadata": {
    "id": "JZaEKu5v_Zcu",
    "scrolled": true
   },
   "outputs": [
    {
     "data": {
      "text/html": [
       "<div>\n",
       "<style scoped>\n",
       "    .dataframe tbody tr th:only-of-type {\n",
       "        vertical-align: middle;\n",
       "    }\n",
       "\n",
       "    .dataframe tbody tr th {\n",
       "        vertical-align: top;\n",
       "    }\n",
       "\n",
       "    .dataframe thead th {\n",
       "        text-align: right;\n",
       "    }\n",
       "</style>\n",
       "<table border=\"1\" class=\"dataframe\">\n",
       "  <thead>\n",
       "    <tr style=\"text-align: right;\">\n",
       "      <th></th>\n",
       "      <th>user_id</th>\n",
       "    </tr>\n",
       "    <tr>\n",
       "      <th>genre</th>\n",
       "      <th></th>\n",
       "    </tr>\n",
       "  </thead>\n",
       "  <tbody>\n",
       "    <tr>\n",
       "      <th>pop</th>\n",
       "      <td>256</td>\n",
       "    </tr>\n",
       "    <tr>\n",
       "      <th>rock</th>\n",
       "      <td>216</td>\n",
       "    </tr>\n",
       "    <tr>\n",
       "      <th>electronic</th>\n",
       "      <td>216</td>\n",
       "    </tr>\n",
       "    <tr>\n",
       "      <th>dance</th>\n",
       "      <td>210</td>\n",
       "    </tr>\n",
       "    <tr>\n",
       "      <th>hiphop</th>\n",
       "      <td>97</td>\n",
       "    </tr>\n",
       "    <tr>\n",
       "      <th>alternative</th>\n",
       "      <td>63</td>\n",
       "    </tr>\n",
       "    <tr>\n",
       "      <th>jazz</th>\n",
       "      <td>61</td>\n",
       "    </tr>\n",
       "    <tr>\n",
       "      <th>classical</th>\n",
       "      <td>60</td>\n",
       "    </tr>\n",
       "    <tr>\n",
       "      <th>rusrap</th>\n",
       "      <td>59</td>\n",
       "    </tr>\n",
       "    <tr>\n",
       "      <th>world</th>\n",
       "      <td>54</td>\n",
       "    </tr>\n",
       "  </tbody>\n",
       "</table>\n",
       "</div>"
      ],
      "text/plain": [
       "             user_id\n",
       "genre               \n",
       "pop              256\n",
       "rock             216\n",
       "electronic       216\n",
       "dance            210\n",
       "hiphop            97\n",
       "alternative       63\n",
       "jazz              61\n",
       "classical         60\n",
       "rusrap            59\n",
       "world             54"
      ]
     },
     "execution_count": 45,
     "metadata": {},
     "output_type": "execute_result"
    }
   ],
   "source": [
    "# top 10 genres (St.Petersburg, Friday 5-11 pm.)\n",
    "spb_evenings = genre_weekday(spb_general, 'friday', '17:00', '23:00')\n",
    "spb_evenings"
   ]
  },
  {
   "cell_type": "code",
   "execution_count": 46,
   "metadata": {},
   "outputs": [
    {
     "name": "stderr",
     "output_type": "stream",
     "text": [
      "No handles with labels found to put in legend.\n"
     ]
    },
    {
     "data": {
      "image/png": "[encoded data removed]",
      "text/plain": [
       "<Figure size 720x720 with 1 Axes>"
      ]
     },
     "metadata": {},
     "output_type": "display_data"
    }
   ],
   "source": [
    "# top 10 genres (St.Petersburg, Friday 5-11 pm.) pie chart\n",
    "spb_evenings.plot.pie(subplots=True, autopct='%.1f%%', explode = (0.2, 0, 0, 0, 0, 0, 0, 0, 0, 0), labels=None)\n",
    "plt.title('Top 10 music genres (St.Petersburg, Friday evenings)', fontsize=20)\n",
    "plt.legend(title='Genres', fontsize=15, labels=spb_evenings.index, bbox_to_anchor=(1, 1), loc=2, borderaxespad=0.)\n",
    "plt.ylabel('');"
   ]
  },
  {
   "cell_type": "markdown",
   "metadata": {
    "id": "JolODAqr_Zcu"
   },
   "source": [
    "## Preferred genres analysis (in terms of cities) <a id='id34'></a>"
   ]
  },
  {
   "cell_type": "markdown",
   "metadata": {
    "id": "DlegSvaT_Zcu"
   },
   "source": [
    "*Hypothesis: people in Moscow and St. Petersburg prefer different genres: pop music is popular in Moskow, in St. Petersburg - Russian rap.*\n",
    "\n",
    "We'll group our data on musical genres and count listened tracks (based on unique ID) for each genre (method `count`). Then we'll sort the result in descending order and save it in two variables - `moscow_genres` и `spb_genres`."
   ]
  },
  {
   "cell_type": "code",
   "execution_count": 47,
   "metadata": {
    "id": "r19lIPke_Zcu",
    "scrolled": true
   },
   "outputs": [
    {
     "data": {
      "text/html": [
       "<div>\n",
       "<style scoped>\n",
       "    .dataframe tbody tr th:only-of-type {\n",
       "        vertical-align: middle;\n",
       "    }\n",
       "\n",
       "    .dataframe tbody tr th {\n",
       "        vertical-align: top;\n",
       "    }\n",
       "\n",
       "    .dataframe thead th {\n",
       "        text-align: right;\n",
       "    }\n",
       "</style>\n",
       "<table border=\"1\" class=\"dataframe\">\n",
       "  <thead>\n",
       "    <tr style=\"text-align: right;\">\n",
       "      <th></th>\n",
       "      <th>genre</th>\n",
       "    </tr>\n",
       "    <tr>\n",
       "      <th>genre</th>\n",
       "      <th></th>\n",
       "    </tr>\n",
       "  </thead>\n",
       "  <tbody>\n",
       "    <tr>\n",
       "      <th>pop</th>\n",
       "      <td>5892</td>\n",
       "    </tr>\n",
       "    <tr>\n",
       "      <th>dance</th>\n",
       "      <td>4435</td>\n",
       "    </tr>\n",
       "    <tr>\n",
       "      <th>rock</th>\n",
       "      <td>3965</td>\n",
       "    </tr>\n",
       "    <tr>\n",
       "      <th>electronic</th>\n",
       "      <td>3786</td>\n",
       "    </tr>\n",
       "    <tr>\n",
       "      <th>hiphop</th>\n",
       "      <td>2096</td>\n",
       "    </tr>\n",
       "    <tr>\n",
       "      <th>classical</th>\n",
       "      <td>1616</td>\n",
       "    </tr>\n",
       "    <tr>\n",
       "      <th>world</th>\n",
       "      <td>1432</td>\n",
       "    </tr>\n",
       "    <tr>\n",
       "      <th>alternative</th>\n",
       "      <td>1379</td>\n",
       "    </tr>\n",
       "    <tr>\n",
       "      <th>ruspop</th>\n",
       "      <td>1372</td>\n",
       "    </tr>\n",
       "    <tr>\n",
       "      <th>rusrap</th>\n",
       "      <td>1161</td>\n",
       "    </tr>\n",
       "  </tbody>\n",
       "</table>\n",
       "</div>"
      ],
      "text/plain": [
       "             genre\n",
       "genre             \n",
       "pop           5892\n",
       "dance         4435\n",
       "rock          3965\n",
       "electronic    3786\n",
       "hiphop        2096\n",
       "classical     1616\n",
       "world         1432\n",
       "alternative   1379\n",
       "ruspop        1372\n",
       "rusrap        1161"
      ]
     },
     "execution_count": 47,
     "metadata": {},
     "output_type": "execute_result"
    }
   ],
   "source": [
    "# the most popular genres in Moscow\n",
    "moscow_genres = moscow_general.groupby('genre')['genre'].count().sort_values(ascending=False).head(10).to_frame()\n",
    "moscow_genres"
   ]
  },
  {
   "cell_type": "code",
   "execution_count": 48,
   "metadata": {
    "scrolled": false
   },
   "outputs": [
    {
     "name": "stderr",
     "output_type": "stream",
     "text": [
      "No handles with labels found to put in legend.\n"
     ]
    },
    {
     "data": {
      "image/png": "[encoded data removed]",
      "text/plain": [
       "<Figure size 720x720 with 1 Axes>"
      ]
     },
     "metadata": {},
     "output_type": "display_data"
    }
   ],
   "source": [
    "# the most popular genres in Moscow pie chart\n",
    "moscow_genres.plot.pie(subplots=True, autopct='%.1f%%',  explode = (0.2, 0, 0, 0, 0, 0, 0, 0, 0, 0), labels=None)\n",
    "plt.title('Top 10 Moscow genres', fontsize=20)\n",
    "plt.legend(title='Genres', fontsize=15, labels=moscow_genres.index, bbox_to_anchor=(1, 1), loc=2, borderaxespad=0.)\n",
    "plt.ylabel('')\n",
    "plt.show();"
   ]
  },
  {
   "cell_type": "code",
   "execution_count": 49,
   "metadata": {
    "id": "gluLIpE7_Zcv"
   },
   "outputs": [
    {
     "data": {
      "text/html": [
       "<div>\n",
       "<style scoped>\n",
       "    .dataframe tbody tr th:only-of-type {\n",
       "        vertical-align: middle;\n",
       "    }\n",
       "\n",
       "    .dataframe tbody tr th {\n",
       "        vertical-align: top;\n",
       "    }\n",
       "\n",
       "    .dataframe thead th {\n",
       "        text-align: right;\n",
       "    }\n",
       "</style>\n",
       "<table border=\"1\" class=\"dataframe\">\n",
       "  <thead>\n",
       "    <tr style=\"text-align: right;\">\n",
       "      <th></th>\n",
       "      <th>genre</th>\n",
       "    </tr>\n",
       "    <tr>\n",
       "      <th>genre</th>\n",
       "      <th></th>\n",
       "    </tr>\n",
       "  </thead>\n",
       "  <tbody>\n",
       "    <tr>\n",
       "      <th>pop</th>\n",
       "      <td>2431</td>\n",
       "    </tr>\n",
       "    <tr>\n",
       "      <th>dance</th>\n",
       "      <td>1932</td>\n",
       "    </tr>\n",
       "    <tr>\n",
       "      <th>rock</th>\n",
       "      <td>1879</td>\n",
       "    </tr>\n",
       "    <tr>\n",
       "      <th>electronic</th>\n",
       "      <td>1737</td>\n",
       "    </tr>\n",
       "    <tr>\n",
       "      <th>hiphop</th>\n",
       "      <td>960</td>\n",
       "    </tr>\n",
       "    <tr>\n",
       "      <th>alternative</th>\n",
       "      <td>649</td>\n",
       "    </tr>\n",
       "    <tr>\n",
       "      <th>classical</th>\n",
       "      <td>646</td>\n",
       "    </tr>\n",
       "    <tr>\n",
       "      <th>rusrap</th>\n",
       "      <td>564</td>\n",
       "    </tr>\n",
       "    <tr>\n",
       "      <th>ruspop</th>\n",
       "      <td>538</td>\n",
       "    </tr>\n",
       "    <tr>\n",
       "      <th>world</th>\n",
       "      <td>515</td>\n",
       "    </tr>\n",
       "  </tbody>\n",
       "</table>\n",
       "</div>"
      ],
      "text/plain": [
       "             genre\n",
       "genre             \n",
       "pop           2431\n",
       "dance         1932\n",
       "rock          1879\n",
       "electronic    1737\n",
       "hiphop         960\n",
       "alternative    649\n",
       "classical      646\n",
       "rusrap         564\n",
       "ruspop         538\n",
       "world          515"
      ]
     },
     "execution_count": 49,
     "metadata": {},
     "output_type": "execute_result"
    }
   ],
   "source": [
    "# the most popular genres in St.Petersburg\n",
    "spb_genres = spb_general.groupby('genre')['genre'].count().sort_values(ascending=False).head(10).to_frame()\n",
    "spb_genres"
   ]
  },
  {
   "cell_type": "code",
   "execution_count": 50,
   "metadata": {},
   "outputs": [
    {
     "name": "stderr",
     "output_type": "stream",
     "text": [
      "No handles with labels found to put in legend.\n"
     ]
    },
    {
     "data": {
      "image/png": "[encoded data removed]",
      "text/plain": [
       "<Figure size 720x720 with 1 Axes>"
      ]
     },
     "metadata": {},
     "output_type": "display_data"
    }
   ],
   "source": [
    "# the most popular genres in St.Petersburg pie chart\n",
    "spb_genres.plot.pie(subplots=True, autopct='%.1f%%',  explode = (0.2, 0, 0, 0, 0, 0, 0, 0, 0, 0), labels=None)\n",
    "plt.title('Top 10 St.Petersburg genres', fontsize=20)\n",
    "plt.legend(title='Genres', fontsize=15, labels=spb_genres.index, bbox_to_anchor=(1, 1), loc=2, borderaxespad=0.)\n",
    "plt.ylabel('')\n",
    "plt.show();"
   ]
  },
  {
   "cell_type": "markdown",
   "metadata": {
    "id": "RY51YJYu_Zcv"
   },
   "source": [
    "##  Interim conclusions <a id='id33'></a> "
   ]
  },
  {
   "cell_type": "markdown",
   "metadata": {
    "id": "nVhnJEm__Zcv"
   },
   "source": [
    "### User activity depends on the day of the week (in terms of cities).\n",
    "\n",
    "The data shows the difference in users' preferences:\n",
    "\n",
    "- Users from Moscow are more active on Mondays and Fridays, on Wednesdays activity is lower.\n",
    "- In St.Petersburg, on the contrary, users are more active on Wednesdays. Mondays and Fridays activity is a little bit lower than in Wednesdays.\n",
    "\n",
    "So our data proves the first hypothesis.\n",
    "______________________________\n",
    "\n",
    "### Genres on Monday mornings and Friday evenings differ (in terms of cities).\n",
    "\n",
    "* Users' preferences in Moscow and St.Petersburg are similar. The only difference appears in Moscow rating - 'world' genre, and in St.Petersburg - jazz and classical music. \n",
    "* There are many missing values in Moscow records - `unknown` value takes 10th place in top 10 genres. So the missing values represent a significant share in the data and threaten the credibility of the research.\n",
    "* Friday evenings does not change the situation. Listening of some genres rises, others go down, but top 10 stays the same in general.\n",
    "\n",
    "Thus, the second hypothesis was verified partially:\n",
    "* Users listen similar music at the beginning and at the end of the week.\n",
    "* The difference between Moscow and St. Petersburg is not distinct. In Moscow russian pop music is more popular, in St. Petersburg - jazz.\n",
    "\n",
    "However, the missing values in the data call into the question this result. There are so many missing records in Moscow data that the top 10 ranking may have looked different in case we have full data.\n",
    "\n",
    "_____________________________\n",
    "\n",
    "### People in Moscow and St. Petersburg prefer different genres.\n",
    "\n",
    "The third hypothesis was verified partially:\n",
    "* Pop music is the most popular genre in Moscow as we've suggested. Moreover, in top 10 there is a similar genre - russian pop music.\n",
    "* Contrary to our expectations, rap is popular in Moscow and St. Petersburg equally.\n"
   ]
  },
  {
   "cell_type": "markdown",
   "metadata": {
    "id": "ykKQ0N65_Zcv"
   },
   "source": [
    "# General conclusion <a id='id7'></a> "
   ]
  },
  {
   "cell_type": "markdown",
   "metadata": {
    "id": "tjUwbHb3_Zcv"
   },
   "source": [
    "<div style=\"border:solid green 2px; padding: 20px\">\n",
    "    \n",
    "In this project we we've worked as data analysts of Yandex Music platform. We've compared musical preferences of users in two megapolices - Moscow and St. Petersburg. Our data was provided by Yandex Music platform. It consists of user IDs and tracks they listened in Monday, Wednesday and Friday from 8:00 am. to 10:00 pm.\n",
    "    \n",
    "**The main points in data preprocessing:**\n",
    "* editing some of the column headings according to the naming conventions in Python;\n",
    "* search and deleting duplicates;\n",
    "* search and editing implicit duplicates (lowercase transformartion) in musical genres;\n",
    "* numeric data analysis;\n",
    "* search and filling missing values.\n",
    "    \n",
    "We should note that the number of the missing values in `genre` column is 11.07%, which affects the results of the analysis (these records were filled in by 'unknown' value as it's not possible to restore the actual value).\n",
    "    \n",
    "**The first hypothesis check:**\n",
    "    \n",
    "*User activity depends on the day of the week. Moreover, in Moscow and St. Petersburg it differs.*\n",
    "    \n",
    "The data shows the difference in users' preferences:\n",
    "\n",
    "* users from Moscow are more active on Mondays and Fridays;\n",
    "* in St.Petersburg users are more active on Wednesdays.\n",
    "\n",
    "The first hypothesis was proved.\n",
    "    \n",
    "**The second hypothesis check:**\n",
    "    \n",
    "*On Monday mornings, certain genres prevail in Moscow, while others prevail in St. Petersburg. The same goes for Friday evenings, depending on the city.*\n",
    "\n",
    "* users listen similar music at the beginning and at the end of the week;\n",
    "* in Moscow top rating appears 'world' genre, and in St.Petersburg - jazz and classical music;\n",
    "* the missing values in Moscow data call into the question the results (11.07% of total);\n",
    "* the difference between Moscow and St. Petersburg is not distinct.\n",
    "\n",
    "The second hypothesis was verified partially.\n",
    "    \n",
    "**The third hypothesis check:**\n",
    "    \n",
    "*Hypothesis: people in Moscow and St. Petersburg prefer different genres: pop music is popular in Moscow, in St. Petersburg - Russian rap.*\n",
    "    \n",
    "* pop music is the most popular genre in Moscow;\n",
    "* in top 10 Moscow genres there is a similar genre - russian pop music;\n",
    "* rap genre is popular in Moscow and St. Petersburg equally.\n",
    "    \n",
    "The third hypothesis was verified partially.\n",
    "\n",
    "However, it should be remembered that it is not possible to draw a final conclusion according to the data from only one service."
   ]
  },
  {
   "cell_type": "code",
   "execution_count": null,
   "metadata": {},
   "outputs": [],
   "source": []
  }
 ],
 "metadata": {
  "ExecuteTimeLog": [
   {
    "duration": 10,
    "start_time": "2021-11-18T14:29:22.920Z"
   },
   {
    "duration": 23,
    "start_time": "2021-11-18T14:29:34.237Z"
   },
   {
    "duration": 6,
    "start_time": "2021-11-18T15:16:32.674Z"
   },
   {
    "duration": 43,
    "start_time": "2021-11-18T15:21:21.564Z"
   },
   {
    "duration": 4,
    "start_time": "2021-11-18T15:21:36.924Z"
   },
   {
    "duration": 33,
    "start_time": "2021-11-18T16:24:13.451Z"
   },
   {
    "duration": 24,
    "start_time": "2021-11-18T16:24:23.779Z"
   },
   {
    "duration": 22,
    "start_time": "2021-11-18T16:24:59.702Z"
   },
   {
    "duration": -749,
    "start_time": "2021-11-18T16:29:40.751Z"
   },
   {
    "duration": 10463,
    "start_time": "2021-11-18T16:29:41.316Z"
   },
   {
    "duration": 19,
    "start_time": "2021-11-18T16:31:03.720Z"
   },
   {
    "duration": 18,
    "start_time": "2021-11-18T16:31:11.048Z"
   },
   {
    "duration": 22,
    "start_time": "2021-11-18T16:31:28.296Z"
   },
   {
    "duration": 55,
    "start_time": "2021-11-18T16:43:55.803Z"
   },
   {
    "duration": 479,
    "start_time": "2021-11-18T16:44:55.688Z"
   },
   {
    "duration": 71,
    "start_time": "2021-11-18T16:45:01.598Z"
   },
   {
    "duration": 51,
    "start_time": "2021-11-18T16:45:11.392Z"
   },
   {
    "duration": 386,
    "start_time": "2021-11-18T16:47:00.775Z"
   },
   {
    "duration": 354,
    "start_time": "2021-11-18T16:48:07.953Z"
   },
   {
    "duration": 19,
    "start_time": "2021-11-18T16:48:59.748Z"
   },
   {
    "duration": 387,
    "start_time": "2021-11-18T16:49:08.037Z"
   },
   {
    "duration": 428,
    "start_time": "2021-11-18T16:49:29.334Z"
   },
   {
    "duration": 368,
    "start_time": "2021-11-18T16:51:19.596Z"
   },
   {
    "duration": 54,
    "start_time": "2021-11-18T16:51:39.845Z"
   },
   {
    "duration": 517,
    "start_time": "2021-11-18T16:51:55.875Z"
   },
   {
    "duration": 72,
    "start_time": "2021-11-18T16:52:25.175Z"
   },
   {
    "duration": 92,
    "start_time": "2021-11-18T16:53:35.683Z"
   },
   {
    "duration": 53,
    "start_time": "2021-11-18T16:54:06.917Z"
   },
   {
    "duration": 3,
    "start_time": "2021-11-18T17:22:54.021Z"
   },
   {
    "duration": 10,
    "start_time": "2021-11-18T17:25:04.142Z"
   },
   {
    "duration": 51,
    "start_time": "2021-11-18T17:25:20.694Z"
   },
   {
    "duration": 9,
    "start_time": "2021-11-18T17:37:11.085Z"
   },
   {
    "duration": 7,
    "start_time": "2021-11-18T17:37:12.110Z"
   },
   {
    "duration": 52,
    "start_time": "2021-11-18T17:40:59.258Z"
   },
   {
    "duration": 11,
    "start_time": "2021-11-18T17:48:18.100Z"
   },
   {
    "duration": 31,
    "start_time": "2021-11-18T17:52:06.745Z"
   },
   {
    "duration": 11,
    "start_time": "2021-11-18T17:52:24.978Z"
   },
   {
    "duration": 4,
    "start_time": "2021-11-18T18:00:38.527Z"
   },
   {
    "duration": 4,
    "start_time": "2021-11-18T18:03:41.319Z"
   },
   {
    "duration": 4,
    "start_time": "2021-11-18T18:05:36.476Z"
   },
   {
    "duration": 352,
    "start_time": "2021-11-18T18:06:38.153Z"
   },
   {
    "duration": 24,
    "start_time": "2021-11-18T18:06:47.618Z"
   },
   {
    "duration": 16,
    "start_time": "2021-11-18T18:07:04.771Z"
   },
   {
    "duration": 23,
    "start_time": "2021-11-18T18:07:12.154Z"
   },
   {
    "duration": 22,
    "start_time": "2021-11-18T18:07:21.811Z"
   },
   {
    "duration": 22,
    "start_time": "2021-11-18T18:07:40.972Z"
   },
   {
    "duration": 27,
    "start_time": "2021-11-18T18:08:02.149Z"
   },
   {
    "duration": 23,
    "start_time": "2021-11-18T18:08:17.120Z"
   },
   {
    "duration": 44,
    "start_time": "2021-11-18T18:09:00.553Z"
   },
   {
    "duration": 3,
    "start_time": "2021-11-18T18:11:59.872Z"
   },
   {
    "duration": 19,
    "start_time": "2021-11-18T18:12:01.935Z"
   },
   {
    "duration": 16,
    "start_time": "2021-11-18T18:12:03.456Z"
   },
   {
    "duration": 17,
    "start_time": "2021-11-18T18:12:04.489Z"
   },
   {
    "duration": 18,
    "start_time": "2021-11-18T18:12:07.840Z"
   },
   {
    "duration": 17,
    "start_time": "2021-11-18T18:12:08.489Z"
   },
   {
    "duration": 16,
    "start_time": "2021-11-18T18:12:09.095Z"
   },
   {
    "duration": 19,
    "start_time": "2021-11-18T18:12:39.826Z"
   },
   {
    "duration": 24,
    "start_time": "2021-11-18T18:12:40.858Z"
   },
   {
    "duration": 27,
    "start_time": "2021-11-18T18:12:41.409Z"
   },
   {
    "duration": 373,
    "start_time": "2021-11-18T18:16:34.966Z"
   },
   {
    "duration": 378,
    "start_time": "2021-11-18T18:19:59.286Z"
   },
   {
    "duration": 794,
    "start_time": "2021-11-18T18:20:29.632Z"
   },
   {
    "duration": 770,
    "start_time": "2021-11-18T18:20:57.737Z"
   },
   {
    "duration": 4,
    "start_time": "2021-11-18T18:21:11.546Z"
   },
   {
    "duration": 4,
    "start_time": "2021-11-18T18:21:14.410Z"
   },
   {
    "duration": 16,
    "start_time": "2021-11-18T18:21:26.210Z"
   },
   {
    "duration": 393,
    "start_time": "2021-11-18T18:21:39.873Z"
   },
   {
    "duration": 1678,
    "start_time": "2021-11-18T18:22:31.159Z"
   },
   {
    "duration": 1607,
    "start_time": "2021-11-18T18:22:50.429Z"
   },
   {
    "duration": 371,
    "start_time": "2021-11-18T18:23:08.791Z"
   },
   {
    "duration": 390,
    "start_time": "2021-11-18T18:23:29.026Z"
   },
   {
    "duration": 1468,
    "start_time": "2021-11-18T18:23:49.850Z"
   },
   {
    "duration": 373,
    "start_time": "2021-11-18T18:24:07.466Z"
   },
   {
    "duration": 686,
    "start_time": "2021-11-18T18:24:17.396Z"
   },
   {
    "duration": 10,
    "start_time": "2021-11-18T18:24:31.035Z"
   },
   {
    "duration": 9,
    "start_time": "2021-11-18T18:25:10.082Z"
   },
   {
    "duration": 11,
    "start_time": "2021-11-18T18:26:39.209Z"
   },
   {
    "duration": 19,
    "start_time": "2021-11-18T18:26:53.019Z"
   },
   {
    "duration": 8,
    "start_time": "2021-11-18T18:28:01.692Z"
   },
   {
    "duration": 9,
    "start_time": "2021-11-18T18:28:03.876Z"
   },
   {
    "duration": 12,
    "start_time": "2021-11-18T18:28:53.705Z"
   },
   {
    "duration": 797,
    "start_time": "2021-11-18T18:28:56.311Z"
   },
   {
    "duration": 511,
    "start_time": "2021-11-18T18:29:12.136Z"
   },
   {
    "duration": 625,
    "start_time": "2021-11-18T18:29:18.199Z"
   },
   {
    "duration": 10,
    "start_time": "2021-11-18T18:29:45.033Z"
   },
   {
    "duration": 9,
    "start_time": "2021-11-18T18:29:47.065Z"
   },
   {
    "duration": 9,
    "start_time": "2021-11-18T18:29:49.913Z"
   },
   {
    "duration": 886,
    "start_time": "2021-11-18T18:30:23.731Z"
   },
   {
    "duration": 525,
    "start_time": "2021-11-18T18:30:36.907Z"
   },
   {
    "duration": 11,
    "start_time": "2021-11-18T18:30:51.052Z"
   },
   {
    "duration": 10,
    "start_time": "2021-11-18T18:32:49.778Z"
   },
   {
    "duration": 9,
    "start_time": "2021-11-18T18:32:52.371Z"
   },
   {
    "duration": 410,
    "start_time": "2021-11-19T12:26:19.541Z"
   },
   {
    "duration": 355,
    "start_time": "2021-11-19T12:26:33.506Z"
   },
   {
    "duration": 971,
    "start_time": "2021-11-19T12:26:59.548Z"
   },
   {
    "duration": 278,
    "start_time": "2021-11-19T12:27:00.523Z"
   },
   {
    "duration": 40,
    "start_time": "2021-11-19T12:27:00.805Z"
   },
   {
    "duration": 64,
    "start_time": "2021-11-19T12:27:00.849Z"
   },
   {
    "duration": 36,
    "start_time": "2021-11-19T12:27:00.916Z"
   },
   {
    "duration": 40,
    "start_time": "2021-11-19T12:27:00.954Z"
   },
   {
    "duration": 17,
    "start_time": "2021-11-19T12:27:00.997Z"
   },
   {
    "duration": 46,
    "start_time": "2021-11-19T12:27:01.018Z"
   },
   {
    "duration": 36,
    "start_time": "2021-11-19T12:27:01.067Z"
   },
   {
    "duration": 44,
    "start_time": "2021-11-19T12:27:01.105Z"
   },
   {
    "duration": 93,
    "start_time": "2021-11-19T12:27:01.152Z"
   },
   {
    "duration": 125,
    "start_time": "2021-11-19T12:27:01.247Z"
   },
   {
    "duration": 85,
    "start_time": "2021-11-19T12:27:01.374Z"
   },
   {
    "duration": 89,
    "start_time": "2021-11-19T12:27:01.462Z"
   },
   {
    "duration": 5,
    "start_time": "2021-11-19T12:27:01.554Z"
   },
   {
    "duration": 32,
    "start_time": "2021-11-19T12:27:01.562Z"
   },
   {
    "duration": 23,
    "start_time": "2021-11-19T12:27:01.597Z"
   },
   {
    "duration": 14,
    "start_time": "2021-11-19T12:27:01.622Z"
   },
   {
    "duration": 97,
    "start_time": "2021-11-19T12:27:01.638Z"
   },
   {
    "duration": 15,
    "start_time": "2021-11-19T12:27:01.738Z"
   },
   {
    "duration": 34,
    "start_time": "2021-11-19T12:27:01.756Z"
   },
   {
    "duration": 5,
    "start_time": "2021-11-19T12:27:01.792Z"
   },
   {
    "duration": 28,
    "start_time": "2021-11-19T12:27:01.802Z"
   },
   {
    "duration": 62,
    "start_time": "2021-11-19T12:27:01.833Z"
   },
   {
    "duration": 28,
    "start_time": "2021-11-19T12:27:01.898Z"
   },
   {
    "duration": 55,
    "start_time": "2021-11-19T12:27:01.929Z"
   },
   {
    "duration": 27,
    "start_time": "2021-11-19T12:27:01.987Z"
   },
   {
    "duration": 20,
    "start_time": "2021-11-19T12:27:02.017Z"
   },
   {
    "duration": 14,
    "start_time": "2021-11-19T12:27:04.867Z"
   },
   {
    "duration": 20,
    "start_time": "2021-11-19T12:27:08.659Z"
   },
   {
    "duration": 17,
    "start_time": "2021-11-19T12:27:25.309Z"
   },
   {
    "duration": 12,
    "start_time": "2021-11-19T12:27:46.677Z"
   },
   {
    "duration": 8,
    "start_time": "2021-11-19T12:37:13.165Z"
   },
   {
    "duration": 111,
    "start_time": "2021-11-19T12:49:02.947Z"
   },
   {
    "duration": 112,
    "start_time": "2021-11-19T12:49:23.807Z"
   },
   {
    "duration": 6,
    "start_time": "2021-11-19T12:50:22.082Z"
   },
   {
    "duration": 6,
    "start_time": "2021-11-19T12:50:24.274Z"
   },
   {
    "duration": 639,
    "start_time": "2021-11-19T12:51:38.805Z"
   },
   {
    "duration": 924,
    "start_time": "2021-11-19T12:52:06.670Z"
   },
   {
    "duration": 5,
    "start_time": "2021-11-19T12:52:12.112Z"
   },
   {
    "duration": 16,
    "start_time": "2021-11-19T12:52:14.023Z"
   },
   {
    "duration": 5,
    "start_time": "2021-11-19T12:54:06.181Z"
   },
   {
    "duration": 12,
    "start_time": "2021-11-19T12:54:08.708Z"
   },
   {
    "duration": 122,
    "start_time": "2021-11-19T12:54:46.662Z"
   },
   {
    "duration": 5,
    "start_time": "2021-11-19T12:55:33.872Z"
   },
   {
    "duration": 15,
    "start_time": "2021-11-19T12:55:35.936Z"
   },
   {
    "duration": 5,
    "start_time": "2021-11-19T12:55:51.387Z"
   },
   {
    "duration": 17,
    "start_time": "2021-11-19T12:55:52.253Z"
   },
   {
    "duration": 5,
    "start_time": "2021-11-19T12:56:55.029Z"
   },
   {
    "duration": 12,
    "start_time": "2021-11-19T12:56:56.348Z"
   },
   {
    "duration": 366,
    "start_time": "2021-11-19T12:57:07.508Z"
   },
   {
    "duration": 6,
    "start_time": "2021-11-19T12:57:12.629Z"
   },
   {
    "duration": 13,
    "start_time": "2021-11-19T12:57:14.397Z"
   },
   {
    "duration": 21,
    "start_time": "2021-11-19T12:57:16.486Z"
   },
   {
    "duration": 38,
    "start_time": "2021-11-19T12:57:34.400Z"
   },
   {
    "duration": 7,
    "start_time": "2021-11-19T12:58:34.091Z"
   },
   {
    "duration": 34,
    "start_time": "2021-11-19T12:58:37.513Z"
   },
   {
    "duration": 8,
    "start_time": "2021-11-19T12:59:22.661Z"
   },
   {
    "duration": 24,
    "start_time": "2021-11-19T12:59:24.340Z"
   },
   {
    "duration": 6,
    "start_time": "2021-11-19T13:12:55.724Z"
   },
   {
    "duration": -1801,
    "start_time": "2021-11-19T13:13:10.630Z"
   },
   {
    "duration": 1797,
    "start_time": "2021-11-19T13:13:13.245Z"
   },
   {
    "duration": 6,
    "start_time": "2021-11-19T13:13:15.661Z"
   },
   {
    "duration": 499,
    "start_time": "2021-11-19T13:14:47.151Z"
   },
   {
    "duration": 18,
    "start_time": "2021-11-19T13:14:51.113Z"
   },
   {
    "duration": 18,
    "start_time": "2021-11-19T13:15:08.946Z"
   },
   {
    "duration": 6,
    "start_time": "2021-11-19T13:16:32.614Z"
   },
   {
    "duration": 803,
    "start_time": "2021-11-19T13:16:37.831Z"
   },
   {
    "duration": 113,
    "start_time": "2021-11-19T13:18:27.041Z"
   },
   {
    "duration": 37,
    "start_time": "2021-11-19T13:18:32.364Z"
   },
   {
    "duration": 16,
    "start_time": "2021-11-19T13:22:21.303Z"
   },
   {
    "duration": 658,
    "start_time": "2021-11-19T13:22:57.374Z"
   },
   {
    "duration": 1032,
    "start_time": "2021-11-19T13:23:00.065Z"
   },
   {
    "duration": 8,
    "start_time": "2021-11-19T13:23:10.514Z"
   },
   {
    "duration": 26,
    "start_time": "2021-11-19T13:23:12.610Z"
   },
   {
    "duration": 8,
    "start_time": "2021-11-19T13:26:48.236Z"
   },
   {
    "duration": 678,
    "start_time": "2021-11-19T13:26:51.180Z"
   },
   {
    "duration": 687,
    "start_time": "2021-11-19T13:27:12.358Z"
   },
   {
    "duration": 6,
    "start_time": "2021-11-19T13:27:34.102Z"
   },
   {
    "duration": 26,
    "start_time": "2021-11-19T13:27:35.727Z"
   },
   {
    "duration": 36,
    "start_time": "2021-11-19T13:32:05.931Z"
   },
   {
    "duration": 27,
    "start_time": "2021-11-19T13:32:07.805Z"
   },
   {
    "duration": 9,
    "start_time": "2021-11-19T13:32:10.068Z"
   },
   {
    "duration": 25,
    "start_time": "2021-11-19T13:32:12.076Z"
   },
   {
    "duration": 4,
    "start_time": "2021-11-19T13:32:54.588Z"
   },
   {
    "duration": 289,
    "start_time": "2021-11-19T13:32:54.595Z"
   },
   {
    "duration": 21,
    "start_time": "2021-11-19T13:32:54.888Z"
   },
   {
    "duration": 70,
    "start_time": "2021-11-19T13:32:54.912Z"
   },
   {
    "duration": 6,
    "start_time": "2021-11-19T13:32:54.985Z"
   },
   {
    "duration": 35,
    "start_time": "2021-11-19T13:32:54.994Z"
   },
   {
    "duration": 7,
    "start_time": "2021-11-19T13:32:55.032Z"
   },
   {
    "duration": 88,
    "start_time": "2021-11-19T13:32:55.043Z"
   },
   {
    "duration": 47,
    "start_time": "2021-11-19T13:32:55.135Z"
   },
   {
    "duration": 46,
    "start_time": "2021-11-19T13:32:55.185Z"
   },
   {
    "duration": 108,
    "start_time": "2021-11-19T13:32:55.235Z"
   },
   {
    "duration": 151,
    "start_time": "2021-11-19T13:32:55.346Z"
   },
   {
    "duration": 130,
    "start_time": "2021-11-19T13:32:55.500Z"
   },
   {
    "duration": 131,
    "start_time": "2021-11-19T13:32:55.633Z"
   },
   {
    "duration": 5,
    "start_time": "2021-11-19T13:32:55.767Z"
   },
   {
    "duration": 19,
    "start_time": "2021-11-19T13:32:55.783Z"
   },
   {
    "duration": 18,
    "start_time": "2021-11-19T13:32:55.805Z"
   },
   {
    "duration": 9,
    "start_time": "2021-11-19T13:32:55.826Z"
   },
   {
    "duration": 113,
    "start_time": "2021-11-19T13:32:55.838Z"
   },
   {
    "duration": 30,
    "start_time": "2021-11-19T13:32:55.954Z"
   },
   {
    "duration": 16,
    "start_time": "2021-11-19T13:32:55.987Z"
   },
   {
    "duration": 5,
    "start_time": "2021-11-19T13:32:56.006Z"
   },
   {
    "duration": 65,
    "start_time": "2021-11-19T13:32:56.018Z"
   },
   {
    "duration": 21,
    "start_time": "2021-11-19T13:32:56.086Z"
   },
   {
    "duration": 20,
    "start_time": "2021-11-19T13:32:56.109Z"
   },
   {
    "duration": 53,
    "start_time": "2021-11-19T13:32:56.132Z"
   },
   {
    "duration": 25,
    "start_time": "2021-11-19T13:32:56.187Z"
   },
   {
    "duration": 31,
    "start_time": "2021-11-19T13:32:56.215Z"
   },
   {
    "duration": 42,
    "start_time": "2021-11-19T13:32:56.248Z"
   },
   {
    "duration": 28,
    "start_time": "2021-11-19T13:32:56.293Z"
   },
   {
    "duration": 12,
    "start_time": "2021-11-19T13:32:56.323Z"
   },
   {
    "duration": 6,
    "start_time": "2021-11-19T13:32:56.338Z"
   },
   {
    "duration": 26,
    "start_time": "2021-11-19T13:32:56.382Z"
   },
   {
    "duration": 6,
    "start_time": "2021-11-19T13:32:58.485Z"
   },
   {
    "duration": 26,
    "start_time": "2021-11-19T13:33:00.270Z"
   },
   {
    "duration": 27,
    "start_time": "2021-11-19T13:33:02.525Z"
   },
   {
    "duration": 27,
    "start_time": "2021-11-19T13:33:31.160Z"
   },
   {
    "duration": 3,
    "start_time": "2021-11-19T13:33:36.969Z"
   },
   {
    "duration": 243,
    "start_time": "2021-11-19T13:33:36.975Z"
   },
   {
    "duration": 16,
    "start_time": "2021-11-19T13:33:37.221Z"
   },
   {
    "duration": 56,
    "start_time": "2021-11-19T13:33:37.240Z"
   },
   {
    "duration": 6,
    "start_time": "2021-11-19T13:33:37.298Z"
   },
   {
    "duration": 51,
    "start_time": "2021-11-19T13:33:37.307Z"
   },
   {
    "duration": 21,
    "start_time": "2021-11-19T13:33:37.360Z"
   },
   {
    "duration": 34,
    "start_time": "2021-11-19T13:33:37.386Z"
   },
   {
    "duration": 30,
    "start_time": "2021-11-19T13:33:37.423Z"
   },
   {
    "duration": 63,
    "start_time": "2021-11-19T13:33:37.457Z"
   },
   {
    "duration": 115,
    "start_time": "2021-11-19T13:33:37.523Z"
   },
   {
    "duration": 119,
    "start_time": "2021-11-19T13:33:37.641Z"
   },
   {
    "duration": 97,
    "start_time": "2021-11-19T13:33:37.763Z"
   },
   {
    "duration": 101,
    "start_time": "2021-11-19T13:33:37.862Z"
   },
   {
    "duration": 18,
    "start_time": "2021-11-19T13:33:37.965Z"
   },
   {
    "duration": 29,
    "start_time": "2021-11-19T13:33:37.986Z"
   },
   {
    "duration": 35,
    "start_time": "2021-11-19T13:33:38.018Z"
   },
   {
    "duration": 18,
    "start_time": "2021-11-19T13:33:38.056Z"
   },
   {
    "duration": 98,
    "start_time": "2021-11-19T13:33:38.077Z"
   },
   {
    "duration": 20,
    "start_time": "2021-11-19T13:33:38.177Z"
   },
   {
    "duration": 21,
    "start_time": "2021-11-19T13:33:38.200Z"
   },
   {
    "duration": 6,
    "start_time": "2021-11-19T13:33:38.223Z"
   },
   {
    "duration": 56,
    "start_time": "2021-11-19T13:33:38.233Z"
   },
   {
    "duration": 25,
    "start_time": "2021-11-19T13:33:38.292Z"
   },
   {
    "duration": 21,
    "start_time": "2021-11-19T13:33:38.319Z"
   },
   {
    "duration": 55,
    "start_time": "2021-11-19T13:33:38.343Z"
   },
   {
    "duration": 31,
    "start_time": "2021-11-19T13:33:38.401Z"
   },
   {
    "duration": 51,
    "start_time": "2021-11-19T13:33:38.435Z"
   },
   {
    "duration": 14,
    "start_time": "2021-11-19T13:33:38.489Z"
   },
   {
    "duration": 38,
    "start_time": "2021-11-19T13:33:38.506Z"
   },
   {
    "duration": 47,
    "start_time": "2021-11-19T13:33:38.546Z"
   },
   {
    "duration": 8,
    "start_time": "2021-11-19T13:33:38.596Z"
   },
   {
    "duration": 30,
    "start_time": "2021-11-19T13:33:38.606Z"
   },
   {
    "duration": 19,
    "start_time": "2021-11-19T13:34:01.633Z"
   },
   {
    "duration": 26,
    "start_time": "2021-11-19T13:34:49.658Z"
   },
   {
    "duration": 22,
    "start_time": "2021-11-19T13:35:05.412Z"
   },
   {
    "duration": 26,
    "start_time": "2021-11-19T13:35:19.276Z"
   },
   {
    "duration": 382,
    "start_time": "2021-11-19T14:46:24.783Z"
   },
   {
    "duration": 11,
    "start_time": "2021-11-19T14:46:40.656Z"
   },
   {
    "duration": 13,
    "start_time": "2021-11-19T14:46:43.392Z"
   },
   {
    "duration": 9,
    "start_time": "2021-11-19T14:50:14.506Z"
   },
   {
    "duration": 17,
    "start_time": "2021-11-19T14:50:48.893Z"
   },
   {
    "duration": 6,
    "start_time": "2021-11-19T14:50:50.027Z"
   },
   {
    "duration": 12,
    "start_time": "2021-11-19T14:51:28.101Z"
   },
   {
    "duration": 7,
    "start_time": "2021-11-19T14:51:30.340Z"
   },
   {
    "duration": 64,
    "start_time": "2021-11-19T15:41:13.705Z"
   },
   {
    "duration": 85,
    "start_time": "2021-11-19T15:41:27.130Z"
   },
   {
    "duration": 20,
    "start_time": "2021-11-19T15:43:03.342Z"
   },
   {
    "duration": 6,
    "start_time": "2021-11-19T15:43:15.471Z"
   },
   {
    "duration": 26,
    "start_time": "2021-11-19T15:43:19.324Z"
   },
   {
    "duration": 26,
    "start_time": "2021-11-19T15:43:22.048Z"
   },
   {
    "duration": 3,
    "start_time": "2021-11-19T15:44:04.385Z"
   },
   {
    "duration": 271,
    "start_time": "2021-11-19T15:44:04.391Z"
   },
   {
    "duration": 27,
    "start_time": "2021-11-19T15:44:04.666Z"
   },
   {
    "duration": 40,
    "start_time": "2021-11-19T15:44:04.696Z"
   },
   {
    "duration": 8,
    "start_time": "2021-11-19T15:44:04.738Z"
   },
   {
    "duration": 51,
    "start_time": "2021-11-19T15:44:04.749Z"
   },
   {
    "duration": 15,
    "start_time": "2021-11-19T15:44:04.803Z"
   },
   {
    "duration": 70,
    "start_time": "2021-11-19T15:44:04.823Z"
   },
   {
    "duration": 27,
    "start_time": "2021-11-19T15:44:04.898Z"
   },
   {
    "duration": 62,
    "start_time": "2021-11-19T15:44:04.928Z"
   },
   {
    "duration": 108,
    "start_time": "2021-11-19T15:44:04.992Z"
   },
   {
    "duration": 122,
    "start_time": "2021-11-19T15:44:05.103Z"
   },
   {
    "duration": 102,
    "start_time": "2021-11-19T15:44:05.228Z"
   },
   {
    "duration": 85,
    "start_time": "2021-11-19T15:44:05.333Z"
   },
   {
    "duration": 5,
    "start_time": "2021-11-19T15:44:05.422Z"
   },
   {
    "duration": 27,
    "start_time": "2021-11-19T15:44:05.431Z"
   },
   {
    "duration": 34,
    "start_time": "2021-11-19T15:44:05.461Z"
   },
   {
    "duration": 31,
    "start_time": "2021-11-19T15:44:05.498Z"
   },
   {
    "duration": 83,
    "start_time": "2021-11-19T15:44:05.532Z"
   },
   {
    "duration": 39,
    "start_time": "2021-11-19T15:44:05.618Z"
   },
   {
    "duration": 28,
    "start_time": "2021-11-19T15:44:05.661Z"
   },
   {
    "duration": 7,
    "start_time": "2021-11-19T15:44:05.692Z"
   },
   {
    "duration": 49,
    "start_time": "2021-11-19T15:44:05.706Z"
   },
   {
    "duration": 45,
    "start_time": "2021-11-19T15:44:05.759Z"
   },
   {
    "duration": 22,
    "start_time": "2021-11-19T15:44:05.806Z"
   },
   {
    "duration": 92,
    "start_time": "2021-11-19T15:44:05.831Z"
   },
   {
    "duration": 26,
    "start_time": "2021-11-19T15:44:05.927Z"
   },
   {
    "duration": 20,
    "start_time": "2021-11-19T15:44:05.956Z"
   },
   {
    "duration": 16,
    "start_time": "2021-11-19T15:44:05.981Z"
   },
   {
    "duration": 25,
    "start_time": "2021-11-19T15:44:06.000Z"
   },
   {
    "duration": 55,
    "start_time": "2021-11-19T15:44:06.027Z"
   },
   {
    "duration": 8,
    "start_time": "2021-11-19T15:44:06.085Z"
   },
   {
    "duration": 43,
    "start_time": "2021-11-19T15:44:06.096Z"
   },
   {
    "duration": 50,
    "start_time": "2021-11-19T15:44:06.142Z"
   },
   {
    "duration": 25,
    "start_time": "2021-11-19T15:44:06.195Z"
   },
   {
    "duration": 18,
    "start_time": "2021-11-19T15:44:06.223Z"
   },
   {
    "duration": 53,
    "start_time": "2021-11-19T15:44:06.244Z"
   },
   {
    "duration": 8,
    "start_time": "2021-11-19T15:44:06.300Z"
   },
   {
    "duration": 13,
    "start_time": "2021-11-19T15:44:06.311Z"
   },
   {
    "duration": 9,
    "start_time": "2021-11-19T15:44:06.326Z"
   },
   {
    "duration": 549,
    "start_time": "2021-11-19T18:15:21.801Z"
   },
   {
    "duration": 135,
    "start_time": "2021-11-19T18:15:22.351Z"
   },
   {
    "duration": 16,
    "start_time": "2021-11-19T18:15:22.488Z"
   },
   {
    "duration": 26,
    "start_time": "2021-11-19T18:15:22.505Z"
   },
   {
    "duration": 3,
    "start_time": "2021-11-19T18:15:22.533Z"
   },
   {
    "duration": 23,
    "start_time": "2021-11-19T18:15:22.538Z"
   },
   {
    "duration": 29,
    "start_time": "2021-11-19T18:15:22.563Z"
   },
   {
    "duration": 24,
    "start_time": "2021-11-19T18:15:22.595Z"
   },
   {
    "duration": 16,
    "start_time": "2021-11-19T18:15:22.621Z"
   },
   {
    "duration": 21,
    "start_time": "2021-11-19T18:15:22.639Z"
   },
   {
    "duration": 81,
    "start_time": "2021-11-19T18:15:22.662Z"
   },
   {
    "duration": 80,
    "start_time": "2021-11-19T18:15:22.745Z"
   },
   {
    "duration": 48,
    "start_time": "2021-11-19T18:15:22.828Z"
   },
   {
    "duration": 55,
    "start_time": "2021-11-19T18:15:22.878Z"
   },
   {
    "duration": 3,
    "start_time": "2021-11-19T18:15:22.935Z"
   },
   {
    "duration": 12,
    "start_time": "2021-11-19T18:15:22.939Z"
   },
   {
    "duration": 9,
    "start_time": "2021-11-19T18:15:22.953Z"
   },
   {
    "duration": 28,
    "start_time": "2021-11-19T18:15:22.963Z"
   },
   {
    "duration": 49,
    "start_time": "2021-11-19T18:15:22.993Z"
   },
   {
    "duration": 9,
    "start_time": "2021-11-19T18:15:23.044Z"
   },
   {
    "duration": 9,
    "start_time": "2021-11-19T18:15:23.055Z"
   },
   {
    "duration": 27,
    "start_time": "2021-11-19T18:15:23.066Z"
   },
   {
    "duration": 20,
    "start_time": "2021-11-19T18:15:23.097Z"
   },
   {
    "duration": 14,
    "start_time": "2021-11-19T18:15:23.119Z"
   },
   {
    "duration": 14,
    "start_time": "2021-11-19T18:15:23.135Z"
   },
   {
    "duration": 41,
    "start_time": "2021-11-19T18:15:23.151Z"
   },
   {
    "duration": 17,
    "start_time": "2021-11-19T18:15:23.194Z"
   },
   {
    "duration": 15,
    "start_time": "2021-11-19T18:15:23.212Z"
   },
   {
    "duration": 8,
    "start_time": "2021-11-19T18:15:23.228Z"
   },
   {
    "duration": 11,
    "start_time": "2021-11-19T18:15:23.238Z"
   },
   {
    "duration": 40,
    "start_time": "2021-11-19T18:15:23.251Z"
   },
   {
    "duration": 4,
    "start_time": "2021-11-19T18:15:23.293Z"
   },
   {
    "duration": 24,
    "start_time": "2021-11-19T18:15:23.299Z"
   },
   {
    "duration": 12,
    "start_time": "2021-11-19T18:15:23.324Z"
   },
   {
    "duration": 17,
    "start_time": "2021-11-19T18:15:23.337Z"
   },
   {
    "duration": 11,
    "start_time": "2021-11-19T18:15:23.355Z"
   },
   {
    "duration": 7,
    "start_time": "2021-11-19T18:15:23.392Z"
   },
   {
    "duration": 5,
    "start_time": "2021-11-19T18:15:23.400Z"
   },
   {
    "duration": 7,
    "start_time": "2021-11-19T18:15:23.407Z"
   },
   {
    "duration": 3,
    "start_time": "2021-11-19T18:15:23.416Z"
   },
   {
    "duration": 9,
    "start_time": "2021-11-19T18:16:09.076Z"
   },
   {
    "duration": 14,
    "start_time": "2021-11-19T18:18:13.600Z"
   },
   {
    "duration": 7,
    "start_time": "2021-11-19T18:19:08.242Z"
   },
   {
    "duration": 818,
    "start_time": "2022-01-03T06:57:32.765Z"
   },
   {
    "duration": 88,
    "start_time": "2022-01-03T06:57:33.586Z"
   },
   {
    "duration": 405,
    "start_time": "2022-01-03T06:57:51.575Z"
   },
   {
    "duration": 263,
    "start_time": "2022-01-03T06:58:10.275Z"
   },
   {
    "duration": 753,
    "start_time": "2022-01-03T06:58:37.327Z"
   },
   {
    "duration": 206,
    "start_time": "2022-01-03T06:58:38.083Z"
   },
   {
    "duration": 27,
    "start_time": "2022-01-03T06:58:38.293Z"
   },
   {
    "duration": 44,
    "start_time": "2022-01-03T06:58:38.323Z"
   },
   {
    "duration": 35,
    "start_time": "2022-01-03T06:58:38.370Z"
   },
   {
    "duration": 8,
    "start_time": "2022-01-03T06:58:38.408Z"
   },
   {
    "duration": 57,
    "start_time": "2022-01-03T06:58:38.419Z"
   },
   {
    "duration": 7,
    "start_time": "2022-01-03T06:58:38.479Z"
   },
   {
    "duration": 38,
    "start_time": "2022-01-03T06:58:38.489Z"
   },
   {
    "duration": 49,
    "start_time": "2022-01-03T06:58:38.530Z"
   },
   {
    "duration": 31,
    "start_time": "2022-01-03T06:58:38.582Z"
   },
   {
    "duration": 115,
    "start_time": "2022-01-03T06:58:38.616Z"
   },
   {
    "duration": 121,
    "start_time": "2022-01-03T06:58:38.733Z"
   },
   {
    "duration": 84,
    "start_time": "2022-01-03T06:58:38.856Z"
   },
   {
    "duration": 90,
    "start_time": "2022-01-03T06:58:38.943Z"
   },
   {
    "duration": 4,
    "start_time": "2022-01-03T06:58:39.035Z"
   },
   {
    "duration": 36,
    "start_time": "2022-01-03T06:58:39.041Z"
   },
   {
    "duration": 15,
    "start_time": "2022-01-03T06:58:39.079Z"
   },
   {
    "duration": 8,
    "start_time": "2022-01-03T06:58:39.096Z"
   },
   {
    "duration": 101,
    "start_time": "2022-01-03T06:58:39.107Z"
   },
   {
    "duration": 18,
    "start_time": "2022-01-03T06:58:39.210Z"
   },
   {
    "duration": 39,
    "start_time": "2022-01-03T06:58:39.230Z"
   },
   {
    "duration": 20,
    "start_time": "2022-01-03T06:58:39.274Z"
   },
   {
    "duration": 5,
    "start_time": "2022-01-03T06:58:39.297Z"
   },
   {
    "duration": 30,
    "start_time": "2022-01-03T06:58:39.304Z"
   },
   {
    "duration": 45,
    "start_time": "2022-01-03T06:58:39.336Z"
   },
   {
    "duration": 19,
    "start_time": "2022-01-03T06:58:39.383Z"
   },
   {
    "duration": 20,
    "start_time": "2022-01-03T06:58:39.405Z"
   },
   {
    "duration": 54,
    "start_time": "2022-01-03T06:58:39.428Z"
   },
   {
    "duration": 19,
    "start_time": "2022-01-03T06:58:39.484Z"
   },
   {
    "duration": 13,
    "start_time": "2022-01-03T06:58:39.506Z"
   },
   {
    "duration": 53,
    "start_time": "2022-01-03T06:58:39.522Z"
   },
   {
    "duration": 12,
    "start_time": "2022-01-03T06:58:39.577Z"
   },
   {
    "duration": 6,
    "start_time": "2022-01-03T06:58:39.592Z"
   },
   {
    "duration": 37,
    "start_time": "2022-01-03T06:58:39.600Z"
   },
   {
    "duration": 41,
    "start_time": "2022-01-03T06:58:39.640Z"
   },
   {
    "duration": 24,
    "start_time": "2022-01-03T06:58:39.683Z"
   },
   {
    "duration": 17,
    "start_time": "2022-01-03T06:58:39.710Z"
   },
   {
    "duration": 40,
    "start_time": "2022-01-03T06:58:39.730Z"
   },
   {
    "duration": 7,
    "start_time": "2022-01-03T06:58:39.772Z"
   },
   {
    "duration": 12,
    "start_time": "2022-01-03T06:58:39.781Z"
   },
   {
    "duration": 18,
    "start_time": "2022-01-03T06:58:39.796Z"
   },
   {
    "duration": 7,
    "start_time": "2022-01-03T06:58:39.817Z"
   },
   {
    "duration": 374,
    "start_time": "2022-01-03T06:58:46.321Z"
   }
  ],
  "colab": {
   "collapsed_sections": [
    "E0vqbgi9ay0H",
    "VUC88oWjTJw2"
   ],
   "name": "yandex_music_project_2021.2.ipynb",
   "provenance": []
  },
  "kernelspec": {
   "display_name": "Python 3 (ipykernel)",
   "language": "python",
   "name": "python3"
  },
  "language_info": {
   "codemirror_mode": {
    "name": "ipython",
    "version": 3
   },
   "file_extension": ".py",
   "mimetype": "text/x-python",
   "name": "python",
   "nbconvert_exporter": "python",
   "pygments_lexer": "ipython3",
   "version": "3.9.7"
  },
  "toc": {
   "base_numbering": 1,
   "nav_menu": {
    "height": "297px",
    "width": "282px"
   },
   "number_sections": true,
   "sideBar": true,
   "skip_h1_title": true,
   "title_cell": "Table of Contents",
   "title_sidebar": "Contents",
   "toc_cell": false,
   "toc_position": {
    "height": "calc(100% - 180px)",
    "left": "10px",
    "top": "150px",
    "width": "288px"
   },
   "toc_section_display": true,
   "toc_window_display": true
  }
 },
 "nbformat": 4,
 "nbformat_minor": 1
}
