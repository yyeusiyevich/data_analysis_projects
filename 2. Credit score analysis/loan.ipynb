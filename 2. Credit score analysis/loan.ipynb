{
 "cells": [
  {
   "cell_type": "markdown",
   "metadata": {},
   "source": [
    "# Credit Score Analysis"
   ]
  },
  {
   "cell_type": "markdown",
   "metadata": {},
   "source": [
    "# Table of contents\n",
    "\n",
    "I. General Information. Interim conclusions. \n",
    "\n",
    "\n",
    "II. Data preprocessing.Interim conclusions.  \n",
    "   - Artifacts processing. \n",
    "   - Missing values processing.  \n",
    "   - Numerical data processing. Changing the data type. \n",
    "   - Duplicates processing\n",
    "   - Lemmatization. \n",
    "   - Data categorization and encoding.  \n",
    "\n",
    "\n",
    "III. Exploratory Data Analysis (EDA).\n",
    "   - Connection between having kids and repaying a loan on time.    \n",
    "   - Connection between marital status kids and repaying a loan on time.     \n",
    "   - Connection between total income and repaying a loan on time.   \n",
    "   - Connection between education and repaying a loan on time.   \n",
    "   - Connection between income type and repaying a loan on time.   \n",
    "   - How do different loan purposes affect on-time loan repayment?\n",
    "    \n",
    "    \n",
    "IV. General conclusion."
   ]
  },
  {
   "cell_type": "markdown",
   "metadata": {},
   "source": [
    "# General Information <a id='id1'></a>"
   ]
  },
  {
   "cell_type": "code",
   "execution_count": 1,
   "metadata": {},
   "outputs": [],
   "source": [
    "# libraries import\n",
    "import pandas as pd\n",
    "import numpy as np\n",
    "import seaborn as sns\n",
    "from datetime import datetime, timedelta\n",
    "import matplotlib.pyplot as plt\n",
    "import os\n",
    "import warnings\n",
    "warnings.filterwarnings('ignore')\n",
    "from pymystem3 import Mystem\n",
    "m = Mystem()\n",
    "from collections import Counter\n",
    "from sklearn.preprocessing import LabelEncoder\n",
    "le = LabelEncoder()"
   ]
  },
  {
   "cell_type": "code",
   "execution_count": 2,
   "metadata": {},
   "outputs": [],
   "source": [
    "# pandas customization\n",
    "pd.set_option('display.float_format', '{:,.2f}'.format)"
   ]
  },
  {
   "cell_type": "code",
   "execution_count": 3,
   "metadata": {},
   "outputs": [],
   "source": [
    "# seaborn customization\n",
    "sns.set(rc={'figure.figsize':(10,10)})\n",
    "sns.set_theme(style='whitegrid', palette='dark')"
   ]
  },
  {
   "cell_type": "markdown",
   "metadata": {},
   "source": [
    "Displaying tables with borders:"
   ]
  },
  {
   "cell_type": "code",
   "execution_count": 4,
   "metadata": {},
   "outputs": [
    {
     "data": {
      "text/html": [
       "<style type=\"text/css\">\n",
       "table.dataframe td, table.dataframe th {\n",
       "    border: 1px  black solid !important;\n",
       "  color: black !important;\n",
       "}\n",
       "</style>\n"
      ],
      "text/plain": [
       "<IPython.core.display.HTML object>"
      ]
     },
     "metadata": {},
     "output_type": "display_data"
    }
   ],
   "source": [
    "%%HTML\n",
    "<style type=\"text/css\">\n",
    "table.dataframe td, table.dataframe th {\n",
    "    border: 1px  black solid !important;\n",
    "  color: black !important;\n",
    "}\n",
    "</style>"
   ]
  },
  {
   "cell_type": "code",
   "execution_count": 5,
   "metadata": {},
   "outputs": [],
   "source": [
    "# reading the file and saving it to the 'data' variable\n",
    "data = pd.read_csv('https://raw.githubusercontent.com/yyeusiyevich/projects_eng/master/sprint02/datasets/credit_scoring_eng.csv')"
   ]
  },
  {
   "cell_type": "code",
   "execution_count": 6,
   "metadata": {},
   "outputs": [],
   "source": [
    "# primary data analysis function\n",
    "def get_info(df):\n",
    "    '''The function takes a dataframe as an input and provides general information about it: dataframe shape (rows, columns),\n",
    "    columns data type, number of non-null values (DataFrame.info()), first five rows (DataFrame.head(5)) and also brief \n",
    "    analysis for categorical and numerical data - DataFrame.describe().'''\n",
    "    percentiles= [.20, .40, .60, .80]\n",
    "    include=['object', 'float', 'int']\n",
    "    print(f'Total number of rows: {df.shape[0]}, total number of columns: {df.shape[1]}.')\n",
    "    print()\n",
    "    print(df.info())\n",
    "    display(df.head(5))\n",
    "    display(pd.DataFrame(df.describe(percentiles = percentiles, include = include).T))"
   ]
  },
  {
   "cell_type": "code",
   "execution_count": 7,
   "metadata": {},
   "outputs": [
    {
     "name": "stdout",
     "output_type": "stream",
     "text": [
      "Total number of rows: 21525, total number of columns: 12.\n",
      "\n",
      "<class 'pandas.core.frame.DataFrame'>\n",
      "RangeIndex: 21525 entries, 0 to 21524\n",
      "Data columns (total 12 columns):\n",
      " #   Column            Non-Null Count  Dtype  \n",
      "---  ------            --------------  -----  \n",
      " 0   children          21525 non-null  int64  \n",
      " 1   days_employed     19351 non-null  float64\n",
      " 2   dob_years         21525 non-null  int64  \n",
      " 3   education         21525 non-null  object \n",
      " 4   education_id      21525 non-null  int64  \n",
      " 5   family_status     21525 non-null  object \n",
      " 6   family_status_id  21525 non-null  int64  \n",
      " 7   gender            21525 non-null  object \n",
      " 8   income_type       21525 non-null  object \n",
      " 9   debt              21525 non-null  int64  \n",
      " 10  total_income      19351 non-null  float64\n",
      " 11  purpose           21525 non-null  object \n",
      "dtypes: float64(2), int64(5), object(5)\n",
      "memory usage: 2.0+ MB\n",
      "None\n"
     ]
    },
    {
     "data": {
      "text/html": [
       "<div>\n",
       "<style scoped>\n",
       "    .dataframe tbody tr th:only-of-type {\n",
       "        vertical-align: middle;\n",
       "    }\n",
       "\n",
       "    .dataframe tbody tr th {\n",
       "        vertical-align: top;\n",
       "    }\n",
       "\n",
       "    .dataframe thead th {\n",
       "        text-align: right;\n",
       "    }\n",
       "</style>\n",
       "<table border=\"1\" class=\"dataframe\">\n",
       "  <thead>\n",
       "    <tr style=\"text-align: right;\">\n",
       "      <th></th>\n",
       "      <th>children</th>\n",
       "      <th>days_employed</th>\n",
       "      <th>dob_years</th>\n",
       "      <th>education</th>\n",
       "      <th>education_id</th>\n",
       "      <th>family_status</th>\n",
       "      <th>family_status_id</th>\n",
       "      <th>gender</th>\n",
       "      <th>income_type</th>\n",
       "      <th>debt</th>\n",
       "      <th>total_income</th>\n",
       "      <th>purpose</th>\n",
       "    </tr>\n",
       "  </thead>\n",
       "  <tbody>\n",
       "    <tr>\n",
       "      <th>0</th>\n",
       "      <td>1</td>\n",
       "      <td>-8,437.67</td>\n",
       "      <td>42</td>\n",
       "      <td>bachelor's degree</td>\n",
       "      <td>0</td>\n",
       "      <td>married</td>\n",
       "      <td>0</td>\n",
       "      <td>F</td>\n",
       "      <td>employee</td>\n",
       "      <td>0</td>\n",
       "      <td>40,620.10</td>\n",
       "      <td>purchase of the house</td>\n",
       "    </tr>\n",
       "    <tr>\n",
       "      <th>1</th>\n",
       "      <td>1</td>\n",
       "      <td>-4,024.80</td>\n",
       "      <td>36</td>\n",
       "      <td>secondary education</td>\n",
       "      <td>1</td>\n",
       "      <td>married</td>\n",
       "      <td>0</td>\n",
       "      <td>F</td>\n",
       "      <td>employee</td>\n",
       "      <td>0</td>\n",
       "      <td>17,932.80</td>\n",
       "      <td>car purchase</td>\n",
       "    </tr>\n",
       "    <tr>\n",
       "      <th>2</th>\n",
       "      <td>0</td>\n",
       "      <td>-5,623.42</td>\n",
       "      <td>33</td>\n",
       "      <td>Secondary Education</td>\n",
       "      <td>1</td>\n",
       "      <td>married</td>\n",
       "      <td>0</td>\n",
       "      <td>M</td>\n",
       "      <td>employee</td>\n",
       "      <td>0</td>\n",
       "      <td>23,341.75</td>\n",
       "      <td>purchase of the house</td>\n",
       "    </tr>\n",
       "    <tr>\n",
       "      <th>3</th>\n",
       "      <td>3</td>\n",
       "      <td>-4,124.75</td>\n",
       "      <td>32</td>\n",
       "      <td>secondary education</td>\n",
       "      <td>1</td>\n",
       "      <td>married</td>\n",
       "      <td>0</td>\n",
       "      <td>M</td>\n",
       "      <td>employee</td>\n",
       "      <td>0</td>\n",
       "      <td>42,820.57</td>\n",
       "      <td>supplementary education</td>\n",
       "    </tr>\n",
       "    <tr>\n",
       "      <th>4</th>\n",
       "      <td>0</td>\n",
       "      <td>340,266.07</td>\n",
       "      <td>53</td>\n",
       "      <td>secondary education</td>\n",
       "      <td>1</td>\n",
       "      <td>civil partnership</td>\n",
       "      <td>1</td>\n",
       "      <td>F</td>\n",
       "      <td>retiree</td>\n",
       "      <td>0</td>\n",
       "      <td>25,378.57</td>\n",
       "      <td>to have a wedding</td>\n",
       "    </tr>\n",
       "  </tbody>\n",
       "</table>\n",
       "</div>"
      ],
      "text/plain": [
       "   children  days_employed  dob_years            education  education_id  \\\n",
       "0         1      -8,437.67         42    bachelor's degree             0   \n",
       "1         1      -4,024.80         36  secondary education             1   \n",
       "2         0      -5,623.42         33  Secondary Education             1   \n",
       "3         3      -4,124.75         32  secondary education             1   \n",
       "4         0     340,266.07         53  secondary education             1   \n",
       "\n",
       "       family_status  family_status_id gender income_type  debt  total_income  \\\n",
       "0            married                 0      F    employee     0     40,620.10   \n",
       "1            married                 0      F    employee     0     17,932.80   \n",
       "2            married                 0      M    employee     0     23,341.75   \n",
       "3            married                 0      M    employee     0     42,820.57   \n",
       "4  civil partnership                 1      F     retiree     0     25,378.57   \n",
       "\n",
       "                   purpose  \n",
       "0    purchase of the house  \n",
       "1             car purchase  \n",
       "2    purchase of the house  \n",
       "3  supplementary education  \n",
       "4        to have a wedding  "
      ]
     },
     "metadata": {},
     "output_type": "display_data"
    },
    {
     "data": {
      "text/html": [
       "<div>\n",
       "<style scoped>\n",
       "    .dataframe tbody tr th:only-of-type {\n",
       "        vertical-align: middle;\n",
       "    }\n",
       "\n",
       "    .dataframe tbody tr th {\n",
       "        vertical-align: top;\n",
       "    }\n",
       "\n",
       "    .dataframe thead th {\n",
       "        text-align: right;\n",
       "    }\n",
       "</style>\n",
       "<table border=\"1\" class=\"dataframe\">\n",
       "  <thead>\n",
       "    <tr style=\"text-align: right;\">\n",
       "      <th></th>\n",
       "      <th>count</th>\n",
       "      <th>unique</th>\n",
       "      <th>top</th>\n",
       "      <th>freq</th>\n",
       "      <th>mean</th>\n",
       "      <th>std</th>\n",
       "      <th>min</th>\n",
       "      <th>20%</th>\n",
       "      <th>40%</th>\n",
       "      <th>50%</th>\n",
       "      <th>60%</th>\n",
       "      <th>80%</th>\n",
       "      <th>max</th>\n",
       "    </tr>\n",
       "  </thead>\n",
       "  <tbody>\n",
       "    <tr>\n",
       "      <th>children</th>\n",
       "      <td>21,525.00</td>\n",
       "      <td>NaN</td>\n",
       "      <td>NaN</td>\n",
       "      <td>NaN</td>\n",
       "      <td>0.54</td>\n",
       "      <td>1.38</td>\n",
       "      <td>-1.00</td>\n",
       "      <td>0.00</td>\n",
       "      <td>0.00</td>\n",
       "      <td>0.00</td>\n",
       "      <td>0.00</td>\n",
       "      <td>1.00</td>\n",
       "      <td>20.00</td>\n",
       "    </tr>\n",
       "    <tr>\n",
       "      <th>days_employed</th>\n",
       "      <td>19,351.00</td>\n",
       "      <td>NaN</td>\n",
       "      <td>NaN</td>\n",
       "      <td>NaN</td>\n",
       "      <td>63,046.50</td>\n",
       "      <td>140,827.31</td>\n",
       "      <td>-18,388.95</td>\n",
       "      <td>-3,212.16</td>\n",
       "      <td>-1,687.67</td>\n",
       "      <td>-1,203.37</td>\n",
       "      <td>-819.65</td>\n",
       "      <td>-150.96</td>\n",
       "      <td>401,755.40</td>\n",
       "    </tr>\n",
       "    <tr>\n",
       "      <th>dob_years</th>\n",
       "      <td>21,525.00</td>\n",
       "      <td>NaN</td>\n",
       "      <td>NaN</td>\n",
       "      <td>NaN</td>\n",
       "      <td>43.29</td>\n",
       "      <td>12.57</td>\n",
       "      <td>0.00</td>\n",
       "      <td>31.00</td>\n",
       "      <td>39.00</td>\n",
       "      <td>42.00</td>\n",
       "      <td>47.00</td>\n",
       "      <td>56.00</td>\n",
       "      <td>75.00</td>\n",
       "    </tr>\n",
       "    <tr>\n",
       "      <th>education</th>\n",
       "      <td>21525</td>\n",
       "      <td>15</td>\n",
       "      <td>secondary education</td>\n",
       "      <td>13750</td>\n",
       "      <td>NaN</td>\n",
       "      <td>NaN</td>\n",
       "      <td>NaN</td>\n",
       "      <td>NaN</td>\n",
       "      <td>NaN</td>\n",
       "      <td>NaN</td>\n",
       "      <td>NaN</td>\n",
       "      <td>NaN</td>\n",
       "      <td>NaN</td>\n",
       "    </tr>\n",
       "    <tr>\n",
       "      <th>education_id</th>\n",
       "      <td>21,525.00</td>\n",
       "      <td>NaN</td>\n",
       "      <td>NaN</td>\n",
       "      <td>NaN</td>\n",
       "      <td>0.82</td>\n",
       "      <td>0.55</td>\n",
       "      <td>0.00</td>\n",
       "      <td>0.00</td>\n",
       "      <td>1.00</td>\n",
       "      <td>1.00</td>\n",
       "      <td>1.00</td>\n",
       "      <td>1.00</td>\n",
       "      <td>4.00</td>\n",
       "    </tr>\n",
       "    <tr>\n",
       "      <th>family_status</th>\n",
       "      <td>21525</td>\n",
       "      <td>5</td>\n",
       "      <td>married</td>\n",
       "      <td>12380</td>\n",
       "      <td>NaN</td>\n",
       "      <td>NaN</td>\n",
       "      <td>NaN</td>\n",
       "      <td>NaN</td>\n",
       "      <td>NaN</td>\n",
       "      <td>NaN</td>\n",
       "      <td>NaN</td>\n",
       "      <td>NaN</td>\n",
       "      <td>NaN</td>\n",
       "    </tr>\n",
       "    <tr>\n",
       "      <th>family_status_id</th>\n",
       "      <td>21,525.00</td>\n",
       "      <td>NaN</td>\n",
       "      <td>NaN</td>\n",
       "      <td>NaN</td>\n",
       "      <td>0.97</td>\n",
       "      <td>1.42</td>\n",
       "      <td>0.00</td>\n",
       "      <td>0.00</td>\n",
       "      <td>0.00</td>\n",
       "      <td>0.00</td>\n",
       "      <td>1.00</td>\n",
       "      <td>2.00</td>\n",
       "      <td>4.00</td>\n",
       "    </tr>\n",
       "    <tr>\n",
       "      <th>gender</th>\n",
       "      <td>21525</td>\n",
       "      <td>3</td>\n",
       "      <td>F</td>\n",
       "      <td>14236</td>\n",
       "      <td>NaN</td>\n",
       "      <td>NaN</td>\n",
       "      <td>NaN</td>\n",
       "      <td>NaN</td>\n",
       "      <td>NaN</td>\n",
       "      <td>NaN</td>\n",
       "      <td>NaN</td>\n",
       "      <td>NaN</td>\n",
       "      <td>NaN</td>\n",
       "    </tr>\n",
       "    <tr>\n",
       "      <th>income_type</th>\n",
       "      <td>21525</td>\n",
       "      <td>8</td>\n",
       "      <td>employee</td>\n",
       "      <td>11119</td>\n",
       "      <td>NaN</td>\n",
       "      <td>NaN</td>\n",
       "      <td>NaN</td>\n",
       "      <td>NaN</td>\n",
       "      <td>NaN</td>\n",
       "      <td>NaN</td>\n",
       "      <td>NaN</td>\n",
       "      <td>NaN</td>\n",
       "      <td>NaN</td>\n",
       "    </tr>\n",
       "    <tr>\n",
       "      <th>debt</th>\n",
       "      <td>21,525.00</td>\n",
       "      <td>NaN</td>\n",
       "      <td>NaN</td>\n",
       "      <td>NaN</td>\n",
       "      <td>0.08</td>\n",
       "      <td>0.27</td>\n",
       "      <td>0.00</td>\n",
       "      <td>0.00</td>\n",
       "      <td>0.00</td>\n",
       "      <td>0.00</td>\n",
       "      <td>0.00</td>\n",
       "      <td>0.00</td>\n",
       "      <td>1.00</td>\n",
       "    </tr>\n",
       "    <tr>\n",
       "      <th>total_income</th>\n",
       "      <td>19,351.00</td>\n",
       "      <td>NaN</td>\n",
       "      <td>NaN</td>\n",
       "      <td>NaN</td>\n",
       "      <td>26,787.57</td>\n",
       "      <td>16,475.45</td>\n",
       "      <td>3,306.76</td>\n",
       "      <td>15,173.89</td>\n",
       "      <td>20,524.75</td>\n",
       "      <td>23,202.87</td>\n",
       "      <td>26,345.75</td>\n",
       "      <td>35,697.21</td>\n",
       "      <td>362,496.65</td>\n",
       "    </tr>\n",
       "    <tr>\n",
       "      <th>purpose</th>\n",
       "      <td>21525</td>\n",
       "      <td>38</td>\n",
       "      <td>wedding ceremony</td>\n",
       "      <td>797</td>\n",
       "      <td>NaN</td>\n",
       "      <td>NaN</td>\n",
       "      <td>NaN</td>\n",
       "      <td>NaN</td>\n",
       "      <td>NaN</td>\n",
       "      <td>NaN</td>\n",
       "      <td>NaN</td>\n",
       "      <td>NaN</td>\n",
       "      <td>NaN</td>\n",
       "    </tr>\n",
       "  </tbody>\n",
       "</table>\n",
       "</div>"
      ],
      "text/plain": [
       "                     count unique                  top   freq      mean  \\\n",
       "children         21,525.00    NaN                  NaN    NaN      0.54   \n",
       "days_employed    19,351.00    NaN                  NaN    NaN 63,046.50   \n",
       "dob_years        21,525.00    NaN                  NaN    NaN     43.29   \n",
       "education            21525     15  secondary education  13750       NaN   \n",
       "education_id     21,525.00    NaN                  NaN    NaN      0.82   \n",
       "family_status        21525      5              married  12380       NaN   \n",
       "family_status_id 21,525.00    NaN                  NaN    NaN      0.97   \n",
       "gender               21525      3                    F  14236       NaN   \n",
       "income_type          21525      8             employee  11119       NaN   \n",
       "debt             21,525.00    NaN                  NaN    NaN      0.08   \n",
       "total_income     19,351.00    NaN                  NaN    NaN 26,787.57   \n",
       "purpose              21525     38     wedding ceremony    797       NaN   \n",
       "\n",
       "                        std        min       20%       40%       50%  \\\n",
       "children               1.38      -1.00      0.00      0.00      0.00   \n",
       "days_employed    140,827.31 -18,388.95 -3,212.16 -1,687.67 -1,203.37   \n",
       "dob_years             12.57       0.00     31.00     39.00     42.00   \n",
       "education               NaN        NaN       NaN       NaN       NaN   \n",
       "education_id           0.55       0.00      0.00      1.00      1.00   \n",
       "family_status           NaN        NaN       NaN       NaN       NaN   \n",
       "family_status_id       1.42       0.00      0.00      0.00      0.00   \n",
       "gender                  NaN        NaN       NaN       NaN       NaN   \n",
       "income_type             NaN        NaN       NaN       NaN       NaN   \n",
       "debt                   0.27       0.00      0.00      0.00      0.00   \n",
       "total_income      16,475.45   3,306.76 15,173.89 20,524.75 23,202.87   \n",
       "purpose                 NaN        NaN       NaN       NaN       NaN   \n",
       "\n",
       "                       60%       80%        max  \n",
       "children              0.00      1.00      20.00  \n",
       "days_employed      -819.65   -150.96 401,755.40  \n",
       "dob_years            47.00     56.00      75.00  \n",
       "education              NaN       NaN        NaN  \n",
       "education_id          1.00      1.00       4.00  \n",
       "family_status          NaN       NaN        NaN  \n",
       "family_status_id      1.00      2.00       4.00  \n",
       "gender                 NaN       NaN        NaN  \n",
       "income_type            NaN       NaN        NaN  \n",
       "debt                  0.00      0.00       1.00  \n",
       "total_income     26,345.75 35,697.21 362,496.65  \n",
       "purpose                NaN       NaN        NaN  "
      ]
     },
     "metadata": {},
     "output_type": "display_data"
    }
   ],
   "source": [
    "# applying get_info function\n",
    "get_info(data)"
   ]
  },
  {
   "cell_type": "markdown",
   "metadata": {},
   "source": [
    "The dataframe has 12 columns (2 of them - type float64, 5 - int64, 5 - object type) and 21525 rows.     \n",
    "The average age of the clients - 43 years, the main education level - secondary (13750 records), marital status - married (12380 records), loan purpose - wedding ceremony (797 records). Most of the clients are female (14236 records). \n",
    "\n",
    "**According to the documentation::**  \n",
    "\n",
    "- `children` — the number of children in the family;\n",
    "- `days_employed` — how long the customer has worked (days);\n",
    "- `dob_years` — customer's age;\n",
    "- `education` — customer's education;\n",
    "- `education_id` — education's ID;\n",
    "- `family_status` — customer's marital status;\n",
    "- `family_status_id` — customer's marital status identifier;\n",
    "- `gender` — customer’s gender;\n",
    "- `income_type` — customer’s income type;\n",
    "- `debt` — whether the client has ever took a loan;\n",
    "- `total_income` — annual income;\n",
    "- `purpose` — loan purpose;\n",
    "    \n",
    "**Brief data analysis:**\n",
    "\n",
    "* no issuses in column headings;\n",
    "* missing values in `days_empoloyed` and `total_income` columns;\n",
    "* `children` column: \n",
    "-- data artifacts were found (min value - (-1), max value - 20). Outliers check is needed.\n",
    "* `days_empoloyed` column: \n",
    "-- contains positive and negative values (we'll transform all of them to positive);\n",
    "-- data type is float64 (is not completely correct for days - type integer is needed);\n",
    "-- data artifacts were found (max value 401,755.40).  \n",
    "-- probably some of the values in this column are presented not in 'days' format (maybe hours). It usually happens after connection data from different resources. \n",
    "* `dob_years` column: \n",
    "-- data artifacts were found (min value -0). Outliers check is needed.\n",
    "* `education` column: \n",
    "-- 15 unique values (duplicates probably?)\n",
    "-- style issues: lowercase and uppercase letter, caps lock;\n",
    "* `purpose` column: \n",
    "-- 15 unique values (duplicates check is needed)."
   ]
  },
  {
   "cell_type": "markdown",
   "metadata": {},
   "source": [
    "## Interim conclusions <a id='id11'></a>   "
   ]
  },
  {
   "cell_type": "markdown",
   "metadata": {},
   "source": [
    "Each row of the table contains data about the borrower. Some columns contain personal information about the borrower - its age, gender, marital status, 'having children', others describe education, work experience and income. Also we have the brief information about its credit history - `debt` column and the purpose of the current loan - `purpose` column.\n",
    "\n",
    "It can be argued that currently available data is sufficient for the task. But this data needs to be processed: we need to check and remove duplicates, omit missing values, transform categorical values into lowercase, change data type in `days_employed` and `total_income` columns, find and delete outliers and data artifacts."
   ]
  },
  {
   "cell_type": "markdown",
   "metadata": {},
   "source": [
    "# Data preprocessing <a id='id2'></a>"
   ]
  },
  {
   "cell_type": "markdown",
   "metadata": {},
   "source": [
    "## Artifacts processing <a id='id20'></a>"
   ]
  },
  {
   "cell_type": "markdown",
   "metadata": {},
   "source": [
    "In this section we'll check and process outliers in `children`, `dob_years`, `gender` and `days_employed` columns with boxplots."
   ]
  },
  {
   "cell_type": "code",
   "execution_count": 8,
   "metadata": {},
   "outputs": [
    {
     "data": {
      "image/png": "[encoded data removed]",
      "text/plain": [
       "<Figure size 1800x1080 with 3 Axes>"
      ]
     },
     "metadata": {},
     "output_type": "display_data"
    }
   ],
   "source": [
    "# initial boxplot charts\n",
    "columns_required = ['children', 'dob_years', 'days_employed']\n",
    "fig = plt.figure(figsize=(25, 15))\n",
    "ncols = 2\n",
    "nrows = 2\n",
    "for i, column in enumerate(columns_required):\n",
    "    ax = fig.add_subplot(nrows, ncols, i + 1)\n",
    "    ax.set_title(column, fontsize=25)\n",
    "    ax.set_ylabel('Count', fontsize=20)\n",
    "    ax.tick_params(labelsize=15)\n",
    "    data[column].plot(kind='box')\n",
    "plt.subplots_adjust(hspace=0.7, wspace=0.2)"
   ]
  },
  {
   "cell_type": "code",
   "execution_count": 9,
   "metadata": {},
   "outputs": [],
   "source": [
    "# replacement the outliers in 'children' column with the 50th percentile - 0\n",
    "data.loc[data['children'] == 20, 'children'] = 0\n",
    "data.loc[data['children'] == -1, 'children'] = 0"
   ]
  },
  {
   "cell_type": "code",
   "execution_count": 10,
   "metadata": {},
   "outputs": [],
   "source": [
    "# replacement the outliers in 'dob_years' column with the 50th percentile - 42\n",
    "data.loc[data['dob_years'] == 0, 'dob_years'] = 42"
   ]
  },
  {
   "cell_type": "code",
   "execution_count": 11,
   "metadata": {},
   "outputs": [],
   "source": [
    "# transform all values in 'days_employed' column to positive\n",
    "data['days_employed'] = data['days_employed'].abs()"
   ]
  },
  {
   "cell_type": "code",
   "execution_count": 12,
   "metadata": {},
   "outputs": [
    {
     "data": {
      "text/html": [
       "<div>\n",
       "<style scoped>\n",
       "    .dataframe tbody tr th:only-of-type {\n",
       "        vertical-align: middle;\n",
       "    }\n",
       "\n",
       "    .dataframe tbody tr th {\n",
       "        vertical-align: top;\n",
       "    }\n",
       "\n",
       "    .dataframe thead th {\n",
       "        text-align: right;\n",
       "    }\n",
       "</style>\n",
       "<table border=\"1\" class=\"dataframe\">\n",
       "  <thead>\n",
       "    <tr style=\"text-align: right;\">\n",
       "      <th></th>\n",
       "      <th>children</th>\n",
       "    </tr>\n",
       "  </thead>\n",
       "  <tbody>\n",
       "    <tr>\n",
       "      <th>count</th>\n",
       "      <td>21,525.00</td>\n",
       "    </tr>\n",
       "    <tr>\n",
       "      <th>mean</th>\n",
       "      <td>0.47</td>\n",
       "    </tr>\n",
       "    <tr>\n",
       "      <th>std</th>\n",
       "      <td>0.75</td>\n",
       "    </tr>\n",
       "    <tr>\n",
       "      <th>min</th>\n",
       "      <td>0.00</td>\n",
       "    </tr>\n",
       "    <tr>\n",
       "      <th>25%</th>\n",
       "      <td>0.00</td>\n",
       "    </tr>\n",
       "    <tr>\n",
       "      <th>50%</th>\n",
       "      <td>0.00</td>\n",
       "    </tr>\n",
       "    <tr>\n",
       "      <th>75%</th>\n",
       "      <td>1.00</td>\n",
       "    </tr>\n",
       "    <tr>\n",
       "      <th>max</th>\n",
       "      <td>5.00</td>\n",
       "    </tr>\n",
       "  </tbody>\n",
       "</table>\n",
       "</div>"
      ],
      "text/plain": [
       "       children\n",
       "count 21,525.00\n",
       "mean       0.47\n",
       "std        0.75\n",
       "min        0.00\n",
       "25%        0.00\n",
       "50%        0.00\n",
       "75%        1.00\n",
       "max        5.00"
      ]
     },
     "metadata": {},
     "output_type": "display_data"
    },
    {
     "data": {
      "text/html": [
       "<div>\n",
       "<style scoped>\n",
       "    .dataframe tbody tr th:only-of-type {\n",
       "        vertical-align: middle;\n",
       "    }\n",
       "\n",
       "    .dataframe tbody tr th {\n",
       "        vertical-align: top;\n",
       "    }\n",
       "\n",
       "    .dataframe thead th {\n",
       "        text-align: right;\n",
       "    }\n",
       "</style>\n",
       "<table border=\"1\" class=\"dataframe\">\n",
       "  <thead>\n",
       "    <tr style=\"text-align: right;\">\n",
       "      <th></th>\n",
       "      <th>dob_years</th>\n",
       "    </tr>\n",
       "  </thead>\n",
       "  <tbody>\n",
       "    <tr>\n",
       "      <th>count</th>\n",
       "      <td>21,525.00</td>\n",
       "    </tr>\n",
       "    <tr>\n",
       "      <th>mean</th>\n",
       "      <td>43.49</td>\n",
       "    </tr>\n",
       "    <tr>\n",
       "      <th>std</th>\n",
       "      <td>12.22</td>\n",
       "    </tr>\n",
       "    <tr>\n",
       "      <th>min</th>\n",
       "      <td>19.00</td>\n",
       "    </tr>\n",
       "    <tr>\n",
       "      <th>25%</th>\n",
       "      <td>34.00</td>\n",
       "    </tr>\n",
       "    <tr>\n",
       "      <th>50%</th>\n",
       "      <td>42.00</td>\n",
       "    </tr>\n",
       "    <tr>\n",
       "      <th>75%</th>\n",
       "      <td>53.00</td>\n",
       "    </tr>\n",
       "    <tr>\n",
       "      <th>max</th>\n",
       "      <td>75.00</td>\n",
       "    </tr>\n",
       "  </tbody>\n",
       "</table>\n",
       "</div>"
      ],
      "text/plain": [
       "       dob_years\n",
       "count  21,525.00\n",
       "mean       43.49\n",
       "std        12.22\n",
       "min        19.00\n",
       "25%        34.00\n",
       "50%        42.00\n",
       "75%        53.00\n",
       "max        75.00"
      ]
     },
     "metadata": {},
     "output_type": "display_data"
    },
    {
     "data": {
      "text/html": [
       "<div>\n",
       "<style scoped>\n",
       "    .dataframe tbody tr th:only-of-type {\n",
       "        vertical-align: middle;\n",
       "    }\n",
       "\n",
       "    .dataframe tbody tr th {\n",
       "        vertical-align: top;\n",
       "    }\n",
       "\n",
       "    .dataframe thead th {\n",
       "        text-align: right;\n",
       "    }\n",
       "</style>\n",
       "<table border=\"1\" class=\"dataframe\">\n",
       "  <thead>\n",
       "    <tr style=\"text-align: right;\">\n",
       "      <th></th>\n",
       "      <th>days_employed</th>\n",
       "    </tr>\n",
       "  </thead>\n",
       "  <tbody>\n",
       "    <tr>\n",
       "      <th>count</th>\n",
       "      <td>19,351.00</td>\n",
       "    </tr>\n",
       "    <tr>\n",
       "      <th>mean</th>\n",
       "      <td>66,914.73</td>\n",
       "    </tr>\n",
       "    <tr>\n",
       "      <th>std</th>\n",
       "      <td>139,030.88</td>\n",
       "    </tr>\n",
       "    <tr>\n",
       "      <th>min</th>\n",
       "      <td>24.14</td>\n",
       "    </tr>\n",
       "    <tr>\n",
       "      <th>25%</th>\n",
       "      <td>927.01</td>\n",
       "    </tr>\n",
       "    <tr>\n",
       "      <th>50%</th>\n",
       "      <td>2,194.22</td>\n",
       "    </tr>\n",
       "    <tr>\n",
       "      <th>75%</th>\n",
       "      <td>5,537.88</td>\n",
       "    </tr>\n",
       "    <tr>\n",
       "      <th>max</th>\n",
       "      <td>401,755.40</td>\n",
       "    </tr>\n",
       "  </tbody>\n",
       "</table>\n",
       "</div>"
      ],
      "text/plain": [
       "       days_employed\n",
       "count      19,351.00\n",
       "mean       66,914.73\n",
       "std       139,030.88\n",
       "min            24.14\n",
       "25%           927.01\n",
       "50%         2,194.22\n",
       "75%         5,537.88\n",
       "max       401,755.40"
      ]
     },
     "metadata": {},
     "output_type": "display_data"
    },
    {
     "data": {
      "image/png": "[encoded data removed]",
      "text/plain": [
       "<Figure size 1800x1080 with 3 Axes>"
      ]
     },
     "metadata": {},
     "output_type": "display_data"
    }
   ],
   "source": [
    "# resulting boxplot charts\n",
    "columns_required = ['children', 'dob_years', 'days_employed']\n",
    "fig = plt.figure(figsize=(25, 15))\n",
    "ncols = 2\n",
    "nrows = 2\n",
    "for i, column in enumerate(columns_required):\n",
    "    display(data[[column]].describe())\n",
    "    ax = fig.add_subplot(nrows, ncols, i + 1)\n",
    "    ax.set_title(column, fontsize=25)\n",
    "    ax.set_ylabel('Count', fontsize=20)\n",
    "    ax.tick_params(labelsize=15)\n",
    "    data[column].plot(kind='box')\n",
    "plt.subplots_adjust(hspace=0.7, wspace=0.2)"
   ]
  },
  {
   "cell_type": "code",
   "execution_count": 13,
   "metadata": {},
   "outputs": [
    {
     "data": {
      "text/plain": [
       "array(['F', 'M', 'XNA'], dtype=object)"
      ]
     },
     "execution_count": 13,
     "metadata": {},
     "output_type": "execute_result"
    }
   ],
   "source": [
    "# unique values in 'gender' column\n",
    "data['gender'].unique()"
   ]
  },
  {
   "cell_type": "code",
   "execution_count": 14,
   "metadata": {},
   "outputs": [],
   "source": [
    "# replacement the wrong value with the most common - F\n",
    "data.loc[data['gender'] == 'XNA', 'gender'] = 'F'"
   ]
  },
  {
   "cell_type": "code",
   "execution_count": 15,
   "metadata": {},
   "outputs": [
    {
     "data": {
      "text/plain": [
       "array(['F', 'M'], dtype=object)"
      ]
     },
     "execution_count": 15,
     "metadata": {},
     "output_type": "execute_result"
    }
   ],
   "source": [
    "# check\n",
    "data['gender'].unique()"
   ]
  },
  {
   "cell_type": "code",
   "execution_count": 16,
   "metadata": {
    "scrolled": false
   },
   "outputs": [
    {
     "data": {
      "image/png": "[encoded data removed]",
      "text/plain": [
       "<Figure size 720x720 with 1 Axes>"
      ]
     },
     "metadata": {},
     "output_type": "display_data"
    }
   ],
   "source": [
    "# histogram for 'days_employed' column \n",
    "sns.histplot(data['days_employed'], bins=10, kde=True)\n",
    "plt.title('Work experience distribution', fontdict={'size':20})\n",
    "plt.xlabel('Days employed', fontdict={'size':15})\n",
    "plt.ylabel('Count', fontdict={'size':15});"
   ]
  },
  {
   "cell_type": "markdown",
   "metadata": {},
   "source": [
    "It seems that some values in this column have been recorded in hours. We'll write a function to convert those values to days."
   ]
  },
  {
   "cell_type": "code",
   "execution_count": 17,
   "metadata": {},
   "outputs": [],
   "source": [
    "# convert function\n",
    "def hours_to_days(hours):\n",
    "    '''The function takes a value as an input. If the value is greater than 300000 (this value was chosen empirically)\n",
    "    divides it by 24. Returns the new value.'''\n",
    "    if hours > 300000:\n",
    "        hours = hours / 24\n",
    "    return hours"
   ]
  },
  {
   "cell_type": "code",
   "execution_count": 18,
   "metadata": {},
   "outputs": [],
   "source": [
    "# applying the function to 'days_employed' column\n",
    "data['days_employed'] = data['days_employed'].apply(hours_to_days)"
   ]
  },
  {
   "cell_type": "code",
   "execution_count": 19,
   "metadata": {
    "scrolled": false
   },
   "outputs": [
    {
     "data": {
      "text/html": [
       "<div>\n",
       "<style scoped>\n",
       "    .dataframe tbody tr th:only-of-type {\n",
       "        vertical-align: middle;\n",
       "    }\n",
       "\n",
       "    .dataframe tbody tr th {\n",
       "        vertical-align: top;\n",
       "    }\n",
       "\n",
       "    .dataframe thead th {\n",
       "        text-align: right;\n",
       "    }\n",
       "</style>\n",
       "<table border=\"1\" class=\"dataframe\">\n",
       "  <thead>\n",
       "    <tr style=\"text-align: right;\">\n",
       "      <th></th>\n",
       "      <th>days_employed</th>\n",
       "    </tr>\n",
       "  </thead>\n",
       "  <tbody>\n",
       "    <tr>\n",
       "      <th>count</th>\n",
       "      <td>19,351.00</td>\n",
       "    </tr>\n",
       "    <tr>\n",
       "      <th>mean</th>\n",
       "      <td>4,641.64</td>\n",
       "    </tr>\n",
       "    <tr>\n",
       "      <th>std</th>\n",
       "      <td>5,355.96</td>\n",
       "    </tr>\n",
       "    <tr>\n",
       "      <th>min</th>\n",
       "      <td>24.14</td>\n",
       "    </tr>\n",
       "    <tr>\n",
       "      <th>25%</th>\n",
       "      <td>927.01</td>\n",
       "    </tr>\n",
       "    <tr>\n",
       "      <th>50%</th>\n",
       "      <td>2,194.22</td>\n",
       "    </tr>\n",
       "    <tr>\n",
       "      <th>75%</th>\n",
       "      <td>5,537.88</td>\n",
       "    </tr>\n",
       "    <tr>\n",
       "      <th>max</th>\n",
       "      <td>18,388.95</td>\n",
       "    </tr>\n",
       "  </tbody>\n",
       "</table>\n",
       "</div>"
      ],
      "text/plain": [
       "       days_employed\n",
       "count      19,351.00\n",
       "mean        4,641.64\n",
       "std         5,355.96\n",
       "min            24.14\n",
       "25%           927.01\n",
       "50%         2,194.22\n",
       "75%         5,537.88\n",
       "max        18,388.95"
      ]
     },
     "metadata": {},
     "output_type": "display_data"
    },
    {
     "data": {
      "image/png": "[encoded data removed]",
      "text/plain": [
       "<Figure size 720x720 with 1 Axes>"
      ]
     },
     "metadata": {},
     "output_type": "display_data"
    }
   ],
   "source": [
    "# check\n",
    "display(data[['days_employed']].describe())\n",
    "data['days_employed'].hist(bins=100);"
   ]
  },
  {
   "cell_type": "markdown",
   "metadata": {},
   "source": [
    "So after applying the function we still have some values greater than 12500 days (34,2 years). We'll check this records (and relate these values to borrower's age)."
   ]
  },
  {
   "cell_type": "code",
   "execution_count": 20,
   "metadata": {
    "scrolled": false
   },
   "outputs": [
    {
     "data": {
      "text/html": [
       "<div>\n",
       "<style scoped>\n",
       "    .dataframe tbody tr th:only-of-type {\n",
       "        vertical-align: middle;\n",
       "    }\n",
       "\n",
       "    .dataframe tbody tr th {\n",
       "        vertical-align: top;\n",
       "    }\n",
       "\n",
       "    .dataframe thead th {\n",
       "        text-align: right;\n",
       "    }\n",
       "</style>\n",
       "<table border=\"1\" class=\"dataframe\">\n",
       "  <thead>\n",
       "    <tr style=\"text-align: right;\">\n",
       "      <th></th>\n",
       "      <th>children</th>\n",
       "      <th>days_employed</th>\n",
       "      <th>dob_years</th>\n",
       "      <th>education</th>\n",
       "      <th>education_id</th>\n",
       "      <th>family_status</th>\n",
       "      <th>family_status_id</th>\n",
       "      <th>gender</th>\n",
       "      <th>income_type</th>\n",
       "      <th>debt</th>\n",
       "      <th>total_income</th>\n",
       "      <th>purpose</th>\n",
       "    </tr>\n",
       "  </thead>\n",
       "  <tbody>\n",
       "    <tr>\n",
       "      <th>16289</th>\n",
       "      <td>0</td>\n",
       "      <td>15,762.09</td>\n",
       "      <td>59</td>\n",
       "      <td>bachelor's degree</td>\n",
       "      <td>0</td>\n",
       "      <td>married</td>\n",
       "      <td>0</td>\n",
       "      <td>F</td>\n",
       "      <td>retiree</td>\n",
       "      <td>0</td>\n",
       "      <td>27,545.61</td>\n",
       "      <td>to get a supplementary education</td>\n",
       "    </tr>\n",
       "    <tr>\n",
       "      <th>5707</th>\n",
       "      <td>0</td>\n",
       "      <td>16,300.78</td>\n",
       "      <td>61</td>\n",
       "      <td>secondary education</td>\n",
       "      <td>1</td>\n",
       "      <td>unmarried</td>\n",
       "      <td>4</td>\n",
       "      <td>F</td>\n",
       "      <td>retiree</td>\n",
       "      <td>0</td>\n",
       "      <td>7,599.56</td>\n",
       "      <td>purchase of the house for my family</td>\n",
       "    </tr>\n",
       "    <tr>\n",
       "      <th>16812</th>\n",
       "      <td>0</td>\n",
       "      <td>14,758.79</td>\n",
       "      <td>60</td>\n",
       "      <td>secondary education</td>\n",
       "      <td>1</td>\n",
       "      <td>widow / widower</td>\n",
       "      <td>2</td>\n",
       "      <td>F</td>\n",
       "      <td>retiree</td>\n",
       "      <td>1</td>\n",
       "      <td>8,282.71</td>\n",
       "      <td>car purchase</td>\n",
       "    </tr>\n",
       "    <tr>\n",
       "      <th>14932</th>\n",
       "      <td>0</td>\n",
       "      <td>15,620.30</td>\n",
       "      <td>64</td>\n",
       "      <td>secondary education</td>\n",
       "      <td>1</td>\n",
       "      <td>widow / widower</td>\n",
       "      <td>2</td>\n",
       "      <td>F</td>\n",
       "      <td>retiree</td>\n",
       "      <td>0</td>\n",
       "      <td>15,247.69</td>\n",
       "      <td>buy commercial real estate</td>\n",
       "    </tr>\n",
       "    <tr>\n",
       "      <th>14339</th>\n",
       "      <td>0</td>\n",
       "      <td>14,688.57</td>\n",
       "      <td>56</td>\n",
       "      <td>secondary education</td>\n",
       "      <td>1</td>\n",
       "      <td>married</td>\n",
       "      <td>0</td>\n",
       "      <td>M</td>\n",
       "      <td>retiree</td>\n",
       "      <td>0</td>\n",
       "      <td>23,959.39</td>\n",
       "      <td>purchase of my own house</td>\n",
       "    </tr>\n",
       "    <tr>\n",
       "      <th>16637</th>\n",
       "      <td>0</td>\n",
       "      <td>16,595.37</td>\n",
       "      <td>62</td>\n",
       "      <td>secondary education</td>\n",
       "      <td>1</td>\n",
       "      <td>married</td>\n",
       "      <td>0</td>\n",
       "      <td>F</td>\n",
       "      <td>retiree</td>\n",
       "      <td>0</td>\n",
       "      <td>12,306.98</td>\n",
       "      <td>transactions with my real estate</td>\n",
       "    </tr>\n",
       "    <tr>\n",
       "      <th>6809</th>\n",
       "      <td>1</td>\n",
       "      <td>15,855.83</td>\n",
       "      <td>62</td>\n",
       "      <td>secondary education</td>\n",
       "      <td>1</td>\n",
       "      <td>married</td>\n",
       "      <td>0</td>\n",
       "      <td>F</td>\n",
       "      <td>retiree</td>\n",
       "      <td>0</td>\n",
       "      <td>34,031.21</td>\n",
       "      <td>transactions with commercial real estate</td>\n",
       "    </tr>\n",
       "    <tr>\n",
       "      <th>9170</th>\n",
       "      <td>0</td>\n",
       "      <td>15,436.31</td>\n",
       "      <td>55</td>\n",
       "      <td>secondary education</td>\n",
       "      <td>1</td>\n",
       "      <td>married</td>\n",
       "      <td>0</td>\n",
       "      <td>F</td>\n",
       "      <td>retiree</td>\n",
       "      <td>0</td>\n",
       "      <td>24,788.76</td>\n",
       "      <td>getting higher education</td>\n",
       "    </tr>\n",
       "    <tr>\n",
       "      <th>21218</th>\n",
       "      <td>0</td>\n",
       "      <td>16,478.33</td>\n",
       "      <td>48</td>\n",
       "      <td>secondary education</td>\n",
       "      <td>1</td>\n",
       "      <td>married</td>\n",
       "      <td>0</td>\n",
       "      <td>F</td>\n",
       "      <td>retiree</td>\n",
       "      <td>0</td>\n",
       "      <td>18,749.92</td>\n",
       "      <td>purchase of the house for my family</td>\n",
       "    </tr>\n",
       "    <tr>\n",
       "      <th>21342</th>\n",
       "      <td>0</td>\n",
       "      <td>16,401.93</td>\n",
       "      <td>63</td>\n",
       "      <td>secondary education</td>\n",
       "      <td>1</td>\n",
       "      <td>married</td>\n",
       "      <td>0</td>\n",
       "      <td>M</td>\n",
       "      <td>retiree</td>\n",
       "      <td>1</td>\n",
       "      <td>30,036.67</td>\n",
       "      <td>education</td>\n",
       "    </tr>\n",
       "    <tr>\n",
       "      <th>9092</th>\n",
       "      <td>0</td>\n",
       "      <td>15,104.19</td>\n",
       "      <td>57</td>\n",
       "      <td>secondary education</td>\n",
       "      <td>1</td>\n",
       "      <td>unmarried</td>\n",
       "      <td>4</td>\n",
       "      <td>F</td>\n",
       "      <td>retiree</td>\n",
       "      <td>0</td>\n",
       "      <td>7,855.54</td>\n",
       "      <td>building a real estate</td>\n",
       "    </tr>\n",
       "    <tr>\n",
       "      <th>10861</th>\n",
       "      <td>0</td>\n",
       "      <td>14,456.31</td>\n",
       "      <td>51</td>\n",
       "      <td>secondary education</td>\n",
       "      <td>1</td>\n",
       "      <td>married</td>\n",
       "      <td>0</td>\n",
       "      <td>F</td>\n",
       "      <td>retiree</td>\n",
       "      <td>0</td>\n",
       "      <td>11,125.97</td>\n",
       "      <td>buying my own car</td>\n",
       "    </tr>\n",
       "    <tr>\n",
       "      <th>8594</th>\n",
       "      <td>0</td>\n",
       "      <td>14,737.01</td>\n",
       "      <td>59</td>\n",
       "      <td>secondary education</td>\n",
       "      <td>1</td>\n",
       "      <td>civil partnership</td>\n",
       "      <td>1</td>\n",
       "      <td>F</td>\n",
       "      <td>retiree</td>\n",
       "      <td>0</td>\n",
       "      <td>13,261.85</td>\n",
       "      <td>wedding ceremony</td>\n",
       "    </tr>\n",
       "    <tr>\n",
       "      <th>2850</th>\n",
       "      <td>0</td>\n",
       "      <td>14,947.19</td>\n",
       "      <td>64</td>\n",
       "      <td>SOME COLLEGE</td>\n",
       "      <td>2</td>\n",
       "      <td>married</td>\n",
       "      <td>0</td>\n",
       "      <td>F</td>\n",
       "      <td>retiree</td>\n",
       "      <td>0</td>\n",
       "      <td>65,981.82</td>\n",
       "      <td>purchase of the house</td>\n",
       "    </tr>\n",
       "    <tr>\n",
       "      <th>18829</th>\n",
       "      <td>0</td>\n",
       "      <td>16,387.43</td>\n",
       "      <td>56</td>\n",
       "      <td>secondary education</td>\n",
       "      <td>1</td>\n",
       "      <td>married</td>\n",
       "      <td>0</td>\n",
       "      <td>F</td>\n",
       "      <td>retiree</td>\n",
       "      <td>0</td>\n",
       "      <td>20,248.68</td>\n",
       "      <td>property</td>\n",
       "    </tr>\n",
       "    <tr>\n",
       "      <th>18682</th>\n",
       "      <td>0</td>\n",
       "      <td>15,113.50</td>\n",
       "      <td>49</td>\n",
       "      <td>Secondary Education</td>\n",
       "      <td>1</td>\n",
       "      <td>divorced</td>\n",
       "      <td>3</td>\n",
       "      <td>F</td>\n",
       "      <td>retiree</td>\n",
       "      <td>0</td>\n",
       "      <td>6,845.20</td>\n",
       "      <td>transactions with commercial real estate</td>\n",
       "    </tr>\n",
       "    <tr>\n",
       "      <th>18912</th>\n",
       "      <td>0</td>\n",
       "      <td>14,193.95</td>\n",
       "      <td>63</td>\n",
       "      <td>secondary education</td>\n",
       "      <td>1</td>\n",
       "      <td>unmarried</td>\n",
       "      <td>4</td>\n",
       "      <td>F</td>\n",
       "      <td>retiree</td>\n",
       "      <td>0</td>\n",
       "      <td>58,743.20</td>\n",
       "      <td>housing renovation</td>\n",
       "    </tr>\n",
       "    <tr>\n",
       "      <th>210</th>\n",
       "      <td>2</td>\n",
       "      <td>14,256.97</td>\n",
       "      <td>55</td>\n",
       "      <td>primary education</td>\n",
       "      <td>3</td>\n",
       "      <td>widow / widower</td>\n",
       "      <td>2</td>\n",
       "      <td>F</td>\n",
       "      <td>retiree</td>\n",
       "      <td>0</td>\n",
       "      <td>25,701.62</td>\n",
       "      <td>building a real estate</td>\n",
       "    </tr>\n",
       "    <tr>\n",
       "      <th>12708</th>\n",
       "      <td>1</td>\n",
       "      <td>15,402.15</td>\n",
       "      <td>68</td>\n",
       "      <td>secondary education</td>\n",
       "      <td>1</td>\n",
       "      <td>married</td>\n",
       "      <td>0</td>\n",
       "      <td>F</td>\n",
       "      <td>retiree</td>\n",
       "      <td>0</td>\n",
       "      <td>4,818.55</td>\n",
       "      <td>transactions with my real estate</td>\n",
       "    </tr>\n",
       "    <tr>\n",
       "      <th>12194</th>\n",
       "      <td>0</td>\n",
       "      <td>14,325.52</td>\n",
       "      <td>54</td>\n",
       "      <td>secondary education</td>\n",
       "      <td>1</td>\n",
       "      <td>married</td>\n",
       "      <td>0</td>\n",
       "      <td>F</td>\n",
       "      <td>retiree</td>\n",
       "      <td>0</td>\n",
       "      <td>15,694.17</td>\n",
       "      <td>to become educated</td>\n",
       "    </tr>\n",
       "  </tbody>\n",
       "</table>\n",
       "</div>"
      ],
      "text/plain": [
       "       children  days_employed  dob_years            education  education_id  \\\n",
       "16289         0      15,762.09         59    bachelor's degree             0   \n",
       "5707          0      16,300.78         61  secondary education             1   \n",
       "16812         0      14,758.79         60  secondary education             1   \n",
       "14932         0      15,620.30         64  secondary education             1   \n",
       "14339         0      14,688.57         56  secondary education             1   \n",
       "16637         0      16,595.37         62  secondary education             1   \n",
       "6809          1      15,855.83         62  secondary education             1   \n",
       "9170          0      15,436.31         55  secondary education             1   \n",
       "21218         0      16,478.33         48  secondary education             1   \n",
       "21342         0      16,401.93         63  secondary education             1   \n",
       "9092          0      15,104.19         57  secondary education             1   \n",
       "10861         0      14,456.31         51  secondary education             1   \n",
       "8594          0      14,737.01         59  secondary education             1   \n",
       "2850          0      14,947.19         64         SOME COLLEGE             2   \n",
       "18829         0      16,387.43         56  secondary education             1   \n",
       "18682         0      15,113.50         49  Secondary Education             1   \n",
       "18912         0      14,193.95         63  secondary education             1   \n",
       "210           2      14,256.97         55    primary education             3   \n",
       "12708         1      15,402.15         68  secondary education             1   \n",
       "12194         0      14,325.52         54  secondary education             1   \n",
       "\n",
       "           family_status  family_status_id gender income_type  debt  \\\n",
       "16289            married                 0      F     retiree     0   \n",
       "5707           unmarried                 4      F     retiree     0   \n",
       "16812    widow / widower                 2      F     retiree     1   \n",
       "14932    widow / widower                 2      F     retiree     0   \n",
       "14339            married                 0      M     retiree     0   \n",
       "16637            married                 0      F     retiree     0   \n",
       "6809             married                 0      F     retiree     0   \n",
       "9170             married                 0      F     retiree     0   \n",
       "21218            married                 0      F     retiree     0   \n",
       "21342            married                 0      M     retiree     1   \n",
       "9092           unmarried                 4      F     retiree     0   \n",
       "10861            married                 0      F     retiree     0   \n",
       "8594   civil partnership                 1      F     retiree     0   \n",
       "2850             married                 0      F     retiree     0   \n",
       "18829            married                 0      F     retiree     0   \n",
       "18682           divorced                 3      F     retiree     0   \n",
       "18912          unmarried                 4      F     retiree     0   \n",
       "210      widow / widower                 2      F     retiree     0   \n",
       "12708            married                 0      F     retiree     0   \n",
       "12194            married                 0      F     retiree     0   \n",
       "\n",
       "       total_income                                   purpose  \n",
       "16289     27,545.61          to get a supplementary education  \n",
       "5707       7,599.56       purchase of the house for my family  \n",
       "16812      8,282.71                              car purchase  \n",
       "14932     15,247.69                buy commercial real estate  \n",
       "14339     23,959.39                  purchase of my own house  \n",
       "16637     12,306.98          transactions with my real estate  \n",
       "6809      34,031.21  transactions with commercial real estate  \n",
       "9170      24,788.76                  getting higher education  \n",
       "21218     18,749.92       purchase of the house for my family  \n",
       "21342     30,036.67                                 education  \n",
       "9092       7,855.54                    building a real estate  \n",
       "10861     11,125.97                         buying my own car  \n",
       "8594      13,261.85                          wedding ceremony  \n",
       "2850      65,981.82                     purchase of the house  \n",
       "18829     20,248.68                                  property  \n",
       "18682      6,845.20  transactions with commercial real estate  \n",
       "18912     58,743.20                        housing renovation  \n",
       "210       25,701.62                    building a real estate  \n",
       "12708      4,818.55          transactions with my real estate  \n",
       "12194     15,694.17                        to become educated  "
      ]
     },
     "execution_count": 20,
     "metadata": {},
     "output_type": "execute_result"
    }
   ],
   "source": [
    "# sample with work experience greater than 12500 days\n",
    "data[data['days_employed'] > 12500].sample(20, random_state=666)"
   ]
  },
  {
   "cell_type": "markdown",
   "metadata": {},
   "source": [
    "Most people in this sample are over 50 years old. Hence days empolyed values are correct. "
   ]
  },
  {
   "cell_type": "markdown",
   "metadata": {},
   "source": [
    "## Missing values processing <a id='id21'></a>"
   ]
  },
  {
   "cell_type": "code",
   "execution_count": 21,
   "metadata": {
    "scrolled": false
   },
   "outputs": [
    {
     "data": {
      "text/html": [
       "<style  type=\"text/css\" >\n",
       "#T_65532_row0_col0,#T_65532_row0_col1,#T_65532_row2_col0,#T_65532_row2_col1,#T_65532_row3_col0,#T_65532_row3_col1,#T_65532_row4_col0,#T_65532_row4_col1,#T_65532_row5_col0,#T_65532_row5_col1,#T_65532_row6_col0,#T_65532_row6_col1,#T_65532_row7_col0,#T_65532_row7_col1,#T_65532_row8_col0,#T_65532_row8_col1,#T_65532_row9_col0,#T_65532_row9_col1,#T_65532_row11_col0,#T_65532_row11_col1{\n",
       "            background-color:  #3b4cc0;\n",
       "            color:  #f1f1f1;\n",
       "        }#T_65532_row1_col0,#T_65532_row1_col1,#T_65532_row10_col0,#T_65532_row10_col1{\n",
       "            background-color:  #b40426;\n",
       "            color:  #f1f1f1;\n",
       "        }</style><table id=\"T_65532_\" ><thead>    <tr>        <th class=\"blank level0\" ></th>        <th class=\"col_heading level0 col0\" >missing_values</th>        <th class=\"col_heading level0 col1\" >% of total</th>    </tr></thead><tbody>\n",
       "                <tr>\n",
       "                        <th id=\"T_65532_level0_row0\" class=\"row_heading level0 row0\" >children</th>\n",
       "                        <td id=\"T_65532_row0_col0\" class=\"data row0 col0\" >0</td>\n",
       "                        <td id=\"T_65532_row0_col1\" class=\"data row0 col1\" >0.000000</td>\n",
       "            </tr>\n",
       "            <tr>\n",
       "                        <th id=\"T_65532_level0_row1\" class=\"row_heading level0 row1\" >days_employed</th>\n",
       "                        <td id=\"T_65532_row1_col0\" class=\"data row1 col0\" >2174</td>\n",
       "                        <td id=\"T_65532_row1_col1\" class=\"data row1 col1\" >10.100000</td>\n",
       "            </tr>\n",
       "            <tr>\n",
       "                        <th id=\"T_65532_level0_row2\" class=\"row_heading level0 row2\" >dob_years</th>\n",
       "                        <td id=\"T_65532_row2_col0\" class=\"data row2 col0\" >0</td>\n",
       "                        <td id=\"T_65532_row2_col1\" class=\"data row2 col1\" >0.000000</td>\n",
       "            </tr>\n",
       "            <tr>\n",
       "                        <th id=\"T_65532_level0_row3\" class=\"row_heading level0 row3\" >education</th>\n",
       "                        <td id=\"T_65532_row3_col0\" class=\"data row3 col0\" >0</td>\n",
       "                        <td id=\"T_65532_row3_col1\" class=\"data row3 col1\" >0.000000</td>\n",
       "            </tr>\n",
       "            <tr>\n",
       "                        <th id=\"T_65532_level0_row4\" class=\"row_heading level0 row4\" >education_id</th>\n",
       "                        <td id=\"T_65532_row4_col0\" class=\"data row4 col0\" >0</td>\n",
       "                        <td id=\"T_65532_row4_col1\" class=\"data row4 col1\" >0.000000</td>\n",
       "            </tr>\n",
       "            <tr>\n",
       "                        <th id=\"T_65532_level0_row5\" class=\"row_heading level0 row5\" >family_status</th>\n",
       "                        <td id=\"T_65532_row5_col0\" class=\"data row5 col0\" >0</td>\n",
       "                        <td id=\"T_65532_row5_col1\" class=\"data row5 col1\" >0.000000</td>\n",
       "            </tr>\n",
       "            <tr>\n",
       "                        <th id=\"T_65532_level0_row6\" class=\"row_heading level0 row6\" >family_status_id</th>\n",
       "                        <td id=\"T_65532_row6_col0\" class=\"data row6 col0\" >0</td>\n",
       "                        <td id=\"T_65532_row6_col1\" class=\"data row6 col1\" >0.000000</td>\n",
       "            </tr>\n",
       "            <tr>\n",
       "                        <th id=\"T_65532_level0_row7\" class=\"row_heading level0 row7\" >gender</th>\n",
       "                        <td id=\"T_65532_row7_col0\" class=\"data row7 col0\" >0</td>\n",
       "                        <td id=\"T_65532_row7_col1\" class=\"data row7 col1\" >0.000000</td>\n",
       "            </tr>\n",
       "            <tr>\n",
       "                        <th id=\"T_65532_level0_row8\" class=\"row_heading level0 row8\" >income_type</th>\n",
       "                        <td id=\"T_65532_row8_col0\" class=\"data row8 col0\" >0</td>\n",
       "                        <td id=\"T_65532_row8_col1\" class=\"data row8 col1\" >0.000000</td>\n",
       "            </tr>\n",
       "            <tr>\n",
       "                        <th id=\"T_65532_level0_row9\" class=\"row_heading level0 row9\" >debt</th>\n",
       "                        <td id=\"T_65532_row9_col0\" class=\"data row9 col0\" >0</td>\n",
       "                        <td id=\"T_65532_row9_col1\" class=\"data row9 col1\" >0.000000</td>\n",
       "            </tr>\n",
       "            <tr>\n",
       "                        <th id=\"T_65532_level0_row10\" class=\"row_heading level0 row10\" >total_income</th>\n",
       "                        <td id=\"T_65532_row10_col0\" class=\"data row10 col0\" >2174</td>\n",
       "                        <td id=\"T_65532_row10_col1\" class=\"data row10 col1\" >10.100000</td>\n",
       "            </tr>\n",
       "            <tr>\n",
       "                        <th id=\"T_65532_level0_row11\" class=\"row_heading level0 row11\" >purpose</th>\n",
       "                        <td id=\"T_65532_row11_col0\" class=\"data row11 col0\" >0</td>\n",
       "                        <td id=\"T_65532_row11_col1\" class=\"data row11 col1\" >0.000000</td>\n",
       "            </tr>\n",
       "    </tbody></table>"
      ],
      "text/plain": [
       "<pandas.io.formats.style.Styler at 0x7f96f5494a00>"
      ]
     },
     "execution_count": 21,
     "metadata": {},
     "output_type": "execute_result"
    }
   ],
   "source": [
    "# missing values calculation\n",
    "report = data.isna().sum().to_frame()\n",
    "report = report.rename(columns = {0: 'missing_values'})\n",
    "report['% of total'] = (100 * report['missing_values'] / data.shape[0]).round(2)\n",
    "report.sort_values(by = 'missing_values', ascending = False)\n",
    "report.style.background_gradient('coolwarm')"
   ]
  },
  {
   "cell_type": "markdown",
   "metadata": {},
   "source": [
    "There are missing values in `days_employed` and `total_income` columns. We'll take a look at a sample to check any relatons between them."
   ]
  },
  {
   "cell_type": "code",
   "execution_count": 22,
   "metadata": {},
   "outputs": [
    {
     "data": {
      "text/html": [
       "<div>\n",
       "<style scoped>\n",
       "    .dataframe tbody tr th:only-of-type {\n",
       "        vertical-align: middle;\n",
       "    }\n",
       "\n",
       "    .dataframe tbody tr th {\n",
       "        vertical-align: top;\n",
       "    }\n",
       "\n",
       "    .dataframe thead th {\n",
       "        text-align: right;\n",
       "    }\n",
       "</style>\n",
       "<table border=\"1\" class=\"dataframe\">\n",
       "  <thead>\n",
       "    <tr style=\"text-align: right;\">\n",
       "      <th></th>\n",
       "      <th>children</th>\n",
       "      <th>days_employed</th>\n",
       "      <th>dob_years</th>\n",
       "      <th>education</th>\n",
       "      <th>education_id</th>\n",
       "      <th>family_status</th>\n",
       "      <th>family_status_id</th>\n",
       "      <th>gender</th>\n",
       "      <th>income_type</th>\n",
       "      <th>debt</th>\n",
       "      <th>total_income</th>\n",
       "      <th>purpose</th>\n",
       "    </tr>\n",
       "  </thead>\n",
       "  <tbody>\n",
       "    <tr>\n",
       "      <th>11734</th>\n",
       "      <td>3</td>\n",
       "      <td>NaN</td>\n",
       "      <td>37</td>\n",
       "      <td>secondary education</td>\n",
       "      <td>1</td>\n",
       "      <td>married</td>\n",
       "      <td>0</td>\n",
       "      <td>F</td>\n",
       "      <td>employee</td>\n",
       "      <td>0</td>\n",
       "      <td>NaN</td>\n",
       "      <td>getting an education</td>\n",
       "    </tr>\n",
       "    <tr>\n",
       "      <th>11794</th>\n",
       "      <td>0</td>\n",
       "      <td>NaN</td>\n",
       "      <td>59</td>\n",
       "      <td>SECONDARY EDUCATION</td>\n",
       "      <td>1</td>\n",
       "      <td>married</td>\n",
       "      <td>0</td>\n",
       "      <td>F</td>\n",
       "      <td>employee</td>\n",
       "      <td>0</td>\n",
       "      <td>NaN</td>\n",
       "      <td>cars</td>\n",
       "    </tr>\n",
       "    <tr>\n",
       "      <th>16748</th>\n",
       "      <td>2</td>\n",
       "      <td>NaN</td>\n",
       "      <td>30</td>\n",
       "      <td>some college</td>\n",
       "      <td>2</td>\n",
       "      <td>married</td>\n",
       "      <td>0</td>\n",
       "      <td>F</td>\n",
       "      <td>business</td>\n",
       "      <td>0</td>\n",
       "      <td>NaN</td>\n",
       "      <td>supplementary education</td>\n",
       "    </tr>\n",
       "    <tr>\n",
       "      <th>3708</th>\n",
       "      <td>1</td>\n",
       "      <td>NaN</td>\n",
       "      <td>29</td>\n",
       "      <td>secondary education</td>\n",
       "      <td>1</td>\n",
       "      <td>divorced</td>\n",
       "      <td>3</td>\n",
       "      <td>F</td>\n",
       "      <td>employee</td>\n",
       "      <td>0</td>\n",
       "      <td>NaN</td>\n",
       "      <td>housing transactions</td>\n",
       "    </tr>\n",
       "    <tr>\n",
       "      <th>19479</th>\n",
       "      <td>2</td>\n",
       "      <td>NaN</td>\n",
       "      <td>34</td>\n",
       "      <td>secondary education</td>\n",
       "      <td>1</td>\n",
       "      <td>civil partnership</td>\n",
       "      <td>1</td>\n",
       "      <td>F</td>\n",
       "      <td>employee</td>\n",
       "      <td>0</td>\n",
       "      <td>NaN</td>\n",
       "      <td>wedding ceremony</td>\n",
       "    </tr>\n",
       "    <tr>\n",
       "      <th>7836</th>\n",
       "      <td>0</td>\n",
       "      <td>NaN</td>\n",
       "      <td>60</td>\n",
       "      <td>secondary education</td>\n",
       "      <td>1</td>\n",
       "      <td>divorced</td>\n",
       "      <td>3</td>\n",
       "      <td>F</td>\n",
       "      <td>retiree</td>\n",
       "      <td>0</td>\n",
       "      <td>NaN</td>\n",
       "      <td>buying my own car</td>\n",
       "    </tr>\n",
       "    <tr>\n",
       "      <th>16035</th>\n",
       "      <td>1</td>\n",
       "      <td>NaN</td>\n",
       "      <td>34</td>\n",
       "      <td>secondary education</td>\n",
       "      <td>1</td>\n",
       "      <td>married</td>\n",
       "      <td>0</td>\n",
       "      <td>F</td>\n",
       "      <td>employee</td>\n",
       "      <td>0</td>\n",
       "      <td>NaN</td>\n",
       "      <td>second-hand car purchase</td>\n",
       "    </tr>\n",
       "    <tr>\n",
       "      <th>7941</th>\n",
       "      <td>0</td>\n",
       "      <td>NaN</td>\n",
       "      <td>37</td>\n",
       "      <td>secondary education</td>\n",
       "      <td>1</td>\n",
       "      <td>unmarried</td>\n",
       "      <td>4</td>\n",
       "      <td>F</td>\n",
       "      <td>business</td>\n",
       "      <td>0</td>\n",
       "      <td>NaN</td>\n",
       "      <td>to get a supplementary education</td>\n",
       "    </tr>\n",
       "    <tr>\n",
       "      <th>8294</th>\n",
       "      <td>0</td>\n",
       "      <td>NaN</td>\n",
       "      <td>28</td>\n",
       "      <td>bachelor's degree</td>\n",
       "      <td>0</td>\n",
       "      <td>married</td>\n",
       "      <td>0</td>\n",
       "      <td>M</td>\n",
       "      <td>business</td>\n",
       "      <td>0</td>\n",
       "      <td>NaN</td>\n",
       "      <td>building a property</td>\n",
       "    </tr>\n",
       "    <tr>\n",
       "      <th>11917</th>\n",
       "      <td>1</td>\n",
       "      <td>NaN</td>\n",
       "      <td>31</td>\n",
       "      <td>secondary education</td>\n",
       "      <td>1</td>\n",
       "      <td>unmarried</td>\n",
       "      <td>4</td>\n",
       "      <td>F</td>\n",
       "      <td>employee</td>\n",
       "      <td>0</td>\n",
       "      <td>NaN</td>\n",
       "      <td>to buy a car</td>\n",
       "    </tr>\n",
       "    <tr>\n",
       "      <th>5176</th>\n",
       "      <td>0</td>\n",
       "      <td>NaN</td>\n",
       "      <td>63</td>\n",
       "      <td>bachelor's degree</td>\n",
       "      <td>0</td>\n",
       "      <td>married</td>\n",
       "      <td>0</td>\n",
       "      <td>F</td>\n",
       "      <td>retiree</td>\n",
       "      <td>0</td>\n",
       "      <td>NaN</td>\n",
       "      <td>buying my own car</td>\n",
       "    </tr>\n",
       "    <tr>\n",
       "      <th>19832</th>\n",
       "      <td>0</td>\n",
       "      <td>NaN</td>\n",
       "      <td>48</td>\n",
       "      <td>secondary education</td>\n",
       "      <td>1</td>\n",
       "      <td>married</td>\n",
       "      <td>0</td>\n",
       "      <td>F</td>\n",
       "      <td>employee</td>\n",
       "      <td>0</td>\n",
       "      <td>NaN</td>\n",
       "      <td>housing renovation</td>\n",
       "    </tr>\n",
       "    <tr>\n",
       "      <th>17459</th>\n",
       "      <td>1</td>\n",
       "      <td>NaN</td>\n",
       "      <td>38</td>\n",
       "      <td>secondary education</td>\n",
       "      <td>1</td>\n",
       "      <td>married</td>\n",
       "      <td>0</td>\n",
       "      <td>F</td>\n",
       "      <td>employee</td>\n",
       "      <td>0</td>\n",
       "      <td>NaN</td>\n",
       "      <td>housing</td>\n",
       "    </tr>\n",
       "    <tr>\n",
       "      <th>760</th>\n",
       "      <td>0</td>\n",
       "      <td>NaN</td>\n",
       "      <td>54</td>\n",
       "      <td>secondary education</td>\n",
       "      <td>1</td>\n",
       "      <td>civil partnership</td>\n",
       "      <td>1</td>\n",
       "      <td>M</td>\n",
       "      <td>employee</td>\n",
       "      <td>0</td>\n",
       "      <td>NaN</td>\n",
       "      <td>to have a wedding</td>\n",
       "    </tr>\n",
       "    <tr>\n",
       "      <th>6641</th>\n",
       "      <td>0</td>\n",
       "      <td>NaN</td>\n",
       "      <td>53</td>\n",
       "      <td>secondary education</td>\n",
       "      <td>1</td>\n",
       "      <td>married</td>\n",
       "      <td>0</td>\n",
       "      <td>F</td>\n",
       "      <td>employee</td>\n",
       "      <td>0</td>\n",
       "      <td>NaN</td>\n",
       "      <td>housing</td>\n",
       "    </tr>\n",
       "    <tr>\n",
       "      <th>5036</th>\n",
       "      <td>0</td>\n",
       "      <td>NaN</td>\n",
       "      <td>30</td>\n",
       "      <td>bachelor's degree</td>\n",
       "      <td>0</td>\n",
       "      <td>civil partnership</td>\n",
       "      <td>1</td>\n",
       "      <td>F</td>\n",
       "      <td>business</td>\n",
       "      <td>0</td>\n",
       "      <td>NaN</td>\n",
       "      <td>building a property</td>\n",
       "    </tr>\n",
       "    <tr>\n",
       "      <th>1665</th>\n",
       "      <td>0</td>\n",
       "      <td>NaN</td>\n",
       "      <td>61</td>\n",
       "      <td>bachelor's degree</td>\n",
       "      <td>0</td>\n",
       "      <td>civil partnership</td>\n",
       "      <td>1</td>\n",
       "      <td>F</td>\n",
       "      <td>retiree</td>\n",
       "      <td>0</td>\n",
       "      <td>NaN</td>\n",
       "      <td>to have a wedding</td>\n",
       "    </tr>\n",
       "    <tr>\n",
       "      <th>16277</th>\n",
       "      <td>0</td>\n",
       "      <td>NaN</td>\n",
       "      <td>47</td>\n",
       "      <td>SECONDARY EDUCATION</td>\n",
       "      <td>1</td>\n",
       "      <td>married</td>\n",
       "      <td>0</td>\n",
       "      <td>M</td>\n",
       "      <td>employee</td>\n",
       "      <td>0</td>\n",
       "      <td>NaN</td>\n",
       "      <td>buying a second-hand car</td>\n",
       "    </tr>\n",
       "    <tr>\n",
       "      <th>13321</th>\n",
       "      <td>1</td>\n",
       "      <td>NaN</td>\n",
       "      <td>57</td>\n",
       "      <td>secondary education</td>\n",
       "      <td>1</td>\n",
       "      <td>married</td>\n",
       "      <td>0</td>\n",
       "      <td>F</td>\n",
       "      <td>retiree</td>\n",
       "      <td>1</td>\n",
       "      <td>NaN</td>\n",
       "      <td>transactions with commercial real estate</td>\n",
       "    </tr>\n",
       "    <tr>\n",
       "      <th>16244</th>\n",
       "      <td>0</td>\n",
       "      <td>NaN</td>\n",
       "      <td>40</td>\n",
       "      <td>some college</td>\n",
       "      <td>2</td>\n",
       "      <td>civil partnership</td>\n",
       "      <td>1</td>\n",
       "      <td>F</td>\n",
       "      <td>employee</td>\n",
       "      <td>0</td>\n",
       "      <td>NaN</td>\n",
       "      <td>purchase of the house</td>\n",
       "    </tr>\n",
       "  </tbody>\n",
       "</table>\n",
       "</div>"
      ],
      "text/plain": [
       "       children  days_employed  dob_years            education  education_id  \\\n",
       "11734         3            NaN         37  secondary education             1   \n",
       "11794         0            NaN         59  SECONDARY EDUCATION             1   \n",
       "16748         2            NaN         30         some college             2   \n",
       "3708          1            NaN         29  secondary education             1   \n",
       "19479         2            NaN         34  secondary education             1   \n",
       "7836          0            NaN         60  secondary education             1   \n",
       "16035         1            NaN         34  secondary education             1   \n",
       "7941          0            NaN         37  secondary education             1   \n",
       "8294          0            NaN         28    bachelor's degree             0   \n",
       "11917         1            NaN         31  secondary education             1   \n",
       "5176          0            NaN         63    bachelor's degree             0   \n",
       "19832         0            NaN         48  secondary education             1   \n",
       "17459         1            NaN         38  secondary education             1   \n",
       "760           0            NaN         54  secondary education             1   \n",
       "6641          0            NaN         53  secondary education             1   \n",
       "5036          0            NaN         30    bachelor's degree             0   \n",
       "1665          0            NaN         61    bachelor's degree             0   \n",
       "16277         0            NaN         47  SECONDARY EDUCATION             1   \n",
       "13321         1            NaN         57  secondary education             1   \n",
       "16244         0            NaN         40         some college             2   \n",
       "\n",
       "           family_status  family_status_id gender income_type  debt  \\\n",
       "11734            married                 0      F    employee     0   \n",
       "11794            married                 0      F    employee     0   \n",
       "16748            married                 0      F    business     0   \n",
       "3708            divorced                 3      F    employee     0   \n",
       "19479  civil partnership                 1      F    employee     0   \n",
       "7836            divorced                 3      F     retiree     0   \n",
       "16035            married                 0      F    employee     0   \n",
       "7941           unmarried                 4      F    business     0   \n",
       "8294             married                 0      M    business     0   \n",
       "11917          unmarried                 4      F    employee     0   \n",
       "5176             married                 0      F     retiree     0   \n",
       "19832            married                 0      F    employee     0   \n",
       "17459            married                 0      F    employee     0   \n",
       "760    civil partnership                 1      M    employee     0   \n",
       "6641             married                 0      F    employee     0   \n",
       "5036   civil partnership                 1      F    business     0   \n",
       "1665   civil partnership                 1      F     retiree     0   \n",
       "16277            married                 0      M    employee     0   \n",
       "13321            married                 0      F     retiree     1   \n",
       "16244  civil partnership                 1      F    employee     0   \n",
       "\n",
       "       total_income                                   purpose  \n",
       "11734           NaN                      getting an education  \n",
       "11794           NaN                                      cars  \n",
       "16748           NaN                   supplementary education  \n",
       "3708            NaN                      housing transactions  \n",
       "19479           NaN                          wedding ceremony  \n",
       "7836            NaN                         buying my own car  \n",
       "16035           NaN                  second-hand car purchase  \n",
       "7941            NaN          to get a supplementary education  \n",
       "8294            NaN                       building a property  \n",
       "11917           NaN                              to buy a car  \n",
       "5176            NaN                         buying my own car  \n",
       "19832           NaN                        housing renovation  \n",
       "17459           NaN                                   housing  \n",
       "760             NaN                         to have a wedding  \n",
       "6641            NaN                                   housing  \n",
       "5036            NaN                       building a property  \n",
       "1665            NaN                         to have a wedding  \n",
       "16277           NaN                  buying a second-hand car  \n",
       "13321           NaN  transactions with commercial real estate  \n",
       "16244           NaN                     purchase of the house  "
      ]
     },
     "execution_count": 22,
     "metadata": {},
     "output_type": "execute_result"
    }
   ],
   "source": [
    "# sample with days_employed NaN values\n",
    "data[pd.isnull(data['days_employed'])].sample(20, random_state=777)"
   ]
  },
  {
   "cell_type": "markdown",
   "metadata": {},
   "source": [
    "Based on the data sample missing values in the `total_income` column depend directly on the missing values in the `days_employed` column. We'll analyze the data with NaN values and try to figure out the reason its causes. "
   ]
  },
  {
   "cell_type": "code",
   "execution_count": 23,
   "metadata": {},
   "outputs": [],
   "source": [
    "# creating a new variable with NaN values\n",
    "days_employed_nan = data[pd.isnull(data['days_employed'])]"
   ]
  },
  {
   "cell_type": "code",
   "execution_count": 24,
   "metadata": {},
   "outputs": [
    {
     "data": {
      "text/html": [
       "<div>\n",
       "<style scoped>\n",
       "    .dataframe tbody tr th:only-of-type {\n",
       "        vertical-align: middle;\n",
       "    }\n",
       "\n",
       "    .dataframe tbody tr th {\n",
       "        vertical-align: top;\n",
       "    }\n",
       "\n",
       "    .dataframe thead th {\n",
       "        text-align: right;\n",
       "    }\n",
       "</style>\n",
       "<table border=\"1\" class=\"dataframe\">\n",
       "  <thead>\n",
       "    <tr style=\"text-align: right;\">\n",
       "      <th></th>\n",
       "      <th>children</th>\n",
       "      <th>days_employed</th>\n",
       "      <th>dob_years</th>\n",
       "      <th>education</th>\n",
       "      <th>education_id</th>\n",
       "      <th>family_status</th>\n",
       "      <th>family_status_id</th>\n",
       "      <th>gender</th>\n",
       "      <th>income_type</th>\n",
       "      <th>debt</th>\n",
       "      <th>total_income</th>\n",
       "      <th>purpose</th>\n",
       "    </tr>\n",
       "  </thead>\n",
       "  <tbody>\n",
       "    <tr>\n",
       "      <th>count</th>\n",
       "      <td>2,174.00</td>\n",
       "      <td>0.00</td>\n",
       "      <td>2,174.00</td>\n",
       "      <td>2174</td>\n",
       "      <td>2,174.00</td>\n",
       "      <td>2174</td>\n",
       "      <td>2,174.00</td>\n",
       "      <td>2174</td>\n",
       "      <td>2174</td>\n",
       "      <td>2,174.00</td>\n",
       "      <td>0.00</td>\n",
       "      <td>2174</td>\n",
       "    </tr>\n",
       "    <tr>\n",
       "      <th>unique</th>\n",
       "      <td>NaN</td>\n",
       "      <td>NaN</td>\n",
       "      <td>NaN</td>\n",
       "      <td>12</td>\n",
       "      <td>NaN</td>\n",
       "      <td>5</td>\n",
       "      <td>NaN</td>\n",
       "      <td>2</td>\n",
       "      <td>5</td>\n",
       "      <td>NaN</td>\n",
       "      <td>NaN</td>\n",
       "      <td>38</td>\n",
       "    </tr>\n",
       "    <tr>\n",
       "      <th>top</th>\n",
       "      <td>NaN</td>\n",
       "      <td>NaN</td>\n",
       "      <td>NaN</td>\n",
       "      <td>secondary education</td>\n",
       "      <td>NaN</td>\n",
       "      <td>married</td>\n",
       "      <td>NaN</td>\n",
       "      <td>F</td>\n",
       "      <td>employee</td>\n",
       "      <td>NaN</td>\n",
       "      <td>NaN</td>\n",
       "      <td>having a wedding</td>\n",
       "    </tr>\n",
       "    <tr>\n",
       "      <th>freq</th>\n",
       "      <td>NaN</td>\n",
       "      <td>NaN</td>\n",
       "      <td>NaN</td>\n",
       "      <td>1408</td>\n",
       "      <td>NaN</td>\n",
       "      <td>1237</td>\n",
       "      <td>NaN</td>\n",
       "      <td>1484</td>\n",
       "      <td>1105</td>\n",
       "      <td>NaN</td>\n",
       "      <td>NaN</td>\n",
       "      <td>92</td>\n",
       "    </tr>\n",
       "    <tr>\n",
       "      <th>mean</th>\n",
       "      <td>0.47</td>\n",
       "      <td>NaN</td>\n",
       "      <td>43.83</td>\n",
       "      <td>NaN</td>\n",
       "      <td>0.80</td>\n",
       "      <td>NaN</td>\n",
       "      <td>0.98</td>\n",
       "      <td>NaN</td>\n",
       "      <td>NaN</td>\n",
       "      <td>0.08</td>\n",
       "      <td>NaN</td>\n",
       "      <td>NaN</td>\n",
       "    </tr>\n",
       "    <tr>\n",
       "      <th>std</th>\n",
       "      <td>0.76</td>\n",
       "      <td>NaN</td>\n",
       "      <td>12.18</td>\n",
       "      <td>NaN</td>\n",
       "      <td>0.53</td>\n",
       "      <td>NaN</td>\n",
       "      <td>1.42</td>\n",
       "      <td>NaN</td>\n",
       "      <td>NaN</td>\n",
       "      <td>0.27</td>\n",
       "      <td>NaN</td>\n",
       "      <td>NaN</td>\n",
       "    </tr>\n",
       "    <tr>\n",
       "      <th>min</th>\n",
       "      <td>0.00</td>\n",
       "      <td>NaN</td>\n",
       "      <td>19.00</td>\n",
       "      <td>NaN</td>\n",
       "      <td>0.00</td>\n",
       "      <td>NaN</td>\n",
       "      <td>0.00</td>\n",
       "      <td>NaN</td>\n",
       "      <td>NaN</td>\n",
       "      <td>0.00</td>\n",
       "      <td>NaN</td>\n",
       "      <td>NaN</td>\n",
       "    </tr>\n",
       "    <tr>\n",
       "      <th>20%</th>\n",
       "      <td>0.00</td>\n",
       "      <td>NaN</td>\n",
       "      <td>32.00</td>\n",
       "      <td>NaN</td>\n",
       "      <td>0.00</td>\n",
       "      <td>NaN</td>\n",
       "      <td>0.00</td>\n",
       "      <td>NaN</td>\n",
       "      <td>NaN</td>\n",
       "      <td>0.00</td>\n",
       "      <td>NaN</td>\n",
       "      <td>NaN</td>\n",
       "    </tr>\n",
       "    <tr>\n",
       "      <th>40%</th>\n",
       "      <td>0.00</td>\n",
       "      <td>NaN</td>\n",
       "      <td>40.00</td>\n",
       "      <td>NaN</td>\n",
       "      <td>1.00</td>\n",
       "      <td>NaN</td>\n",
       "      <td>0.00</td>\n",
       "      <td>NaN</td>\n",
       "      <td>NaN</td>\n",
       "      <td>0.00</td>\n",
       "      <td>NaN</td>\n",
       "      <td>NaN</td>\n",
       "    </tr>\n",
       "    <tr>\n",
       "      <th>50%</th>\n",
       "      <td>0.00</td>\n",
       "      <td>NaN</td>\n",
       "      <td>43.00</td>\n",
       "      <td>NaN</td>\n",
       "      <td>1.00</td>\n",
       "      <td>NaN</td>\n",
       "      <td>0.00</td>\n",
       "      <td>NaN</td>\n",
       "      <td>NaN</td>\n",
       "      <td>0.00</td>\n",
       "      <td>NaN</td>\n",
       "      <td>NaN</td>\n",
       "    </tr>\n",
       "    <tr>\n",
       "      <th>60%</th>\n",
       "      <td>0.00</td>\n",
       "      <td>NaN</td>\n",
       "      <td>47.00</td>\n",
       "      <td>NaN</td>\n",
       "      <td>1.00</td>\n",
       "      <td>NaN</td>\n",
       "      <td>1.00</td>\n",
       "      <td>NaN</td>\n",
       "      <td>NaN</td>\n",
       "      <td>0.00</td>\n",
       "      <td>NaN</td>\n",
       "      <td>NaN</td>\n",
       "    </tr>\n",
       "    <tr>\n",
       "      <th>80%</th>\n",
       "      <td>1.00</td>\n",
       "      <td>NaN</td>\n",
       "      <td>56.00</td>\n",
       "      <td>NaN</td>\n",
       "      <td>1.00</td>\n",
       "      <td>NaN</td>\n",
       "      <td>2.00</td>\n",
       "      <td>NaN</td>\n",
       "      <td>NaN</td>\n",
       "      <td>0.00</td>\n",
       "      <td>NaN</td>\n",
       "      <td>NaN</td>\n",
       "    </tr>\n",
       "    <tr>\n",
       "      <th>max</th>\n",
       "      <td>5.00</td>\n",
       "      <td>NaN</td>\n",
       "      <td>73.00</td>\n",
       "      <td>NaN</td>\n",
       "      <td>3.00</td>\n",
       "      <td>NaN</td>\n",
       "      <td>4.00</td>\n",
       "      <td>NaN</td>\n",
       "      <td>NaN</td>\n",
       "      <td>1.00</td>\n",
       "      <td>NaN</td>\n",
       "      <td>NaN</td>\n",
       "    </tr>\n",
       "  </tbody>\n",
       "</table>\n",
       "</div>"
      ],
      "text/plain": [
       "        children  days_employed  dob_years            education  education_id  \\\n",
       "count   2,174.00           0.00   2,174.00                 2174      2,174.00   \n",
       "unique       NaN            NaN        NaN                   12           NaN   \n",
       "top          NaN            NaN        NaN  secondary education           NaN   \n",
       "freq         NaN            NaN        NaN                 1408           NaN   \n",
       "mean        0.47            NaN      43.83                  NaN          0.80   \n",
       "std         0.76            NaN      12.18                  NaN          0.53   \n",
       "min         0.00            NaN      19.00                  NaN          0.00   \n",
       "20%         0.00            NaN      32.00                  NaN          0.00   \n",
       "40%         0.00            NaN      40.00                  NaN          1.00   \n",
       "50%         0.00            NaN      43.00                  NaN          1.00   \n",
       "60%         0.00            NaN      47.00                  NaN          1.00   \n",
       "80%         1.00            NaN      56.00                  NaN          1.00   \n",
       "max         5.00            NaN      73.00                  NaN          3.00   \n",
       "\n",
       "       family_status  family_status_id gender income_type     debt  \\\n",
       "count           2174          2,174.00   2174        2174 2,174.00   \n",
       "unique             5               NaN      2           5      NaN   \n",
       "top          married               NaN      F    employee      NaN   \n",
       "freq            1237               NaN   1484        1105      NaN   \n",
       "mean             NaN              0.98    NaN         NaN     0.08   \n",
       "std              NaN              1.42    NaN         NaN     0.27   \n",
       "min              NaN              0.00    NaN         NaN     0.00   \n",
       "20%              NaN              0.00    NaN         NaN     0.00   \n",
       "40%              NaN              0.00    NaN         NaN     0.00   \n",
       "50%              NaN              0.00    NaN         NaN     0.00   \n",
       "60%              NaN              1.00    NaN         NaN     0.00   \n",
       "80%              NaN              2.00    NaN         NaN     0.00   \n",
       "max              NaN              4.00    NaN         NaN     1.00   \n",
       "\n",
       "        total_income           purpose  \n",
       "count           0.00              2174  \n",
       "unique           NaN                38  \n",
       "top              NaN  having a wedding  \n",
       "freq             NaN                92  \n",
       "mean             NaN               NaN  \n",
       "std              NaN               NaN  \n",
       "min              NaN               NaN  \n",
       "20%              NaN               NaN  \n",
       "40%              NaN               NaN  \n",
       "50%              NaN               NaN  \n",
       "60%              NaN               NaN  \n",
       "80%              NaN               NaN  \n",
       "max              NaN               NaN  "
      ]
     },
     "execution_count": 24,
     "metadata": {},
     "output_type": "execute_result"
    }
   ],
   "source": [
    "# data analysis\n",
    "percentiles= [.20, .40, .60, .80]\n",
    "include=['object', 'float', 'int']\n",
    "days_employed_nan.describe(percentiles = percentiles, include = include)"
   ]
  },
  {
   "cell_type": "markdown",
   "metadata": {},
   "source": [
    "**Conclusions**\n",
    "\n",
    "It seems that the values distribution in this sample doesn't differ from the population distributions and also doesn't depend on any particular factor. So we'll consider this NaN values as MCAR (missing completely at random). Probably there are technical issues in the data collection.\n",
    "\n",
    "We'll fill all NaN values based on the `dob_years` column since work experience and income depends usually on the age.   \n",
    "\n",
    "The main steps:\n",
    "* based on the `dob_years` column we'll define 4 age groups for our borrowers (using 20th, 50th and 75th percentiles in the  `dob_years` column)\n",
    "* next we'll find the median work experience and median total income for each age group;\n",
    "* finally we'll fill NaN values with founded medians;"
   ]
  },
  {
   "cell_type": "code",
   "execution_count": 25,
   "metadata": {},
   "outputs": [
    {
     "data": {
      "text/html": [
       "<div>\n",
       "<style scoped>\n",
       "    .dataframe tbody tr th:only-of-type {\n",
       "        vertical-align: middle;\n",
       "    }\n",
       "\n",
       "    .dataframe tbody tr th {\n",
       "        vertical-align: top;\n",
       "    }\n",
       "\n",
       "    .dataframe thead th {\n",
       "        text-align: right;\n",
       "    }\n",
       "</style>\n",
       "<table border=\"1\" class=\"dataframe\">\n",
       "  <thead>\n",
       "    <tr style=\"text-align: right;\">\n",
       "      <th></th>\n",
       "      <th>dob_years</th>\n",
       "    </tr>\n",
       "  </thead>\n",
       "  <tbody>\n",
       "    <tr>\n",
       "      <th>count</th>\n",
       "      <td>21,525.00</td>\n",
       "    </tr>\n",
       "    <tr>\n",
       "      <th>mean</th>\n",
       "      <td>43.49</td>\n",
       "    </tr>\n",
       "    <tr>\n",
       "      <th>std</th>\n",
       "      <td>12.22</td>\n",
       "    </tr>\n",
       "    <tr>\n",
       "      <th>min</th>\n",
       "      <td>19.00</td>\n",
       "    </tr>\n",
       "    <tr>\n",
       "      <th>20%</th>\n",
       "      <td>32.00</td>\n",
       "    </tr>\n",
       "    <tr>\n",
       "      <th>50%</th>\n",
       "      <td>42.00</td>\n",
       "    </tr>\n",
       "    <tr>\n",
       "      <th>75%</th>\n",
       "      <td>53.00</td>\n",
       "    </tr>\n",
       "    <tr>\n",
       "      <th>max</th>\n",
       "      <td>75.00</td>\n",
       "    </tr>\n",
       "  </tbody>\n",
       "</table>\n",
       "</div>"
      ],
      "text/plain": [
       "       dob_years\n",
       "count  21,525.00\n",
       "mean       43.49\n",
       "std        12.22\n",
       "min        19.00\n",
       "20%        32.00\n",
       "50%        42.00\n",
       "75%        53.00\n",
       "max        75.00"
      ]
     },
     "execution_count": 25,
     "metadata": {},
     "output_type": "execute_result"
    }
   ],
   "source": [
    "# obtaining the 'dob_years' column percentiles\n",
    "percentiles= [.20, .50, .75] \n",
    "data[['dob_years']].describe(percentiles = percentiles)"
   ]
  },
  {
   "cell_type": "code",
   "execution_count": 26,
   "metadata": {},
   "outputs": [],
   "source": [
    "# age group distribution function\n",
    "def age_group(dob_years):\n",
    "    '''The function takes an age as an input and returns age_group (from 1 to 4) based on following rules:\n",
    "        - 1st group if age value is <= 31 (31 included)\n",
    "        - 2nd group if age value is between 31 and 42 (42 included)\n",
    "        - 3rd group if age value is between 42 and 53 (53 included)\n",
    "        - 4th group in all the other cases;\n",
    "        '''\n",
    "    if dob_years < 31:\n",
    "        return 1\n",
    "    if (dob_years > 31) and (dob_years <= 42):\n",
    "        return 2\n",
    "    if (dob_years > 42) and (dob_years <= 53):\n",
    "        return 3\n",
    "    return 4"
   ]
  },
  {
   "cell_type": "markdown",
   "metadata": {},
   "source": [
    "Instead of the function we could use `pandas.cut(x, bins, labels=None)` method (bin values into discrete intervals) with following parameters:\n",
    "\n",
    "`data['age_group'] = pd.cut(data['dob_years'], [0, 31, 42, 53, np.inf], labels=[1, 2, 3, 4])`\n",
    "\n",
    "Bins parameter contains the criteria to bin by (in our case defines the exact bins to be used - (0, 31], (31, 42], (42, 53], (53, inf])."
   ]
  },
  {
   "cell_type": "code",
   "execution_count": 27,
   "metadata": {},
   "outputs": [
    {
     "name": "stdout",
     "output_type": "stream",
     "text": [
      "1\n",
      "2\n",
      "3\n",
      "4\n"
     ]
    }
   ],
   "source": [
    "# check\n",
    "print(age_group(22))\n",
    "print(age_group(40))\n",
    "print(age_group(50))\n",
    "print(age_group(74))"
   ]
  },
  {
   "cell_type": "code",
   "execution_count": 28,
   "metadata": {},
   "outputs": [],
   "source": [
    "# applying the function to the dataframe\n",
    "data['age_group'] = data['dob_years'].apply(age_group)"
   ]
  },
  {
   "cell_type": "code",
   "execution_count": 29,
   "metadata": {
    "scrolled": false
   },
   "outputs": [
    {
     "data": {
      "text/html": [
       "<div>\n",
       "<style scoped>\n",
       "    .dataframe tbody tr th:only-of-type {\n",
       "        vertical-align: middle;\n",
       "    }\n",
       "\n",
       "    .dataframe tbody tr th {\n",
       "        vertical-align: top;\n",
       "    }\n",
       "\n",
       "    .dataframe thead th {\n",
       "        text-align: right;\n",
       "    }\n",
       "</style>\n",
       "<table border=\"1\" class=\"dataframe\">\n",
       "  <thead>\n",
       "    <tr style=\"text-align: right;\">\n",
       "      <th></th>\n",
       "      <th>children</th>\n",
       "      <th>days_employed</th>\n",
       "      <th>dob_years</th>\n",
       "      <th>education</th>\n",
       "      <th>education_id</th>\n",
       "      <th>family_status</th>\n",
       "      <th>family_status_id</th>\n",
       "      <th>gender</th>\n",
       "      <th>income_type</th>\n",
       "      <th>debt</th>\n",
       "      <th>total_income</th>\n",
       "      <th>purpose</th>\n",
       "      <th>age_group</th>\n",
       "    </tr>\n",
       "  </thead>\n",
       "  <tbody>\n",
       "    <tr>\n",
       "      <th>0</th>\n",
       "      <td>1</td>\n",
       "      <td>8,437.67</td>\n",
       "      <td>42</td>\n",
       "      <td>bachelor's degree</td>\n",
       "      <td>0</td>\n",
       "      <td>married</td>\n",
       "      <td>0</td>\n",
       "      <td>F</td>\n",
       "      <td>employee</td>\n",
       "      <td>0</td>\n",
       "      <td>40,620.10</td>\n",
       "      <td>purchase of the house</td>\n",
       "      <td>2</td>\n",
       "    </tr>\n",
       "    <tr>\n",
       "      <th>1</th>\n",
       "      <td>1</td>\n",
       "      <td>4,024.80</td>\n",
       "      <td>36</td>\n",
       "      <td>secondary education</td>\n",
       "      <td>1</td>\n",
       "      <td>married</td>\n",
       "      <td>0</td>\n",
       "      <td>F</td>\n",
       "      <td>employee</td>\n",
       "      <td>0</td>\n",
       "      <td>17,932.80</td>\n",
       "      <td>car purchase</td>\n",
       "      <td>2</td>\n",
       "    </tr>\n",
       "    <tr>\n",
       "      <th>2</th>\n",
       "      <td>0</td>\n",
       "      <td>5,623.42</td>\n",
       "      <td>33</td>\n",
       "      <td>Secondary Education</td>\n",
       "      <td>1</td>\n",
       "      <td>married</td>\n",
       "      <td>0</td>\n",
       "      <td>M</td>\n",
       "      <td>employee</td>\n",
       "      <td>0</td>\n",
       "      <td>23,341.75</td>\n",
       "      <td>purchase of the house</td>\n",
       "      <td>2</td>\n",
       "    </tr>\n",
       "    <tr>\n",
       "      <th>3</th>\n",
       "      <td>3</td>\n",
       "      <td>4,124.75</td>\n",
       "      <td>32</td>\n",
       "      <td>secondary education</td>\n",
       "      <td>1</td>\n",
       "      <td>married</td>\n",
       "      <td>0</td>\n",
       "      <td>M</td>\n",
       "      <td>employee</td>\n",
       "      <td>0</td>\n",
       "      <td>42,820.57</td>\n",
       "      <td>supplementary education</td>\n",
       "      <td>2</td>\n",
       "    </tr>\n",
       "    <tr>\n",
       "      <th>4</th>\n",
       "      <td>0</td>\n",
       "      <td>14,177.75</td>\n",
       "      <td>53</td>\n",
       "      <td>secondary education</td>\n",
       "      <td>1</td>\n",
       "      <td>civil partnership</td>\n",
       "      <td>1</td>\n",
       "      <td>F</td>\n",
       "      <td>retiree</td>\n",
       "      <td>0</td>\n",
       "      <td>25,378.57</td>\n",
       "      <td>to have a wedding</td>\n",
       "      <td>3</td>\n",
       "    </tr>\n",
       "    <tr>\n",
       "      <th>5</th>\n",
       "      <td>0</td>\n",
       "      <td>926.19</td>\n",
       "      <td>27</td>\n",
       "      <td>bachelor's degree</td>\n",
       "      <td>0</td>\n",
       "      <td>civil partnership</td>\n",
       "      <td>1</td>\n",
       "      <td>M</td>\n",
       "      <td>business</td>\n",
       "      <td>0</td>\n",
       "      <td>40,922.17</td>\n",
       "      <td>purchase of the house</td>\n",
       "      <td>1</td>\n",
       "    </tr>\n",
       "    <tr>\n",
       "      <th>6</th>\n",
       "      <td>0</td>\n",
       "      <td>2,879.20</td>\n",
       "      <td>43</td>\n",
       "      <td>bachelor's degree</td>\n",
       "      <td>0</td>\n",
       "      <td>married</td>\n",
       "      <td>0</td>\n",
       "      <td>F</td>\n",
       "      <td>business</td>\n",
       "      <td>0</td>\n",
       "      <td>38,484.16</td>\n",
       "      <td>housing transactions</td>\n",
       "      <td>3</td>\n",
       "    </tr>\n",
       "    <tr>\n",
       "      <th>7</th>\n",
       "      <td>0</td>\n",
       "      <td>152.78</td>\n",
       "      <td>50</td>\n",
       "      <td>SECONDARY EDUCATION</td>\n",
       "      <td>1</td>\n",
       "      <td>married</td>\n",
       "      <td>0</td>\n",
       "      <td>M</td>\n",
       "      <td>employee</td>\n",
       "      <td>0</td>\n",
       "      <td>21,731.83</td>\n",
       "      <td>education</td>\n",
       "      <td>3</td>\n",
       "    </tr>\n",
       "    <tr>\n",
       "      <th>8</th>\n",
       "      <td>2</td>\n",
       "      <td>6,929.87</td>\n",
       "      <td>35</td>\n",
       "      <td>BACHELOR'S DEGREE</td>\n",
       "      <td>0</td>\n",
       "      <td>civil partnership</td>\n",
       "      <td>1</td>\n",
       "      <td>F</td>\n",
       "      <td>employee</td>\n",
       "      <td>0</td>\n",
       "      <td>15,337.09</td>\n",
       "      <td>having a wedding</td>\n",
       "      <td>2</td>\n",
       "    </tr>\n",
       "    <tr>\n",
       "      <th>9</th>\n",
       "      <td>0</td>\n",
       "      <td>2,188.76</td>\n",
       "      <td>41</td>\n",
       "      <td>secondary education</td>\n",
       "      <td>1</td>\n",
       "      <td>married</td>\n",
       "      <td>0</td>\n",
       "      <td>M</td>\n",
       "      <td>employee</td>\n",
       "      <td>0</td>\n",
       "      <td>23,108.15</td>\n",
       "      <td>purchase of the house for my family</td>\n",
       "      <td>2</td>\n",
       "    </tr>\n",
       "  </tbody>\n",
       "</table>\n",
       "</div>"
      ],
      "text/plain": [
       "   children  days_employed  dob_years            education  education_id  \\\n",
       "0         1       8,437.67         42    bachelor's degree             0   \n",
       "1         1       4,024.80         36  secondary education             1   \n",
       "2         0       5,623.42         33  Secondary Education             1   \n",
       "3         3       4,124.75         32  secondary education             1   \n",
       "4         0      14,177.75         53  secondary education             1   \n",
       "5         0         926.19         27    bachelor's degree             0   \n",
       "6         0       2,879.20         43    bachelor's degree             0   \n",
       "7         0         152.78         50  SECONDARY EDUCATION             1   \n",
       "8         2       6,929.87         35    BACHELOR'S DEGREE             0   \n",
       "9         0       2,188.76         41  secondary education             1   \n",
       "\n",
       "       family_status  family_status_id gender income_type  debt  total_income  \\\n",
       "0            married                 0      F    employee     0     40,620.10   \n",
       "1            married                 0      F    employee     0     17,932.80   \n",
       "2            married                 0      M    employee     0     23,341.75   \n",
       "3            married                 0      M    employee     0     42,820.57   \n",
       "4  civil partnership                 1      F     retiree     0     25,378.57   \n",
       "5  civil partnership                 1      M    business     0     40,922.17   \n",
       "6            married                 0      F    business     0     38,484.16   \n",
       "7            married                 0      M    employee     0     21,731.83   \n",
       "8  civil partnership                 1      F    employee     0     15,337.09   \n",
       "9            married                 0      M    employee     0     23,108.15   \n",
       "\n",
       "                               purpose  age_group  \n",
       "0                purchase of the house          2  \n",
       "1                         car purchase          2  \n",
       "2                purchase of the house          2  \n",
       "3              supplementary education          2  \n",
       "4                    to have a wedding          3  \n",
       "5                purchase of the house          1  \n",
       "6                 housing transactions          3  \n",
       "7                            education          3  \n",
       "8                     having a wedding          2  \n",
       "9  purchase of the house for my family          2  "
      ]
     },
     "execution_count": 29,
     "metadata": {},
     "output_type": "execute_result"
    }
   ],
   "source": [
    "# check\n",
    "data.head(10)"
   ]
  },
  {
   "cell_type": "code",
   "execution_count": 30,
   "metadata": {},
   "outputs": [
    {
     "name": "stdout",
     "output_type": "stream",
     "text": [
      "Total days_employed missing values: 2174\n",
      "Total total_income missing values: 2174\n",
      "Group: 2, days_employed median: 1735.8184695884252, total_income median: 24873.635499999997\n",
      "Group: 3, days_employed median: 2440.6178517647904, total_income median: 24134.3105\n",
      "Group: 1, days_employed median: 1046.095163372449, total_income median: 22957.184999999998\n",
      "Group: 4, days_employed median: 14073.67750259197, total_income median: 21181.719\n",
      "days_employed check: 0\n",
      "total_income check: 0\n"
     ]
    }
   ],
   "source": [
    "# fill the missing values with median based on our age groups\n",
    "print('Total days_employed missing values:', data['days_employed'].isna().sum())\n",
    "print('Total total_income missing values:', data['total_income'].isna().sum())\n",
    "\n",
    "for group in data['age_group'].unique():\n",
    "    median_days_employed = data.loc[data['age_group'] == group, 'days_employed'].median()\n",
    "    median_total_income = data.loc[data['age_group'] == group, 'total_income'].median()\n",
    "    print(f'Group: {group}, days_employed median: {median_days_employed}, total_income median: {median_total_income}')\n",
    "    data.loc[(data['days_employed'].isna()) & (data['age_group'] == group), 'days_employed'] = median_days_employed\n",
    "    data.loc[(data['total_income'].isna()) & (data['age_group'] == group), 'total_income'] = median_total_income\n",
    "        \n",
    "print('days_employed check:', data['days_employed'].isna().sum())\n",
    "print('total_income check:', data['total_income'].isna().sum())"
   ]
  },
  {
   "cell_type": "markdown",
   "metadata": {},
   "source": [
    "## Numerical data processing. Changing the data type. <a id='id22'></a>"
   ]
  },
  {
   "cell_type": "markdown",
   "metadata": {},
   "source": [
    "In this section we'll cast the `days_employed` column to the 'int' type (astype method)."
   ]
  },
  {
   "cell_type": "code",
   "execution_count": 31,
   "metadata": {},
   "outputs": [],
   "source": [
    "# applying astype method\n",
    "data['days_employed'] = data['days_employed'].astype('int', copy=False, errors='ignore')"
   ]
  },
  {
   "cell_type": "code",
   "execution_count": 32,
   "metadata": {},
   "outputs": [
    {
     "name": "stdout",
     "output_type": "stream",
     "text": [
      "<class 'pandas.core.frame.DataFrame'>\n",
      "RangeIndex: 21525 entries, 0 to 21524\n",
      "Data columns (total 1 columns):\n",
      " #   Column         Non-Null Count  Dtype\n",
      "---  ------         --------------  -----\n",
      " 0   days_employed  21525 non-null  int64\n",
      "dtypes: int64(1)\n",
      "memory usage: 168.3 KB\n"
     ]
    }
   ],
   "source": [
    "# check\n",
    "data[['days_employed']].info()"
   ]
  },
  {
   "cell_type": "markdown",
   "metadata": {},
   "source": [
    "## Duplicates processing <a id='id23'></a>"
   ]
  },
  {
   "cell_type": "markdown",
   "metadata": {},
   "source": [
    "Based on the general information from the data we'll check the unique values in `education`, `income_type`, `family_status` and `purpose` columns (duplicates search). "
   ]
  },
  {
   "cell_type": "code",
   "execution_count": 33,
   "metadata": {},
   "outputs": [
    {
     "data": {
      "text/plain": [
       "array([\"bachelor's degree\", 'secondary education', 'Secondary Education',\n",
       "       'SECONDARY EDUCATION', \"BACHELOR'S DEGREE\", 'some college',\n",
       "       'primary education', \"Bachelor's Degree\", 'SOME COLLEGE',\n",
       "       'Some College', 'PRIMARY EDUCATION', 'Primary Education',\n",
       "       'Graduate Degree', 'GRADUATE DEGREE', 'graduate degree'],\n",
       "      dtype=object)"
      ]
     },
     "execution_count": 33,
     "metadata": {},
     "output_type": "execute_result"
    }
   ],
   "source": [
    "# education uniqie values\n",
    "data['education'].unique()"
   ]
  },
  {
   "cell_type": "code",
   "execution_count": 34,
   "metadata": {},
   "outputs": [
    {
     "data": {
      "text/plain": [
       "array(['married', 'civil partnership', 'widow / widower', 'divorced',\n",
       "       'unmarried'], dtype=object)"
      ]
     },
     "execution_count": 34,
     "metadata": {},
     "output_type": "execute_result"
    }
   ],
   "source": [
    "# family_status uniqie values\n",
    "data['family_status'].unique()"
   ]
  },
  {
   "cell_type": "code",
   "execution_count": 35,
   "metadata": {},
   "outputs": [
    {
     "data": {
      "text/plain": [
       "array(['employee', 'retiree', 'business', 'civil servant', 'unemployed',\n",
       "       'entrepreneur', 'student', 'paternity / maternity leave'],\n",
       "      dtype=object)"
      ]
     },
     "execution_count": 35,
     "metadata": {},
     "output_type": "execute_result"
    }
   ],
   "source": [
    "# income_type uniqie values\n",
    "data['income_type'].unique()"
   ]
  },
  {
   "cell_type": "code",
   "execution_count": 36,
   "metadata": {},
   "outputs": [
    {
     "data": {
      "text/plain": [
       "array(['purchase of the house', 'car purchase', 'supplementary education',\n",
       "       'to have a wedding', 'housing transactions', 'education',\n",
       "       'having a wedding', 'purchase of the house for my family',\n",
       "       'buy real estate', 'buy commercial real estate',\n",
       "       'buy residential real estate', 'construction of own property',\n",
       "       'property', 'building a property', 'buying a second-hand car',\n",
       "       'buying my own car', 'transactions with commercial real estate',\n",
       "       'building a real estate', 'housing',\n",
       "       'transactions with my real estate', 'cars', 'to become educated',\n",
       "       'second-hand car purchase', 'getting an education', 'car',\n",
       "       'wedding ceremony', 'to get a supplementary education',\n",
       "       'purchase of my own house', 'real estate transactions',\n",
       "       'getting higher education', 'to own a car', 'purchase of a car',\n",
       "       'profile education', 'university education',\n",
       "       'buying property for renting out', 'to buy a car',\n",
       "       'housing renovation', 'going to university'], dtype=object)"
      ]
     },
     "execution_count": 36,
     "metadata": {},
     "output_type": "execute_result"
    }
   ],
   "source": [
    "# purpose uniqie values\n",
    "data['purpose'].unique()"
   ]
  },
  {
   "cell_type": "markdown",
   "metadata": {},
   "source": [
    "The data duplicates were foun in the `education` column (we'll use data.str.lower() method). The duplicates in `purpose` column we'll process using lemmatization.    \n",
    "It can be assumed that the main reasons for these duplicates are: incorrect data connection from various sources and \"human errors\". "
   ]
  },
  {
   "cell_type": "code",
   "execution_count": 37,
   "metadata": {},
   "outputs": [],
   "source": [
    "# duplicates processing\n",
    "data['education'] = data['education'].str.lower()"
   ]
  },
  {
   "cell_type": "code",
   "execution_count": 38,
   "metadata": {},
   "outputs": [
    {
     "data": {
      "text/plain": [
       "array([\"bachelor's degree\", 'secondary education', 'some college',\n",
       "       'primary education', 'graduate degree'], dtype=object)"
      ]
     },
     "execution_count": 38,
     "metadata": {},
     "output_type": "execute_result"
    }
   ],
   "source": [
    "# check\n",
    "data['education'].unique()"
   ]
  },
  {
   "cell_type": "code",
   "execution_count": 39,
   "metadata": {
    "scrolled": false
   },
   "outputs": [
    {
     "name": "stdout",
     "output_type": "stream",
     "text": [
      "Total duplicates before: 72\n",
      "Total duplicates after: 0\n"
     ]
    }
   ],
   "source": [
    "# check and delete duplicates\n",
    "print('Total duplicates before:', data.duplicated().sum())\n",
    "data = data.drop_duplicates().reset_index(drop=True)\n",
    "print('Total duplicates after:', data.duplicated().sum())"
   ]
  },
  {
   "cell_type": "markdown",
   "metadata": {},
   "source": [
    "## Lemmatization <a id='id24'></a>"
   ]
  },
  {
   "cell_type": "markdown",
   "metadata": {},
   "source": [
    "In this section we'll lemmatize the `purpose` column in order to indentify the main loan purposes. We'll use pymystem3 library.   \n",
    "Our first step - get the column unique values. Then we'll create a lemmatize function with replacing values in `purpose` column with one of the main loan purposes we found. "
   ]
  },
  {
   "cell_type": "code",
   "execution_count": 40,
   "metadata": {
    "scrolled": false
   },
   "outputs": [
    {
     "data": {
      "text/plain": [
       "array(['purchase of the house', 'car purchase', 'supplementary education',\n",
       "       'to have a wedding', 'housing transactions', 'education',\n",
       "       'having a wedding', 'purchase of the house for my family',\n",
       "       'buy real estate', 'buy commercial real estate',\n",
       "       'buy residential real estate', 'construction of own property',\n",
       "       'property', 'building a property', 'buying a second-hand car',\n",
       "       'buying my own car', 'transactions with commercial real estate',\n",
       "       'building a real estate', 'housing',\n",
       "       'transactions with my real estate', 'cars', 'to become educated',\n",
       "       'second-hand car purchase', 'getting an education', 'car',\n",
       "       'wedding ceremony', 'to get a supplementary education',\n",
       "       'purchase of my own house', 'real estate transactions',\n",
       "       'getting higher education', 'to own a car', 'purchase of a car',\n",
       "       'profile education', 'university education',\n",
       "       'buying property for renting out', 'to buy a car',\n",
       "       'housing renovation', 'going to university'], dtype=object)"
      ]
     },
     "execution_count": 40,
     "metadata": {},
     "output_type": "execute_result"
    }
   ],
   "source": [
    "# 'purpose' column unique values\n",
    "data['purpose'].unique()"
   ]
  },
  {
   "cell_type": "code",
   "execution_count": 41,
   "metadata": {},
   "outputs": [],
   "source": [
    "# lemmatization\n",
    "lemmas = m.lemmatize(' '.join(data['purpose'].unique()))"
   ]
  },
  {
   "cell_type": "code",
   "execution_count": 42,
   "metadata": {},
   "outputs": [
    {
     "data": {
      "text/plain": [
       "[(' ', 121),\n",
       " ('a', 9),\n",
       " ('car', 8),\n",
       " ('education', 7),\n",
       " ('real', 7),\n",
       " ('estate', 7),\n",
       " ('purchase', 6),\n",
       " ('to', 6),\n",
       " ('of', 5),\n",
       " ('transactions', 4),\n",
       " ('my', 4),\n",
       " ('buy', 4),\n",
       " ('own', 4),\n",
       " ('property', 4),\n",
       " ('house', 3),\n",
       " ('wedding', 3),\n",
       " ('housing', 3),\n",
       " ('buying', 3),\n",
       " ('the', 2),\n",
       " ('supplementary', 2),\n",
       " ('for', 2),\n",
       " ('commercial', 2),\n",
       " ('building', 2),\n",
       " ('second', 2),\n",
       " ('-', 2),\n",
       " ('hand', 2),\n",
       " ('with', 2),\n",
       " ('getting', 2),\n",
       " ('university', 2),\n",
       " ('have', 1),\n",
       " ('having', 1),\n",
       " ('family', 1),\n",
       " ('residential', 1),\n",
       " ('construction', 1),\n",
       " ('cars', 1),\n",
       " ('become', 1),\n",
       " ('educated', 1),\n",
       " ('an', 1),\n",
       " ('ceremony', 1),\n",
       " ('get', 1),\n",
       " ('higher', 1),\n",
       " ('profile', 1),\n",
       " ('renting', 1),\n",
       " ('out', 1),\n",
       " ('renovation', 1),\n",
       " ('going', 1),\n",
       " ('\\n', 1)]"
      ]
     },
     "execution_count": 42,
     "metadata": {},
     "output_type": "execute_result"
    }
   ],
   "source": [
    "# the most common lemmas\n",
    "Counter(lemmas).most_common()"
   ]
  },
  {
   "cell_type": "markdown",
   "metadata": {},
   "source": [
    "Based on the lemmas we found provide *four loan purposes*: real_estate, vehicle, education, wedding. "
   ]
  },
  {
   "cell_type": "code",
   "execution_count": 43,
   "metadata": {},
   "outputs": [],
   "source": [
    "# replacing function\n",
    "def pure_purpose(purpose):\n",
    "    '''The function takes dataframe row as an input and lemmatize it. Based on the lemmas obtained returns one of the\n",
    "    four loan purposes.'''\n",
    "    lem_purpose = m.lemmatize(purpose)\n",
    "    if 'car' in lem_purpose or 'cars' in lem_purpose:\n",
    "        return 'vehicle'\n",
    "    if 'wedding' in lem_purpose:\n",
    "        return 'wedding'\n",
    "    if 'education' in lem_purpose or 'university' in lem_purpose or 'educated' in lem_purpose:\n",
    "        return 'education'\n",
    "    if 'housing' in lem_purpose or 'property' in lem_purpose or 'estate' in lem_purpose or 'house' in lem_purpose:\n",
    "        return 'real_estate'\n",
    "    return purpose"
   ]
  },
  {
   "cell_type": "code",
   "execution_count": 44,
   "metadata": {
    "scrolled": false
   },
   "outputs": [
    {
     "data": {
      "text/html": [
       "<div>\n",
       "<style scoped>\n",
       "    .dataframe tbody tr th:only-of-type {\n",
       "        vertical-align: middle;\n",
       "    }\n",
       "\n",
       "    .dataframe tbody tr th {\n",
       "        vertical-align: top;\n",
       "    }\n",
       "\n",
       "    .dataframe thead th {\n",
       "        text-align: right;\n",
       "    }\n",
       "</style>\n",
       "<table border=\"1\" class=\"dataframe\">\n",
       "  <thead>\n",
       "    <tr style=\"text-align: right;\">\n",
       "      <th></th>\n",
       "      <th>children</th>\n",
       "      <th>days_employed</th>\n",
       "      <th>dob_years</th>\n",
       "      <th>education</th>\n",
       "      <th>education_id</th>\n",
       "      <th>family_status</th>\n",
       "      <th>family_status_id</th>\n",
       "      <th>gender</th>\n",
       "      <th>income_type</th>\n",
       "      <th>debt</th>\n",
       "      <th>total_income</th>\n",
       "      <th>purpose</th>\n",
       "      <th>age_group</th>\n",
       "      <th>test_purpose</th>\n",
       "    </tr>\n",
       "  </thead>\n",
       "  <tbody>\n",
       "    <tr>\n",
       "      <th>8475</th>\n",
       "      <td>0</td>\n",
       "      <td>2923</td>\n",
       "      <td>51</td>\n",
       "      <td>secondary education</td>\n",
       "      <td>1</td>\n",
       "      <td>widow / widower</td>\n",
       "      <td>2</td>\n",
       "      <td>F</td>\n",
       "      <td>employee</td>\n",
       "      <td>0</td>\n",
       "      <td>22,547.83</td>\n",
       "      <td>car</td>\n",
       "      <td>3</td>\n",
       "      <td>vehicle</td>\n",
       "    </tr>\n",
       "    <tr>\n",
       "      <th>7220</th>\n",
       "      <td>0</td>\n",
       "      <td>2384</td>\n",
       "      <td>24</td>\n",
       "      <td>secondary education</td>\n",
       "      <td>1</td>\n",
       "      <td>unmarried</td>\n",
       "      <td>4</td>\n",
       "      <td>M</td>\n",
       "      <td>business</td>\n",
       "      <td>0</td>\n",
       "      <td>15,620.79</td>\n",
       "      <td>housing transactions</td>\n",
       "      <td>1</td>\n",
       "      <td>real_estate</td>\n",
       "    </tr>\n",
       "    <tr>\n",
       "      <th>2568</th>\n",
       "      <td>2</td>\n",
       "      <td>3839</td>\n",
       "      <td>41</td>\n",
       "      <td>secondary education</td>\n",
       "      <td>1</td>\n",
       "      <td>married</td>\n",
       "      <td>0</td>\n",
       "      <td>M</td>\n",
       "      <td>employee</td>\n",
       "      <td>0</td>\n",
       "      <td>25,889.24</td>\n",
       "      <td>second-hand car purchase</td>\n",
       "      <td>2</td>\n",
       "      <td>vehicle</td>\n",
       "    </tr>\n",
       "    <tr>\n",
       "      <th>9061</th>\n",
       "      <td>0</td>\n",
       "      <td>1770</td>\n",
       "      <td>47</td>\n",
       "      <td>secondary education</td>\n",
       "      <td>1</td>\n",
       "      <td>married</td>\n",
       "      <td>0</td>\n",
       "      <td>F</td>\n",
       "      <td>employee</td>\n",
       "      <td>0</td>\n",
       "      <td>17,471.40</td>\n",
       "      <td>going to university</td>\n",
       "      <td>3</td>\n",
       "      <td>education</td>\n",
       "    </tr>\n",
       "    <tr>\n",
       "      <th>19360</th>\n",
       "      <td>0</td>\n",
       "      <td>3876</td>\n",
       "      <td>37</td>\n",
       "      <td>secondary education</td>\n",
       "      <td>1</td>\n",
       "      <td>married</td>\n",
       "      <td>0</td>\n",
       "      <td>M</td>\n",
       "      <td>business</td>\n",
       "      <td>0</td>\n",
       "      <td>47,615.15</td>\n",
       "      <td>building a real estate</td>\n",
       "      <td>2</td>\n",
       "      <td>real_estate</td>\n",
       "    </tr>\n",
       "    <tr>\n",
       "      <th>13652</th>\n",
       "      <td>1</td>\n",
       "      <td>404</td>\n",
       "      <td>42</td>\n",
       "      <td>bachelor's degree</td>\n",
       "      <td>0</td>\n",
       "      <td>married</td>\n",
       "      <td>0</td>\n",
       "      <td>M</td>\n",
       "      <td>employee</td>\n",
       "      <td>1</td>\n",
       "      <td>27,259.16</td>\n",
       "      <td>building a property</td>\n",
       "      <td>2</td>\n",
       "      <td>real_estate</td>\n",
       "    </tr>\n",
       "    <tr>\n",
       "      <th>15326</th>\n",
       "      <td>2</td>\n",
       "      <td>1824</td>\n",
       "      <td>49</td>\n",
       "      <td>secondary education</td>\n",
       "      <td>1</td>\n",
       "      <td>married</td>\n",
       "      <td>0</td>\n",
       "      <td>M</td>\n",
       "      <td>employee</td>\n",
       "      <td>1</td>\n",
       "      <td>26,453.29</td>\n",
       "      <td>purchase of my own house</td>\n",
       "      <td>3</td>\n",
       "      <td>real_estate</td>\n",
       "    </tr>\n",
       "    <tr>\n",
       "      <th>18297</th>\n",
       "      <td>2</td>\n",
       "      <td>1359</td>\n",
       "      <td>40</td>\n",
       "      <td>some college</td>\n",
       "      <td>2</td>\n",
       "      <td>married</td>\n",
       "      <td>0</td>\n",
       "      <td>M</td>\n",
       "      <td>employee</td>\n",
       "      <td>0</td>\n",
       "      <td>80,621.05</td>\n",
       "      <td>building a property</td>\n",
       "      <td>2</td>\n",
       "      <td>real_estate</td>\n",
       "    </tr>\n",
       "    <tr>\n",
       "      <th>14718</th>\n",
       "      <td>0</td>\n",
       "      <td>14877</td>\n",
       "      <td>63</td>\n",
       "      <td>secondary education</td>\n",
       "      <td>1</td>\n",
       "      <td>unmarried</td>\n",
       "      <td>4</td>\n",
       "      <td>F</td>\n",
       "      <td>retiree</td>\n",
       "      <td>0</td>\n",
       "      <td>33,469.95</td>\n",
       "      <td>transactions with my real estate</td>\n",
       "      <td>4</td>\n",
       "      <td>real_estate</td>\n",
       "    </tr>\n",
       "    <tr>\n",
       "      <th>939</th>\n",
       "      <td>0</td>\n",
       "      <td>1982</td>\n",
       "      <td>57</td>\n",
       "      <td>secondary education</td>\n",
       "      <td>1</td>\n",
       "      <td>civil partnership</td>\n",
       "      <td>1</td>\n",
       "      <td>F</td>\n",
       "      <td>civil servant</td>\n",
       "      <td>0</td>\n",
       "      <td>16,145.08</td>\n",
       "      <td>having a wedding</td>\n",
       "      <td>4</td>\n",
       "      <td>wedding</td>\n",
       "    </tr>\n",
       "    <tr>\n",
       "      <th>5285</th>\n",
       "      <td>0</td>\n",
       "      <td>1636</td>\n",
       "      <td>37</td>\n",
       "      <td>bachelor's degree</td>\n",
       "      <td>0</td>\n",
       "      <td>married</td>\n",
       "      <td>0</td>\n",
       "      <td>M</td>\n",
       "      <td>business</td>\n",
       "      <td>0</td>\n",
       "      <td>147,343.64</td>\n",
       "      <td>purchase of a car</td>\n",
       "      <td>2</td>\n",
       "      <td>vehicle</td>\n",
       "    </tr>\n",
       "    <tr>\n",
       "      <th>14347</th>\n",
       "      <td>1</td>\n",
       "      <td>3607</td>\n",
       "      <td>38</td>\n",
       "      <td>secondary education</td>\n",
       "      <td>1</td>\n",
       "      <td>civil partnership</td>\n",
       "      <td>1</td>\n",
       "      <td>M</td>\n",
       "      <td>business</td>\n",
       "      <td>0</td>\n",
       "      <td>20,966.81</td>\n",
       "      <td>purchase of the house</td>\n",
       "      <td>2</td>\n",
       "      <td>real_estate</td>\n",
       "    </tr>\n",
       "    <tr>\n",
       "      <th>539</th>\n",
       "      <td>0</td>\n",
       "      <td>14150</td>\n",
       "      <td>56</td>\n",
       "      <td>secondary education</td>\n",
       "      <td>1</td>\n",
       "      <td>widow / widower</td>\n",
       "      <td>2</td>\n",
       "      <td>F</td>\n",
       "      <td>retiree</td>\n",
       "      <td>0</td>\n",
       "      <td>20,047.84</td>\n",
       "      <td>building a property</td>\n",
       "      <td>4</td>\n",
       "      <td>real_estate</td>\n",
       "    </tr>\n",
       "    <tr>\n",
       "      <th>14868</th>\n",
       "      <td>0</td>\n",
       "      <td>11274</td>\n",
       "      <td>59</td>\n",
       "      <td>secondary education</td>\n",
       "      <td>1</td>\n",
       "      <td>civil partnership</td>\n",
       "      <td>1</td>\n",
       "      <td>F</td>\n",
       "      <td>employee</td>\n",
       "      <td>0</td>\n",
       "      <td>15,241.09</td>\n",
       "      <td>to have a wedding</td>\n",
       "      <td>4</td>\n",
       "      <td>wedding</td>\n",
       "    </tr>\n",
       "    <tr>\n",
       "      <th>20387</th>\n",
       "      <td>0</td>\n",
       "      <td>672</td>\n",
       "      <td>27</td>\n",
       "      <td>bachelor's degree</td>\n",
       "      <td>0</td>\n",
       "      <td>civil partnership</td>\n",
       "      <td>1</td>\n",
       "      <td>M</td>\n",
       "      <td>business</td>\n",
       "      <td>0</td>\n",
       "      <td>74,356.72</td>\n",
       "      <td>getting higher education</td>\n",
       "      <td>1</td>\n",
       "      <td>education</td>\n",
       "    </tr>\n",
       "    <tr>\n",
       "      <th>981</th>\n",
       "      <td>0</td>\n",
       "      <td>16700</td>\n",
       "      <td>57</td>\n",
       "      <td>secondary education</td>\n",
       "      <td>1</td>\n",
       "      <td>married</td>\n",
       "      <td>0</td>\n",
       "      <td>M</td>\n",
       "      <td>retiree</td>\n",
       "      <td>0</td>\n",
       "      <td>31,986.75</td>\n",
       "      <td>housing</td>\n",
       "      <td>4</td>\n",
       "      <td>real_estate</td>\n",
       "    </tr>\n",
       "    <tr>\n",
       "      <th>1553</th>\n",
       "      <td>0</td>\n",
       "      <td>51</td>\n",
       "      <td>21</td>\n",
       "      <td>some college</td>\n",
       "      <td>2</td>\n",
       "      <td>unmarried</td>\n",
       "      <td>4</td>\n",
       "      <td>F</td>\n",
       "      <td>employee</td>\n",
       "      <td>0</td>\n",
       "      <td>15,671.58</td>\n",
       "      <td>purchase of the house</td>\n",
       "      <td>1</td>\n",
       "      <td>real_estate</td>\n",
       "    </tr>\n",
       "    <tr>\n",
       "      <th>806</th>\n",
       "      <td>2</td>\n",
       "      <td>1951</td>\n",
       "      <td>31</td>\n",
       "      <td>secondary education</td>\n",
       "      <td>1</td>\n",
       "      <td>married</td>\n",
       "      <td>0</td>\n",
       "      <td>F</td>\n",
       "      <td>business</td>\n",
       "      <td>0</td>\n",
       "      <td>21,132.27</td>\n",
       "      <td>real estate transactions</td>\n",
       "      <td>4</td>\n",
       "      <td>real_estate</td>\n",
       "    </tr>\n",
       "    <tr>\n",
       "      <th>16123</th>\n",
       "      <td>0</td>\n",
       "      <td>186</td>\n",
       "      <td>58</td>\n",
       "      <td>secondary education</td>\n",
       "      <td>1</td>\n",
       "      <td>married</td>\n",
       "      <td>0</td>\n",
       "      <td>F</td>\n",
       "      <td>business</td>\n",
       "      <td>0</td>\n",
       "      <td>14,977.81</td>\n",
       "      <td>buy commercial real estate</td>\n",
       "      <td>4</td>\n",
       "      <td>real_estate</td>\n",
       "    </tr>\n",
       "    <tr>\n",
       "      <th>13757</th>\n",
       "      <td>2</td>\n",
       "      <td>1326</td>\n",
       "      <td>38</td>\n",
       "      <td>secondary education</td>\n",
       "      <td>1</td>\n",
       "      <td>married</td>\n",
       "      <td>0</td>\n",
       "      <td>F</td>\n",
       "      <td>business</td>\n",
       "      <td>0</td>\n",
       "      <td>21,881.35</td>\n",
       "      <td>purchase of the house for my family</td>\n",
       "      <td>2</td>\n",
       "      <td>real_estate</td>\n",
       "    </tr>\n",
       "    <tr>\n",
       "      <th>19829</th>\n",
       "      <td>0</td>\n",
       "      <td>2793</td>\n",
       "      <td>40</td>\n",
       "      <td>secondary education</td>\n",
       "      <td>1</td>\n",
       "      <td>civil partnership</td>\n",
       "      <td>1</td>\n",
       "      <td>M</td>\n",
       "      <td>civil servant</td>\n",
       "      <td>0</td>\n",
       "      <td>27,144.31</td>\n",
       "      <td>to have a wedding</td>\n",
       "      <td>2</td>\n",
       "      <td>wedding</td>\n",
       "    </tr>\n",
       "    <tr>\n",
       "      <th>3246</th>\n",
       "      <td>0</td>\n",
       "      <td>1088</td>\n",
       "      <td>49</td>\n",
       "      <td>secondary education</td>\n",
       "      <td>1</td>\n",
       "      <td>married</td>\n",
       "      <td>0</td>\n",
       "      <td>M</td>\n",
       "      <td>employee</td>\n",
       "      <td>0</td>\n",
       "      <td>28,590.71</td>\n",
       "      <td>buying my own car</td>\n",
       "      <td>3</td>\n",
       "      <td>vehicle</td>\n",
       "    </tr>\n",
       "    <tr>\n",
       "      <th>4804</th>\n",
       "      <td>0</td>\n",
       "      <td>625</td>\n",
       "      <td>49</td>\n",
       "      <td>secondary education</td>\n",
       "      <td>1</td>\n",
       "      <td>married</td>\n",
       "      <td>0</td>\n",
       "      <td>M</td>\n",
       "      <td>business</td>\n",
       "      <td>0</td>\n",
       "      <td>26,464.20</td>\n",
       "      <td>purchase of the house for my family</td>\n",
       "      <td>3</td>\n",
       "      <td>real_estate</td>\n",
       "    </tr>\n",
       "    <tr>\n",
       "      <th>8147</th>\n",
       "      <td>0</td>\n",
       "      <td>718</td>\n",
       "      <td>57</td>\n",
       "      <td>secondary education</td>\n",
       "      <td>1</td>\n",
       "      <td>married</td>\n",
       "      <td>0</td>\n",
       "      <td>M</td>\n",
       "      <td>employee</td>\n",
       "      <td>0</td>\n",
       "      <td>33,515.21</td>\n",
       "      <td>to own a car</td>\n",
       "      <td>4</td>\n",
       "      <td>vehicle</td>\n",
       "    </tr>\n",
       "    <tr>\n",
       "      <th>9301</th>\n",
       "      <td>0</td>\n",
       "      <td>1190</td>\n",
       "      <td>45</td>\n",
       "      <td>secondary education</td>\n",
       "      <td>1</td>\n",
       "      <td>unmarried</td>\n",
       "      <td>4</td>\n",
       "      <td>F</td>\n",
       "      <td>employee</td>\n",
       "      <td>0</td>\n",
       "      <td>17,198.76</td>\n",
       "      <td>buy commercial real estate</td>\n",
       "      <td>3</td>\n",
       "      <td>real_estate</td>\n",
       "    </tr>\n",
       "    <tr>\n",
       "      <th>15271</th>\n",
       "      <td>1</td>\n",
       "      <td>9390</td>\n",
       "      <td>46</td>\n",
       "      <td>secondary education</td>\n",
       "      <td>1</td>\n",
       "      <td>unmarried</td>\n",
       "      <td>4</td>\n",
       "      <td>F</td>\n",
       "      <td>employee</td>\n",
       "      <td>0</td>\n",
       "      <td>16,363.96</td>\n",
       "      <td>buying property for renting out</td>\n",
       "      <td>3</td>\n",
       "      <td>real_estate</td>\n",
       "    </tr>\n",
       "    <tr>\n",
       "      <th>14413</th>\n",
       "      <td>0</td>\n",
       "      <td>1046</td>\n",
       "      <td>28</td>\n",
       "      <td>bachelor's degree</td>\n",
       "      <td>0</td>\n",
       "      <td>civil partnership</td>\n",
       "      <td>1</td>\n",
       "      <td>M</td>\n",
       "      <td>business</td>\n",
       "      <td>1</td>\n",
       "      <td>22,957.18</td>\n",
       "      <td>having a wedding</td>\n",
       "      <td>1</td>\n",
       "      <td>wedding</td>\n",
       "    </tr>\n",
       "    <tr>\n",
       "      <th>15060</th>\n",
       "      <td>1</td>\n",
       "      <td>2562</td>\n",
       "      <td>38</td>\n",
       "      <td>secondary education</td>\n",
       "      <td>1</td>\n",
       "      <td>married</td>\n",
       "      <td>0</td>\n",
       "      <td>F</td>\n",
       "      <td>employee</td>\n",
       "      <td>0</td>\n",
       "      <td>22,732.71</td>\n",
       "      <td>buying a second-hand car</td>\n",
       "      <td>2</td>\n",
       "      <td>vehicle</td>\n",
       "    </tr>\n",
       "    <tr>\n",
       "      <th>15783</th>\n",
       "      <td>0</td>\n",
       "      <td>3153</td>\n",
       "      <td>41</td>\n",
       "      <td>secondary education</td>\n",
       "      <td>1</td>\n",
       "      <td>married</td>\n",
       "      <td>0</td>\n",
       "      <td>M</td>\n",
       "      <td>civil servant</td>\n",
       "      <td>0</td>\n",
       "      <td>82,936.12</td>\n",
       "      <td>to become educated</td>\n",
       "      <td>2</td>\n",
       "      <td>education</td>\n",
       "    </tr>\n",
       "    <tr>\n",
       "      <th>5450</th>\n",
       "      <td>0</td>\n",
       "      <td>5097</td>\n",
       "      <td>48</td>\n",
       "      <td>secondary education</td>\n",
       "      <td>1</td>\n",
       "      <td>married</td>\n",
       "      <td>0</td>\n",
       "      <td>F</td>\n",
       "      <td>employee</td>\n",
       "      <td>0</td>\n",
       "      <td>14,129.11</td>\n",
       "      <td>getting an education</td>\n",
       "      <td>3</td>\n",
       "      <td>education</td>\n",
       "    </tr>\n",
       "    <tr>\n",
       "      <th>11135</th>\n",
       "      <td>0</td>\n",
       "      <td>16330</td>\n",
       "      <td>55</td>\n",
       "      <td>secondary education</td>\n",
       "      <td>1</td>\n",
       "      <td>married</td>\n",
       "      <td>0</td>\n",
       "      <td>F</td>\n",
       "      <td>retiree</td>\n",
       "      <td>0</td>\n",
       "      <td>15,719.45</td>\n",
       "      <td>housing transactions</td>\n",
       "      <td>4</td>\n",
       "      <td>real_estate</td>\n",
       "    </tr>\n",
       "    <tr>\n",
       "      <th>10731</th>\n",
       "      <td>3</td>\n",
       "      <td>2640</td>\n",
       "      <td>45</td>\n",
       "      <td>secondary education</td>\n",
       "      <td>1</td>\n",
       "      <td>married</td>\n",
       "      <td>0</td>\n",
       "      <td>M</td>\n",
       "      <td>employee</td>\n",
       "      <td>0</td>\n",
       "      <td>27,140.40</td>\n",
       "      <td>car</td>\n",
       "      <td>3</td>\n",
       "      <td>vehicle</td>\n",
       "    </tr>\n",
       "    <tr>\n",
       "      <th>14420</th>\n",
       "      <td>1</td>\n",
       "      <td>1556</td>\n",
       "      <td>42</td>\n",
       "      <td>secondary education</td>\n",
       "      <td>1</td>\n",
       "      <td>married</td>\n",
       "      <td>0</td>\n",
       "      <td>F</td>\n",
       "      <td>business</td>\n",
       "      <td>0</td>\n",
       "      <td>21,367.22</td>\n",
       "      <td>car</td>\n",
       "      <td>2</td>\n",
       "      <td>vehicle</td>\n",
       "    </tr>\n",
       "    <tr>\n",
       "      <th>18787</th>\n",
       "      <td>0</td>\n",
       "      <td>832</td>\n",
       "      <td>38</td>\n",
       "      <td>secondary education</td>\n",
       "      <td>1</td>\n",
       "      <td>widow / widower</td>\n",
       "      <td>2</td>\n",
       "      <td>M</td>\n",
       "      <td>employee</td>\n",
       "      <td>0</td>\n",
       "      <td>32,949.03</td>\n",
       "      <td>transactions with commercial real estate</td>\n",
       "      <td>2</td>\n",
       "      <td>real_estate</td>\n",
       "    </tr>\n",
       "    <tr>\n",
       "      <th>2321</th>\n",
       "      <td>0</td>\n",
       "      <td>696</td>\n",
       "      <td>25</td>\n",
       "      <td>bachelor's degree</td>\n",
       "      <td>0</td>\n",
       "      <td>civil partnership</td>\n",
       "      <td>1</td>\n",
       "      <td>F</td>\n",
       "      <td>business</td>\n",
       "      <td>1</td>\n",
       "      <td>15,492.91</td>\n",
       "      <td>getting higher education</td>\n",
       "      <td>1</td>\n",
       "      <td>education</td>\n",
       "    </tr>\n",
       "    <tr>\n",
       "      <th>4528</th>\n",
       "      <td>0</td>\n",
       "      <td>14210</td>\n",
       "      <td>59</td>\n",
       "      <td>secondary education</td>\n",
       "      <td>1</td>\n",
       "      <td>civil partnership</td>\n",
       "      <td>1</td>\n",
       "      <td>F</td>\n",
       "      <td>retiree</td>\n",
       "      <td>0</td>\n",
       "      <td>12,426.22</td>\n",
       "      <td>wedding ceremony</td>\n",
       "      <td>4</td>\n",
       "      <td>wedding</td>\n",
       "    </tr>\n",
       "    <tr>\n",
       "      <th>13448</th>\n",
       "      <td>1</td>\n",
       "      <td>880</td>\n",
       "      <td>44</td>\n",
       "      <td>primary education</td>\n",
       "      <td>3</td>\n",
       "      <td>married</td>\n",
       "      <td>0</td>\n",
       "      <td>M</td>\n",
       "      <td>employee</td>\n",
       "      <td>0</td>\n",
       "      <td>10,504.44</td>\n",
       "      <td>purchase of a car</td>\n",
       "      <td>3</td>\n",
       "      <td>vehicle</td>\n",
       "    </tr>\n",
       "    <tr>\n",
       "      <th>20137</th>\n",
       "      <td>0</td>\n",
       "      <td>2120</td>\n",
       "      <td>51</td>\n",
       "      <td>secondary education</td>\n",
       "      <td>1</td>\n",
       "      <td>civil partnership</td>\n",
       "      <td>1</td>\n",
       "      <td>M</td>\n",
       "      <td>employee</td>\n",
       "      <td>0</td>\n",
       "      <td>33,732.96</td>\n",
       "      <td>purchase of the house for my family</td>\n",
       "      <td>3</td>\n",
       "      <td>real_estate</td>\n",
       "    </tr>\n",
       "    <tr>\n",
       "      <th>10631</th>\n",
       "      <td>1</td>\n",
       "      <td>1629</td>\n",
       "      <td>38</td>\n",
       "      <td>secondary education</td>\n",
       "      <td>1</td>\n",
       "      <td>civil partnership</td>\n",
       "      <td>1</td>\n",
       "      <td>F</td>\n",
       "      <td>business</td>\n",
       "      <td>0</td>\n",
       "      <td>21,981.22</td>\n",
       "      <td>wedding ceremony</td>\n",
       "      <td>2</td>\n",
       "      <td>wedding</td>\n",
       "    </tr>\n",
       "    <tr>\n",
       "      <th>8796</th>\n",
       "      <td>0</td>\n",
       "      <td>2880</td>\n",
       "      <td>31</td>\n",
       "      <td>bachelor's degree</td>\n",
       "      <td>0</td>\n",
       "      <td>married</td>\n",
       "      <td>0</td>\n",
       "      <td>F</td>\n",
       "      <td>business</td>\n",
       "      <td>1</td>\n",
       "      <td>24,140.36</td>\n",
       "      <td>real estate transactions</td>\n",
       "      <td>4</td>\n",
       "      <td>real_estate</td>\n",
       "    </tr>\n",
       "    <tr>\n",
       "      <th>3349</th>\n",
       "      <td>0</td>\n",
       "      <td>1482</td>\n",
       "      <td>38</td>\n",
       "      <td>secondary education</td>\n",
       "      <td>1</td>\n",
       "      <td>married</td>\n",
       "      <td>0</td>\n",
       "      <td>F</td>\n",
       "      <td>employee</td>\n",
       "      <td>0</td>\n",
       "      <td>24,870.56</td>\n",
       "      <td>property</td>\n",
       "      <td>2</td>\n",
       "      <td>real_estate</td>\n",
       "    </tr>\n",
       "    <tr>\n",
       "      <th>2872</th>\n",
       "      <td>2</td>\n",
       "      <td>4371</td>\n",
       "      <td>34</td>\n",
       "      <td>secondary education</td>\n",
       "      <td>1</td>\n",
       "      <td>married</td>\n",
       "      <td>0</td>\n",
       "      <td>F</td>\n",
       "      <td>employee</td>\n",
       "      <td>0</td>\n",
       "      <td>19,357.30</td>\n",
       "      <td>buying a second-hand car</td>\n",
       "      <td>2</td>\n",
       "      <td>vehicle</td>\n",
       "    </tr>\n",
       "    <tr>\n",
       "      <th>7833</th>\n",
       "      <td>1</td>\n",
       "      <td>3477</td>\n",
       "      <td>45</td>\n",
       "      <td>bachelor's degree</td>\n",
       "      <td>0</td>\n",
       "      <td>married</td>\n",
       "      <td>0</td>\n",
       "      <td>F</td>\n",
       "      <td>business</td>\n",
       "      <td>0</td>\n",
       "      <td>27,647.05</td>\n",
       "      <td>property</td>\n",
       "      <td>3</td>\n",
       "      <td>real_estate</td>\n",
       "    </tr>\n",
       "    <tr>\n",
       "      <th>216</th>\n",
       "      <td>0</td>\n",
       "      <td>356</td>\n",
       "      <td>22</td>\n",
       "      <td>bachelor's degree</td>\n",
       "      <td>0</td>\n",
       "      <td>civil partnership</td>\n",
       "      <td>1</td>\n",
       "      <td>F</td>\n",
       "      <td>employee</td>\n",
       "      <td>0</td>\n",
       "      <td>19,001.24</td>\n",
       "      <td>education</td>\n",
       "      <td>1</td>\n",
       "      <td>education</td>\n",
       "    </tr>\n",
       "    <tr>\n",
       "      <th>4877</th>\n",
       "      <td>0</td>\n",
       "      <td>14020</td>\n",
       "      <td>61</td>\n",
       "      <td>secondary education</td>\n",
       "      <td>1</td>\n",
       "      <td>married</td>\n",
       "      <td>0</td>\n",
       "      <td>F</td>\n",
       "      <td>retiree</td>\n",
       "      <td>0</td>\n",
       "      <td>20,668.40</td>\n",
       "      <td>buying my own car</td>\n",
       "      <td>4</td>\n",
       "      <td>vehicle</td>\n",
       "    </tr>\n",
       "    <tr>\n",
       "      <th>13528</th>\n",
       "      <td>0</td>\n",
       "      <td>226</td>\n",
       "      <td>48</td>\n",
       "      <td>secondary education</td>\n",
       "      <td>1</td>\n",
       "      <td>married</td>\n",
       "      <td>0</td>\n",
       "      <td>F</td>\n",
       "      <td>employee</td>\n",
       "      <td>0</td>\n",
       "      <td>15,526.77</td>\n",
       "      <td>going to university</td>\n",
       "      <td>3</td>\n",
       "      <td>education</td>\n",
       "    </tr>\n",
       "    <tr>\n",
       "      <th>13003</th>\n",
       "      <td>0</td>\n",
       "      <td>1702</td>\n",
       "      <td>29</td>\n",
       "      <td>bachelor's degree</td>\n",
       "      <td>0</td>\n",
       "      <td>married</td>\n",
       "      <td>0</td>\n",
       "      <td>M</td>\n",
       "      <td>employee</td>\n",
       "      <td>0</td>\n",
       "      <td>32,041.59</td>\n",
       "      <td>buying property for renting out</td>\n",
       "      <td>1</td>\n",
       "      <td>real_estate</td>\n",
       "    </tr>\n",
       "    <tr>\n",
       "      <th>21033</th>\n",
       "      <td>0</td>\n",
       "      <td>14073</td>\n",
       "      <td>60</td>\n",
       "      <td>secondary education</td>\n",
       "      <td>1</td>\n",
       "      <td>married</td>\n",
       "      <td>0</td>\n",
       "      <td>M</td>\n",
       "      <td>employee</td>\n",
       "      <td>0</td>\n",
       "      <td>21,181.72</td>\n",
       "      <td>building a property</td>\n",
       "      <td>4</td>\n",
       "      <td>real_estate</td>\n",
       "    </tr>\n",
       "    <tr>\n",
       "      <th>19501</th>\n",
       "      <td>0</td>\n",
       "      <td>1140</td>\n",
       "      <td>24</td>\n",
       "      <td>bachelor's degree</td>\n",
       "      <td>0</td>\n",
       "      <td>unmarried</td>\n",
       "      <td>4</td>\n",
       "      <td>M</td>\n",
       "      <td>employee</td>\n",
       "      <td>0</td>\n",
       "      <td>30,145.92</td>\n",
       "      <td>housing</td>\n",
       "      <td>1</td>\n",
       "      <td>real_estate</td>\n",
       "    </tr>\n",
       "    <tr>\n",
       "      <th>5135</th>\n",
       "      <td>0</td>\n",
       "      <td>15886</td>\n",
       "      <td>70</td>\n",
       "      <td>secondary education</td>\n",
       "      <td>1</td>\n",
       "      <td>married</td>\n",
       "      <td>0</td>\n",
       "      <td>F</td>\n",
       "      <td>retiree</td>\n",
       "      <td>0</td>\n",
       "      <td>9,148.75</td>\n",
       "      <td>university education</td>\n",
       "      <td>4</td>\n",
       "      <td>education</td>\n",
       "    </tr>\n",
       "  </tbody>\n",
       "</table>\n",
       "</div>"
      ],
      "text/plain": [
       "       children  days_employed  dob_years            education  education_id  \\\n",
       "8475          0           2923         51  secondary education             1   \n",
       "7220          0           2384         24  secondary education             1   \n",
       "2568          2           3839         41  secondary education             1   \n",
       "9061          0           1770         47  secondary education             1   \n",
       "19360         0           3876         37  secondary education             1   \n",
       "13652         1            404         42    bachelor's degree             0   \n",
       "15326         2           1824         49  secondary education             1   \n",
       "18297         2           1359         40         some college             2   \n",
       "14718         0          14877         63  secondary education             1   \n",
       "939           0           1982         57  secondary education             1   \n",
       "5285          0           1636         37    bachelor's degree             0   \n",
       "14347         1           3607         38  secondary education             1   \n",
       "539           0          14150         56  secondary education             1   \n",
       "14868         0          11274         59  secondary education             1   \n",
       "20387         0            672         27    bachelor's degree             0   \n",
       "981           0          16700         57  secondary education             1   \n",
       "1553          0             51         21         some college             2   \n",
       "806           2           1951         31  secondary education             1   \n",
       "16123         0            186         58  secondary education             1   \n",
       "13757         2           1326         38  secondary education             1   \n",
       "19829         0           2793         40  secondary education             1   \n",
       "3246          0           1088         49  secondary education             1   \n",
       "4804          0            625         49  secondary education             1   \n",
       "8147          0            718         57  secondary education             1   \n",
       "9301          0           1190         45  secondary education             1   \n",
       "15271         1           9390         46  secondary education             1   \n",
       "14413         0           1046         28    bachelor's degree             0   \n",
       "15060         1           2562         38  secondary education             1   \n",
       "15783         0           3153         41  secondary education             1   \n",
       "5450          0           5097         48  secondary education             1   \n",
       "11135         0          16330         55  secondary education             1   \n",
       "10731         3           2640         45  secondary education             1   \n",
       "14420         1           1556         42  secondary education             1   \n",
       "18787         0            832         38  secondary education             1   \n",
       "2321          0            696         25    bachelor's degree             0   \n",
       "4528          0          14210         59  secondary education             1   \n",
       "13448         1            880         44    primary education             3   \n",
       "20137         0           2120         51  secondary education             1   \n",
       "10631         1           1629         38  secondary education             1   \n",
       "8796          0           2880         31    bachelor's degree             0   \n",
       "3349          0           1482         38  secondary education             1   \n",
       "2872          2           4371         34  secondary education             1   \n",
       "7833          1           3477         45    bachelor's degree             0   \n",
       "216           0            356         22    bachelor's degree             0   \n",
       "4877          0          14020         61  secondary education             1   \n",
       "13528         0            226         48  secondary education             1   \n",
       "13003         0           1702         29    bachelor's degree             0   \n",
       "21033         0          14073         60  secondary education             1   \n",
       "19501         0           1140         24    bachelor's degree             0   \n",
       "5135          0          15886         70  secondary education             1   \n",
       "\n",
       "           family_status  family_status_id gender    income_type  debt  \\\n",
       "8475     widow / widower                 2      F       employee     0   \n",
       "7220           unmarried                 4      M       business     0   \n",
       "2568             married                 0      M       employee     0   \n",
       "9061             married                 0      F       employee     0   \n",
       "19360            married                 0      M       business     0   \n",
       "13652            married                 0      M       employee     1   \n",
       "15326            married                 0      M       employee     1   \n",
       "18297            married                 0      M       employee     0   \n",
       "14718          unmarried                 4      F        retiree     0   \n",
       "939    civil partnership                 1      F  civil servant     0   \n",
       "5285             married                 0      M       business     0   \n",
       "14347  civil partnership                 1      M       business     0   \n",
       "539      widow / widower                 2      F        retiree     0   \n",
       "14868  civil partnership                 1      F       employee     0   \n",
       "20387  civil partnership                 1      M       business     0   \n",
       "981              married                 0      M        retiree     0   \n",
       "1553           unmarried                 4      F       employee     0   \n",
       "806              married                 0      F       business     0   \n",
       "16123            married                 0      F       business     0   \n",
       "13757            married                 0      F       business     0   \n",
       "19829  civil partnership                 1      M  civil servant     0   \n",
       "3246             married                 0      M       employee     0   \n",
       "4804             married                 0      M       business     0   \n",
       "8147             married                 0      M       employee     0   \n",
       "9301           unmarried                 4      F       employee     0   \n",
       "15271          unmarried                 4      F       employee     0   \n",
       "14413  civil partnership                 1      M       business     1   \n",
       "15060            married                 0      F       employee     0   \n",
       "15783            married                 0      M  civil servant     0   \n",
       "5450             married                 0      F       employee     0   \n",
       "11135            married                 0      F        retiree     0   \n",
       "10731            married                 0      M       employee     0   \n",
       "14420            married                 0      F       business     0   \n",
       "18787    widow / widower                 2      M       employee     0   \n",
       "2321   civil partnership                 1      F       business     1   \n",
       "4528   civil partnership                 1      F        retiree     0   \n",
       "13448            married                 0      M       employee     0   \n",
       "20137  civil partnership                 1      M       employee     0   \n",
       "10631  civil partnership                 1      F       business     0   \n",
       "8796             married                 0      F       business     1   \n",
       "3349             married                 0      F       employee     0   \n",
       "2872             married                 0      F       employee     0   \n",
       "7833             married                 0      F       business     0   \n",
       "216    civil partnership                 1      F       employee     0   \n",
       "4877             married                 0      F        retiree     0   \n",
       "13528            married                 0      F       employee     0   \n",
       "13003            married                 0      M       employee     0   \n",
       "21033            married                 0      M       employee     0   \n",
       "19501          unmarried                 4      M       employee     0   \n",
       "5135             married                 0      F        retiree     0   \n",
       "\n",
       "       total_income                                   purpose  age_group  \\\n",
       "8475      22,547.83                                       car          3   \n",
       "7220      15,620.79                      housing transactions          1   \n",
       "2568      25,889.24                  second-hand car purchase          2   \n",
       "9061      17,471.40                       going to university          3   \n",
       "19360     47,615.15                    building a real estate          2   \n",
       "13652     27,259.16                       building a property          2   \n",
       "15326     26,453.29                  purchase of my own house          3   \n",
       "18297     80,621.05                       building a property          2   \n",
       "14718     33,469.95          transactions with my real estate          4   \n",
       "939       16,145.08                          having a wedding          4   \n",
       "5285     147,343.64                         purchase of a car          2   \n",
       "14347     20,966.81                     purchase of the house          2   \n",
       "539       20,047.84                       building a property          4   \n",
       "14868     15,241.09                         to have a wedding          4   \n",
       "20387     74,356.72                  getting higher education          1   \n",
       "981       31,986.75                                   housing          4   \n",
       "1553      15,671.58                     purchase of the house          1   \n",
       "806       21,132.27                  real estate transactions          4   \n",
       "16123     14,977.81                buy commercial real estate          4   \n",
       "13757     21,881.35       purchase of the house for my family          2   \n",
       "19829     27,144.31                         to have a wedding          2   \n",
       "3246      28,590.71                         buying my own car          3   \n",
       "4804      26,464.20       purchase of the house for my family          3   \n",
       "8147      33,515.21                              to own a car          4   \n",
       "9301      17,198.76                buy commercial real estate          3   \n",
       "15271     16,363.96           buying property for renting out          3   \n",
       "14413     22,957.18                          having a wedding          1   \n",
       "15060     22,732.71                  buying a second-hand car          2   \n",
       "15783     82,936.12                        to become educated          2   \n",
       "5450      14,129.11                      getting an education          3   \n",
       "11135     15,719.45                      housing transactions          4   \n",
       "10731     27,140.40                                       car          3   \n",
       "14420     21,367.22                                       car          2   \n",
       "18787     32,949.03  transactions with commercial real estate          2   \n",
       "2321      15,492.91                  getting higher education          1   \n",
       "4528      12,426.22                          wedding ceremony          4   \n",
       "13448     10,504.44                         purchase of a car          3   \n",
       "20137     33,732.96       purchase of the house for my family          3   \n",
       "10631     21,981.22                          wedding ceremony          2   \n",
       "8796      24,140.36                  real estate transactions          4   \n",
       "3349      24,870.56                                  property          2   \n",
       "2872      19,357.30                  buying a second-hand car          2   \n",
       "7833      27,647.05                                  property          3   \n",
       "216       19,001.24                                 education          1   \n",
       "4877      20,668.40                         buying my own car          4   \n",
       "13528     15,526.77                       going to university          3   \n",
       "13003     32,041.59           buying property for renting out          1   \n",
       "21033     21,181.72                       building a property          4   \n",
       "19501     30,145.92                                   housing          1   \n",
       "5135       9,148.75                      university education          4   \n",
       "\n",
       "      test_purpose  \n",
       "8475       vehicle  \n",
       "7220   real_estate  \n",
       "2568       vehicle  \n",
       "9061     education  \n",
       "19360  real_estate  \n",
       "13652  real_estate  \n",
       "15326  real_estate  \n",
       "18297  real_estate  \n",
       "14718  real_estate  \n",
       "939        wedding  \n",
       "5285       vehicle  \n",
       "14347  real_estate  \n",
       "539    real_estate  \n",
       "14868      wedding  \n",
       "20387    education  \n",
       "981    real_estate  \n",
       "1553   real_estate  \n",
       "806    real_estate  \n",
       "16123  real_estate  \n",
       "13757  real_estate  \n",
       "19829      wedding  \n",
       "3246       vehicle  \n",
       "4804   real_estate  \n",
       "8147       vehicle  \n",
       "9301   real_estate  \n",
       "15271  real_estate  \n",
       "14413      wedding  \n",
       "15060      vehicle  \n",
       "15783    education  \n",
       "5450     education  \n",
       "11135  real_estate  \n",
       "10731      vehicle  \n",
       "14420      vehicle  \n",
       "18787  real_estate  \n",
       "2321     education  \n",
       "4528       wedding  \n",
       "13448      vehicle  \n",
       "20137  real_estate  \n",
       "10631      wedding  \n",
       "8796   real_estate  \n",
       "3349   real_estate  \n",
       "2872       vehicle  \n",
       "7833   real_estate  \n",
       "216      education  \n",
       "4877       vehicle  \n",
       "13528    education  \n",
       "13003  real_estate  \n",
       "21033  real_estate  \n",
       "19501  real_estate  \n",
       "5135     education  "
      ]
     },
     "metadata": {},
     "output_type": "display_data"
    }
   ],
   "source": [
    "# check on the data sample\n",
    "data_test_sample = data.sample(50, random_state=555)\n",
    "data_test_sample['test_purpose'] = data['purpose'].apply(pure_purpose)\n",
    "with pd.option_context('display.max_rows', None):\n",
    "    display(data_test_sample)"
   ]
  },
  {
   "cell_type": "code",
   "execution_count": 45,
   "metadata": {},
   "outputs": [],
   "source": [
    "# applying the function to the data\n",
    "data['purpose'] = data['purpose'].apply(pure_purpose)"
   ]
  },
  {
   "cell_type": "code",
   "execution_count": 46,
   "metadata": {
    "scrolled": true
   },
   "outputs": [
    {
     "data": {
      "text/plain": [
       "purpose    \n",
       "real_estate    10811\n",
       "vehicle         4306\n",
       "education       4013\n",
       "wedding         2323\n",
       "dtype: int64"
      ]
     },
     "execution_count": 46,
     "metadata": {},
     "output_type": "execute_result"
    }
   ],
   "source": [
    "# check 'purpose' column unique values\n",
    "data[['purpose']].value_counts()"
   ]
  },
  {
   "cell_type": "markdown",
   "metadata": {},
   "source": [
    "The most common loan purpose is real estate transactions. "
   ]
  },
  {
   "cell_type": "markdown",
   "metadata": {},
   "source": [
    "## Data categorization and encoding <a id='id25'></a>"
   ]
  },
  {
   "cell_type": "markdown",
   "metadata": {},
   "source": [
    "In this section we'll determine for groups the of borrower's income based on the `total_income` column and its percentiles values. In this case we'll use `pandas.qcut()` method - discretize variable into equal-sized buckets based on rank or based on sample quantiles.   \n",
    "Also we'll encode `gender`, `purpose` and `income_type` columns using Sclearn library and its LabelEncoder and `children` column using a new function."
   ]
  },
  {
   "cell_type": "code",
   "execution_count": 47,
   "metadata": {
    "scrolled": true
   },
   "outputs": [
    {
     "data": {
      "text/html": [
       "<div>\n",
       "<style scoped>\n",
       "    .dataframe tbody tr th:only-of-type {\n",
       "        vertical-align: middle;\n",
       "    }\n",
       "\n",
       "    .dataframe tbody tr th {\n",
       "        vertical-align: top;\n",
       "    }\n",
       "\n",
       "    .dataframe thead th {\n",
       "        text-align: right;\n",
       "    }\n",
       "</style>\n",
       "<table border=\"1\" class=\"dataframe\">\n",
       "  <thead>\n",
       "    <tr style=\"text-align: right;\">\n",
       "      <th></th>\n",
       "      <th>total_income</th>\n",
       "    </tr>\n",
       "  </thead>\n",
       "  <tbody>\n",
       "    <tr>\n",
       "      <th>count</th>\n",
       "      <td>21,453.00</td>\n",
       "    </tr>\n",
       "    <tr>\n",
       "      <th>mean</th>\n",
       "      <td>26,448.37</td>\n",
       "    </tr>\n",
       "    <tr>\n",
       "      <th>std</th>\n",
       "      <td>15,688.15</td>\n",
       "    </tr>\n",
       "    <tr>\n",
       "      <th>min</th>\n",
       "      <td>3,306.76</td>\n",
       "    </tr>\n",
       "    <tr>\n",
       "      <th>20%</th>\n",
       "      <td>15,765.94</td>\n",
       "    </tr>\n",
       "    <tr>\n",
       "      <th>50%</th>\n",
       "      <td>23,347.06</td>\n",
       "    </tr>\n",
       "    <tr>\n",
       "      <th>75%</th>\n",
       "      <td>31,331.01</td>\n",
       "    </tr>\n",
       "    <tr>\n",
       "      <th>max</th>\n",
       "      <td>362,496.65</td>\n",
       "    </tr>\n",
       "  </tbody>\n",
       "</table>\n",
       "</div>"
      ],
      "text/plain": [
       "       total_income\n",
       "count     21,453.00\n",
       "mean      26,448.37\n",
       "std       15,688.15\n",
       "min        3,306.76\n",
       "20%       15,765.94\n",
       "50%       23,347.06\n",
       "75%       31,331.01\n",
       "max      362,496.65"
      ]
     },
     "execution_count": 47,
     "metadata": {},
     "output_type": "execute_result"
    }
   ],
   "source": [
    "# 'total_income' percentiles\n",
    "percentiles= [.20, .50, .75] \n",
    "data[['total_income']].describe(percentiles = percentiles)"
   ]
  },
  {
   "cell_type": "code",
   "execution_count": 48,
   "metadata": {},
   "outputs": [],
   "source": [
    "# income groups creating\n",
    "data['income_group'] = pd.qcut(data['total_income'], q=4, labels=[1, 2, 3, 4])"
   ]
  },
  {
   "cell_type": "code",
   "execution_count": 49,
   "metadata": {},
   "outputs": [],
   "source": [
    "# gender_id, purpose_id and income_type_id creating\n",
    "data['gender_id'] = le.fit_transform(data.gender.values)\n",
    "data['purpose_id'] = le.fit_transform(data['purpose'])\n",
    "data['income_type_id'] = le.fit_transform(data['income_type'])"
   ]
  },
  {
   "cell_type": "code",
   "execution_count": 50,
   "metadata": {},
   "outputs": [],
   "source": [
    "# function for categorization 'children' column\n",
    "def children_group(children):\n",
    "    if children < 1:\n",
    "        return 0\n",
    "    elif 1 <= children < 3:\n",
    "        return 1\n",
    "    else:\n",
    "        return 2"
   ]
  },
  {
   "cell_type": "code",
   "execution_count": 51,
   "metadata": {},
   "outputs": [],
   "source": [
    "# applying to the 'children' column\n",
    "data['children_group'] = data['children'].apply(children_group)"
   ]
  },
  {
   "cell_type": "code",
   "execution_count": 52,
   "metadata": {
    "scrolled": false
   },
   "outputs": [
    {
     "data": {
      "text/html": [
       "<div>\n",
       "<style scoped>\n",
       "    .dataframe tbody tr th:only-of-type {\n",
       "        vertical-align: middle;\n",
       "    }\n",
       "\n",
       "    .dataframe tbody tr th {\n",
       "        vertical-align: top;\n",
       "    }\n",
       "\n",
       "    .dataframe thead th {\n",
       "        text-align: right;\n",
       "    }\n",
       "</style>\n",
       "<table border=\"1\" class=\"dataframe\">\n",
       "  <thead>\n",
       "    <tr style=\"text-align: right;\">\n",
       "      <th></th>\n",
       "      <th>children</th>\n",
       "      <th>days_employed</th>\n",
       "      <th>dob_years</th>\n",
       "      <th>education</th>\n",
       "      <th>education_id</th>\n",
       "      <th>family_status</th>\n",
       "      <th>family_status_id</th>\n",
       "      <th>gender</th>\n",
       "      <th>income_type</th>\n",
       "      <th>debt</th>\n",
       "      <th>total_income</th>\n",
       "      <th>purpose</th>\n",
       "      <th>age_group</th>\n",
       "      <th>income_group</th>\n",
       "      <th>gender_id</th>\n",
       "      <th>purpose_id</th>\n",
       "      <th>income_type_id</th>\n",
       "      <th>children_group</th>\n",
       "    </tr>\n",
       "  </thead>\n",
       "  <tbody>\n",
       "    <tr>\n",
       "      <th>17146</th>\n",
       "      <td>0</td>\n",
       "      <td>15358</td>\n",
       "      <td>60</td>\n",
       "      <td>secondary education</td>\n",
       "      <td>1</td>\n",
       "      <td>unmarried</td>\n",
       "      <td>4</td>\n",
       "      <td>F</td>\n",
       "      <td>retiree</td>\n",
       "      <td>0</td>\n",
       "      <td>9,409.91</td>\n",
       "      <td>real_estate</td>\n",
       "      <td>4</td>\n",
       "      <td>1</td>\n",
       "      <td>0</td>\n",
       "      <td>1</td>\n",
       "      <td>5</td>\n",
       "      <td>0</td>\n",
       "    </tr>\n",
       "    <tr>\n",
       "      <th>20384</th>\n",
       "      <td>0</td>\n",
       "      <td>1046</td>\n",
       "      <td>28</td>\n",
       "      <td>secondary education</td>\n",
       "      <td>1</td>\n",
       "      <td>married</td>\n",
       "      <td>0</td>\n",
       "      <td>M</td>\n",
       "      <td>employee</td>\n",
       "      <td>0</td>\n",
       "      <td>22,957.18</td>\n",
       "      <td>education</td>\n",
       "      <td>1</td>\n",
       "      <td>2</td>\n",
       "      <td>1</td>\n",
       "      <td>0</td>\n",
       "      <td>2</td>\n",
       "      <td>0</td>\n",
       "    </tr>\n",
       "    <tr>\n",
       "      <th>16377</th>\n",
       "      <td>0</td>\n",
       "      <td>15537</td>\n",
       "      <td>63</td>\n",
       "      <td>secondary education</td>\n",
       "      <td>1</td>\n",
       "      <td>married</td>\n",
       "      <td>0</td>\n",
       "      <td>M</td>\n",
       "      <td>retiree</td>\n",
       "      <td>0</td>\n",
       "      <td>27,761.59</td>\n",
       "      <td>real_estate</td>\n",
       "      <td>4</td>\n",
       "      <td>3</td>\n",
       "      <td>1</td>\n",
       "      <td>1</td>\n",
       "      <td>5</td>\n",
       "      <td>0</td>\n",
       "    </tr>\n",
       "    <tr>\n",
       "      <th>10971</th>\n",
       "      <td>0</td>\n",
       "      <td>2903</td>\n",
       "      <td>47</td>\n",
       "      <td>bachelor's degree</td>\n",
       "      <td>0</td>\n",
       "      <td>unmarried</td>\n",
       "      <td>4</td>\n",
       "      <td>M</td>\n",
       "      <td>business</td>\n",
       "      <td>0</td>\n",
       "      <td>66,668.97</td>\n",
       "      <td>real_estate</td>\n",
       "      <td>3</td>\n",
       "      <td>4</td>\n",
       "      <td>1</td>\n",
       "      <td>1</td>\n",
       "      <td>0</td>\n",
       "      <td>0</td>\n",
       "    </tr>\n",
       "    <tr>\n",
       "      <th>11125</th>\n",
       "      <td>0</td>\n",
       "      <td>1114</td>\n",
       "      <td>47</td>\n",
       "      <td>bachelor's degree</td>\n",
       "      <td>0</td>\n",
       "      <td>civil partnership</td>\n",
       "      <td>1</td>\n",
       "      <td>F</td>\n",
       "      <td>employee</td>\n",
       "      <td>0</td>\n",
       "      <td>33,777.11</td>\n",
       "      <td>education</td>\n",
       "      <td>3</td>\n",
       "      <td>4</td>\n",
       "      <td>0</td>\n",
       "      <td>0</td>\n",
       "      <td>2</td>\n",
       "      <td>0</td>\n",
       "    </tr>\n",
       "    <tr>\n",
       "      <th>16313</th>\n",
       "      <td>0</td>\n",
       "      <td>16548</td>\n",
       "      <td>66</td>\n",
       "      <td>secondary education</td>\n",
       "      <td>1</td>\n",
       "      <td>married</td>\n",
       "      <td>0</td>\n",
       "      <td>M</td>\n",
       "      <td>retiree</td>\n",
       "      <td>0</td>\n",
       "      <td>19,484.70</td>\n",
       "      <td>real_estate</td>\n",
       "      <td>4</td>\n",
       "      <td>2</td>\n",
       "      <td>1</td>\n",
       "      <td>1</td>\n",
       "      <td>5</td>\n",
       "      <td>0</td>\n",
       "    </tr>\n",
       "    <tr>\n",
       "      <th>4027</th>\n",
       "      <td>0</td>\n",
       "      <td>3233</td>\n",
       "      <td>47</td>\n",
       "      <td>bachelor's degree</td>\n",
       "      <td>0</td>\n",
       "      <td>civil partnership</td>\n",
       "      <td>1</td>\n",
       "      <td>F</td>\n",
       "      <td>employee</td>\n",
       "      <td>0</td>\n",
       "      <td>32,750.23</td>\n",
       "      <td>wedding</td>\n",
       "      <td>3</td>\n",
       "      <td>4</td>\n",
       "      <td>0</td>\n",
       "      <td>3</td>\n",
       "      <td>2</td>\n",
       "      <td>0</td>\n",
       "    </tr>\n",
       "    <tr>\n",
       "      <th>4948</th>\n",
       "      <td>1</td>\n",
       "      <td>2383</td>\n",
       "      <td>46</td>\n",
       "      <td>secondary education</td>\n",
       "      <td>1</td>\n",
       "      <td>married</td>\n",
       "      <td>0</td>\n",
       "      <td>M</td>\n",
       "      <td>business</td>\n",
       "      <td>0</td>\n",
       "      <td>61,339.86</td>\n",
       "      <td>real_estate</td>\n",
       "      <td>3</td>\n",
       "      <td>4</td>\n",
       "      <td>1</td>\n",
       "      <td>1</td>\n",
       "      <td>0</td>\n",
       "      <td>1</td>\n",
       "    </tr>\n",
       "    <tr>\n",
       "      <th>19179</th>\n",
       "      <td>2</td>\n",
       "      <td>274</td>\n",
       "      <td>30</td>\n",
       "      <td>bachelor's degree</td>\n",
       "      <td>0</td>\n",
       "      <td>married</td>\n",
       "      <td>0</td>\n",
       "      <td>F</td>\n",
       "      <td>employee</td>\n",
       "      <td>0</td>\n",
       "      <td>38,721.83</td>\n",
       "      <td>vehicle</td>\n",
       "      <td>1</td>\n",
       "      <td>4</td>\n",
       "      <td>0</td>\n",
       "      <td>2</td>\n",
       "      <td>2</td>\n",
       "      <td>1</td>\n",
       "    </tr>\n",
       "    <tr>\n",
       "      <th>10857</th>\n",
       "      <td>1</td>\n",
       "      <td>3764</td>\n",
       "      <td>44</td>\n",
       "      <td>secondary education</td>\n",
       "      <td>1</td>\n",
       "      <td>married</td>\n",
       "      <td>0</td>\n",
       "      <td>M</td>\n",
       "      <td>business</td>\n",
       "      <td>0</td>\n",
       "      <td>20,630.62</td>\n",
       "      <td>real_estate</td>\n",
       "      <td>3</td>\n",
       "      <td>2</td>\n",
       "      <td>1</td>\n",
       "      <td>1</td>\n",
       "      <td>0</td>\n",
       "      <td>1</td>\n",
       "    </tr>\n",
       "  </tbody>\n",
       "</table>\n",
       "</div>"
      ],
      "text/plain": [
       "       children  days_employed  dob_years            education  education_id  \\\n",
       "17146         0          15358         60  secondary education             1   \n",
       "20384         0           1046         28  secondary education             1   \n",
       "16377         0          15537         63  secondary education             1   \n",
       "10971         0           2903         47    bachelor's degree             0   \n",
       "11125         0           1114         47    bachelor's degree             0   \n",
       "16313         0          16548         66  secondary education             1   \n",
       "4027          0           3233         47    bachelor's degree             0   \n",
       "4948          1           2383         46  secondary education             1   \n",
       "19179         2            274         30    bachelor's degree             0   \n",
       "10857         1           3764         44  secondary education             1   \n",
       "\n",
       "           family_status  family_status_id gender income_type  debt  \\\n",
       "17146          unmarried                 4      F     retiree     0   \n",
       "20384            married                 0      M    employee     0   \n",
       "16377            married                 0      M     retiree     0   \n",
       "10971          unmarried                 4      M    business     0   \n",
       "11125  civil partnership                 1      F    employee     0   \n",
       "16313            married                 0      M     retiree     0   \n",
       "4027   civil partnership                 1      F    employee     0   \n",
       "4948             married                 0      M    business     0   \n",
       "19179            married                 0      F    employee     0   \n",
       "10857            married                 0      M    business     0   \n",
       "\n",
       "       total_income      purpose  age_group income_group  gender_id  \\\n",
       "17146      9,409.91  real_estate          4            1          0   \n",
       "20384     22,957.18    education          1            2          1   \n",
       "16377     27,761.59  real_estate          4            3          1   \n",
       "10971     66,668.97  real_estate          3            4          1   \n",
       "11125     33,777.11    education          3            4          0   \n",
       "16313     19,484.70  real_estate          4            2          1   \n",
       "4027      32,750.23      wedding          3            4          0   \n",
       "4948      61,339.86  real_estate          3            4          1   \n",
       "19179     38,721.83      vehicle          1            4          0   \n",
       "10857     20,630.62  real_estate          3            2          1   \n",
       "\n",
       "       purpose_id  income_type_id  children_group  \n",
       "17146           1               5               0  \n",
       "20384           0               2               0  \n",
       "16377           1               5               0  \n",
       "10971           1               0               0  \n",
       "11125           0               2               0  \n",
       "16313           1               5               0  \n",
       "4027            3               2               0  \n",
       "4948            1               0               1  \n",
       "19179           2               2               1  \n",
       "10857           1               0               1  "
      ]
     },
     "execution_count": 52,
     "metadata": {},
     "output_type": "execute_result"
    }
   ],
   "source": [
    "# check\n",
    "data.sample(10, random_state=999)"
   ]
  },
  {
   "cell_type": "markdown",
   "metadata": {},
   "source": [
    "##  Interim conclusions <a id='id26'></a>   "
   ]
  },
  {
   "cell_type": "markdown",
   "metadata": {},
   "source": [
    "In this section we've:\n",
    "\n",
    "* found and processed data artifacts - `children`, `dob_years`, `gender` columns;\n",
    "* transformed negative values to positive in `days_employed` column;\n",
    "* changed the data type to integer in `days_employed` column;\n",
    "* found and processed duplicates in the categorical data - `education` column;\n",
    "* found and filled missing values (10,1% of total) in the `days_employed` and `total_income` columns;\n",
    "* categorized borrower's age and their total income to four groups based on the percentiles in this columns;\n",
    "* encoded `gender`, `children` and `income_type` columns using LabelEncoder and our own function;\n",
    "* lemmatized `purpose column` and provided four main loan purposes: wedding, vehicle, real_estate and education."
   ]
  },
  {
   "cell_type": "markdown",
   "metadata": {},
   "source": [
    "# Exploratory Data Analysis (EDA) <a id='id3'></a>"
   ]
  },
  {
   "cell_type": "markdown",
   "metadata": {},
   "source": [
    "In this secton we'll answer following questions:\n",
    "\n",
    "- Is there a correlation between having children and loan repayment?\n",
    "- Is there a correlation between client's marital status and loan repayment?\n",
    "- Is there a correlation between client's income and loan repayment?\n",
    "- How different loan purposes have an impact on its repayment?\n",
    "\n",
    "We'll answer these questions using pivot tables and Spearman correlation.    \n",
    "\n",
    "*Pivot tables*: We have 2 options in the `debt` column - 0 and 1. Hence we colud use specified parameter (children, marital status etc.) as an `index` and `debt` column as a `values` and build a pivot table that calculate mean by deafult (parameter `aggfunc`). So we'll get the loan payment delay probability depending on borrower's category in the specified parameter (children/marital status/income.)     \n",
    "*Spearman correlation*: `DataFrame.corr(method='pearson', min_periods=1)` - compute pairwise correlation of columns, excluding NA/null values."
   ]
  },
  {
   "cell_type": "markdown",
   "metadata": {},
   "source": [
    "###  Is there a connection between having kids and repaying a loan on time? <a id='id31'></a>"
   ]
  },
  {
   "cell_type": "code",
   "execution_count": 53,
   "metadata": {},
   "outputs": [],
   "source": [
    "# pandas customization\n",
    "pd.set_option('display.float_format', '{:,.3f}'.format)"
   ]
  },
  {
   "cell_type": "code",
   "execution_count": 54,
   "metadata": {
    "scrolled": false
   },
   "outputs": [
    {
     "data": {
      "text/html": [
       "<div>\n",
       "<style scoped>\n",
       "    .dataframe tbody tr th:only-of-type {\n",
       "        vertical-align: middle;\n",
       "    }\n",
       "\n",
       "    .dataframe tbody tr th {\n",
       "        vertical-align: top;\n",
       "    }\n",
       "\n",
       "    .dataframe thead th {\n",
       "        text-align: right;\n",
       "    }\n",
       "</style>\n",
       "<table border=\"1\" class=\"dataframe\">\n",
       "  <thead>\n",
       "    <tr style=\"text-align: right;\">\n",
       "      <th></th>\n",
       "      <th>debt</th>\n",
       "    </tr>\n",
       "    <tr>\n",
       "      <th>children</th>\n",
       "      <th></th>\n",
       "    </tr>\n",
       "  </thead>\n",
       "  <tbody>\n",
       "    <tr>\n",
       "      <th>0</th>\n",
       "      <td>0.075</td>\n",
       "    </tr>\n",
       "    <tr>\n",
       "      <th>1</th>\n",
       "      <td>0.092</td>\n",
       "    </tr>\n",
       "    <tr>\n",
       "      <th>2</th>\n",
       "      <td>0.095</td>\n",
       "    </tr>\n",
       "    <tr>\n",
       "      <th>3</th>\n",
       "      <td>0.082</td>\n",
       "    </tr>\n",
       "    <tr>\n",
       "      <th>4</th>\n",
       "      <td>0.098</td>\n",
       "    </tr>\n",
       "    <tr>\n",
       "      <th>5</th>\n",
       "      <td>0.000</td>\n",
       "    </tr>\n",
       "  </tbody>\n",
       "</table>\n",
       "</div>"
      ],
      "text/plain": [
       "          debt\n",
       "children      \n",
       "0        0.075\n",
       "1        0.092\n",
       "2        0.095\n",
       "3        0.082\n",
       "4        0.098\n",
       "5        0.000"
      ]
     },
     "execution_count": 54,
     "metadata": {},
     "output_type": "execute_result"
    }
   ],
   "source": [
    "# pivot table for children parameter\n",
    "data.pivot_table(index=['children'], values='debt')"
   ]
  },
  {
   "cell_type": "code",
   "execution_count": 55,
   "metadata": {
    "scrolled": false
   },
   "outputs": [
    {
     "data": {
      "text/html": [
       "<div>\n",
       "<style scoped>\n",
       "    .dataframe tbody tr th:only-of-type {\n",
       "        vertical-align: middle;\n",
       "    }\n",
       "\n",
       "    .dataframe tbody tr th {\n",
       "        vertical-align: top;\n",
       "    }\n",
       "\n",
       "    .dataframe thead th {\n",
       "        text-align: right;\n",
       "    }\n",
       "</style>\n",
       "<table border=\"1\" class=\"dataframe\">\n",
       "  <thead>\n",
       "    <tr style=\"text-align: right;\">\n",
       "      <th></th>\n",
       "      <th>children_group</th>\n",
       "      <th>debt</th>\n",
       "    </tr>\n",
       "  </thead>\n",
       "  <tbody>\n",
       "    <tr>\n",
       "      <th>children_group</th>\n",
       "      <td>1.000</td>\n",
       "      <td>0.029</td>\n",
       "    </tr>\n",
       "    <tr>\n",
       "      <th>debt</th>\n",
       "      <td>0.029</td>\n",
       "      <td>1.000</td>\n",
       "    </tr>\n",
       "  </tbody>\n",
       "</table>\n",
       "</div>"
      ],
      "text/plain": [
       "                children_group  debt\n",
       "children_group           1.000 0.029\n",
       "debt                     0.029 1.000"
      ]
     },
     "metadata": {},
     "output_type": "display_data"
    },
    {
     "data": {
      "text/html": [
       "<div>\n",
       "<style scoped>\n",
       "    .dataframe tbody tr th:only-of-type {\n",
       "        vertical-align: middle;\n",
       "    }\n",
       "\n",
       "    .dataframe tbody tr th {\n",
       "        vertical-align: top;\n",
       "    }\n",
       "\n",
       "    .dataframe thead th {\n",
       "        text-align: right;\n",
       "    }\n",
       "</style>\n",
       "<table border=\"1\" class=\"dataframe\">\n",
       "  <thead>\n",
       "    <tr style=\"text-align: right;\">\n",
       "      <th></th>\n",
       "      <th>children</th>\n",
       "      <th>debt</th>\n",
       "    </tr>\n",
       "  </thead>\n",
       "  <tbody>\n",
       "    <tr>\n",
       "      <th>children</th>\n",
       "      <td>1.000</td>\n",
       "      <td>0.029</td>\n",
       "    </tr>\n",
       "    <tr>\n",
       "      <th>debt</th>\n",
       "      <td>0.029</td>\n",
       "      <td>1.000</td>\n",
       "    </tr>\n",
       "  </tbody>\n",
       "</table>\n",
       "</div>"
      ],
      "text/plain": [
       "          children  debt\n",
       "children     1.000 0.029\n",
       "debt         0.029 1.000"
      ]
     },
     "execution_count": 55,
     "metadata": {},
     "output_type": "execute_result"
    }
   ],
   "source": [
    "# using Spearman correlation\n",
    "display(data[['children_group', 'debt']].corr(method='spearman'))\n",
    "data[['children', 'debt']].corr(method='spearman')"
   ]
  },
  {
   "cell_type": "markdown",
   "metadata": {},
   "source": [
    "### Conclusion\n",
    "\n",
    "A relation between having kids and repaying a loan on time is weak but people without kids have less problems with repaying a loan on time. According to the pivot table debt risk without kids is 7,5% against 9,2% with one child. For families with 4 children we see the maximum probability of debt - 9,8%. This can be explained by the fact that families with kids have higher expenditure rate which could create precarious financial situations."
   ]
  },
  {
   "cell_type": "markdown",
   "metadata": {},
   "source": [
    "### Is there a connection between marital status and repaying a loan on time? <a id='id32'></a>"
   ]
  },
  {
   "cell_type": "code",
   "execution_count": 56,
   "metadata": {
    "scrolled": true
   },
   "outputs": [
    {
     "data": {
      "text/html": [
       "<div>\n",
       "<style scoped>\n",
       "    .dataframe tbody tr th:only-of-type {\n",
       "        vertical-align: middle;\n",
       "    }\n",
       "\n",
       "    .dataframe tbody tr th {\n",
       "        vertical-align: top;\n",
       "    }\n",
       "\n",
       "    .dataframe thead th {\n",
       "        text-align: right;\n",
       "    }\n",
       "</style>\n",
       "<table border=\"1\" class=\"dataframe\">\n",
       "  <thead>\n",
       "    <tr style=\"text-align: right;\">\n",
       "      <th></th>\n",
       "      <th>debt</th>\n",
       "    </tr>\n",
       "    <tr>\n",
       "      <th>family_status</th>\n",
       "      <th></th>\n",
       "    </tr>\n",
       "  </thead>\n",
       "  <tbody>\n",
       "    <tr>\n",
       "      <th>civil partnership</th>\n",
       "      <td>0.093</td>\n",
       "    </tr>\n",
       "    <tr>\n",
       "      <th>divorced</th>\n",
       "      <td>0.071</td>\n",
       "    </tr>\n",
       "    <tr>\n",
       "      <th>married</th>\n",
       "      <td>0.075</td>\n",
       "    </tr>\n",
       "    <tr>\n",
       "      <th>unmarried</th>\n",
       "      <td>0.098</td>\n",
       "    </tr>\n",
       "    <tr>\n",
       "      <th>widow / widower</th>\n",
       "      <td>0.066</td>\n",
       "    </tr>\n",
       "  </tbody>\n",
       "</table>\n",
       "</div>"
      ],
      "text/plain": [
       "                   debt\n",
       "family_status          \n",
       "civil partnership 0.093\n",
       "divorced          0.071\n",
       "married           0.075\n",
       "unmarried         0.098\n",
       "widow / widower   0.066"
      ]
     },
     "execution_count": 56,
     "metadata": {},
     "output_type": "execute_result"
    }
   ],
   "source": [
    "# pivot table for marital status \n",
    "data.pivot_table(index=['family_status'], values='debt')"
   ]
  },
  {
   "cell_type": "code",
   "execution_count": 57,
   "metadata": {
    "scrolled": true
   },
   "outputs": [
    {
     "data": {
      "text/html": [
       "<div>\n",
       "<style scoped>\n",
       "    .dataframe tbody tr th:only-of-type {\n",
       "        vertical-align: middle;\n",
       "    }\n",
       "\n",
       "    .dataframe tbody tr th {\n",
       "        vertical-align: top;\n",
       "    }\n",
       "\n",
       "    .dataframe thead th {\n",
       "        text-align: right;\n",
       "    }\n",
       "</style>\n",
       "<table border=\"1\" class=\"dataframe\">\n",
       "  <thead>\n",
       "    <tr style=\"text-align: right;\">\n",
       "      <th></th>\n",
       "      <th>family_status_id</th>\n",
       "      <th>debt</th>\n",
       "    </tr>\n",
       "  </thead>\n",
       "  <tbody>\n",
       "    <tr>\n",
       "      <th>family_status_id</th>\n",
       "      <td>1.000</td>\n",
       "      <td>0.023</td>\n",
       "    </tr>\n",
       "    <tr>\n",
       "      <th>debt</th>\n",
       "      <td>0.023</td>\n",
       "      <td>1.000</td>\n",
       "    </tr>\n",
       "  </tbody>\n",
       "</table>\n",
       "</div>"
      ],
      "text/plain": [
       "                  family_status_id  debt\n",
       "family_status_id             1.000 0.023\n",
       "debt                         0.023 1.000"
      ]
     },
     "execution_count": 57,
     "metadata": {},
     "output_type": "execute_result"
    }
   ],
   "source": [
    "# using Spearman correlation\n",
    "data[['family_status_id', 'debt']].corr(method='spearman')"
   ]
  },
  {
   "cell_type": "markdown",
   "metadata": {},
   "source": [
    "### Conclusion\n",
    "\n",
    "Spearman coefficient shows us a weak correlation. According to the pivot table the highest debt risk have clients with 'unmarried' (9,8%) and 'civil partnership' (9,3%) status. The lowest risk have widow\\widower (6,6%) and divorced group (7,1%). It can be assumed that widows and widowers belong to the old age group and plan their budgets more wisely. The same can be said about 'married' and 'divorced' categories: they have more stable income and expenses."
   ]
  },
  {
   "cell_type": "markdown",
   "metadata": {},
   "source": [
    "### Is there a connection between income and repaying a loan on time? <a id='id33'></a>"
   ]
  },
  {
   "cell_type": "code",
   "execution_count": 58,
   "metadata": {
    "scrolled": false
   },
   "outputs": [
    {
     "data": {
      "text/html": [
       "<div>\n",
       "<style scoped>\n",
       "    .dataframe tbody tr th:only-of-type {\n",
       "        vertical-align: middle;\n",
       "    }\n",
       "\n",
       "    .dataframe tbody tr th {\n",
       "        vertical-align: top;\n",
       "    }\n",
       "\n",
       "    .dataframe thead th {\n",
       "        text-align: right;\n",
       "    }\n",
       "</style>\n",
       "<table border=\"1\" class=\"dataframe\">\n",
       "  <thead>\n",
       "    <tr style=\"text-align: right;\">\n",
       "      <th></th>\n",
       "      <th>debt</th>\n",
       "    </tr>\n",
       "    <tr>\n",
       "      <th>income_group</th>\n",
       "      <th></th>\n",
       "    </tr>\n",
       "  </thead>\n",
       "  <tbody>\n",
       "    <tr>\n",
       "      <th>1</th>\n",
       "      <td>0.080</td>\n",
       "    </tr>\n",
       "    <tr>\n",
       "      <th>2</th>\n",
       "      <td>0.087</td>\n",
       "    </tr>\n",
       "    <tr>\n",
       "      <th>3</th>\n",
       "      <td>0.087</td>\n",
       "    </tr>\n",
       "    <tr>\n",
       "      <th>4</th>\n",
       "      <td>0.071</td>\n",
       "    </tr>\n",
       "  </tbody>\n",
       "</table>\n",
       "</div>"
      ],
      "text/plain": [
       "              debt\n",
       "income_group      \n",
       "1            0.080\n",
       "2            0.087\n",
       "3            0.087\n",
       "4            0.071"
      ]
     },
     "execution_count": 58,
     "metadata": {},
     "output_type": "execute_result"
    }
   ],
   "source": [
    "# pivot table for income\n",
    "data.pivot_table(index=['income_group'], values='debt')"
   ]
  },
  {
   "cell_type": "code",
   "execution_count": 59,
   "metadata": {
    "scrolled": true
   },
   "outputs": [
    {
     "data": {
      "text/html": [
       "<div>\n",
       "<style scoped>\n",
       "    .dataframe tbody tr th:only-of-type {\n",
       "        vertical-align: middle;\n",
       "    }\n",
       "\n",
       "    .dataframe tbody tr th {\n",
       "        vertical-align: top;\n",
       "    }\n",
       "\n",
       "    .dataframe thead th {\n",
       "        text-align: right;\n",
       "    }\n",
       "</style>\n",
       "<table border=\"1\" class=\"dataframe\">\n",
       "  <thead>\n",
       "    <tr style=\"text-align: right;\">\n",
       "      <th></th>\n",
       "      <th>income_group</th>\n",
       "      <th>debt</th>\n",
       "    </tr>\n",
       "  </thead>\n",
       "  <tbody>\n",
       "    <tr>\n",
       "      <th>income_group</th>\n",
       "      <td>1.000</td>\n",
       "      <td>-0.010</td>\n",
       "    </tr>\n",
       "    <tr>\n",
       "      <th>debt</th>\n",
       "      <td>-0.010</td>\n",
       "      <td>1.000</td>\n",
       "    </tr>\n",
       "  </tbody>\n",
       "</table>\n",
       "</div>"
      ],
      "text/plain": [
       "              income_group   debt\n",
       "income_group         1.000 -0.010\n",
       "debt                -0.010  1.000"
      ]
     },
     "execution_count": 59,
     "metadata": {},
     "output_type": "execute_result"
    }
   ],
   "source": [
    "# using Spearman correlation\n",
    "data['income_group'] = data['income_group'].astype('int', copy=False, errors='ignore')\n",
    "data[['income_group', 'debt']].corr(method='spearman')"
   ]
  },
  {
   "cell_type": "markdown",
   "metadata": {},
   "source": [
    "### Conclusion\n",
    "\n",
    "There is a weak negative correlation, but it close to zero. Pivot table shows us a lower debt risk in 4th and 1st total income categories. 4th category - borrowers with the highest total income intuitively have the lowest debt risk (7,2%). However the second place takes 1st group (the lowest total income). It can be assumed that the borrowers with low income plan their budget more carefully, probably save more. Еherefore they're less often in debt (7.9% probability). The 2nd and 3rd total income categories have 8,5% and 8,6% debt risk respectively. "
   ]
  },
  {
   "cell_type": "markdown",
   "metadata": {},
   "source": [
    "### Is there a connection between education and repaying a loan on time? <a id='id35'></a>"
   ]
  },
  {
   "cell_type": "code",
   "execution_count": 60,
   "metadata": {
    "scrolled": false
   },
   "outputs": [
    {
     "data": {
      "text/html": [
       "<div>\n",
       "<style scoped>\n",
       "    .dataframe tbody tr th:only-of-type {\n",
       "        vertical-align: middle;\n",
       "    }\n",
       "\n",
       "    .dataframe tbody tr th {\n",
       "        vertical-align: top;\n",
       "    }\n",
       "\n",
       "    .dataframe thead th {\n",
       "        text-align: right;\n",
       "    }\n",
       "</style>\n",
       "<table border=\"1\" class=\"dataframe\">\n",
       "  <thead>\n",
       "    <tr style=\"text-align: right;\">\n",
       "      <th></th>\n",
       "      <th>debt</th>\n",
       "    </tr>\n",
       "    <tr>\n",
       "      <th>education</th>\n",
       "      <th></th>\n",
       "    </tr>\n",
       "  </thead>\n",
       "  <tbody>\n",
       "    <tr>\n",
       "      <th>bachelor's degree</th>\n",
       "      <td>0.053</td>\n",
       "    </tr>\n",
       "    <tr>\n",
       "      <th>graduate degree</th>\n",
       "      <td>0.000</td>\n",
       "    </tr>\n",
       "    <tr>\n",
       "      <th>primary education</th>\n",
       "      <td>0.110</td>\n",
       "    </tr>\n",
       "    <tr>\n",
       "      <th>secondary education</th>\n",
       "      <td>0.090</td>\n",
       "    </tr>\n",
       "    <tr>\n",
       "      <th>some college</th>\n",
       "      <td>0.091</td>\n",
       "    </tr>\n",
       "  </tbody>\n",
       "</table>\n",
       "</div>"
      ],
      "text/plain": [
       "                     debt\n",
       "education                \n",
       "bachelor's degree   0.053\n",
       "graduate degree     0.000\n",
       "primary education   0.110\n",
       "secondary education 0.090\n",
       "some college        0.091"
      ]
     },
     "execution_count": 60,
     "metadata": {},
     "output_type": "execute_result"
    }
   ],
   "source": [
    "# pivot table for education\n",
    "data.pivot_table(index=['education'], values='debt')"
   ]
  },
  {
   "cell_type": "code",
   "execution_count": 61,
   "metadata": {
    "scrolled": true
   },
   "outputs": [
    {
     "data": {
      "text/html": [
       "<div>\n",
       "<style scoped>\n",
       "    .dataframe tbody tr th:only-of-type {\n",
       "        vertical-align: middle;\n",
       "    }\n",
       "\n",
       "    .dataframe tbody tr th {\n",
       "        vertical-align: top;\n",
       "    }\n",
       "\n",
       "    .dataframe thead th {\n",
       "        text-align: right;\n",
       "    }\n",
       "</style>\n",
       "<table border=\"1\" class=\"dataframe\">\n",
       "  <thead>\n",
       "    <tr style=\"text-align: right;\">\n",
       "      <th></th>\n",
       "      <th>education_id</th>\n",
       "      <th>debt</th>\n",
       "    </tr>\n",
       "  </thead>\n",
       "  <tbody>\n",
       "    <tr>\n",
       "      <th>education_id</th>\n",
       "      <td>1.000</td>\n",
       "      <td>0.057</td>\n",
       "    </tr>\n",
       "    <tr>\n",
       "      <th>debt</th>\n",
       "      <td>0.057</td>\n",
       "      <td>1.000</td>\n",
       "    </tr>\n",
       "  </tbody>\n",
       "</table>\n",
       "</div>"
      ],
      "text/plain": [
       "              education_id  debt\n",
       "education_id         1.000 0.057\n",
       "debt                 0.057 1.000"
      ]
     },
     "execution_count": 61,
     "metadata": {},
     "output_type": "execute_result"
    }
   ],
   "source": [
    "# using Spearman correlation\n",
    "data[['education_id', 'debt']].corr(method='spearman')"
   ]
  },
  {
   "cell_type": "markdown",
   "metadata": {},
   "source": [
    "### Counclusion\n",
    "\n",
    "There is a weak correlation between education and a debt risk. According to the pivot table there is 0% risk of the debt between clients with a graduate degree. The highest risk have clients with primary education (11%). Generally debt risk moves in relation to the borrower's education. "
   ]
  },
  {
   "cell_type": "markdown",
   "metadata": {},
   "source": [
    "### Is there a connection between income type and repaying a loan on time? <a id='id36'></a>"
   ]
  },
  {
   "cell_type": "code",
   "execution_count": 62,
   "metadata": {},
   "outputs": [
    {
     "data": {
      "text/html": [
       "<div>\n",
       "<style scoped>\n",
       "    .dataframe tbody tr th:only-of-type {\n",
       "        vertical-align: middle;\n",
       "    }\n",
       "\n",
       "    .dataframe tbody tr th {\n",
       "        vertical-align: top;\n",
       "    }\n",
       "\n",
       "    .dataframe thead th {\n",
       "        text-align: right;\n",
       "    }\n",
       "</style>\n",
       "<table border=\"1\" class=\"dataframe\">\n",
       "  <thead>\n",
       "    <tr style=\"text-align: right;\">\n",
       "      <th></th>\n",
       "      <th>debt</th>\n",
       "    </tr>\n",
       "    <tr>\n",
       "      <th>income_type</th>\n",
       "      <th></th>\n",
       "    </tr>\n",
       "  </thead>\n",
       "  <tbody>\n",
       "    <tr>\n",
       "      <th>business</th>\n",
       "      <td>0.074</td>\n",
       "    </tr>\n",
       "    <tr>\n",
       "      <th>civil servant</th>\n",
       "      <td>0.059</td>\n",
       "    </tr>\n",
       "    <tr>\n",
       "      <th>employee</th>\n",
       "      <td>0.096</td>\n",
       "    </tr>\n",
       "    <tr>\n",
       "      <th>entrepreneur</th>\n",
       "      <td>0.000</td>\n",
       "    </tr>\n",
       "    <tr>\n",
       "      <th>paternity / maternity leave</th>\n",
       "      <td>1.000</td>\n",
       "    </tr>\n",
       "    <tr>\n",
       "      <th>retiree</th>\n",
       "      <td>0.056</td>\n",
       "    </tr>\n",
       "    <tr>\n",
       "      <th>student</th>\n",
       "      <td>0.000</td>\n",
       "    </tr>\n",
       "    <tr>\n",
       "      <th>unemployed</th>\n",
       "      <td>0.500</td>\n",
       "    </tr>\n",
       "  </tbody>\n",
       "</table>\n",
       "</div>"
      ],
      "text/plain": [
       "                             debt\n",
       "income_type                      \n",
       "business                    0.074\n",
       "civil servant               0.059\n",
       "employee                    0.096\n",
       "entrepreneur                0.000\n",
       "paternity / maternity leave 1.000\n",
       "retiree                     0.056\n",
       "student                     0.000\n",
       "unemployed                  0.500"
      ]
     },
     "execution_count": 62,
     "metadata": {},
     "output_type": "execute_result"
    }
   ],
   "source": [
    "# pivot table for income_type\n",
    "data.pivot_table(index=['income_type'], values='debt')"
   ]
  },
  {
   "cell_type": "code",
   "execution_count": 63,
   "metadata": {
    "scrolled": true
   },
   "outputs": [
    {
     "data": {
      "text/html": [
       "<div>\n",
       "<style scoped>\n",
       "    .dataframe tbody tr th:only-of-type {\n",
       "        vertical-align: middle;\n",
       "    }\n",
       "\n",
       "    .dataframe tbody tr th {\n",
       "        vertical-align: top;\n",
       "    }\n",
       "\n",
       "    .dataframe thead th {\n",
       "        text-align: right;\n",
       "    }\n",
       "</style>\n",
       "<table border=\"1\" class=\"dataframe\">\n",
       "  <thead>\n",
       "    <tr style=\"text-align: right;\">\n",
       "      <th></th>\n",
       "      <th>income_type_id</th>\n",
       "      <th>debt</th>\n",
       "    </tr>\n",
       "  </thead>\n",
       "  <tbody>\n",
       "    <tr>\n",
       "      <th>income_type_id</th>\n",
       "      <td>1.000</td>\n",
       "      <td>-0.004</td>\n",
       "    </tr>\n",
       "    <tr>\n",
       "      <th>debt</th>\n",
       "      <td>-0.004</td>\n",
       "      <td>1.000</td>\n",
       "    </tr>\n",
       "  </tbody>\n",
       "</table>\n",
       "</div>"
      ],
      "text/plain": [
       "                income_type_id   debt\n",
       "income_type_id           1.000 -0.004\n",
       "debt                    -0.004  1.000"
      ]
     },
     "execution_count": 63,
     "metadata": {},
     "output_type": "execute_result"
    }
   ],
   "source": [
    "# using Spearman correlation\n",
    "data[['income_type_id', 'debt']].corr(method='spearman')"
   ]
  },
  {
   "cell_type": "markdown",
   "metadata": {},
   "source": [
    "### Conclusion\n",
    "\n",
    "There is a sertain relationship between borrower's income type and a debt risk. The highest risk expectedly have clients in paternity\\maternity leave (100%) and unemployed (50%). It's curious to note that risk for students category is 0%. "
   ]
  },
  {
   "cell_type": "markdown",
   "metadata": {},
   "source": [
    "### How do different loan purposes affect on-time loan repayment? <a id='id34'></a>"
   ]
  },
  {
   "cell_type": "code",
   "execution_count": 64,
   "metadata": {
    "scrolled": false
   },
   "outputs": [
    {
     "data": {
      "text/html": [
       "<div>\n",
       "<style scoped>\n",
       "    .dataframe tbody tr th:only-of-type {\n",
       "        vertical-align: middle;\n",
       "    }\n",
       "\n",
       "    .dataframe tbody tr th {\n",
       "        vertical-align: top;\n",
       "    }\n",
       "\n",
       "    .dataframe thead th {\n",
       "        text-align: right;\n",
       "    }\n",
       "</style>\n",
       "<table border=\"1\" class=\"dataframe\">\n",
       "  <thead>\n",
       "    <tr style=\"text-align: right;\">\n",
       "      <th></th>\n",
       "      <th>debt</th>\n",
       "    </tr>\n",
       "    <tr>\n",
       "      <th>purpose</th>\n",
       "      <th></th>\n",
       "    </tr>\n",
       "  </thead>\n",
       "  <tbody>\n",
       "    <tr>\n",
       "      <th>education</th>\n",
       "      <td>0.092</td>\n",
       "    </tr>\n",
       "    <tr>\n",
       "      <th>real_estate</th>\n",
       "      <td>0.072</td>\n",
       "    </tr>\n",
       "    <tr>\n",
       "      <th>vehicle</th>\n",
       "      <td>0.094</td>\n",
       "    </tr>\n",
       "    <tr>\n",
       "      <th>wedding</th>\n",
       "      <td>0.080</td>\n",
       "    </tr>\n",
       "  </tbody>\n",
       "</table>\n",
       "</div>"
      ],
      "text/plain": [
       "             debt\n",
       "purpose          \n",
       "education   0.092\n",
       "real_estate 0.072\n",
       "vehicle     0.094\n",
       "wedding     0.080"
      ]
     },
     "execution_count": 64,
     "metadata": {},
     "output_type": "execute_result"
    }
   ],
   "source": [
    "# pivot table for purpose\n",
    "data_pivot_purpose = data.pivot_table(index=['purpose'], values='debt').round(3)\n",
    "data_pivot_purpose"
   ]
  },
  {
   "cell_type": "code",
   "execution_count": 65,
   "metadata": {
    "scrolled": true
   },
   "outputs": [
    {
     "data": {
      "text/html": [
       "<div>\n",
       "<style scoped>\n",
       "    .dataframe tbody tr th:only-of-type {\n",
       "        vertical-align: middle;\n",
       "    }\n",
       "\n",
       "    .dataframe tbody tr th {\n",
       "        vertical-align: top;\n",
       "    }\n",
       "\n",
       "    .dataframe thead th {\n",
       "        text-align: right;\n",
       "    }\n",
       "</style>\n",
       "<table border=\"1\" class=\"dataframe\">\n",
       "  <thead>\n",
       "    <tr style=\"text-align: right;\">\n",
       "      <th></th>\n",
       "      <th>purpose_id</th>\n",
       "      <th>debt</th>\n",
       "    </tr>\n",
       "  </thead>\n",
       "  <tbody>\n",
       "    <tr>\n",
       "      <th>purpose_id</th>\n",
       "      <td>1.000</td>\n",
       "      <td>0.001</td>\n",
       "    </tr>\n",
       "    <tr>\n",
       "      <th>debt</th>\n",
       "      <td>0.001</td>\n",
       "      <td>1.000</td>\n",
       "    </tr>\n",
       "  </tbody>\n",
       "</table>\n",
       "</div>"
      ],
      "text/plain": [
       "            purpose_id  debt\n",
       "purpose_id       1.000 0.001\n",
       "debt             0.001 1.000"
      ]
     },
     "execution_count": 65,
     "metadata": {},
     "output_type": "execute_result"
    }
   ],
   "source": [
    "# using Spearman correlation\n",
    "data[['purpose_id', 'debt']].corr(method='spearman')"
   ]
  },
  {
   "cell_type": "markdown",
   "metadata": {},
   "source": [
    "### Conclusion\n",
    "\n",
    "According to the pivot table debt risk is higher for 'vehicle' and 'education' purposes(9,4% and 9,2%) and lower for 'wedding' category (8,0%). The lowest risk has 'real_estate' category (7,2%). Probably real estate transactions cost much more than wedding or education therefore clients plan their budget more carefully. \n",
    "According to the Spearman coefficient there is weak relation between purpose of loan and debt."
   ]
  },
  {
   "cell_type": "markdown",
   "metadata": {},
   "source": [
    "# General conclusion <a id='id7'></a> "
   ]
  },
  {
   "cell_type": "markdown",
   "metadata": {},
   "source": [
    "<div style=\"border:solid green 2px; padding: 20px\">\n",
    "\n",
    "In this project we've figured out whether specified client features affect the loan on time repayment. The data we've worked with was clients solvency statistics from the bank. The result of the research will be taken in the credit scoring model - a special system that evaluates the ability of a potential borrower to repay the loan.     \n",
    "        \n",
    "**The main points in data preprocessing:**\n",
    "\n",
    "* data artifacts processing;\n",
    "* transformation negative values to positive in `days_employed` column;\n",
    "* changing the data type to integer in `days_employed` column;\n",
    "* duplicates and missing values processing;\n",
    "* data categorization (borrower's age, gender, children, income, loan purpose);\n",
    "* loan purposes lemmatization;\n",
    "    \n",
    "Missing values in the `days_employed` column make up 10% of total records and have a strong relation with the missing values in `total_income` column. We consider this NaN values as MCAR and fill them with the group medians we've calculated. The gorups were created based on the `dob_years` column (borrower's age). We assume that there are some technical issues in the data collection.     \n",
    "Negative and in the same time positive values in the `days_employed` column may be caused by the data collection from several data sources. That should be fixed. \n",
    "\n",
    "**The main points in the EDA:**\n",
    "\n",
    "According to the Spearman coefficients and pivot tables there is a weak correlation between specified borrower's features and a debt risk. Probably there is a correlation in case of multiple features at the same time.      \n",
    "Generally a higher debt risk have clients with children, 'civil partnership' or 'unmarried' as a marital status and 'vehicle' or 'education' as a loan purpose. Unmarried and widow\\widower clients and clients with high income pay their loan most commonly on time.      \n",
    "The highest correlation was identified betweeen a debt and an education (borrowers with basic education have the highest debt risk - 11%) and also between a debt and a income type (maternity leave - 100% risk, unemployed - 50%). It is curious to note that clients with a basic education logically may have 'education' as a loan purpose that increases their 'in debt' probability even more. Therefore it's colud be difficult for them to get a loan approval from a bank.     \n",
    "    \n",
    "**Recomendations:**\n",
    "    \n",
    "- fix technical issues during the data collection;\n",
    "- investigate the reasons of the incomplete income and days employed records;\n",
    "- specify loan purposes more strictly;\n",
    "- encode clients total income, income type, gender, children and purpose information; "
   ]
  },
  {
   "cell_type": "code",
   "execution_count": null,
   "metadata": {},
   "outputs": [],
   "source": []
  }
 ],
 "metadata": {
  "ExecuteTimeLog": [
   {
    "duration": 816,
    "start_time": "2021-12-14T06:13:51.365Z"
   },
   {
    "duration": 121,
    "start_time": "2021-12-14T06:13:52.184Z"
   },
   {
    "duration": 2897,
    "start_time": "2021-12-14T06:13:52.309Z"
   },
   {
    "duration": -1106,
    "start_time": "2021-12-14T06:13:56.317Z"
   },
   {
    "duration": -1111,
    "start_time": "2021-12-14T06:13:56.324Z"
   },
   {
    "duration": -1115,
    "start_time": "2021-12-14T06:13:56.329Z"
   },
   {
    "duration": -1120,
    "start_time": "2021-12-14T06:13:56.335Z"
   },
   {
    "duration": -1151,
    "start_time": "2021-12-14T06:13:56.367Z"
   },
   {
    "duration": -1157,
    "start_time": "2021-12-14T06:13:56.375Z"
   },
   {
    "duration": -1162,
    "start_time": "2021-12-14T06:13:56.381Z"
   },
   {
    "duration": -1166,
    "start_time": "2021-12-14T06:13:56.386Z"
   },
   {
    "duration": -1171,
    "start_time": "2021-12-14T06:13:56.393Z"
   },
   {
    "duration": -1175,
    "start_time": "2021-12-14T06:13:56.398Z"
   },
   {
    "duration": -1180,
    "start_time": "2021-12-14T06:13:56.404Z"
   },
   {
    "duration": -1185,
    "start_time": "2021-12-14T06:13:56.411Z"
   },
   {
    "duration": -1187,
    "start_time": "2021-12-14T06:13:56.414Z"
   },
   {
    "duration": -1189,
    "start_time": "2021-12-14T06:13:56.417Z"
   },
   {
    "duration": -1190,
    "start_time": "2021-12-14T06:13:56.420Z"
   },
   {
    "duration": -1200,
    "start_time": "2021-12-14T06:13:56.431Z"
   },
   {
    "duration": -1203,
    "start_time": "2021-12-14T06:13:56.436Z"
   },
   {
    "duration": -1207,
    "start_time": "2021-12-14T06:13:56.441Z"
   },
   {
    "duration": -1209,
    "start_time": "2021-12-14T06:13:56.445Z"
   },
   {
    "duration": -1212,
    "start_time": "2021-12-14T06:13:56.450Z"
   },
   {
    "duration": -1214,
    "start_time": "2021-12-14T06:13:56.453Z"
   },
   {
    "duration": -1218,
    "start_time": "2021-12-14T06:13:56.458Z"
   },
   {
    "duration": -1220,
    "start_time": "2021-12-14T06:13:56.462Z"
   },
   {
    "duration": -1222,
    "start_time": "2021-12-14T06:13:56.465Z"
   },
   {
    "duration": -1224,
    "start_time": "2021-12-14T06:13:56.469Z"
   },
   {
    "duration": -1227,
    "start_time": "2021-12-14T06:13:56.473Z"
   },
   {
    "duration": -1231,
    "start_time": "2021-12-14T06:13:56.499Z"
   },
   {
    "duration": -1234,
    "start_time": "2021-12-14T06:13:56.504Z"
   },
   {
    "duration": -1237,
    "start_time": "2021-12-14T06:13:56.509Z"
   },
   {
    "duration": -1240,
    "start_time": "2021-12-14T06:13:56.513Z"
   },
   {
    "duration": -1243,
    "start_time": "2021-12-14T06:13:56.518Z"
   },
   {
    "duration": -1247,
    "start_time": "2021-12-14T06:13:56.523Z"
   },
   {
    "duration": -1249,
    "start_time": "2021-12-14T06:13:56.527Z"
   },
   {
    "duration": -1251,
    "start_time": "2021-12-14T06:13:56.530Z"
   },
   {
    "duration": -1253,
    "start_time": "2021-12-14T06:13:56.533Z"
   },
   {
    "duration": -1254,
    "start_time": "2021-12-14T06:13:56.536Z"
   },
   {
    "duration": -1256,
    "start_time": "2021-12-14T06:13:56.539Z"
   },
   {
    "duration": -1258,
    "start_time": "2021-12-14T06:13:56.542Z"
   },
   {
    "duration": -1258,
    "start_time": "2021-12-14T06:13:56.544Z"
   },
   {
    "duration": -1275,
    "start_time": "2021-12-14T06:13:56.562Z"
   },
   {
    "duration": -1277,
    "start_time": "2021-12-14T06:13:56.565Z"
   },
   {
    "duration": -1278,
    "start_time": "2021-12-14T06:13:56.568Z"
   },
   {
    "duration": -1280,
    "start_time": "2021-12-14T06:13:56.571Z"
   },
   {
    "duration": -1282,
    "start_time": "2021-12-14T06:13:56.574Z"
   },
   {
    "duration": -1282,
    "start_time": "2021-12-14T06:13:56.576Z"
   },
   {
    "duration": -1284,
    "start_time": "2021-12-14T06:13:56.579Z"
   },
   {
    "duration": -1285,
    "start_time": "2021-12-14T06:13:56.581Z"
   },
   {
    "duration": -1287,
    "start_time": "2021-12-14T06:13:56.585Z"
   },
   {
    "duration": -1289,
    "start_time": "2021-12-14T06:13:56.588Z"
   },
   {
    "duration": -1290,
    "start_time": "2021-12-14T06:13:56.590Z"
   },
   {
    "duration": -1291,
    "start_time": "2021-12-14T06:13:56.592Z"
   },
   {
    "duration": -1330,
    "start_time": "2021-12-14T06:13:56.633Z"
   },
   {
    "duration": -1334,
    "start_time": "2021-12-14T06:13:56.638Z"
   },
   {
    "duration": -1339,
    "start_time": "2021-12-14T06:13:56.644Z"
   },
   {
    "duration": -1282,
    "start_time": "2021-12-14T06:13:56.648Z"
   },
   {
    "duration": -1285,
    "start_time": "2021-12-14T06:13:56.653Z"
   },
   {
    "duration": -1287,
    "start_time": "2021-12-14T06:13:56.656Z"
   },
   {
    "duration": -1289,
    "start_time": "2021-12-14T06:13:56.660Z"
   },
   {
    "duration": 348,
    "start_time": "2021-12-14T08:44:21.176Z"
   },
   {
    "duration": 1148,
    "start_time": "2021-12-14T08:44:24.379Z"
   },
   {
    "duration": 27,
    "start_time": "2021-12-14T08:44:25.531Z"
   },
   {
    "duration": 71,
    "start_time": "2021-12-14T08:44:30.699Z"
   },
   {
    "duration": 777,
    "start_time": "2021-12-14T08:44:46.946Z"
   },
   {
    "duration": 27,
    "start_time": "2021-12-14T08:44:47.727Z"
   },
   {
    "duration": 47,
    "start_time": "2021-12-14T08:44:47.757Z"
   },
   {
    "duration": 30,
    "start_time": "2021-12-14T08:44:47.807Z"
   },
   {
    "duration": 16,
    "start_time": "2021-12-14T08:44:47.840Z"
   },
   {
    "duration": 112,
    "start_time": "2021-12-14T08:44:47.858Z"
   },
   {
    "duration": 336,
    "start_time": "2021-12-14T08:44:47.972Z"
   },
   {
    "duration": 19,
    "start_time": "2021-12-14T08:44:48.311Z"
   },
   {
    "duration": 234,
    "start_time": "2021-12-14T08:44:48.333Z"
   },
   {
    "duration": 245,
    "start_time": "2021-12-14T08:44:48.570Z"
   },
   {
    "duration": 10,
    "start_time": "2021-12-14T08:44:48.822Z"
   },
   {
    "duration": 411,
    "start_time": "2021-12-14T08:44:48.835Z"
   },
   {
    "duration": 9,
    "start_time": "2021-12-14T08:44:49.249Z"
   },
   {
    "duration": 13,
    "start_time": "2021-12-14T08:44:49.261Z"
   },
   {
    "duration": 9,
    "start_time": "2021-12-14T08:44:49.277Z"
   },
   {
    "duration": 37,
    "start_time": "2021-12-14T08:44:49.289Z"
   },
   {
    "duration": 31,
    "start_time": "2021-12-14T08:44:49.328Z"
   },
   {
    "duration": 502,
    "start_time": "2021-12-14T08:44:49.362Z"
   },
   {
    "duration": 5,
    "start_time": "2021-12-14T08:44:49.867Z"
   },
   {
    "duration": 35,
    "start_time": "2021-12-14T08:44:49.875Z"
   },
   {
    "duration": 610,
    "start_time": "2021-12-14T08:44:49.913Z"
   },
   {
    "duration": 34,
    "start_time": "2021-12-14T08:44:50.526Z"
   },
   {
    "duration": 12,
    "start_time": "2021-12-14T08:44:50.567Z"
   },
   {
    "duration": 61,
    "start_time": "2021-12-14T08:44:50.582Z"
   },
   {
    "duration": 14,
    "start_time": "2021-12-14T08:44:50.646Z"
   },
   {
    "duration": 85,
    "start_time": "2021-12-14T08:44:50.663Z"
   },
   {
    "duration": 20,
    "start_time": "2021-12-14T08:44:50.751Z"
   },
   {
    "duration": 10,
    "start_time": "2021-12-14T08:44:50.774Z"
   },
   {
    "duration": 18,
    "start_time": "2021-12-14T08:44:50.787Z"
   },
   {
    "duration": 32,
    "start_time": "2021-12-14T08:44:50.827Z"
   },
   {
    "duration": 28,
    "start_time": "2021-12-14T08:44:50.862Z"
   },
   {
    "duration": 73,
    "start_time": "2021-12-14T08:44:50.892Z"
   },
   {
    "duration": 6,
    "start_time": "2021-12-14T08:44:50.969Z"
   },
   {
    "duration": 16,
    "start_time": "2021-12-14T08:44:50.978Z"
   },
   {
    "duration": 48,
    "start_time": "2021-12-14T08:44:50.997Z"
   },
   {
    "duration": 6,
    "start_time": "2021-12-14T08:44:51.047Z"
   },
   {
    "duration": 14,
    "start_time": "2021-12-14T08:44:51.055Z"
   },
   {
    "duration": 7,
    "start_time": "2021-12-14T08:44:51.071Z"
   },
   {
    "duration": 50,
    "start_time": "2021-12-14T08:44:51.081Z"
   },
   {
    "duration": 28,
    "start_time": "2021-12-14T08:44:51.134Z"
   },
   {
    "duration": 16,
    "start_time": "2021-12-14T08:44:51.164Z"
   },
   {
    "duration": 67,
    "start_time": "2021-12-14T08:44:51.183Z"
   },
   {
    "duration": 7,
    "start_time": "2021-12-14T08:44:51.253Z"
   },
   {
    "duration": 928,
    "start_time": "2021-12-14T08:44:51.263Z"
   },
   {
    "duration": 7,
    "start_time": "2021-12-14T08:44:52.194Z"
   },
   {
    "duration": 21,
    "start_time": "2021-12-14T08:44:52.204Z"
   },
   {
    "duration": 20,
    "start_time": "2021-12-14T08:44:52.229Z"
   },
   {
    "duration": 4651,
    "start_time": "2021-12-14T08:44:52.252Z"
   },
   {
    "duration": 4429,
    "start_time": "2021-12-14T08:44:56.905Z"
   },
   {
    "duration": 22,
    "start_time": "2021-12-14T08:45:01.337Z"
   },
   {
    "duration": 12,
    "start_time": "2021-12-14T08:45:01.362Z"
   },
   {
    "duration": 49,
    "start_time": "2021-12-14T08:45:01.376Z"
   },
   {
    "duration": 39,
    "start_time": "2021-12-14T08:45:01.428Z"
   },
   {
    "duration": 28,
    "start_time": "2021-12-14T08:45:01.470Z"
   },
   {
    "duration": 11,
    "start_time": "2021-12-14T08:45:01.501Z"
   },
   {
    "duration": 35,
    "start_time": "2021-12-14T08:45:01.514Z"
   },
   {
    "duration": 24,
    "start_time": "2021-12-14T08:45:01.551Z"
   },
   {
    "duration": 47,
    "start_time": "2021-12-14T08:45:01.577Z"
   },
   {
    "duration": 32,
    "start_time": "2021-12-14T08:45:01.627Z"
   },
   {
    "duration": 29,
    "start_time": "2021-12-14T08:45:01.661Z"
   },
   {
    "duration": 57,
    "start_time": "2021-12-14T08:45:01.693Z"
   },
   {
    "duration": 1114,
    "start_time": "2021-12-14T08:47:49.552Z"
   },
   {
    "duration": 528,
    "start_time": "2021-12-14T08:47:59.187Z"
   },
   {
    "duration": 23,
    "start_time": "2021-12-14T08:48:25.429Z"
   },
   {
    "duration": 31,
    "start_time": "2021-12-14T08:48:33.524Z"
   },
   {
    "duration": 308,
    "start_time": "2021-12-14T08:50:16.018Z"
   },
   {
    "duration": 124,
    "start_time": "2021-12-14T08:51:06.299Z"
   },
   {
    "duration": 119,
    "start_time": "2021-12-14T08:51:36.676Z"
   },
   {
    "duration": 111,
    "start_time": "2021-12-14T08:52:14.099Z"
   },
   {
    "duration": 118,
    "start_time": "2021-12-14T08:52:16.279Z"
   },
   {
    "duration": 113,
    "start_time": "2021-12-14T08:52:51.704Z"
   },
   {
    "duration": 189,
    "start_time": "2021-12-14T08:52:53.896Z"
   },
   {
    "duration": 114,
    "start_time": "2021-12-14T08:53:24.474Z"
   },
   {
    "duration": 20,
    "start_time": "2021-12-14T08:55:10.294Z"
   },
   {
    "duration": 980,
    "start_time": "2021-12-14T08:55:18.937Z"
   },
   {
    "duration": 26,
    "start_time": "2021-12-14T08:55:19.920Z"
   },
   {
    "duration": 57,
    "start_time": "2021-12-14T08:55:19.950Z"
   },
   {
    "duration": 34,
    "start_time": "2021-12-14T08:55:20.010Z"
   },
   {
    "duration": 25,
    "start_time": "2021-12-14T08:55:20.047Z"
   },
   {
    "duration": 128,
    "start_time": "2021-12-14T08:55:20.075Z"
   },
   {
    "duration": 318,
    "start_time": "2021-12-14T08:55:20.205Z"
   },
   {
    "duration": 15,
    "start_time": "2021-12-14T08:55:20.527Z"
   },
   {
    "duration": 245,
    "start_time": "2021-12-14T08:55:20.547Z"
   },
   {
    "duration": 259,
    "start_time": "2021-12-14T08:55:20.796Z"
   },
   {
    "duration": 9,
    "start_time": "2021-12-14T08:55:21.058Z"
   },
   {
    "duration": 286,
    "start_time": "2021-12-14T08:55:21.070Z"
   },
   {
    "duration": 6,
    "start_time": "2021-12-14T08:55:21.358Z"
   },
   {
    "duration": 17,
    "start_time": "2021-12-14T08:55:21.367Z"
   },
   {
    "duration": 18,
    "start_time": "2021-12-14T08:55:21.387Z"
   },
   {
    "duration": 30,
    "start_time": "2021-12-14T08:55:21.408Z"
   },
   {
    "duration": 21,
    "start_time": "2021-12-14T08:55:21.440Z"
   },
   {
    "duration": 327,
    "start_time": "2021-12-14T08:55:21.464Z"
   },
   {
    "duration": 4,
    "start_time": "2021-12-14T08:55:21.794Z"
   },
   {
    "duration": 47,
    "start_time": "2021-12-14T08:55:21.800Z"
   },
   {
    "duration": 569,
    "start_time": "2021-12-14T08:55:21.850Z"
   },
   {
    "duration": 30,
    "start_time": "2021-12-14T08:55:22.424Z"
   },
   {
    "duration": 13,
    "start_time": "2021-12-14T08:55:22.457Z"
   },
   {
    "duration": 60,
    "start_time": "2021-12-14T08:55:22.473Z"
   },
   {
    "duration": 7,
    "start_time": "2021-12-14T08:55:22.536Z"
   },
   {
    "duration": 81,
    "start_time": "2021-12-14T08:55:22.545Z"
   },
   {
    "duration": 19,
    "start_time": "2021-12-14T08:55:22.634Z"
   },
   {
    "duration": 21,
    "start_time": "2021-12-14T08:55:22.656Z"
   },
   {
    "duration": 18,
    "start_time": "2021-12-14T08:55:22.679Z"
   },
   {
    "duration": 33,
    "start_time": "2021-12-14T08:55:22.699Z"
   },
   {
    "duration": 24,
    "start_time": "2021-12-14T08:55:22.736Z"
   },
   {
    "duration": 70,
    "start_time": "2021-12-14T08:55:22.762Z"
   },
   {
    "duration": 6,
    "start_time": "2021-12-14T08:55:22.835Z"
   },
   {
    "duration": 11,
    "start_time": "2021-12-14T08:55:22.843Z"
   },
   {
    "duration": 33,
    "start_time": "2021-12-14T08:55:22.856Z"
   },
   {
    "duration": 7,
    "start_time": "2021-12-14T08:55:22.891Z"
   },
   {
    "duration": 10,
    "start_time": "2021-12-14T08:55:22.924Z"
   },
   {
    "duration": 24,
    "start_time": "2021-12-14T08:55:22.937Z"
   },
   {
    "duration": 22,
    "start_time": "2021-12-14T08:55:22.964Z"
   },
   {
    "duration": 16,
    "start_time": "2021-12-14T08:55:22.988Z"
   },
   {
    "duration": 19,
    "start_time": "2021-12-14T08:55:23.006Z"
   },
   {
    "duration": 50,
    "start_time": "2021-12-14T08:55:23.028Z"
   },
   {
    "duration": 8,
    "start_time": "2021-12-14T08:55:23.080Z"
   },
   {
    "duration": 937,
    "start_time": "2021-12-14T08:55:23.090Z"
   },
   {
    "duration": 11,
    "start_time": "2021-12-14T08:55:24.031Z"
   },
   {
    "duration": 6,
    "start_time": "2021-12-14T08:55:24.044Z"
   },
   {
    "duration": 9,
    "start_time": "2021-12-14T08:55:24.052Z"
   },
   {
    "duration": 3991,
    "start_time": "2021-12-14T08:55:24.063Z"
   },
   {
    "duration": 4115,
    "start_time": "2021-12-14T08:55:28.057Z"
   },
   {
    "duration": 21,
    "start_time": "2021-12-14T08:55:32.174Z"
   },
   {
    "duration": 28,
    "start_time": "2021-12-14T08:55:32.197Z"
   },
   {
    "duration": 28,
    "start_time": "2021-12-14T08:55:32.227Z"
   },
   {
    "duration": 22,
    "start_time": "2021-12-14T08:55:32.258Z"
   },
   {
    "duration": 4,
    "start_time": "2021-12-14T08:55:32.283Z"
   },
   {
    "duration": 21,
    "start_time": "2021-12-14T08:55:32.289Z"
   },
   {
    "duration": 56,
    "start_time": "2021-12-14T08:55:32.324Z"
   },
   {
    "duration": 33,
    "start_time": "2021-12-14T08:55:32.382Z"
   },
   {
    "duration": 48,
    "start_time": "2021-12-14T08:55:32.417Z"
   },
   {
    "duration": 23,
    "start_time": "2021-12-14T08:55:32.468Z"
   },
   {
    "duration": 20,
    "start_time": "2021-12-14T08:55:32.493Z"
   },
   {
    "duration": 34,
    "start_time": "2021-12-14T08:55:32.515Z"
   },
   {
    "duration": 828,
    "start_time": "2021-12-14T08:56:30.491Z"
   },
   {
    "duration": 23,
    "start_time": "2021-12-14T08:56:31.324Z"
   },
   {
    "duration": 75,
    "start_time": "2021-12-14T08:56:31.350Z"
   },
   {
    "duration": 27,
    "start_time": "2021-12-14T08:56:31.430Z"
   },
   {
    "duration": 23,
    "start_time": "2021-12-14T08:56:31.460Z"
   },
   {
    "duration": 113,
    "start_time": "2021-12-14T08:56:31.486Z"
   },
   {
    "duration": 376,
    "start_time": "2021-12-14T08:56:31.603Z"
   },
   {
    "duration": 13,
    "start_time": "2021-12-14T08:56:31.985Z"
   },
   {
    "duration": 259,
    "start_time": "2021-12-14T08:56:32.001Z"
   },
   {
    "duration": 259,
    "start_time": "2021-12-14T08:56:32.264Z"
   },
   {
    "duration": 11,
    "start_time": "2021-12-14T08:56:32.526Z"
   },
   {
    "duration": 280,
    "start_time": "2021-12-14T08:56:32.540Z"
   },
   {
    "duration": 10,
    "start_time": "2021-12-14T08:56:32.824Z"
   },
   {
    "duration": 16,
    "start_time": "2021-12-14T08:56:32.836Z"
   },
   {
    "duration": 10,
    "start_time": "2021-12-14T08:56:32.854Z"
   },
   {
    "duration": 4,
    "start_time": "2021-12-14T08:56:32.866Z"
   },
   {
    "duration": 12,
    "start_time": "2021-12-14T08:56:32.873Z"
   },
   {
    "duration": 346,
    "start_time": "2021-12-14T08:56:32.925Z"
   },
   {
    "duration": 6,
    "start_time": "2021-12-14T08:56:33.274Z"
   },
   {
    "duration": 14,
    "start_time": "2021-12-14T08:56:33.283Z"
   },
   {
    "duration": 682,
    "start_time": "2021-12-14T08:56:33.300Z"
   },
   {
    "duration": 48,
    "start_time": "2021-12-14T08:56:33.985Z"
   },
   {
    "duration": 13,
    "start_time": "2021-12-14T08:56:34.041Z"
   },
   {
    "duration": 23,
    "start_time": "2021-12-14T08:56:34.057Z"
   },
   {
    "duration": 11,
    "start_time": "2021-12-14T08:56:34.083Z"
   },
   {
    "duration": 97,
    "start_time": "2021-12-14T08:56:34.096Z"
   },
   {
    "duration": 36,
    "start_time": "2021-12-14T08:56:34.195Z"
   },
   {
    "duration": 6,
    "start_time": "2021-12-14T08:56:34.234Z"
   },
   {
    "duration": 9,
    "start_time": "2021-12-14T08:56:34.242Z"
   },
   {
    "duration": 17,
    "start_time": "2021-12-14T08:56:34.253Z"
   },
   {
    "duration": 57,
    "start_time": "2021-12-14T08:56:34.272Z"
   },
   {
    "duration": 55,
    "start_time": "2021-12-14T08:56:34.333Z"
   },
   {
    "duration": 4,
    "start_time": "2021-12-14T08:56:34.391Z"
   },
   {
    "duration": 6,
    "start_time": "2021-12-14T08:56:34.423Z"
   },
   {
    "duration": 35,
    "start_time": "2021-12-14T08:56:34.431Z"
   },
   {
    "duration": 6,
    "start_time": "2021-12-14T08:56:34.469Z"
   },
   {
    "duration": 7,
    "start_time": "2021-12-14T08:56:34.477Z"
   },
   {
    "duration": 40,
    "start_time": "2021-12-14T08:56:34.486Z"
   },
   {
    "duration": 10,
    "start_time": "2021-12-14T08:56:34.530Z"
   },
   {
    "duration": 16,
    "start_time": "2021-12-14T08:56:34.542Z"
   },
   {
    "duration": 13,
    "start_time": "2021-12-14T08:56:34.560Z"
   },
   {
    "duration": 78,
    "start_time": "2021-12-14T08:56:34.575Z"
   },
   {
    "duration": 7,
    "start_time": "2021-12-14T08:56:34.655Z"
   },
   {
    "duration": 937,
    "start_time": "2021-12-14T08:56:34.665Z"
   },
   {
    "duration": 7,
    "start_time": "2021-12-14T08:56:35.605Z"
   },
   {
    "duration": 11,
    "start_time": "2021-12-14T08:56:35.615Z"
   },
   {
    "duration": 9,
    "start_time": "2021-12-14T08:56:35.628Z"
   },
   {
    "duration": 4073,
    "start_time": "2021-12-14T08:56:35.639Z"
   },
   {
    "duration": 3992,
    "start_time": "2021-12-14T08:56:39.715Z"
   },
   {
    "duration": 40,
    "start_time": "2021-12-14T08:56:43.710Z"
   },
   {
    "duration": 13,
    "start_time": "2021-12-14T08:56:43.753Z"
   },
   {
    "duration": 22,
    "start_time": "2021-12-14T08:56:43.769Z"
   },
   {
    "duration": 24,
    "start_time": "2021-12-14T08:56:43.825Z"
   },
   {
    "duration": 4,
    "start_time": "2021-12-14T08:56:43.852Z"
   },
   {
    "duration": 10,
    "start_time": "2021-12-14T08:56:43.859Z"
   },
   {
    "duration": 53,
    "start_time": "2021-12-14T08:56:43.872Z"
   },
   {
    "duration": 24,
    "start_time": "2021-12-14T08:56:43.929Z"
   },
   {
    "duration": 24,
    "start_time": "2021-12-14T08:56:43.956Z"
   },
   {
    "duration": 48,
    "start_time": "2021-12-14T08:56:43.982Z"
   },
   {
    "duration": 22,
    "start_time": "2021-12-14T08:56:44.033Z"
   },
   {
    "duration": 21,
    "start_time": "2021-12-14T08:56:44.057Z"
   },
   {
    "duration": 667,
    "start_time": "2021-12-14T11:34:09.040Z"
   },
   {
    "duration": 21,
    "start_time": "2021-12-14T11:34:09.709Z"
   },
   {
    "duration": 40,
    "start_time": "2021-12-14T11:34:09.732Z"
   },
   {
    "duration": 31,
    "start_time": "2021-12-14T11:34:09.774Z"
   },
   {
    "duration": 12,
    "start_time": "2021-12-14T11:34:09.807Z"
   },
   {
    "duration": 70,
    "start_time": "2021-12-14T11:34:09.821Z"
   },
   {
    "duration": 216,
    "start_time": "2021-12-14T11:34:09.893Z"
   },
   {
    "duration": 9,
    "start_time": "2021-12-14T11:34:10.111Z"
   },
   {
    "duration": 149,
    "start_time": "2021-12-14T11:34:10.123Z"
   },
   {
    "duration": 140,
    "start_time": "2021-12-14T11:34:10.275Z"
   },
   {
    "duration": 7,
    "start_time": "2021-12-14T11:34:10.416Z"
   },
   {
    "duration": 194,
    "start_time": "2021-12-14T11:34:10.424Z"
   },
   {
    "duration": 6,
    "start_time": "2021-12-14T11:34:10.620Z"
   },
   {
    "duration": 10,
    "start_time": "2021-12-14T11:34:10.628Z"
   },
   {
    "duration": 9,
    "start_time": "2021-12-14T11:34:10.639Z"
   },
   {
    "duration": 4,
    "start_time": "2021-12-14T11:34:10.663Z"
   },
   {
    "duration": 13,
    "start_time": "2021-12-14T11:34:10.669Z"
   },
   {
    "duration": 210,
    "start_time": "2021-12-14T11:34:10.683Z"
   },
   {
    "duration": 3,
    "start_time": "2021-12-14T11:34:10.895Z"
   },
   {
    "duration": 13,
    "start_time": "2021-12-14T11:34:10.899Z"
   },
   {
    "duration": 332,
    "start_time": "2021-12-14T11:34:10.913Z"
   },
   {
    "duration": 26,
    "start_time": "2021-12-14T11:34:11.247Z"
   },
   {
    "duration": 8,
    "start_time": "2021-12-14T11:34:11.275Z"
   },
   {
    "duration": 16,
    "start_time": "2021-12-14T11:34:11.285Z"
   },
   {
    "duration": 4,
    "start_time": "2021-12-14T11:34:11.303Z"
   },
   {
    "duration": 66,
    "start_time": "2021-12-14T11:34:11.308Z"
   },
   {
    "duration": 13,
    "start_time": "2021-12-14T11:34:11.378Z"
   },
   {
    "duration": 3,
    "start_time": "2021-12-14T11:34:11.393Z"
   },
   {
    "duration": 6,
    "start_time": "2021-12-14T11:34:11.398Z"
   },
   {
    "duration": 17,
    "start_time": "2021-12-14T11:34:11.406Z"
   },
   {
    "duration": 15,
    "start_time": "2021-12-14T11:34:11.424Z"
   },
   {
    "duration": 61,
    "start_time": "2021-12-14T11:34:11.441Z"
   },
   {
    "duration": 5,
    "start_time": "2021-12-14T11:34:11.504Z"
   },
   {
    "duration": 11,
    "start_time": "2021-12-14T11:34:11.510Z"
   },
   {
    "duration": 18,
    "start_time": "2021-12-14T11:34:11.522Z"
   },
   {
    "duration": 22,
    "start_time": "2021-12-14T11:34:11.542Z"
   },
   {
    "duration": 7,
    "start_time": "2021-12-14T11:34:11.566Z"
   },
   {
    "duration": 7,
    "start_time": "2021-12-14T11:34:11.575Z"
   },
   {
    "duration": 13,
    "start_time": "2021-12-14T11:34:11.584Z"
   },
   {
    "duration": 19,
    "start_time": "2021-12-14T11:34:11.600Z"
   },
   {
    "duration": 14,
    "start_time": "2021-12-14T11:34:11.621Z"
   },
   {
    "duration": 49,
    "start_time": "2021-12-14T11:34:11.637Z"
   },
   {
    "duration": 6,
    "start_time": "2021-12-14T11:34:11.688Z"
   },
   {
    "duration": 767,
    "start_time": "2021-12-14T11:34:11.696Z"
   },
   {
    "duration": 7,
    "start_time": "2021-12-14T11:34:12.465Z"
   },
   {
    "duration": 19,
    "start_time": "2021-12-14T11:34:12.473Z"
   },
   {
    "duration": 15,
    "start_time": "2021-12-14T11:34:12.493Z"
   },
   {
    "duration": 3029,
    "start_time": "2021-12-14T11:34:12.509Z"
   },
   {
    "duration": 2868,
    "start_time": "2021-12-14T11:34:15.540Z"
   },
   {
    "duration": 18,
    "start_time": "2021-12-14T11:34:18.410Z"
   },
   {
    "duration": 11,
    "start_time": "2021-12-14T11:34:18.431Z"
   },
   {
    "duration": 28,
    "start_time": "2021-12-14T11:34:18.444Z"
   },
   {
    "duration": 16,
    "start_time": "2021-12-14T11:34:18.474Z"
   },
   {
    "duration": 4,
    "start_time": "2021-12-14T11:34:18.492Z"
   },
   {
    "duration": 6,
    "start_time": "2021-12-14T11:34:18.498Z"
   },
   {
    "duration": 19,
    "start_time": "2021-12-14T11:34:18.506Z"
   },
   {
    "duration": 40,
    "start_time": "2021-12-14T11:34:18.527Z"
   },
   {
    "duration": 17,
    "start_time": "2021-12-14T11:34:18.569Z"
   },
   {
    "duration": 13,
    "start_time": "2021-12-14T11:34:18.588Z"
   },
   {
    "duration": 12,
    "start_time": "2021-12-14T11:34:18.602Z"
   },
   {
    "duration": 13,
    "start_time": "2021-12-14T11:34:18.616Z"
   },
   {
    "duration": 808,
    "start_time": "2021-12-19T12:48:13.061Z"
   },
   {
    "duration": 23,
    "start_time": "2021-12-19T12:48:13.872Z"
   },
   {
    "duration": 70,
    "start_time": "2021-12-19T12:48:13.898Z"
   },
   {
    "duration": 23,
    "start_time": "2021-12-19T12:48:13.970Z"
   },
   {
    "duration": 18,
    "start_time": "2021-12-19T12:48:13.996Z"
   },
   {
    "duration": 124,
    "start_time": "2021-12-19T12:48:14.017Z"
   },
   {
    "duration": 340,
    "start_time": "2021-12-19T12:48:14.144Z"
   },
   {
    "duration": 12,
    "start_time": "2021-12-19T12:48:14.488Z"
   },
   {
    "duration": 264,
    "start_time": "2021-12-19T12:48:14.503Z"
   },
   {
    "duration": 253,
    "start_time": "2021-12-19T12:48:14.770Z"
   },
   {
    "duration": 11,
    "start_time": "2021-12-19T12:48:15.026Z"
   },
   {
    "duration": 300,
    "start_time": "2021-12-19T12:48:15.040Z"
   },
   {
    "duration": 8,
    "start_time": "2021-12-19T12:48:15.344Z"
   },
   {
    "duration": 9,
    "start_time": "2021-12-19T12:48:15.368Z"
   },
   {
    "duration": 21,
    "start_time": "2021-12-19T12:48:15.380Z"
   },
   {
    "duration": 5,
    "start_time": "2021-12-19T12:48:15.404Z"
   },
   {
    "duration": 17,
    "start_time": "2021-12-19T12:48:15.411Z"
   },
   {
    "duration": 364,
    "start_time": "2021-12-19T12:48:15.431Z"
   },
   {
    "duration": 4,
    "start_time": "2021-12-19T12:48:15.798Z"
   },
   {
    "duration": 19,
    "start_time": "2021-12-19T12:48:15.805Z"
   },
   {
    "duration": 744,
    "start_time": "2021-12-19T12:48:15.826Z"
   },
   {
    "duration": 30,
    "start_time": "2021-12-19T12:48:16.572Z"
   },
   {
    "duration": 14,
    "start_time": "2021-12-19T12:48:16.608Z"
   },
   {
    "duration": 63,
    "start_time": "2021-12-19T12:48:16.626Z"
   },
   {
    "duration": 6,
    "start_time": "2021-12-19T12:48:16.692Z"
   },
   {
    "duration": 96,
    "start_time": "2021-12-19T12:48:16.701Z"
   },
   {
    "duration": 19,
    "start_time": "2021-12-19T12:48:16.800Z"
   },
   {
    "duration": 7,
    "start_time": "2021-12-19T12:48:16.826Z"
   },
   {
    "duration": 7,
    "start_time": "2021-12-19T12:48:16.835Z"
   },
   {
    "duration": 21,
    "start_time": "2021-12-19T12:48:16.868Z"
   },
   {
    "duration": 24,
    "start_time": "2021-12-19T12:48:16.892Z"
   },
   {
    "duration": 94,
    "start_time": "2021-12-19T12:48:16.919Z"
   },
   {
    "duration": 5,
    "start_time": "2021-12-19T12:48:17.015Z"
   },
   {
    "duration": 10,
    "start_time": "2021-12-19T12:48:17.023Z"
   },
   {
    "duration": 48,
    "start_time": "2021-12-19T12:48:17.035Z"
   },
   {
    "duration": 6,
    "start_time": "2021-12-19T12:48:17.086Z"
   },
   {
    "duration": 8,
    "start_time": "2021-12-19T12:48:17.095Z"
   },
   {
    "duration": 7,
    "start_time": "2021-12-19T12:48:17.106Z"
   },
   {
    "duration": 53,
    "start_time": "2021-12-19T12:48:17.116Z"
   },
   {
    "duration": 16,
    "start_time": "2021-12-19T12:48:17.171Z"
   },
   {
    "duration": 15,
    "start_time": "2021-12-19T12:48:17.189Z"
   },
   {
    "duration": 83,
    "start_time": "2021-12-19T12:48:17.206Z"
   },
   {
    "duration": 8,
    "start_time": "2021-12-19T12:48:17.291Z"
   },
   {
    "duration": 1170,
    "start_time": "2021-12-19T12:48:17.302Z"
   },
   {
    "duration": 8,
    "start_time": "2021-12-19T12:48:18.475Z"
   },
   {
    "duration": 6,
    "start_time": "2021-12-19T12:48:18.486Z"
   },
   {
    "duration": 10,
    "start_time": "2021-12-19T12:48:18.495Z"
   },
   {
    "duration": 4226,
    "start_time": "2021-12-19T12:48:18.508Z"
   },
   {
    "duration": 4007,
    "start_time": "2021-12-19T12:48:22.737Z"
   },
   {
    "duration": 37,
    "start_time": "2021-12-19T12:48:26.746Z"
   },
   {
    "duration": 13,
    "start_time": "2021-12-19T12:48:26.786Z"
   },
   {
    "duration": 21,
    "start_time": "2021-12-19T12:48:26.802Z"
   },
   {
    "duration": 11,
    "start_time": "2021-12-19T12:49:39.985Z"
   },
   {
    "duration": 22,
    "start_time": "2021-12-19T12:49:47.947Z"
   },
   {
    "duration": 10,
    "start_time": "2021-12-19T12:50:52.395Z"
   },
   {
    "duration": 27,
    "start_time": "2021-12-19T12:52:10.251Z"
   },
   {
    "duration": 26,
    "start_time": "2021-12-19T13:51:51.373Z"
   },
   {
    "duration": 15,
    "start_time": "2021-12-19T13:51:51.403Z"
   },
   {
    "duration": 88,
    "start_time": "2021-12-19T13:51:51.421Z"
   },
   {
    "duration": 55,
    "start_time": "2021-12-19T13:51:51.512Z"
   },
   {
    "duration": 17,
    "start_time": "2021-12-19T13:51:51.570Z"
   },
   {
    "duration": 117,
    "start_time": "2021-12-19T13:51:51.590Z"
   },
   {
    "duration": 245,
    "start_time": "2021-12-19T13:51:51.710Z"
   },
   {
    "duration": 16,
    "start_time": "2021-12-19T13:51:51.960Z"
   },
   {
    "duration": 246,
    "start_time": "2021-12-19T13:51:51.980Z"
   },
   {
    "duration": 259,
    "start_time": "2021-12-19T13:51:52.229Z"
   },
   {
    "duration": 8,
    "start_time": "2021-12-19T13:51:52.490Z"
   },
   {
    "duration": 279,
    "start_time": "2021-12-19T13:51:52.501Z"
   },
   {
    "duration": 7,
    "start_time": "2021-12-19T13:51:52.783Z"
   },
   {
    "duration": 9,
    "start_time": "2021-12-19T13:51:52.793Z"
   },
   {
    "duration": 11,
    "start_time": "2021-12-19T13:51:52.805Z"
   },
   {
    "duration": 10,
    "start_time": "2021-12-19T13:51:52.818Z"
   },
   {
    "duration": 46,
    "start_time": "2021-12-19T13:51:52.830Z"
   },
   {
    "duration": 382,
    "start_time": "2021-12-19T13:51:52.879Z"
   },
   {
    "duration": 4,
    "start_time": "2021-12-19T13:51:53.273Z"
   },
   {
    "duration": 15,
    "start_time": "2021-12-19T13:51:53.280Z"
   },
   {
    "duration": 612,
    "start_time": "2021-12-19T13:51:53.298Z"
   },
   {
    "duration": 31,
    "start_time": "2021-12-19T13:51:53.914Z"
   },
   {
    "duration": 15,
    "start_time": "2021-12-19T13:51:53.968Z"
   },
   {
    "duration": 27,
    "start_time": "2021-12-19T13:51:53.987Z"
   },
   {
    "duration": 7,
    "start_time": "2021-12-19T13:51:54.016Z"
   },
   {
    "duration": 179,
    "start_time": "2021-12-19T13:51:54.026Z"
   },
   {
    "duration": 18,
    "start_time": "2021-12-19T13:51:54.208Z"
   },
   {
    "duration": 4,
    "start_time": "2021-12-19T13:51:54.229Z"
   },
   {
    "duration": 37,
    "start_time": "2021-12-19T13:51:54.235Z"
   },
   {
    "duration": 19,
    "start_time": "2021-12-19T13:51:54.275Z"
   },
   {
    "duration": 29,
    "start_time": "2021-12-19T13:51:54.296Z"
   },
   {
    "duration": 87,
    "start_time": "2021-12-19T13:51:54.328Z"
   },
   {
    "duration": 5,
    "start_time": "2021-12-19T13:51:54.418Z"
   },
   {
    "duration": 9,
    "start_time": "2021-12-19T13:51:54.425Z"
   },
   {
    "duration": 52,
    "start_time": "2021-12-19T13:51:54.437Z"
   },
   {
    "duration": 8,
    "start_time": "2021-12-19T13:51:54.492Z"
   },
   {
    "duration": 7,
    "start_time": "2021-12-19T13:51:54.502Z"
   },
   {
    "duration": 9,
    "start_time": "2021-12-19T13:51:54.512Z"
   },
   {
    "duration": 50,
    "start_time": "2021-12-19T13:51:54.523Z"
   },
   {
    "duration": 16,
    "start_time": "2021-12-19T13:51:54.576Z"
   },
   {
    "duration": 13,
    "start_time": "2021-12-19T13:51:54.595Z"
   },
   {
    "duration": 77,
    "start_time": "2021-12-19T13:51:54.611Z"
   },
   {
    "duration": 7,
    "start_time": "2021-12-19T13:51:54.691Z"
   },
   {
    "duration": 1017,
    "start_time": "2021-12-19T13:51:54.701Z"
   },
   {
    "duration": 11,
    "start_time": "2021-12-19T13:51:55.721Z"
   },
   {
    "duration": 7,
    "start_time": "2021-12-19T13:51:55.735Z"
   },
   {
    "duration": 24,
    "start_time": "2021-12-19T13:51:55.745Z"
   },
   {
    "duration": 4115,
    "start_time": "2021-12-19T13:51:55.771Z"
   },
   {
    "duration": 3992,
    "start_time": "2021-12-19T13:51:59.888Z"
   },
   {
    "duration": 23,
    "start_time": "2021-12-19T13:52:03.883Z"
   },
   {
    "duration": 11,
    "start_time": "2021-12-19T13:52:03.909Z"
   },
   {
    "duration": 46,
    "start_time": "2021-12-19T13:52:03.923Z"
   },
   {
    "duration": 22,
    "start_time": "2021-12-19T13:52:08.742Z"
   },
   {
    "duration": 11,
    "start_time": "2021-12-19T13:52:14.911Z"
   },
   {
    "duration": 13,
    "start_time": "2021-12-19T13:52:31.792Z"
   },
   {
    "duration": 11,
    "start_time": "2021-12-19T13:52:43.080Z"
   },
   {
    "duration": 11,
    "start_time": "2021-12-19T13:53:11.106Z"
   },
   {
    "duration": 11,
    "start_time": "2021-12-19T13:53:16.570Z"
   },
   {
    "duration": 439,
    "start_time": "2022-06-22T13:04:00.533Z"
   },
   {
    "duration": 1279,
    "start_time": "2022-06-22T13:04:14.414Z"
   },
   {
    "duration": 3,
    "start_time": "2022-06-22T13:04:15.694Z"
   },
   {
    "duration": 5,
    "start_time": "2022-06-22T13:04:15.699Z"
   },
   {
    "duration": 42,
    "start_time": "2022-06-22T13:04:15.706Z"
   },
   {
    "duration": 452,
    "start_time": "2022-06-22T13:04:15.750Z"
   },
   {
    "duration": 4,
    "start_time": "2022-06-22T13:04:16.203Z"
   },
   {
    "duration": 73,
    "start_time": "2022-06-22T13:04:16.209Z"
   },
   {
    "duration": 434,
    "start_time": "2022-06-22T13:04:16.284Z"
   },
   {
    "duration": 10,
    "start_time": "2022-06-22T13:04:16.720Z"
   },
   {
    "duration": 8,
    "start_time": "2022-06-22T13:04:16.732Z"
   },
   {
    "duration": 10,
    "start_time": "2022-06-22T13:04:16.741Z"
   },
   {
    "duration": 465,
    "start_time": "2022-06-22T13:04:16.753Z"
   },
   {
    "duration": 8,
    "start_time": "2022-06-22T13:04:17.219Z"
   },
   {
    "duration": 11,
    "start_time": "2022-06-22T13:04:17.230Z"
   },
   {
    "duration": 19,
    "start_time": "2022-06-22T13:04:17.242Z"
   },
   {
    "duration": 478,
    "start_time": "2022-06-22T13:04:17.263Z"
   },
   {
    "duration": 3,
    "start_time": "2022-06-22T13:04:17.743Z"
   },
   {
    "duration": 13,
    "start_time": "2022-06-22T13:04:17.748Z"
   },
   {
    "duration": 310,
    "start_time": "2022-06-22T13:04:17.763Z"
   },
   {
    "duration": 15,
    "start_time": "2022-06-22T13:04:18.075Z"
   },
   {
    "duration": 137,
    "start_time": "2022-06-22T13:04:18.092Z"
   },
   {
    "duration": 14,
    "start_time": "2022-06-22T13:04:18.231Z"
   },
   {
    "duration": 3,
    "start_time": "2022-06-22T13:04:18.246Z"
   },
   {
    "duration": 35,
    "start_time": "2022-06-22T13:04:18.251Z"
   },
   {
    "duration": 11,
    "start_time": "2022-06-22T13:04:18.287Z"
   },
   {
    "duration": 27,
    "start_time": "2022-06-22T13:04:18.300Z"
   },
   {
    "duration": 8,
    "start_time": "2022-06-22T13:04:18.328Z"
   },
   {
    "duration": 13,
    "start_time": "2022-06-22T13:04:18.337Z"
   },
   {
    "duration": 12,
    "start_time": "2022-06-22T13:04:18.351Z"
   },
   {
    "duration": 24,
    "start_time": "2022-06-22T13:04:18.364Z"
   },
   {
    "duration": 3,
    "start_time": "2022-06-22T13:04:18.389Z"
   },
   {
    "duration": 35,
    "start_time": "2022-06-22T13:04:18.393Z"
   },
   {
    "duration": 4,
    "start_time": "2022-06-22T13:04:18.430Z"
   },
   {
    "duration": 6,
    "start_time": "2022-06-22T13:04:18.435Z"
   },
   {
    "duration": 7,
    "start_time": "2022-06-22T13:04:18.442Z"
   },
   {
    "duration": 5,
    "start_time": "2022-06-22T13:04:18.450Z"
   },
   {
    "duration": 8,
    "start_time": "2022-06-22T13:04:18.456Z"
   },
   {
    "duration": 4,
    "start_time": "2022-06-22T13:04:18.466Z"
   },
   {
    "duration": 15,
    "start_time": "2022-06-22T13:04:18.471Z"
   },
   {
    "duration": 5,
    "start_time": "2022-06-22T13:04:18.487Z"
   },
   {
    "duration": 659,
    "start_time": "2022-06-22T13:04:18.528Z"
   },
   {
    "duration": 6,
    "start_time": "2022-06-22T13:04:19.189Z"
   },
   {
    "duration": 11,
    "start_time": "2022-06-22T13:04:19.196Z"
   },
   {
    "duration": 1199,
    "start_time": "2022-06-22T13:04:19.208Z"
   },
   {
    "duration": 1255,
    "start_time": "2022-06-22T13:04:20.408Z"
   },
   {
    "duration": 9,
    "start_time": "2022-06-22T13:04:21.665Z"
   },
   {
    "duration": 12,
    "start_time": "2022-06-22T13:04:21.676Z"
   },
   {
    "duration": 6,
    "start_time": "2022-06-22T13:04:21.690Z"
   },
   {
    "duration": 37,
    "start_time": "2022-06-22T13:04:21.698Z"
   },
   {
    "duration": 8,
    "start_time": "2022-06-22T13:04:21.737Z"
   },
   {
    "duration": 13,
    "start_time": "2022-06-22T13:04:21.746Z"
   },
   {
    "duration": 17,
    "start_time": "2022-06-22T13:04:21.760Z"
   },
   {
    "duration": 2,
    "start_time": "2022-06-22T13:04:21.779Z"
   },
   {
    "duration": 15,
    "start_time": "2022-06-22T13:04:21.782Z"
   },
   {
    "duration": 40,
    "start_time": "2022-06-22T13:04:21.798Z"
   },
   {
    "duration": 12,
    "start_time": "2022-06-22T13:04:21.840Z"
   },
   {
    "duration": 9,
    "start_time": "2022-06-22T13:04:21.853Z"
   },
   {
    "duration": 12,
    "start_time": "2022-06-22T13:04:21.863Z"
   },
   {
    "duration": 11,
    "start_time": "2022-06-22T13:04:21.876Z"
   },
   {
    "duration": 37,
    "start_time": "2022-06-22T13:04:21.889Z"
   },
   {
    "duration": 9,
    "start_time": "2022-06-22T13:04:21.928Z"
   },
   {
    "duration": 13,
    "start_time": "2022-06-22T13:04:21.938Z"
   },
   {
    "duration": 8,
    "start_time": "2022-06-22T13:04:21.952Z"
   },
   {
    "duration": 14,
    "start_time": "2022-06-22T13:04:21.961Z"
   },
   {
    "duration": 9,
    "start_time": "2022-06-22T13:04:21.976Z"
   },
   {
    "duration": 45,
    "start_time": "2022-06-22T13:08:37.789Z"
   },
   {
    "duration": 1252,
    "start_time": "2022-06-22T13:08:48.641Z"
   },
   {
    "duration": 3,
    "start_time": "2022-06-22T13:08:49.895Z"
   },
   {
    "duration": 6,
    "start_time": "2022-06-22T13:08:49.900Z"
   },
   {
    "duration": 42,
    "start_time": "2022-06-22T13:08:49.907Z"
   },
   {
    "duration": 586,
    "start_time": "2022-06-22T13:08:49.951Z"
   },
   {
    "duration": 4,
    "start_time": "2022-06-22T13:08:50.539Z"
   },
   {
    "duration": 84,
    "start_time": "2022-06-22T13:08:50.544Z"
   },
   {
    "duration": 414,
    "start_time": "2022-06-22T13:08:50.630Z"
   },
   {
    "duration": 5,
    "start_time": "2022-06-22T13:08:51.046Z"
   },
   {
    "duration": 10,
    "start_time": "2022-06-22T13:08:51.052Z"
   },
   {
    "duration": 6,
    "start_time": "2022-06-22T13:08:51.063Z"
   },
   {
    "duration": 434,
    "start_time": "2022-06-22T13:08:51.070Z"
   },
   {
    "duration": 5,
    "start_time": "2022-06-22T13:08:51.505Z"
   },
   {
    "duration": 4,
    "start_time": "2022-06-22T13:08:51.525Z"
   },
   {
    "duration": 8,
    "start_time": "2022-06-22T13:08:51.531Z"
   },
   {
    "duration": 399,
    "start_time": "2022-06-22T13:08:51.540Z"
   },
   {
    "duration": 3,
    "start_time": "2022-06-22T13:08:51.941Z"
   },
   {
    "duration": 27,
    "start_time": "2022-06-22T13:08:51.946Z"
   },
   {
    "duration": 286,
    "start_time": "2022-06-22T13:08:51.975Z"
   },
   {
    "duration": 16,
    "start_time": "2022-06-22T13:08:52.262Z"
   },
   {
    "duration": 135,
    "start_time": "2022-06-22T13:08:52.279Z"
   },
   {
    "duration": 21,
    "start_time": "2022-06-22T13:08:52.416Z"
   },
   {
    "duration": 29,
    "start_time": "2022-06-22T13:08:52.438Z"
   },
   {
    "duration": 44,
    "start_time": "2022-06-22T13:08:52.468Z"
   },
   {
    "duration": 12,
    "start_time": "2022-06-22T13:08:52.513Z"
   },
   {
    "duration": 3,
    "start_time": "2022-06-22T13:08:52.526Z"
   },
   {
    "duration": 8,
    "start_time": "2022-06-22T13:08:52.530Z"
   },
   {
    "duration": 14,
    "start_time": "2022-06-22T13:08:52.539Z"
   },
   {
    "duration": 11,
    "start_time": "2022-06-22T13:08:52.554Z"
   },
   {
    "duration": 24,
    "start_time": "2022-06-22T13:08:52.566Z"
   },
   {
    "duration": 3,
    "start_time": "2022-06-22T13:08:52.591Z"
   },
   {
    "duration": 30,
    "start_time": "2022-06-22T13:08:52.595Z"
   },
   {
    "duration": 4,
    "start_time": "2022-06-22T13:08:52.627Z"
   },
   {
    "duration": 6,
    "start_time": "2022-06-22T13:08:52.632Z"
   },
   {
    "duration": 8,
    "start_time": "2022-06-22T13:08:52.639Z"
   },
   {
    "duration": 5,
    "start_time": "2022-06-22T13:08:52.648Z"
   },
   {
    "duration": 10,
    "start_time": "2022-06-22T13:08:52.655Z"
   },
   {
    "duration": 5,
    "start_time": "2022-06-22T13:08:52.666Z"
   },
   {
    "duration": 63,
    "start_time": "2022-06-22T13:08:52.672Z"
   },
   {
    "duration": 6,
    "start_time": "2022-06-22T13:08:52.737Z"
   },
   {
    "duration": 651,
    "start_time": "2022-06-22T13:08:52.747Z"
   },
   {
    "duration": 6,
    "start_time": "2022-06-22T13:08:53.400Z"
   },
   {
    "duration": 5,
    "start_time": "2022-06-22T13:08:53.407Z"
   },
   {
    "duration": 1225,
    "start_time": "2022-06-22T13:08:53.426Z"
   },
   {
    "duration": 1284,
    "start_time": "2022-06-22T13:08:54.653Z"
   },
   {
    "duration": 8,
    "start_time": "2022-06-22T13:08:55.938Z"
   },
   {
    "duration": 63,
    "start_time": "2022-06-22T13:08:55.948Z"
   },
   {
    "duration": 45,
    "start_time": "2022-06-22T13:08:56.013Z"
   },
   {
    "duration": 30,
    "start_time": "2022-06-22T13:08:56.060Z"
   },
   {
    "duration": 48,
    "start_time": "2022-06-22T13:08:56.091Z"
   },
   {
    "duration": 41,
    "start_time": "2022-06-22T13:08:56.142Z"
   },
   {
    "duration": 54,
    "start_time": "2022-06-22T13:08:56.185Z"
   },
   {
    "duration": 13,
    "start_time": "2022-06-22T13:08:56.240Z"
   },
   {
    "duration": 23,
    "start_time": "2022-06-22T13:08:56.255Z"
   },
   {
    "duration": 21,
    "start_time": "2022-06-22T13:08:56.281Z"
   },
   {
    "duration": 20,
    "start_time": "2022-06-22T13:08:56.304Z"
   },
   {
    "duration": 18,
    "start_time": "2022-06-22T13:08:56.326Z"
   },
   {
    "duration": 34,
    "start_time": "2022-06-22T13:08:56.345Z"
   },
   {
    "duration": 19,
    "start_time": "2022-06-22T13:08:56.381Z"
   },
   {
    "duration": 13,
    "start_time": "2022-06-22T13:08:56.402Z"
   },
   {
    "duration": 9,
    "start_time": "2022-06-22T13:08:56.416Z"
   },
   {
    "duration": 25,
    "start_time": "2022-06-22T13:08:56.426Z"
   },
   {
    "duration": 22,
    "start_time": "2022-06-22T13:08:56.452Z"
   },
   {
    "duration": 42,
    "start_time": "2022-06-22T13:08:56.475Z"
   },
   {
    "duration": 24,
    "start_time": "2022-06-22T13:08:56.520Z"
   },
   {
    "duration": 28,
    "start_time": "2022-06-22T13:24:48.922Z"
   },
   {
    "duration": 116,
    "start_time": "2022-06-22T13:24:58.410Z"
   },
   {
    "duration": 45,
    "start_time": "2022-06-22T13:26:17.517Z"
   },
   {
    "duration": 55,
    "start_time": "2022-06-22T13:26:34.140Z"
   },
   {
    "duration": 40,
    "start_time": "2022-06-22T13:26:41.761Z"
   },
   {
    "duration": 34,
    "start_time": "2022-06-22T13:29:29.783Z"
   },
   {
    "duration": 35,
    "start_time": "2022-06-22T13:29:35.228Z"
   },
   {
    "duration": 70,
    "start_time": "2022-06-22T13:30:06.731Z"
   },
   {
    "duration": 1321,
    "start_time": "2022-06-22T13:30:14.623Z"
   },
   {
    "duration": 2,
    "start_time": "2022-06-22T13:30:15.946Z"
   },
   {
    "duration": 6,
    "start_time": "2022-06-22T13:30:15.950Z"
   },
   {
    "duration": 45,
    "start_time": "2022-06-22T13:30:15.958Z"
   },
   {
    "duration": 630,
    "start_time": "2022-06-22T13:30:16.006Z"
   },
   {
    "duration": 5,
    "start_time": "2022-06-22T13:30:16.638Z"
   },
   {
    "duration": 129,
    "start_time": "2022-06-22T13:30:16.645Z"
   },
   {
    "duration": 445,
    "start_time": "2022-06-22T13:30:16.776Z"
   },
   {
    "duration": 7,
    "start_time": "2022-06-22T13:30:17.222Z"
   },
   {
    "duration": 11,
    "start_time": "2022-06-22T13:30:17.231Z"
   },
   {
    "duration": 13,
    "start_time": "2022-06-22T13:30:17.244Z"
   },
   {
    "duration": 460,
    "start_time": "2022-06-22T13:30:17.259Z"
   },
   {
    "duration": 6,
    "start_time": "2022-06-22T13:30:17.725Z"
   },
   {
    "duration": 5,
    "start_time": "2022-06-22T13:30:17.734Z"
   },
   {
    "duration": 7,
    "start_time": "2022-06-22T13:30:17.741Z"
   },
   {
    "duration": 498,
    "start_time": "2022-06-22T13:30:17.750Z"
   },
   {
    "duration": 3,
    "start_time": "2022-06-22T13:30:18.250Z"
   },
   {
    "duration": 14,
    "start_time": "2022-06-22T13:30:18.255Z"
   },
   {
    "duration": 329,
    "start_time": "2022-06-22T13:30:18.271Z"
   },
   {
    "duration": 25,
    "start_time": "2022-06-22T13:30:18.601Z"
   },
   {
    "duration": 161,
    "start_time": "2022-06-22T13:30:18.628Z"
   },
   {
    "duration": 21,
    "start_time": "2022-06-22T13:30:18.791Z"
   },
   {
    "duration": 5,
    "start_time": "2022-06-22T13:30:18.825Z"
   },
   {
    "duration": 45,
    "start_time": "2022-06-22T13:30:18.832Z"
   },
   {
    "duration": 13,
    "start_time": "2022-06-22T13:30:18.879Z"
   },
   {
    "duration": 6,
    "start_time": "2022-06-22T13:30:18.894Z"
   },
   {
    "duration": 25,
    "start_time": "2022-06-22T13:30:18.901Z"
   },
   {
    "duration": 11,
    "start_time": "2022-06-22T13:30:18.928Z"
   },
   {
    "duration": 18,
    "start_time": "2022-06-22T13:30:18.940Z"
   },
   {
    "duration": 32,
    "start_time": "2022-06-22T13:30:18.959Z"
   },
   {
    "duration": 5,
    "start_time": "2022-06-22T13:30:18.993Z"
   },
   {
    "duration": 31,
    "start_time": "2022-06-22T13:30:19.000Z"
   },
   {
    "duration": 5,
    "start_time": "2022-06-22T13:30:19.033Z"
   },
   {
    "duration": 28,
    "start_time": "2022-06-22T13:30:19.040Z"
   },
   {
    "duration": 18,
    "start_time": "2022-06-22T13:30:19.070Z"
   },
   {
    "duration": 7,
    "start_time": "2022-06-22T13:30:19.090Z"
   },
   {
    "duration": 11,
    "start_time": "2022-06-22T13:30:19.099Z"
   },
   {
    "duration": 8,
    "start_time": "2022-06-22T13:30:19.112Z"
   },
   {
    "duration": 43,
    "start_time": "2022-06-22T13:30:19.122Z"
   },
   {
    "duration": 6,
    "start_time": "2022-06-22T13:30:19.167Z"
   },
   {
    "duration": 681,
    "start_time": "2022-06-22T13:30:19.176Z"
   },
   {
    "duration": 5,
    "start_time": "2022-06-22T13:30:19.859Z"
   },
   {
    "duration": 8,
    "start_time": "2022-06-22T13:30:19.866Z"
   },
   {
    "duration": 1373,
    "start_time": "2022-06-22T13:30:19.876Z"
   },
   {
    "duration": 1386,
    "start_time": "2022-06-22T13:30:21.251Z"
   },
   {
    "duration": 11,
    "start_time": "2022-06-22T13:30:22.639Z"
   },
   {
    "duration": 14,
    "start_time": "2022-06-22T13:30:22.652Z"
   },
   {
    "duration": 7,
    "start_time": "2022-06-22T13:30:22.668Z"
   },
   {
    "duration": 15,
    "start_time": "2022-06-22T13:30:22.676Z"
   },
   {
    "duration": 34,
    "start_time": "2022-06-22T13:30:22.693Z"
   },
   {
    "duration": 13,
    "start_time": "2022-06-22T13:30:22.728Z"
   },
   {
    "duration": 25,
    "start_time": "2022-06-22T13:30:22.742Z"
   },
   {
    "duration": 3,
    "start_time": "2022-06-22T13:30:22.769Z"
   },
   {
    "duration": 29,
    "start_time": "2022-06-22T13:30:22.774Z"
   },
   {
    "duration": 36,
    "start_time": "2022-06-22T13:30:22.805Z"
   },
   {
    "duration": 18,
    "start_time": "2022-06-22T13:30:22.843Z"
   },
   {
    "duration": 10,
    "start_time": "2022-06-22T13:30:22.862Z"
   },
   {
    "duration": 14,
    "start_time": "2022-06-22T13:30:22.873Z"
   },
   {
    "duration": 45,
    "start_time": "2022-06-22T13:30:22.888Z"
   },
   {
    "duration": 15,
    "start_time": "2022-06-22T13:30:22.935Z"
   },
   {
    "duration": 10,
    "start_time": "2022-06-22T13:30:22.952Z"
   },
   {
    "duration": 14,
    "start_time": "2022-06-22T13:30:22.963Z"
   },
   {
    "duration": 12,
    "start_time": "2022-06-22T13:30:22.978Z"
   },
   {
    "duration": 16,
    "start_time": "2022-06-22T13:30:23.026Z"
   },
   {
    "duration": 11,
    "start_time": "2022-06-22T13:30:23.044Z"
   },
   {
    "duration": 4,
    "start_time": "2022-06-22T13:31:39.301Z"
   },
   {
    "duration": 10,
    "start_time": "2022-06-22T13:31:43.556Z"
   },
   {
    "duration": 1254,
    "start_time": "2022-06-22T13:31:46.520Z"
   },
   {
    "duration": 9,
    "start_time": "2022-06-22T13:31:47.777Z"
   },
   {
    "duration": 4,
    "start_time": "2022-06-22T13:32:01.800Z"
   },
   {
    "duration": 1147,
    "start_time": "2022-06-22T13:32:06.151Z"
   },
   {
    "duration": 33,
    "start_time": "2022-06-22T13:32:07.300Z"
   },
   {
    "duration": 1405,
    "start_time": "2022-06-22T13:33:28.627Z"
   },
   {
    "duration": 3,
    "start_time": "2022-06-22T13:33:30.034Z"
   },
   {
    "duration": 17,
    "start_time": "2022-06-22T13:33:30.038Z"
   },
   {
    "duration": 94,
    "start_time": "2022-06-22T13:33:30.056Z"
   },
   {
    "duration": 457,
    "start_time": "2022-06-22T13:33:30.152Z"
   },
   {
    "duration": 4,
    "start_time": "2022-06-22T13:33:30.611Z"
   },
   {
    "duration": 111,
    "start_time": "2022-06-22T13:33:30.616Z"
   },
   {
    "duration": 434,
    "start_time": "2022-06-22T13:33:30.729Z"
   },
   {
    "duration": 6,
    "start_time": "2022-06-22T13:33:31.165Z"
   },
   {
    "duration": 30,
    "start_time": "2022-06-22T13:33:31.173Z"
   },
   {
    "duration": 22,
    "start_time": "2022-06-22T13:33:31.205Z"
   },
   {
    "duration": 472,
    "start_time": "2022-06-22T13:33:31.228Z"
   },
   {
    "duration": 5,
    "start_time": "2022-06-22T13:33:31.702Z"
   },
   {
    "duration": 26,
    "start_time": "2022-06-22T13:33:31.710Z"
   },
   {
    "duration": 22,
    "start_time": "2022-06-22T13:33:31.738Z"
   },
   {
    "duration": 498,
    "start_time": "2022-06-22T13:33:31.761Z"
   },
   {
    "duration": 3,
    "start_time": "2022-06-22T13:33:32.261Z"
   },
   {
    "duration": 22,
    "start_time": "2022-06-22T13:33:32.266Z"
   },
   {
    "duration": 318,
    "start_time": "2022-06-22T13:33:32.290Z"
   },
   {
    "duration": 24,
    "start_time": "2022-06-22T13:33:32.611Z"
   },
   {
    "duration": 141,
    "start_time": "2022-06-22T13:33:32.637Z"
   },
   {
    "duration": 14,
    "start_time": "2022-06-22T13:33:32.780Z"
   },
   {
    "duration": 9,
    "start_time": "2022-06-22T13:33:32.795Z"
   },
   {
    "duration": 50,
    "start_time": "2022-06-22T13:33:32.806Z"
   },
   {
    "duration": 11,
    "start_time": "2022-06-22T13:33:32.858Z"
   },
   {
    "duration": 8,
    "start_time": "2022-06-22T13:33:32.871Z"
   },
   {
    "duration": 11,
    "start_time": "2022-06-22T13:33:32.880Z"
   },
   {
    "duration": 23,
    "start_time": "2022-06-22T13:33:32.893Z"
   },
   {
    "duration": 34,
    "start_time": "2022-06-22T13:33:32.918Z"
   },
   {
    "duration": 39,
    "start_time": "2022-06-22T13:33:32.954Z"
   },
   {
    "duration": 13,
    "start_time": "2022-06-22T13:33:32.994Z"
   },
   {
    "duration": 16,
    "start_time": "2022-06-22T13:33:33.008Z"
   },
   {
    "duration": 23,
    "start_time": "2022-06-22T13:33:33.026Z"
   },
   {
    "duration": 20,
    "start_time": "2022-06-22T13:33:33.050Z"
   },
   {
    "duration": 19,
    "start_time": "2022-06-22T13:33:33.072Z"
   },
   {
    "duration": 19,
    "start_time": "2022-06-22T13:33:33.092Z"
   },
   {
    "duration": 27,
    "start_time": "2022-06-22T13:33:33.112Z"
   },
   {
    "duration": 14,
    "start_time": "2022-06-22T13:33:33.140Z"
   },
   {
    "duration": 46,
    "start_time": "2022-06-22T13:33:33.156Z"
   },
   {
    "duration": 6,
    "start_time": "2022-06-22T13:33:33.204Z"
   },
   {
    "duration": 709,
    "start_time": "2022-06-22T13:33:33.214Z"
   },
   {
    "duration": 6,
    "start_time": "2022-06-22T13:33:33.925Z"
   },
   {
    "duration": 14,
    "start_time": "2022-06-22T13:33:33.932Z"
   },
   {
    "duration": 1308,
    "start_time": "2022-06-22T13:33:33.948Z"
   },
   {
    "duration": 1290,
    "start_time": "2022-06-22T13:33:35.257Z"
   },
   {
    "duration": 11,
    "start_time": "2022-06-22T13:33:36.549Z"
   },
   {
    "duration": 20,
    "start_time": "2022-06-22T13:33:36.562Z"
   },
   {
    "duration": 9,
    "start_time": "2022-06-22T13:33:36.584Z"
   },
   {
    "duration": 43,
    "start_time": "2022-06-22T13:33:36.595Z"
   },
   {
    "duration": 11,
    "start_time": "2022-06-22T13:33:36.640Z"
   },
   {
    "duration": 21,
    "start_time": "2022-06-22T13:33:36.653Z"
   },
   {
    "duration": 30,
    "start_time": "2022-06-22T13:33:36.676Z"
   },
   {
    "duration": 18,
    "start_time": "2022-06-22T13:33:36.708Z"
   },
   {
    "duration": 20,
    "start_time": "2022-06-22T13:33:36.728Z"
   },
   {
    "duration": 29,
    "start_time": "2022-06-22T13:33:36.750Z"
   },
   {
    "duration": 15,
    "start_time": "2022-06-22T13:33:36.780Z"
   },
   {
    "duration": 30,
    "start_time": "2022-06-22T13:33:36.797Z"
   },
   {
    "duration": 15,
    "start_time": "2022-06-22T13:33:36.829Z"
   },
   {
    "duration": 15,
    "start_time": "2022-06-22T13:33:36.845Z"
   },
   {
    "duration": 15,
    "start_time": "2022-06-22T13:33:36.862Z"
   },
   {
    "duration": 19,
    "start_time": "2022-06-22T13:33:36.879Z"
   },
   {
    "duration": 37,
    "start_time": "2022-06-22T13:33:36.899Z"
   },
   {
    "duration": 9,
    "start_time": "2022-06-22T13:33:36.938Z"
   },
   {
    "duration": 13,
    "start_time": "2022-06-22T13:33:36.949Z"
   },
   {
    "duration": 9,
    "start_time": "2022-06-22T13:33:36.963Z"
   }
  ],
  "kernelspec": {
   "display_name": "Python 3 (ipykernel)",
   "language": "python",
   "name": "python3"
  },
  "language_info": {
   "codemirror_mode": {
    "name": "ipython",
    "version": 3
   },
   "file_extension": ".py",
   "mimetype": "text/x-python",
   "name": "python",
   "nbconvert_exporter": "python",
   "pygments_lexer": "ipython3",
   "version": "3.9.7"
  },
  "toc": {
   "base_numbering": 1,
   "nav_menu": {
    "height": "386px",
    "width": "458px"
   },
   "number_sections": false,
   "sideBar": true,
   "skip_h1_title": true,
   "title_cell": "Table of Contents",
   "title_sidebar": "Contents",
   "toc_cell": false,
   "toc_position": {},
   "toc_section_display": true,
   "toc_window_display": false
  }
 },
 "nbformat": 4,
 "nbformat_minor": 4
}
