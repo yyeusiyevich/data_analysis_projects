{
 "cells": [
  {
   "cell_type": "markdown",
   "id": "521289bf",
   "metadata": {},
   "source": [
    "# Net Promoter Score (NPS)"
   ]
  },
  {
   "cell_type": "markdown",
   "id": "d0c7421b",
   "metadata": {},
   "source": [
    "# Table of contents \n",
    "\n",
    "I. Getting data from SQLite. Creating a dataframe. \n",
    "\n",
    "II. General information. Interim conclusions.      \n",
    "\n",
    "III. Data preprocessing.\n",
    "\n",
    "- Missing values processing.\n",
    "- Changing the data type.\n",
    "- Duplicates processing.\n",
    "- Categorical data processing.\n",
    "- Numerical data processing.\n",
    "- Interim conclusions.\n",
    "\n",
    "IV. Conclusion."
   ]
  },
  {
   "cell_type": "markdown",
   "id": "b426438c",
   "metadata": {},
   "source": [
    "# Getting data from SQLite. Creating a dataframe. "
   ]
  },
  {
   "cell_type": "code",
   "execution_count": 1,
   "id": "56cad9e6",
   "metadata": {
    "scrolled": false
   },
   "outputs": [],
   "source": [
    "# libraries import\n",
    "import pandas as pd\n",
    "import numpy as np\n",
    "from sqlalchemy import create_engine\n",
    "import seaborn as sns\n",
    "from googletrans import Translator\n",
    "translator = Translator(service_urls=['translate.googleapis.com'])"
   ]
  },
  {
   "cell_type": "code",
   "execution_count": 2,
   "id": "02462c98",
   "metadata": {},
   "outputs": [],
   "source": [
    "# pandas customization\n",
    "pd.set_option('display.precision', 2)"
   ]
  },
  {
   "cell_type": "markdown",
   "id": "c8cc489e",
   "metadata": {},
   "source": [
    "Displaying tables with borders:"
   ]
  },
  {
   "cell_type": "code",
   "execution_count": 3,
   "id": "0847cdcb",
   "metadata": {},
   "outputs": [
    {
     "data": {
      "text/html": [
       "<style type=\"text/css\">\n",
       "table.dataframe td, table.dataframe th {\n",
       "    border: 1px  black solid !important;\n",
       "  color: black !important;\n",
       "}\n",
       "</style>\n"
      ],
      "text/plain": [
       "<IPython.core.display.HTML object>"
      ]
     },
     "metadata": {},
     "output_type": "display_data"
    }
   ],
   "source": [
    "%%HTML\n",
    "<style type=\"text/css\">\n",
    "table.dataframe td, table.dataframe th {\n",
    "    border: 1px  black solid !important;\n",
    "  color: black !important;\n",
    "}\n",
    "</style>"
   ]
  },
  {
   "cell_type": "code",
   "execution_count": 4,
   "id": "f3a43b62",
   "metadata": {},
   "outputs": [],
   "source": [
    "# path\n",
    "path_to_db = '/datasets/telecomm_csi.db'"
   ]
  },
  {
   "cell_type": "code",
   "execution_count": 5,
   "id": "53463fc3",
   "metadata": {},
   "outputs": [],
   "source": [
    "# connecting\n",
    "engine = create_engine(f'sqlite:///{path_to_db}', echo = False)"
   ]
  },
  {
   "cell_type": "markdown",
   "id": "10173c86",
   "metadata": {},
   "source": [
    "In this section we need to form a dataframe, add two calculation columns - `is_new` and `nps_group`, as well as adjust the values of the `age_segment`, `traffic_segment`, `lifetime_segment` columns for greater convenience.\n",
    "\n",
    "**is_new** - this field contains information on whether the client is new. It can be determined by lifetime value. It is calculated from the time of the important event, e.g., the purchase of a SIM card. The client is considered new if the lifetime value is below 365 days.\n",
    "\n",
    "**nps_group** - this field contains information on the group to which the client score belongs. Clients are usually divided into three groups (based on scores):\n",
    "- score 9-10 - promoters;\n",
    "- score 7-8 - passives;\n",
    "- score 0-6 - detractors."
   ]
  },
  {
   "cell_type": "code",
   "execution_count": 6,
   "id": "69fbc18e",
   "metadata": {},
   "outputs": [],
   "source": [
    "# query\n",
    "query = '''SELECT  u.user_id,\n",
    "                   u.lt_day,\n",
    "                   u.age,\n",
    "                   LOWER(u.os_name) AS os_name,\n",
    "                   LOWER(u.cpe_type_name) AS cpe_type_name,\n",
    "                   u.nps_score,\n",
    "                   REPLACE(l.city, 'ё', 'е') AS city,\n",
    "                   l.country,\n",
    "                   SUBSTRING(age.title, 4, 5) AS age_segment,\n",
    "                   SUBSTRING(tr.title, 4, 5) AS traffic_segment,\n",
    "                   SUBSTRING(lt.title, 4, 5) AS lifetime_segment,\n",
    "            CASE\n",
    "                WHEN u.nps_score >= 9 THEN 'promoters'\n",
    "                WHEN u.nps_score <= 6 THEN 'detractors'\n",
    "                ELSE 'passives'\n",
    "            END AS nps_group,\n",
    "            CASE\n",
    "                WHEN u.lt_day > 365 THEN 1\n",
    "                ELSE 0\n",
    "            END AS is_new,\n",
    "            CASE\n",
    "                WHEN u.gender_segment = 0 THEN 'M'\n",
    "                ELSE 'W'\n",
    "            END AS gender_segment\n",
    "            FROM user AS u\n",
    "            INNER JOIN location AS l ON u.location_id = l.location_id\n",
    "            INNER JOIN age_segment AS age ON u.age_gr_id = age.age_gr_id\n",
    "            INNER JOIN traffic_segment AS tr ON u.tr_gr_id = tr.tr_gr_id\n",
    "            INNER JOIN lifetime_segment AS lt ON u.lt_gr_id = lt.lt_gr_id;'''"
   ]
  },
  {
   "cell_type": "code",
   "execution_count": 7,
   "id": "7c123bb3",
   "metadata": {},
   "outputs": [],
   "source": [
    "# executing query\n",
    "nps = pd.read_sql(query, engine)"
   ]
  },
  {
   "cell_type": "code",
   "execution_count": 8,
   "id": "8efc66c8",
   "metadata": {
    "scrolled": false
   },
   "outputs": [
    {
     "data": {
      "text/html": [
       "<div>\n",
       "<style scoped>\n",
       "    .dataframe tbody tr th:only-of-type {\n",
       "        vertical-align: middle;\n",
       "    }\n",
       "\n",
       "    .dataframe tbody tr th {\n",
       "        vertical-align: top;\n",
       "    }\n",
       "\n",
       "    .dataframe thead th {\n",
       "        text-align: right;\n",
       "    }\n",
       "</style>\n",
       "<table border=\"1\" class=\"dataframe\">\n",
       "  <thead>\n",
       "    <tr style=\"text-align: right;\">\n",
       "      <th></th>\n",
       "      <th>user_id</th>\n",
       "      <th>lt_day</th>\n",
       "      <th>age</th>\n",
       "      <th>os_name</th>\n",
       "      <th>cpe_type_name</th>\n",
       "      <th>nps_score</th>\n",
       "      <th>city</th>\n",
       "      <th>country</th>\n",
       "      <th>age_segment</th>\n",
       "      <th>traffic_segment</th>\n",
       "      <th>lifetime_segment</th>\n",
       "      <th>nps_group</th>\n",
       "      <th>is_new</th>\n",
       "      <th>gender_segment</th>\n",
       "    </tr>\n",
       "  </thead>\n",
       "  <tbody>\n",
       "    <tr>\n",
       "      <th>0</th>\n",
       "      <td>A001A2</td>\n",
       "      <td>2320</td>\n",
       "      <td>45.0</td>\n",
       "      <td>android</td>\n",
       "      <td>smartphone</td>\n",
       "      <td>10</td>\n",
       "      <td>Уфа</td>\n",
       "      <td>Россия</td>\n",
       "      <td>45-54</td>\n",
       "      <td>1-5</td>\n",
       "      <td>36+</td>\n",
       "      <td>promoters</td>\n",
       "      <td>1</td>\n",
       "      <td>W</td>\n",
       "    </tr>\n",
       "    <tr>\n",
       "      <th>1</th>\n",
       "      <td>A001WF</td>\n",
       "      <td>2344</td>\n",
       "      <td>53.0</td>\n",
       "      <td>android</td>\n",
       "      <td>smartphone</td>\n",
       "      <td>10</td>\n",
       "      <td>Киров</td>\n",
       "      <td>Россия</td>\n",
       "      <td>45-54</td>\n",
       "      <td>1-5</td>\n",
       "      <td>36+</td>\n",
       "      <td>promoters</td>\n",
       "      <td>1</td>\n",
       "      <td>M</td>\n",
       "    </tr>\n",
       "    <tr>\n",
       "      <th>2</th>\n",
       "      <td>A003Q7</td>\n",
       "      <td>467</td>\n",
       "      <td>57.0</td>\n",
       "      <td>android</td>\n",
       "      <td>smartphone</td>\n",
       "      <td>10</td>\n",
       "      <td>Москва</td>\n",
       "      <td>Россия</td>\n",
       "      <td>55-64</td>\n",
       "      <td>20-25</td>\n",
       "      <td>13-24</td>\n",
       "      <td>promoters</td>\n",
       "      <td>1</td>\n",
       "      <td>M</td>\n",
       "    </tr>\n",
       "    <tr>\n",
       "      <th>3</th>\n",
       "      <td>A004TB</td>\n",
       "      <td>4190</td>\n",
       "      <td>44.0</td>\n",
       "      <td>ios</td>\n",
       "      <td>smartphone</td>\n",
       "      <td>10</td>\n",
       "      <td>РостовнаДону</td>\n",
       "      <td>Россия</td>\n",
       "      <td>35-44</td>\n",
       "      <td>0.1-1</td>\n",
       "      <td>36+</td>\n",
       "      <td>promoters</td>\n",
       "      <td>1</td>\n",
       "      <td>W</td>\n",
       "    </tr>\n",
       "    <tr>\n",
       "      <th>4</th>\n",
       "      <td>A004XT</td>\n",
       "      <td>1163</td>\n",
       "      <td>24.0</td>\n",
       "      <td>android</td>\n",
       "      <td>smartphone</td>\n",
       "      <td>10</td>\n",
       "      <td>Рязань</td>\n",
       "      <td>Россия</td>\n",
       "      <td>16-24</td>\n",
       "      <td>5-10</td>\n",
       "      <td>36+</td>\n",
       "      <td>promoters</td>\n",
       "      <td>1</td>\n",
       "      <td>M</td>\n",
       "    </tr>\n",
       "  </tbody>\n",
       "</table>\n",
       "</div>"
      ],
      "text/plain": [
       "  user_id  lt_day   age  os_name cpe_type_name  nps_score          city  \\\n",
       "0  A001A2    2320  45.0  android    smartphone         10           Уфа   \n",
       "1  A001WF    2344  53.0  android    smartphone         10         Киров   \n",
       "2  A003Q7     467  57.0  android    smartphone         10        Москва   \n",
       "3  A004TB    4190  44.0      ios    smartphone         10  РостовнаДону   \n",
       "4  A004XT    1163  24.0  android    smartphone         10        Рязань   \n",
       "\n",
       "  country age_segment traffic_segment lifetime_segment  nps_group  is_new  \\\n",
       "0  Россия       45-54             1-5              36+  promoters       1   \n",
       "1  Россия       45-54             1-5              36+  promoters       1   \n",
       "2  Россия       55-64           20-25            13-24  promoters       1   \n",
       "3  Россия       35-44           0.1-1              36+  promoters       1   \n",
       "4  Россия       16-24            5-10              36+  promoters       1   \n",
       "\n",
       "  gender_segment  \n",
       "0              W  \n",
       "1              M  \n",
       "2              M  \n",
       "3              W  \n",
       "4              M  "
      ]
     },
     "execution_count": 8,
     "metadata": {},
     "output_type": "execute_result"
    }
   ],
   "source": [
    "# check\n",
    "nps.head(5)"
   ]
  },
  {
   "cell_type": "code",
   "execution_count": 9,
   "id": "282cf845",
   "metadata": {},
   "outputs": [],
   "source": [
    "# translation manipulations\n",
    "d = {}\n",
    "translations = translator.translate(list(nps.city.unique()), dest='en')\n",
    "for translation in translations:\n",
    "    d[translation.origin] = translation.text\n",
    "nps.replace({'city': d}, inplace=True)\n",
    "nps['country'].replace({'Россия':'Russia'}, inplace=True)"
   ]
  },
  {
   "cell_type": "markdown",
   "id": "294dcdb9",
   "metadata": {},
   "source": [
    "# General information"
   ]
  },
  {
   "cell_type": "code",
   "execution_count": 10,
   "id": "75548c21",
   "metadata": {},
   "outputs": [],
   "source": [
    "# primary data analysis function\n",
    "def get_info(df):\n",
    "    '''The function takes a dataframe as an input and provides general information about it: its shape (rows, columns),\n",
    "    columns data type, number of non-null values (DataFrame.info()), first\\last five rows (DataFrame.head()\\tail()) and also a\n",
    "    brief analysis for categorical and numerical data - DataFrame.describe().'''\n",
    "    percentiles= [.20, .40, .60, .80]\n",
    "    include=['object', 'float', 'int']\n",
    "    print(f'Total number of rows: {df.shape[0]}, total number of columns: {df.shape[1]}.')\n",
    "    print()\n",
    "    print(df.info())\n",
    "    display(df.head())\n",
    "    display(df.tail())\n",
    "    display(pd.DataFrame(df.describe(percentiles = percentiles, include = include).T))"
   ]
  },
  {
   "cell_type": "code",
   "execution_count": 11,
   "id": "7a2af6ff",
   "metadata": {
    "scrolled": false
   },
   "outputs": [
    {
     "name": "stdout",
     "output_type": "stream",
     "text": [
      "Total number of rows: 502493, total number of columns: 14.\n",
      "\n",
      "<class 'pandas.core.frame.DataFrame'>\n",
      "RangeIndex: 502493 entries, 0 to 502492\n",
      "Data columns (total 14 columns):\n",
      " #   Column            Non-Null Count   Dtype  \n",
      "---  ------            --------------   -----  \n",
      " 0   user_id           502493 non-null  object \n",
      " 1   lt_day            502493 non-null  int64  \n",
      " 2   age               501939 non-null  float64\n",
      " 3   os_name           502493 non-null  object \n",
      " 4   cpe_type_name     502493 non-null  object \n",
      " 5   nps_score         502493 non-null  int64  \n",
      " 6   city              502493 non-null  object \n",
      " 7   country           502493 non-null  object \n",
      " 8   age_segment       502493 non-null  object \n",
      " 9   traffic_segment   502493 non-null  object \n",
      " 10  lifetime_segment  502493 non-null  object \n",
      " 11  nps_group         502493 non-null  object \n",
      " 12  is_new            502493 non-null  int64  \n",
      " 13  gender_segment    502493 non-null  object \n",
      "dtypes: float64(1), int64(3), object(10)\n",
      "memory usage: 53.7+ MB\n",
      "None\n"
     ]
    },
    {
     "data": {
      "text/html": [
       "<div>\n",
       "<style scoped>\n",
       "    .dataframe tbody tr th:only-of-type {\n",
       "        vertical-align: middle;\n",
       "    }\n",
       "\n",
       "    .dataframe tbody tr th {\n",
       "        vertical-align: top;\n",
       "    }\n",
       "\n",
       "    .dataframe thead th {\n",
       "        text-align: right;\n",
       "    }\n",
       "</style>\n",
       "<table border=\"1\" class=\"dataframe\">\n",
       "  <thead>\n",
       "    <tr style=\"text-align: right;\">\n",
       "      <th></th>\n",
       "      <th>user_id</th>\n",
       "      <th>lt_day</th>\n",
       "      <th>age</th>\n",
       "      <th>os_name</th>\n",
       "      <th>cpe_type_name</th>\n",
       "      <th>nps_score</th>\n",
       "      <th>city</th>\n",
       "      <th>country</th>\n",
       "      <th>age_segment</th>\n",
       "      <th>traffic_segment</th>\n",
       "      <th>lifetime_segment</th>\n",
       "      <th>nps_group</th>\n",
       "      <th>is_new</th>\n",
       "      <th>gender_segment</th>\n",
       "    </tr>\n",
       "  </thead>\n",
       "  <tbody>\n",
       "    <tr>\n",
       "      <th>0</th>\n",
       "      <td>A001A2</td>\n",
       "      <td>2320</td>\n",
       "      <td>45.0</td>\n",
       "      <td>android</td>\n",
       "      <td>smartphone</td>\n",
       "      <td>10</td>\n",
       "      <td>Ufa</td>\n",
       "      <td>Russia</td>\n",
       "      <td>45-54</td>\n",
       "      <td>1-5</td>\n",
       "      <td>36+</td>\n",
       "      <td>promoters</td>\n",
       "      <td>1</td>\n",
       "      <td>W</td>\n",
       "    </tr>\n",
       "    <tr>\n",
       "      <th>1</th>\n",
       "      <td>A001WF</td>\n",
       "      <td>2344</td>\n",
       "      <td>53.0</td>\n",
       "      <td>android</td>\n",
       "      <td>smartphone</td>\n",
       "      <td>10</td>\n",
       "      <td>Kirov</td>\n",
       "      <td>Russia</td>\n",
       "      <td>45-54</td>\n",
       "      <td>1-5</td>\n",
       "      <td>36+</td>\n",
       "      <td>promoters</td>\n",
       "      <td>1</td>\n",
       "      <td>M</td>\n",
       "    </tr>\n",
       "    <tr>\n",
       "      <th>2</th>\n",
       "      <td>A003Q7</td>\n",
       "      <td>467</td>\n",
       "      <td>57.0</td>\n",
       "      <td>android</td>\n",
       "      <td>smartphone</td>\n",
       "      <td>10</td>\n",
       "      <td>Moscow</td>\n",
       "      <td>Russia</td>\n",
       "      <td>55-64</td>\n",
       "      <td>20-25</td>\n",
       "      <td>13-24</td>\n",
       "      <td>promoters</td>\n",
       "      <td>1</td>\n",
       "      <td>M</td>\n",
       "    </tr>\n",
       "    <tr>\n",
       "      <th>3</th>\n",
       "      <td>A004TB</td>\n",
       "      <td>4190</td>\n",
       "      <td>44.0</td>\n",
       "      <td>ios</td>\n",
       "      <td>smartphone</td>\n",
       "      <td>10</td>\n",
       "      <td>Rostovna Donu</td>\n",
       "      <td>Russia</td>\n",
       "      <td>35-44</td>\n",
       "      <td>0.1-1</td>\n",
       "      <td>36+</td>\n",
       "      <td>promoters</td>\n",
       "      <td>1</td>\n",
       "      <td>W</td>\n",
       "    </tr>\n",
       "    <tr>\n",
       "      <th>4</th>\n",
       "      <td>A004XT</td>\n",
       "      <td>1163</td>\n",
       "      <td>24.0</td>\n",
       "      <td>android</td>\n",
       "      <td>smartphone</td>\n",
       "      <td>10</td>\n",
       "      <td>Ryazan</td>\n",
       "      <td>Russia</td>\n",
       "      <td>16-24</td>\n",
       "      <td>5-10</td>\n",
       "      <td>36+</td>\n",
       "      <td>promoters</td>\n",
       "      <td>1</td>\n",
       "      <td>M</td>\n",
       "    </tr>\n",
       "  </tbody>\n",
       "</table>\n",
       "</div>"
      ],
      "text/plain": [
       "  user_id  lt_day   age  os_name cpe_type_name  nps_score           city  \\\n",
       "0  A001A2    2320  45.0  android    smartphone         10            Ufa   \n",
       "1  A001WF    2344  53.0  android    smartphone         10          Kirov   \n",
       "2  A003Q7     467  57.0  android    smartphone         10         Moscow   \n",
       "3  A004TB    4190  44.0      ios    smartphone         10  Rostovna Donu   \n",
       "4  A004XT    1163  24.0  android    smartphone         10         Ryazan   \n",
       "\n",
       "  country age_segment traffic_segment lifetime_segment  nps_group  is_new  \\\n",
       "0  Russia       45-54             1-5              36+  promoters       1   \n",
       "1  Russia       45-54             1-5              36+  promoters       1   \n",
       "2  Russia       55-64           20-25            13-24  promoters       1   \n",
       "3  Russia       35-44           0.1-1              36+  promoters       1   \n",
       "4  Russia       16-24            5-10              36+  promoters       1   \n",
       "\n",
       "  gender_segment  \n",
       "0              W  \n",
       "1              M  \n",
       "2              M  \n",
       "3              W  \n",
       "4              M  "
      ]
     },
     "metadata": {},
     "output_type": "display_data"
    },
    {
     "data": {
      "text/html": [
       "<div>\n",
       "<style scoped>\n",
       "    .dataframe tbody tr th:only-of-type {\n",
       "        vertical-align: middle;\n",
       "    }\n",
       "\n",
       "    .dataframe tbody tr th {\n",
       "        vertical-align: top;\n",
       "    }\n",
       "\n",
       "    .dataframe thead th {\n",
       "        text-align: right;\n",
       "    }\n",
       "</style>\n",
       "<table border=\"1\" class=\"dataframe\">\n",
       "  <thead>\n",
       "    <tr style=\"text-align: right;\">\n",
       "      <th></th>\n",
       "      <th>user_id</th>\n",
       "      <th>lt_day</th>\n",
       "      <th>age</th>\n",
       "      <th>os_name</th>\n",
       "      <th>cpe_type_name</th>\n",
       "      <th>nps_score</th>\n",
       "      <th>city</th>\n",
       "      <th>country</th>\n",
       "      <th>age_segment</th>\n",
       "      <th>traffic_segment</th>\n",
       "      <th>lifetime_segment</th>\n",
       "      <th>nps_group</th>\n",
       "      <th>is_new</th>\n",
       "      <th>gender_segment</th>\n",
       "    </tr>\n",
       "  </thead>\n",
       "  <tbody>\n",
       "    <tr>\n",
       "      <th>502488</th>\n",
       "      <td>ZZZKLD</td>\n",
       "      <td>1249</td>\n",
       "      <td>54.0</td>\n",
       "      <td>android</td>\n",
       "      <td>smartphone</td>\n",
       "      <td>5</td>\n",
       "      <td>Moscow</td>\n",
       "      <td>Russia</td>\n",
       "      <td>45-54</td>\n",
       "      <td>1-5</td>\n",
       "      <td>36+</td>\n",
       "      <td>detractors</td>\n",
       "      <td>1</td>\n",
       "      <td>W</td>\n",
       "    </tr>\n",
       "    <tr>\n",
       "      <th>502489</th>\n",
       "      <td>ZZZLWY</td>\n",
       "      <td>129</td>\n",
       "      <td>31.0</td>\n",
       "      <td>android</td>\n",
       "      <td>smartphone</td>\n",
       "      <td>8</td>\n",
       "      <td>Moscow</td>\n",
       "      <td>Russia</td>\n",
       "      <td>25-34</td>\n",
       "      <td>1-5</td>\n",
       "      <td>4-6</td>\n",
       "      <td>passives</td>\n",
       "      <td>0</td>\n",
       "      <td>M</td>\n",
       "    </tr>\n",
       "    <tr>\n",
       "      <th>502490</th>\n",
       "      <td>ZZZQ5F</td>\n",
       "      <td>522</td>\n",
       "      <td>36.0</td>\n",
       "      <td>android</td>\n",
       "      <td>smartphone</td>\n",
       "      <td>10</td>\n",
       "      <td>Surgut</td>\n",
       "      <td>Russia</td>\n",
       "      <td>35-44</td>\n",
       "      <td>25-30</td>\n",
       "      <td>13-24</td>\n",
       "      <td>promoters</td>\n",
       "      <td>1</td>\n",
       "      <td>M</td>\n",
       "    </tr>\n",
       "    <tr>\n",
       "      <th>502491</th>\n",
       "      <td>ZZZQ8E</td>\n",
       "      <td>2936</td>\n",
       "      <td>37.0</td>\n",
       "      <td>android</td>\n",
       "      <td>smartphone</td>\n",
       "      <td>9</td>\n",
       "      <td>UlanUde</td>\n",
       "      <td>Russia</td>\n",
       "      <td>35-44</td>\n",
       "      <td>65-70</td>\n",
       "      <td>36+</td>\n",
       "      <td>promoters</td>\n",
       "      <td>1</td>\n",
       "      <td>W</td>\n",
       "    </tr>\n",
       "    <tr>\n",
       "      <th>502492</th>\n",
       "      <td>ZZZYH0</td>\n",
       "      <td>2471</td>\n",
       "      <td>37.0</td>\n",
       "      <td>ios</td>\n",
       "      <td>smartphone</td>\n",
       "      <td>2</td>\n",
       "      <td>Samara</td>\n",
       "      <td>Russia</td>\n",
       "      <td>35-44</td>\n",
       "      <td>10-15</td>\n",
       "      <td>36+</td>\n",
       "      <td>detractors</td>\n",
       "      <td>1</td>\n",
       "      <td>M</td>\n",
       "    </tr>\n",
       "  </tbody>\n",
       "</table>\n",
       "</div>"
      ],
      "text/plain": [
       "       user_id  lt_day   age  os_name cpe_type_name  nps_score     city  \\\n",
       "502488  ZZZKLD    1249  54.0  android    smartphone          5   Moscow   \n",
       "502489  ZZZLWY     129  31.0  android    smartphone          8   Moscow   \n",
       "502490  ZZZQ5F     522  36.0  android    smartphone         10   Surgut   \n",
       "502491  ZZZQ8E    2936  37.0  android    smartphone          9  UlanUde   \n",
       "502492  ZZZYH0    2471  37.0      ios    smartphone          2   Samara   \n",
       "\n",
       "       country age_segment traffic_segment lifetime_segment   nps_group  \\\n",
       "502488  Russia       45-54             1-5              36+  detractors   \n",
       "502489  Russia       25-34             1-5              4-6    passives   \n",
       "502490  Russia       35-44           25-30            13-24   promoters   \n",
       "502491  Russia       35-44           65-70              36+   promoters   \n",
       "502492  Russia       35-44           10-15              36+  detractors   \n",
       "\n",
       "        is_new gender_segment  \n",
       "502488       1              W  \n",
       "502489       0              M  \n",
       "502490       1              M  \n",
       "502491       1              W  \n",
       "502492       1              M  "
      ]
     },
     "metadata": {},
     "output_type": "display_data"
    },
    {
     "data": {
      "text/html": [
       "<div>\n",
       "<style scoped>\n",
       "    .dataframe tbody tr th:only-of-type {\n",
       "        vertical-align: middle;\n",
       "    }\n",
       "\n",
       "    .dataframe tbody tr th {\n",
       "        vertical-align: top;\n",
       "    }\n",
       "\n",
       "    .dataframe thead th {\n",
       "        text-align: right;\n",
       "    }\n",
       "</style>\n",
       "<table border=\"1\" class=\"dataframe\">\n",
       "  <thead>\n",
       "    <tr style=\"text-align: right;\">\n",
       "      <th></th>\n",
       "      <th>count</th>\n",
       "      <th>unique</th>\n",
       "      <th>top</th>\n",
       "      <th>freq</th>\n",
       "      <th>mean</th>\n",
       "      <th>std</th>\n",
       "      <th>min</th>\n",
       "      <th>20%</th>\n",
       "      <th>40%</th>\n",
       "      <th>50%</th>\n",
       "      <th>60%</th>\n",
       "      <th>80%</th>\n",
       "      <th>max</th>\n",
       "    </tr>\n",
       "  </thead>\n",
       "  <tbody>\n",
       "    <tr>\n",
       "      <th>user_id</th>\n",
       "      <td>502493</td>\n",
       "      <td>502493</td>\n",
       "      <td>C5MG7S</td>\n",
       "      <td>1</td>\n",
       "      <td>NaN</td>\n",
       "      <td>NaN</td>\n",
       "      <td>NaN</td>\n",
       "      <td>NaN</td>\n",
       "      <td>NaN</td>\n",
       "      <td>NaN</td>\n",
       "      <td>NaN</td>\n",
       "      <td>NaN</td>\n",
       "      <td>NaN</td>\n",
       "    </tr>\n",
       "    <tr>\n",
       "      <th>lt_day</th>\n",
       "      <td>502493.0</td>\n",
       "      <td>NaN</td>\n",
       "      <td>NaN</td>\n",
       "      <td>NaN</td>\n",
       "      <td>1868.84</td>\n",
       "      <td>1683.7</td>\n",
       "      <td>-21.0</td>\n",
       "      <td>428.0</td>\n",
       "      <td>904.0</td>\n",
       "      <td>1239.0</td>\n",
       "      <td>1623.0</td>\n",
       "      <td>3616.0</td>\n",
       "      <td>9162.0</td>\n",
       "    </tr>\n",
       "    <tr>\n",
       "      <th>age</th>\n",
       "      <td>501939.0</td>\n",
       "      <td>NaN</td>\n",
       "      <td>NaN</td>\n",
       "      <td>NaN</td>\n",
       "      <td>39.62</td>\n",
       "      <td>11.19</td>\n",
       "      <td>10.0</td>\n",
       "      <td>30.0</td>\n",
       "      <td>35.0</td>\n",
       "      <td>38.0</td>\n",
       "      <td>41.0</td>\n",
       "      <td>49.0</td>\n",
       "      <td>89.0</td>\n",
       "    </tr>\n",
       "    <tr>\n",
       "      <th>os_name</th>\n",
       "      <td>502493</td>\n",
       "      <td>9</td>\n",
       "      <td>android</td>\n",
       "      <td>435981</td>\n",
       "      <td>NaN</td>\n",
       "      <td>NaN</td>\n",
       "      <td>NaN</td>\n",
       "      <td>NaN</td>\n",
       "      <td>NaN</td>\n",
       "      <td>NaN</td>\n",
       "      <td>NaN</td>\n",
       "      <td>NaN</td>\n",
       "      <td>NaN</td>\n",
       "    </tr>\n",
       "    <tr>\n",
       "      <th>cpe_type_name</th>\n",
       "      <td>502493</td>\n",
       "      <td>14</td>\n",
       "      <td>smartphone</td>\n",
       "      <td>487959</td>\n",
       "      <td>NaN</td>\n",
       "      <td>NaN</td>\n",
       "      <td>NaN</td>\n",
       "      <td>NaN</td>\n",
       "      <td>NaN</td>\n",
       "      <td>NaN</td>\n",
       "      <td>NaN</td>\n",
       "      <td>NaN</td>\n",
       "      <td>NaN</td>\n",
       "    </tr>\n",
       "    <tr>\n",
       "      <th>nps_score</th>\n",
       "      <td>502493.0</td>\n",
       "      <td>NaN</td>\n",
       "      <td>NaN</td>\n",
       "      <td>NaN</td>\n",
       "      <td>7.51</td>\n",
       "      <td>3.02</td>\n",
       "      <td>1.0</td>\n",
       "      <td>5.0</td>\n",
       "      <td>8.0</td>\n",
       "      <td>9.0</td>\n",
       "      <td>10.0</td>\n",
       "      <td>10.0</td>\n",
       "      <td>10.0</td>\n",
       "    </tr>\n",
       "    <tr>\n",
       "      <th>city</th>\n",
       "      <td>502493</td>\n",
       "      <td>62</td>\n",
       "      <td>Moscow</td>\n",
       "      <td>66160</td>\n",
       "      <td>NaN</td>\n",
       "      <td>NaN</td>\n",
       "      <td>NaN</td>\n",
       "      <td>NaN</td>\n",
       "      <td>NaN</td>\n",
       "      <td>NaN</td>\n",
       "      <td>NaN</td>\n",
       "      <td>NaN</td>\n",
       "      <td>NaN</td>\n",
       "    </tr>\n",
       "    <tr>\n",
       "      <th>country</th>\n",
       "      <td>502493</td>\n",
       "      <td>1</td>\n",
       "      <td>Russia</td>\n",
       "      <td>502493</td>\n",
       "      <td>NaN</td>\n",
       "      <td>NaN</td>\n",
       "      <td>NaN</td>\n",
       "      <td>NaN</td>\n",
       "      <td>NaN</td>\n",
       "      <td>NaN</td>\n",
       "      <td>NaN</td>\n",
       "      <td>NaN</td>\n",
       "      <td>NaN</td>\n",
       "    </tr>\n",
       "    <tr>\n",
       "      <th>age_segment</th>\n",
       "      <td>502493</td>\n",
       "      <td>8</td>\n",
       "      <td>35-44</td>\n",
       "      <td>165933</td>\n",
       "      <td>NaN</td>\n",
       "      <td>NaN</td>\n",
       "      <td>NaN</td>\n",
       "      <td>NaN</td>\n",
       "      <td>NaN</td>\n",
       "      <td>NaN</td>\n",
       "      <td>NaN</td>\n",
       "      <td>NaN</td>\n",
       "      <td>NaN</td>\n",
       "    </tr>\n",
       "    <tr>\n",
       "      <th>traffic_segment</th>\n",
       "      <td>502493</td>\n",
       "      <td>25</td>\n",
       "      <td>1-5</td>\n",
       "      <td>112649</td>\n",
       "      <td>NaN</td>\n",
       "      <td>NaN</td>\n",
       "      <td>NaN</td>\n",
       "      <td>NaN</td>\n",
       "      <td>NaN</td>\n",
       "      <td>NaN</td>\n",
       "      <td>NaN</td>\n",
       "      <td>NaN</td>\n",
       "      <td>NaN</td>\n",
       "    </tr>\n",
       "    <tr>\n",
       "      <th>lifetime_segment</th>\n",
       "      <td>502493</td>\n",
       "      <td>8</td>\n",
       "      <td>36+</td>\n",
       "      <td>274299</td>\n",
       "      <td>NaN</td>\n",
       "      <td>NaN</td>\n",
       "      <td>NaN</td>\n",
       "      <td>NaN</td>\n",
       "      <td>NaN</td>\n",
       "      <td>NaN</td>\n",
       "      <td>NaN</td>\n",
       "      <td>NaN</td>\n",
       "      <td>NaN</td>\n",
       "    </tr>\n",
       "    <tr>\n",
       "      <th>nps_group</th>\n",
       "      <td>502493</td>\n",
       "      <td>3</td>\n",
       "      <td>promoters</td>\n",
       "      <td>264081</td>\n",
       "      <td>NaN</td>\n",
       "      <td>NaN</td>\n",
       "      <td>NaN</td>\n",
       "      <td>NaN</td>\n",
       "      <td>NaN</td>\n",
       "      <td>NaN</td>\n",
       "      <td>NaN</td>\n",
       "      <td>NaN</td>\n",
       "      <td>NaN</td>\n",
       "    </tr>\n",
       "    <tr>\n",
       "      <th>is_new</th>\n",
       "      <td>502493.0</td>\n",
       "      <td>NaN</td>\n",
       "      <td>NaN</td>\n",
       "      <td>NaN</td>\n",
       "      <td>0.83</td>\n",
       "      <td>0.38</td>\n",
       "      <td>0.0</td>\n",
       "      <td>1.0</td>\n",
       "      <td>1.0</td>\n",
       "      <td>1.0</td>\n",
       "      <td>1.0</td>\n",
       "      <td>1.0</td>\n",
       "      <td>1.0</td>\n",
       "    </tr>\n",
       "    <tr>\n",
       "      <th>gender_segment</th>\n",
       "      <td>502493</td>\n",
       "      <td>2</td>\n",
       "      <td>W</td>\n",
       "      <td>273743</td>\n",
       "      <td>NaN</td>\n",
       "      <td>NaN</td>\n",
       "      <td>NaN</td>\n",
       "      <td>NaN</td>\n",
       "      <td>NaN</td>\n",
       "      <td>NaN</td>\n",
       "      <td>NaN</td>\n",
       "      <td>NaN</td>\n",
       "      <td>NaN</td>\n",
       "    </tr>\n",
       "  </tbody>\n",
       "</table>\n",
       "</div>"
      ],
      "text/plain": [
       "                     count  unique         top    freq     mean     std   min  \\\n",
       "user_id             502493  502493      C5MG7S       1      NaN     NaN   NaN   \n",
       "lt_day            502493.0     NaN         NaN     NaN  1868.84  1683.7 -21.0   \n",
       "age               501939.0     NaN         NaN     NaN    39.62   11.19  10.0   \n",
       "os_name             502493       9     android  435981      NaN     NaN   NaN   \n",
       "cpe_type_name       502493      14  smartphone  487959      NaN     NaN   NaN   \n",
       "nps_score         502493.0     NaN         NaN     NaN     7.51    3.02   1.0   \n",
       "city                502493      62      Moscow   66160      NaN     NaN   NaN   \n",
       "country             502493       1      Russia  502493      NaN     NaN   NaN   \n",
       "age_segment         502493       8       35-44  165933      NaN     NaN   NaN   \n",
       "traffic_segment     502493      25         1-5  112649      NaN     NaN   NaN   \n",
       "lifetime_segment    502493       8         36+  274299      NaN     NaN   NaN   \n",
       "nps_group           502493       3   promoters  264081      NaN     NaN   NaN   \n",
       "is_new            502493.0     NaN         NaN     NaN     0.83    0.38   0.0   \n",
       "gender_segment      502493       2           W  273743      NaN     NaN   NaN   \n",
       "\n",
       "                    20%    40%     50%     60%     80%     max  \n",
       "user_id             NaN    NaN     NaN     NaN     NaN     NaN  \n",
       "lt_day            428.0  904.0  1239.0  1623.0  3616.0  9162.0  \n",
       "age                30.0   35.0    38.0    41.0    49.0    89.0  \n",
       "os_name             NaN    NaN     NaN     NaN     NaN     NaN  \n",
       "cpe_type_name       NaN    NaN     NaN     NaN     NaN     NaN  \n",
       "nps_score           5.0    8.0     9.0    10.0    10.0    10.0  \n",
       "city                NaN    NaN     NaN     NaN     NaN     NaN  \n",
       "country             NaN    NaN     NaN     NaN     NaN     NaN  \n",
       "age_segment         NaN    NaN     NaN     NaN     NaN     NaN  \n",
       "traffic_segment     NaN    NaN     NaN     NaN     NaN     NaN  \n",
       "lifetime_segment    NaN    NaN     NaN     NaN     NaN     NaN  \n",
       "nps_group           NaN    NaN     NaN     NaN     NaN     NaN  \n",
       "is_new              1.0    1.0     1.0     1.0     1.0     1.0  \n",
       "gender_segment      NaN    NaN     NaN     NaN     NaN     NaN  "
      ]
     },
     "metadata": {},
     "output_type": "display_data"
    }
   ],
   "source": [
    "# applying function\n",
    "get_info(nps)"
   ]
  },
  {
   "cell_type": "code",
   "execution_count": 12,
   "id": "dc304d17",
   "metadata": {
    "scrolled": true
   },
   "outputs": [
    {
     "data": {
      "image/png": "[encoded data removed]",
      "text/plain": [
       "<Figure size 432x288 with 2 Axes>"
      ]
     },
     "metadata": {
      "needs_background": "light"
     },
     "output_type": "display_data"
    }
   ],
   "source": [
    "# missing values heatmap (yellow - NaN)\n",
    "cols = nps.columns\n",
    "colours = ['#000099', '#ffff00']\n",
    "sns.heatmap(nps[cols].isnull(), cmap=sns.color_palette(colours));"
   ]
  },
  {
   "cell_type": "markdown",
   "id": "f54837f0",
   "metadata": {},
   "source": [
    "There dataframe has 14 columns (2 of them - type float64, 3 - int64\\int32, 9 - object) and 502493 rows.   \n",
    "\n",
    "**According to the documentation:**\n",
    "- `user_id` - unique client ID;\n",
    "- `lt_day` - lifetime value;\n",
    "- `age` - age;\n",
    "- `gender_segment` - gender (W - female, M - male);\n",
    "- `os_name` - operating system;\n",
    "- `cpe_type_name` - device type;\n",
    "- `nps_score` - client score (from 1 to 10);\n",
    "- `country` - client country;\n",
    "- `city` - client city;\n",
    "- `age_segment` - age group;\n",
    "- `traffic_segment` - group by traffic consumed;\n",
    "- `lifetime_segment` - lifetime group;\n",
    "- `is_new` - information on whether the client is new (0 - no, 1 - yes);\n",
    "- `nps_group` - information on the group to which the client score belongs;\n",
    "\n",
    "**Brief data analysis:**\n",
    "- there are no column names issues;\n",
    "- `user_id` column - all values are unique;\n",
    "- data type issues: `age` - float64 (int is needed);\n",
    "- missing values in `age` column; \n",
    "- `os_name`, `cpe_type_name`, `city`, `age_segment`, `traffic_segment`, `lifetime_segment` - we'll check columns for duplicates, convert categorical data to lowercase;"
   ]
  },
  {
   "cell_type": "markdown",
   "id": "3eb29ad8",
   "metadata": {},
   "source": [
    "## Interim conclusions\n",
    "\n",
    "Each row of the table contains data about a unique user: score, age, sex, type of device and OS, location, lifetime. Score, age, traffic and lifetime are categorized for easy analysis. 502,493 users have participated. They are all from Russia (66160 of them from Moscow). It is arguable that this amount is sufficient for the analysis."
   ]
  },
  {
   "cell_type": "markdown",
   "id": "6cb7c6b0",
   "metadata": {},
   "source": [
    "# Data preprocessing"
   ]
  },
  {
   "cell_type": "markdown",
   "id": "e06ed164",
   "metadata": {},
   "source": [
    "## Missing values processing"
   ]
  },
  {
   "cell_type": "code",
   "execution_count": 13,
   "id": "6b5be542",
   "metadata": {
    "scrolled": false
   },
   "outputs": [
    {
     "data": {
      "text/html": [
       "<style  type=\"text/css\" >\n",
       "#T_01f68_row0_col0,#T_01f68_row0_col1,#T_01f68_row1_col0,#T_01f68_row1_col1,#T_01f68_row3_col0,#T_01f68_row3_col1,#T_01f68_row4_col0,#T_01f68_row4_col1,#T_01f68_row5_col0,#T_01f68_row5_col1,#T_01f68_row6_col0,#T_01f68_row6_col1,#T_01f68_row7_col0,#T_01f68_row7_col1,#T_01f68_row8_col0,#T_01f68_row8_col1,#T_01f68_row9_col0,#T_01f68_row9_col1,#T_01f68_row10_col0,#T_01f68_row10_col1,#T_01f68_row11_col0,#T_01f68_row11_col1,#T_01f68_row12_col0,#T_01f68_row12_col1,#T_01f68_row13_col0,#T_01f68_row13_col1{\n",
       "            background-color:  #3b4cc0;\n",
       "            color:  #f1f1f1;\n",
       "        }#T_01f68_row2_col0,#T_01f68_row2_col1{\n",
       "            background-color:  #b40426;\n",
       "            color:  #f1f1f1;\n",
       "        }</style><table id=\"T_01f68_\" ><thead>    <tr>        <th class=\"blank level0\" ></th>        <th class=\"col_heading level0 col0\" >missing_values</th>        <th class=\"col_heading level0 col1\" >% of total</th>    </tr></thead><tbody>\n",
       "                <tr>\n",
       "                        <th id=\"T_01f68_level0_row0\" class=\"row_heading level0 row0\" >user_id</th>\n",
       "                        <td id=\"T_01f68_row0_col0\" class=\"data row0 col0\" >0</td>\n",
       "                        <td id=\"T_01f68_row0_col1\" class=\"data row0 col1\" >0.00</td>\n",
       "            </tr>\n",
       "            <tr>\n",
       "                        <th id=\"T_01f68_level0_row1\" class=\"row_heading level0 row1\" >lt_day</th>\n",
       "                        <td id=\"T_01f68_row1_col0\" class=\"data row1 col0\" >0</td>\n",
       "                        <td id=\"T_01f68_row1_col1\" class=\"data row1 col1\" >0.00</td>\n",
       "            </tr>\n",
       "            <tr>\n",
       "                        <th id=\"T_01f68_level0_row2\" class=\"row_heading level0 row2\" >age</th>\n",
       "                        <td id=\"T_01f68_row2_col0\" class=\"data row2 col0\" >554</td>\n",
       "                        <td id=\"T_01f68_row2_col1\" class=\"data row2 col1\" >0.11</td>\n",
       "            </tr>\n",
       "            <tr>\n",
       "                        <th id=\"T_01f68_level0_row3\" class=\"row_heading level0 row3\" >os_name</th>\n",
       "                        <td id=\"T_01f68_row3_col0\" class=\"data row3 col0\" >0</td>\n",
       "                        <td id=\"T_01f68_row3_col1\" class=\"data row3 col1\" >0.00</td>\n",
       "            </tr>\n",
       "            <tr>\n",
       "                        <th id=\"T_01f68_level0_row4\" class=\"row_heading level0 row4\" >cpe_type_name</th>\n",
       "                        <td id=\"T_01f68_row4_col0\" class=\"data row4 col0\" >0</td>\n",
       "                        <td id=\"T_01f68_row4_col1\" class=\"data row4 col1\" >0.00</td>\n",
       "            </tr>\n",
       "            <tr>\n",
       "                        <th id=\"T_01f68_level0_row5\" class=\"row_heading level0 row5\" >nps_score</th>\n",
       "                        <td id=\"T_01f68_row5_col0\" class=\"data row5 col0\" >0</td>\n",
       "                        <td id=\"T_01f68_row5_col1\" class=\"data row5 col1\" >0.00</td>\n",
       "            </tr>\n",
       "            <tr>\n",
       "                        <th id=\"T_01f68_level0_row6\" class=\"row_heading level0 row6\" >city</th>\n",
       "                        <td id=\"T_01f68_row6_col0\" class=\"data row6 col0\" >0</td>\n",
       "                        <td id=\"T_01f68_row6_col1\" class=\"data row6 col1\" >0.00</td>\n",
       "            </tr>\n",
       "            <tr>\n",
       "                        <th id=\"T_01f68_level0_row7\" class=\"row_heading level0 row7\" >country</th>\n",
       "                        <td id=\"T_01f68_row7_col0\" class=\"data row7 col0\" >0</td>\n",
       "                        <td id=\"T_01f68_row7_col1\" class=\"data row7 col1\" >0.00</td>\n",
       "            </tr>\n",
       "            <tr>\n",
       "                        <th id=\"T_01f68_level0_row8\" class=\"row_heading level0 row8\" >age_segment</th>\n",
       "                        <td id=\"T_01f68_row8_col0\" class=\"data row8 col0\" >0</td>\n",
       "                        <td id=\"T_01f68_row8_col1\" class=\"data row8 col1\" >0.00</td>\n",
       "            </tr>\n",
       "            <tr>\n",
       "                        <th id=\"T_01f68_level0_row9\" class=\"row_heading level0 row9\" >traffic_segment</th>\n",
       "                        <td id=\"T_01f68_row9_col0\" class=\"data row9 col0\" >0</td>\n",
       "                        <td id=\"T_01f68_row9_col1\" class=\"data row9 col1\" >0.00</td>\n",
       "            </tr>\n",
       "            <tr>\n",
       "                        <th id=\"T_01f68_level0_row10\" class=\"row_heading level0 row10\" >lifetime_segment</th>\n",
       "                        <td id=\"T_01f68_row10_col0\" class=\"data row10 col0\" >0</td>\n",
       "                        <td id=\"T_01f68_row10_col1\" class=\"data row10 col1\" >0.00</td>\n",
       "            </tr>\n",
       "            <tr>\n",
       "                        <th id=\"T_01f68_level0_row11\" class=\"row_heading level0 row11\" >nps_group</th>\n",
       "                        <td id=\"T_01f68_row11_col0\" class=\"data row11 col0\" >0</td>\n",
       "                        <td id=\"T_01f68_row11_col1\" class=\"data row11 col1\" >0.00</td>\n",
       "            </tr>\n",
       "            <tr>\n",
       "                        <th id=\"T_01f68_level0_row12\" class=\"row_heading level0 row12\" >is_new</th>\n",
       "                        <td id=\"T_01f68_row12_col0\" class=\"data row12 col0\" >0</td>\n",
       "                        <td id=\"T_01f68_row12_col1\" class=\"data row12 col1\" >0.00</td>\n",
       "            </tr>\n",
       "            <tr>\n",
       "                        <th id=\"T_01f68_level0_row13\" class=\"row_heading level0 row13\" >gender_segment</th>\n",
       "                        <td id=\"T_01f68_row13_col0\" class=\"data row13 col0\" >0</td>\n",
       "                        <td id=\"T_01f68_row13_col1\" class=\"data row13 col1\" >0.00</td>\n",
       "            </tr>\n",
       "    </tbody></table>"
      ],
      "text/plain": [
       "<pandas.io.formats.style.Styler at 0x7f9309a68af0>"
      ]
     },
     "execution_count": 13,
     "metadata": {},
     "output_type": "execute_result"
    }
   ],
   "source": [
    "# NaN ratio\n",
    "# missing values calculation\n",
    "report = nps.isna().sum().to_frame()\n",
    "report = report.rename(columns = {0: 'missing_values'})\n",
    "report['% of total'] = (100 * report['missing_values'] / nps.shape[0]).round(2)\n",
    "report.sort_values(by = 'missing_values', ascending = False)\n",
    "report.style.background_gradient('coolwarm')"
   ]
  },
  {
   "cell_type": "markdown",
   "id": "1d3bd732",
   "metadata": {},
   "source": [
    "This percentage of the total can be ignored - we'll drop these rows."
   ]
  },
  {
   "cell_type": "code",
   "execution_count": 14,
   "id": "8f9fd898",
   "metadata": {},
   "outputs": [],
   "source": [
    "# drop NaN\n",
    "nps = nps.dropna(axis='index', how='any', subset=['age'])"
   ]
  },
  {
   "cell_type": "code",
   "execution_count": 15,
   "id": "e07431fa",
   "metadata": {},
   "outputs": [
    {
     "name": "stdout",
     "output_type": "stream",
     "text": [
      "<class 'pandas.core.frame.DataFrame'>\n",
      "Int64Index: 501939 entries, 0 to 502492\n",
      "Data columns (total 14 columns):\n",
      " #   Column            Non-Null Count   Dtype  \n",
      "---  ------            --------------   -----  \n",
      " 0   user_id           501939 non-null  object \n",
      " 1   lt_day            501939 non-null  int64  \n",
      " 2   age               501939 non-null  float64\n",
      " 3   os_name           501939 non-null  object \n",
      " 4   cpe_type_name     501939 non-null  object \n",
      " 5   nps_score         501939 non-null  int64  \n",
      " 6   city              501939 non-null  object \n",
      " 7   country           501939 non-null  object \n",
      " 8   age_segment       501939 non-null  object \n",
      " 9   traffic_segment   501939 non-null  object \n",
      " 10  lifetime_segment  501939 non-null  object \n",
      " 11  nps_group         501939 non-null  object \n",
      " 12  is_new            501939 non-null  int64  \n",
      " 13  gender_segment    501939 non-null  object \n",
      "dtypes: float64(1), int64(3), object(10)\n",
      "memory usage: 57.4+ MB\n"
     ]
    }
   ],
   "source": [
    "# check\n",
    "nps.info()"
   ]
  },
  {
   "cell_type": "markdown",
   "id": "ca5e2fc0",
   "metadata": {},
   "source": [
    "## Changing the data type"
   ]
  },
  {
   "cell_type": "code",
   "execution_count": 16,
   "id": "fb025c4f",
   "metadata": {},
   "outputs": [],
   "source": [
    "# float64 to int64 replacement\n",
    "nps['age'] = nps['age'].astype(np.int64)"
   ]
  },
  {
   "cell_type": "code",
   "execution_count": 17,
   "id": "71a5efe2",
   "metadata": {},
   "outputs": [
    {
     "name": "stdout",
     "output_type": "stream",
     "text": [
      "<class 'pandas.core.frame.DataFrame'>\n",
      "Int64Index: 501939 entries, 0 to 502492\n",
      "Data columns (total 14 columns):\n",
      " #   Column            Non-Null Count   Dtype \n",
      "---  ------            --------------   ----- \n",
      " 0   user_id           501939 non-null  object\n",
      " 1   lt_day            501939 non-null  int64 \n",
      " 2   age               501939 non-null  int64 \n",
      " 3   os_name           501939 non-null  object\n",
      " 4   cpe_type_name     501939 non-null  object\n",
      " 5   nps_score         501939 non-null  int64 \n",
      " 6   city              501939 non-null  object\n",
      " 7   country           501939 non-null  object\n",
      " 8   age_segment       501939 non-null  object\n",
      " 9   traffic_segment   501939 non-null  object\n",
      " 10  lifetime_segment  501939 non-null  object\n",
      " 11  nps_group         501939 non-null  object\n",
      " 12  is_new            501939 non-null  int64 \n",
      " 13  gender_segment    501939 non-null  object\n",
      "dtypes: int64(4), object(10)\n",
      "memory usage: 57.4+ MB\n"
     ]
    }
   ],
   "source": [
    "# check\n",
    "nps.info()"
   ]
  },
  {
   "cell_type": "markdown",
   "id": "9424f065",
   "metadata": {},
   "source": [
    "## Duplicates processing"
   ]
  },
  {
   "cell_type": "code",
   "execution_count": 18,
   "id": "64eb2e50",
   "metadata": {},
   "outputs": [
    {
     "data": {
      "text/plain": [
       "0"
      ]
     },
     "execution_count": 18,
     "metadata": {},
     "output_type": "execute_result"
    }
   ],
   "source": [
    "# duplicates ckeck\n",
    "nps.duplicated().sum()"
   ]
  },
  {
   "cell_type": "markdown",
   "id": "9ce21c25",
   "metadata": {},
   "source": [
    "There're no duplicates in the data."
   ]
  },
  {
   "cell_type": "markdown",
   "id": "dd16a11c",
   "metadata": {},
   "source": [
    "## Cateforical data processing"
   ]
  },
  {
   "cell_type": "code",
   "execution_count": 19,
   "id": "347efa0e",
   "metadata": {
    "scrolled": false
   },
   "outputs": [
    {
     "data": {
      "text/html": [
       "<div>\n",
       "<style scoped>\n",
       "    .dataframe tbody tr th:only-of-type {\n",
       "        vertical-align: middle;\n",
       "    }\n",
       "\n",
       "    .dataframe tbody tr th {\n",
       "        vertical-align: top;\n",
       "    }\n",
       "\n",
       "    .dataframe thead th {\n",
       "        text-align: right;\n",
       "    }\n",
       "</style>\n",
       "<table border=\"1\" class=\"dataframe\">\n",
       "  <thead>\n",
       "    <tr style=\"text-align: right;\">\n",
       "      <th></th>\n",
       "      <th>os_name</th>\n",
       "    </tr>\n",
       "  </thead>\n",
       "  <tbody>\n",
       "    <tr>\n",
       "      <th>android</th>\n",
       "      <td>435569</td>\n",
       "    </tr>\n",
       "    <tr>\n",
       "      <th>ios</th>\n",
       "      <td>59914</td>\n",
       "    </tr>\n",
       "    <tr>\n",
       "      <th>proprietary</th>\n",
       "      <td>2490</td>\n",
       "    </tr>\n",
       "    <tr>\n",
       "      <th>other</th>\n",
       "      <td>2390</td>\n",
       "    </tr>\n",
       "    <tr>\n",
       "      <th>windows phone</th>\n",
       "      <td>1297</td>\n",
       "    </tr>\n",
       "    <tr>\n",
       "      <th>unknown</th>\n",
       "      <td>133</td>\n",
       "    </tr>\n",
       "    <tr>\n",
       "      <th>symbian os</th>\n",
       "      <td>103</td>\n",
       "    </tr>\n",
       "    <tr>\n",
       "      <th>bada os</th>\n",
       "      <td>40</td>\n",
       "    </tr>\n",
       "    <tr>\n",
       "      <th>windows mobile</th>\n",
       "      <td>3</td>\n",
       "    </tr>\n",
       "  </tbody>\n",
       "</table>\n",
       "</div>"
      ],
      "text/plain": [
       "                os_name\n",
       "android          435569\n",
       "ios               59914\n",
       "proprietary        2490\n",
       "other              2390\n",
       "windows phone      1297\n",
       "unknown             133\n",
       "symbian os          103\n",
       "bada os              40\n",
       "windows mobile        3"
      ]
     },
     "metadata": {},
     "output_type": "display_data"
    },
    {
     "data": {
      "text/html": [
       "<div>\n",
       "<style scoped>\n",
       "    .dataframe tbody tr th:only-of-type {\n",
       "        vertical-align: middle;\n",
       "    }\n",
       "\n",
       "    .dataframe tbody tr th {\n",
       "        vertical-align: top;\n",
       "    }\n",
       "\n",
       "    .dataframe thead th {\n",
       "        text-align: right;\n",
       "    }\n",
       "</style>\n",
       "<table border=\"1\" class=\"dataframe\">\n",
       "  <thead>\n",
       "    <tr style=\"text-align: right;\">\n",
       "      <th></th>\n",
       "      <th>cpe_type_name</th>\n",
       "    </tr>\n",
       "  </thead>\n",
       "  <tbody>\n",
       "    <tr>\n",
       "      <th>smartphone</th>\n",
       "      <td>487410</td>\n",
       "    </tr>\n",
       "    <tr>\n",
       "      <th>tablet</th>\n",
       "      <td>9270</td>\n",
       "    </tr>\n",
       "    <tr>\n",
       "      <th>phone</th>\n",
       "      <td>2530</td>\n",
       "    </tr>\n",
       "    <tr>\n",
       "      <th>mobile phone/feature phone</th>\n",
       "      <td>2471</td>\n",
       "    </tr>\n",
       "    <tr>\n",
       "      <th>router</th>\n",
       "      <td>196</td>\n",
       "    </tr>\n",
       "    <tr>\n",
       "      <th>usb modem</th>\n",
       "      <td>27</td>\n",
       "    </tr>\n",
       "    <tr>\n",
       "      <th>unknown</th>\n",
       "      <td>18</td>\n",
       "    </tr>\n",
       "    <tr>\n",
       "      <th>modem</th>\n",
       "      <td>7</td>\n",
       "    </tr>\n",
       "    <tr>\n",
       "      <th>wlan router</th>\n",
       "      <td>3</td>\n",
       "    </tr>\n",
       "    <tr>\n",
       "      <th>network device</th>\n",
       "      <td>3</td>\n",
       "    </tr>\n",
       "    <tr>\n",
       "      <th>portable(include pda)</th>\n",
       "      <td>1</td>\n",
       "    </tr>\n",
       "    <tr>\n",
       "      <th>mobile test platform</th>\n",
       "      <td>1</td>\n",
       "    </tr>\n",
       "    <tr>\n",
       "      <th>handheld</th>\n",
       "      <td>1</td>\n",
       "    </tr>\n",
       "    <tr>\n",
       "      <th>mifi router</th>\n",
       "      <td>1</td>\n",
       "    </tr>\n",
       "  </tbody>\n",
       "</table>\n",
       "</div>"
      ],
      "text/plain": [
       "                            cpe_type_name\n",
       "smartphone                         487410\n",
       "tablet                               9270\n",
       "phone                                2530\n",
       "mobile phone/feature phone           2471\n",
       "router                                196\n",
       "usb modem                              27\n",
       "unknown                                18\n",
       "modem                                   7\n",
       "wlan router                             3\n",
       "network device                          3\n",
       "portable(include pda)                   1\n",
       "mobile test platform                    1\n",
       "handheld                                1\n",
       "mifi router                             1"
      ]
     },
     "metadata": {},
     "output_type": "display_data"
    },
    {
     "data": {
      "text/html": [
       "<div>\n",
       "<style scoped>\n",
       "    .dataframe tbody tr th:only-of-type {\n",
       "        vertical-align: middle;\n",
       "    }\n",
       "\n",
       "    .dataframe tbody tr th {\n",
       "        vertical-align: top;\n",
       "    }\n",
       "\n",
       "    .dataframe thead th {\n",
       "        text-align: right;\n",
       "    }\n",
       "</style>\n",
       "<table border=\"1\" class=\"dataframe\">\n",
       "  <thead>\n",
       "    <tr style=\"text-align: right;\">\n",
       "      <th></th>\n",
       "      <th>age_segment</th>\n",
       "    </tr>\n",
       "  </thead>\n",
       "  <tbody>\n",
       "    <tr>\n",
       "      <th>35-44</th>\n",
       "      <td>165933</td>\n",
       "    </tr>\n",
       "    <tr>\n",
       "      <th>25-34</th>\n",
       "      <td>154800</td>\n",
       "    </tr>\n",
       "    <tr>\n",
       "      <th>45-54</th>\n",
       "      <td>94269</td>\n",
       "    </tr>\n",
       "    <tr>\n",
       "      <th>55-64</th>\n",
       "      <td>43061</td>\n",
       "    </tr>\n",
       "    <tr>\n",
       "      <th>16-24</th>\n",
       "      <td>29955</td>\n",
       "    </tr>\n",
       "    <tr>\n",
       "      <th>66 +</th>\n",
       "      <td>13236</td>\n",
       "    </tr>\n",
       "    <tr>\n",
       "      <th>до 16</th>\n",
       "      <td>685</td>\n",
       "    </tr>\n",
       "  </tbody>\n",
       "</table>\n",
       "</div>"
      ],
      "text/plain": [
       "       age_segment\n",
       "35-44       165933\n",
       "25-34       154800\n",
       "45-54        94269\n",
       "55-64        43061\n",
       "16-24        29955\n",
       "66 +         13236\n",
       "до 16          685"
      ]
     },
     "metadata": {},
     "output_type": "display_data"
    },
    {
     "data": {
      "text/html": [
       "<div>\n",
       "<style scoped>\n",
       "    .dataframe tbody tr th:only-of-type {\n",
       "        vertical-align: middle;\n",
       "    }\n",
       "\n",
       "    .dataframe tbody tr th {\n",
       "        vertical-align: top;\n",
       "    }\n",
       "\n",
       "    .dataframe thead th {\n",
       "        text-align: right;\n",
       "    }\n",
       "</style>\n",
       "<table border=\"1\" class=\"dataframe\">\n",
       "  <thead>\n",
       "    <tr style=\"text-align: right;\">\n",
       "      <th></th>\n",
       "      <th>traffic_segment</th>\n",
       "    </tr>\n",
       "  </thead>\n",
       "  <tbody>\n",
       "    <tr>\n",
       "      <th>1-5</th>\n",
       "      <td>112527</td>\n",
       "    </tr>\n",
       "    <tr>\n",
       "      <th>5-10</th>\n",
       "      <td>84872</td>\n",
       "    </tr>\n",
       "    <tr>\n",
       "      <th>10-15</th>\n",
       "      <td>58505</td>\n",
       "    </tr>\n",
       "    <tr>\n",
       "      <th>15-20</th>\n",
       "      <td>43333</td>\n",
       "    </tr>\n",
       "    <tr>\n",
       "      <th>20-25</th>\n",
       "      <td>33344</td>\n",
       "    </tr>\n",
       "    <tr>\n",
       "      <th>0.1-1</th>\n",
       "      <td>27754</td>\n",
       "    </tr>\n",
       "    <tr>\n",
       "      <th>25-30</th>\n",
       "      <td>25724</td>\n",
       "    </tr>\n",
       "    <tr>\n",
       "      <th>30-35</th>\n",
       "      <td>20769</td>\n",
       "    </tr>\n",
       "    <tr>\n",
       "      <th>35-40</th>\n",
       "      <td>16343</td>\n",
       "    </tr>\n",
       "    <tr>\n",
       "      <th>40-45</th>\n",
       "      <td>13070</td>\n",
       "    </tr>\n",
       "    <tr>\n",
       "      <th>100+</th>\n",
       "      <td>11082</td>\n",
       "    </tr>\n",
       "    <tr>\n",
       "      <th>45-50</th>\n",
       "      <td>10456</td>\n",
       "    </tr>\n",
       "    <tr>\n",
       "      <th>50-55</th>\n",
       "      <td>8378</td>\n",
       "    </tr>\n",
       "    <tr>\n",
       "      <th>55-60</th>\n",
       "      <td>6875</td>\n",
       "    </tr>\n",
       "    <tr>\n",
       "      <th>60-65</th>\n",
       "      <td>5638</td>\n",
       "    </tr>\n",
       "    <tr>\n",
       "      <th>65-70</th>\n",
       "      <td>4663</td>\n",
       "    </tr>\n",
       "    <tr>\n",
       "      <th>70-75</th>\n",
       "      <td>3823</td>\n",
       "    </tr>\n",
       "    <tr>\n",
       "      <th>75-80</th>\n",
       "      <td>3295</td>\n",
       "    </tr>\n",
       "    <tr>\n",
       "      <th>80-85</th>\n",
       "      <td>2811</td>\n",
       "    </tr>\n",
       "    <tr>\n",
       "      <th>0.01-</th>\n",
       "      <td>2384</td>\n",
       "    </tr>\n",
       "    <tr>\n",
       "      <th>85-90</th>\n",
       "      <td>2319</td>\n",
       "    </tr>\n",
       "    <tr>\n",
       "      <th>90-95</th>\n",
       "      <td>2106</td>\n",
       "    </tr>\n",
       "    <tr>\n",
       "      <th>95-10</th>\n",
       "      <td>1716</td>\n",
       "    </tr>\n",
       "    <tr>\n",
       "      <th>0-0.0</th>\n",
       "      <td>104</td>\n",
       "    </tr>\n",
       "    <tr>\n",
       "      <th>0</th>\n",
       "      <td>48</td>\n",
       "    </tr>\n",
       "  </tbody>\n",
       "</table>\n",
       "</div>"
      ],
      "text/plain": [
       "       traffic_segment\n",
       "1-5             112527\n",
       "5-10             84872\n",
       "10-15            58505\n",
       "15-20            43333\n",
       "20-25            33344\n",
       "0.1-1            27754\n",
       "25-30            25724\n",
       "30-35            20769\n",
       "35-40            16343\n",
       "40-45            13070\n",
       "100+             11082\n",
       "45-50            10456\n",
       "50-55             8378\n",
       "55-60             6875\n",
       "60-65             5638\n",
       "65-70             4663\n",
       "70-75             3823\n",
       "75-80             3295\n",
       "80-85             2811\n",
       "0.01-             2384\n",
       "85-90             2319\n",
       "90-95             2106\n",
       "95-10             1716\n",
       "0-0.0              104\n",
       "0                   48"
      ]
     },
     "metadata": {},
     "output_type": "display_data"
    },
    {
     "data": {
      "text/html": [
       "<div>\n",
       "<style scoped>\n",
       "    .dataframe tbody tr th:only-of-type {\n",
       "        vertical-align: middle;\n",
       "    }\n",
       "\n",
       "    .dataframe tbody tr th {\n",
       "        vertical-align: top;\n",
       "    }\n",
       "\n",
       "    .dataframe thead th {\n",
       "        text-align: right;\n",
       "    }\n",
       "</style>\n",
       "<table border=\"1\" class=\"dataframe\">\n",
       "  <thead>\n",
       "    <tr style=\"text-align: right;\">\n",
       "      <th></th>\n",
       "      <th>lifetime_segment</th>\n",
       "    </tr>\n",
       "  </thead>\n",
       "  <tbody>\n",
       "    <tr>\n",
       "      <th>36+</th>\n",
       "      <td>273970</td>\n",
       "    </tr>\n",
       "    <tr>\n",
       "      <th>13-24</th>\n",
       "      <td>81971</td>\n",
       "    </tr>\n",
       "    <tr>\n",
       "      <th>25-36</th>\n",
       "      <td>61169</td>\n",
       "    </tr>\n",
       "    <tr>\n",
       "      <th>7-12</th>\n",
       "      <td>40961</td>\n",
       "    </tr>\n",
       "    <tr>\n",
       "      <th>4-6</th>\n",
       "      <td>22425</td>\n",
       "    </tr>\n",
       "    <tr>\n",
       "      <th>2</th>\n",
       "      <td>12027</td>\n",
       "    </tr>\n",
       "    <tr>\n",
       "      <th>3</th>\n",
       "      <td>9403</td>\n",
       "    </tr>\n",
       "    <tr>\n",
       "      <th>1</th>\n",
       "      <td>13</td>\n",
       "    </tr>\n",
       "  </tbody>\n",
       "</table>\n",
       "</div>"
      ],
      "text/plain": [
       "       lifetime_segment\n",
       "36+              273970\n",
       "13-24             81971\n",
       "25-36             61169\n",
       "7-12              40961\n",
       "4-6               22425\n",
       "2                 12027\n",
       "3                  9403\n",
       "1                    13"
      ]
     },
     "metadata": {},
     "output_type": "display_data"
    },
    {
     "data": {
      "text/html": [
       "<div>\n",
       "<style scoped>\n",
       "    .dataframe tbody tr th:only-of-type {\n",
       "        vertical-align: middle;\n",
       "    }\n",
       "\n",
       "    .dataframe tbody tr th {\n",
       "        vertical-align: top;\n",
       "    }\n",
       "\n",
       "    .dataframe thead th {\n",
       "        text-align: right;\n",
       "    }\n",
       "</style>\n",
       "<table border=\"1\" class=\"dataframe\">\n",
       "  <thead>\n",
       "    <tr style=\"text-align: right;\">\n",
       "      <th></th>\n",
       "      <th>nps_group</th>\n",
       "    </tr>\n",
       "  </thead>\n",
       "  <tbody>\n",
       "    <tr>\n",
       "      <th>promoters</th>\n",
       "      <td>263981</td>\n",
       "    </tr>\n",
       "    <tr>\n",
       "      <th>detractors</th>\n",
       "      <td>153648</td>\n",
       "    </tr>\n",
       "    <tr>\n",
       "      <th>passives</th>\n",
       "      <td>84310</td>\n",
       "    </tr>\n",
       "  </tbody>\n",
       "</table>\n",
       "</div>"
      ],
      "text/plain": [
       "            nps_group\n",
       "promoters      263981\n",
       "detractors     153648\n",
       "passives        84310"
      ]
     },
     "metadata": {},
     "output_type": "display_data"
    }
   ],
   "source": [
    "# unique values and unique groups check\n",
    "columns = ['os_name', 'cpe_type_name', 'age_segment', 'traffic_segment', 'lifetime_segment', 'nps_group']\n",
    "for column in columns:\n",
    "    display(pd.DataFrame(nps[column].value_counts()))"
   ]
  },
  {
   "cell_type": "markdown",
   "id": "42b2273e",
   "metadata": {},
   "source": [
    "## Numerical data processing"
   ]
  },
  {
   "cell_type": "code",
   "execution_count": 20,
   "id": "a51ff5f7",
   "metadata": {},
   "outputs": [
    {
     "name": "stdout",
     "output_type": "stream",
     "text": [
      "Min score value: 1\n",
      "Max score value: 10\n"
     ]
    }
   ],
   "source": [
    "# scores check\n",
    "print('Min score value:', nps.nps_score.min())\n",
    "print('Max score value:', nps.nps_score.max())"
   ]
  },
  {
   "cell_type": "markdown",
   "id": "14330564",
   "metadata": {},
   "source": [
    "# Conclusion"
   ]
  },
  {
   "cell_type": "markdown",
   "id": "62288e22",
   "metadata": {},
   "source": [
    "The data was processed for a dashboard and presentation."
   ]
  },
  {
   "cell_type": "code",
   "execution_count": 21,
   "id": "d1e2a211",
   "metadata": {},
   "outputs": [],
   "source": [
    "# data saving\n",
    "nps.to_csv('nps.csv', index=False)"
   ]
  },
  {
   "cell_type": "code",
   "execution_count": null,
   "id": "5fb67a6d",
   "metadata": {},
   "outputs": [],
   "source": []
  }
 ],
 "metadata": {
  "ExecuteTimeLog": [
   {
    "duration": 2003,
    "start_time": "2022-04-24T06:04:46.846Z"
   },
   {
    "duration": 5,
    "start_time": "2022-04-24T06:04:48.852Z"
   },
   {
    "duration": 60,
    "start_time": "2022-04-24T06:04:48.859Z"
   },
   {
    "duration": 4,
    "start_time": "2022-04-24T06:04:48.921Z"
   },
   {
    "duration": 19,
    "start_time": "2022-04-24T06:04:48.928Z"
   },
   {
    "duration": 5,
    "start_time": "2022-04-24T06:04:48.949Z"
   },
   {
    "duration": 1135,
    "start_time": "2022-04-24T06:04:48.956Z"
   },
   {
    "duration": 0,
    "start_time": "2022-04-24T06:04:50.096Z"
   },
   {
    "duration": 0,
    "start_time": "2022-04-24T06:04:50.099Z"
   },
   {
    "duration": 0,
    "start_time": "2022-04-24T06:04:50.101Z"
   },
   {
    "duration": 0,
    "start_time": "2022-04-24T06:04:50.104Z"
   },
   {
    "duration": 0,
    "start_time": "2022-04-24T06:04:50.106Z"
   },
   {
    "duration": 0,
    "start_time": "2022-04-24T06:04:50.108Z"
   },
   {
    "duration": 0,
    "start_time": "2022-04-24T06:04:50.110Z"
   },
   {
    "duration": 0,
    "start_time": "2022-04-24T06:04:50.112Z"
   },
   {
    "duration": 0,
    "start_time": "2022-04-24T06:04:50.114Z"
   },
   {
    "duration": 0,
    "start_time": "2022-04-24T06:04:50.116Z"
   },
   {
    "duration": 0,
    "start_time": "2022-04-24T06:04:50.117Z"
   },
   {
    "duration": 0,
    "start_time": "2022-04-24T06:04:50.119Z"
   },
   {
    "duration": 0,
    "start_time": "2022-04-24T06:04:50.120Z"
   },
   {
    "duration": 0,
    "start_time": "2022-04-24T06:04:50.124Z"
   },
   {
    "duration": 0,
    "start_time": "2022-04-24T06:04:50.126Z"
   },
   {
    "duration": 0,
    "start_time": "2022-04-24T06:04:50.128Z"
   },
   {
    "duration": 0,
    "start_time": "2022-04-24T06:04:50.129Z"
   },
   {
    "duration": 0,
    "start_time": "2022-04-24T06:04:50.131Z"
   },
   {
    "duration": 1,
    "start_time": "2022-04-24T06:04:50.132Z"
   },
   {
    "duration": 0,
    "start_time": "2022-04-24T06:04:50.134Z"
   },
   {
    "duration": 0,
    "start_time": "2022-04-24T06:04:50.136Z"
   },
   {
    "duration": 0,
    "start_time": "2022-04-24T06:04:50.137Z"
   },
   {
    "duration": 0,
    "start_time": "2022-04-24T06:04:50.139Z"
   },
   {
    "duration": 5,
    "start_time": "2022-04-24T06:06:08.940Z"
   },
   {
    "duration": 654,
    "start_time": "2022-04-24T06:06:10.423Z"
   },
   {
    "duration": 4,
    "start_time": "2022-04-24T06:07:39.122Z"
   },
   {
    "duration": 694,
    "start_time": "2022-04-24T06:07:39.765Z"
   },
   {
    "duration": 1740,
    "start_time": "2022-04-24T06:08:23.336Z"
   },
   {
    "duration": 4,
    "start_time": "2022-04-24T06:08:25.080Z"
   },
   {
    "duration": 84,
    "start_time": "2022-04-24T06:08:25.086Z"
   },
   {
    "duration": 3,
    "start_time": "2022-04-24T06:08:25.172Z"
   },
   {
    "duration": 19,
    "start_time": "2022-04-24T06:08:25.178Z"
   },
   {
    "duration": 5,
    "start_time": "2022-04-24T06:08:25.198Z"
   },
   {
    "duration": 767,
    "start_time": "2022-04-24T06:08:25.205Z"
   },
   {
    "duration": 0,
    "start_time": "2022-04-24T06:08:25.976Z"
   },
   {
    "duration": 0,
    "start_time": "2022-04-24T06:08:25.977Z"
   },
   {
    "duration": 1,
    "start_time": "2022-04-24T06:08:25.979Z"
   },
   {
    "duration": 0,
    "start_time": "2022-04-24T06:08:25.982Z"
   },
   {
    "duration": 0,
    "start_time": "2022-04-24T06:08:25.984Z"
   },
   {
    "duration": 0,
    "start_time": "2022-04-24T06:08:25.986Z"
   },
   {
    "duration": 0,
    "start_time": "2022-04-24T06:08:25.988Z"
   },
   {
    "duration": 0,
    "start_time": "2022-04-24T06:08:25.990Z"
   },
   {
    "duration": 0,
    "start_time": "2022-04-24T06:08:25.992Z"
   },
   {
    "duration": 0,
    "start_time": "2022-04-24T06:08:25.995Z"
   },
   {
    "duration": 0,
    "start_time": "2022-04-24T06:08:25.997Z"
   },
   {
    "duration": 0,
    "start_time": "2022-04-24T06:08:25.999Z"
   },
   {
    "duration": 0,
    "start_time": "2022-04-24T06:08:26.001Z"
   },
   {
    "duration": 0,
    "start_time": "2022-04-24T06:08:26.003Z"
   },
   {
    "duration": 0,
    "start_time": "2022-04-24T06:08:26.025Z"
   },
   {
    "duration": 0,
    "start_time": "2022-04-24T06:08:26.027Z"
   },
   {
    "duration": 0,
    "start_time": "2022-04-24T06:08:26.030Z"
   },
   {
    "duration": 0,
    "start_time": "2022-04-24T06:08:26.032Z"
   },
   {
    "duration": 0,
    "start_time": "2022-04-24T06:08:26.034Z"
   },
   {
    "duration": 0,
    "start_time": "2022-04-24T06:08:26.036Z"
   },
   {
    "duration": 0,
    "start_time": "2022-04-24T06:08:26.039Z"
   },
   {
    "duration": 0,
    "start_time": "2022-04-24T06:08:26.041Z"
   },
   {
    "duration": 0,
    "start_time": "2022-04-24T06:08:26.043Z"
   },
   {
    "duration": 4,
    "start_time": "2022-04-24T06:09:03.952Z"
   },
   {
    "duration": 964,
    "start_time": "2022-04-24T06:09:14.849Z"
   },
   {
    "duration": 5,
    "start_time": "2022-04-24T06:10:19.018Z"
   },
   {
    "duration": 4,
    "start_time": "2022-04-24T06:10:37.179Z"
   },
   {
    "duration": 5986,
    "start_time": "2022-04-24T06:10:38.270Z"
   },
   {
    "duration": 27,
    "start_time": "2022-04-24T06:10:55.372Z"
   },
   {
    "duration": 4,
    "start_time": "2022-04-24T06:11:16.895Z"
   },
   {
    "duration": 2355,
    "start_time": "2022-04-24T06:11:44.463Z"
   },
   {
    "duration": 5,
    "start_time": "2022-04-24T06:11:46.821Z"
   },
   {
    "duration": 65,
    "start_time": "2022-04-24T06:11:46.829Z"
   },
   {
    "duration": 4,
    "start_time": "2022-04-24T06:11:46.896Z"
   },
   {
    "duration": 20,
    "start_time": "2022-04-24T06:11:46.903Z"
   },
   {
    "duration": 4,
    "start_time": "2022-04-24T06:11:46.926Z"
   },
   {
    "duration": 8885,
    "start_time": "2022-04-24T06:11:46.933Z"
   },
   {
    "duration": 39,
    "start_time": "2022-04-24T06:11:55.823Z"
   },
   {
    "duration": 4,
    "start_time": "2022-04-24T06:11:55.865Z"
   },
   {
    "duration": 25320,
    "start_time": "2022-04-24T06:11:55.872Z"
   },
   {
    "duration": 30,
    "start_time": "2022-04-24T06:12:21.194Z"
   },
   {
    "duration": 14,
    "start_time": "2022-04-24T06:12:21.227Z"
   },
   {
    "duration": 11,
    "start_time": "2022-04-24T06:12:21.243Z"
   },
   {
    "duration": 29,
    "start_time": "2022-04-24T06:12:21.259Z"
   },
   {
    "duration": 33,
    "start_time": "2022-04-24T06:12:21.291Z"
   },
   {
    "duration": 7131,
    "start_time": "2022-04-24T06:12:21.327Z"
   },
   {
    "duration": 7,
    "start_time": "2022-04-24T06:12:28.462Z"
   },
   {
    "duration": 4036,
    "start_time": "2022-04-24T06:12:28.472Z"
   },
   {
    "duration": 8185,
    "start_time": "2022-04-24T06:12:32.512Z"
   },
   {
    "duration": 606,
    "start_time": "2022-04-24T06:12:40.700Z"
   },
   {
    "duration": 284,
    "start_time": "2022-04-24T06:12:41.309Z"
   },
   {
    "duration": 442,
    "start_time": "2022-04-24T06:12:41.595Z"
   },
   {
    "duration": 8,
    "start_time": "2022-04-24T06:12:42.040Z"
   },
   {
    "duration": 32,
    "start_time": "2022-04-24T06:12:42.050Z"
   },
   {
    "duration": 46,
    "start_time": "2022-04-24T06:12:42.084Z"
   },
   {
    "duration": 1590,
    "start_time": "2022-04-24T06:12:42.132Z"
   },
   {
    "duration": 1279,
    "start_time": "2022-04-24T06:12:43.725Z"
   },
   {
    "duration": 1536,
    "start_time": "2022-04-24T06:12:45.006Z"
   },
   {
    "duration": 637,
    "start_time": "2022-04-24T06:12:46.545Z"
   },
   {
    "duration": 8,
    "start_time": "2022-04-24T06:12:47.185Z"
   },
   {
    "duration": 4,
    "start_time": "2022-04-24T06:19:08.400Z"
   },
   {
    "duration": 17,
    "start_time": "2022-04-24T06:19:08.407Z"
   },
   {
    "duration": 65,
    "start_time": "2022-04-24T06:19:08.427Z"
   },
   {
    "duration": 4,
    "start_time": "2022-04-24T06:19:08.494Z"
   },
   {
    "duration": 13,
    "start_time": "2022-04-24T06:19:08.501Z"
   },
   {
    "duration": 12,
    "start_time": "2022-04-24T06:19:08.517Z"
   },
   {
    "duration": 5950,
    "start_time": "2022-04-24T06:19:08.531Z"
   },
   {
    "duration": 21,
    "start_time": "2022-04-24T06:19:14.484Z"
   },
   {
    "duration": 20,
    "start_time": "2022-04-24T06:19:14.508Z"
   },
   {
    "duration": 25678,
    "start_time": "2022-04-24T06:19:14.531Z"
   },
   {
    "duration": 28,
    "start_time": "2022-04-24T06:19:40.212Z"
   },
   {
    "duration": 21,
    "start_time": "2022-04-24T06:19:40.243Z"
   },
   {
    "duration": 8,
    "start_time": "2022-04-24T06:19:40.266Z"
   },
   {
    "duration": 11,
    "start_time": "2022-04-24T06:19:40.281Z"
   },
   {
    "duration": 44,
    "start_time": "2022-04-24T06:19:40.294Z"
   },
   {
    "duration": 6793,
    "start_time": "2022-04-24T06:19:40.340Z"
   },
   {
    "duration": 7,
    "start_time": "2022-04-24T06:19:47.136Z"
   },
   {
    "duration": 5380,
    "start_time": "2022-04-24T06:19:47.146Z"
   },
   {
    "duration": 13755,
    "start_time": "2022-04-24T06:19:52.530Z"
   },
   {
    "duration": 686,
    "start_time": "2022-04-24T06:20:06.288Z"
   },
   {
    "duration": 439,
    "start_time": "2022-04-24T06:20:06.977Z"
   },
   {
    "duration": 660,
    "start_time": "2022-04-24T06:20:07.419Z"
   },
   {
    "duration": 8,
    "start_time": "2022-04-24T06:20:08.082Z"
   },
   {
    "duration": 48,
    "start_time": "2022-04-24T06:20:08.093Z"
   },
   {
    "duration": 27,
    "start_time": "2022-04-24T06:20:08.144Z"
   },
   {
    "duration": 2588,
    "start_time": "2022-04-24T06:20:08.173Z"
   },
   {
    "duration": 1940,
    "start_time": "2022-04-24T06:20:10.764Z"
   },
   {
    "duration": 2111,
    "start_time": "2022-04-24T06:20:12.707Z"
   },
   {
    "duration": 713,
    "start_time": "2022-04-24T06:20:14.825Z"
   },
   {
    "duration": 8,
    "start_time": "2022-04-24T06:20:15.541Z"
   },
   {
    "duration": 1263,
    "start_time": "2022-04-24T10:02:34.220Z"
   },
   {
    "duration": 2,
    "start_time": "2022-04-24T10:02:35.485Z"
   },
   {
    "duration": 91,
    "start_time": "2022-04-24T10:02:35.489Z"
   },
   {
    "duration": 3,
    "start_time": "2022-04-24T10:02:35.582Z"
   },
   {
    "duration": 13,
    "start_time": "2022-04-24T10:02:35.587Z"
   },
   {
    "duration": 4,
    "start_time": "2022-04-24T10:02:35.601Z"
   },
   {
    "duration": 4340,
    "start_time": "2022-04-24T10:02:35.606Z"
   },
   {
    "duration": 17,
    "start_time": "2022-04-24T10:02:39.947Z"
   },
   {
    "duration": 2,
    "start_time": "2022-04-24T10:02:39.966Z"
   },
   {
    "duration": 13805,
    "start_time": "2022-04-24T10:02:39.970Z"
   },
   {
    "duration": 14,
    "start_time": "2022-04-24T10:02:53.777Z"
   },
   {
    "duration": 17,
    "start_time": "2022-04-24T10:02:53.793Z"
   },
   {
    "duration": 4,
    "start_time": "2022-04-24T10:02:53.812Z"
   },
   {
    "duration": 18,
    "start_time": "2022-04-24T10:02:53.819Z"
   },
   {
    "duration": 10,
    "start_time": "2022-04-24T10:02:53.839Z"
   },
   {
    "duration": 3877,
    "start_time": "2022-04-24T10:02:53.851Z"
   },
   {
    "duration": 4,
    "start_time": "2022-04-24T10:02:57.732Z"
   },
   {
    "duration": 2635,
    "start_time": "2022-04-24T10:02:57.737Z"
   },
   {
    "duration": 6181,
    "start_time": "2022-04-24T10:03:00.374Z"
   },
   {
    "duration": 383,
    "start_time": "2022-04-24T10:03:06.556Z"
   },
   {
    "duration": 209,
    "start_time": "2022-04-24T10:03:06.941Z"
   },
   {
    "duration": 342,
    "start_time": "2022-04-24T10:03:07.151Z"
   },
   {
    "duration": 6,
    "start_time": "2022-04-24T10:03:07.495Z"
   },
   {
    "duration": 15,
    "start_time": "2022-04-24T10:03:07.503Z"
   },
   {
    "duration": 13,
    "start_time": "2022-04-24T10:03:07.534Z"
   },
   {
    "duration": 1212,
    "start_time": "2022-04-24T10:03:07.549Z"
   },
   {
    "duration": 747,
    "start_time": "2022-04-24T10:03:08.763Z"
   },
   {
    "duration": 985,
    "start_time": "2022-04-24T10:03:09.512Z"
   },
   {
    "duration": 470,
    "start_time": "2022-04-24T10:03:10.498Z"
   },
   {
    "duration": 4,
    "start_time": "2022-04-24T10:03:10.970Z"
   },
   {
    "duration": 11,
    "start_time": "2022-04-24T14:28:40.667Z"
   },
   {
    "duration": 64,
    "start_time": "2022-04-24T14:28:41.632Z"
   },
   {
    "duration": 1872,
    "start_time": "2022-04-24T14:28:55.531Z"
   },
   {
    "duration": 5,
    "start_time": "2022-04-24T14:28:57.820Z"
   },
   {
    "duration": 101,
    "start_time": "2022-04-24T14:28:59.069Z"
   },
   {
    "duration": 3,
    "start_time": "2022-04-24T14:29:00.873Z"
   },
   {
    "duration": 14,
    "start_time": "2022-04-24T14:29:01.917Z"
   },
   {
    "duration": 5,
    "start_time": "2022-04-24T14:29:04.586Z"
   },
   {
    "duration": 6768,
    "start_time": "2022-04-24T14:29:06.810Z"
   },
   {
    "duration": 4,
    "start_time": "2022-04-24T14:29:13.581Z"
   },
   {
    "duration": 6105,
    "start_time": "2022-04-24T14:29:14.216Z"
   },
   {
    "duration": 34,
    "start_time": "2022-04-24T14:29:22.996Z"
   },
   {
    "duration": 4,
    "start_time": "2022-04-24T14:32:03.384Z"
   },
   {
    "duration": 5567,
    "start_time": "2022-04-24T14:32:05.295Z"
   },
   {
    "duration": 21,
    "start_time": "2022-04-24T14:32:13.848Z"
   },
   {
    "duration": 5,
    "start_time": "2022-04-24T14:37:35.308Z"
   },
   {
    "duration": 6110,
    "start_time": "2022-04-24T14:37:36.191Z"
   },
   {
    "duration": 23,
    "start_time": "2022-04-24T14:37:52.471Z"
   },
   {
    "duration": 4,
    "start_time": "2022-04-24T14:40:53.873Z"
   },
   {
    "duration": 6660,
    "start_time": "2022-04-24T14:40:54.510Z"
   },
   {
    "duration": 22,
    "start_time": "2022-04-24T14:41:03.956Z"
   },
   {
    "duration": 5,
    "start_time": "2022-04-24T14:45:50.050Z"
   },
   {
    "duration": 6434,
    "start_time": "2022-04-24T14:45:51.547Z"
   },
   {
    "duration": 23,
    "start_time": "2022-04-24T14:46:02.152Z"
   },
   {
    "duration": 5,
    "start_time": "2022-04-24T14:49:05.346Z"
   },
   {
    "duration": 6604,
    "start_time": "2022-04-24T14:49:07.670Z"
   },
   {
    "duration": 22,
    "start_time": "2022-04-24T14:49:15.246Z"
   },
   {
    "duration": 5,
    "start_time": "2022-04-24T14:49:31.390Z"
   },
   {
    "duration": 6784,
    "start_time": "2022-04-24T14:49:32.882Z"
   },
   {
    "duration": 25,
    "start_time": "2022-04-24T14:49:39.669Z"
   },
   {
    "duration": 5,
    "start_time": "2022-04-24T14:50:35.088Z"
   },
   {
    "duration": 7116,
    "start_time": "2022-04-24T14:50:35.464Z"
   },
   {
    "duration": 30,
    "start_time": "2022-04-24T14:50:43.486Z"
   },
   {
    "duration": 5,
    "start_time": "2022-04-24T14:54:39.142Z"
   },
   {
    "duration": 6716,
    "start_time": "2022-04-24T14:54:42.364Z"
   },
   {
    "duration": 24,
    "start_time": "2022-04-24T14:54:55.129Z"
   },
   {
    "duration": 6,
    "start_time": "2022-04-24T14:55:07.877Z"
   },
   {
    "duration": 12,
    "start_time": "2022-04-24T14:55:21.389Z"
   },
   {
    "duration": 64,
    "start_time": "2022-04-24T14:55:21.921Z"
   },
   {
    "duration": 1677,
    "start_time": "2022-04-24T14:55:25.885Z"
   },
   {
    "duration": 4,
    "start_time": "2022-04-24T14:55:31.941Z"
   },
   {
    "duration": 15,
    "start_time": "2022-04-24T14:55:32.379Z"
   },
   {
    "duration": 5,
    "start_time": "2022-04-24T14:55:34.176Z"
   },
   {
    "duration": 7037,
    "start_time": "2022-04-24T14:55:35.064Z"
   },
   {
    "duration": 30,
    "start_time": "2022-04-24T14:55:46.450Z"
   },
   {
    "duration": 5,
    "start_time": "2022-04-24T14:58:00.718Z"
   },
   {
    "duration": 6948,
    "start_time": "2022-04-24T14:58:04.315Z"
   },
   {
    "duration": 22,
    "start_time": "2022-04-24T14:58:12.796Z"
   },
   {
    "duration": 4,
    "start_time": "2022-04-24T14:59:00.874Z"
   },
   {
    "duration": 561,
    "start_time": "2022-04-24T14:59:19.660Z"
   },
   {
    "duration": 4,
    "start_time": "2022-04-24T15:02:20.368Z"
   },
   {
    "duration": 767,
    "start_time": "2022-04-24T15:02:20.916Z"
   },
   {
    "duration": 4,
    "start_time": "2022-04-24T15:05:03.333Z"
   },
   {
    "duration": 532,
    "start_time": "2022-04-24T15:05:03.340Z"
   },
   {
    "duration": 4,
    "start_time": "2022-04-24T15:05:24.582Z"
   },
   {
    "duration": 786,
    "start_time": "2022-04-24T15:05:26.038Z"
   },
   {
    "duration": 4,
    "start_time": "2022-04-24T15:06:20.618Z"
   },
   {
    "duration": 563,
    "start_time": "2022-04-24T15:06:21.146Z"
   },
   {
    "duration": 3,
    "start_time": "2022-04-24T15:07:30.587Z"
   },
   {
    "duration": 563,
    "start_time": "2022-04-24T15:07:32.612Z"
   },
   {
    "duration": 6,
    "start_time": "2022-04-24T15:46:05.101Z"
   },
   {
    "duration": 7753,
    "start_time": "2022-04-24T15:46:05.649Z"
   },
   {
    "duration": 22,
    "start_time": "2022-04-24T15:46:21.975Z"
   },
   {
    "duration": 201,
    "start_time": "2022-04-24T15:47:38.791Z"
   },
   {
    "duration": 205,
    "start_time": "2022-04-24T15:47:43.335Z"
   },
   {
    "duration": 770,
    "start_time": "2022-04-24T15:57:27.141Z"
   },
   {
    "duration": 1522,
    "start_time": "2022-04-25T04:24:40.265Z"
   },
   {
    "duration": 2,
    "start_time": "2022-04-25T04:24:41.789Z"
   },
   {
    "duration": 102,
    "start_time": "2022-04-25T04:24:41.793Z"
   },
   {
    "duration": 2,
    "start_time": "2022-04-25T04:24:41.897Z"
   },
   {
    "duration": 12,
    "start_time": "2022-04-25T04:24:41.901Z"
   },
   {
    "duration": 3,
    "start_time": "2022-04-25T04:24:41.914Z"
   },
   {
    "duration": 5015,
    "start_time": "2022-04-25T04:24:41.919Z"
   },
   {
    "duration": 17,
    "start_time": "2022-04-25T04:24:46.936Z"
   },
   {
    "duration": 3,
    "start_time": "2022-04-25T04:24:46.954Z"
   },
   {
    "duration": 17,
    "start_time": "2022-04-25T04:24:46.958Z"
   },
   {
    "duration": 3143,
    "start_time": "2022-04-25T04:24:46.976Z"
   },
   {
    "duration": 6321,
    "start_time": "2022-04-25T04:24:50.121Z"
   },
   {
    "duration": 524,
    "start_time": "2022-04-25T04:24:56.443Z"
   },
   {
    "duration": 236,
    "start_time": "2022-04-25T04:24:56.972Z"
   },
   {
    "duration": 486,
    "start_time": "2022-04-25T04:24:57.209Z"
   },
   {
    "duration": 5,
    "start_time": "2022-04-25T04:24:57.697Z"
   },
   {
    "duration": 15,
    "start_time": "2022-04-25T04:24:57.703Z"
   },
   {
    "duration": 1312,
    "start_time": "2022-04-25T04:24:57.719Z"
   },
   {
    "duration": 652,
    "start_time": "2022-04-25T04:24:59.032Z"
   },
   {
    "duration": 5,
    "start_time": "2022-04-25T04:24:59.685Z"
   },
   {
    "duration": 1549,
    "start_time": "2022-08-02T07:53:22.627Z"
   },
   {
    "duration": 3,
    "start_time": "2022-08-02T07:53:24.178Z"
   },
   {
    "duration": 74,
    "start_time": "2022-08-02T07:53:24.399Z"
   },
   {
    "duration": 3,
    "start_time": "2022-08-02T07:53:25.546Z"
   },
   {
    "duration": 10,
    "start_time": "2022-08-02T07:53:26.046Z"
   },
   {
    "duration": 5,
    "start_time": "2022-08-02T07:53:28.241Z"
   },
   {
    "duration": 6158,
    "start_time": "2022-08-02T07:53:28.967Z"
   },
   {
    "duration": 18,
    "start_time": "2022-08-02T07:53:35.127Z"
   },
   {
    "duration": 113,
    "start_time": "2022-08-02T07:56:07.945Z"
   },
   {
    "duration": 4,
    "start_time": "2022-08-02T07:56:10.598Z"
   },
   {
    "duration": 3118,
    "start_time": "2022-08-02T07:56:11.027Z"
   },
   {
    "duration": 7179,
    "start_time": "2022-08-02T07:56:51.658Z"
   },
   {
    "duration": 3,
    "start_time": "2022-08-02T08:01:36.068Z"
   },
   {
    "duration": 5953,
    "start_time": "2022-08-02T08:01:37.545Z"
   },
   {
    "duration": 18,
    "start_time": "2022-08-02T08:01:43.500Z"
   },
   {
    "duration": 6760,
    "start_time": "2022-08-02T08:03:10.428Z"
   },
   {
    "duration": 126,
    "start_time": "2022-08-02T08:03:33.866Z"
   },
   {
    "duration": 24,
    "start_time": "2022-08-02T08:04:06.451Z"
   },
   {
    "duration": 720,
    "start_time": "2022-08-02T08:04:12.678Z"
   },
   {
    "duration": 735,
    "start_time": "2022-08-02T08:04:22.487Z"
   },
   {
    "duration": 7,
    "start_time": "2022-08-02T08:04:40.870Z"
   },
   {
    "duration": 726,
    "start_time": "2022-08-02T08:04:47.440Z"
   },
   {
    "duration": 330,
    "start_time": "2022-08-02T08:05:28.344Z"
   },
   {
    "duration": 185,
    "start_time": "2022-08-02T08:05:32.736Z"
   },
   {
    "duration": 149,
    "start_time": "2022-08-02T08:05:36.885Z"
   },
   {
    "duration": 11,
    "start_time": "2022-08-02T08:06:29.671Z"
   },
   {
    "duration": 757,
    "start_time": "2022-08-02T08:06:36.151Z"
   },
   {
    "duration": 3516,
    "start_time": "2022-08-02T08:07:08.771Z"
   },
   {
    "duration": 747,
    "start_time": "2022-08-02T08:07:28.662Z"
   },
   {
    "duration": 1355,
    "start_time": "2022-08-02T08:07:49.366Z"
   },
   {
    "duration": 2,
    "start_time": "2022-08-02T08:07:50.724Z"
   },
   {
    "duration": 57,
    "start_time": "2022-08-02T08:07:50.728Z"
   },
   {
    "duration": 2,
    "start_time": "2022-08-02T08:07:50.787Z"
   },
   {
    "duration": 29,
    "start_time": "2022-08-02T08:07:50.792Z"
   },
   {
    "duration": 4,
    "start_time": "2022-08-02T08:07:50.823Z"
   },
   {
    "duration": 6048,
    "start_time": "2022-08-02T08:07:50.830Z"
   },
   {
    "duration": 30,
    "start_time": "2022-08-02T08:07:56.880Z"
   },
   {
    "duration": 4539,
    "start_time": "2022-08-02T08:07:56.912Z"
   },
   {
    "duration": 5,
    "start_time": "2022-08-02T08:08:01.453Z"
   },
   {
    "duration": 3909,
    "start_time": "2022-08-02T08:08:01.460Z"
   },
   {
    "duration": 7210,
    "start_time": "2022-08-02T08:08:05.371Z"
   },
   {
    "duration": 104,
    "start_time": "2022-08-02T08:08:24.372Z"
   },
   {
    "duration": 72477,
    "start_time": "2022-08-02T08:08:49.473Z"
   },
   {
    "duration": 26,
    "start_time": "2022-08-02T08:10:05.494Z"
   },
   {
    "duration": 4265,
    "start_time": "2022-08-02T08:10:22.732Z"
   },
   {
    "duration": 20,
    "start_time": "2022-08-02T08:10:32.577Z"
   },
   {
    "duration": 105,
    "start_time": "2022-08-02T08:12:59.796Z"
   },
   {
    "duration": 106,
    "start_time": "2022-08-02T08:13:09.144Z"
   },
   {
    "duration": 34,
    "start_time": "2022-08-02T08:13:13.487Z"
   },
   {
    "duration": 1292,
    "start_time": "2022-08-02T08:13:47.153Z"
   },
   {
    "duration": 3,
    "start_time": "2022-08-02T08:13:48.447Z"
   },
   {
    "duration": 74,
    "start_time": "2022-08-02T08:13:48.452Z"
   },
   {
    "duration": 3,
    "start_time": "2022-08-02T08:13:48.527Z"
   },
   {
    "duration": 15,
    "start_time": "2022-08-02T08:13:48.532Z"
   },
   {
    "duration": 11,
    "start_time": "2022-08-02T08:13:48.548Z"
   },
   {
    "duration": 5905,
    "start_time": "2022-08-02T08:13:48.561Z"
   },
   {
    "duration": 16,
    "start_time": "2022-08-02T08:13:54.468Z"
   },
   {
    "duration": 4578,
    "start_time": "2022-08-02T08:13:54.486Z"
   },
   {
    "duration": 1445223,
    "start_time": "2022-08-02T08:13:59.067Z"
   },
   {
    "duration": 1330,
    "start_time": "2022-08-02T09:03:00.574Z"
   },
   {
    "duration": 4,
    "start_time": "2022-08-02T09:03:01.911Z"
   },
   {
    "duration": 106,
    "start_time": "2022-08-02T09:03:01.918Z"
   },
   {
    "duration": 3,
    "start_time": "2022-08-02T09:03:02.025Z"
   },
   {
    "duration": 18,
    "start_time": "2022-08-02T09:03:02.030Z"
   },
   {
    "duration": 5,
    "start_time": "2022-08-02T09:03:02.050Z"
   },
   {
    "duration": 6035,
    "start_time": "2022-08-02T09:03:02.056Z"
   },
   {
    "duration": 27,
    "start_time": "2022-08-02T09:03:08.093Z"
   },
   {
    "duration": 4397,
    "start_time": "2022-08-02T09:03:08.123Z"
   },
   {
    "duration": 98,
    "start_time": "2022-08-02T09:03:12.522Z"
   },
   {
    "duration": 535,
    "start_time": "2022-08-02T09:03:12.622Z"
   },
   {
    "duration": 3220,
    "start_time": "2022-08-02T09:03:13.159Z"
   },
   {
    "duration": 7065,
    "start_time": "2022-08-02T09:03:16.381Z"
   },
   {
    "duration": 511,
    "start_time": "2022-08-02T09:03:23.450Z"
   },
   {
    "duration": 215,
    "start_time": "2022-08-02T09:03:23.962Z"
   },
   {
    "duration": 445,
    "start_time": "2022-08-02T09:03:24.179Z"
   },
   {
    "duration": 14,
    "start_time": "2022-08-02T09:03:24.625Z"
   },
   {
    "duration": 20,
    "start_time": "2022-08-02T09:03:24.641Z"
   },
   {
    "duration": 1370,
    "start_time": "2022-08-02T09:03:24.663Z"
   },
   {
    "duration": 740,
    "start_time": "2022-08-02T09:03:26.036Z"
   },
   {
    "duration": 8,
    "start_time": "2022-08-02T09:03:26.778Z"
   },
   {
    "duration": 54,
    "start_time": "2022-08-02T12:18:05.562Z"
   },
   {
    "duration": 7,
    "start_time": "2022-08-02T12:18:23.458Z"
   },
   {
    "duration": 1346,
    "start_time": "2022-08-02T12:18:38.146Z"
   },
   {
    "duration": 3,
    "start_time": "2022-08-02T12:18:39.494Z"
   },
   {
    "duration": 85,
    "start_time": "2022-08-02T12:18:39.499Z"
   },
   {
    "duration": 41,
    "start_time": "2022-08-02T12:18:39.586Z"
   },
   {
    "duration": 93,
    "start_time": "2022-08-02T12:18:39.629Z"
   },
   {
    "duration": 4,
    "start_time": "2022-08-02T12:18:39.724Z"
   },
   {
    "duration": 5680,
    "start_time": "2022-08-02T12:18:39.729Z"
   },
   {
    "duration": 25,
    "start_time": "2022-08-02T12:18:45.412Z"
   },
   {
    "duration": 4403,
    "start_time": "2022-08-02T12:18:45.439Z"
   },
   {
    "duration": 93,
    "start_time": "2022-08-02T12:18:49.845Z"
   },
   {
    "duration": 616,
    "start_time": "2022-08-02T12:18:49.940Z"
   },
   {
    "duration": 3069,
    "start_time": "2022-08-02T12:18:50.559Z"
   },
   {
    "duration": 7100,
    "start_time": "2022-08-02T12:18:53.631Z"
   },
   {
    "duration": 93,
    "start_time": "2022-08-02T12:19:58.864Z"
   },
   {
    "duration": 7224,
    "start_time": "2022-08-02T12:23:05.730Z"
   },
   {
    "duration": 350,
    "start_time": "2022-08-02T12:23:48.042Z"
   },
   {
    "duration": 5,
    "start_time": "2022-08-02T12:23:54.555Z"
   },
   {
    "duration": 88,
    "start_time": "2022-08-02T12:24:18.700Z"
   },
   {
    "duration": 281,
    "start_time": "2022-08-02T12:24:22.646Z"
   },
   {
    "duration": 5,
    "start_time": "2022-08-02T12:24:23.041Z"
   },
   {
    "duration": 317,
    "start_time": "2022-08-02T12:24:30.154Z"
   },
   {
    "duration": 10,
    "start_time": "2022-08-02T12:24:30.698Z"
   },
   {
    "duration": 267,
    "start_time": "2022-08-02T12:24:32.961Z"
   },
   {
    "duration": 4,
    "start_time": "2022-08-02T12:24:33.249Z"
   },
   {
    "duration": 135,
    "start_time": "2022-08-02T12:25:17.526Z"
   },
   {
    "duration": 86,
    "start_time": "2022-08-02T12:25:28.329Z"
   },
   {
    "duration": 92,
    "start_time": "2022-08-02T12:25:37.082Z"
   },
   {
    "duration": 9953,
    "start_time": "2022-08-02T12:25:44.727Z"
   },
   {
    "duration": 0,
    "start_time": "2022-08-02T12:25:54.682Z"
   },
   {
    "duration": 10158,
    "start_time": "2022-08-02T12:25:59.926Z"
   },
   {
    "duration": 6,
    "start_time": "2022-08-02T12:26:11.376Z"
   },
   {
    "duration": 263,
    "start_time": "2022-08-02T12:26:23.286Z"
   },
   {
    "duration": 4,
    "start_time": "2022-08-02T12:26:24.766Z"
   },
   {
    "duration": 289,
    "start_time": "2022-08-02T12:26:29.601Z"
   },
   {
    "duration": 7,
    "start_time": "2022-08-02T12:26:29.894Z"
   },
   {
    "duration": 5,
    "start_time": "2022-08-02T12:26:40.934Z"
   },
   {
    "duration": 6,
    "start_time": "2022-08-02T12:26:45.660Z"
   },
   {
    "duration": 11,
    "start_time": "2022-08-02T12:27:06.332Z"
   },
   {
    "duration": 11,
    "start_time": "2022-08-02T12:27:15.599Z"
   },
   {
    "duration": 125,
    "start_time": "2022-08-02T12:28:36.560Z"
   },
   {
    "duration": 113,
    "start_time": "2022-08-02T12:28:41.757Z"
   },
   {
    "duration": 10413,
    "start_time": "2022-08-02T12:28:53.688Z"
   },
   {
    "duration": 7,
    "start_time": "2022-08-02T12:29:59.301Z"
   },
   {
    "duration": 9404,
    "start_time": "2022-08-02T12:30:52.454Z"
   },
   {
    "duration": 5,
    "start_time": "2022-08-02T12:31:03.337Z"
   },
   {
    "duration": 4491,
    "start_time": "2022-08-02T12:33:19.633Z"
   },
   {
    "duration": 26,
    "start_time": "2022-08-02T12:33:25.030Z"
   },
   {
    "duration": 1527,
    "start_time": "2022-08-02T12:34:53.394Z"
   },
   {
    "duration": 2,
    "start_time": "2022-08-02T12:34:54.924Z"
   },
   {
    "duration": 93,
    "start_time": "2022-08-02T12:34:54.928Z"
   },
   {
    "duration": 3,
    "start_time": "2022-08-02T12:34:55.023Z"
   },
   {
    "duration": 65,
    "start_time": "2022-08-02T12:34:55.031Z"
   },
   {
    "duration": 16,
    "start_time": "2022-08-02T12:34:55.098Z"
   },
   {
    "duration": 6128,
    "start_time": "2022-08-02T12:34:55.116Z"
   },
   {
    "duration": 21,
    "start_time": "2022-08-02T12:35:01.246Z"
   },
   {
    "duration": 4865,
    "start_time": "2022-08-02T12:35:01.270Z"
   },
   {
    "duration": 14388,
    "start_time": "2022-08-02T12:35:06.138Z"
   },
   {
    "duration": 5,
    "start_time": "2022-08-02T12:35:20.528Z"
   },
   {
    "duration": 4335,
    "start_time": "2022-08-02T12:35:20.535Z"
   },
   {
    "duration": 6896,
    "start_time": "2022-08-02T12:35:24.872Z"
   },
   {
    "duration": 479,
    "start_time": "2022-08-02T12:35:31.771Z"
   },
   {
    "duration": 209,
    "start_time": "2022-08-02T12:35:32.252Z"
   },
   {
    "duration": 442,
    "start_time": "2022-08-02T12:35:32.463Z"
   },
   {
    "duration": 7,
    "start_time": "2022-08-02T12:35:32.907Z"
   },
   {
    "duration": 34,
    "start_time": "2022-08-02T12:35:32.916Z"
   },
   {
    "duration": 1359,
    "start_time": "2022-08-02T12:35:32.952Z"
   },
   {
    "duration": 766,
    "start_time": "2022-08-02T12:35:34.313Z"
   },
   {
    "duration": 5,
    "start_time": "2022-08-02T12:35:35.081Z"
   },
   {
    "duration": 478,
    "start_time": "2022-08-02T12:37:50.570Z"
   },
   {
    "duration": 207,
    "start_time": "2022-08-02T12:39:18.080Z"
   },
   {
    "duration": 488,
    "start_time": "2022-08-02T12:39:23.227Z"
   },
   {
    "duration": 432,
    "start_time": "2022-08-02T12:40:13.584Z"
   },
   {
    "duration": 1441,
    "start_time": "2022-08-02T12:40:45.922Z"
   },
   {
    "duration": 711,
    "start_time": "2022-08-02T12:41:36.639Z"
   },
   {
    "duration": 5,
    "start_time": "2022-08-02T12:43:26.225Z"
   },
   {
    "duration": 5,
    "start_time": "2022-08-02T12:43:44.764Z"
   },
   {
    "duration": 1408,
    "start_time": "2022-08-02T12:44:04.784Z"
   },
   {
    "duration": 10,
    "start_time": "2022-08-02T12:44:06.195Z"
   },
   {
    "duration": 155,
    "start_time": "2022-08-02T12:44:06.207Z"
   },
   {
    "duration": 3,
    "start_time": "2022-08-02T12:44:06.364Z"
   },
   {
    "duration": 30,
    "start_time": "2022-08-02T12:44:06.370Z"
   },
   {
    "duration": 17,
    "start_time": "2022-08-02T12:44:06.402Z"
   },
   {
    "duration": 5875,
    "start_time": "2022-08-02T12:44:06.421Z"
   },
   {
    "duration": 18,
    "start_time": "2022-08-02T12:44:12.298Z"
   },
   {
    "duration": 3878,
    "start_time": "2022-08-02T12:44:12.317Z"
   },
   {
    "duration": 13173,
    "start_time": "2022-08-02T12:44:16.197Z"
   },
   {
    "duration": 4,
    "start_time": "2022-08-02T12:44:29.372Z"
   },
   {
    "duration": 3169,
    "start_time": "2022-08-02T12:44:29.378Z"
   },
   {
    "duration": 6654,
    "start_time": "2022-08-02T12:44:32.549Z"
   },
   {
    "duration": 458,
    "start_time": "2022-08-02T12:44:39.207Z"
   },
   {
    "duration": 181,
    "start_time": "2022-08-02T12:44:39.667Z"
   },
   {
    "duration": 427,
    "start_time": "2022-08-02T12:44:39.850Z"
   },
   {
    "duration": 6,
    "start_time": "2022-08-02T12:44:40.279Z"
   },
   {
    "duration": 413,
    "start_time": "2022-08-02T12:44:40.286Z"
   },
   {
    "duration": 1265,
    "start_time": "2022-08-02T12:44:40.704Z"
   },
   {
    "duration": 703,
    "start_time": "2022-08-02T12:44:41.970Z"
   },
   {
    "duration": 7,
    "start_time": "2022-08-02T12:44:42.675Z"
   },
   {
    "duration": 408,
    "start_time": "2022-08-02T12:45:00.525Z"
   },
   {
    "duration": 1491,
    "start_time": "2022-08-02T12:45:07.526Z"
   },
   {
    "duration": 4,
    "start_time": "2022-08-02T12:45:09.020Z"
   },
   {
    "duration": 55,
    "start_time": "2022-08-02T12:45:09.025Z"
   },
   {
    "duration": 3,
    "start_time": "2022-08-02T12:45:09.082Z"
   },
   {
    "duration": 15,
    "start_time": "2022-08-02T12:45:09.087Z"
   },
   {
    "duration": 3,
    "start_time": "2022-08-02T12:45:09.104Z"
   },
   {
    "duration": 5730,
    "start_time": "2022-08-02T12:45:09.109Z"
   },
   {
    "duration": 19,
    "start_time": "2022-08-02T12:45:14.841Z"
   },
   {
    "duration": 4203,
    "start_time": "2022-08-02T12:45:14.863Z"
   },
   {
    "duration": 13620,
    "start_time": "2022-08-02T12:45:19.068Z"
   },
   {
    "duration": 5,
    "start_time": "2022-08-02T12:45:32.691Z"
   },
   {
    "duration": 3042,
    "start_time": "2022-08-02T12:45:32.706Z"
   },
   {
    "duration": 6488,
    "start_time": "2022-08-02T12:45:35.750Z"
   },
   {
    "duration": 459,
    "start_time": "2022-08-02T12:45:42.240Z"
   },
   {
    "duration": 188,
    "start_time": "2022-08-02T12:45:42.701Z"
   },
   {
    "duration": 415,
    "start_time": "2022-08-02T12:45:42.891Z"
   },
   {
    "duration": 6,
    "start_time": "2022-08-02T12:45:43.307Z"
   },
   {
    "duration": 443,
    "start_time": "2022-08-02T12:45:43.315Z"
   },
   {
    "duration": 1288,
    "start_time": "2022-08-02T12:45:43.759Z"
   },
   {
    "duration": 708,
    "start_time": "2022-08-02T12:45:45.048Z"
   },
   {
    "duration": 5,
    "start_time": "2022-08-02T12:45:45.758Z"
   },
   {
    "duration": 555,
    "start_time": "2022-08-02T12:45:56.441Z"
   },
   {
    "duration": 453,
    "start_time": "2022-08-02T12:46:05.758Z"
   },
   {
    "duration": 464,
    "start_time": "2022-08-02T12:46:16.626Z"
   },
   {
    "duration": 1425,
    "start_time": "2022-08-02T12:46:23.321Z"
   },
   {
    "duration": 4,
    "start_time": "2022-08-02T12:46:24.748Z"
   },
   {
    "duration": 50,
    "start_time": "2022-08-02T12:46:24.754Z"
   },
   {
    "duration": 3,
    "start_time": "2022-08-02T12:46:24.806Z"
   },
   {
    "duration": 28,
    "start_time": "2022-08-02T12:46:24.811Z"
   },
   {
    "duration": 3,
    "start_time": "2022-08-02T12:46:24.841Z"
   },
   {
    "duration": 6150,
    "start_time": "2022-08-02T12:46:24.846Z"
   },
   {
    "duration": 24,
    "start_time": "2022-08-02T12:46:30.998Z"
   },
   {
    "duration": 4099,
    "start_time": "2022-08-02T12:46:31.024Z"
   },
   {
    "duration": 13609,
    "start_time": "2022-08-02T12:46:35.125Z"
   },
   {
    "duration": 5,
    "start_time": "2022-08-02T12:46:48.736Z"
   },
   {
    "duration": 3014,
    "start_time": "2022-08-02T12:46:48.744Z"
   },
   {
    "duration": 6792,
    "start_time": "2022-08-02T12:46:51.760Z"
   },
   {
    "duration": 465,
    "start_time": "2022-08-02T12:46:58.555Z"
   },
   {
    "duration": 192,
    "start_time": "2022-08-02T12:46:59.022Z"
   },
   {
    "duration": 426,
    "start_time": "2022-08-02T12:46:59.216Z"
   },
   {
    "duration": 6,
    "start_time": "2022-08-02T12:46:59.644Z"
   },
   {
    "duration": 420,
    "start_time": "2022-08-02T12:46:59.652Z"
   },
   {
    "duration": 1315,
    "start_time": "2022-08-02T12:47:00.074Z"
   },
   {
    "duration": 700,
    "start_time": "2022-08-02T12:47:01.391Z"
   },
   {
    "duration": 12,
    "start_time": "2022-08-02T12:47:02.092Z"
   },
   {
    "duration": 1508,
    "start_time": "2022-08-03T07:05:29.149Z"
   },
   {
    "duration": 0,
    "start_time": "2022-08-03T07:05:30.659Z"
   },
   {
    "duration": 0,
    "start_time": "2022-08-03T07:05:30.660Z"
   },
   {
    "duration": 0,
    "start_time": "2022-08-03T07:05:30.661Z"
   },
   {
    "duration": 0,
    "start_time": "2022-08-03T07:05:30.662Z"
   },
   {
    "duration": 1,
    "start_time": "2022-08-03T07:05:30.663Z"
   },
   {
    "duration": 0,
    "start_time": "2022-08-03T07:05:30.665Z"
   },
   {
    "duration": 0,
    "start_time": "2022-08-03T07:05:30.666Z"
   },
   {
    "duration": 0,
    "start_time": "2022-08-03T07:05:30.667Z"
   },
   {
    "duration": 0,
    "start_time": "2022-08-03T07:05:30.668Z"
   },
   {
    "duration": 0,
    "start_time": "2022-08-03T07:05:30.669Z"
   },
   {
    "duration": 0,
    "start_time": "2022-08-03T07:05:30.670Z"
   },
   {
    "duration": 0,
    "start_time": "2022-08-03T07:05:30.671Z"
   },
   {
    "duration": 0,
    "start_time": "2022-08-03T07:05:30.672Z"
   },
   {
    "duration": 0,
    "start_time": "2022-08-03T07:05:30.673Z"
   },
   {
    "duration": 0,
    "start_time": "2022-08-03T07:05:30.674Z"
   },
   {
    "duration": 0,
    "start_time": "2022-08-03T07:05:30.675Z"
   },
   {
    "duration": 0,
    "start_time": "2022-08-03T07:05:30.704Z"
   },
   {
    "duration": 0,
    "start_time": "2022-08-03T07:05:30.705Z"
   },
   {
    "duration": 0,
    "start_time": "2022-08-03T07:05:30.707Z"
   },
   {
    "duration": 0,
    "start_time": "2022-08-03T07:05:30.708Z"
   },
   {
    "duration": 6386,
    "start_time": "2022-08-03T07:05:49.866Z"
   },
   {
    "duration": 1323,
    "start_time": "2022-08-03T07:06:04.013Z"
   },
   {
    "duration": 3,
    "start_time": "2022-08-03T07:06:05.338Z"
   },
   {
    "duration": 51,
    "start_time": "2022-08-03T07:06:05.342Z"
   },
   {
    "duration": 3,
    "start_time": "2022-08-03T07:06:05.395Z"
   },
   {
    "duration": 15,
    "start_time": "2022-08-03T07:06:05.401Z"
   },
   {
    "duration": 9,
    "start_time": "2022-08-03T07:06:05.418Z"
   },
   {
    "duration": 5356,
    "start_time": "2022-08-03T07:06:05.429Z"
   },
   {
    "duration": 17,
    "start_time": "2022-08-03T07:06:10.787Z"
   },
   {
    "duration": 673,
    "start_time": "2022-08-03T07:06:10.806Z"
   },
   {
    "duration": 0,
    "start_time": "2022-08-03T07:06:11.481Z"
   },
   {
    "duration": 0,
    "start_time": "2022-08-03T07:06:11.482Z"
   },
   {
    "duration": 0,
    "start_time": "2022-08-03T07:06:11.483Z"
   },
   {
    "duration": 0,
    "start_time": "2022-08-03T07:06:11.484Z"
   },
   {
    "duration": 0,
    "start_time": "2022-08-03T07:06:11.485Z"
   },
   {
    "duration": 0,
    "start_time": "2022-08-03T07:06:11.486Z"
   },
   {
    "duration": 0,
    "start_time": "2022-08-03T07:06:11.487Z"
   },
   {
    "duration": 0,
    "start_time": "2022-08-03T07:06:11.504Z"
   },
   {
    "duration": 0,
    "start_time": "2022-08-03T07:06:11.505Z"
   },
   {
    "duration": 0,
    "start_time": "2022-08-03T07:06:11.506Z"
   },
   {
    "duration": 0,
    "start_time": "2022-08-03T07:06:11.507Z"
   },
   {
    "duration": 0,
    "start_time": "2022-08-03T07:06:11.508Z"
   },
   {
    "duration": 1358,
    "start_time": "2022-08-03T07:07:48.584Z"
   },
   {
    "duration": 3,
    "start_time": "2022-08-03T07:07:49.944Z"
   },
   {
    "duration": 72,
    "start_time": "2022-08-03T07:07:49.948Z"
   },
   {
    "duration": 3,
    "start_time": "2022-08-03T07:07:50.023Z"
   },
   {
    "duration": 14,
    "start_time": "2022-08-03T07:07:50.027Z"
   },
   {
    "duration": 3,
    "start_time": "2022-08-03T07:07:50.043Z"
   },
   {
    "duration": 5408,
    "start_time": "2022-08-03T07:07:50.048Z"
   },
   {
    "duration": 17,
    "start_time": "2022-08-03T07:07:55.458Z"
   },
   {
    "duration": 347,
    "start_time": "2022-08-03T07:07:55.477Z"
   },
   {
    "duration": 0,
    "start_time": "2022-08-03T07:07:55.826Z"
   },
   {
    "duration": 0,
    "start_time": "2022-08-03T07:07:55.827Z"
   },
   {
    "duration": 0,
    "start_time": "2022-08-03T07:07:55.828Z"
   },
   {
    "duration": 0,
    "start_time": "2022-08-03T07:07:55.829Z"
   },
   {
    "duration": 0,
    "start_time": "2022-08-03T07:07:55.830Z"
   },
   {
    "duration": 0,
    "start_time": "2022-08-03T07:07:55.831Z"
   },
   {
    "duration": 0,
    "start_time": "2022-08-03T07:07:55.832Z"
   },
   {
    "duration": 0,
    "start_time": "2022-08-03T07:07:55.833Z"
   },
   {
    "duration": 0,
    "start_time": "2022-08-03T07:07:55.834Z"
   },
   {
    "duration": 0,
    "start_time": "2022-08-03T07:07:55.835Z"
   },
   {
    "duration": 0,
    "start_time": "2022-08-03T07:07:55.837Z"
   },
   {
    "duration": 1,
    "start_time": "2022-08-03T07:07:55.837Z"
   },
   {
    "duration": 81,
    "start_time": "2022-08-03T07:08:25.764Z"
   },
   {
    "duration": 0,
    "start_time": "2022-08-03T07:08:25.846Z"
   },
   {
    "duration": 0,
    "start_time": "2022-08-03T07:08:25.848Z"
   },
   {
    "duration": 0,
    "start_time": "2022-08-03T07:08:25.849Z"
   },
   {
    "duration": 0,
    "start_time": "2022-08-03T07:08:25.850Z"
   },
   {
    "duration": 0,
    "start_time": "2022-08-03T07:08:25.850Z"
   },
   {
    "duration": 0,
    "start_time": "2022-08-03T07:08:25.851Z"
   },
   {
    "duration": 1,
    "start_time": "2022-08-03T07:08:25.852Z"
   },
   {
    "duration": 0,
    "start_time": "2022-08-03T07:08:25.854Z"
   },
   {
    "duration": 0,
    "start_time": "2022-08-03T07:08:25.855Z"
   },
   {
    "duration": 0,
    "start_time": "2022-08-03T07:08:25.856Z"
   },
   {
    "duration": 0,
    "start_time": "2022-08-03T07:08:25.857Z"
   },
   {
    "duration": 0,
    "start_time": "2022-08-03T07:08:25.858Z"
   },
   {
    "duration": 0,
    "start_time": "2022-08-03T07:08:25.859Z"
   },
   {
    "duration": 0,
    "start_time": "2022-08-03T07:08:25.860Z"
   },
   {
    "duration": 0,
    "start_time": "2022-08-03T07:08:25.861Z"
   },
   {
    "duration": 0,
    "start_time": "2022-08-03T07:08:25.862Z"
   },
   {
    "duration": 0,
    "start_time": "2022-08-03T07:08:25.863Z"
   },
   {
    "duration": 0,
    "start_time": "2022-08-03T07:08:25.864Z"
   },
   {
    "duration": 0,
    "start_time": "2022-08-03T07:08:25.865Z"
   },
   {
    "duration": 0,
    "start_time": "2022-08-03T07:08:25.866Z"
   },
   {
    "duration": 3146,
    "start_time": "2022-08-03T07:08:35.911Z"
   },
   {
    "duration": 1314,
    "start_time": "2022-08-03T07:08:46.119Z"
   },
   {
    "duration": 3,
    "start_time": "2022-08-03T07:08:47.435Z"
   },
   {
    "duration": 49,
    "start_time": "2022-08-03T07:08:47.439Z"
   },
   {
    "duration": 3,
    "start_time": "2022-08-03T07:08:47.489Z"
   },
   {
    "duration": 12,
    "start_time": "2022-08-03T07:08:47.494Z"
   },
   {
    "duration": 4,
    "start_time": "2022-08-03T07:08:47.507Z"
   },
   {
    "duration": 5333,
    "start_time": "2022-08-03T07:08:47.512Z"
   },
   {
    "duration": 17,
    "start_time": "2022-08-03T07:08:52.846Z"
   },
   {
    "duration": 23006,
    "start_time": "2022-08-03T07:08:52.865Z"
   },
   {
    "duration": 3233,
    "start_time": "2022-08-03T07:09:15.873Z"
   },
   {
    "duration": 4,
    "start_time": "2022-08-03T07:09:19.108Z"
   },
   {
    "duration": 3232,
    "start_time": "2022-08-03T07:09:19.114Z"
   },
   {
    "duration": 6169,
    "start_time": "2022-08-03T07:09:22.348Z"
   },
   {
    "duration": 462,
    "start_time": "2022-08-03T07:09:28.519Z"
   },
   {
    "duration": 167,
    "start_time": "2022-08-03T07:09:28.983Z"
   },
   {
    "duration": 421,
    "start_time": "2022-08-03T07:09:29.152Z"
   },
   {
    "duration": 6,
    "start_time": "2022-08-03T07:09:29.575Z"
   },
   {
    "duration": 385,
    "start_time": "2022-08-03T07:09:29.583Z"
   },
   {
    "duration": 1127,
    "start_time": "2022-08-03T07:09:29.970Z"
   },
   {
    "duration": 616,
    "start_time": "2022-08-03T07:09:31.103Z"
   },
   {
    "duration": 5,
    "start_time": "2022-08-03T07:09:31.720Z"
   },
   {
    "duration": 3232,
    "start_time": "2022-08-03T07:11:53.810Z"
   },
   {
    "duration": 3295,
    "start_time": "2022-08-03T07:13:16.427Z"
   },
   {
    "duration": 3289,
    "start_time": "2022-08-03T07:14:23.045Z"
   },
   {
    "duration": 156,
    "start_time": "2022-08-03T07:14:49.464Z"
   },
   {
    "duration": 15,
    "start_time": "2022-08-03T07:14:56.210Z"
   },
   {
    "duration": 109,
    "start_time": "2022-08-03T07:15:12.113Z"
   },
   {
    "duration": 3297,
    "start_time": "2022-08-03T07:15:21.610Z"
   },
   {
    "duration": 3516,
    "start_time": "2022-08-03T07:18:23.412Z"
   },
   {
    "duration": 1345,
    "start_time": "2022-08-03T07:19:05.110Z"
   },
   {
    "duration": 3,
    "start_time": "2022-08-03T07:19:06.457Z"
   },
   {
    "duration": 68,
    "start_time": "2022-08-03T07:19:06.461Z"
   },
   {
    "duration": 3,
    "start_time": "2022-08-03T07:19:06.532Z"
   },
   {
    "duration": 33,
    "start_time": "2022-08-03T07:19:06.537Z"
   },
   {
    "duration": 5,
    "start_time": "2022-08-03T07:19:06.572Z"
   },
   {
    "duration": 5442,
    "start_time": "2022-08-03T07:19:06.579Z"
   },
   {
    "duration": 17,
    "start_time": "2022-08-03T07:19:12.023Z"
   },
   {
    "duration": 16851,
    "start_time": "2022-08-03T07:19:12.041Z"
   },
   {
    "duration": 9,
    "start_time": "2022-08-03T07:19:28.895Z"
   },
   {
    "duration": 2739,
    "start_time": "2022-08-03T07:19:28.906Z"
   },
   {
    "duration": 6392,
    "start_time": "2022-08-03T07:19:31.647Z"
   },
   {
    "duration": 446,
    "start_time": "2022-08-03T07:19:38.041Z"
   },
   {
    "duration": 154,
    "start_time": "2022-08-03T07:19:38.489Z"
   },
   {
    "duration": 471,
    "start_time": "2022-08-03T07:19:38.645Z"
   },
   {
    "duration": 6,
    "start_time": "2022-08-03T07:19:39.118Z"
   },
   {
    "duration": 432,
    "start_time": "2022-08-03T07:19:39.125Z"
   },
   {
    "duration": 2167,
    "start_time": "2022-08-03T07:19:39.559Z"
   },
   {
    "duration": 704,
    "start_time": "2022-08-03T07:19:41.728Z"
   },
   {
    "duration": 5,
    "start_time": "2022-08-03T07:19:42.434Z"
   },
   {
    "duration": 3341,
    "start_time": "2022-08-03T07:19:42.441Z"
   },
   {
    "duration": 3519,
    "start_time": "2022-08-03T07:20:20.975Z"
   },
   {
    "duration": 1365,
    "start_time": "2022-08-03T07:21:30.410Z"
   },
   {
    "duration": 2,
    "start_time": "2022-08-03T07:21:31.777Z"
   },
   {
    "duration": 128,
    "start_time": "2022-08-03T07:21:31.781Z"
   },
   {
    "duration": 2,
    "start_time": "2022-08-03T07:21:31.911Z"
   },
   {
    "duration": 11,
    "start_time": "2022-08-03T07:21:31.915Z"
   },
   {
    "duration": 3,
    "start_time": "2022-08-03T07:21:31.928Z"
   },
   {
    "duration": 5288,
    "start_time": "2022-08-03T07:21:31.932Z"
   },
   {
    "duration": 14,
    "start_time": "2022-08-03T07:21:37.222Z"
   },
   {
    "duration": 16557,
    "start_time": "2022-08-03T07:21:37.238Z"
   },
   {
    "duration": 8,
    "start_time": "2022-08-03T07:21:53.797Z"
   },
   {
    "duration": 2734,
    "start_time": "2022-08-03T07:21:53.807Z"
   },
   {
    "duration": 6421,
    "start_time": "2022-08-03T07:21:56.543Z"
   },
   {
    "duration": 433,
    "start_time": "2022-08-03T07:22:02.967Z"
   },
   {
    "duration": 150,
    "start_time": "2022-08-03T07:22:03.403Z"
   },
   {
    "duration": 392,
    "start_time": "2022-08-03T07:22:03.554Z"
   },
   {
    "duration": 5,
    "start_time": "2022-08-03T07:22:03.948Z"
   },
   {
    "duration": 406,
    "start_time": "2022-08-03T07:22:03.955Z"
   },
   {
    "duration": 1163,
    "start_time": "2022-08-03T07:22:04.363Z"
   },
   {
    "duration": 651,
    "start_time": "2022-08-03T07:22:05.527Z"
   },
   {
    "duration": 5,
    "start_time": "2022-08-03T07:22:06.204Z"
   },
   {
    "duration": 3168,
    "start_time": "2022-08-03T07:22:06.211Z"
   }
  ],
  "kernelspec": {
   "display_name": "Python 3 (ipykernel)",
   "language": "python",
   "name": "python3"
  },
  "language_info": {
   "codemirror_mode": {
    "name": "ipython",
    "version": 3
   },
   "file_extension": ".py",
   "mimetype": "text/x-python",
   "name": "python",
   "nbconvert_exporter": "python",
   "pygments_lexer": "ipython3",
   "version": "3.9.7"
  },
  "toc": {
   "base_numbering": 1,
   "nav_menu": {
    "height": "239px",
    "width": "502px"
   },
   "number_sections": false,
   "sideBar": true,
   "skip_h1_title": true,
   "title_cell": "Table of Contents",
   "title_sidebar": "Contents",
   "toc_cell": false,
   "toc_position": {},
   "toc_section_display": true,
   "toc_window_display": false
  }
 },
 "nbformat": 4,
 "nbformat_minor": 5
}
