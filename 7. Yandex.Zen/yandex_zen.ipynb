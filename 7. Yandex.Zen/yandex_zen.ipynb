{
 "cells": [
  {
   "cell_type": "markdown",
   "id": "5297a16c",
   "metadata": {},
   "source": [
    "# Yandex Zen"
   ]
  },
  {
   "cell_type": "markdown",
   "id": "27fab8fc",
   "metadata": {},
   "source": [
    "# Table of contents\n",
    "\n",
    "I. General information. Interim conclusions.    \n",
    "\n",
    "II. Data preprocessing.\n",
    "\n",
    "- Changing the data type.\n",
    "- Categorical data processing\n",
    "- Numerical data processing\n",
    "- Duplicates processing\n",
    "\n",
    "III. Conclusion."
   ]
  },
  {
   "cell_type": "code",
   "execution_count": 1,
   "id": "b78d2233",
   "metadata": {},
   "outputs": [],
   "source": [
    "# libraries import\n",
    "import pandas as pd\n",
    "import seaborn as sns\n",
    "import matplotlib.pyplot as plt\n",
    "import os\n",
    "from sqlalchemy import create_engine"
   ]
  },
  {
   "cell_type": "code",
   "execution_count": 2,
   "id": "3626cc7c",
   "metadata": {},
   "outputs": [],
   "source": [
    "# seaborn customization\n",
    "sns.set_style(rc={'axes.facecolor':'28343a'})\n",
    "sns.set_palette('Reds')"
   ]
  },
  {
   "cell_type": "code",
   "execution_count": 3,
   "id": "8852313e",
   "metadata": {},
   "outputs": [],
   "source": [
    "# matplotlib customization\n",
    "plt.rcParams['figure.figsize'] = (20,5)"
   ]
  },
  {
   "cell_type": "markdown",
   "id": "1c1dd998",
   "metadata": {},
   "source": [
    "Displaying tables with borders:"
   ]
  },
  {
   "cell_type": "code",
   "execution_count": 4,
   "id": "edb737f3",
   "metadata": {},
   "outputs": [
    {
     "data": {
      "text/html": [
       "<style type=\"text/css\">\n",
       "table.dataframe td, table.dataframe th {\n",
       "    border: 1px  black solid !important;\n",
       "  color: black !important;\n",
       "}\n",
       "</style>\n"
      ],
      "text/plain": [
       "<IPython.core.display.HTML object>"
      ]
     },
     "metadata": {},
     "output_type": "display_data"
    }
   ],
   "source": [
    "%%HTML\n",
    "<style type=\"text/css\">\n",
    "table.dataframe td, table.dataframe th {\n",
    "    border: 1px  black solid !important;\n",
    "  color: black !important;\n",
    "}\n",
    "</style>"
   ]
  },
  {
   "cell_type": "code",
   "execution_count": 5,
   "id": "81ab2f9f",
   "metadata": {},
   "outputs": [],
   "source": [
    "# conncetion to database\n",
    "db_config = {'user': 'user', \n",
    "            'pwd': 'pwd', \n",
    "            'host': 'host',\n",
    "            'port': 0000, \n",
    "            'db': 'data-analyst-zen-project-db'} \n",
    "\n",
    "connection_string = 'postgresql://{}:{}@{}:{}/{}'.format(db_config['user'],\n",
    "                                                db_config['pwd'],\n",
    "                                                db_config['host'],\n",
    "                                                db_config['port'],\n",
    "                                                db_config['db'])\n",
    "\n",
    "engine = create_engine(connection_string) "
   ]
  },
  {
   "cell_type": "code",
   "execution_count": 6,
   "id": "8e55b578",
   "metadata": {
    "scrolled": true
   },
   "outputs": [],
   "source": [
    "# query execution\n",
    "query = 'SELECT * FROM dash_visits'\n",
    "data = pd.io.sql.read_sql(query, con = engine) "
   ]
  },
  {
   "cell_type": "markdown",
   "id": "f3fb6da1",
   "metadata": {},
   "source": [
    "# General information"
   ]
  },
  {
   "cell_type": "code",
   "execution_count": 7,
   "id": "02d15082",
   "metadata": {},
   "outputs": [],
   "source": [
    "# reading the file and saving it to the 'data' variable\n",
    "pth = '/home/yuso/jupyter_dir/jupyter_env/datasets/dash_visits_eng.csv'\n",
    "if os.path.exists(pth):\n",
    "    data = pd.read_csv(pth)\n",
    "else:\n",
    "    print('Something is wrong')"
   ]
  },
  {
   "cell_type": "code",
   "execution_count": 8,
   "id": "c6f91b45",
   "metadata": {},
   "outputs": [],
   "source": [
    "# primary data analysis function\n",
    "def get_info(df):\n",
    "    '''The function takes a dataframe as an input and provides general information about it: its shape (rows, columns),\n",
    "    columns data type, number of non-null values (DataFrame.info()), first\\last five rows (DataFrame.head()\\tail()) and also a\n",
    "    brief analysis for categorical and numerical data - DataFrame.describe().'''\n",
    "    percentiles= [.20, .40, .60, .80]\n",
    "    include=['object', 'float', 'int']\n",
    "    print(f'Total number of rows: {df.shape[0]}, total number of columns: {df.shape[1]}.')\n",
    "    print()\n",
    "    print(df.info())\n",
    "    display(df.head())\n",
    "    display(df.tail())\n",
    "    display(pd.DataFrame(df.describe(percentiles = percentiles, include = include).T))"
   ]
  },
  {
   "cell_type": "code",
   "execution_count": 9,
   "id": "cbeccfa7",
   "metadata": {
    "scrolled": false
   },
   "outputs": [
    {
     "name": "stdout",
     "output_type": "stream",
     "text": [
      "Total number of rows: 30745, total number of columns: 6.\n",
      "\n",
      "<class 'pandas.core.frame.DataFrame'>\n",
      "Int64Index: 30745 entries, 0 to 30744\n",
      "Data columns (total 6 columns):\n",
      " #   Column        Non-Null Count  Dtype \n",
      "---  ------        --------------  ----- \n",
      " 0   record_id     30745 non-null  int64 \n",
      " 1   item_topic    30745 non-null  object\n",
      " 2   source_topic  30745 non-null  object\n",
      " 3   age_segment   30745 non-null  object\n",
      " 4   dt            30745 non-null  object\n",
      " 5   visits        30745 non-null  int64 \n",
      "dtypes: int64(2), object(4)\n",
      "memory usage: 1.6+ MB\n",
      "None\n"
     ]
    },
    {
     "data": {
      "text/html": [
       "<div>\n",
       "<style scoped>\n",
       "    .dataframe tbody tr th:only-of-type {\n",
       "        vertical-align: middle;\n",
       "    }\n",
       "\n",
       "    .dataframe tbody tr th {\n",
       "        vertical-align: top;\n",
       "    }\n",
       "\n",
       "    .dataframe thead th {\n",
       "        text-align: right;\n",
       "    }\n",
       "</style>\n",
       "<table border=\"1\" class=\"dataframe\">\n",
       "  <thead>\n",
       "    <tr style=\"text-align: right;\">\n",
       "      <th></th>\n",
       "      <th>record_id</th>\n",
       "      <th>item_topic</th>\n",
       "      <th>source_topic</th>\n",
       "      <th>age_segment</th>\n",
       "      <th>dt</th>\n",
       "      <th>visits</th>\n",
       "    </tr>\n",
       "  </thead>\n",
       "  <tbody>\n",
       "    <tr>\n",
       "      <th>0</th>\n",
       "      <td>1040597</td>\n",
       "      <td>Money</td>\n",
       "      <td>Auto</td>\n",
       "      <td>18-25</td>\n",
       "      <td>2019-09-24 18:32:00</td>\n",
       "      <td>3</td>\n",
       "    </tr>\n",
       "    <tr>\n",
       "      <th>1</th>\n",
       "      <td>1040598</td>\n",
       "      <td>Money</td>\n",
       "      <td>Auto</td>\n",
       "      <td>18-25</td>\n",
       "      <td>2019-09-24 18:35:00</td>\n",
       "      <td>1</td>\n",
       "    </tr>\n",
       "    <tr>\n",
       "      <th>2</th>\n",
       "      <td>1040599</td>\n",
       "      <td>Money</td>\n",
       "      <td>Auto</td>\n",
       "      <td>18-25</td>\n",
       "      <td>2019-09-24 18:54:00</td>\n",
       "      <td>4</td>\n",
       "    </tr>\n",
       "    <tr>\n",
       "      <th>3</th>\n",
       "      <td>1040600</td>\n",
       "      <td>Money</td>\n",
       "      <td>Auto</td>\n",
       "      <td>18-25</td>\n",
       "      <td>2019-09-24 18:55:00</td>\n",
       "      <td>17</td>\n",
       "    </tr>\n",
       "    <tr>\n",
       "      <th>4</th>\n",
       "      <td>1040601</td>\n",
       "      <td>Money</td>\n",
       "      <td>Auto</td>\n",
       "      <td>18-25</td>\n",
       "      <td>2019-09-24 18:56:00</td>\n",
       "      <td>27</td>\n",
       "    </tr>\n",
       "  </tbody>\n",
       "</table>\n",
       "</div>"
      ],
      "text/plain": [
       "   record_id item_topic source_topic age_segment                   dt  visits\n",
       "0    1040597      Money         Auto       18-25  2019-09-24 18:32:00       3\n",
       "1    1040598      Money         Auto       18-25  2019-09-24 18:35:00       1\n",
       "2    1040599      Money         Auto       18-25  2019-09-24 18:54:00       4\n",
       "3    1040600      Money         Auto       18-25  2019-09-24 18:55:00      17\n",
       "4    1040601      Money         Auto       18-25  2019-09-24 18:56:00      27"
      ]
     },
     "metadata": {},
     "output_type": "display_data"
    },
    {
     "data": {
      "text/html": [
       "<div>\n",
       "<style scoped>\n",
       "    .dataframe tbody tr th:only-of-type {\n",
       "        vertical-align: middle;\n",
       "    }\n",
       "\n",
       "    .dataframe tbody tr th {\n",
       "        vertical-align: top;\n",
       "    }\n",
       "\n",
       "    .dataframe thead th {\n",
       "        text-align: right;\n",
       "    }\n",
       "</style>\n",
       "<table border=\"1\" class=\"dataframe\">\n",
       "  <thead>\n",
       "    <tr style=\"text-align: right;\">\n",
       "      <th></th>\n",
       "      <th>record_id</th>\n",
       "      <th>item_topic</th>\n",
       "      <th>source_topic</th>\n",
       "      <th>age_segment</th>\n",
       "      <th>dt</th>\n",
       "      <th>visits</th>\n",
       "    </tr>\n",
       "  </thead>\n",
       "  <tbody>\n",
       "    <tr>\n",
       "      <th>30740</th>\n",
       "      <td>1071337</td>\n",
       "      <td>Humor</td>\n",
       "      <td>Finance</td>\n",
       "      <td>36-40</td>\n",
       "      <td>2019-09-24 18:57:00</td>\n",
       "      <td>2</td>\n",
       "    </tr>\n",
       "    <tr>\n",
       "      <th>30741</th>\n",
       "      <td>1071338</td>\n",
       "      <td>Humor</td>\n",
       "      <td>Finance</td>\n",
       "      <td>36-40</td>\n",
       "      <td>2019-09-24 19:00:00</td>\n",
       "      <td>1</td>\n",
       "    </tr>\n",
       "    <tr>\n",
       "      <th>30742</th>\n",
       "      <td>1071339</td>\n",
       "      <td>Humor</td>\n",
       "      <td>Finance</td>\n",
       "      <td>41-45</td>\n",
       "      <td>2019-09-24 18:54:00</td>\n",
       "      <td>1</td>\n",
       "    </tr>\n",
       "    <tr>\n",
       "      <th>30743</th>\n",
       "      <td>1071340</td>\n",
       "      <td>Humor</td>\n",
       "      <td>Finance</td>\n",
       "      <td>41-45</td>\n",
       "      <td>2019-09-24 18:56:00</td>\n",
       "      <td>1</td>\n",
       "    </tr>\n",
       "    <tr>\n",
       "      <th>30744</th>\n",
       "      <td>1071341</td>\n",
       "      <td>Humor</td>\n",
       "      <td>Finance</td>\n",
       "      <td>41-45</td>\n",
       "      <td>2019-09-24 19:00:00</td>\n",
       "      <td>1</td>\n",
       "    </tr>\n",
       "  </tbody>\n",
       "</table>\n",
       "</div>"
      ],
      "text/plain": [
       "       record_id item_topic source_topic age_segment                   dt  \\\n",
       "30740    1071337      Humor      Finance       36-40  2019-09-24 18:57:00   \n",
       "30741    1071338      Humor      Finance       36-40  2019-09-24 19:00:00   \n",
       "30742    1071339      Humor      Finance       41-45  2019-09-24 18:54:00   \n",
       "30743    1071340      Humor      Finance       41-45  2019-09-24 18:56:00   \n",
       "30744    1071341      Humor      Finance       41-45  2019-09-24 19:00:00   \n",
       "\n",
       "       visits  \n",
       "30740       2  \n",
       "30741       1  \n",
       "30742       1  \n",
       "30743       1  \n",
       "30744       1  "
      ]
     },
     "metadata": {},
     "output_type": "display_data"
    },
    {
     "data": {
      "text/html": [
       "<div>\n",
       "<style scoped>\n",
       "    .dataframe tbody tr th:only-of-type {\n",
       "        vertical-align: middle;\n",
       "    }\n",
       "\n",
       "    .dataframe tbody tr th {\n",
       "        vertical-align: top;\n",
       "    }\n",
       "\n",
       "    .dataframe thead th {\n",
       "        text-align: right;\n",
       "    }\n",
       "</style>\n",
       "<table border=\"1\" class=\"dataframe\">\n",
       "  <thead>\n",
       "    <tr style=\"text-align: right;\">\n",
       "      <th></th>\n",
       "      <th>count</th>\n",
       "      <th>unique</th>\n",
       "      <th>top</th>\n",
       "      <th>freq</th>\n",
       "      <th>mean</th>\n",
       "      <th>std</th>\n",
       "      <th>min</th>\n",
       "      <th>20%</th>\n",
       "      <th>40%</th>\n",
       "      <th>50%</th>\n",
       "      <th>60%</th>\n",
       "      <th>80%</th>\n",
       "      <th>max</th>\n",
       "    </tr>\n",
       "  </thead>\n",
       "  <tbody>\n",
       "    <tr>\n",
       "      <th>record_id</th>\n",
       "      <td>30745.0</td>\n",
       "      <td>NaN</td>\n",
       "      <td>NaN</td>\n",
       "      <td>NaN</td>\n",
       "      <td>1055969.0</td>\n",
       "      <td>8875.46135</td>\n",
       "      <td>1040597.0</td>\n",
       "      <td>1046745.8</td>\n",
       "      <td>1052894.6</td>\n",
       "      <td>1055969.0</td>\n",
       "      <td>1059043.4</td>\n",
       "      <td>1065192.2</td>\n",
       "      <td>1071341.0</td>\n",
       "    </tr>\n",
       "    <tr>\n",
       "      <th>item_topic</th>\n",
       "      <td>30745</td>\n",
       "      <td>25</td>\n",
       "      <td>Relationship</td>\n",
       "      <td>1536</td>\n",
       "      <td>NaN</td>\n",
       "      <td>NaN</td>\n",
       "      <td>NaN</td>\n",
       "      <td>NaN</td>\n",
       "      <td>NaN</td>\n",
       "      <td>NaN</td>\n",
       "      <td>NaN</td>\n",
       "      <td>NaN</td>\n",
       "      <td>NaN</td>\n",
       "    </tr>\n",
       "    <tr>\n",
       "      <th>source_topic</th>\n",
       "      <td>30745</td>\n",
       "      <td>26</td>\n",
       "      <td>Family relationships</td>\n",
       "      <td>1822</td>\n",
       "      <td>NaN</td>\n",
       "      <td>NaN</td>\n",
       "      <td>NaN</td>\n",
       "      <td>NaN</td>\n",
       "      <td>NaN</td>\n",
       "      <td>NaN</td>\n",
       "      <td>NaN</td>\n",
       "      <td>NaN</td>\n",
       "      <td>NaN</td>\n",
       "    </tr>\n",
       "    <tr>\n",
       "      <th>age_segment</th>\n",
       "      <td>30745</td>\n",
       "      <td>6</td>\n",
       "      <td>18-25</td>\n",
       "      <td>7056</td>\n",
       "      <td>NaN</td>\n",
       "      <td>NaN</td>\n",
       "      <td>NaN</td>\n",
       "      <td>NaN</td>\n",
       "      <td>NaN</td>\n",
       "      <td>NaN</td>\n",
       "      <td>NaN</td>\n",
       "      <td>NaN</td>\n",
       "      <td>NaN</td>\n",
       "    </tr>\n",
       "    <tr>\n",
       "      <th>dt</th>\n",
       "      <td>30745</td>\n",
       "      <td>17</td>\n",
       "      <td>2019-09-24 18:58:00</td>\n",
       "      <td>3383</td>\n",
       "      <td>NaN</td>\n",
       "      <td>NaN</td>\n",
       "      <td>NaN</td>\n",
       "      <td>NaN</td>\n",
       "      <td>NaN</td>\n",
       "      <td>NaN</td>\n",
       "      <td>NaN</td>\n",
       "      <td>NaN</td>\n",
       "      <td>NaN</td>\n",
       "    </tr>\n",
       "    <tr>\n",
       "      <th>visits</th>\n",
       "      <td>30745.0</td>\n",
       "      <td>NaN</td>\n",
       "      <td>NaN</td>\n",
       "      <td>NaN</td>\n",
       "      <td>10.089673</td>\n",
       "      <td>19.727601</td>\n",
       "      <td>1.0</td>\n",
       "      <td>1.0</td>\n",
       "      <td>2.0</td>\n",
       "      <td>3.0</td>\n",
       "      <td>5.0</td>\n",
       "      <td>13.0</td>\n",
       "      <td>371.0</td>\n",
       "    </tr>\n",
       "  </tbody>\n",
       "</table>\n",
       "</div>"
      ],
      "text/plain": [
       "                count unique                   top  freq       mean  \\\n",
       "record_id     30745.0    NaN                   NaN   NaN  1055969.0   \n",
       "item_topic      30745     25          Relationship  1536        NaN   \n",
       "source_topic    30745     26  Family relationships  1822        NaN   \n",
       "age_segment     30745      6                 18-25  7056        NaN   \n",
       "dt              30745     17   2019-09-24 18:58:00  3383        NaN   \n",
       "visits        30745.0    NaN                   NaN   NaN  10.089673   \n",
       "\n",
       "                     std        min        20%        40%        50%  \\\n",
       "record_id     8875.46135  1040597.0  1046745.8  1052894.6  1055969.0   \n",
       "item_topic           NaN        NaN        NaN        NaN        NaN   \n",
       "source_topic         NaN        NaN        NaN        NaN        NaN   \n",
       "age_segment          NaN        NaN        NaN        NaN        NaN   \n",
       "dt                   NaN        NaN        NaN        NaN        NaN   \n",
       "visits         19.727601        1.0        1.0        2.0        3.0   \n",
       "\n",
       "                    60%        80%        max  \n",
       "record_id     1059043.4  1065192.2  1071341.0  \n",
       "item_topic          NaN        NaN        NaN  \n",
       "source_topic        NaN        NaN        NaN  \n",
       "age_segment         NaN        NaN        NaN  \n",
       "dt                  NaN        NaN        NaN  \n",
       "visits              5.0       13.0      371.0  "
      ]
     },
     "metadata": {},
     "output_type": "display_data"
    }
   ],
   "source": [
    "# applying get_info function\n",
    "get_info(data)"
   ]
  },
  {
   "cell_type": "code",
   "execution_count": 10,
   "id": "0b55bf02",
   "metadata": {
    "scrolled": false
   },
   "outputs": [],
   "source": [
    "# set unique record ID as an index\n",
    "data.set_index('record_id', inplace=True)"
   ]
  },
  {
   "cell_type": "markdown",
   "id": "9d78778c",
   "metadata": {},
   "source": [
    "The dataframe has 6 columns (2 of them - int64, 4 - object type) and 30745 rows.\n",
    "\n",
    "**According to the documentation:**\n",
    "\n",
    "`record_id` - a unique number to every card;      \n",
    "`item_topic` - card topic;       \n",
    "`source_topic` - source topic;          \n",
    "`age_segment` - visitor's age group;      \n",
    "`dt` - visit time;            \n",
    "`visits` - total number of visits;          \n",
    "\n",
    "**Brief data analysis:**\n",
    "\n",
    "- there are no missing values in the data;\n",
    "- data type issues - `dt` column has type object, datetime is needed;\n",
    "- object_type columns contain 25-26 unique values, we'll find out if there are duplicates;"
   ]
  },
  {
   "cell_type": "markdown",
   "id": "54625244",
   "metadata": {},
   "source": [
    "Each row of the table contains data about a card - its unique ID, item and source topics, age segment and total number of visits. All cards have 25 item topics, 26 source topics and 6 age groups. The most popular topics are relationships, age segment - 18-25.  \n",
    "\n",
    "It can be argued that currently available data is sufficient for the task. But this data needs to be processed: we need to check and remove duplicates, incorrect values, process numerical and categorical data."
   ]
  },
  {
   "cell_type": "markdown",
   "id": "537b11bc",
   "metadata": {},
   "source": [
    "# Data preprocessing"
   ]
  },
  {
   "cell_type": "markdown",
   "id": "a026aaaa",
   "metadata": {},
   "source": [
    "## Changing the data type"
   ]
  },
  {
   "cell_type": "code",
   "execution_count": 11,
   "id": "b68134fb",
   "metadata": {},
   "outputs": [],
   "source": [
    "# to datetime conversion\n",
    "data['dt'] = pd.to_datetime(data['dt'], format='%Y-%m-%d %H:%M:%S')"
   ]
  },
  {
   "cell_type": "markdown",
   "id": "4e5c5fb3",
   "metadata": {},
   "source": [
    "## Categorical data processing"
   ]
  },
  {
   "cell_type": "markdown",
   "id": "08ea2e8e",
   "metadata": {},
   "source": [
    "In this section we will check unique values in card and source topics and create tables with topic ratio. "
   ]
  },
  {
   "cell_type": "code",
   "execution_count": 12,
   "id": "97055e75",
   "metadata": {
    "scrolled": false
   },
   "outputs": [
    {
     "data": {
      "text/html": [
       "<div>\n",
       "<style scoped>\n",
       "    .dataframe tbody tr th:only-of-type {\n",
       "        vertical-align: middle;\n",
       "    }\n",
       "\n",
       "    .dataframe tbody tr th {\n",
       "        vertical-align: top;\n",
       "    }\n",
       "\n",
       "    .dataframe thead th {\n",
       "        text-align: right;\n",
       "    }\n",
       "</style>\n",
       "<table border=\"1\" class=\"dataframe\">\n",
       "  <thead>\n",
       "    <tr style=\"text-align: right;\">\n",
       "      <th></th>\n",
       "      <th>Count</th>\n",
       "      <th>Ratio</th>\n",
       "    </tr>\n",
       "  </thead>\n",
       "  <tbody>\n",
       "    <tr>\n",
       "      <th>Relationship</th>\n",
       "      <td>1536</td>\n",
       "      <td>5.0%</td>\n",
       "    </tr>\n",
       "    <tr>\n",
       "      <th>Interesting Facts</th>\n",
       "      <td>1535</td>\n",
       "      <td>5.0%</td>\n",
       "    </tr>\n",
       "    <tr>\n",
       "      <th>Science</th>\n",
       "      <td>1505</td>\n",
       "      <td>4.9%</td>\n",
       "    </tr>\n",
       "    <tr>\n",
       "      <th>Collections</th>\n",
       "      <td>1456</td>\n",
       "      <td>4.7%</td>\n",
       "    </tr>\n",
       "    <tr>\n",
       "      <th>Helpful Hints</th>\n",
       "      <td>1424</td>\n",
       "      <td>4.6%</td>\n",
       "    </tr>\n",
       "    <tr>\n",
       "      <th>Society</th>\n",
       "      <td>1422</td>\n",
       "      <td>4.6%</td>\n",
       "    </tr>\n",
       "    <tr>\n",
       "      <th>Russia</th>\n",
       "      <td>1385</td>\n",
       "      <td>4.5%</td>\n",
       "    </tr>\n",
       "    <tr>\n",
       "      <th>History</th>\n",
       "      <td>1363</td>\n",
       "      <td>4.4%</td>\n",
       "    </tr>\n",
       "    <tr>\n",
       "      <th>Family</th>\n",
       "      <td>1287</td>\n",
       "      <td>4.2%</td>\n",
       "    </tr>\n",
       "    <tr>\n",
       "      <th>Travel</th>\n",
       "      <td>1247</td>\n",
       "      <td>4.1%</td>\n",
       "    </tr>\n",
       "  </tbody>\n",
       "</table>\n",
       "</div>"
      ],
      "text/plain": [
       "                   Count Ratio\n",
       "Relationship        1536  5.0%\n",
       "Interesting Facts   1535  5.0%\n",
       "Science             1505  4.9%\n",
       "Collections         1456  4.7%\n",
       "Helpful Hints       1424  4.6%\n",
       "Society             1422  4.6%\n",
       "Russia              1385  4.5%\n",
       "History             1363  4.4%\n",
       "Family              1287  4.2%\n",
       "Travel              1247  4.1%"
      ]
     },
     "execution_count": 12,
     "metadata": {},
     "output_type": "execute_result"
    }
   ],
   "source": [
    "# top 10 card topics\n",
    "data_item = pd.DataFrame(data['item_topic'].value_counts(ascending=False).head(10))\n",
    "data_item.rename(columns={'item_topic': 'Count'}, inplace=True)\n",
    "data_item['Ratio'] = data_item['Count']/data.shape[0]\n",
    "data_item['Ratio'] = data_item['Ratio'].astype(float).map(\"{:.1%}\".format)\n",
    "data_item"
   ]
  },
  {
   "cell_type": "code",
   "execution_count": 13,
   "id": "38ea292e",
   "metadata": {
    "scrolled": true
   },
   "outputs": [
    {
     "data": {
      "text/html": [
       "<div>\n",
       "<style scoped>\n",
       "    .dataframe tbody tr th:only-of-type {\n",
       "        vertical-align: middle;\n",
       "    }\n",
       "\n",
       "    .dataframe tbody tr th {\n",
       "        vertical-align: top;\n",
       "    }\n",
       "\n",
       "    .dataframe thead th {\n",
       "        text-align: right;\n",
       "    }\n",
       "</style>\n",
       "<table border=\"1\" class=\"dataframe\">\n",
       "  <thead>\n",
       "    <tr style=\"text-align: right;\">\n",
       "      <th></th>\n",
       "      <th>Count</th>\n",
       "      <th>Ratio</th>\n",
       "    </tr>\n",
       "  </thead>\n",
       "  <tbody>\n",
       "    <tr>\n",
       "      <th>Family relationships</th>\n",
       "      <td>1822</td>\n",
       "      <td>5.9%</td>\n",
       "    </tr>\n",
       "    <tr>\n",
       "      <th>Russia</th>\n",
       "      <td>1687</td>\n",
       "      <td>5.5%</td>\n",
       "    </tr>\n",
       "    <tr>\n",
       "      <th>Celebrities</th>\n",
       "      <td>1650</td>\n",
       "      <td>5.4%</td>\n",
       "    </tr>\n",
       "    <tr>\n",
       "      <th>Helpful Hints</th>\n",
       "      <td>1578</td>\n",
       "      <td>5.1%</td>\n",
       "    </tr>\n",
       "    <tr>\n",
       "      <th>Travel</th>\n",
       "      <td>1563</td>\n",
       "      <td>5.1%</td>\n",
       "    </tr>\n",
       "    <tr>\n",
       "      <th>Movie</th>\n",
       "      <td>1505</td>\n",
       "      <td>4.9%</td>\n",
       "    </tr>\n",
       "    <tr>\n",
       "      <th>Children</th>\n",
       "      <td>1459</td>\n",
       "      <td>4.7%</td>\n",
       "    </tr>\n",
       "    <tr>\n",
       "      <th>History</th>\n",
       "      <td>1437</td>\n",
       "      <td>4.7%</td>\n",
       "    </tr>\n",
       "    <tr>\n",
       "      <th>Family</th>\n",
       "      <td>1405</td>\n",
       "      <td>4.6%</td>\n",
       "    </tr>\n",
       "    <tr>\n",
       "      <th>Clothing</th>\n",
       "      <td>1379</td>\n",
       "      <td>4.5%</td>\n",
       "    </tr>\n",
       "  </tbody>\n",
       "</table>\n",
       "</div>"
      ],
      "text/plain": [
       "                      Count Ratio\n",
       "Family relationships   1822  5.9%\n",
       "Russia                 1687  5.5%\n",
       "Celebrities            1650  5.4%\n",
       "Helpful Hints          1578  5.1%\n",
       "Travel                 1563  5.1%\n",
       "Movie                  1505  4.9%\n",
       "Children               1459  4.7%\n",
       "History                1437  4.7%\n",
       "Family                 1405  4.6%\n",
       "Clothing               1379  4.5%"
      ]
     },
     "execution_count": 13,
     "metadata": {},
     "output_type": "execute_result"
    }
   ],
   "source": [
    "# top 10 source topics\n",
    "data_source = pd.DataFrame(data['source_topic'].value_counts(ascending=False).head(10))\n",
    "data_source.rename(columns={'source_topic': 'Count'}, inplace=True)\n",
    "data_source['Ratio'] = data_source['Count']/data.shape[0]\n",
    "data_source['Ratio'] = data_source['Ratio'].astype(float).map(\"{:.1%}\".format)\n",
    "data_source"
   ]
  },
  {
   "cell_type": "markdown",
   "id": "add1691f",
   "metadata": {},
   "source": [
    "## Numerical data processing"
   ]
  },
  {
   "cell_type": "markdown",
   "id": "8837ac97",
   "metadata": {},
   "source": [
    "In this section we'll check min and max observation date, total number of visits and age group distribution."
   ]
  },
  {
   "cell_type": "code",
   "execution_count": 14,
   "id": "d7759358",
   "metadata": {},
   "outputs": [
    {
     "name": "stdout",
     "output_type": "stream",
     "text": [
      "Min date: 2019-09-24 18:28:00\n",
      "Max date: 2019-09-24 19:00:00\n"
     ]
    }
   ],
   "source": [
    "# observation period\n",
    "print('Min date:', data['dt'].min())\n",
    "print('Max date:', data['dt'].max())"
   ]
  },
  {
   "cell_type": "code",
   "execution_count": 15,
   "id": "67eb97bd",
   "metadata": {},
   "outputs": [
    {
     "data": {
      "text/plain": [
       "310207"
      ]
     },
     "execution_count": 15,
     "metadata": {},
     "output_type": "execute_result"
    }
   ],
   "source": [
    "# total visits\n",
    "data['visits'].sum()"
   ]
  },
  {
   "cell_type": "code",
   "execution_count": 20,
   "id": "105f29aa",
   "metadata": {
    "scrolled": false
   },
   "outputs": [
    {
     "data": {
      "text/html": [
       "<div>\n",
       "<style scoped>\n",
       "    .dataframe tbody tr th:only-of-type {\n",
       "        vertical-align: middle;\n",
       "    }\n",
       "\n",
       "    .dataframe tbody tr th {\n",
       "        vertical-align: top;\n",
       "    }\n",
       "\n",
       "    .dataframe thead th {\n",
       "        text-align: right;\n",
       "    }\n",
       "</style>\n",
       "<table border=\"1\" class=\"dataframe\">\n",
       "  <thead>\n",
       "    <tr style=\"text-align: right;\">\n",
       "      <th></th>\n",
       "      <th>18-25</th>\n",
       "      <th>26-30</th>\n",
       "      <th>31-35</th>\n",
       "      <th>36-40</th>\n",
       "      <th>41-45</th>\n",
       "      <th>45+</th>\n",
       "    </tr>\n",
       "  </thead>\n",
       "  <tbody>\n",
       "    <tr>\n",
       "      <th>Count</th>\n",
       "      <td>7056</td>\n",
       "      <td>5875</td>\n",
       "      <td>5552</td>\n",
       "      <td>5105</td>\n",
       "      <td>3903</td>\n",
       "      <td>3254</td>\n",
       "    </tr>\n",
       "  </tbody>\n",
       "</table>\n",
       "</div>"
      ],
      "text/plain": [
       "       18-25  26-30  31-35  36-40  41-45   45+\n",
       "Count   7056   5875   5552   5105   3903  3254"
      ]
     },
     "execution_count": 20,
     "metadata": {},
     "output_type": "execute_result"
    }
   ],
   "source": [
    "# age groups distribution\n",
    "data_age = pd.DataFrame(data['age_segment'].value_counts(ascending=False))\n",
    "data_age.rename(columns={'age_segment': 'Count'}, inplace=True)\n",
    "data_age.T"
   ]
  },
  {
   "cell_type": "code",
   "execution_count": 17,
   "id": "6b8e99c2",
   "metadata": {
    "scrolled": true
   },
   "outputs": [
    {
     "data": {
      "image/png": "[encoded data removed]",
      "text/plain": [
       "<Figure size 1440x360 with 1 Axes>"
      ]
     },
     "metadata": {
      "needs_background": "light"
     },
     "output_type": "display_data"
    }
   ],
   "source": [
    "# age groups barplot\n",
    "sns.barplot(x=data_age.index, y='Count', data=data_age)\n",
    "plt.title('Age group distribution', fontsize=20)\n",
    "plt.xlabel('Age group', fontsize=15)\n",
    "plt.ylabel('Count', fontsize=15)\n",
    "plt.yticks(fontsize=15)\n",
    "plt.xticks(fontsize=15);"
   ]
  },
  {
   "cell_type": "markdown",
   "id": "4cdcf768",
   "metadata": {},
   "source": [
    "## Duplicates processing"
   ]
  },
  {
   "cell_type": "code",
   "execution_count": 18,
   "id": "702c0301",
   "metadata": {},
   "outputs": [
    {
     "data": {
      "text/plain": [
       "0"
      ]
     },
     "execution_count": 18,
     "metadata": {},
     "output_type": "execute_result"
    }
   ],
   "source": [
    "# duplicates check\n",
    "data.duplicated().sum()"
   ]
  },
  {
   "cell_type": "markdown",
   "id": "339beda3",
   "metadata": {},
   "source": [
    "There are no duplicates in the data."
   ]
  },
  {
   "cell_type": "markdown",
   "id": "6d53b512",
   "metadata": {},
   "source": [
    "# Conclusion"
   ]
  },
  {
   "cell_type": "markdown",
   "id": "12a89410",
   "metadata": {},
   "source": [
    "The data was processed for a dashboard and presentation."
   ]
  },
  {
   "cell_type": "code",
   "execution_count": 19,
   "id": "d01fc82d",
   "metadata": {},
   "outputs": [],
   "source": [
    "# processed data saving\n",
    "data.to_csv(r'C:\\Users\\maslo\\Documents\\work\\datasets\\dash_visits_rem.csv')"
   ]
  }
 ],
 "metadata": {
  "kernelspec": {
   "display_name": "Python 3 (ipykernel)",
   "language": "python",
   "name": "python3"
  },
  "language_info": {
   "codemirror_mode": {
    "name": "ipython",
    "version": 3
   },
   "file_extension": ".py",
   "mimetype": "text/x-python",
   "name": "python",
   "nbconvert_exporter": "python",
   "pygments_lexer": "ipython3",
   "version": "3.9.7"
  }
 },
 "nbformat": 4,
 "nbformat_minor": 5
}
