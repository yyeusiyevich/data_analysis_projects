{
 "cells": [
  {
   "cell_type": "markdown",
   "id": "831ff303",
   "metadata": {},
   "source": [
    "# Telecommunications"
   ]
  },
  {
   "cell_type": "markdown",
   "id": "ff96d11d",
   "metadata": {},
   "source": [
    "## Plans Description\n",
    "\n",
    "*Smart*\n",
    "\n",
    "1. Monthly charge: 550 RUB.\n",
    "2. 500 monthly minutes, 50 texts and 15 GB of data.\n",
    "3. After exceeding the package limits:\n",
    "    - 1 minute: 3 RUB (\"Megaline\" always rounds up the minute and megabyte values. If the call lasted just one second, it will be counted as one minute).\n",
    "    - 1 text message: 3 RUB.\n",
    "    - 1 GB of data: 200 RUB.\n",
    "\n",
    "*Ultra*\n",
    "\n",
    "1. Monthly charge: 1950 RUB.\n",
    "2. 3000 monthly minutes, 1000 text messages, and 30 GB of data.\n",
    "3. After exceeding the package limits:\n",
    "    - 1 minute: 1 RUB.\n",
    "    - 1 text messgae: 1 RUB.\n",
    "    - 1 GB of web traffic: 150 RUB.\n",
    "\n",
    "\n",
    "## Table of contents\n",
    "\n",
    "I. General Information. Interim conclusions.\n",
    "\n",
    "II. Data preprocessing. Interim conclusions.\n",
    "\n",
    "- Changing the data type.\n",
    "- Categorical data processing.\n",
    "- Numerical data processing.\n",
    "\n",
    "III. Dataframe editing (calculation monthly revenue from each user).\n",
    "\n",
    "IV. Exploratory Data Analysis (EDA).\n",
    "\n",
    "- Minutes used histograms (Smart and Ultra clients).\n",
    "- Messages used histograms (Smart and Ultra clients).\n",
    "- Data used histograms (Smart and Ultra clients).\n",
    "- Interim conclusions.\n",
    "\n",
    "V. Hypotheses Testing.\n",
    "- Average revenue per month vary across Utra and Smart clients.\n",
    "- Interim conclusions.\n",
    "-  Average revenue per month vary across clients from Moscow and from regions.\n",
    "- Interim conclusions.\n",
    "\n",
    "\n",
    "VI. General conclusion."
   ]
  },
  {
   "cell_type": "code",
   "execution_count": 1,
   "id": "0b39fbaf",
   "metadata": {},
   "outputs": [],
   "source": [
    "# libraries import\n",
    "import pandas as pd\n",
    "import numpy as np\n",
    "import seaborn as sns\n",
    "from datetime import datetime, timedelta\n",
    "import matplotlib.pyplot as plt\n",
    "import os\n",
    "from scipy import stats as st"
   ]
  },
  {
   "cell_type": "code",
   "execution_count": 2,
   "id": "f2331928",
   "metadata": {},
   "outputs": [],
   "source": [
    "# seaborn customization\n",
    "sns.set(rc={'figure.figsize':(10,10)})\n",
    "sns.set_theme(style='whitegrid', palette='dark')"
   ]
  },
  {
   "cell_type": "code",
   "execution_count": 3,
   "id": "cc177999",
   "metadata": {},
   "outputs": [],
   "source": [
    "# pandas customization\n",
    "pd.set_option('display.float_format', '{:,.2f}'.format)"
   ]
  },
  {
   "cell_type": "code",
   "execution_count": 4,
   "id": "2c867d6e",
   "metadata": {},
   "outputs": [],
   "source": [
    "# reading the files and saving it to the variables\n",
    "try:\n",
    "    calls = pd.read_csv('/home/yuso/jupyter_dir/jupyter_env/datasets/telecom/calls.csv')\n",
    "    internet = pd.read_csv('/home/yuso/jupyter_dir/jupyter_env/datasets/telecom/internet.csv')\n",
    "    messages = pd.read_csv('/home/yuso/jupyter_dir/jupyter_env/datasets/telecom/messages.csv')\n",
    "    tariffs = pd.read_csv('/home/yuso/jupyter_dir/jupyter_env/datasets/telecom/tariffs.csv')\n",
    "    users = pd.read_csv('/home/yuso/jupyter_dir/jupyter_env/datasets/telecom/users.csv')\n",
    "except:\n",
    "    calls = pd.read_csv('/datasets/calls.csv')\n",
    "    internet = pd.read_csv('/datasets/internet.csv')\n",
    "    messages = pd.read_csv('/datasets/messages.csv')\n",
    "    tariffs = pd.read_csv('/datasets/tariffs.csv')\n",
    "    users = pd.read_csv('/datasets/users.csv')"
   ]
  },
  {
   "cell_type": "code",
   "execution_count": 5,
   "id": "72b592a2",
   "metadata": {},
   "outputs": [],
   "source": [
    "# custom function for primary data analysis \n",
    "def get_info(df):\n",
    "    percentiles= [.20, .40, .60, .80]\n",
    "    include=['object', 'float', 'int']\n",
    "    print(f'\\033[0;37;40m Total number of rows: \\033[0;0m {df.shape[0]} rows\\n \\n\\033[0;37;40m Total number of columns: \\033[0;0m {df.shape[1]} columns\\n')\n",
    "    print('\\033[4;37;40m GENERAL INFORMATION \\033[0;0m')\n",
    "    print(df.info(memory_usage='deep'))\n",
    "    print('\\n\\033[0;37;40m Top 5 rows: \\033[0;0m')\n",
    "    display(df.head())\n",
    "    print('\\n\\033[0;37;40m Last 5 rows: \\033[0;0m')\n",
    "    display(df.tail())\n",
    "    print('\\n\\033[0;37;40m Missing values ratio: \\033[0;0m')\n",
    "    print(round(table.isnull().mean() * 100, 2))\n",
    "    print('\\n\\033[2;37;40m Duplicates ratio \\033[0;0m', '  ', round(table.duplicated().mean() * 100, 2), ' %')\n",
    "    print('\\n\\033[0;37;40m Numerical and categorical data summary: \\033[0;0m')\n",
    "    display(pd.DataFrame(df.describe(percentiles = percentiles, include = include).T))"
   ]
  },
  {
   "cell_type": "code",
   "execution_count": 6,
   "id": "7c9fb82a",
   "metadata": {
    "scrolled": false
   },
   "outputs": [
    {
     "name": "stdout",
     "output_type": "stream",
     "text": [
      "\n",
      "\u001b[1;30;47m_____________SET:  CALLS_____________\u001b[0;0m\n",
      "\n",
      "\u001b[0;37;40m Total number of rows: \u001b[0;0m 202607 rows\n",
      " \n",
      "\u001b[0;37;40m Total number of columns: \u001b[0;0m 4 columns\n",
      "\n",
      "\u001b[4;37;40m GENERAL INFORMATION \u001b[0;0m\n",
      "<class 'pandas.core.frame.DataFrame'>\n",
      "RangeIndex: 202607 entries, 0 to 202606\n",
      "Data columns (total 4 columns):\n",
      " #   Column     Non-Null Count   Dtype  \n",
      "---  ------     --------------   -----  \n",
      " 0   id         202607 non-null  object \n",
      " 1   call_date  202607 non-null  object \n",
      " 2   duration   202607 non-null  float64\n",
      " 3   user_id    202607 non-null  int64  \n",
      "dtypes: float64(1), int64(1), object(2)\n",
      "memory usage: 28.6 MB\n",
      "None\n",
      "\n",
      "\u001b[0;37;40m Top 5 rows: \u001b[0;0m\n"
     ]
    },
    {
     "data": {
      "text/html": [
       "<div>\n",
       "<style scoped>\n",
       "    .dataframe tbody tr th:only-of-type {\n",
       "        vertical-align: middle;\n",
       "    }\n",
       "\n",
       "    .dataframe tbody tr th {\n",
       "        vertical-align: top;\n",
       "    }\n",
       "\n",
       "    .dataframe thead th {\n",
       "        text-align: right;\n",
       "    }\n",
       "</style>\n",
       "<table border=\"1\" class=\"dataframe\">\n",
       "  <thead>\n",
       "    <tr style=\"text-align: right;\">\n",
       "      <th></th>\n",
       "      <th>id</th>\n",
       "      <th>call_date</th>\n",
       "      <th>duration</th>\n",
       "      <th>user_id</th>\n",
       "    </tr>\n",
       "  </thead>\n",
       "  <tbody>\n",
       "    <tr>\n",
       "      <th>0</th>\n",
       "      <td>1000_0</td>\n",
       "      <td>2018-07-25</td>\n",
       "      <td>0.00</td>\n",
       "      <td>1000</td>\n",
       "    </tr>\n",
       "    <tr>\n",
       "      <th>1</th>\n",
       "      <td>1000_1</td>\n",
       "      <td>2018-08-17</td>\n",
       "      <td>0.00</td>\n",
       "      <td>1000</td>\n",
       "    </tr>\n",
       "    <tr>\n",
       "      <th>2</th>\n",
       "      <td>1000_2</td>\n",
       "      <td>2018-06-11</td>\n",
       "      <td>2.85</td>\n",
       "      <td>1000</td>\n",
       "    </tr>\n",
       "    <tr>\n",
       "      <th>3</th>\n",
       "      <td>1000_3</td>\n",
       "      <td>2018-09-21</td>\n",
       "      <td>13.80</td>\n",
       "      <td>1000</td>\n",
       "    </tr>\n",
       "    <tr>\n",
       "      <th>4</th>\n",
       "      <td>1000_4</td>\n",
       "      <td>2018-12-15</td>\n",
       "      <td>5.18</td>\n",
       "      <td>1000</td>\n",
       "    </tr>\n",
       "  </tbody>\n",
       "</table>\n",
       "</div>"
      ],
      "text/plain": [
       "       id   call_date  duration  user_id\n",
       "0  1000_0  2018-07-25      0.00     1000\n",
       "1  1000_1  2018-08-17      0.00     1000\n",
       "2  1000_2  2018-06-11      2.85     1000\n",
       "3  1000_3  2018-09-21     13.80     1000\n",
       "4  1000_4  2018-12-15      5.18     1000"
      ]
     },
     "metadata": {},
     "output_type": "display_data"
    },
    {
     "name": "stdout",
     "output_type": "stream",
     "text": [
      "\n",
      "\u001b[0;37;40m Last 5 rows: \u001b[0;0m\n"
     ]
    },
    {
     "data": {
      "text/html": [
       "<div>\n",
       "<style scoped>\n",
       "    .dataframe tbody tr th:only-of-type {\n",
       "        vertical-align: middle;\n",
       "    }\n",
       "\n",
       "    .dataframe tbody tr th {\n",
       "        vertical-align: top;\n",
       "    }\n",
       "\n",
       "    .dataframe thead th {\n",
       "        text-align: right;\n",
       "    }\n",
       "</style>\n",
       "<table border=\"1\" class=\"dataframe\">\n",
       "  <thead>\n",
       "    <tr style=\"text-align: right;\">\n",
       "      <th></th>\n",
       "      <th>id</th>\n",
       "      <th>call_date</th>\n",
       "      <th>duration</th>\n",
       "      <th>user_id</th>\n",
       "    </tr>\n",
       "  </thead>\n",
       "  <tbody>\n",
       "    <tr>\n",
       "      <th>202602</th>\n",
       "      <td>1499_215</td>\n",
       "      <td>2018-12-26</td>\n",
       "      <td>0.76</td>\n",
       "      <td>1499</td>\n",
       "    </tr>\n",
       "    <tr>\n",
       "      <th>202603</th>\n",
       "      <td>1499_216</td>\n",
       "      <td>2018-10-18</td>\n",
       "      <td>18.83</td>\n",
       "      <td>1499</td>\n",
       "    </tr>\n",
       "    <tr>\n",
       "      <th>202604</th>\n",
       "      <td>1499_217</td>\n",
       "      <td>2018-11-10</td>\n",
       "      <td>10.81</td>\n",
       "      <td>1499</td>\n",
       "    </tr>\n",
       "    <tr>\n",
       "      <th>202605</th>\n",
       "      <td>1499_218</td>\n",
       "      <td>2018-10-06</td>\n",
       "      <td>4.27</td>\n",
       "      <td>1499</td>\n",
       "    </tr>\n",
       "    <tr>\n",
       "      <th>202606</th>\n",
       "      <td>1499_219</td>\n",
       "      <td>2018-12-14</td>\n",
       "      <td>19.62</td>\n",
       "      <td>1499</td>\n",
       "    </tr>\n",
       "  </tbody>\n",
       "</table>\n",
       "</div>"
      ],
      "text/plain": [
       "              id   call_date  duration  user_id\n",
       "202602  1499_215  2018-12-26      0.76     1499\n",
       "202603  1499_216  2018-10-18     18.83     1499\n",
       "202604  1499_217  2018-11-10     10.81     1499\n",
       "202605  1499_218  2018-10-06      4.27     1499\n",
       "202606  1499_219  2018-12-14     19.62     1499"
      ]
     },
     "metadata": {},
     "output_type": "display_data"
    },
    {
     "name": "stdout",
     "output_type": "stream",
     "text": [
      "\n",
      "\u001b[0;37;40m Missing values ratio: \u001b[0;0m\n",
      "id          0.00\n",
      "call_date   0.00\n",
      "duration    0.00\n",
      "user_id     0.00\n",
      "dtype: float64\n",
      "\n",
      "\u001b[2;37;40m Duplicates ratio \u001b[0;0m    0.0  %\n",
      "\n",
      "\u001b[0;37;40m Numerical and categorical data summary: \u001b[0;0m\n"
     ]
    },
    {
     "data": {
      "text/html": [
       "<div>\n",
       "<style scoped>\n",
       "    .dataframe tbody tr th:only-of-type {\n",
       "        vertical-align: middle;\n",
       "    }\n",
       "\n",
       "    .dataframe tbody tr th {\n",
       "        vertical-align: top;\n",
       "    }\n",
       "\n",
       "    .dataframe thead th {\n",
       "        text-align: right;\n",
       "    }\n",
       "</style>\n",
       "<table border=\"1\" class=\"dataframe\">\n",
       "  <thead>\n",
       "    <tr style=\"text-align: right;\">\n",
       "      <th></th>\n",
       "      <th>count</th>\n",
       "      <th>unique</th>\n",
       "      <th>top</th>\n",
       "      <th>freq</th>\n",
       "      <th>mean</th>\n",
       "      <th>std</th>\n",
       "      <th>min</th>\n",
       "      <th>20%</th>\n",
       "      <th>40%</th>\n",
       "      <th>50%</th>\n",
       "      <th>60%</th>\n",
       "      <th>80%</th>\n",
       "      <th>max</th>\n",
       "    </tr>\n",
       "  </thead>\n",
       "  <tbody>\n",
       "    <tr>\n",
       "      <th>id</th>\n",
       "      <td>202607</td>\n",
       "      <td>202607</td>\n",
       "      <td>1000_0</td>\n",
       "      <td>1</td>\n",
       "      <td>NaN</td>\n",
       "      <td>NaN</td>\n",
       "      <td>NaN</td>\n",
       "      <td>NaN</td>\n",
       "      <td>NaN</td>\n",
       "      <td>NaN</td>\n",
       "      <td>NaN</td>\n",
       "      <td>NaN</td>\n",
       "      <td>NaN</td>\n",
       "    </tr>\n",
       "    <tr>\n",
       "      <th>call_date</th>\n",
       "      <td>202607</td>\n",
       "      <td>365</td>\n",
       "      <td>2018-12-31</td>\n",
       "      <td>1435</td>\n",
       "      <td>NaN</td>\n",
       "      <td>NaN</td>\n",
       "      <td>NaN</td>\n",
       "      <td>NaN</td>\n",
       "      <td>NaN</td>\n",
       "      <td>NaN</td>\n",
       "      <td>NaN</td>\n",
       "      <td>NaN</td>\n",
       "      <td>NaN</td>\n",
       "    </tr>\n",
       "    <tr>\n",
       "      <th>duration</th>\n",
       "      <td>202,607.00</td>\n",
       "      <td>NaN</td>\n",
       "      <td>NaN</td>\n",
       "      <td>NaN</td>\n",
       "      <td>6.76</td>\n",
       "      <td>5.84</td>\n",
       "      <td>0.00</td>\n",
       "      <td>0.12</td>\n",
       "      <td>4.23</td>\n",
       "      <td>6.00</td>\n",
       "      <td>7.77</td>\n",
       "      <td>11.88</td>\n",
       "      <td>38.00</td>\n",
       "    </tr>\n",
       "    <tr>\n",
       "      <th>user_id</th>\n",
       "      <td>202,607.00</td>\n",
       "      <td>NaN</td>\n",
       "      <td>NaN</td>\n",
       "      <td>NaN</td>\n",
       "      <td>1,253.94</td>\n",
       "      <td>144.72</td>\n",
       "      <td>1,000.00</td>\n",
       "      <td>1,100.00</td>\n",
       "      <td>1,201.00</td>\n",
       "      <td>1,260.00</td>\n",
       "      <td>1,314.00</td>\n",
       "      <td>1,397.00</td>\n",
       "      <td>1,499.00</td>\n",
       "    </tr>\n",
       "  </tbody>\n",
       "</table>\n",
       "</div>"
      ],
      "text/plain": [
       "               count  unique         top  freq     mean    std      min  \\\n",
       "id            202607  202607      1000_0     1      NaN    NaN      NaN   \n",
       "call_date     202607     365  2018-12-31  1435      NaN    NaN      NaN   \n",
       "duration  202,607.00     NaN         NaN   NaN     6.76   5.84     0.00   \n",
       "user_id   202,607.00     NaN         NaN   NaN 1,253.94 144.72 1,000.00   \n",
       "\n",
       "               20%      40%      50%      60%      80%      max  \n",
       "id             NaN      NaN      NaN      NaN      NaN      NaN  \n",
       "call_date      NaN      NaN      NaN      NaN      NaN      NaN  \n",
       "duration      0.12     4.23     6.00     7.77    11.88    38.00  \n",
       "user_id   1,100.00 1,201.00 1,260.00 1,314.00 1,397.00 1,499.00  "
      ]
     },
     "metadata": {},
     "output_type": "display_data"
    },
    {
     "name": "stdout",
     "output_type": "stream",
     "text": [
      "\n",
      "\u001b[01;30;47m_____________THE END_____________\u001b[0;0m\n",
      "\n",
      "\n",
      "\n",
      "\u001b[1;30;47m_____________SET:  INTERNET_____________\u001b[0;0m\n",
      "\n",
      "\u001b[0;37;40m Total number of rows: \u001b[0;0m 149396 rows\n",
      " \n",
      "\u001b[0;37;40m Total number of columns: \u001b[0;0m 5 columns\n",
      "\n",
      "\u001b[4;37;40m GENERAL INFORMATION \u001b[0;0m\n",
      "<class 'pandas.core.frame.DataFrame'>\n",
      "RangeIndex: 149396 entries, 0 to 149395\n",
      "Data columns (total 5 columns):\n",
      " #   Column        Non-Null Count   Dtype  \n",
      "---  ------        --------------   -----  \n",
      " 0   Unnamed: 0    149396 non-null  int64  \n",
      " 1   id            149396 non-null  object \n",
      " 2   mb_used       149396 non-null  float64\n",
      " 3   session_date  149396 non-null  object \n",
      " 4   user_id       149396 non-null  int64  \n",
      "dtypes: float64(1), int64(2), object(2)\n",
      "memory usage: 22.2 MB\n",
      "None\n",
      "\n",
      "\u001b[0;37;40m Top 5 rows: \u001b[0;0m\n"
     ]
    },
    {
     "data": {
      "text/html": [
       "<div>\n",
       "<style scoped>\n",
       "    .dataframe tbody tr th:only-of-type {\n",
       "        vertical-align: middle;\n",
       "    }\n",
       "\n",
       "    .dataframe tbody tr th {\n",
       "        vertical-align: top;\n",
       "    }\n",
       "\n",
       "    .dataframe thead th {\n",
       "        text-align: right;\n",
       "    }\n",
       "</style>\n",
       "<table border=\"1\" class=\"dataframe\">\n",
       "  <thead>\n",
       "    <tr style=\"text-align: right;\">\n",
       "      <th></th>\n",
       "      <th>Unnamed: 0</th>\n",
       "      <th>id</th>\n",
       "      <th>mb_used</th>\n",
       "      <th>session_date</th>\n",
       "      <th>user_id</th>\n",
       "    </tr>\n",
       "  </thead>\n",
       "  <tbody>\n",
       "    <tr>\n",
       "      <th>0</th>\n",
       "      <td>0</td>\n",
       "      <td>1000_0</td>\n",
       "      <td>112.95</td>\n",
       "      <td>2018-11-25</td>\n",
       "      <td>1000</td>\n",
       "    </tr>\n",
       "    <tr>\n",
       "      <th>1</th>\n",
       "      <td>1</td>\n",
       "      <td>1000_1</td>\n",
       "      <td>1,052.81</td>\n",
       "      <td>2018-09-07</td>\n",
       "      <td>1000</td>\n",
       "    </tr>\n",
       "    <tr>\n",
       "      <th>2</th>\n",
       "      <td>2</td>\n",
       "      <td>1000_2</td>\n",
       "      <td>1,197.26</td>\n",
       "      <td>2018-06-25</td>\n",
       "      <td>1000</td>\n",
       "    </tr>\n",
       "    <tr>\n",
       "      <th>3</th>\n",
       "      <td>3</td>\n",
       "      <td>1000_3</td>\n",
       "      <td>550.27</td>\n",
       "      <td>2018-08-22</td>\n",
       "      <td>1000</td>\n",
       "    </tr>\n",
       "    <tr>\n",
       "      <th>4</th>\n",
       "      <td>4</td>\n",
       "      <td>1000_4</td>\n",
       "      <td>302.56</td>\n",
       "      <td>2018-09-24</td>\n",
       "      <td>1000</td>\n",
       "    </tr>\n",
       "  </tbody>\n",
       "</table>\n",
       "</div>"
      ],
      "text/plain": [
       "   Unnamed: 0      id  mb_used session_date  user_id\n",
       "0           0  1000_0   112.95   2018-11-25     1000\n",
       "1           1  1000_1 1,052.81   2018-09-07     1000\n",
       "2           2  1000_2 1,197.26   2018-06-25     1000\n",
       "3           3  1000_3   550.27   2018-08-22     1000\n",
       "4           4  1000_4   302.56   2018-09-24     1000"
      ]
     },
     "metadata": {},
     "output_type": "display_data"
    },
    {
     "name": "stdout",
     "output_type": "stream",
     "text": [
      "\n",
      "\u001b[0;37;40m Last 5 rows: \u001b[0;0m\n"
     ]
    },
    {
     "data": {
      "text/html": [
       "<div>\n",
       "<style scoped>\n",
       "    .dataframe tbody tr th:only-of-type {\n",
       "        vertical-align: middle;\n",
       "    }\n",
       "\n",
       "    .dataframe tbody tr th {\n",
       "        vertical-align: top;\n",
       "    }\n",
       "\n",
       "    .dataframe thead th {\n",
       "        text-align: right;\n",
       "    }\n",
       "</style>\n",
       "<table border=\"1\" class=\"dataframe\">\n",
       "  <thead>\n",
       "    <tr style=\"text-align: right;\">\n",
       "      <th></th>\n",
       "      <th>Unnamed: 0</th>\n",
       "      <th>id</th>\n",
       "      <th>mb_used</th>\n",
       "      <th>session_date</th>\n",
       "      <th>user_id</th>\n",
       "    </tr>\n",
       "  </thead>\n",
       "  <tbody>\n",
       "    <tr>\n",
       "      <th>149391</th>\n",
       "      <td>149391</td>\n",
       "      <td>1499_152</td>\n",
       "      <td>318.90</td>\n",
       "      <td>2018-10-03</td>\n",
       "      <td>1499</td>\n",
       "    </tr>\n",
       "    <tr>\n",
       "      <th>149392</th>\n",
       "      <td>149392</td>\n",
       "      <td>1499_153</td>\n",
       "      <td>490.13</td>\n",
       "      <td>2018-12-14</td>\n",
       "      <td>1499</td>\n",
       "    </tr>\n",
       "    <tr>\n",
       "      <th>149393</th>\n",
       "      <td>149393</td>\n",
       "      <td>1499_154</td>\n",
       "      <td>0.00</td>\n",
       "      <td>2018-10-27</td>\n",
       "      <td>1499</td>\n",
       "    </tr>\n",
       "    <tr>\n",
       "      <th>149394</th>\n",
       "      <td>149394</td>\n",
       "      <td>1499_155</td>\n",
       "      <td>1,246.32</td>\n",
       "      <td>2018-11-26</td>\n",
       "      <td>1499</td>\n",
       "    </tr>\n",
       "    <tr>\n",
       "      <th>149395</th>\n",
       "      <td>149395</td>\n",
       "      <td>1499_156</td>\n",
       "      <td>544.37</td>\n",
       "      <td>2018-10-26</td>\n",
       "      <td>1499</td>\n",
       "    </tr>\n",
       "  </tbody>\n",
       "</table>\n",
       "</div>"
      ],
      "text/plain": [
       "        Unnamed: 0        id  mb_used session_date  user_id\n",
       "149391      149391  1499_152   318.90   2018-10-03     1499\n",
       "149392      149392  1499_153   490.13   2018-12-14     1499\n",
       "149393      149393  1499_154     0.00   2018-10-27     1499\n",
       "149394      149394  1499_155 1,246.32   2018-11-26     1499\n",
       "149395      149395  1499_156   544.37   2018-10-26     1499"
      ]
     },
     "metadata": {},
     "output_type": "display_data"
    },
    {
     "name": "stdout",
     "output_type": "stream",
     "text": [
      "\n",
      "\u001b[0;37;40m Missing values ratio: \u001b[0;0m\n",
      "Unnamed: 0     0.00\n",
      "id             0.00\n",
      "mb_used        0.00\n",
      "session_date   0.00\n",
      "user_id        0.00\n",
      "dtype: float64\n",
      "\n",
      "\u001b[2;37;40m Duplicates ratio \u001b[0;0m    0.0  %\n",
      "\n",
      "\u001b[0;37;40m Numerical and categorical data summary: \u001b[0;0m\n"
     ]
    },
    {
     "data": {
      "text/html": [
       "<div>\n",
       "<style scoped>\n",
       "    .dataframe tbody tr th:only-of-type {\n",
       "        vertical-align: middle;\n",
       "    }\n",
       "\n",
       "    .dataframe tbody tr th {\n",
       "        vertical-align: top;\n",
       "    }\n",
       "\n",
       "    .dataframe thead th {\n",
       "        text-align: right;\n",
       "    }\n",
       "</style>\n",
       "<table border=\"1\" class=\"dataframe\">\n",
       "  <thead>\n",
       "    <tr style=\"text-align: right;\">\n",
       "      <th></th>\n",
       "      <th>count</th>\n",
       "      <th>unique</th>\n",
       "      <th>top</th>\n",
       "      <th>freq</th>\n",
       "      <th>mean</th>\n",
       "      <th>std</th>\n",
       "      <th>min</th>\n",
       "      <th>20%</th>\n",
       "      <th>40%</th>\n",
       "      <th>50%</th>\n",
       "      <th>60%</th>\n",
       "      <th>80%</th>\n",
       "      <th>max</th>\n",
       "    </tr>\n",
       "  </thead>\n",
       "  <tbody>\n",
       "    <tr>\n",
       "      <th>Unnamed: 0</th>\n",
       "      <td>149,396.00</td>\n",
       "      <td>NaN</td>\n",
       "      <td>NaN</td>\n",
       "      <td>NaN</td>\n",
       "      <td>74,697.50</td>\n",
       "      <td>43,127.05</td>\n",
       "      <td>0.00</td>\n",
       "      <td>29,879.00</td>\n",
       "      <td>59,758.00</td>\n",
       "      <td>74,697.50</td>\n",
       "      <td>89,637.00</td>\n",
       "      <td>119,516.00</td>\n",
       "      <td>149,395.00</td>\n",
       "    </tr>\n",
       "    <tr>\n",
       "      <th>id</th>\n",
       "      <td>149396</td>\n",
       "      <td>149396</td>\n",
       "      <td>1000_0</td>\n",
       "      <td>1</td>\n",
       "      <td>NaN</td>\n",
       "      <td>NaN</td>\n",
       "      <td>NaN</td>\n",
       "      <td>NaN</td>\n",
       "      <td>NaN</td>\n",
       "      <td>NaN</td>\n",
       "      <td>NaN</td>\n",
       "      <td>NaN</td>\n",
       "      <td>NaN</td>\n",
       "    </tr>\n",
       "    <tr>\n",
       "      <th>mb_used</th>\n",
       "      <td>149,396.00</td>\n",
       "      <td>NaN</td>\n",
       "      <td>NaN</td>\n",
       "      <td>NaN</td>\n",
       "      <td>370.19</td>\n",
       "      <td>278.30</td>\n",
       "      <td>0.00</td>\n",
       "      <td>86.18</td>\n",
       "      <td>270.05</td>\n",
       "      <td>348.01</td>\n",
       "      <td>427.77</td>\n",
       "      <td>611.97</td>\n",
       "      <td>1,724.83</td>\n",
       "    </tr>\n",
       "    <tr>\n",
       "      <th>session_date</th>\n",
       "      <td>149396</td>\n",
       "      <td>365</td>\n",
       "      <td>2018-12-31</td>\n",
       "      <td>1057</td>\n",
       "      <td>NaN</td>\n",
       "      <td>NaN</td>\n",
       "      <td>NaN</td>\n",
       "      <td>NaN</td>\n",
       "      <td>NaN</td>\n",
       "      <td>NaN</td>\n",
       "      <td>NaN</td>\n",
       "      <td>NaN</td>\n",
       "      <td>NaN</td>\n",
       "    </tr>\n",
       "    <tr>\n",
       "      <th>user_id</th>\n",
       "      <td>149,396.00</td>\n",
       "      <td>NaN</td>\n",
       "      <td>NaN</td>\n",
       "      <td>NaN</td>\n",
       "      <td>1,252.10</td>\n",
       "      <td>144.05</td>\n",
       "      <td>1,000.00</td>\n",
       "      <td>1,104.00</td>\n",
       "      <td>1,203.00</td>\n",
       "      <td>1,251.00</td>\n",
       "      <td>1,302.00</td>\n",
       "      <td>1,403.00</td>\n",
       "      <td>1,499.00</td>\n",
       "    </tr>\n",
       "  </tbody>\n",
       "</table>\n",
       "</div>"
      ],
      "text/plain": [
       "                  count  unique         top  freq      mean       std  \\\n",
       "Unnamed: 0   149,396.00     NaN         NaN   NaN 74,697.50 43,127.05   \n",
       "id               149396  149396      1000_0     1       NaN       NaN   \n",
       "mb_used      149,396.00     NaN         NaN   NaN    370.19    278.30   \n",
       "session_date     149396     365  2018-12-31  1057       NaN       NaN   \n",
       "user_id      149,396.00     NaN         NaN   NaN  1,252.10    144.05   \n",
       "\n",
       "                  min       20%       40%       50%       60%        80%  \\\n",
       "Unnamed: 0       0.00 29,879.00 59,758.00 74,697.50 89,637.00 119,516.00   \n",
       "id                NaN       NaN       NaN       NaN       NaN        NaN   \n",
       "mb_used          0.00     86.18    270.05    348.01    427.77     611.97   \n",
       "session_date      NaN       NaN       NaN       NaN       NaN        NaN   \n",
       "user_id      1,000.00  1,104.00  1,203.00  1,251.00  1,302.00   1,403.00   \n",
       "\n",
       "                    max  \n",
       "Unnamed: 0   149,395.00  \n",
       "id                  NaN  \n",
       "mb_used        1,724.83  \n",
       "session_date        NaN  \n",
       "user_id        1,499.00  "
      ]
     },
     "metadata": {},
     "output_type": "display_data"
    },
    {
     "name": "stdout",
     "output_type": "stream",
     "text": [
      "\n",
      "\u001b[01;30;47m_____________THE END_____________\u001b[0;0m\n",
      "\n",
      "\n",
      "\n",
      "\u001b[1;30;47m_____________SET:  MESSAGES_____________\u001b[0;0m\n",
      "\n",
      "\u001b[0;37;40m Total number of rows: \u001b[0;0m 123036 rows\n",
      " \n",
      "\u001b[0;37;40m Total number of columns: \u001b[0;0m 3 columns\n",
      "\n",
      "\u001b[4;37;40m GENERAL INFORMATION \u001b[0;0m\n",
      "<class 'pandas.core.frame.DataFrame'>\n",
      "RangeIndex: 123036 entries, 0 to 123035\n",
      "Data columns (total 3 columns):\n",
      " #   Column        Non-Null Count   Dtype \n",
      "---  ------        --------------   ----- \n",
      " 0   id            123036 non-null  object\n",
      " 1   message_date  123036 non-null  object\n",
      " 2   user_id       123036 non-null  int64 \n",
      "dtypes: int64(1), object(2)\n",
      "memory usage: 16.4 MB\n",
      "None\n",
      "\n",
      "\u001b[0;37;40m Top 5 rows: \u001b[0;0m\n"
     ]
    },
    {
     "data": {
      "text/html": [
       "<div>\n",
       "<style scoped>\n",
       "    .dataframe tbody tr th:only-of-type {\n",
       "        vertical-align: middle;\n",
       "    }\n",
       "\n",
       "    .dataframe tbody tr th {\n",
       "        vertical-align: top;\n",
       "    }\n",
       "\n",
       "    .dataframe thead th {\n",
       "        text-align: right;\n",
       "    }\n",
       "</style>\n",
       "<table border=\"1\" class=\"dataframe\">\n",
       "  <thead>\n",
       "    <tr style=\"text-align: right;\">\n",
       "      <th></th>\n",
       "      <th>id</th>\n",
       "      <th>message_date</th>\n",
       "      <th>user_id</th>\n",
       "    </tr>\n",
       "  </thead>\n",
       "  <tbody>\n",
       "    <tr>\n",
       "      <th>0</th>\n",
       "      <td>1000_0</td>\n",
       "      <td>2018-06-27</td>\n",
       "      <td>1000</td>\n",
       "    </tr>\n",
       "    <tr>\n",
       "      <th>1</th>\n",
       "      <td>1000_1</td>\n",
       "      <td>2018-10-08</td>\n",
       "      <td>1000</td>\n",
       "    </tr>\n",
       "    <tr>\n",
       "      <th>2</th>\n",
       "      <td>1000_2</td>\n",
       "      <td>2018-08-04</td>\n",
       "      <td>1000</td>\n",
       "    </tr>\n",
       "    <tr>\n",
       "      <th>3</th>\n",
       "      <td>1000_3</td>\n",
       "      <td>2018-06-16</td>\n",
       "      <td>1000</td>\n",
       "    </tr>\n",
       "    <tr>\n",
       "      <th>4</th>\n",
       "      <td>1000_4</td>\n",
       "      <td>2018-12-05</td>\n",
       "      <td>1000</td>\n",
       "    </tr>\n",
       "  </tbody>\n",
       "</table>\n",
       "</div>"
      ],
      "text/plain": [
       "       id message_date  user_id\n",
       "0  1000_0   2018-06-27     1000\n",
       "1  1000_1   2018-10-08     1000\n",
       "2  1000_2   2018-08-04     1000\n",
       "3  1000_3   2018-06-16     1000\n",
       "4  1000_4   2018-12-05     1000"
      ]
     },
     "metadata": {},
     "output_type": "display_data"
    },
    {
     "name": "stdout",
     "output_type": "stream",
     "text": [
      "\n",
      "\u001b[0;37;40m Last 5 rows: \u001b[0;0m\n"
     ]
    },
    {
     "data": {
      "text/html": [
       "<div>\n",
       "<style scoped>\n",
       "    .dataframe tbody tr th:only-of-type {\n",
       "        vertical-align: middle;\n",
       "    }\n",
       "\n",
       "    .dataframe tbody tr th {\n",
       "        vertical-align: top;\n",
       "    }\n",
       "\n",
       "    .dataframe thead th {\n",
       "        text-align: right;\n",
       "    }\n",
       "</style>\n",
       "<table border=\"1\" class=\"dataframe\">\n",
       "  <thead>\n",
       "    <tr style=\"text-align: right;\">\n",
       "      <th></th>\n",
       "      <th>id</th>\n",
       "      <th>message_date</th>\n",
       "      <th>user_id</th>\n",
       "    </tr>\n",
       "  </thead>\n",
       "  <tbody>\n",
       "    <tr>\n",
       "      <th>123031</th>\n",
       "      <td>1499_179</td>\n",
       "      <td>2018-12-12</td>\n",
       "      <td>1499</td>\n",
       "    </tr>\n",
       "    <tr>\n",
       "      <th>123032</th>\n",
       "      <td>1499_180</td>\n",
       "      <td>2018-09-28</td>\n",
       "      <td>1499</td>\n",
       "    </tr>\n",
       "    <tr>\n",
       "      <th>123033</th>\n",
       "      <td>1499_181</td>\n",
       "      <td>2018-09-27</td>\n",
       "      <td>1499</td>\n",
       "    </tr>\n",
       "    <tr>\n",
       "      <th>123034</th>\n",
       "      <td>1499_182</td>\n",
       "      <td>2018-11-15</td>\n",
       "      <td>1499</td>\n",
       "    </tr>\n",
       "    <tr>\n",
       "      <th>123035</th>\n",
       "      <td>1499_183</td>\n",
       "      <td>2018-11-16</td>\n",
       "      <td>1499</td>\n",
       "    </tr>\n",
       "  </tbody>\n",
       "</table>\n",
       "</div>"
      ],
      "text/plain": [
       "              id message_date  user_id\n",
       "123031  1499_179   2018-12-12     1499\n",
       "123032  1499_180   2018-09-28     1499\n",
       "123033  1499_181   2018-09-27     1499\n",
       "123034  1499_182   2018-11-15     1499\n",
       "123035  1499_183   2018-11-16     1499"
      ]
     },
     "metadata": {},
     "output_type": "display_data"
    },
    {
     "name": "stdout",
     "output_type": "stream",
     "text": [
      "\n",
      "\u001b[0;37;40m Missing values ratio: \u001b[0;0m\n",
      "id             0.00\n",
      "message_date   0.00\n",
      "user_id        0.00\n",
      "dtype: float64\n",
      "\n",
      "\u001b[2;37;40m Duplicates ratio \u001b[0;0m    0.0  %\n",
      "\n",
      "\u001b[0;37;40m Numerical and categorical data summary: \u001b[0;0m\n"
     ]
    },
    {
     "data": {
      "text/html": [
       "<div>\n",
       "<style scoped>\n",
       "    .dataframe tbody tr th:only-of-type {\n",
       "        vertical-align: middle;\n",
       "    }\n",
       "\n",
       "    .dataframe tbody tr th {\n",
       "        vertical-align: top;\n",
       "    }\n",
       "\n",
       "    .dataframe thead th {\n",
       "        text-align: right;\n",
       "    }\n",
       "</style>\n",
       "<table border=\"1\" class=\"dataframe\">\n",
       "  <thead>\n",
       "    <tr style=\"text-align: right;\">\n",
       "      <th></th>\n",
       "      <th>count</th>\n",
       "      <th>unique</th>\n",
       "      <th>top</th>\n",
       "      <th>freq</th>\n",
       "      <th>mean</th>\n",
       "      <th>std</th>\n",
       "      <th>min</th>\n",
       "      <th>20%</th>\n",
       "      <th>40%</th>\n",
       "      <th>50%</th>\n",
       "      <th>60%</th>\n",
       "      <th>80%</th>\n",
       "      <th>max</th>\n",
       "    </tr>\n",
       "  </thead>\n",
       "  <tbody>\n",
       "    <tr>\n",
       "      <th>id</th>\n",
       "      <td>123036</td>\n",
       "      <td>123036</td>\n",
       "      <td>1000_0</td>\n",
       "      <td>1</td>\n",
       "      <td>NaN</td>\n",
       "      <td>NaN</td>\n",
       "      <td>NaN</td>\n",
       "      <td>NaN</td>\n",
       "      <td>NaN</td>\n",
       "      <td>NaN</td>\n",
       "      <td>NaN</td>\n",
       "      <td>NaN</td>\n",
       "      <td>NaN</td>\n",
       "    </tr>\n",
       "    <tr>\n",
       "      <th>message_date</th>\n",
       "      <td>123036</td>\n",
       "      <td>364</td>\n",
       "      <td>2018-12-31</td>\n",
       "      <td>859</td>\n",
       "      <td>NaN</td>\n",
       "      <td>NaN</td>\n",
       "      <td>NaN</td>\n",
       "      <td>NaN</td>\n",
       "      <td>NaN</td>\n",
       "      <td>NaN</td>\n",
       "      <td>NaN</td>\n",
       "      <td>NaN</td>\n",
       "      <td>NaN</td>\n",
       "    </tr>\n",
       "    <tr>\n",
       "      <th>user_id</th>\n",
       "      <td>123,036.00</td>\n",
       "      <td>NaN</td>\n",
       "      <td>NaN</td>\n",
       "      <td>NaN</td>\n",
       "      <td>1,256.99</td>\n",
       "      <td>143.52</td>\n",
       "      <td>1,000.00</td>\n",
       "      <td>1,102.00</td>\n",
       "      <td>1,217.00</td>\n",
       "      <td>1,271.00</td>\n",
       "      <td>1,311.00</td>\n",
       "      <td>1,402.00</td>\n",
       "      <td>1,499.00</td>\n",
       "    </tr>\n",
       "  </tbody>\n",
       "</table>\n",
       "</div>"
      ],
      "text/plain": [
       "                  count  unique         top freq     mean    std      min  \\\n",
       "id               123036  123036      1000_0    1      NaN    NaN      NaN   \n",
       "message_date     123036     364  2018-12-31  859      NaN    NaN      NaN   \n",
       "user_id      123,036.00     NaN         NaN  NaN 1,256.99 143.52 1,000.00   \n",
       "\n",
       "                  20%      40%      50%      60%      80%      max  \n",
       "id                NaN      NaN      NaN      NaN      NaN      NaN  \n",
       "message_date      NaN      NaN      NaN      NaN      NaN      NaN  \n",
       "user_id      1,102.00 1,217.00 1,271.00 1,311.00 1,402.00 1,499.00  "
      ]
     },
     "metadata": {},
     "output_type": "display_data"
    },
    {
     "name": "stdout",
     "output_type": "stream",
     "text": [
      "\n",
      "\u001b[01;30;47m_____________THE END_____________\u001b[0;0m\n",
      "\n",
      "\n",
      "\n",
      "\u001b[1;30;47m_____________SET:  TARIFFS_____________\u001b[0;0m\n",
      "\n",
      "\u001b[0;37;40m Total number of rows: \u001b[0;0m 2 rows\n",
      " \n",
      "\u001b[0;37;40m Total number of columns: \u001b[0;0m 8 columns\n",
      "\n",
      "\u001b[4;37;40m GENERAL INFORMATION \u001b[0;0m\n",
      "<class 'pandas.core.frame.DataFrame'>\n",
      "RangeIndex: 2 entries, 0 to 1\n",
      "Data columns (total 8 columns):\n",
      " #   Column                 Non-Null Count  Dtype \n",
      "---  ------                 --------------  ----- \n",
      " 0   messages_included      2 non-null      int64 \n",
      " 1   mb_per_month_included  2 non-null      int64 \n",
      " 2   minutes_included       2 non-null      int64 \n",
      " 3   rub_monthly_fee        2 non-null      int64 \n",
      " 4   rub_per_gb             2 non-null      int64 \n",
      " 5   rub_per_message        2 non-null      int64 \n",
      " 6   rub_per_minute         2 non-null      int64 \n",
      " 7   tariff_name            2 non-null      object\n",
      "dtypes: int64(7), object(1)\n",
      "memory usage: 364.0 bytes\n",
      "None\n",
      "\n",
      "\u001b[0;37;40m Top 5 rows: \u001b[0;0m\n"
     ]
    },
    {
     "data": {
      "text/html": [
       "<div>\n",
       "<style scoped>\n",
       "    .dataframe tbody tr th:only-of-type {\n",
       "        vertical-align: middle;\n",
       "    }\n",
       "\n",
       "    .dataframe tbody tr th {\n",
       "        vertical-align: top;\n",
       "    }\n",
       "\n",
       "    .dataframe thead th {\n",
       "        text-align: right;\n",
       "    }\n",
       "</style>\n",
       "<table border=\"1\" class=\"dataframe\">\n",
       "  <thead>\n",
       "    <tr style=\"text-align: right;\">\n",
       "      <th></th>\n",
       "      <th>messages_included</th>\n",
       "      <th>mb_per_month_included</th>\n",
       "      <th>minutes_included</th>\n",
       "      <th>rub_monthly_fee</th>\n",
       "      <th>rub_per_gb</th>\n",
       "      <th>rub_per_message</th>\n",
       "      <th>rub_per_minute</th>\n",
       "      <th>tariff_name</th>\n",
       "    </tr>\n",
       "  </thead>\n",
       "  <tbody>\n",
       "    <tr>\n",
       "      <th>0</th>\n",
       "      <td>50</td>\n",
       "      <td>15360</td>\n",
       "      <td>500</td>\n",
       "      <td>550</td>\n",
       "      <td>200</td>\n",
       "      <td>3</td>\n",
       "      <td>3</td>\n",
       "      <td>smart</td>\n",
       "    </tr>\n",
       "    <tr>\n",
       "      <th>1</th>\n",
       "      <td>1000</td>\n",
       "      <td>30720</td>\n",
       "      <td>3000</td>\n",
       "      <td>1950</td>\n",
       "      <td>150</td>\n",
       "      <td>1</td>\n",
       "      <td>1</td>\n",
       "      <td>ultra</td>\n",
       "    </tr>\n",
       "  </tbody>\n",
       "</table>\n",
       "</div>"
      ],
      "text/plain": [
       "   messages_included  mb_per_month_included  minutes_included  \\\n",
       "0                 50                  15360               500   \n",
       "1               1000                  30720              3000   \n",
       "\n",
       "   rub_monthly_fee  rub_per_gb  rub_per_message  rub_per_minute tariff_name  \n",
       "0              550         200                3               3       smart  \n",
       "1             1950         150                1               1       ultra  "
      ]
     },
     "metadata": {},
     "output_type": "display_data"
    },
    {
     "name": "stdout",
     "output_type": "stream",
     "text": [
      "\n",
      "\u001b[0;37;40m Last 5 rows: \u001b[0;0m\n"
     ]
    },
    {
     "data": {
      "text/html": [
       "<div>\n",
       "<style scoped>\n",
       "    .dataframe tbody tr th:only-of-type {\n",
       "        vertical-align: middle;\n",
       "    }\n",
       "\n",
       "    .dataframe tbody tr th {\n",
       "        vertical-align: top;\n",
       "    }\n",
       "\n",
       "    .dataframe thead th {\n",
       "        text-align: right;\n",
       "    }\n",
       "</style>\n",
       "<table border=\"1\" class=\"dataframe\">\n",
       "  <thead>\n",
       "    <tr style=\"text-align: right;\">\n",
       "      <th></th>\n",
       "      <th>messages_included</th>\n",
       "      <th>mb_per_month_included</th>\n",
       "      <th>minutes_included</th>\n",
       "      <th>rub_monthly_fee</th>\n",
       "      <th>rub_per_gb</th>\n",
       "      <th>rub_per_message</th>\n",
       "      <th>rub_per_minute</th>\n",
       "      <th>tariff_name</th>\n",
       "    </tr>\n",
       "  </thead>\n",
       "  <tbody>\n",
       "    <tr>\n",
       "      <th>0</th>\n",
       "      <td>50</td>\n",
       "      <td>15360</td>\n",
       "      <td>500</td>\n",
       "      <td>550</td>\n",
       "      <td>200</td>\n",
       "      <td>3</td>\n",
       "      <td>3</td>\n",
       "      <td>smart</td>\n",
       "    </tr>\n",
       "    <tr>\n",
       "      <th>1</th>\n",
       "      <td>1000</td>\n",
       "      <td>30720</td>\n",
       "      <td>3000</td>\n",
       "      <td>1950</td>\n",
       "      <td>150</td>\n",
       "      <td>1</td>\n",
       "      <td>1</td>\n",
       "      <td>ultra</td>\n",
       "    </tr>\n",
       "  </tbody>\n",
       "</table>\n",
       "</div>"
      ],
      "text/plain": [
       "   messages_included  mb_per_month_included  minutes_included  \\\n",
       "0                 50                  15360               500   \n",
       "1               1000                  30720              3000   \n",
       "\n",
       "   rub_monthly_fee  rub_per_gb  rub_per_message  rub_per_minute tariff_name  \n",
       "0              550         200                3               3       smart  \n",
       "1             1950         150                1               1       ultra  "
      ]
     },
     "metadata": {},
     "output_type": "display_data"
    },
    {
     "name": "stdout",
     "output_type": "stream",
     "text": [
      "\n",
      "\u001b[0;37;40m Missing values ratio: \u001b[0;0m\n",
      "messages_included       0.00\n",
      "mb_per_month_included   0.00\n",
      "minutes_included        0.00\n",
      "rub_monthly_fee         0.00\n",
      "rub_per_gb              0.00\n",
      "rub_per_message         0.00\n",
      "rub_per_minute          0.00\n",
      "tariff_name             0.00\n",
      "dtype: float64\n",
      "\n",
      "\u001b[2;37;40m Duplicates ratio \u001b[0;0m    0.0  %\n",
      "\n",
      "\u001b[0;37;40m Numerical and categorical data summary: \u001b[0;0m\n"
     ]
    },
    {
     "data": {
      "text/html": [
       "<div>\n",
       "<style scoped>\n",
       "    .dataframe tbody tr th:only-of-type {\n",
       "        vertical-align: middle;\n",
       "    }\n",
       "\n",
       "    .dataframe tbody tr th {\n",
       "        vertical-align: top;\n",
       "    }\n",
       "\n",
       "    .dataframe thead th {\n",
       "        text-align: right;\n",
       "    }\n",
       "</style>\n",
       "<table border=\"1\" class=\"dataframe\">\n",
       "  <thead>\n",
       "    <tr style=\"text-align: right;\">\n",
       "      <th></th>\n",
       "      <th>count</th>\n",
       "      <th>unique</th>\n",
       "      <th>top</th>\n",
       "      <th>freq</th>\n",
       "      <th>mean</th>\n",
       "      <th>std</th>\n",
       "      <th>min</th>\n",
       "      <th>20%</th>\n",
       "      <th>40%</th>\n",
       "      <th>50%</th>\n",
       "      <th>60%</th>\n",
       "      <th>80%</th>\n",
       "      <th>max</th>\n",
       "    </tr>\n",
       "  </thead>\n",
       "  <tbody>\n",
       "    <tr>\n",
       "      <th>messages_included</th>\n",
       "      <td>2.00</td>\n",
       "      <td>NaN</td>\n",
       "      <td>NaN</td>\n",
       "      <td>NaN</td>\n",
       "      <td>525.00</td>\n",
       "      <td>671.75</td>\n",
       "      <td>50.00</td>\n",
       "      <td>240.00</td>\n",
       "      <td>430.00</td>\n",
       "      <td>525.00</td>\n",
       "      <td>620.00</td>\n",
       "      <td>810.00</td>\n",
       "      <td>1,000.00</td>\n",
       "    </tr>\n",
       "    <tr>\n",
       "      <th>mb_per_month_included</th>\n",
       "      <td>2.00</td>\n",
       "      <td>NaN</td>\n",
       "      <td>NaN</td>\n",
       "      <td>NaN</td>\n",
       "      <td>23,040.00</td>\n",
       "      <td>10,861.16</td>\n",
       "      <td>15,360.00</td>\n",
       "      <td>18,432.00</td>\n",
       "      <td>21,504.00</td>\n",
       "      <td>23,040.00</td>\n",
       "      <td>24,576.00</td>\n",
       "      <td>27,648.00</td>\n",
       "      <td>30,720.00</td>\n",
       "    </tr>\n",
       "    <tr>\n",
       "      <th>minutes_included</th>\n",
       "      <td>2.00</td>\n",
       "      <td>NaN</td>\n",
       "      <td>NaN</td>\n",
       "      <td>NaN</td>\n",
       "      <td>1,750.00</td>\n",
       "      <td>1,767.77</td>\n",
       "      <td>500.00</td>\n",
       "      <td>1,000.00</td>\n",
       "      <td>1,500.00</td>\n",
       "      <td>1,750.00</td>\n",
       "      <td>2,000.00</td>\n",
       "      <td>2,500.00</td>\n",
       "      <td>3,000.00</td>\n",
       "    </tr>\n",
       "    <tr>\n",
       "      <th>rub_monthly_fee</th>\n",
       "      <td>2.00</td>\n",
       "      <td>NaN</td>\n",
       "      <td>NaN</td>\n",
       "      <td>NaN</td>\n",
       "      <td>1,250.00</td>\n",
       "      <td>989.95</td>\n",
       "      <td>550.00</td>\n",
       "      <td>830.00</td>\n",
       "      <td>1,110.00</td>\n",
       "      <td>1,250.00</td>\n",
       "      <td>1,390.00</td>\n",
       "      <td>1,670.00</td>\n",
       "      <td>1,950.00</td>\n",
       "    </tr>\n",
       "    <tr>\n",
       "      <th>rub_per_gb</th>\n",
       "      <td>2.00</td>\n",
       "      <td>NaN</td>\n",
       "      <td>NaN</td>\n",
       "      <td>NaN</td>\n",
       "      <td>175.00</td>\n",
       "      <td>35.36</td>\n",
       "      <td>150.00</td>\n",
       "      <td>160.00</td>\n",
       "      <td>170.00</td>\n",
       "      <td>175.00</td>\n",
       "      <td>180.00</td>\n",
       "      <td>190.00</td>\n",
       "      <td>200.00</td>\n",
       "    </tr>\n",
       "    <tr>\n",
       "      <th>rub_per_message</th>\n",
       "      <td>2.00</td>\n",
       "      <td>NaN</td>\n",
       "      <td>NaN</td>\n",
       "      <td>NaN</td>\n",
       "      <td>2.00</td>\n",
       "      <td>1.41</td>\n",
       "      <td>1.00</td>\n",
       "      <td>1.40</td>\n",
       "      <td>1.80</td>\n",
       "      <td>2.00</td>\n",
       "      <td>2.20</td>\n",
       "      <td>2.60</td>\n",
       "      <td>3.00</td>\n",
       "    </tr>\n",
       "    <tr>\n",
       "      <th>rub_per_minute</th>\n",
       "      <td>2.00</td>\n",
       "      <td>NaN</td>\n",
       "      <td>NaN</td>\n",
       "      <td>NaN</td>\n",
       "      <td>2.00</td>\n",
       "      <td>1.41</td>\n",
       "      <td>1.00</td>\n",
       "      <td>1.40</td>\n",
       "      <td>1.80</td>\n",
       "      <td>2.00</td>\n",
       "      <td>2.20</td>\n",
       "      <td>2.60</td>\n",
       "      <td>3.00</td>\n",
       "    </tr>\n",
       "    <tr>\n",
       "      <th>tariff_name</th>\n",
       "      <td>2</td>\n",
       "      <td>2</td>\n",
       "      <td>smart</td>\n",
       "      <td>1</td>\n",
       "      <td>NaN</td>\n",
       "      <td>NaN</td>\n",
       "      <td>NaN</td>\n",
       "      <td>NaN</td>\n",
       "      <td>NaN</td>\n",
       "      <td>NaN</td>\n",
       "      <td>NaN</td>\n",
       "      <td>NaN</td>\n",
       "      <td>NaN</td>\n",
       "    </tr>\n",
       "  </tbody>\n",
       "</table>\n",
       "</div>"
      ],
      "text/plain": [
       "                      count unique    top freq      mean       std       min  \\\n",
       "messages_included      2.00    NaN    NaN  NaN    525.00    671.75     50.00   \n",
       "mb_per_month_included  2.00    NaN    NaN  NaN 23,040.00 10,861.16 15,360.00   \n",
       "minutes_included       2.00    NaN    NaN  NaN  1,750.00  1,767.77    500.00   \n",
       "rub_monthly_fee        2.00    NaN    NaN  NaN  1,250.00    989.95    550.00   \n",
       "rub_per_gb             2.00    NaN    NaN  NaN    175.00     35.36    150.00   \n",
       "rub_per_message        2.00    NaN    NaN  NaN      2.00      1.41      1.00   \n",
       "rub_per_minute         2.00    NaN    NaN  NaN      2.00      1.41      1.00   \n",
       "tariff_name               2      2  smart    1       NaN       NaN       NaN   \n",
       "\n",
       "                            20%       40%       50%       60%       80%  \\\n",
       "messages_included        240.00    430.00    525.00    620.00    810.00   \n",
       "mb_per_month_included 18,432.00 21,504.00 23,040.00 24,576.00 27,648.00   \n",
       "minutes_included       1,000.00  1,500.00  1,750.00  2,000.00  2,500.00   \n",
       "rub_monthly_fee          830.00  1,110.00  1,250.00  1,390.00  1,670.00   \n",
       "rub_per_gb               160.00    170.00    175.00    180.00    190.00   \n",
       "rub_per_message            1.40      1.80      2.00      2.20      2.60   \n",
       "rub_per_minute             1.40      1.80      2.00      2.20      2.60   \n",
       "tariff_name                 NaN       NaN       NaN       NaN       NaN   \n",
       "\n",
       "                            max  \n",
       "messages_included      1,000.00  \n",
       "mb_per_month_included 30,720.00  \n",
       "minutes_included       3,000.00  \n",
       "rub_monthly_fee        1,950.00  \n",
       "rub_per_gb               200.00  \n",
       "rub_per_message            3.00  \n",
       "rub_per_minute             3.00  \n",
       "tariff_name                 NaN  "
      ]
     },
     "metadata": {},
     "output_type": "display_data"
    },
    {
     "name": "stdout",
     "output_type": "stream",
     "text": [
      "\n",
      "\u001b[01;30;47m_____________THE END_____________\u001b[0;0m\n",
      "\n",
      "\n",
      "\n",
      "\u001b[1;30;47m_____________SET:  USERS_____________\u001b[0;0m\n",
      "\n",
      "\u001b[0;37;40m Total number of rows: \u001b[0;0m 500 rows\n",
      " \n",
      "\u001b[0;37;40m Total number of columns: \u001b[0;0m 8 columns\n",
      "\n",
      "\u001b[4;37;40m GENERAL INFORMATION \u001b[0;0m\n",
      "<class 'pandas.core.frame.DataFrame'>\n",
      "RangeIndex: 500 entries, 0 to 499\n",
      "Data columns (total 8 columns):\n",
      " #   Column      Non-Null Count  Dtype \n",
      "---  ------      --------------  ----- \n",
      " 0   user_id     500 non-null    int64 \n",
      " 1   age         500 non-null    int64 \n",
      " 2   churn_date  38 non-null     object\n",
      " 3   city        500 non-null    object\n",
      " 4   first_name  500 non-null    object\n",
      " 5   last_name   500 non-null    object\n",
      " 6   reg_date    500 non-null    object\n",
      " 7   tariff      500 non-null    object\n",
      "dtypes: int64(2), object(6)\n",
      "memory usage: 229.6 KB\n",
      "None\n",
      "\n",
      "\u001b[0;37;40m Top 5 rows: \u001b[0;0m\n"
     ]
    },
    {
     "data": {
      "text/html": [
       "<div>\n",
       "<style scoped>\n",
       "    .dataframe tbody tr th:only-of-type {\n",
       "        vertical-align: middle;\n",
       "    }\n",
       "\n",
       "    .dataframe tbody tr th {\n",
       "        vertical-align: top;\n",
       "    }\n",
       "\n",
       "    .dataframe thead th {\n",
       "        text-align: right;\n",
       "    }\n",
       "</style>\n",
       "<table border=\"1\" class=\"dataframe\">\n",
       "  <thead>\n",
       "    <tr style=\"text-align: right;\">\n",
       "      <th></th>\n",
       "      <th>user_id</th>\n",
       "      <th>age</th>\n",
       "      <th>churn_date</th>\n",
       "      <th>city</th>\n",
       "      <th>first_name</th>\n",
       "      <th>last_name</th>\n",
       "      <th>reg_date</th>\n",
       "      <th>tariff</th>\n",
       "    </tr>\n",
       "  </thead>\n",
       "  <tbody>\n",
       "    <tr>\n",
       "      <th>0</th>\n",
       "      <td>1000</td>\n",
       "      <td>52</td>\n",
       "      <td>NaN</td>\n",
       "      <td>Краснодар</td>\n",
       "      <td>Рафаил</td>\n",
       "      <td>Верещагин</td>\n",
       "      <td>2018-05-25</td>\n",
       "      <td>ultra</td>\n",
       "    </tr>\n",
       "    <tr>\n",
       "      <th>1</th>\n",
       "      <td>1001</td>\n",
       "      <td>41</td>\n",
       "      <td>NaN</td>\n",
       "      <td>Москва</td>\n",
       "      <td>Иван</td>\n",
       "      <td>Ежов</td>\n",
       "      <td>2018-11-01</td>\n",
       "      <td>smart</td>\n",
       "    </tr>\n",
       "    <tr>\n",
       "      <th>2</th>\n",
       "      <td>1002</td>\n",
       "      <td>59</td>\n",
       "      <td>NaN</td>\n",
       "      <td>Стерлитамак</td>\n",
       "      <td>Евгений</td>\n",
       "      <td>Абрамович</td>\n",
       "      <td>2018-06-17</td>\n",
       "      <td>smart</td>\n",
       "    </tr>\n",
       "    <tr>\n",
       "      <th>3</th>\n",
       "      <td>1003</td>\n",
       "      <td>23</td>\n",
       "      <td>NaN</td>\n",
       "      <td>Москва</td>\n",
       "      <td>Белла</td>\n",
       "      <td>Белякова</td>\n",
       "      <td>2018-08-17</td>\n",
       "      <td>ultra</td>\n",
       "    </tr>\n",
       "    <tr>\n",
       "      <th>4</th>\n",
       "      <td>1004</td>\n",
       "      <td>68</td>\n",
       "      <td>NaN</td>\n",
       "      <td>Новокузнецк</td>\n",
       "      <td>Татьяна</td>\n",
       "      <td>Авдеенко</td>\n",
       "      <td>2018-05-14</td>\n",
       "      <td>ultra</td>\n",
       "    </tr>\n",
       "  </tbody>\n",
       "</table>\n",
       "</div>"
      ],
      "text/plain": [
       "   user_id  age churn_date         city first_name  last_name    reg_date  \\\n",
       "0     1000   52        NaN    Краснодар     Рафаил  Верещагин  2018-05-25   \n",
       "1     1001   41        NaN       Москва       Иван       Ежов  2018-11-01   \n",
       "2     1002   59        NaN  Стерлитамак    Евгений  Абрамович  2018-06-17   \n",
       "3     1003   23        NaN       Москва      Белла   Белякова  2018-08-17   \n",
       "4     1004   68        NaN  Новокузнецк    Татьяна   Авдеенко  2018-05-14   \n",
       "\n",
       "  tariff  \n",
       "0  ultra  \n",
       "1  smart  \n",
       "2  smart  \n",
       "3  ultra  \n",
       "4  ultra  "
      ]
     },
     "metadata": {},
     "output_type": "display_data"
    },
    {
     "name": "stdout",
     "output_type": "stream",
     "text": [
      "\n",
      "\u001b[0;37;40m Last 5 rows: \u001b[0;0m\n"
     ]
    },
    {
     "data": {
      "text/html": [
       "<div>\n",
       "<style scoped>\n",
       "    .dataframe tbody tr th:only-of-type {\n",
       "        vertical-align: middle;\n",
       "    }\n",
       "\n",
       "    .dataframe tbody tr th {\n",
       "        vertical-align: top;\n",
       "    }\n",
       "\n",
       "    .dataframe thead th {\n",
       "        text-align: right;\n",
       "    }\n",
       "</style>\n",
       "<table border=\"1\" class=\"dataframe\">\n",
       "  <thead>\n",
       "    <tr style=\"text-align: right;\">\n",
       "      <th></th>\n",
       "      <th>user_id</th>\n",
       "      <th>age</th>\n",
       "      <th>churn_date</th>\n",
       "      <th>city</th>\n",
       "      <th>first_name</th>\n",
       "      <th>last_name</th>\n",
       "      <th>reg_date</th>\n",
       "      <th>tariff</th>\n",
       "    </tr>\n",
       "  </thead>\n",
       "  <tbody>\n",
       "    <tr>\n",
       "      <th>495</th>\n",
       "      <td>1495</td>\n",
       "      <td>65</td>\n",
       "      <td>NaN</td>\n",
       "      <td>Иркутск</td>\n",
       "      <td>Авксентий</td>\n",
       "      <td>Фокин</td>\n",
       "      <td>2018-08-28</td>\n",
       "      <td>ultra</td>\n",
       "    </tr>\n",
       "    <tr>\n",
       "      <th>496</th>\n",
       "      <td>1496</td>\n",
       "      <td>36</td>\n",
       "      <td>NaN</td>\n",
       "      <td>Вологда</td>\n",
       "      <td>Трифон</td>\n",
       "      <td>Блохин</td>\n",
       "      <td>2018-01-27</td>\n",
       "      <td>smart</td>\n",
       "    </tr>\n",
       "    <tr>\n",
       "      <th>497</th>\n",
       "      <td>1497</td>\n",
       "      <td>32</td>\n",
       "      <td>NaN</td>\n",
       "      <td>Челябинск</td>\n",
       "      <td>Каролина</td>\n",
       "      <td>Агеева</td>\n",
       "      <td>2018-10-09</td>\n",
       "      <td>smart</td>\n",
       "    </tr>\n",
       "    <tr>\n",
       "      <th>498</th>\n",
       "      <td>1498</td>\n",
       "      <td>68</td>\n",
       "      <td>2018-10-25</td>\n",
       "      <td>Владикавказ</td>\n",
       "      <td>Всеволод</td>\n",
       "      <td>Акимчин</td>\n",
       "      <td>2018-07-19</td>\n",
       "      <td>smart</td>\n",
       "    </tr>\n",
       "    <tr>\n",
       "      <th>499</th>\n",
       "      <td>1499</td>\n",
       "      <td>35</td>\n",
       "      <td>NaN</td>\n",
       "      <td>Пермь</td>\n",
       "      <td>Гектор</td>\n",
       "      <td>Корнилов</td>\n",
       "      <td>2018-09-27</td>\n",
       "      <td>smart</td>\n",
       "    </tr>\n",
       "  </tbody>\n",
       "</table>\n",
       "</div>"
      ],
      "text/plain": [
       "     user_id  age  churn_date         city first_name last_name    reg_date  \\\n",
       "495     1495   65         NaN      Иркутск  Авксентий     Фокин  2018-08-28   \n",
       "496     1496   36         NaN      Вологда     Трифон    Блохин  2018-01-27   \n",
       "497     1497   32         NaN    Челябинск   Каролина    Агеева  2018-10-09   \n",
       "498     1498   68  2018-10-25  Владикавказ   Всеволод   Акимчин  2018-07-19   \n",
       "499     1499   35         NaN        Пермь     Гектор  Корнилов  2018-09-27   \n",
       "\n",
       "    tariff  \n",
       "495  ultra  \n",
       "496  smart  \n",
       "497  smart  \n",
       "498  smart  \n",
       "499  smart  "
      ]
     },
     "metadata": {},
     "output_type": "display_data"
    },
    {
     "name": "stdout",
     "output_type": "stream",
     "text": [
      "\n",
      "\u001b[0;37;40m Missing values ratio: \u001b[0;0m\n",
      "user_id       0.00\n",
      "age           0.00\n",
      "churn_date   92.40\n",
      "city          0.00\n",
      "first_name    0.00\n",
      "last_name     0.00\n",
      "reg_date      0.00\n",
      "tariff        0.00\n",
      "dtype: float64\n",
      "\n",
      "\u001b[2;37;40m Duplicates ratio \u001b[0;0m    0.0  %\n",
      "\n",
      "\u001b[0;37;40m Numerical and categorical data summary: \u001b[0;0m\n"
     ]
    },
    {
     "data": {
      "text/html": [
       "<div>\n",
       "<style scoped>\n",
       "    .dataframe tbody tr th:only-of-type {\n",
       "        vertical-align: middle;\n",
       "    }\n",
       "\n",
       "    .dataframe tbody tr th {\n",
       "        vertical-align: top;\n",
       "    }\n",
       "\n",
       "    .dataframe thead th {\n",
       "        text-align: right;\n",
       "    }\n",
       "</style>\n",
       "<table border=\"1\" class=\"dataframe\">\n",
       "  <thead>\n",
       "    <tr style=\"text-align: right;\">\n",
       "      <th></th>\n",
       "      <th>count</th>\n",
       "      <th>unique</th>\n",
       "      <th>top</th>\n",
       "      <th>freq</th>\n",
       "      <th>mean</th>\n",
       "      <th>std</th>\n",
       "      <th>min</th>\n",
       "      <th>20%</th>\n",
       "      <th>40%</th>\n",
       "      <th>50%</th>\n",
       "      <th>60%</th>\n",
       "      <th>80%</th>\n",
       "      <th>max</th>\n",
       "    </tr>\n",
       "  </thead>\n",
       "  <tbody>\n",
       "    <tr>\n",
       "      <th>user_id</th>\n",
       "      <td>500.00</td>\n",
       "      <td>NaN</td>\n",
       "      <td>NaN</td>\n",
       "      <td>NaN</td>\n",
       "      <td>1,249.50</td>\n",
       "      <td>144.48</td>\n",
       "      <td>1,000.00</td>\n",
       "      <td>1,099.80</td>\n",
       "      <td>1,199.60</td>\n",
       "      <td>1,249.50</td>\n",
       "      <td>1,299.40</td>\n",
       "      <td>1,399.20</td>\n",
       "      <td>1,499.00</td>\n",
       "    </tr>\n",
       "    <tr>\n",
       "      <th>age</th>\n",
       "      <td>500.00</td>\n",
       "      <td>NaN</td>\n",
       "      <td>NaN</td>\n",
       "      <td>NaN</td>\n",
       "      <td>46.59</td>\n",
       "      <td>16.67</td>\n",
       "      <td>18.00</td>\n",
       "      <td>29.00</td>\n",
       "      <td>41.00</td>\n",
       "      <td>46.00</td>\n",
       "      <td>52.00</td>\n",
       "      <td>64.00</td>\n",
       "      <td>75.00</td>\n",
       "    </tr>\n",
       "    <tr>\n",
       "      <th>churn_date</th>\n",
       "      <td>38</td>\n",
       "      <td>33</td>\n",
       "      <td>2018-12-03</td>\n",
       "      <td>2</td>\n",
       "      <td>NaN</td>\n",
       "      <td>NaN</td>\n",
       "      <td>NaN</td>\n",
       "      <td>NaN</td>\n",
       "      <td>NaN</td>\n",
       "      <td>NaN</td>\n",
       "      <td>NaN</td>\n",
       "      <td>NaN</td>\n",
       "      <td>NaN</td>\n",
       "    </tr>\n",
       "    <tr>\n",
       "      <th>city</th>\n",
       "      <td>500</td>\n",
       "      <td>76</td>\n",
       "      <td>Москва</td>\n",
       "      <td>99</td>\n",
       "      <td>NaN</td>\n",
       "      <td>NaN</td>\n",
       "      <td>NaN</td>\n",
       "      <td>NaN</td>\n",
       "      <td>NaN</td>\n",
       "      <td>NaN</td>\n",
       "      <td>NaN</td>\n",
       "      <td>NaN</td>\n",
       "      <td>NaN</td>\n",
       "    </tr>\n",
       "    <tr>\n",
       "      <th>first_name</th>\n",
       "      <td>500</td>\n",
       "      <td>246</td>\n",
       "      <td>Радим</td>\n",
       "      <td>6</td>\n",
       "      <td>NaN</td>\n",
       "      <td>NaN</td>\n",
       "      <td>NaN</td>\n",
       "      <td>NaN</td>\n",
       "      <td>NaN</td>\n",
       "      <td>NaN</td>\n",
       "      <td>NaN</td>\n",
       "      <td>NaN</td>\n",
       "      <td>NaN</td>\n",
       "    </tr>\n",
       "    <tr>\n",
       "      <th>last_name</th>\n",
       "      <td>500</td>\n",
       "      <td>419</td>\n",
       "      <td>Андреенко</td>\n",
       "      <td>5</td>\n",
       "      <td>NaN</td>\n",
       "      <td>NaN</td>\n",
       "      <td>NaN</td>\n",
       "      <td>NaN</td>\n",
       "      <td>NaN</td>\n",
       "      <td>NaN</td>\n",
       "      <td>NaN</td>\n",
       "      <td>NaN</td>\n",
       "      <td>NaN</td>\n",
       "    </tr>\n",
       "    <tr>\n",
       "      <th>reg_date</th>\n",
       "      <td>500</td>\n",
       "      <td>270</td>\n",
       "      <td>2018-05-28</td>\n",
       "      <td>8</td>\n",
       "      <td>NaN</td>\n",
       "      <td>NaN</td>\n",
       "      <td>NaN</td>\n",
       "      <td>NaN</td>\n",
       "      <td>NaN</td>\n",
       "      <td>NaN</td>\n",
       "      <td>NaN</td>\n",
       "      <td>NaN</td>\n",
       "      <td>NaN</td>\n",
       "    </tr>\n",
       "    <tr>\n",
       "      <th>tariff</th>\n",
       "      <td>500</td>\n",
       "      <td>2</td>\n",
       "      <td>smart</td>\n",
       "      <td>351</td>\n",
       "      <td>NaN</td>\n",
       "      <td>NaN</td>\n",
       "      <td>NaN</td>\n",
       "      <td>NaN</td>\n",
       "      <td>NaN</td>\n",
       "      <td>NaN</td>\n",
       "      <td>NaN</td>\n",
       "      <td>NaN</td>\n",
       "      <td>NaN</td>\n",
       "    </tr>\n",
       "  </tbody>\n",
       "</table>\n",
       "</div>"
      ],
      "text/plain": [
       "            count unique         top freq     mean    std      min      20%  \\\n",
       "user_id    500.00    NaN         NaN  NaN 1,249.50 144.48 1,000.00 1,099.80   \n",
       "age        500.00    NaN         NaN  NaN    46.59  16.67    18.00    29.00   \n",
       "churn_date     38     33  2018-12-03    2      NaN    NaN      NaN      NaN   \n",
       "city          500     76      Москва   99      NaN    NaN      NaN      NaN   \n",
       "first_name    500    246       Радим    6      NaN    NaN      NaN      NaN   \n",
       "last_name     500    419   Андреенко    5      NaN    NaN      NaN      NaN   \n",
       "reg_date      500    270  2018-05-28    8      NaN    NaN      NaN      NaN   \n",
       "tariff        500      2       smart  351      NaN    NaN      NaN      NaN   \n",
       "\n",
       "                40%      50%      60%      80%      max  \n",
       "user_id    1,199.60 1,249.50 1,299.40 1,399.20 1,499.00  \n",
       "age           41.00    46.00    52.00    64.00    75.00  \n",
       "churn_date      NaN      NaN      NaN      NaN      NaN  \n",
       "city            NaN      NaN      NaN      NaN      NaN  \n",
       "first_name      NaN      NaN      NaN      NaN      NaN  \n",
       "last_name       NaN      NaN      NaN      NaN      NaN  \n",
       "reg_date        NaN      NaN      NaN      NaN      NaN  \n",
       "tariff          NaN      NaN      NaN      NaN      NaN  "
      ]
     },
     "metadata": {},
     "output_type": "display_data"
    },
    {
     "name": "stdout",
     "output_type": "stream",
     "text": [
      "\n",
      "\u001b[01;30;47m_____________THE END_____________\u001b[0;0m\n",
      "\n",
      "\n"
     ]
    }
   ],
   "source": [
    "# primary data analysis \n",
    "tables = [calls, internet, messages, tariffs, users]\n",
    "names = ['calls', 'internet', 'messages', 'tariffs', 'users']\n",
    "\n",
    "for name, table in zip(names, tables):\n",
    "    print(\n",
    "        f'\\n\\033[1;30;47m_____________SET:  {name.upper()}_____________\\033[0;0m\\n')\n",
    "    get_info(table)\n",
    "    print ('\\n\\033[01;30;47m_____________THE END_____________\\033[0;0m\\n\\n') "
   ]
  },
  {
   "cell_type": "markdown",
   "id": "6345ad5d",
   "metadata": {},
   "source": [
    "**According to the documentation:**\n",
    "\n",
    "*Set users:*\n",
    "\n",
    "- `user_id` — unique user identifier;\n",
    "- `first_name` — user's name;\n",
    "- `last_name` — user's last name;\n",
    "- `age` — user's age (years);\n",
    "- `reg_date` — subscription date (dd, mm, yy);\n",
    "- `churn_date` — the date the user stopped using the service (if the value is missing, the calling plan was being used when this data was retrieved);\n",
    "- `city` — user's city of residence;\n",
    "- `tariff` — calling plan name;\n",
    "\n",
    "*Set calls:*\n",
    "\n",
    "- `id` — unique call identifier;\n",
    "- `call_date` — call date;\n",
    "- `duration` — call duration (in minutes);\n",
    "- `user_id` — the identifier of the user making the call;\n",
    "\n",
    "*Set messages:*\n",
    "\n",
    "- `id` — unique text message identifier;\n",
    "- `message_date` — text message date;\n",
    "- `user_id` — the identifier of the user sending the text;\n",
    "\n",
    "*Set internet (mobile data info):*\n",
    "\n",
    "- `id` — unique session identifier;\n",
    "- `mb_used` — the volume of data spent during the session (in megabytes);\n",
    "- `session_date` — web session date;\n",
    "- `user_id` — user identifier;\n",
    "\n",
    "*Set tariffs (plans info):*\n",
    "\n",
    "- `tariff_name` — calling plan name;\n",
    "- `rub_monthly_fee` — monthly charge in RUB;\n",
    "- `minutes_included` — monthly minute allowance;\n",
    "- `messages_included` — monthly text allowance\n",
    "- `mb_per_month_included` — data volume allowance (in megabytes);\n",
    "- `rub_per_minute` — price per minute after exceeding the package limits (e.g., if the package includes 100 minutes, the 101st minute will be charged);\n",
    "- `rub_per_message` —  price per text after exceeding the package limits;\n",
    "- `rub_per_gb` — price per extra gigabyte of data after exceeding the package limits (1 GB = 1024 megabytes);\n",
    "\n",
    "**Brief data analysis:**\n",
    "\n",
    "*Set users:*\n",
    "\n",
    "- no missing values, no duplicates (if the value in `churn_date` is missing, the calling plan was being used when this data was retrieved);\n",
    "-  mismatch between the data and type: `reg_date`, `churn_date` - object, we need datetime format;\n",
    "- text data is not in lowercase;\n",
    "\n",
    "*Set calls:*\n",
    "\n",
    "- no missing values, no duplicates;\n",
    "- mismatch between the data and type: `call_date` - object (datetime required);\n",
    "- nulls in the `duration` column - unanswered calls;\n",
    "- all IDs are unique;\n",
    "\n",
    "*Set messages:*\n",
    "\n",
    "- no missing values, no duplicates;\n",
    "- mismatch between the data and type: `message_date` - object (datetime required);\n",
    "\n",
    "*Set internet (mobile data info):*\n",
    "\n",
    "- extra column `unnamed`, index duplication;\n",
    "- no missing values, no duplicates;\n",
    "- mismatch between the data and type: `session_date` - object (datetime required);\n",
    "\n",
    "*Set tariffs (plans info):*\n",
    "\n",
    "- 2 rows with plans description;\n",
    "- no missing values, no duplicates, all data match data type;\n",
    "\n",
    "Columns with unique ID can't transform to int64 due to the data format (a lower underscore)."
   ]
  },
  {
   "cell_type": "markdown",
   "id": "eab18337",
   "metadata": {},
   "source": [
    "## Interim conclusions"
   ]
  },
  {
   "cell_type": "markdown",
   "id": "60b52221",
   "metadata": {},
   "source": [
    "We have 5 dataframes that contain basic information on clients: who the clients are, where they're from, which plan they use, and the number of calls they made and text messages they sent . There are mismatches between data and types in the dates columns. The sample is 500 users (according to the users table): the average age is 46 y.o. (minimum 18 y.o, maximum 75 y.o.). The main location is Moscow, 351 clients from 500 use \"Smart\", the rest \"Ultra\". 92.4% of clients continue to use their calling plan.\n",
    "\n",
    "It can be argued that currently available data is sufficient for the task. But this data needs to be processed: we need to change the data type, merge some tables, add calculated fields."
   ]
  },
  {
   "cell_type": "markdown",
   "id": "88e91b0a",
   "metadata": {},
   "source": [
    "# Data preprocessing"
   ]
  },
  {
   "cell_type": "code",
   "execution_count": 7,
   "id": "df35b26d",
   "metadata": {},
   "outputs": [
    {
     "data": {
      "text/html": [
       "<div>\n",
       "<style scoped>\n",
       "    .dataframe tbody tr th:only-of-type {\n",
       "        vertical-align: middle;\n",
       "    }\n",
       "\n",
       "    .dataframe tbody tr th {\n",
       "        vertical-align: top;\n",
       "    }\n",
       "\n",
       "    .dataframe thead th {\n",
       "        text-align: right;\n",
       "    }\n",
       "</style>\n",
       "<table border=\"1\" class=\"dataframe\">\n",
       "  <thead>\n",
       "    <tr style=\"text-align: right;\">\n",
       "      <th></th>\n",
       "      <th>id</th>\n",
       "      <th>mb_used</th>\n",
       "      <th>session_date</th>\n",
       "      <th>user_id</th>\n",
       "    </tr>\n",
       "  </thead>\n",
       "  <tbody>\n",
       "    <tr>\n",
       "      <th>0</th>\n",
       "      <td>1000_0</td>\n",
       "      <td>112.95</td>\n",
       "      <td>2018-11-25</td>\n",
       "      <td>1000</td>\n",
       "    </tr>\n",
       "  </tbody>\n",
       "</table>\n",
       "</div>"
      ],
      "text/plain": [
       "       id  mb_used session_date  user_id\n",
       "0  1000_0   112.95   2018-11-25     1000"
      ]
     },
     "execution_count": 7,
     "metadata": {},
     "output_type": "execute_result"
    }
   ],
   "source": [
    "# drop extra column from internet\n",
    "internet.drop(columns='Unnamed: 0', axis=0, inplace=True)\n",
    "# check\n",
    "internet.head(1)"
   ]
  },
  {
   "cell_type": "markdown",
   "id": "d509dd44",
   "metadata": {},
   "source": [
    "## Changing the data type"
   ]
  },
  {
   "cell_type": "code",
   "execution_count": 8,
   "id": "7f728882",
   "metadata": {},
   "outputs": [
    {
     "name": "stdout",
     "output_type": "stream",
     "text": [
      "<class 'pandas.core.frame.DataFrame'>\n",
      "RangeIndex: 500 entries, 0 to 499\n",
      "Data columns (total 8 columns):\n",
      " #   Column      Non-Null Count  Dtype         \n",
      "---  ------      --------------  -----         \n",
      " 0   user_id     500 non-null    int64         \n",
      " 1   age         500 non-null    int64         \n",
      " 2   churn_date  38 non-null     object        \n",
      " 3   city        500 non-null    object        \n",
      " 4   first_name  500 non-null    object        \n",
      " 5   last_name   500 non-null    object        \n",
      " 6   reg_date    500 non-null    datetime64[ns]\n",
      " 7   tariff      500 non-null    object        \n",
      "dtypes: datetime64[ns](1), int64(2), object(5)\n",
      "memory usage: 31.4+ KB\n",
      "<class 'pandas.core.frame.DataFrame'>\n",
      "RangeIndex: 202607 entries, 0 to 202606\n",
      "Data columns (total 4 columns):\n",
      " #   Column     Non-Null Count   Dtype         \n",
      "---  ------     --------------   -----         \n",
      " 0   id         202607 non-null  object        \n",
      " 1   call_date  202607 non-null  datetime64[ns]\n",
      " 2   duration   202607 non-null  float64       \n",
      " 3   user_id    202607 non-null  int64         \n",
      "dtypes: datetime64[ns](1), float64(1), int64(1), object(1)\n",
      "memory usage: 6.2+ MB\n",
      "<class 'pandas.core.frame.DataFrame'>\n",
      "RangeIndex: 123036 entries, 0 to 123035\n",
      "Data columns (total 3 columns):\n",
      " #   Column        Non-Null Count   Dtype         \n",
      "---  ------        --------------   -----         \n",
      " 0   id            123036 non-null  object        \n",
      " 1   message_date  123036 non-null  datetime64[ns]\n",
      " 2   user_id       123036 non-null  int64         \n",
      "dtypes: datetime64[ns](1), int64(1), object(1)\n",
      "memory usage: 2.8+ MB\n",
      "<class 'pandas.core.frame.DataFrame'>\n",
      "RangeIndex: 149396 entries, 0 to 149395\n",
      "Data columns (total 4 columns):\n",
      " #   Column        Non-Null Count   Dtype         \n",
      "---  ------        --------------   -----         \n",
      " 0   id            149396 non-null  object        \n",
      " 1   mb_used       149396 non-null  float64       \n",
      " 2   session_date  149396 non-null  datetime64[ns]\n",
      " 3   user_id       149396 non-null  int64         \n",
      "dtypes: datetime64[ns](1), float64(1), int64(1), object(1)\n",
      "memory usage: 4.6+ MB\n"
     ]
    },
    {
     "data": {
      "text/plain": [
       "[None, None, None, None]"
      ]
     },
     "execution_count": 8,
     "metadata": {},
     "output_type": "execute_result"
    }
   ],
   "source": [
    "# to datetime\n",
    "table_names = [users, calls, messages, internet]\n",
    "column_names = ['reg_date', 'call_date', 'message_date', 'session_date']\n",
    "\n",
    "for table, column in zip(table_names, column_names):\n",
    "    table[column] = pd.to_datetime(table[column], format='%Y-%m-%d')\n",
    "    \n",
    "# check\n",
    "[table.info() for table in table_names]"
   ]
  },
  {
   "cell_type": "markdown",
   "id": "7061965f",
   "metadata": {},
   "source": [
    "## Categorical data processing"
   ]
  },
  {
   "cell_type": "code",
   "execution_count": 9,
   "id": "56f0bcc1",
   "metadata": {},
   "outputs": [],
   "source": [
    "# select required column of object type in a separate variable\n",
    "obj_cols = ['city', 'first_name', 'last_name']"
   ]
  },
  {
   "cell_type": "code",
   "execution_count": 10,
   "id": "40516355",
   "metadata": {},
   "outputs": [],
   "source": [
    "# # tranformation to lowercase\n",
    "users = users.apply(lambda x: x.str.lower() if x.name in obj_cols else x)\n",
    "users = users.apply(lambda x: x.str.replace('ё','е') if x.name in obj_cols else x)"
   ]
  },
  {
   "cell_type": "code",
   "execution_count": 11,
   "id": "d3b34758",
   "metadata": {
    "scrolled": true
   },
   "outputs": [
    {
     "data": {
      "text/plain": [
       "array(['ultra', 'smart'], dtype=object)"
      ]
     },
     "execution_count": 11,
     "metadata": {},
     "output_type": "execute_result"
    }
   ],
   "source": [
    "# unique values\n",
    "users['tariff'].unique()"
   ]
  },
  {
   "cell_type": "markdown",
   "id": "ae35a9a5",
   "metadata": {},
   "source": [
    "## Numerical data processing"
   ]
  },
  {
   "cell_type": "code",
   "execution_count": 12,
   "id": "35cf3d5d",
   "metadata": {
    "scrolled": false
   },
   "outputs": [
    {
     "name": "stdout",
     "output_type": "stream",
     "text": [
      "Minimum registration date: 2018-01-01 00:00:00\n",
      "Maximum registration date: 2018-12-31 00:00:00\n",
      "\n",
      "Minimum call date: 2018-01-01 00:00:00\n",
      "Maximum call date: 2018-12-31 00:00:00\n",
      "\n",
      "Minimum text date: 2018-01-02 00:00:00\n",
      "Maximum text date: 2018-12-31 00:00:00\n",
      "\n",
      "Minimum session date: 2018-01-01 00:00:00\n",
      "Maximum session date: 2018-12-31 00:00:00\n"
     ]
    }
   ],
   "source": [
    "# date check\n",
    "print('Minimum registration date:', users['reg_date'].min())\n",
    "print('Maximum registration date:', users['reg_date'].max())\n",
    "print()\n",
    "print('Minimum call date:', calls['call_date'].min())\n",
    "print('Maximum call date:', calls['call_date'].max())\n",
    "print()\n",
    "print('Minimum text date:', messages['message_date'].min())\n",
    "print('Maximum text date:', messages['message_date'].max())\n",
    "print()\n",
    "print('Minimum session date:', internet['session_date'].min())\n",
    "print('Maximum session date:', internet['session_date'].max())"
   ]
  },
  {
   "cell_type": "code",
   "execution_count": 13,
   "id": "164c69de",
   "metadata": {
    "scrolled": false
   },
   "outputs": [
    {
     "data": {
      "image/png": "[encoded data removed]",
      "text/plain": [
       "<Figure size 720x432 with 1 Axes>"
      ]
     },
     "metadata": {},
     "output_type": "display_data"
    }
   ],
   "source": [
    "# calls duration (histogram)\n",
    "fig, ax = plt.subplots(figsize = (10, 6))\n",
    "plt.style.use('bmh')\n",
    "ax.grid(False)\n",
    "calls['duration'].plot(kind = 'hist', bins = 15, alpha = 0.65)\n",
    "ax.set_xlabel('Duration, sec.')\n",
    "ax.set_ylabel(' ')\n",
    "ax.set_title('Calls duration distribution', fontsize=17, pad=10)\n",
    "ax.tick_params(left = False, bottom = False)\n",
    "quant_25, quant_50, quant_75= calls['duration'].quantile(0.25), calls['duration'].quantile(0.5), calls['duration'].quantile(0.75)\n",
    "quants = [[quant_25, 0.8, 0.56], [quant_50, 1, 0.5],  [quant_75, 0.8, 0.46]]\n",
    "for i in quants:\n",
    "    plt.axvline(i[0], alpha = i[1], ymax = i[2], linestyle = \":\")\n",
    "plt.text(quant_25+.8, 35000, \"25th\", size = 11, alpha = 0.85)\n",
    "plt.text(quant_50-.5, 33000, \"50th\", size = 11, alpha = 1)\n",
    "plt.text(quant_75-.5, 31000, \"75th\", size = 11, alpha = 0.85)\n",
    "for ax, spine in ax.spines.items():\n",
    "    spine.set_visible(False);"
   ]
  },
  {
   "cell_type": "markdown",
   "id": "f3ef5726",
   "metadata": {},
   "source": [
    "*Conclusion: since each call is rounded up to minutes (1 second call will be counted as 1 minute), we will round each value up. The distribution is exponential, and we see a lot of zero-duration calls - unanswered calls.*"
   ]
  },
  {
   "cell_type": "code",
   "execution_count": 14,
   "id": "40fe7c8a",
   "metadata": {},
   "outputs": [
    {
     "data": {
      "text/html": [
       "<div>\n",
       "<style scoped>\n",
       "    .dataframe tbody tr th:only-of-type {\n",
       "        vertical-align: middle;\n",
       "    }\n",
       "\n",
       "    .dataframe tbody tr th {\n",
       "        vertical-align: top;\n",
       "    }\n",
       "\n",
       "    .dataframe thead th {\n",
       "        text-align: right;\n",
       "    }\n",
       "</style>\n",
       "<table border=\"1\" class=\"dataframe\">\n",
       "  <thead>\n",
       "    <tr style=\"text-align: right;\">\n",
       "      <th></th>\n",
       "      <th>id</th>\n",
       "      <th>call_date</th>\n",
       "      <th>duration</th>\n",
       "      <th>user_id</th>\n",
       "    </tr>\n",
       "  </thead>\n",
       "  <tbody>\n",
       "    <tr>\n",
       "      <th>20966</th>\n",
       "      <td>1055_459</td>\n",
       "      <td>2018-08-08</td>\n",
       "      <td>1.00</td>\n",
       "      <td>1055</td>\n",
       "    </tr>\n",
       "    <tr>\n",
       "      <th>175942</th>\n",
       "      <td>1433_841</td>\n",
       "      <td>2018-03-04</td>\n",
       "      <td>8.00</td>\n",
       "      <td>1433</td>\n",
       "    </tr>\n",
       "    <tr>\n",
       "      <th>172218</th>\n",
       "      <td>1425_830</td>\n",
       "      <td>2018-07-21</td>\n",
       "      <td>12.00</td>\n",
       "      <td>1425</td>\n",
       "    </tr>\n",
       "  </tbody>\n",
       "</table>\n",
       "</div>"
      ],
      "text/plain": [
       "              id  call_date  duration  user_id\n",
       "20966   1055_459 2018-08-08      1.00     1055\n",
       "175942  1433_841 2018-03-04      8.00     1433\n",
       "172218  1425_830 2018-07-21     12.00     1425"
      ]
     },
     "execution_count": 14,
     "metadata": {},
     "output_type": "execute_result"
    }
   ],
   "source": [
    "# round up call duration\n",
    "calls['duration'] = np.ceil(calls['duration'])\n",
    "calls.sample(3)"
   ]
  },
  {
   "cell_type": "code",
   "execution_count": 15,
   "id": "56639abb",
   "metadata": {
    "scrolled": false
   },
   "outputs": [
    {
     "data": {
      "image/png": "[encoded data removed]",
      "text/plain": [
       "<Figure size 720x432 with 1 Axes>"
      ]
     },
     "metadata": {},
     "output_type": "display_data"
    }
   ],
   "source": [
    "# mb used histogram\n",
    "fig, ax = plt.subplots(figsize = (10, 6))\n",
    "plt.style.use('bmh')\n",
    "ax.grid(False)\n",
    "internet['mb_used'].plot(kind = 'hist', bins = 15, alpha = 0.65)\n",
    "ax.set_xlabel('Megabytes')\n",
    "ax.set_ylabel(' ')\n",
    "ax.set_title('Megabytes used distribution', fontsize=17, pad=10)\n",
    "ax.tick_params(left = False, bottom = False)\n",
    "quant_25, quant_50, quant_75= internet['mb_used'].quantile(0.25),internet['mb_used'].quantile(0.5), internet['mb_used'].quantile(0.75)\n",
    "quants = [[quant_25, 0.8, 0.7], [quant_50, 1, 0.65],  [quant_75, 0.8, 0.6]]\n",
    "for i in quants:\n",
    "    plt.axvline(i[0], alpha = i[1], ymax = i[2], linestyle = \":\")\n",
    "plt.text(quant_25-.13, 26000, \"25th\", size = 11, alpha = 0.85)\n",
    "plt.text(quant_50-.13, 24000, \"50th\", size = 11, alpha = 1)\n",
    "plt.text(quant_75-.13, 22000, \"75th\", size = 11, alpha = 0.85)\n",
    "for ax, spine in ax.spines.items():\n",
    "    spine.set_visible(False);"
   ]
  },
  {
   "cell_type": "markdown",
   "id": "7482e4a0",
   "metadata": {},
   "source": [
    "*Conclusion: the data is calculated in gigabytes (which are rounded up). Let’s make corresponding calculations. The distribution is exponential (perhaps some users rarely surf the Internet).*"
   ]
  },
  {
   "cell_type": "code",
   "execution_count": 16,
   "id": "eade78ae",
   "metadata": {
    "scrolled": true
   },
   "outputs": [
    {
     "data": {
      "text/html": [
       "<div>\n",
       "<style scoped>\n",
       "    .dataframe tbody tr th:only-of-type {\n",
       "        vertical-align: middle;\n",
       "    }\n",
       "\n",
       "    .dataframe tbody tr th {\n",
       "        vertical-align: top;\n",
       "    }\n",
       "\n",
       "    .dataframe thead th {\n",
       "        text-align: right;\n",
       "    }\n",
       "</style>\n",
       "<table border=\"1\" class=\"dataframe\">\n",
       "  <thead>\n",
       "    <tr style=\"text-align: right;\">\n",
       "      <th></th>\n",
       "      <th>messages_included</th>\n",
       "      <th>gb_per_month_included</th>\n",
       "      <th>minutes_included</th>\n",
       "      <th>rub_monthly_fee</th>\n",
       "      <th>rub_per_gb</th>\n",
       "      <th>rub_per_message</th>\n",
       "      <th>rub_per_minute</th>\n",
       "      <th>tariff_name</th>\n",
       "    </tr>\n",
       "  </thead>\n",
       "  <tbody>\n",
       "    <tr>\n",
       "      <th>0</th>\n",
       "      <td>50</td>\n",
       "      <td>15.00</td>\n",
       "      <td>500</td>\n",
       "      <td>550</td>\n",
       "      <td>200</td>\n",
       "      <td>3</td>\n",
       "      <td>3</td>\n",
       "      <td>smart</td>\n",
       "    </tr>\n",
       "    <tr>\n",
       "      <th>1</th>\n",
       "      <td>1000</td>\n",
       "      <td>30.00</td>\n",
       "      <td>3000</td>\n",
       "      <td>1950</td>\n",
       "      <td>150</td>\n",
       "      <td>1</td>\n",
       "      <td>1</td>\n",
       "      <td>ultra</td>\n",
       "    </tr>\n",
       "  </tbody>\n",
       "</table>\n",
       "</div>"
      ],
      "text/plain": [
       "   messages_included  gb_per_month_included  minutes_included  \\\n",
       "0                 50                  15.00               500   \n",
       "1               1000                  30.00              3000   \n",
       "\n",
       "   rub_monthly_fee  rub_per_gb  rub_per_message  rub_per_minute tariff_name  \n",
       "0              550         200                3               3       smart  \n",
       "1             1950         150                1               1       ultra  "
      ]
     },
     "execution_count": 16,
     "metadata": {},
     "output_type": "execute_result"
    }
   ],
   "source": [
    "# conversion to GB\n",
    "tariffs['mb_per_month_included'] = (tariffs['mb_per_month_included']/1024).apply(np.ceil)\n",
    "tariffs.rename(columns={'mb_per_month_included':'gb_per_month_included'}, inplace=True)\n",
    "tariffs"
   ]
  },
  {
   "cell_type": "markdown",
   "id": "5a580a6b",
   "metadata": {},
   "source": [
    "## Interim conclusions"
   ]
  },
  {
   "cell_type": "markdown",
   "id": "044e9db8",
   "metadata": {},
   "source": [
    "In this section we've:\n",
    "\n",
    "- drop extra column;\n",
    "- transformed date and time data to datetime format;\n",
    "- checked min and max dates;\n",
    "- processed implicit duplicates (transform to lowercase);\n",
    "- analyzed numeric data: calls duration and internet traffic distribution;\n",
    "- transformed calls duration and traffic in appropriate units, rounding values;"
   ]
  },
  {
   "cell_type": "markdown",
   "id": "56c8ba4d",
   "metadata": {},
   "source": [
    "# Dataframe editing"
   ]
  },
  {
   "cell_type": "markdown",
   "id": "0fb568e6",
   "metadata": {},
   "source": [
    "Using the new dataframe we now have, we can find for each user:\n",
    "\n",
    "- the number of calls made and minutes used per month;\n",
    "- the number of text messages sent per month;\n",
    "- the volume of data per month;\n",
    "- the monthly revenue from each user (subtract the free package limit from the total number of calls, text messages, and data; multiply the result by the calling plan value; add the monthly charge depending on the calling plan)."
   ]
  },
  {
   "cell_type": "code",
   "execution_count": 17,
   "id": "647aea63",
   "metadata": {},
   "outputs": [
    {
     "data": {
      "text/html": [
       "<div>\n",
       "<style scoped>\n",
       "    .dataframe tbody tr th:only-of-type {\n",
       "        vertical-align: middle;\n",
       "    }\n",
       "\n",
       "    .dataframe tbody tr th {\n",
       "        vertical-align: top;\n",
       "    }\n",
       "\n",
       "    .dataframe thead th {\n",
       "        text-align: right;\n",
       "    }\n",
       "</style>\n",
       "<table border=\"1\" class=\"dataframe\">\n",
       "  <thead>\n",
       "    <tr style=\"text-align: right;\">\n",
       "      <th></th>\n",
       "      <th>id</th>\n",
       "      <th>call_date</th>\n",
       "      <th>duration</th>\n",
       "      <th>user_id</th>\n",
       "      <th>month</th>\n",
       "    </tr>\n",
       "  </thead>\n",
       "  <tbody>\n",
       "    <tr>\n",
       "      <th>187177</th>\n",
       "      <td>1462_107</td>\n",
       "      <td>2018-11-11</td>\n",
       "      <td>16.00</td>\n",
       "      <td>1462</td>\n",
       "      <td>11</td>\n",
       "    </tr>\n",
       "    <tr>\n",
       "      <th>94394</th>\n",
       "      <td>1239_363</td>\n",
       "      <td>2018-06-17</td>\n",
       "      <td>20.00</td>\n",
       "      <td>1239</td>\n",
       "      <td>6</td>\n",
       "    </tr>\n",
       "    <tr>\n",
       "      <th>80220</th>\n",
       "      <td>1200_123</td>\n",
       "      <td>2018-12-17</td>\n",
       "      <td>4.00</td>\n",
       "      <td>1200</td>\n",
       "      <td>12</td>\n",
       "    </tr>\n",
       "  </tbody>\n",
       "</table>\n",
       "</div>"
      ],
      "text/plain": [
       "              id  call_date  duration  user_id  month\n",
       "187177  1462_107 2018-11-11     16.00     1462     11\n",
       "94394   1239_363 2018-06-17     20.00     1239      6\n",
       "80220   1200_123 2018-12-17      4.00     1200     12"
      ]
     },
     "metadata": {},
     "output_type": "display_data"
    },
    {
     "data": {
      "text/html": [
       "<div>\n",
       "<style scoped>\n",
       "    .dataframe tbody tr th:only-of-type {\n",
       "        vertical-align: middle;\n",
       "    }\n",
       "\n",
       "    .dataframe tbody tr th {\n",
       "        vertical-align: top;\n",
       "    }\n",
       "\n",
       "    .dataframe thead th {\n",
       "        text-align: right;\n",
       "    }\n",
       "</style>\n",
       "<table border=\"1\" class=\"dataframe\">\n",
       "  <thead>\n",
       "    <tr style=\"text-align: right;\">\n",
       "      <th></th>\n",
       "      <th>id</th>\n",
       "      <th>message_date</th>\n",
       "      <th>user_id</th>\n",
       "      <th>month</th>\n",
       "    </tr>\n",
       "  </thead>\n",
       "  <tbody>\n",
       "    <tr>\n",
       "      <th>101085</th>\n",
       "      <td>1414_29</td>\n",
       "      <td>2018-07-26</td>\n",
       "      <td>1414</td>\n",
       "      <td>7</td>\n",
       "    </tr>\n",
       "    <tr>\n",
       "      <th>28535</th>\n",
       "      <td>1123_158</td>\n",
       "      <td>2018-06-04</td>\n",
       "      <td>1123</td>\n",
       "      <td>6</td>\n",
       "    </tr>\n",
       "    <tr>\n",
       "      <th>64897</th>\n",
       "      <td>1280_42</td>\n",
       "      <td>2018-09-21</td>\n",
       "      <td>1280</td>\n",
       "      <td>9</td>\n",
       "    </tr>\n",
       "  </tbody>\n",
       "</table>\n",
       "</div>"
      ],
      "text/plain": [
       "              id message_date  user_id  month\n",
       "101085   1414_29   2018-07-26     1414      7\n",
       "28535   1123_158   2018-06-04     1123      6\n",
       "64897    1280_42   2018-09-21     1280      9"
      ]
     },
     "metadata": {},
     "output_type": "display_data"
    },
    {
     "data": {
      "text/html": [
       "<div>\n",
       "<style scoped>\n",
       "    .dataframe tbody tr th:only-of-type {\n",
       "        vertical-align: middle;\n",
       "    }\n",
       "\n",
       "    .dataframe tbody tr th {\n",
       "        vertical-align: top;\n",
       "    }\n",
       "\n",
       "    .dataframe thead th {\n",
       "        text-align: right;\n",
       "    }\n",
       "</style>\n",
       "<table border=\"1\" class=\"dataframe\">\n",
       "  <thead>\n",
       "    <tr style=\"text-align: right;\">\n",
       "      <th></th>\n",
       "      <th>id</th>\n",
       "      <th>mb_used</th>\n",
       "      <th>session_date</th>\n",
       "      <th>user_id</th>\n",
       "      <th>month</th>\n",
       "    </tr>\n",
       "  </thead>\n",
       "  <tbody>\n",
       "    <tr>\n",
       "      <th>39709</th>\n",
       "      <td>1138_387</td>\n",
       "      <td>395.54</td>\n",
       "      <td>2018-08-22</td>\n",
       "      <td>1138</td>\n",
       "      <td>8</td>\n",
       "    </tr>\n",
       "    <tr>\n",
       "      <th>55702</th>\n",
       "      <td>1186_167</td>\n",
       "      <td>0.00</td>\n",
       "      <td>2018-12-03</td>\n",
       "      <td>1186</td>\n",
       "      <td>12</td>\n",
       "    </tr>\n",
       "    <tr>\n",
       "      <th>90868</th>\n",
       "      <td>1308_51</td>\n",
       "      <td>281.18</td>\n",
       "      <td>2018-10-04</td>\n",
       "      <td>1308</td>\n",
       "      <td>10</td>\n",
       "    </tr>\n",
       "  </tbody>\n",
       "</table>\n",
       "</div>"
      ],
      "text/plain": [
       "             id  mb_used session_date  user_id  month\n",
       "39709  1138_387   395.54   2018-08-22     1138      8\n",
       "55702  1186_167     0.00   2018-12-03     1186     12\n",
       "90868   1308_51   281.18   2018-10-04     1308     10"
      ]
     },
     "metadata": {},
     "output_type": "display_data"
    },
    {
     "data": {
      "text/plain": [
       "[None, None, None]"
      ]
     },
     "execution_count": 17,
     "metadata": {},
     "output_type": "execute_result"
    }
   ],
   "source": [
    "# extract month in a separate column\n",
    "table_names = [calls, messages, internet]\n",
    "column_names = ['call_date', 'message_date', 'session_date']\n",
    "\n",
    "for table, column in zip(table_names, column_names):\n",
    "    table['month'] = table[column].dt.month\n",
    "    \n",
    "# check\n",
    "[display(table.sample(3, random_state=666)) for table in table_names]"
   ]
  },
  {
   "cell_type": "markdown",
   "id": "ebd43cbf",
   "metadata": {},
   "source": [
    "## Calls count and calls duration"
   ]
  },
  {
   "cell_type": "code",
   "execution_count": 18,
   "id": "16026741",
   "metadata": {
    "scrolled": false
   },
   "outputs": [
    {
     "data": {
      "text/html": [
       "<div>\n",
       "<style scoped>\n",
       "    .dataframe tbody tr th:only-of-type {\n",
       "        vertical-align: middle;\n",
       "    }\n",
       "\n",
       "    .dataframe tbody tr th {\n",
       "        vertical-align: top;\n",
       "    }\n",
       "\n",
       "    .dataframe thead th {\n",
       "        text-align: right;\n",
       "    }\n",
       "</style>\n",
       "<table border=\"1\" class=\"dataframe\">\n",
       "  <thead>\n",
       "    <tr style=\"text-align: right;\">\n",
       "      <th></th>\n",
       "      <th></th>\n",
       "      <th>calls_cnt</th>\n",
       "      <th>calls_sum</th>\n",
       "    </tr>\n",
       "    <tr>\n",
       "      <th>month</th>\n",
       "      <th>user_id</th>\n",
       "      <th></th>\n",
       "      <th></th>\n",
       "    </tr>\n",
       "  </thead>\n",
       "  <tbody>\n",
       "    <tr>\n",
       "      <th rowspan=\"5\" valign=\"top\">1</th>\n",
       "      <th>1005</th>\n",
       "      <td>15</td>\n",
       "      <td>95.00</td>\n",
       "    </tr>\n",
       "    <tr>\n",
       "      <th>1032</th>\n",
       "      <td>61</td>\n",
       "      <td>380.00</td>\n",
       "    </tr>\n",
       "    <tr>\n",
       "      <th>1045</th>\n",
       "      <td>1</td>\n",
       "      <td>9.00</td>\n",
       "    </tr>\n",
       "    <tr>\n",
       "      <th>1055</th>\n",
       "      <td>64</td>\n",
       "      <td>551.00</td>\n",
       "    </tr>\n",
       "    <tr>\n",
       "      <th>1071</th>\n",
       "      <td>24</td>\n",
       "      <td>194.00</td>\n",
       "    </tr>\n",
       "    <tr>\n",
       "      <th>...</th>\n",
       "      <th>...</th>\n",
       "      <td>...</td>\n",
       "      <td>...</td>\n",
       "    </tr>\n",
       "    <tr>\n",
       "      <th rowspan=\"5\" valign=\"top\">12</th>\n",
       "      <th>1494</th>\n",
       "      <td>62</td>\n",
       "      <td>418.00</td>\n",
       "    </tr>\n",
       "    <tr>\n",
       "      <th>1495</th>\n",
       "      <td>155</td>\n",
       "      <td>1,031.00</td>\n",
       "    </tr>\n",
       "    <tr>\n",
       "      <th>1496</th>\n",
       "      <td>80</td>\n",
       "      <td>518.00</td>\n",
       "    </tr>\n",
       "    <tr>\n",
       "      <th>1497</th>\n",
       "      <td>71</td>\n",
       "      <td>545.00</td>\n",
       "    </tr>\n",
       "    <tr>\n",
       "      <th>1499</th>\n",
       "      <td>69</td>\n",
       "      <td>492.00</td>\n",
       "    </tr>\n",
       "  </tbody>\n",
       "</table>\n",
       "<p>3174 rows × 2 columns</p>\n",
       "</div>"
      ],
      "text/plain": [
       "               calls_cnt  calls_sum\n",
       "month user_id                      \n",
       "1     1005            15      95.00\n",
       "      1032            61     380.00\n",
       "      1045             1       9.00\n",
       "      1055            64     551.00\n",
       "      1071            24     194.00\n",
       "...                  ...        ...\n",
       "12    1494            62     418.00\n",
       "      1495           155   1,031.00\n",
       "      1496            80     518.00\n",
       "      1497            71     545.00\n",
       "      1499            69     492.00\n",
       "\n",
       "[3174 rows x 2 columns]"
      ]
     },
     "execution_count": 18,
     "metadata": {},
     "output_type": "execute_result"
    }
   ],
   "source": [
    "# pivot table - calls count and calls duration (min) by month\n",
    "pivot_calls = calls.pivot_table(index=['month', 'user_id'], values=['duration'], aggfunc=['count', 'sum'])\n",
    "pivot_calls.columns = ['calls_cnt', 'calls_sum']\n",
    "pivot_calls"
   ]
  },
  {
   "cell_type": "markdown",
   "id": "8c8b056e",
   "metadata": {},
   "source": [
    "## Messages count"
   ]
  },
  {
   "cell_type": "code",
   "execution_count": 19,
   "id": "e149a468",
   "metadata": {
    "scrolled": true
   },
   "outputs": [
    {
     "data": {
      "text/html": [
       "<div>\n",
       "<style scoped>\n",
       "    .dataframe tbody tr th:only-of-type {\n",
       "        vertical-align: middle;\n",
       "    }\n",
       "\n",
       "    .dataframe tbody tr th {\n",
       "        vertical-align: top;\n",
       "    }\n",
       "\n",
       "    .dataframe thead th {\n",
       "        text-align: right;\n",
       "    }\n",
       "</style>\n",
       "<table border=\"1\" class=\"dataframe\">\n",
       "  <thead>\n",
       "    <tr style=\"text-align: right;\">\n",
       "      <th></th>\n",
       "      <th></th>\n",
       "      <th>msg_cnt</th>\n",
       "    </tr>\n",
       "    <tr>\n",
       "      <th>month</th>\n",
       "      <th>user_id</th>\n",
       "      <th></th>\n",
       "    </tr>\n",
       "  </thead>\n",
       "  <tbody>\n",
       "    <tr>\n",
       "      <th rowspan=\"5\" valign=\"top\">1</th>\n",
       "      <th>1005</th>\n",
       "      <td>7</td>\n",
       "    </tr>\n",
       "    <tr>\n",
       "      <th>1032</th>\n",
       "      <td>38</td>\n",
       "    </tr>\n",
       "    <tr>\n",
       "      <th>1045</th>\n",
       "      <td>5</td>\n",
       "    </tr>\n",
       "    <tr>\n",
       "      <th>1055</th>\n",
       "      <td>30</td>\n",
       "    </tr>\n",
       "    <tr>\n",
       "      <th>1071</th>\n",
       "      <td>16</td>\n",
       "    </tr>\n",
       "    <tr>\n",
       "      <th>...</th>\n",
       "      <th>...</th>\n",
       "      <td>...</td>\n",
       "    </tr>\n",
       "    <tr>\n",
       "      <th rowspan=\"5\" valign=\"top\">12</th>\n",
       "      <th>1493</th>\n",
       "      <td>78</td>\n",
       "    </tr>\n",
       "    <tr>\n",
       "      <th>1495</th>\n",
       "      <td>84</td>\n",
       "    </tr>\n",
       "    <tr>\n",
       "      <th>1496</th>\n",
       "      <td>51</td>\n",
       "    </tr>\n",
       "    <tr>\n",
       "      <th>1497</th>\n",
       "      <td>17</td>\n",
       "    </tr>\n",
       "    <tr>\n",
       "      <th>1499</th>\n",
       "      <td>66</td>\n",
       "    </tr>\n",
       "  </tbody>\n",
       "</table>\n",
       "<p>2717 rows × 1 columns</p>\n",
       "</div>"
      ],
      "text/plain": [
       "               msg_cnt\n",
       "month user_id         \n",
       "1     1005           7\n",
       "      1032          38\n",
       "      1045           5\n",
       "      1055          30\n",
       "      1071          16\n",
       "...                ...\n",
       "12    1493          78\n",
       "      1495          84\n",
       "      1496          51\n",
       "      1497          17\n",
       "      1499          66\n",
       "\n",
       "[2717 rows x 1 columns]"
      ]
     },
     "execution_count": 19,
     "metadata": {},
     "output_type": "execute_result"
    }
   ],
   "source": [
    "# pivot table - messages count by month\n",
    "pivot_msg = messages.pivot_table(index=['month', 'user_id'], values='id', aggfunc='count')\n",
    "pivot_msg.rename(columns={'id':'msg_cnt'}, inplace=True)\n",
    "pivot_msg"
   ]
  },
  {
   "cell_type": "markdown",
   "id": "d4dbbef3",
   "metadata": {},
   "source": [
    "## Megabytes count"
   ]
  },
  {
   "cell_type": "code",
   "execution_count": 20,
   "id": "7ebdb70a",
   "metadata": {
    "scrolled": false
   },
   "outputs": [
    {
     "data": {
      "text/html": [
       "<div>\n",
       "<style scoped>\n",
       "    .dataframe tbody tr th:only-of-type {\n",
       "        vertical-align: middle;\n",
       "    }\n",
       "\n",
       "    .dataframe tbody tr th {\n",
       "        vertical-align: top;\n",
       "    }\n",
       "\n",
       "    .dataframe thead th {\n",
       "        text-align: right;\n",
       "    }\n",
       "</style>\n",
       "<table border=\"1\" class=\"dataframe\">\n",
       "  <thead>\n",
       "    <tr style=\"text-align: right;\">\n",
       "      <th></th>\n",
       "      <th></th>\n",
       "      <th>mb_used</th>\n",
       "    </tr>\n",
       "    <tr>\n",
       "      <th>month</th>\n",
       "      <th>user_id</th>\n",
       "      <th></th>\n",
       "    </tr>\n",
       "  </thead>\n",
       "  <tbody>\n",
       "    <tr>\n",
       "      <th rowspan=\"5\" valign=\"top\">1</th>\n",
       "      <th>1005</th>\n",
       "      <td>2,727.97</td>\n",
       "    </tr>\n",
       "    <tr>\n",
       "      <th>1032</th>\n",
       "      <td>24,127.69</td>\n",
       "    </tr>\n",
       "    <tr>\n",
       "      <th>1045</th>\n",
       "      <td>2,346.71</td>\n",
       "    </tr>\n",
       "    <tr>\n",
       "      <th>1055</th>\n",
       "      <td>17,090.88</td>\n",
       "    </tr>\n",
       "    <tr>\n",
       "      <th>1071</th>\n",
       "      <td>15,604.34</td>\n",
       "    </tr>\n",
       "    <tr>\n",
       "      <th>...</th>\n",
       "      <th>...</th>\n",
       "      <td>...</td>\n",
       "    </tr>\n",
       "    <tr>\n",
       "      <th rowspan=\"5\" valign=\"top\">12</th>\n",
       "      <th>1494</th>\n",
       "      <td>17,621.21</td>\n",
       "    </tr>\n",
       "    <tr>\n",
       "      <th>1495</th>\n",
       "      <td>23,426.76</td>\n",
       "    </tr>\n",
       "    <tr>\n",
       "      <th>1496</th>\n",
       "      <td>20,736.15</td>\n",
       "    </tr>\n",
       "    <tr>\n",
       "      <th>1497</th>\n",
       "      <td>19,918.60</td>\n",
       "    </tr>\n",
       "    <tr>\n",
       "      <th>1499</th>\n",
       "      <td>13,055.58</td>\n",
       "    </tr>\n",
       "  </tbody>\n",
       "</table>\n",
       "<p>3203 rows × 1 columns</p>\n",
       "</div>"
      ],
      "text/plain": [
       "                mb_used\n",
       "month user_id          \n",
       "1     1005     2,727.97\n",
       "      1032    24,127.69\n",
       "      1045     2,346.71\n",
       "      1055    17,090.88\n",
       "      1071    15,604.34\n",
       "...                 ...\n",
       "12    1494    17,621.21\n",
       "      1495    23,426.76\n",
       "      1496    20,736.15\n",
       "      1497    19,918.60\n",
       "      1499    13,055.58\n",
       "\n",
       "[3203 rows x 1 columns]"
      ]
     },
     "execution_count": 20,
     "metadata": {},
     "output_type": "execute_result"
    }
   ],
   "source": [
    "# pivot table - data used (megabytes) by month\n",
    "pivot_net = internet.pivot_table(index=['month', 'user_id'], values='mb_used', aggfunc='sum')\n",
    "pivot_net"
   ]
  },
  {
   "cell_type": "code",
   "execution_count": 21,
   "id": "c23bc07a",
   "metadata": {
    "scrolled": true
   },
   "outputs": [
    {
     "data": {
      "text/html": [
       "<div>\n",
       "<style scoped>\n",
       "    .dataframe tbody tr th:only-of-type {\n",
       "        vertical-align: middle;\n",
       "    }\n",
       "\n",
       "    .dataframe tbody tr th {\n",
       "        vertical-align: top;\n",
       "    }\n",
       "\n",
       "    .dataframe thead th {\n",
       "        text-align: right;\n",
       "    }\n",
       "</style>\n",
       "<table border=\"1\" class=\"dataframe\">\n",
       "  <thead>\n",
       "    <tr style=\"text-align: right;\">\n",
       "      <th></th>\n",
       "      <th></th>\n",
       "      <th>gb_used</th>\n",
       "    </tr>\n",
       "    <tr>\n",
       "      <th>month</th>\n",
       "      <th>user_id</th>\n",
       "      <th></th>\n",
       "    </tr>\n",
       "  </thead>\n",
       "  <tbody>\n",
       "    <tr>\n",
       "      <th rowspan=\"5\" valign=\"top\">1</th>\n",
       "      <th>1005</th>\n",
       "      <td>3.00</td>\n",
       "    </tr>\n",
       "    <tr>\n",
       "      <th>1032</th>\n",
       "      <td>24.00</td>\n",
       "    </tr>\n",
       "    <tr>\n",
       "      <th>1045</th>\n",
       "      <td>3.00</td>\n",
       "    </tr>\n",
       "    <tr>\n",
       "      <th>1055</th>\n",
       "      <td>17.00</td>\n",
       "    </tr>\n",
       "    <tr>\n",
       "      <th>1071</th>\n",
       "      <td>16.00</td>\n",
       "    </tr>\n",
       "    <tr>\n",
       "      <th>...</th>\n",
       "      <th>...</th>\n",
       "      <td>...</td>\n",
       "    </tr>\n",
       "    <tr>\n",
       "      <th rowspan=\"5\" valign=\"top\">12</th>\n",
       "      <th>1494</th>\n",
       "      <td>18.00</td>\n",
       "    </tr>\n",
       "    <tr>\n",
       "      <th>1495</th>\n",
       "      <td>23.00</td>\n",
       "    </tr>\n",
       "    <tr>\n",
       "      <th>1496</th>\n",
       "      <td>21.00</td>\n",
       "    </tr>\n",
       "    <tr>\n",
       "      <th>1497</th>\n",
       "      <td>20.00</td>\n",
       "    </tr>\n",
       "    <tr>\n",
       "      <th>1499</th>\n",
       "      <td>13.00</td>\n",
       "    </tr>\n",
       "  </tbody>\n",
       "</table>\n",
       "<p>3203 rows × 1 columns</p>\n",
       "</div>"
      ],
      "text/plain": [
       "               gb_used\n",
       "month user_id         \n",
       "1     1005        3.00\n",
       "      1032       24.00\n",
       "      1045        3.00\n",
       "      1055       17.00\n",
       "      1071       16.00\n",
       "...                ...\n",
       "12    1494       18.00\n",
       "      1495       23.00\n",
       "      1496       21.00\n",
       "      1497       20.00\n",
       "      1499       13.00\n",
       "\n",
       "[3203 rows x 1 columns]"
      ]
     },
     "execution_count": 21,
     "metadata": {},
     "output_type": "execute_result"
    }
   ],
   "source": [
    "# convert to GB and round up\n",
    "pivot_net['mb_used'] = np.ceil((pivot_net['mb_used']/1024))\n",
    "pivot_net.rename(columns={'mb_used':'gb_used'}, inplace=True)\n",
    "pivot_net"
   ]
  },
  {
   "cell_type": "markdown",
   "id": "5d5a2f78",
   "metadata": {},
   "source": [
    "## Monthly revenue per user"
   ]
  },
  {
   "cell_type": "code",
   "execution_count": 22,
   "id": "ac5d0282",
   "metadata": {
    "scrolled": false
   },
   "outputs": [
    {
     "data": {
      "text/html": [
       "<div>\n",
       "<style scoped>\n",
       "    .dataframe tbody tr th:only-of-type {\n",
       "        vertical-align: middle;\n",
       "    }\n",
       "\n",
       "    .dataframe tbody tr th {\n",
       "        vertical-align: top;\n",
       "    }\n",
       "\n",
       "    .dataframe thead th {\n",
       "        text-align: right;\n",
       "    }\n",
       "</style>\n",
       "<table border=\"1\" class=\"dataframe\">\n",
       "  <thead>\n",
       "    <tr style=\"text-align: right;\">\n",
       "      <th></th>\n",
       "      <th></th>\n",
       "      <th>calls_cnt</th>\n",
       "      <th>calls_sum</th>\n",
       "      <th>msg_cnt</th>\n",
       "      <th>gb_used</th>\n",
       "    </tr>\n",
       "    <tr>\n",
       "      <th>user_id</th>\n",
       "      <th>month</th>\n",
       "      <th></th>\n",
       "      <th></th>\n",
       "      <th></th>\n",
       "      <th></th>\n",
       "    </tr>\n",
       "  </thead>\n",
       "  <tbody>\n",
       "    <tr>\n",
       "      <th>1005</th>\n",
       "      <th>1</th>\n",
       "      <td>15.00</td>\n",
       "      <td>95.00</td>\n",
       "      <td>7.00</td>\n",
       "      <td>3.00</td>\n",
       "    </tr>\n",
       "    <tr>\n",
       "      <th>1032</th>\n",
       "      <th>1</th>\n",
       "      <td>61.00</td>\n",
       "      <td>380.00</td>\n",
       "      <td>38.00</td>\n",
       "      <td>24.00</td>\n",
       "    </tr>\n",
       "    <tr>\n",
       "      <th>1045</th>\n",
       "      <th>1</th>\n",
       "      <td>1.00</td>\n",
       "      <td>9.00</td>\n",
       "      <td>5.00</td>\n",
       "      <td>3.00</td>\n",
       "    </tr>\n",
       "    <tr>\n",
       "      <th>1055</th>\n",
       "      <th>1</th>\n",
       "      <td>64.00</td>\n",
       "      <td>551.00</td>\n",
       "      <td>30.00</td>\n",
       "      <td>17.00</td>\n",
       "    </tr>\n",
       "    <tr>\n",
       "      <th>1071</th>\n",
       "      <th>1</th>\n",
       "      <td>24.00</td>\n",
       "      <td>194.00</td>\n",
       "      <td>16.00</td>\n",
       "      <td>16.00</td>\n",
       "    </tr>\n",
       "    <tr>\n",
       "      <th>...</th>\n",
       "      <th>...</th>\n",
       "      <td>...</td>\n",
       "      <td>...</td>\n",
       "      <td>...</td>\n",
       "      <td>...</td>\n",
       "    </tr>\n",
       "    <tr>\n",
       "      <th>1231</th>\n",
       "      <th>12</th>\n",
       "      <td>0.00</td>\n",
       "      <td>0.00</td>\n",
       "      <td>191.00</td>\n",
       "      <td>32.00</td>\n",
       "    </tr>\n",
       "    <tr>\n",
       "      <th>1328</th>\n",
       "      <th>12</th>\n",
       "      <td>0.00</td>\n",
       "      <td>0.00</td>\n",
       "      <td>7.00</td>\n",
       "      <td>39.00</td>\n",
       "    </tr>\n",
       "    <tr>\n",
       "      <th>1473</th>\n",
       "      <th>12</th>\n",
       "      <td>0.00</td>\n",
       "      <td>0.00</td>\n",
       "      <td>20.00</td>\n",
       "      <td>18.00</td>\n",
       "    </tr>\n",
       "    <tr>\n",
       "      <th>1489</th>\n",
       "      <th>12</th>\n",
       "      <td>0.00</td>\n",
       "      <td>0.00</td>\n",
       "      <td>35.00</td>\n",
       "      <td>17.00</td>\n",
       "    </tr>\n",
       "    <tr>\n",
       "      <th>1476</th>\n",
       "      <th>4</th>\n",
       "      <td>0.00</td>\n",
       "      <td>0.00</td>\n",
       "      <td>0.00</td>\n",
       "      <td>1.00</td>\n",
       "    </tr>\n",
       "  </tbody>\n",
       "</table>\n",
       "<p>3214 rows × 4 columns</p>\n",
       "</div>"
      ],
      "text/plain": [
       "               calls_cnt  calls_sum  msg_cnt  gb_used\n",
       "user_id month                                        \n",
       "1005    1          15.00      95.00     7.00     3.00\n",
       "1032    1          61.00     380.00    38.00    24.00\n",
       "1045    1           1.00       9.00     5.00     3.00\n",
       "1055    1          64.00     551.00    30.00    17.00\n",
       "1071    1          24.00     194.00    16.00    16.00\n",
       "...                  ...        ...      ...      ...\n",
       "1231    12          0.00       0.00   191.00    32.00\n",
       "1328    12          0.00       0.00     7.00    39.00\n",
       "1473    12          0.00       0.00    20.00    18.00\n",
       "1489    12          0.00       0.00    35.00    17.00\n",
       "1476    4           0.00       0.00     0.00     1.00\n",
       "\n",
       "[3214 rows x 4 columns]"
      ]
     },
     "metadata": {},
     "output_type": "display_data"
    },
    {
     "name": "stdout",
     "output_type": "stream",
     "text": [
      "<class 'pandas.core.frame.DataFrame'>\n",
      "MultiIndex: 3214 entries, (1005, 1) to (1476, 4)\n",
      "Data columns (total 4 columns):\n",
      " #   Column     Non-Null Count  Dtype  \n",
      "---  ------     --------------  -----  \n",
      " 0   calls_cnt  3214 non-null   float64\n",
      " 1   calls_sum  3214 non-null   float64\n",
      " 2   msg_cnt    3214 non-null   float64\n",
      " 3   gb_used    3214 non-null   float64\n",
      "dtypes: float64(4)\n",
      "memory usage: 130.4 KB\n"
     ]
    }
   ],
   "source": [
    "# merging pivot tables\n",
    "pivot_calls_msg = pivot_calls.merge(pivot_msg, how='outer', on=['user_id', 'month'])\n",
    "pivot_total = pivot_calls_msg.merge(pivot_net, how='outer', on=['user_id', 'month']).fillna(0)\n",
    "display(pivot_total)\n",
    "\n",
    "# check\n",
    "pivot_total.info()"
   ]
  },
  {
   "cell_type": "code",
   "execution_count": 23,
   "id": "2d03d8ff",
   "metadata": {
    "scrolled": true
   },
   "outputs": [
    {
     "data": {
      "text/html": [
       "<div>\n",
       "<style scoped>\n",
       "    .dataframe tbody tr th:only-of-type {\n",
       "        vertical-align: middle;\n",
       "    }\n",
       "\n",
       "    .dataframe tbody tr th {\n",
       "        vertical-align: top;\n",
       "    }\n",
       "\n",
       "    .dataframe thead th {\n",
       "        text-align: right;\n",
       "    }\n",
       "</style>\n",
       "<table border=\"1\" class=\"dataframe\">\n",
       "  <thead>\n",
       "    <tr style=\"text-align: right;\">\n",
       "      <th></th>\n",
       "      <th>user_id</th>\n",
       "      <th>month</th>\n",
       "      <th>calls_cnt</th>\n",
       "      <th>calls_sum</th>\n",
       "      <th>msg_cnt</th>\n",
       "      <th>gb_used</th>\n",
       "      <th>tariff_name</th>\n",
       "    </tr>\n",
       "  </thead>\n",
       "  <tbody>\n",
       "    <tr>\n",
       "      <th>355</th>\n",
       "      <td>1381</td>\n",
       "      <td>4.00</td>\n",
       "      <td>91.00</td>\n",
       "      <td>619.00</td>\n",
       "      <td>40.00</td>\n",
       "      <td>28.00</td>\n",
       "      <td>ultra</td>\n",
       "    </tr>\n",
       "    <tr>\n",
       "      <th>469</th>\n",
       "      <td>1453</td>\n",
       "      <td>10.00</td>\n",
       "      <td>132.00</td>\n",
       "      <td>953.00</td>\n",
       "      <td>65.00</td>\n",
       "      <td>29.00</td>\n",
       "      <td>ultra</td>\n",
       "    </tr>\n",
       "    <tr>\n",
       "      <th>2245</th>\n",
       "      <td>1366</td>\n",
       "      <td>7.00</td>\n",
       "      <td>28.00</td>\n",
       "      <td>223.00</td>\n",
       "      <td>41.00</td>\n",
       "      <td>12.00</td>\n",
       "      <td>smart</td>\n",
       "    </tr>\n",
       "    <tr>\n",
       "      <th>1104</th>\n",
       "      <td>1208</td>\n",
       "      <td>11.00</td>\n",
       "      <td>83.00</td>\n",
       "      <td>559.00</td>\n",
       "      <td>0.00</td>\n",
       "      <td>14.00</td>\n",
       "      <td>ultra</td>\n",
       "    </tr>\n",
       "    <tr>\n",
       "      <th>1267</th>\n",
       "      <td>1018</td>\n",
       "      <td>7.00</td>\n",
       "      <td>105.00</td>\n",
       "      <td>760.00</td>\n",
       "      <td>25.00</td>\n",
       "      <td>7.00</td>\n",
       "      <td>ultra</td>\n",
       "    </tr>\n",
       "    <tr>\n",
       "      <th>2892</th>\n",
       "      <td>1357</td>\n",
       "      <td>9.00</td>\n",
       "      <td>42.00</td>\n",
       "      <td>342.00</td>\n",
       "      <td>48.00</td>\n",
       "      <td>15.00</td>\n",
       "      <td>smart</td>\n",
       "    </tr>\n",
       "    <tr>\n",
       "      <th>2855</th>\n",
       "      <td>1283</td>\n",
       "      <td>11.00</td>\n",
       "      <td>40.00</td>\n",
       "      <td>264.00</td>\n",
       "      <td>19.00</td>\n",
       "      <td>19.00</td>\n",
       "      <td>smart</td>\n",
       "    </tr>\n",
       "    <tr>\n",
       "      <th>1605</th>\n",
       "      <td>1384</td>\n",
       "      <td>6.00</td>\n",
       "      <td>80.00</td>\n",
       "      <td>608.00</td>\n",
       "      <td>2.00</td>\n",
       "      <td>22.00</td>\n",
       "      <td>smart</td>\n",
       "    </tr>\n",
       "    <tr>\n",
       "      <th>840</th>\n",
       "      <td>1435</td>\n",
       "      <td>12.00</td>\n",
       "      <td>51.00</td>\n",
       "      <td>463.00</td>\n",
       "      <td>0.00</td>\n",
       "      <td>23.00</td>\n",
       "      <td>smart</td>\n",
       "    </tr>\n",
       "    <tr>\n",
       "      <th>2049</th>\n",
       "      <td>1066</td>\n",
       "      <td>10.00</td>\n",
       "      <td>83.00</td>\n",
       "      <td>539.00</td>\n",
       "      <td>52.00</td>\n",
       "      <td>16.00</td>\n",
       "      <td>smart</td>\n",
       "    </tr>\n",
       "  </tbody>\n",
       "</table>\n",
       "</div>"
      ],
      "text/plain": [
       "      user_id  month  calls_cnt  calls_sum  msg_cnt  gb_used tariff_name\n",
       "355      1381   4.00      91.00     619.00    40.00    28.00       ultra\n",
       "469      1453  10.00     132.00     953.00    65.00    29.00       ultra\n",
       "2245     1366   7.00      28.00     223.00    41.00    12.00       smart\n",
       "1104     1208  11.00      83.00     559.00     0.00    14.00       ultra\n",
       "1267     1018   7.00     105.00     760.00    25.00     7.00       ultra\n",
       "2892     1357   9.00      42.00     342.00    48.00    15.00       smart\n",
       "2855     1283  11.00      40.00     264.00    19.00    19.00       smart\n",
       "1605     1384   6.00      80.00     608.00     2.00    22.00       smart\n",
       "840      1435  12.00      51.00     463.00     0.00    23.00       smart\n",
       "2049     1066  10.00      83.00     539.00    52.00    16.00       smart"
      ]
     },
     "execution_count": 23,
     "metadata": {},
     "output_type": "execute_result"
    }
   ],
   "source": [
    "# add plan type from users table\n",
    "pivot_total.reset_index(inplace=True)\n",
    "pivot_total = pivot_total.merge(users[['user_id', 'tariff']], how='outer', on='user_id')\n",
    "pivot_total.rename(columns={'tariff':'tariff_name'}, inplace=True)\n",
    "pivot_total.sample(10, random_state=777)"
   ]
  },
  {
   "cell_type": "code",
   "execution_count": 24,
   "id": "70b7c1c6",
   "metadata": {
    "scrolled": false
   },
   "outputs": [
    {
     "name": "stdout",
     "output_type": "stream",
     "text": [
      "<class 'pandas.core.frame.DataFrame'>\n",
      "Int64Index: 3216 entries, 0 to 3215\n",
      "Data columns (total 7 columns):\n",
      " #   Column       Non-Null Count  Dtype  \n",
      "---  ------       --------------  -----  \n",
      " 0   user_id      3216 non-null   int64  \n",
      " 1   month        3214 non-null   float64\n",
      " 2   calls_cnt    3214 non-null   float64\n",
      " 3   calls_sum    3214 non-null   float64\n",
      " 4   msg_cnt      3214 non-null   float64\n",
      " 5   gb_used      3214 non-null   float64\n",
      " 6   tariff_name  3216 non-null   object \n",
      "dtypes: float64(5), int64(1), object(1)\n",
      "memory usage: 201.0+ KB\n",
      "None\n",
      "\n",
      "Number of unique users in pivot table: 500\n",
      "Initial number of unique users: 500\n"
     ]
    }
   ],
   "source": [
    "# number of rows check\n",
    "print(pivot_total.info())\n",
    "print()\n",
    "# users check\n",
    "print('Number of unique users in pivot table:', len(pivot_total['user_id'].unique()))\n",
    "print('Initial number of unique users:', len(users))"
   ]
  },
  {
   "cell_type": "markdown",
   "id": "0ebd9954",
   "metadata": {},
   "source": [
    "*Conclusion: there are two rows with NaN in messages, calls and traffic columns. It might be inactive users.*"
   ]
  },
  {
   "cell_type": "code",
   "execution_count": 25,
   "id": "a67ec71a",
   "metadata": {
    "scrolled": false
   },
   "outputs": [
    {
     "data": {
      "text/html": [
       "<div>\n",
       "<style scoped>\n",
       "    .dataframe tbody tr th:only-of-type {\n",
       "        vertical-align: middle;\n",
       "    }\n",
       "\n",
       "    .dataframe tbody tr th {\n",
       "        vertical-align: top;\n",
       "    }\n",
       "\n",
       "    .dataframe thead th {\n",
       "        text-align: right;\n",
       "    }\n",
       "</style>\n",
       "<table border=\"1\" class=\"dataframe\">\n",
       "  <thead>\n",
       "    <tr style=\"text-align: right;\">\n",
       "      <th></th>\n",
       "      <th>user_id</th>\n",
       "      <th>month</th>\n",
       "      <th>calls_cnt</th>\n",
       "      <th>calls_sum</th>\n",
       "      <th>msg_cnt</th>\n",
       "      <th>gb_used</th>\n",
       "      <th>tariff_name</th>\n",
       "    </tr>\n",
       "  </thead>\n",
       "  <tbody>\n",
       "    <tr>\n",
       "      <th>3211</th>\n",
       "      <td>1328</td>\n",
       "      <td>10.00</td>\n",
       "      <td>0.00</td>\n",
       "      <td>0.00</td>\n",
       "      <td>6.00</td>\n",
       "      <td>22.00</td>\n",
       "      <td>ultra</td>\n",
       "    </tr>\n",
       "    <tr>\n",
       "      <th>3212</th>\n",
       "      <td>1328</td>\n",
       "      <td>11.00</td>\n",
       "      <td>0.00</td>\n",
       "      <td>0.00</td>\n",
       "      <td>8.00</td>\n",
       "      <td>35.00</td>\n",
       "      <td>ultra</td>\n",
       "    </tr>\n",
       "    <tr>\n",
       "      <th>3213</th>\n",
       "      <td>1328</td>\n",
       "      <td>12.00</td>\n",
       "      <td>0.00</td>\n",
       "      <td>0.00</td>\n",
       "      <td>7.00</td>\n",
       "      <td>39.00</td>\n",
       "      <td>ultra</td>\n",
       "    </tr>\n",
       "    <tr>\n",
       "      <th>3214</th>\n",
       "      <td>1128</td>\n",
       "      <td>NaN</td>\n",
       "      <td>NaN</td>\n",
       "      <td>NaN</td>\n",
       "      <td>NaN</td>\n",
       "      <td>NaN</td>\n",
       "      <td>ultra</td>\n",
       "    </tr>\n",
       "    <tr>\n",
       "      <th>3215</th>\n",
       "      <td>1371</td>\n",
       "      <td>NaN</td>\n",
       "      <td>NaN</td>\n",
       "      <td>NaN</td>\n",
       "      <td>NaN</td>\n",
       "      <td>NaN</td>\n",
       "      <td>smart</td>\n",
       "    </tr>\n",
       "  </tbody>\n",
       "</table>\n",
       "</div>"
      ],
      "text/plain": [
       "      user_id  month  calls_cnt  calls_sum  msg_cnt  gb_used tariff_name\n",
       "3211     1328  10.00       0.00       0.00     6.00    22.00       ultra\n",
       "3212     1328  11.00       0.00       0.00     8.00    35.00       ultra\n",
       "3213     1328  12.00       0.00       0.00     7.00    39.00       ultra\n",
       "3214     1128    NaN        NaN        NaN      NaN      NaN       ultra\n",
       "3215     1371    NaN        NaN        NaN      NaN      NaN       smart"
      ]
     },
     "metadata": {},
     "output_type": "display_data"
    },
    {
     "data": {
      "text/html": [
       "<div>\n",
       "<style scoped>\n",
       "    .dataframe tbody tr th:only-of-type {\n",
       "        vertical-align: middle;\n",
       "    }\n",
       "\n",
       "    .dataframe tbody tr th {\n",
       "        vertical-align: top;\n",
       "    }\n",
       "\n",
       "    .dataframe thead th {\n",
       "        text-align: right;\n",
       "    }\n",
       "</style>\n",
       "<table border=\"1\" class=\"dataframe\">\n",
       "  <thead>\n",
       "    <tr style=\"text-align: right;\">\n",
       "      <th></th>\n",
       "      <th>user_id</th>\n",
       "      <th>age</th>\n",
       "      <th>churn_date</th>\n",
       "      <th>city</th>\n",
       "      <th>first_name</th>\n",
       "      <th>last_name</th>\n",
       "      <th>reg_date</th>\n",
       "      <th>tariff</th>\n",
       "    </tr>\n",
       "  </thead>\n",
       "  <tbody>\n",
       "    <tr>\n",
       "      <th>128</th>\n",
       "      <td>1128</td>\n",
       "      <td>51</td>\n",
       "      <td>2018-12-23</td>\n",
       "      <td>волжский</td>\n",
       "      <td>ксения</td>\n",
       "      <td>агаева</td>\n",
       "      <td>2018-12-15</td>\n",
       "      <td>ultra</td>\n",
       "    </tr>\n",
       "    <tr>\n",
       "      <th>371</th>\n",
       "      <td>1371</td>\n",
       "      <td>50</td>\n",
       "      <td>2018-12-30</td>\n",
       "      <td>омск</td>\n",
       "      <td>ириней</td>\n",
       "      <td>трофимов</td>\n",
       "      <td>2018-12-25</td>\n",
       "      <td>smart</td>\n",
       "    </tr>\n",
       "  </tbody>\n",
       "</table>\n",
       "</div>"
      ],
      "text/plain": [
       "     user_id  age  churn_date      city first_name last_name   reg_date tariff\n",
       "128     1128   51  2018-12-23  волжский     ксения    агаева 2018-12-15  ultra\n",
       "371     1371   50  2018-12-30      омск     ириней  трофимов 2018-12-25  smart"
      ]
     },
     "execution_count": 25,
     "metadata": {},
     "output_type": "execute_result"
    }
   ],
   "source": [
    "# inactive users\n",
    "display(pivot_total.tail(5))\n",
    "# inactive users data\n",
    "users.query('user_id == 1128 | user_id == 1371')"
   ]
  },
  {
   "cell_type": "code",
   "execution_count": 26,
   "id": "092f1828",
   "metadata": {},
   "outputs": [
    {
     "name": "stdout",
     "output_type": "stream",
     "text": [
      "<class 'pandas.core.frame.DataFrame'>\n",
      "Int64Index: 3214 entries, 0 to 3213\n",
      "Data columns (total 7 columns):\n",
      " #   Column       Non-Null Count  Dtype  \n",
      "---  ------       --------------  -----  \n",
      " 0   user_id      3214 non-null   int64  \n",
      " 1   month        3214 non-null   float64\n",
      " 2   calls_cnt    3214 non-null   float64\n",
      " 3   calls_sum    3214 non-null   float64\n",
      " 4   msg_cnt      3214 non-null   float64\n",
      " 5   gb_used      3214 non-null   float64\n",
      " 6   tariff_name  3214 non-null   object \n",
      "dtypes: float64(5), int64(1), object(1)\n",
      "memory usage: 200.9+ KB\n"
     ]
    }
   ],
   "source": [
    "# inactive users deletion\n",
    "pivot_total.drop(pivot_total.index[pivot_total['user_id'] == 1128], inplace = True)\n",
    "pivot_total.drop(pivot_total.index[pivot_total['user_id'] == 1371], inplace = True)\n",
    "\n",
    "# check\n",
    "pivot_total.info()"
   ]
  },
  {
   "cell_type": "code",
   "execution_count": 27,
   "id": "3e3e303e",
   "metadata": {
    "scrolled": true
   },
   "outputs": [
    {
     "data": {
      "text/html": [
       "<div>\n",
       "<style scoped>\n",
       "    .dataframe tbody tr th:only-of-type {\n",
       "        vertical-align: middle;\n",
       "    }\n",
       "\n",
       "    .dataframe tbody tr th {\n",
       "        vertical-align: top;\n",
       "    }\n",
       "\n",
       "    .dataframe thead th {\n",
       "        text-align: right;\n",
       "    }\n",
       "</style>\n",
       "<table border=\"1\" class=\"dataframe\">\n",
       "  <thead>\n",
       "    <tr style=\"text-align: right;\">\n",
       "      <th></th>\n",
       "      <th></th>\n",
       "      <th>calls_cnt</th>\n",
       "      <th>calls_sum</th>\n",
       "      <th>msg_cnt</th>\n",
       "      <th>gb_used</th>\n",
       "      <th>tariff_name</th>\n",
       "      <th>messages_included</th>\n",
       "      <th>gb_per_month_included</th>\n",
       "      <th>minutes_included</th>\n",
       "      <th>rub_monthly_fee</th>\n",
       "      <th>rub_per_gb</th>\n",
       "      <th>rub_per_message</th>\n",
       "      <th>rub_per_minute</th>\n",
       "    </tr>\n",
       "    <tr>\n",
       "      <th>month</th>\n",
       "      <th>user_id</th>\n",
       "      <th></th>\n",
       "      <th></th>\n",
       "      <th></th>\n",
       "      <th></th>\n",
       "      <th></th>\n",
       "      <th></th>\n",
       "      <th></th>\n",
       "      <th></th>\n",
       "      <th></th>\n",
       "      <th></th>\n",
       "      <th></th>\n",
       "      <th></th>\n",
       "    </tr>\n",
       "  </thead>\n",
       "  <tbody>\n",
       "    <tr>\n",
       "      <th>1.00</th>\n",
       "      <th>1005</th>\n",
       "      <td>15.00</td>\n",
       "      <td>95.00</td>\n",
       "      <td>7.00</td>\n",
       "      <td>3.00</td>\n",
       "      <td>smart</td>\n",
       "      <td>50</td>\n",
       "      <td>15.00</td>\n",
       "      <td>500</td>\n",
       "      <td>550</td>\n",
       "      <td>200</td>\n",
       "      <td>3</td>\n",
       "      <td>3</td>\n",
       "    </tr>\n",
       "    <tr>\n",
       "      <th>2.00</th>\n",
       "      <th>1005</th>\n",
       "      <td>69.00</td>\n",
       "      <td>456.00</td>\n",
       "      <td>38.00</td>\n",
       "      <td>8.00</td>\n",
       "      <td>smart</td>\n",
       "      <td>50</td>\n",
       "      <td>15.00</td>\n",
       "      <td>500</td>\n",
       "      <td>550</td>\n",
       "      <td>200</td>\n",
       "      <td>3</td>\n",
       "      <td>3</td>\n",
       "    </tr>\n",
       "    <tr>\n",
       "      <th>3.00</th>\n",
       "      <th>1005</th>\n",
       "      <td>77.00</td>\n",
       "      <td>606.00</td>\n",
       "      <td>56.00</td>\n",
       "      <td>11.00</td>\n",
       "      <td>smart</td>\n",
       "      <td>50</td>\n",
       "      <td>15.00</td>\n",
       "      <td>500</td>\n",
       "      <td>550</td>\n",
       "      <td>200</td>\n",
       "      <td>3</td>\n",
       "      <td>3</td>\n",
       "    </tr>\n",
       "    <tr>\n",
       "      <th>4.00</th>\n",
       "      <th>1005</th>\n",
       "      <td>101.00</td>\n",
       "      <td>712.00</td>\n",
       "      <td>41.00</td>\n",
       "      <td>10.00</td>\n",
       "      <td>smart</td>\n",
       "      <td>50</td>\n",
       "      <td>15.00</td>\n",
       "      <td>500</td>\n",
       "      <td>550</td>\n",
       "      <td>200</td>\n",
       "      <td>3</td>\n",
       "      <td>3</td>\n",
       "    </tr>\n",
       "    <tr>\n",
       "      <th>5.00</th>\n",
       "      <th>1005</th>\n",
       "      <td>73.00</td>\n",
       "      <td>595.00</td>\n",
       "      <td>42.00</td>\n",
       "      <td>8.00</td>\n",
       "      <td>smart</td>\n",
       "      <td>50</td>\n",
       "      <td>15.00</td>\n",
       "      <td>500</td>\n",
       "      <td>550</td>\n",
       "      <td>200</td>\n",
       "      <td>3</td>\n",
       "      <td>3</td>\n",
       "    </tr>\n",
       "    <tr>\n",
       "      <th>...</th>\n",
       "      <th>...</th>\n",
       "      <td>...</td>\n",
       "      <td>...</td>\n",
       "      <td>...</td>\n",
       "      <td>...</td>\n",
       "      <td>...</td>\n",
       "      <td>...</td>\n",
       "      <td>...</td>\n",
       "      <td>...</td>\n",
       "      <td>...</td>\n",
       "      <td>...</td>\n",
       "      <td>...</td>\n",
       "      <td>...</td>\n",
       "    </tr>\n",
       "    <tr>\n",
       "      <th>11.00</th>\n",
       "      <th>1489</th>\n",
       "      <td>0.00</td>\n",
       "      <td>0.00</td>\n",
       "      <td>20.00</td>\n",
       "      <td>18.00</td>\n",
       "      <td>smart</td>\n",
       "      <td>50</td>\n",
       "      <td>15.00</td>\n",
       "      <td>500</td>\n",
       "      <td>550</td>\n",
       "      <td>200</td>\n",
       "      <td>3</td>\n",
       "      <td>3</td>\n",
       "    </tr>\n",
       "    <tr>\n",
       "      <th>12.00</th>\n",
       "      <th>1489</th>\n",
       "      <td>0.00</td>\n",
       "      <td>0.00</td>\n",
       "      <td>35.00</td>\n",
       "      <td>17.00</td>\n",
       "      <td>smart</td>\n",
       "      <td>50</td>\n",
       "      <td>15.00</td>\n",
       "      <td>500</td>\n",
       "      <td>550</td>\n",
       "      <td>200</td>\n",
       "      <td>3</td>\n",
       "      <td>3</td>\n",
       "    </tr>\n",
       "    <tr>\n",
       "      <th>10.00</th>\n",
       "      <th>1328</th>\n",
       "      <td>0.00</td>\n",
       "      <td>0.00</td>\n",
       "      <td>6.00</td>\n",
       "      <td>22.00</td>\n",
       "      <td>ultra</td>\n",
       "      <td>1000</td>\n",
       "      <td>30.00</td>\n",
       "      <td>3000</td>\n",
       "      <td>1950</td>\n",
       "      <td>150</td>\n",
       "      <td>1</td>\n",
       "      <td>1</td>\n",
       "    </tr>\n",
       "    <tr>\n",
       "      <th>11.00</th>\n",
       "      <th>1328</th>\n",
       "      <td>0.00</td>\n",
       "      <td>0.00</td>\n",
       "      <td>8.00</td>\n",
       "      <td>35.00</td>\n",
       "      <td>ultra</td>\n",
       "      <td>1000</td>\n",
       "      <td>30.00</td>\n",
       "      <td>3000</td>\n",
       "      <td>1950</td>\n",
       "      <td>150</td>\n",
       "      <td>1</td>\n",
       "      <td>1</td>\n",
       "    </tr>\n",
       "    <tr>\n",
       "      <th>12.00</th>\n",
       "      <th>1328</th>\n",
       "      <td>0.00</td>\n",
       "      <td>0.00</td>\n",
       "      <td>7.00</td>\n",
       "      <td>39.00</td>\n",
       "      <td>ultra</td>\n",
       "      <td>1000</td>\n",
       "      <td>30.00</td>\n",
       "      <td>3000</td>\n",
       "      <td>1950</td>\n",
       "      <td>150</td>\n",
       "      <td>1</td>\n",
       "      <td>1</td>\n",
       "    </tr>\n",
       "  </tbody>\n",
       "</table>\n",
       "<p>3214 rows × 12 columns</p>\n",
       "</div>"
      ],
      "text/plain": [
       "               calls_cnt  calls_sum  msg_cnt  gb_used tariff_name  \\\n",
       "month user_id                                                       \n",
       "1.00  1005         15.00      95.00     7.00     3.00       smart   \n",
       "2.00  1005         69.00     456.00    38.00     8.00       smart   \n",
       "3.00  1005         77.00     606.00    56.00    11.00       smart   \n",
       "4.00  1005        101.00     712.00    41.00    10.00       smart   \n",
       "5.00  1005         73.00     595.00    42.00     8.00       smart   \n",
       "...                  ...        ...      ...      ...         ...   \n",
       "11.00 1489          0.00       0.00    20.00    18.00       smart   \n",
       "12.00 1489          0.00       0.00    35.00    17.00       smart   \n",
       "10.00 1328          0.00       0.00     6.00    22.00       ultra   \n",
       "11.00 1328          0.00       0.00     8.00    35.00       ultra   \n",
       "12.00 1328          0.00       0.00     7.00    39.00       ultra   \n",
       "\n",
       "               messages_included  gb_per_month_included  minutes_included  \\\n",
       "month user_id                                                               \n",
       "1.00  1005                    50                  15.00               500   \n",
       "2.00  1005                    50                  15.00               500   \n",
       "3.00  1005                    50                  15.00               500   \n",
       "4.00  1005                    50                  15.00               500   \n",
       "5.00  1005                    50                  15.00               500   \n",
       "...                          ...                    ...               ...   \n",
       "11.00 1489                    50                  15.00               500   \n",
       "12.00 1489                    50                  15.00               500   \n",
       "10.00 1328                  1000                  30.00              3000   \n",
       "11.00 1328                  1000                  30.00              3000   \n",
       "12.00 1328                  1000                  30.00              3000   \n",
       "\n",
       "               rub_monthly_fee  rub_per_gb  rub_per_message  rub_per_minute  \n",
       "month user_id                                                                \n",
       "1.00  1005                 550         200                3               3  \n",
       "2.00  1005                 550         200                3               3  \n",
       "3.00  1005                 550         200                3               3  \n",
       "4.00  1005                 550         200                3               3  \n",
       "5.00  1005                 550         200                3               3  \n",
       "...                        ...         ...              ...             ...  \n",
       "11.00 1489                 550         200                3               3  \n",
       "12.00 1489                 550         200                3               3  \n",
       "10.00 1328                1950         150                1               1  \n",
       "11.00 1328                1950         150                1               1  \n",
       "12.00 1328                1950         150                1               1  \n",
       "\n",
       "[3214 rows x 12 columns]"
      ]
     },
     "execution_count": 27,
     "metadata": {},
     "output_type": "execute_result"
    }
   ],
   "source": [
    "# add plan info\n",
    "pivot_total = pivot_total.merge(tariffs, on='tariff_name', how='left')\n",
    "pivot_total = pivot_total.set_index(['month','user_id'])\n",
    "pivot_total"
   ]
  },
  {
   "cell_type": "code",
   "execution_count": 28,
   "id": "615d6142",
   "metadata": {
    "scrolled": true
   },
   "outputs": [],
   "source": [
    "# revenue per user calculation\n",
    "def profit(df):\n",
    "    '''\n",
    "    Subtract the free package limit from the total number of calls, text messages, and data; \n",
    "    Multiply the result by the calling plan value; \n",
    "    Add the monthly charge depending on the calling plan.\n",
    "    '''\n",
    "    minutes = 0\n",
    "    msgs = 0\n",
    "    net = 0\n",
    "    if df['calls_sum'] > df['minutes_included']:\n",
    "        mintues = (df['calls_sum'] - df['minutes_included']) * df['rub_per_minute']\n",
    "    if df['msg_cnt'] > df['messages_included']:\n",
    "        msgs = (df['msg_cnt'] - df['messages_included']) * df['rub_per_message']\n",
    "    if df['gb_used'] > df['gb_per_month_included']:\n",
    "        net = (df['gb_used'] - df['gb_per_month_included']) * df['rub_per_gb']\n",
    "    return minutes + msgs + net + df['rub_monthly_fee']"
   ]
  },
  {
   "cell_type": "code",
   "execution_count": 29,
   "id": "aa2ec27f",
   "metadata": {
    "scrolled": false
   },
   "outputs": [
    {
     "data": {
      "text/html": [
       "<div>\n",
       "<style scoped>\n",
       "    .dataframe tbody tr th:only-of-type {\n",
       "        vertical-align: middle;\n",
       "    }\n",
       "\n",
       "    .dataframe tbody tr th {\n",
       "        vertical-align: top;\n",
       "    }\n",
       "\n",
       "    .dataframe thead th {\n",
       "        text-align: right;\n",
       "    }\n",
       "</style>\n",
       "<table border=\"1\" class=\"dataframe\">\n",
       "  <thead>\n",
       "    <tr style=\"text-align: right;\">\n",
       "      <th></th>\n",
       "      <th></th>\n",
       "      <th>calls_cnt</th>\n",
       "      <th>calls_sum</th>\n",
       "      <th>msg_cnt</th>\n",
       "      <th>gb_used</th>\n",
       "      <th>tariff_name</th>\n",
       "      <th>messages_included</th>\n",
       "      <th>gb_per_month_included</th>\n",
       "      <th>minutes_included</th>\n",
       "      <th>rub_monthly_fee</th>\n",
       "      <th>rub_per_gb</th>\n",
       "      <th>rub_per_message</th>\n",
       "      <th>rub_per_minute</th>\n",
       "      <th>profit</th>\n",
       "    </tr>\n",
       "    <tr>\n",
       "      <th>month</th>\n",
       "      <th>user_id</th>\n",
       "      <th></th>\n",
       "      <th></th>\n",
       "      <th></th>\n",
       "      <th></th>\n",
       "      <th></th>\n",
       "      <th></th>\n",
       "      <th></th>\n",
       "      <th></th>\n",
       "      <th></th>\n",
       "      <th></th>\n",
       "      <th></th>\n",
       "      <th></th>\n",
       "      <th></th>\n",
       "    </tr>\n",
       "  </thead>\n",
       "  <tbody>\n",
       "    <tr>\n",
       "      <th>8.00</th>\n",
       "      <th>1183</th>\n",
       "      <td>69.00</td>\n",
       "      <td>579.00</td>\n",
       "      <td>41.00</td>\n",
       "      <td>21.00</td>\n",
       "      <td>smart</td>\n",
       "      <td>50</td>\n",
       "      <td>15.00</td>\n",
       "      <td>500</td>\n",
       "      <td>550</td>\n",
       "      <td>200</td>\n",
       "      <td>3</td>\n",
       "      <td>3</td>\n",
       "      <td>1,750.00</td>\n",
       "    </tr>\n",
       "    <tr>\n",
       "      <th>9.00</th>\n",
       "      <th>1299</th>\n",
       "      <td>67.00</td>\n",
       "      <td>443.00</td>\n",
       "      <td>45.00</td>\n",
       "      <td>14.00</td>\n",
       "      <td>smart</td>\n",
       "      <td>50</td>\n",
       "      <td>15.00</td>\n",
       "      <td>500</td>\n",
       "      <td>550</td>\n",
       "      <td>200</td>\n",
       "      <td>3</td>\n",
       "      <td>3</td>\n",
       "      <td>550.00</td>\n",
       "    </tr>\n",
       "    <tr>\n",
       "      <th>3.00</th>\n",
       "      <th>1118</th>\n",
       "      <td>73.00</td>\n",
       "      <td>547.00</td>\n",
       "      <td>0.00</td>\n",
       "      <td>11.00</td>\n",
       "      <td>smart</td>\n",
       "      <td>50</td>\n",
       "      <td>15.00</td>\n",
       "      <td>500</td>\n",
       "      <td>550</td>\n",
       "      <td>200</td>\n",
       "      <td>3</td>\n",
       "      <td>3</td>\n",
       "      <td>550.00</td>\n",
       "    </tr>\n",
       "  </tbody>\n",
       "</table>\n",
       "</div>"
      ],
      "text/plain": [
       "               calls_cnt  calls_sum  msg_cnt  gb_used tariff_name  \\\n",
       "month user_id                                                       \n",
       "8.00  1183         69.00     579.00    41.00    21.00       smart   \n",
       "9.00  1299         67.00     443.00    45.00    14.00       smart   \n",
       "3.00  1118         73.00     547.00     0.00    11.00       smart   \n",
       "\n",
       "               messages_included  gb_per_month_included  minutes_included  \\\n",
       "month user_id                                                               \n",
       "8.00  1183                    50                  15.00               500   \n",
       "9.00  1299                    50                  15.00               500   \n",
       "3.00  1118                    50                  15.00               500   \n",
       "\n",
       "               rub_monthly_fee  rub_per_gb  rub_per_message  rub_per_minute  \\\n",
       "month user_id                                                                 \n",
       "8.00  1183                 550         200                3               3   \n",
       "9.00  1299                 550         200                3               3   \n",
       "3.00  1118                 550         200                3               3   \n",
       "\n",
       "                profit  \n",
       "month user_id           \n",
       "8.00  1183    1,750.00  \n",
       "9.00  1299      550.00  \n",
       "3.00  1118      550.00  "
      ]
     },
     "execution_count": 29,
     "metadata": {},
     "output_type": "execute_result"
    }
   ],
   "source": [
    "# apply profit function to df\n",
    "pivot_total['profit'] = pivot_total.apply(profit, axis=1)\n",
    "pivot_total.sample(3, random_state=123)"
   ]
  },
  {
   "cell_type": "markdown",
   "id": "a636e1d4",
   "metadata": {},
   "source": [
    "# Exploratory Data Analysis (EDA)"
   ]
  },
  {
   "cell_type": "markdown",
   "id": "8f57fa0c",
   "metadata": {},
   "source": [
    "This section contains calls duration, messages used and data used histograms. The basic quotent: mean, variance and SD are calculated."
   ]
  },
  {
   "cell_type": "code",
   "execution_count": 30,
   "id": "25731094",
   "metadata": {},
   "outputs": [],
   "source": [
    "# user split between two plans\n",
    "smart_u = pivot_total.query('tariff_name == \"smart\"')\n",
    "ultra_u = pivot_total.query('tariff_name == \"ultra\"')"
   ]
  },
  {
   "cell_type": "markdown",
   "id": "9739f7b1",
   "metadata": {},
   "source": [
    "## Calls distribution"
   ]
  },
  {
   "cell_type": "code",
   "execution_count": 31,
   "id": "6578a83c",
   "metadata": {
    "scrolled": true
   },
   "outputs": [
    {
     "name": "stdout",
     "output_type": "stream",
     "text": [
      "\u001b[1;30;47m_____________SMART PLAN_____________\u001b[0;0m\n",
      " mean   417.93\n",
      "std    190.31\n",
      "Name: calls_sum, dtype: float64\n",
      "Variance: 36219.32\n",
      "\u001b[1;30;47m_____________ULTRA PLAN_____________\u001b[0;0m\n",
      "       calls_sum\n",
      "mean     526.62\n",
      "std      317.61\n",
      "Variance: 100873.63\n"
     ]
    }
   ],
   "source": [
    "# статистики\n",
    "print('\\033[1;30;47m_____________SMART PLAN_____________\\033[0;0m\\n', smart_u['calls_sum'].describe().loc[['mean', 'std']])\n",
    "print('Variance:', round(np.var( smart_u['calls_sum'], ddof=1), 2))\n",
    "print('\\033[1;30;47m_____________ULTRA PLAN_____________\\033[0;0m\\n', ultra_u[['calls_sum']].describe().loc[['mean', 'std']])\n",
    "print('Variance:', round(np.var( ultra_u['calls_sum'], ddof=1), 2))"
   ]
  },
  {
   "cell_type": "code",
   "execution_count": 32,
   "id": "97998c7b",
   "metadata": {
    "scrolled": false
   },
   "outputs": [
    {
     "data": {
      "image/png": "[encoded data removed]",
      "text/plain": [
       "<Figure size 720x720 with 1 Axes>"
      ]
     },
     "metadata": {},
     "output_type": "display_data"
    }
   ],
   "source": [
    "# visualization\n",
    "sns.histplot(data=pivot_total, hue='tariff_name',x='calls_sum')\n",
    "plt.title('Calls duration distribution', fontsize=20)\n",
    "plt.xlabel('Duration', fontsize=15)\n",
    "plt.tick_params(labelsize=15)\n",
    "plt.legend(title='Plan', labels=['Ultra', 'Smart'], fontsize=15)\n",
    "plt.axvline(x=smart_u['calls_sum'].median(), color='blue', ls='--', lw=2.5)\n",
    "plt.axvline(x=ultra_u['calls_sum'].median(), color='red', ls='--', lw=2.5)\n",
    "plt.text(600, 175, f'MEDIAN ULTRA: {ultra_u[\"calls_sum\"].median()}', c='red', fontsize=15)\n",
    "plt.text(600, 165, f'MEDIAN SMART: {smart_u[\"calls_sum\"].median()}', c='blue', fontsize=15);"
   ]
  },
  {
   "cell_type": "markdown",
   "id": "5b06e6df",
   "metadata": {},
   "source": [
    "*Conclusion: data distribution is normal. The histogram of Ultra users is shifted to the right, towards a longer conversation (due to the more amount of minutes included). Smart users on average do not exceed the amount of free minutes.*"
   ]
  },
  {
   "cell_type": "markdown",
   "id": "74842a2b",
   "metadata": {},
   "source": [
    "## Messages distribution"
   ]
  },
  {
   "cell_type": "code",
   "execution_count": 33,
   "id": "cd1a578f",
   "metadata": {
    "scrolled": true
   },
   "outputs": [
    {
     "name": "stdout",
     "output_type": "stream",
     "text": [
      "\u001b[1;30;47m_____________SMART PLAN_____________\u001b[0;0m\n",
      " mean   33.38\n",
      "std    28.23\n",
      "Name: msg_cnt, dtype: float64\n",
      "Variance: 796.81\n",
      "\u001b[1;30;47m_____________ULTRA PLAN_____________\u001b[0;0m\n",
      "       msg_cnt\n",
      "mean    49.36\n",
      "std     47.80\n",
      "Variance: 2285.27\n"
     ]
    }
   ],
   "source": [
    "# statistics\n",
    "print('\\033[1;30;47m_____________SMART PLAN_____________\\033[0;0m\\n', smart_u['msg_cnt'].describe().loc[['mean', 'std']])\n",
    "print('Variance:', round(np.var( smart_u['msg_cnt'], ddof=1), 2))\n",
    "print('\\033[1;30;47m_____________ULTRA PLAN_____________\\033[0;0m\\n', ultra_u[['msg_cnt']].describe().loc[['mean', 'std']])\n",
    "print('Variance:', round(np.var( ultra_u['msg_cnt'], ddof=1), 2))"
   ]
  },
  {
   "cell_type": "code",
   "execution_count": 34,
   "id": "34aca970",
   "metadata": {
    "scrolled": false
   },
   "outputs": [
    {
     "data": {
      "image/png": "[encoded data removed]",
      "text/plain": [
       "<Figure size 720x720 with 1 Axes>"
      ]
     },
     "metadata": {},
     "output_type": "display_data"
    }
   ],
   "source": [
    "# visualization\n",
    "sns.histplot(data=pivot_total, hue='tariff_name',x='msg_cnt')\n",
    "plt.title('Messages distribution', fontsize=20)\n",
    "plt.xlabel('Count', fontsize=15)\n",
    "plt.tick_params(labelsize=15)\n",
    "plt.legend(title='Plan', labels=['Ultra', 'Smart'], fontsize=15)\n",
    "plt.axvline(x=smart_u['msg_cnt'].median(), color='blue', ls='--', lw=2.5)\n",
    "plt.axvline(x=ultra_u['msg_cnt'].median(), color='red', ls='--', lw=2.5)\n",
    "plt.text(50, 350, f'MEDIAN ULTRA: {ultra_u[\"msg_cnt\"].median()}', c='red', fontsize=15)\n",
    "plt.text(50, 330, f'MEDIAN SMART: {smart_u[\"msg_cnt\"].median()}', c='blue', fontsize=15);"
   ]
  },
  {
   "cell_type": "markdown",
   "id": "eef46af9",
   "metadata": {},
   "source": [
    "*Conclusion: data distribution is exponential. Clients rarely use SMS (probably it is not popular way to communicate nowadays). Ultra clients did not send more than 200 messages (of 1000 included in plan).*"
   ]
  },
  {
   "cell_type": "markdown",
   "id": "155a0c27",
   "metadata": {},
   "source": [
    "## Data distribution"
   ]
  },
  {
   "cell_type": "code",
   "execution_count": 35,
   "id": "f2a8b489",
   "metadata": {},
   "outputs": [
    {
     "name": "stdout",
     "output_type": "stream",
     "text": [
      "\u001b[1;30;47m_____________SMART PLAN_____________\u001b[0;0m\n",
      " mean   16.33\n",
      "std     5.75\n",
      "Name: gb_used, dtype: float64\n",
      "Variance: 33.03\n",
      "\u001b[1;30;47m_____________ULTRA PLAN_____________\u001b[0;0m\n",
      "       gb_used\n",
      "mean    19.49\n",
      "std      9.85\n",
      "Variance: 97.09\n"
     ]
    }
   ],
   "source": [
    "# statistics\n",
    "print('\\033[1;30;47m_____________SMART PLAN_____________\\033[0;0m\\n', smart_u['gb_used'].describe().loc[['mean', 'std']])\n",
    "print('Variance:', round(np.var( smart_u['gb_used'], ddof=1), 2))\n",
    "print('\\033[1;30;47m_____________ULTRA PLAN_____________\\033[0;0m\\n', ultra_u[['gb_used']].describe().loc[['mean', 'std']])\n",
    "print('Variance:', round(np.var( ultra_u['gb_used'], ddof=1), 2))"
   ]
  },
  {
   "cell_type": "code",
   "execution_count": 36,
   "id": "f22d9113",
   "metadata": {
    "scrolled": false
   },
   "outputs": [
    {
     "data": {
      "image/png": "[encoded data removed]",
      "text/plain": [
       "<Figure size 720x720 with 1 Axes>"
      ]
     },
     "metadata": {},
     "output_type": "display_data"
    }
   ],
   "source": [
    "# visualization\n",
    "sns.histplot(data=pivot_total, hue='tariff_name',x='gb_used')\n",
    "plt.title('Data distribution', fontsize=20)\n",
    "plt.xlabel('Gigabytes', fontsize=15)\n",
    "plt.tick_params(labelsize=15)\n",
    "plt.legend(title='Plan', labels=['Ultra', 'Smart'], fontsize=15)\n",
    "plt.axvline(x=smart_u['gb_used'].median(), color='blue', ls='--', lw=2.5)\n",
    "plt.axvline(x=ultra_u['gb_used'].median(), color='red', ls='--', lw=2.5)\n",
    "plt.text(25, 250, f'MEDIAN ULTRA: {ultra_u[\"gb_used\"].median()}', c='red', fontsize=15)\n",
    "plt.text(25, 240, f'MEDIAN SMART: {smart_u[\"gb_used\"].median()}', c='blue', fontsize=15);"
   ]
  },
  {
   "cell_type": "markdown",
   "id": "56383c63",
   "metadata": {},
   "source": [
    "*Conclusion: data distribution is normal. The median and average of Smart clients are above the volume of traffic included in the plan. That means clients regularly pay an extra fee for the Internet. 50 GB of Ultra plan is enough for all clients, but rarely someone spends over 40 GB.*"
   ]
  },
  {
   "cell_type": "markdown",
   "id": "6d60b1d1",
   "metadata": {},
   "source": [
    "## Interim conclusions\n",
    "\n",
    "*Calls:*    \n",
    "Data distribution is normal. The histogram of Ultra users is shifted to the right, towards a longer conversation (due to the more amount of minutes included). Smart users on average do not exceed the amount of free minutes.\n",
    "\n",
    "*Messages:*   \n",
    "Data distribution is exponential. Clients rarely use SMS (probably it is not popular way to communicate nowadays). Ultra clients did not send more than 200 messages (of 1000 included in plan).\n",
    "\n",
    "*Data:*   \n",
    "Data distribution is normal. The median and average of Smart clients are above the volume of traffic included in the plan. That means clients regularly pay an extra fee for the Internet. 50 GB of Ultra plan is enough for all clients, but rarely someone spends over 40 GB."
   ]
  },
  {
   "cell_type": "markdown",
   "id": "9e686396",
   "metadata": {},
   "source": [
    "# Hypotheses testing"
   ]
  },
  {
   "cell_type": "markdown",
   "id": "f4ab6bb0",
   "metadata": {},
   "source": [
    "In this section, we will formulate null and alternate hypotheses for testing the following statements:\n",
    "* average revenue per month vary across Utra and Smart clients;\n",
    "* average revenue per month vary across clients from Moscow and from regions;"
   ]
  },
  {
   "cell_type": "markdown",
   "id": "140bfc87",
   "metadata": {},
   "source": [
    "## Average revenue per month vary across Utra and Smart clients."
   ]
  },
  {
   "cell_type": "markdown",
   "id": "e7e27190",
   "metadata": {},
   "source": [
    "Null hypothesis **H0** (should contain an equal sign): the average revenue for Ultra clients is equal to the average revenue for Smart clients.    \n",
    "Alternate hypothesis **H1**: the average revenue vary across Utra and Smart clients.    \n",
    "Alpha threshold value - 0.05."
   ]
  },
  {
   "cell_type": "code",
   "execution_count": 37,
   "id": "d85e52f7",
   "metadata": {
    "scrolled": true
   },
   "outputs": [
    {
     "data": {
      "text/html": [
       "<div>\n",
       "<style scoped>\n",
       "    .dataframe tbody tr th:only-of-type {\n",
       "        vertical-align: middle;\n",
       "    }\n",
       "\n",
       "    .dataframe tbody tr th {\n",
       "        vertical-align: top;\n",
       "    }\n",
       "\n",
       "    .dataframe thead th {\n",
       "        text-align: right;\n",
       "    }\n",
       "</style>\n",
       "<table border=\"1\" class=\"dataframe\">\n",
       "  <thead>\n",
       "    <tr style=\"text-align: right;\">\n",
       "      <th></th>\n",
       "      <th>tariff</th>\n",
       "    </tr>\n",
       "  </thead>\n",
       "  <tbody>\n",
       "    <tr>\n",
       "      <th>smart</th>\n",
       "      <td>23</td>\n",
       "    </tr>\n",
       "    <tr>\n",
       "      <th>ultra</th>\n",
       "      <td>15</td>\n",
       "    </tr>\n",
       "  </tbody>\n",
       "</table>\n",
       "</div>"
      ],
      "text/plain": [
       "       tariff\n",
       "smart      23\n",
       "ultra      15"
      ]
     },
     "metadata": {},
     "output_type": "display_data"
    }
   ],
   "source": [
    "# clients churn\n",
    "chrun_yes = users.query('churn_date == churn_date', engine='python')\n",
    "display(chrun_yes['tariff'].value_counts().to_frame())"
   ]
  },
  {
   "cell_type": "code",
   "execution_count": 38,
   "id": "3e2d85d5",
   "metadata": {},
   "outputs": [
    {
     "name": "stdout",
     "output_type": "stream",
     "text": [
      "\u001b[1;30;47m_____________SMART PLAN_____________\u001b[0;0m\n",
      " mean   1,165.16\n",
      "std      740.56\n",
      "Name: profit, dtype: float64\n",
      "Variance: 548424.31\n",
      "\u001b[1;30;47m_____________ULTRA PLAN_____________\u001b[0;0m\n",
      "        profit\n",
      "mean 2,070.15\n",
      "std    376.19\n",
      "Variance: 141516.75\n"
     ]
    }
   ],
   "source": [
    "# revenue statistics\n",
    "print('\\033[1;30;47m_____________SMART PLAN_____________\\033[0;0m\\n', smart_u['profit'].describe().loc[['mean', 'std']])\n",
    "print('Variance:', round(np.var( smart_u['profit'], ddof=1), 2))\n",
    "print('\\033[1;30;47m_____________ULTRA PLAN_____________\\033[0;0m\\n', ultra_u[['profit']].describe().loc[['mean', 'std']])\n",
    "print('Variance:', round(np.var( ultra_u['profit'], ddof=1), 2))"
   ]
  },
  {
   "cell_type": "code",
   "execution_count": 39,
   "id": "b8d6793e",
   "metadata": {
    "scrolled": false
   },
   "outputs": [
    {
     "data": {
      "image/png": "[encoded data removed]",
      "text/plain": [
       "<Figure size 720x720 with 1 Axes>"
      ]
     },
     "metadata": {},
     "output_type": "display_data"
    }
   ],
   "source": [
    "# visualization\n",
    "sns.histplot(data=pivot_total, hue='tariff_name',x='profit')\n",
    "plt.title('Revenue distribution', fontsize=20)\n",
    "plt.xlabel('Sum, RUB', fontsize=15)\n",
    "plt.ylabel('Count', fontsize=15)\n",
    "plt.tick_params(labelsize=15)\n",
    "plt.legend(title='Plan', labels=['Ultra', 'Smart'], fontsize=15)\n",
    "plt.axvline(x=smart_u['profit'].median(), color='blue', ls='--', lw=2.5)\n",
    "plt.axvline(x=ultra_u['profit'].median(), color='red', ls='--', lw=2.5)\n",
    "plt.text(2100, 650, f'MEDIAN ULTRA: {ultra_u[\"profit\"].median()}', c='red', fontsize=15)\n",
    "plt.text(2100, 600, f'MEDIAN SMART: {smart_u[\"profit\"].median()}', c='blue', fontsize=15);"
   ]
  },
  {
   "cell_type": "markdown",
   "id": "e0b13eb1",
   "metadata": {},
   "source": [
    "*Conclusion: data distribution is exponential. The median revenue for Smart clients is almost twice the plan fee. The median for Ultra clients is located in the plan fee zone.*"
   ]
  },
  {
   "cell_type": "code",
   "execution_count": 40,
   "id": "544b5804",
   "metadata": {
    "scrolled": true
   },
   "outputs": [
    {
     "name": "stdout",
     "output_type": "stream",
     "text": [
      "Number of clients, Smart plan: 351\n",
      "Number of clients, Ultra plan: 149\n"
     ]
    }
   ],
   "source": [
    "# number of clients by plan\n",
    "print('Number of clients, Smart plan:', len(users[users['tariff'] == 'smart']))\n",
    "print('Number of clients, Ultra plan:', len(users[users['tariff'] == 'ultra']))"
   ]
  },
  {
   "cell_type": "code",
   "execution_count": 41,
   "id": "1a408188",
   "metadata": {
    "scrolled": false
   },
   "outputs": [
    {
     "name": "stdout",
     "output_type": "stream",
     "text": [
      "Average revenue for Smart clients: 7399 RUB\n",
      "Average revenue for Ultra clients: 13685 RUB\n"
     ]
    }
   ],
   "source": [
    "# average revenue per client\n",
    "print('Average revenue for Smart clients: {:.0f} RUB'.format(smart_u['profit'].sum() / len(users[users['tariff'] == 'smart'])))\n",
    "print('Average revenue for Ultra clients: {:.0f} RUB'.format(ultra_u['profit'].sum() / len(users[users['tariff'] == 'ultra'])))"
   ]
  },
  {
   "cell_type": "code",
   "execution_count": 42,
   "id": "58765b33",
   "metadata": {
    "scrolled": false
   },
   "outputs": [
    {
     "data": {
      "image/png": "[encoded data removed]",
      "text/plain": [
       "<Figure size 720x504 with 1 Axes>"
      ]
     },
     "metadata": {},
     "output_type": "display_data"
    }
   ],
   "source": [
    "# revenue dynamics\n",
    "plt.figure(figsize=(10, 7))\n",
    "sns.lineplot(data=pivot_total, hue='tariff_name', x='month', y='profit')\n",
    "plt.title('Revenue dynamics', fontsize=18)\n",
    "plt.xlabel('Month', fontsize=15)\n",
    "plt.ylabel('Sum, RUB', fontsize=15)\n",
    "plt.tick_params(labelsize=15)\n",
    "plt.legend(title='Plan', labels=['Smart', 'Ultra'], fontsize=15)\n",
    "plt.xticks(np.arange(1, 13, 1));"
   ]
  },
  {
   "cell_type": "markdown",
   "id": "877b6495",
   "metadata": {},
   "source": [
    "*Conclusion: we observe faster growth for Smart clients (especially in the first three months). The curve for Ultra clients has smoother growth and there is a decline in September.*"
   ]
  },
  {
   "cell_type": "code",
   "execution_count": 43,
   "id": "435605c3",
   "metadata": {},
   "outputs": [
    {
     "name": "stdout",
     "output_type": "stream",
     "text": [
      "p-value: 0.0\n",
      "We reject the null hypohesis\n"
     ]
    }
   ],
   "source": [
    "# hypothesis testing\n",
    "alpha = .05\n",
    "results = st.ttest_ind(smart_u['profit'], ultra_u['profit'], equal_var=False)\n",
    "print('p-value:', results.pvalue)\n",
    "if results.pvalue < alpha:\n",
    "    print('We reject the null hypohesis')\n",
    "else:\n",
    "    print('We fail to reject the null hypothesis')"
   ]
  },
  {
   "cell_type": "markdown",
   "id": "8095cf20",
   "metadata": {},
   "source": [
    "*Conclusion: we accept **H1** - the average revenue vary across Utra and Smart clients.*"
   ]
  },
  {
   "cell_type": "markdown",
   "id": "73f6d09c",
   "metadata": {},
   "source": [
    "## Interim conclusions"
   ]
  },
  {
   "cell_type": "markdown",
   "id": "2f9afd33",
   "metadata": {},
   "source": [
    "- according to the churn table, there are 1.5 Smart clients per one Ultra client  (clients ratio in the sample is 1:2.5). Consequently, Ultra clients churn is higher.\n",
    "- average revenue from Smart clients is - 1166 RUB, from Ultra clients - 2071 RUB;\n",
    "- number of Smart clients is 351, Ultra - 149 clients;\n",
    "- the median and average from Smart clients is around 1000 RUB, and it is almost twice the plan fee;\n",
    "- the median and average from Ultra clients is around 2000 RUB, and it is around the plan fee;\n",
    "- average revenue from Smart clients is 7399 RUB, from Ultra - 13685 RUB;\n",
    "- the dynamics of income during the year shows a faster growth for Smart clients;\n",
    "- according to the hypothesis testing, we accept H1 - the average revenue vary across Utra and Smart clients."
   ]
  },
  {
   "cell_type": "markdown",
   "id": "d3ceb67b",
   "metadata": {},
   "source": [
    "## Average revenue per month vary across clients from Moscow and from regions."
   ]
  },
  {
   "cell_type": "markdown",
   "id": "006e29b4",
   "metadata": {},
   "source": [
    "Null hypothesis **H0**: the average revenue for clients from Moscow is equal to the average revenue for clients from regions.    \n",
    "Alternate hypothesis **H1**: average revenue per month vary across clients from Moscow and from regions.     \n",
    "Alpha threshold value - 0.05."
   ]
  },
  {
   "cell_type": "code",
   "execution_count": 44,
   "id": "79e1cbf7",
   "metadata": {
    "scrolled": true
   },
   "outputs": [
    {
     "data": {
      "text/html": [
       "<div>\n",
       "<style scoped>\n",
       "    .dataframe tbody tr th:only-of-type {\n",
       "        vertical-align: middle;\n",
       "    }\n",
       "\n",
       "    .dataframe tbody tr th {\n",
       "        vertical-align: top;\n",
       "    }\n",
       "\n",
       "    .dataframe thead th {\n",
       "        text-align: right;\n",
       "    }\n",
       "</style>\n",
       "<table border=\"1\" class=\"dataframe\">\n",
       "  <thead>\n",
       "    <tr style=\"text-align: right;\">\n",
       "      <th></th>\n",
       "      <th></th>\n",
       "      <th>calls_cnt</th>\n",
       "      <th>calls_sum</th>\n",
       "      <th>msg_cnt</th>\n",
       "      <th>gb_used</th>\n",
       "      <th>tariff_name</th>\n",
       "      <th>messages_included</th>\n",
       "      <th>gb_per_month_included</th>\n",
       "      <th>minutes_included</th>\n",
       "      <th>rub_monthly_fee</th>\n",
       "      <th>rub_per_gb</th>\n",
       "      <th>rub_per_message</th>\n",
       "      <th>rub_per_minute</th>\n",
       "      <th>profit</th>\n",
       "      <th>city</th>\n",
       "    </tr>\n",
       "    <tr>\n",
       "      <th>month</th>\n",
       "      <th>user_id</th>\n",
       "      <th></th>\n",
       "      <th></th>\n",
       "      <th></th>\n",
       "      <th></th>\n",
       "      <th></th>\n",
       "      <th></th>\n",
       "      <th></th>\n",
       "      <th></th>\n",
       "      <th></th>\n",
       "      <th></th>\n",
       "      <th></th>\n",
       "      <th></th>\n",
       "      <th></th>\n",
       "      <th></th>\n",
       "    </tr>\n",
       "  </thead>\n",
       "  <tbody>\n",
       "    <tr>\n",
       "      <th>1.00</th>\n",
       "      <th>1005</th>\n",
       "      <td>15.00</td>\n",
       "      <td>95.00</td>\n",
       "      <td>7.00</td>\n",
       "      <td>3.00</td>\n",
       "      <td>smart</td>\n",
       "      <td>50</td>\n",
       "      <td>15.00</td>\n",
       "      <td>500</td>\n",
       "      <td>550</td>\n",
       "      <td>200</td>\n",
       "      <td>3</td>\n",
       "      <td>3</td>\n",
       "      <td>550.00</td>\n",
       "      <td>набережные челны</td>\n",
       "    </tr>\n",
       "    <tr>\n",
       "      <th>2.00</th>\n",
       "      <th>1005</th>\n",
       "      <td>69.00</td>\n",
       "      <td>456.00</td>\n",
       "      <td>38.00</td>\n",
       "      <td>8.00</td>\n",
       "      <td>smart</td>\n",
       "      <td>50</td>\n",
       "      <td>15.00</td>\n",
       "      <td>500</td>\n",
       "      <td>550</td>\n",
       "      <td>200</td>\n",
       "      <td>3</td>\n",
       "      <td>3</td>\n",
       "      <td>550.00</td>\n",
       "      <td>набережные челны</td>\n",
       "    </tr>\n",
       "    <tr>\n",
       "      <th>3.00</th>\n",
       "      <th>1005</th>\n",
       "      <td>77.00</td>\n",
       "      <td>606.00</td>\n",
       "      <td>56.00</td>\n",
       "      <td>11.00</td>\n",
       "      <td>smart</td>\n",
       "      <td>50</td>\n",
       "      <td>15.00</td>\n",
       "      <td>500</td>\n",
       "      <td>550</td>\n",
       "      <td>200</td>\n",
       "      <td>3</td>\n",
       "      <td>3</td>\n",
       "      <td>568.00</td>\n",
       "      <td>набережные челны</td>\n",
       "    </tr>\n",
       "    <tr>\n",
       "      <th>4.00</th>\n",
       "      <th>1005</th>\n",
       "      <td>101.00</td>\n",
       "      <td>712.00</td>\n",
       "      <td>41.00</td>\n",
       "      <td>10.00</td>\n",
       "      <td>smart</td>\n",
       "      <td>50</td>\n",
       "      <td>15.00</td>\n",
       "      <td>500</td>\n",
       "      <td>550</td>\n",
       "      <td>200</td>\n",
       "      <td>3</td>\n",
       "      <td>3</td>\n",
       "      <td>550.00</td>\n",
       "      <td>набережные челны</td>\n",
       "    </tr>\n",
       "    <tr>\n",
       "      <th>5.00</th>\n",
       "      <th>1005</th>\n",
       "      <td>73.00</td>\n",
       "      <td>595.00</td>\n",
       "      <td>42.00</td>\n",
       "      <td>8.00</td>\n",
       "      <td>smart</td>\n",
       "      <td>50</td>\n",
       "      <td>15.00</td>\n",
       "      <td>500</td>\n",
       "      <td>550</td>\n",
       "      <td>200</td>\n",
       "      <td>3</td>\n",
       "      <td>3</td>\n",
       "      <td>550.00</td>\n",
       "      <td>набережные челны</td>\n",
       "    </tr>\n",
       "    <tr>\n",
       "      <th>...</th>\n",
       "      <th>...</th>\n",
       "      <td>...</td>\n",
       "      <td>...</td>\n",
       "      <td>...</td>\n",
       "      <td>...</td>\n",
       "      <td>...</td>\n",
       "      <td>...</td>\n",
       "      <td>...</td>\n",
       "      <td>...</td>\n",
       "      <td>...</td>\n",
       "      <td>...</td>\n",
       "      <td>...</td>\n",
       "      <td>...</td>\n",
       "      <td>...</td>\n",
       "      <td>...</td>\n",
       "    </tr>\n",
       "    <tr>\n",
       "      <th>11.00</th>\n",
       "      <th>1489</th>\n",
       "      <td>0.00</td>\n",
       "      <td>0.00</td>\n",
       "      <td>20.00</td>\n",
       "      <td>18.00</td>\n",
       "      <td>smart</td>\n",
       "      <td>50</td>\n",
       "      <td>15.00</td>\n",
       "      <td>500</td>\n",
       "      <td>550</td>\n",
       "      <td>200</td>\n",
       "      <td>3</td>\n",
       "      <td>3</td>\n",
       "      <td>1,150.00</td>\n",
       "      <td>санкт-петербург</td>\n",
       "    </tr>\n",
       "    <tr>\n",
       "      <th>12.00</th>\n",
       "      <th>1489</th>\n",
       "      <td>0.00</td>\n",
       "      <td>0.00</td>\n",
       "      <td>35.00</td>\n",
       "      <td>17.00</td>\n",
       "      <td>smart</td>\n",
       "      <td>50</td>\n",
       "      <td>15.00</td>\n",
       "      <td>500</td>\n",
       "      <td>550</td>\n",
       "      <td>200</td>\n",
       "      <td>3</td>\n",
       "      <td>3</td>\n",
       "      <td>950.00</td>\n",
       "      <td>санкт-петербург</td>\n",
       "    </tr>\n",
       "    <tr>\n",
       "      <th>10.00</th>\n",
       "      <th>1328</th>\n",
       "      <td>0.00</td>\n",
       "      <td>0.00</td>\n",
       "      <td>6.00</td>\n",
       "      <td>22.00</td>\n",
       "      <td>ultra</td>\n",
       "      <td>1000</td>\n",
       "      <td>30.00</td>\n",
       "      <td>3000</td>\n",
       "      <td>1950</td>\n",
       "      <td>150</td>\n",
       "      <td>1</td>\n",
       "      <td>1</td>\n",
       "      <td>1,950.00</td>\n",
       "      <td>мурманск</td>\n",
       "    </tr>\n",
       "    <tr>\n",
       "      <th>11.00</th>\n",
       "      <th>1328</th>\n",
       "      <td>0.00</td>\n",
       "      <td>0.00</td>\n",
       "      <td>8.00</td>\n",
       "      <td>35.00</td>\n",
       "      <td>ultra</td>\n",
       "      <td>1000</td>\n",
       "      <td>30.00</td>\n",
       "      <td>3000</td>\n",
       "      <td>1950</td>\n",
       "      <td>150</td>\n",
       "      <td>1</td>\n",
       "      <td>1</td>\n",
       "      <td>2,700.00</td>\n",
       "      <td>мурманск</td>\n",
       "    </tr>\n",
       "    <tr>\n",
       "      <th>12.00</th>\n",
       "      <th>1328</th>\n",
       "      <td>0.00</td>\n",
       "      <td>0.00</td>\n",
       "      <td>7.00</td>\n",
       "      <td>39.00</td>\n",
       "      <td>ultra</td>\n",
       "      <td>1000</td>\n",
       "      <td>30.00</td>\n",
       "      <td>3000</td>\n",
       "      <td>1950</td>\n",
       "      <td>150</td>\n",
       "      <td>1</td>\n",
       "      <td>1</td>\n",
       "      <td>3,300.00</td>\n",
       "      <td>мурманск</td>\n",
       "    </tr>\n",
       "  </tbody>\n",
       "</table>\n",
       "<p>3214 rows × 14 columns</p>\n",
       "</div>"
      ],
      "text/plain": [
       "               calls_cnt  calls_sum  msg_cnt  gb_used tariff_name  \\\n",
       "month user_id                                                       \n",
       "1.00  1005         15.00      95.00     7.00     3.00       smart   \n",
       "2.00  1005         69.00     456.00    38.00     8.00       smart   \n",
       "3.00  1005         77.00     606.00    56.00    11.00       smart   \n",
       "4.00  1005        101.00     712.00    41.00    10.00       smart   \n",
       "5.00  1005         73.00     595.00    42.00     8.00       smart   \n",
       "...                  ...        ...      ...      ...         ...   \n",
       "11.00 1489          0.00       0.00    20.00    18.00       smart   \n",
       "12.00 1489          0.00       0.00    35.00    17.00       smart   \n",
       "10.00 1328          0.00       0.00     6.00    22.00       ultra   \n",
       "11.00 1328          0.00       0.00     8.00    35.00       ultra   \n",
       "12.00 1328          0.00       0.00     7.00    39.00       ultra   \n",
       "\n",
       "               messages_included  gb_per_month_included  minutes_included  \\\n",
       "month user_id                                                               \n",
       "1.00  1005                    50                  15.00               500   \n",
       "2.00  1005                    50                  15.00               500   \n",
       "3.00  1005                    50                  15.00               500   \n",
       "4.00  1005                    50                  15.00               500   \n",
       "5.00  1005                    50                  15.00               500   \n",
       "...                          ...                    ...               ...   \n",
       "11.00 1489                    50                  15.00               500   \n",
       "12.00 1489                    50                  15.00               500   \n",
       "10.00 1328                  1000                  30.00              3000   \n",
       "11.00 1328                  1000                  30.00              3000   \n",
       "12.00 1328                  1000                  30.00              3000   \n",
       "\n",
       "               rub_monthly_fee  rub_per_gb  rub_per_message  rub_per_minute  \\\n",
       "month user_id                                                                 \n",
       "1.00  1005                 550         200                3               3   \n",
       "2.00  1005                 550         200                3               3   \n",
       "3.00  1005                 550         200                3               3   \n",
       "4.00  1005                 550         200                3               3   \n",
       "5.00  1005                 550         200                3               3   \n",
       "...                        ...         ...              ...             ...   \n",
       "11.00 1489                 550         200                3               3   \n",
       "12.00 1489                 550         200                3               3   \n",
       "10.00 1328                1950         150                1               1   \n",
       "11.00 1328                1950         150                1               1   \n",
       "12.00 1328                1950         150                1               1   \n",
       "\n",
       "                profit              city  \n",
       "month user_id                             \n",
       "1.00  1005      550.00  набережные челны  \n",
       "2.00  1005      550.00  набережные челны  \n",
       "3.00  1005      568.00  набережные челны  \n",
       "4.00  1005      550.00  набережные челны  \n",
       "5.00  1005      550.00  набережные челны  \n",
       "...                ...               ...  \n",
       "11.00 1489    1,150.00   санкт-петербург  \n",
       "12.00 1489      950.00   санкт-петербург  \n",
       "10.00 1328    1,950.00          мурманск  \n",
       "11.00 1328    2,700.00          мурманск  \n",
       "12.00 1328    3,300.00          мурманск  \n",
       "\n",
       "[3214 rows x 14 columns]"
      ]
     },
     "execution_count": 44,
     "metadata": {},
     "output_type": "execute_result"
    }
   ],
   "source": [
    "# add city info\n",
    "pivot_total.reset_index(inplace=True)\n",
    "pivot_total = pivot_total.merge(users[['user_id', 'city']], how='left', on='user_id')\n",
    "pivot_total.set_index(['month', 'user_id'])"
   ]
  },
  {
   "cell_type": "code",
   "execution_count": 45,
   "id": "84575d14",
   "metadata": {},
   "outputs": [],
   "source": [
    "# divide clients from Moscow and from regions\n",
    "msq = pivot_total.query('city == \"москва\"', engine='python')\n",
    "no_msq = pivot_total.query('city != \"москва\"', engine='python')"
   ]
  },
  {
   "cell_type": "code",
   "execution_count": 46,
   "id": "04d77d88",
   "metadata": {
    "scrolled": true
   },
   "outputs": [
    {
     "name": "stdout",
     "output_type": "stream",
     "text": [
      "Number of clients (Moscow): 99\n",
      "Number of clients (regions): 401\n"
     ]
    }
   ],
   "source": [
    "# number of clients\n",
    "print('Number of clients (Moscow):', len(users[users['city'] == 'москва']))\n",
    "print('Number of clients (regions):', len(users[users['city'] != 'москва']))"
   ]
  },
  {
   "cell_type": "code",
   "execution_count": 47,
   "id": "fc993f68",
   "metadata": {
    "scrolled": true
   },
   "outputs": [
    {
     "name": "stdout",
     "output_type": "stream",
     "text": [
      "\u001b[1;30;47m_____________MOSCOW_____________\u001b[0;0m\n",
      " mean   1,471.94\n",
      "std      748.79\n",
      "Name: profit, dtype: float64\n",
      "Variance: 560690.65\n",
      "\u001b[1;30;47m_____________REGION_____________\u001b[0;0m\n",
      "        profit\n",
      "mean 1,435.60\n",
      "std    778.74\n",
      "Variance: 606440.71\n"
     ]
    }
   ],
   "source": [
    "# статистики выручки\n",
    "print('\\033[1;30;47m_____________MOSCOW_____________\\033[0;0m\\n', msq['profit'].describe().loc[['mean', 'std']])\n",
    "print('Variance:', round(np.var(msq['profit'], ddof=1), 2))\n",
    "print('\\033[1;30;47m_____________REGION_____________\\033[0;0m\\n', no_msq[['profit']].describe().loc[['mean', 'std']])\n",
    "print('Variance:', round(np.var(no_msq['profit'], ddof=1), 2))"
   ]
  },
  {
   "cell_type": "code",
   "execution_count": 48,
   "id": "9a328c1f",
   "metadata": {
    "scrolled": false
   },
   "outputs": [
    {
     "data": {
      "image/png": "[encoded data removed]",
      "text/plain": [
       "<Figure size 720x720 with 1 Axes>"
      ]
     },
     "metadata": {},
     "output_type": "display_data"
    }
   ],
   "source": [
    "# visualization\n",
    "sns.histplot(data=msq, x='profit', color='red', alpha=0.5)\n",
    "sns.histplot(data=no_msq, x='profit', color='green', alpha=0.3)\n",
    "plt.title('Revenue distribution', fontsize=20)\n",
    "plt.xlabel('Sum, RUB', fontsize=15)\n",
    "plt.tick_params(labelsize=15)\n",
    "plt.legend(title='Location', labels=['Moscow', 'Regions'], fontsize=15)\n",
    "plt.axvline(x=msq['profit'].median(), color='red', ls='--', lw=2.5)\n",
    "plt.axvline(x=no_msq['profit'].median(), color='green', ls='--', lw=2.5)\n",
    "plt.text(2100, 650, f'MEDIAN MSQ: {msq[\"profit\"].median()}', c='red', fontsize=15)\n",
    "plt.text(2100, 600, f'MEDIAN NO_MSQ: {no_msq[\"profit\"].median()}', c='green', fontsize=15);"
   ]
  },
  {
   "cell_type": "markdown",
   "id": "39f852c3",
   "metadata": {},
   "source": [
    "*Conclusion: data distribution is exponential. Median revenue from Moscow clients differs from regions by 286 RUB.*"
   ]
  },
  {
   "cell_type": "code",
   "execution_count": 49,
   "id": "7bbaf4b2",
   "metadata": {
    "scrolled": false
   },
   "outputs": [
    {
     "data": {
      "image/png": "[encoded data removed]",
      "text/plain": [
       "<Figure size 720x504 with 1 Axes>"
      ]
     },
     "metadata": {},
     "output_type": "display_data"
    }
   ],
   "source": [
    "# revenue dynamics\n",
    "plt.figure(figsize=(10, 7))\n",
    "sns.lineplot(data=msq, x='month', y='profit')\n",
    "sns.lineplot(data=no_msq, x='month', y='profit')\n",
    "plt.title('Revenue dynamics', fontsize=18)\n",
    "plt.xlabel('Month', fontsize=15)\n",
    "plt.ylabel('Sum, RUB', fontsize=15)\n",
    "plt.tick_params(labelsize=15)\n",
    "plt.legend(title='Location', labels=['Moscow', 'Regions'], fontsize=15)\n",
    "plt.xticks(np.arange(1, 13, 1));"
   ]
  },
  {
   "cell_type": "markdown",
   "id": "8acbb3f5",
   "metadata": {},
   "source": [
    "*Conclusion: at the beginning of the year there was a decline in revenue for both categories, then growth, especially for clients from the regions. In Moscow, there is no clear tendency.*"
   ]
  },
  {
   "cell_type": "code",
   "execution_count": 50,
   "id": "d0f5fa3c",
   "metadata": {
    "scrolled": false
   },
   "outputs": [
    {
     "data": {
      "image/png": "[encoded data removed]",
      "text/plain": [
       "<Figure size 1080x504 with 1 Axes>"
      ]
     },
     "metadata": {},
     "output_type": "display_data"
    }
   ],
   "source": [
    "# the leading regions\n",
    "(no_msq.pivot_table(index='city', \n",
    "                    values='profit', \n",
    "                    aggfunc='sum')\n",
    " .sort_values(by='profit', ascending=False)\n",
    " .head(10)\n",
    " .plot(figsize=(15, 7), kind='bar', title='The leading regions (by revenue)', legend=False, rot=45, fontsize=15, colormap='viridis'))\n",
    "plt.xlabel('City', fontsize=15)\n",
    "plt.ylabel('Revenue, RUB', fontsize=15);"
   ]
  },
  {
   "cell_type": "markdown",
   "id": "a90b8ae8",
   "metadata": {},
   "source": [
    "*Conclusion: the leading cities by revenue are St.Petersburg, Novosibirsk, Ufa, Krasnodar.*"
   ]
  },
  {
   "cell_type": "code",
   "execution_count": 51,
   "id": "0cbe393c",
   "metadata": {
    "scrolled": false
   },
   "outputs": [
    {
     "name": "stdout",
     "output_type": "stream",
     "text": [
      "Average revenue for Moscow clients: 9084 рублей\n",
      "Average revenue for clients from regions: 9319 рублей\n"
     ]
    }
   ],
   "source": [
    "# average revenue per client\n",
    "print('Average revenue for Moscow clients: {:.0f} рублей'.format(msq['profit'].sum() / len(users[users['city'] == 'москва'])))\n",
    "print('Average revenue for clients from regions: {:.0f} рублей'.format(no_msq['profit'].sum() / len(users[users['city'] != 'москва'])))"
   ]
  },
  {
   "cell_type": "code",
   "execution_count": 52,
   "id": "45c2fddf",
   "metadata": {},
   "outputs": [
    {
     "name": "stdout",
     "output_type": "stream",
     "text": [
      "p-value: 0.2843727016644021\n",
      "We fail to reject the null hypothesis.\n"
     ]
    }
   ],
   "source": [
    "# проверка гипотезы \n",
    "alpha = .05\n",
    "results = st.ttest_ind(msq['profit'], no_msq['profit'], equal_var = False)\n",
    "print('p-value:', results.pvalue)\n",
    "if results.pvalue < alpha:\n",
    "    print('We reject the null hypohesis.')\n",
    "else:\n",
    "    print('We fail to reject the null hypothesis.')"
   ]
  },
  {
   "cell_type": "markdown",
   "id": "ba4698dd",
   "metadata": {},
   "source": [
    "*Вывод: We accept **H0** - the average revenue for clients from Moscow is equal to the average revenue for clients from regions.*"
   ]
  },
  {
   "cell_type": "markdown",
   "id": "bb9d1511",
   "metadata": {},
   "source": [
    "## Interim conclusions"
   ]
  },
  {
   "cell_type": "markdown",
   "id": "8e9cf5ce",
   "metadata": {},
   "source": [
    "- the number of clients from Moscow is 99, from other cities - 401;\n",
    "- median and average revenue from these two categories are approximately equal: average - approx. 1,500 RUB, median - MSK 1750 RUB., regions 1464 RUB.;\n",
    "- average revenue from Moscow client is 9084 RUB, from client from the regions - 9319 RUB;\n",
    "- leading regions by revenue are: Saint-Petersburg, Novosibirsk and Ufa;\n",
    "- the dynamics of revenue shows greater growth for clients from the regions (especially in the beginning of the year), for clients from Moscow there is no clear tendency;\n",
    "- according to the hypothesis testing, we accept H0 - the average revenue for clients from Moscow is equal to the average revenue for clients from regions."
   ]
  },
  {
   "cell_type": "markdown",
   "id": "55aab9f0",
   "metadata": {},
   "source": [
    "# General conclusion"
   ]
  },
  {
   "cell_type": "markdown",
   "id": "f3819c24",
   "metadata": {},
   "source": [
    "<div style=\"border:solid green 2px; padding: 20px\">\n",
    "    \n",
    "In this project, two plans of the Megaline operator were considered: *Smart* and *Ultra*. The goal was to understand which plan brings more money to the operator in order to adjust the advertising budget based on this. The analysis was carried out using data from 500 Megaline users for 2018.  \n",
    "    \n",
    "**The main points in data preprocessing:**\n",
    "\n",
    "- date and time data to datetime format transformation;\n",
    "- min and max dates check;\n",
    "- implicit duplicates processing (transform to lowercase);\n",
    "- numeric data analysis: calls duration and internet traffic distribution;\n",
    "- transformation of calls duration and data in minutes and gigabytes respectively, rounding values;\n",
    "    \n",
    "**Some additional info for each client in dataframe editing section (by month):**\n",
    "- the number of calls made and minutes used per month;\n",
    "- the number of text messages sent per month;\n",
    "- the volume of data per month;\n",
    "- the monthly revenue from each client;\n",
    "    \n",
    "    \n",
    "**EDA highlights:**\n",
    "- Ultra clients spend more minutes, messages and Internet traffic, but barely more than the size of their package;\n",
    "- Smart clients spend less but regularly overpay for the Internet;\n",
    "- SMS are not popular among all clients (Ultra clinets rarely send more than 200 messages having 1000 included);\n",
    "- the amount of data included is sufficient for Ultra clients and too small for Smart clients;\n",
    " \n",
    "\n",
    "**Hypotheses testing**\n",
    "    \n",
    "- average revenue from Smart clients is - 1166 RUB, from Ultra clients - 2071 RUB;\n",
    "- number of Smart clients is 351, Ultra - 149 clients;\n",
    "- the median and average from Smart clients is around 1000 RUB, and it is almost twice the plan fee;\n",
    "- average revenue from Smart clients is 7399 RUB, from Ultra - 13685 RUB;\n",
    "- the dynamics of income during the year shows a faster growth for Smart clients;\n",
    "- the average revenue vary across Utra and Smart clients (5% level of significance);\n",
    "\n",
    "_________\n",
    "- the number of clients from Moscow is 99, from other cities - 401;\n",
    "- median and average revenue from these two categories are approximately equal: average - approx. 1,500 RUB, median - MSK 1750 RUB., regions 1464 RUB.;\n",
    "- average revenue from Moscow client is 9084 RUB, from client from the regions - 9319 RUB;\n",
    "- leading regions by revenue are: Saint-Petersburg, Novosibirsk and Ufa;\n",
    "- the dynamics of revenue shows greater growth for clients from the regions (especially in the beginning of the year), for clients from Moscow there is no clear tendency;\n",
    "- the average revenue for clients from Moscow is equal to the average revenue for clients from regions (5% level of significance).\n",
    "    \n",
    "    \n",
    "**Recommendations:**\n",
    "    \n",
    "Our goal was to find out which plan brings more money to adjust the advertising budget. According to the results of the analysis, the average revenue from the client is higher for the Ultra plan by 5,835 rubles, but these users rarely exceed the plan limits, and the income curve for the year has smoother growth. In addition, there are fewer such clients, which may be due to the higher cost of the tariff. Smart clients regularly overpay for the Internet, the revenue per client is less, but number of clients is larger, the income curve has a sharp increase (let’s assume that advertising companies have not yet been held). With these data, Smart is more cost-effective for the business. However, it is necessary to bear in mind that regular overpayments by users can negatively affect their attitude to the plan, so it is recommended to calculate NPS among Smart clients. According to the churn table, Ultra clients leave more often. \n",
    "    \n",
    "According to the results of the second hypothesis testing, revenues from the regions do not differ from Moscow, although the dynamics of income from clients from regions shows more growth, especially at the beginning of the year. The advertising campaign should focus on Saint Petersburg, Novosibirsk and Ufa. "
   ]
  },
  {
   "cell_type": "code",
   "execution_count": null,
   "id": "215fdf74",
   "metadata": {},
   "outputs": [],
   "source": []
  }
 ],
 "metadata": {
  "ExecuteTimeLog": [
   {
    "duration": 1492,
    "start_time": "2022-07-27T13:07:00.059Z"
   },
   {
    "duration": 4,
    "start_time": "2022-07-27T13:07:01.552Z"
   },
   {
    "duration": 11,
    "start_time": "2022-07-27T13:07:01.557Z"
   },
   {
    "duration": 1441,
    "start_time": "2022-07-27T13:07:01.569Z"
   },
   {
    "duration": 4,
    "start_time": "2022-07-27T13:07:03.012Z"
   },
   {
    "duration": 861,
    "start_time": "2022-07-27T13:07:03.017Z"
   },
   {
    "duration": 7,
    "start_time": "2022-07-27T13:07:03.880Z"
   },
   {
    "duration": 11,
    "start_time": "2022-07-27T13:07:03.888Z"
   },
   {
    "duration": 74,
    "start_time": "2022-07-27T13:07:03.900Z"
   },
   {
    "duration": 40,
    "start_time": "2022-07-27T13:07:03.976Z"
   },
   {
    "duration": 3,
    "start_time": "2022-07-27T13:07:04.018Z"
   },
   {
    "duration": 30,
    "start_time": "2022-07-27T13:07:04.022Z"
   },
   {
    "duration": 4,
    "start_time": "2022-07-27T13:07:04.053Z"
   },
   {
    "duration": 9,
    "start_time": "2022-07-27T13:07:04.060Z"
   },
   {
    "duration": 417,
    "start_time": "2022-07-27T13:07:04.070Z"
   },
   {
    "duration": 12,
    "start_time": "2022-07-27T13:07:04.489Z"
   },
   {
    "duration": 356,
    "start_time": "2022-07-27T13:07:04.502Z"
   },
   {
    "duration": 3,
    "start_time": "2022-07-27T13:07:04.859Z"
   },
   {
    "duration": 19,
    "start_time": "2022-07-27T13:07:04.863Z"
   },
   {
    "duration": 51,
    "start_time": "2022-07-27T13:07:04.883Z"
   },
   {
    "duration": 50,
    "start_time": "2022-07-27T13:07:04.936Z"
   },
   {
    "duration": 52,
    "start_time": "2022-07-27T13:07:04.988Z"
   },
   {
    "duration": 40,
    "start_time": "2022-07-27T13:07:05.053Z"
   },
   {
    "duration": 25,
    "start_time": "2022-07-27T13:07:05.095Z"
   },
   {
    "duration": 32,
    "start_time": "2022-07-27T13:07:05.122Z"
   },
   {
    "duration": 29,
    "start_time": "2022-07-27T13:07:05.156Z"
   },
   {
    "duration": 9,
    "start_time": "2022-07-27T13:07:05.187Z"
   },
   {
    "duration": 21,
    "start_time": "2022-07-27T13:07:05.197Z"
   },
   {
    "duration": 37,
    "start_time": "2022-07-27T13:07:05.220Z"
   },
   {
    "duration": 5,
    "start_time": "2022-07-27T13:07:05.258Z"
   },
   {
    "duration": 111,
    "start_time": "2022-07-27T13:07:05.264Z"
   },
   {
    "duration": 9,
    "start_time": "2022-07-27T13:07:05.377Z"
   },
   {
    "duration": 17,
    "start_time": "2022-07-27T13:07:05.387Z"
   },
   {
    "duration": 591,
    "start_time": "2022-07-27T13:07:05.406Z"
   },
   {
    "duration": 21,
    "start_time": "2022-07-27T13:07:05.999Z"
   },
   {
    "duration": 453,
    "start_time": "2022-07-27T13:07:06.022Z"
   },
   {
    "duration": 17,
    "start_time": "2022-07-27T13:07:06.477Z"
   },
   {
    "duration": 476,
    "start_time": "2022-07-27T13:07:06.495Z"
   },
   {
    "duration": 10,
    "start_time": "2022-07-27T13:07:06.973Z"
   },
   {
    "duration": 15,
    "start_time": "2022-07-27T13:07:06.984Z"
   },
   {
    "duration": 404,
    "start_time": "2022-07-27T13:07:07.003Z"
   },
   {
    "duration": 7,
    "start_time": "2022-07-27T13:07:07.408Z"
   },
   {
    "duration": 10,
    "start_time": "2022-07-27T13:07:07.416Z"
   },
   {
    "duration": 620,
    "start_time": "2022-07-27T13:07:07.427Z"
   },
   {
    "duration": 4,
    "start_time": "2022-07-27T13:07:08.049Z"
   },
   {
    "duration": 39,
    "start_time": "2022-07-27T13:07:08.055Z"
   },
   {
    "duration": 9,
    "start_time": "2022-07-27T13:07:08.095Z"
   },
   {
    "duration": 8,
    "start_time": "2022-07-27T13:07:08.105Z"
   },
   {
    "duration": 18,
    "start_time": "2022-07-27T13:07:08.114Z"
   },
   {
    "duration": 409,
    "start_time": "2022-07-27T13:07:08.133Z"
   },
   {
    "duration": 656,
    "start_time": "2022-07-27T13:07:08.543Z"
   },
   {
    "duration": 313,
    "start_time": "2022-07-27T13:07:09.200Z"
   },
   {
    "duration": 7,
    "start_time": "2022-07-27T13:07:09.514Z"
   },
   {
    "duration": 14,
    "start_time": "2022-07-27T13:07:09.522Z"
   },
   {
    "duration": 31,
    "start_time": "2022-07-27T13:19:59.564Z"
   },
   {
    "duration": 4,
    "start_time": "2022-07-27T13:22:05.821Z"
   },
   {
    "duration": 13,
    "start_time": "2022-07-27T13:22:36.445Z"
   },
   {
    "duration": 16,
    "start_time": "2022-07-27T13:53:49.985Z"
   },
   {
    "duration": 17,
    "start_time": "2022-07-27T13:54:16.748Z"
   },
   {
    "duration": 1428,
    "start_time": "2022-07-27T14:28:25.044Z"
   },
   {
    "duration": 3,
    "start_time": "2022-07-27T14:28:26.474Z"
   },
   {
    "duration": 8,
    "start_time": "2022-07-27T14:28:26.478Z"
   },
   {
    "duration": 399,
    "start_time": "2022-07-27T14:28:26.488Z"
   },
   {
    "duration": 5,
    "start_time": "2022-07-27T14:28:26.889Z"
   },
   {
    "duration": 1007,
    "start_time": "2022-07-27T14:28:26.896Z"
   },
   {
    "duration": 7,
    "start_time": "2022-07-27T14:28:27.905Z"
   },
   {
    "duration": 13,
    "start_time": "2022-07-27T14:28:27.914Z"
   },
   {
    "duration": 65,
    "start_time": "2022-07-27T14:28:27.952Z"
   },
   {
    "duration": 58,
    "start_time": "2022-07-27T14:28:28.019Z"
   },
   {
    "duration": 2,
    "start_time": "2022-07-27T14:28:28.078Z"
   },
   {
    "duration": 15,
    "start_time": "2022-07-27T14:28:28.082Z"
   },
   {
    "duration": 4,
    "start_time": "2022-07-27T14:28:28.098Z"
   },
   {
    "duration": 10,
    "start_time": "2022-07-27T14:28:28.103Z"
   },
   {
    "duration": 383,
    "start_time": "2022-07-27T14:28:28.115Z"
   },
   {
    "duration": 13,
    "start_time": "2022-07-27T14:28:28.500Z"
   },
   {
    "duration": 348,
    "start_time": "2022-07-27T14:28:28.515Z"
   },
   {
    "duration": 3,
    "start_time": "2022-07-27T14:28:28.864Z"
   },
   {
    "duration": 12,
    "start_time": "2022-07-27T14:28:28.868Z"
   },
   {
    "duration": 49,
    "start_time": "2022-07-27T14:28:28.881Z"
   },
   {
    "duration": 49,
    "start_time": "2022-07-27T14:28:28.931Z"
   },
   {
    "duration": 52,
    "start_time": "2022-07-27T14:28:28.981Z"
   },
   {
    "duration": 42,
    "start_time": "2022-07-27T14:28:29.034Z"
   },
   {
    "duration": 23,
    "start_time": "2022-07-27T14:28:29.077Z"
   },
   {
    "duration": 11,
    "start_time": "2022-07-27T14:28:29.101Z"
   },
   {
    "duration": 52,
    "start_time": "2022-07-27T14:28:29.113Z"
   },
   {
    "duration": 8,
    "start_time": "2022-07-27T14:28:29.166Z"
   },
   {
    "duration": 14,
    "start_time": "2022-07-27T14:28:29.177Z"
   },
   {
    "duration": 22,
    "start_time": "2022-07-27T14:28:29.192Z"
   },
   {
    "duration": 4,
    "start_time": "2022-07-27T14:28:29.215Z"
   },
   {
    "duration": 123,
    "start_time": "2022-07-27T14:28:29.221Z"
   },
   {
    "duration": 12,
    "start_time": "2022-07-27T14:28:29.345Z"
   },
   {
    "duration": 16,
    "start_time": "2022-07-27T14:28:29.358Z"
   },
   {
    "duration": 567,
    "start_time": "2022-07-27T14:28:29.375Z"
   },
   {
    "duration": 16,
    "start_time": "2022-07-27T14:28:29.944Z"
   },
   {
    "duration": 438,
    "start_time": "2022-07-27T14:28:29.961Z"
   },
   {
    "duration": 16,
    "start_time": "2022-07-27T14:28:30.400Z"
   },
   {
    "duration": 1505,
    "start_time": "2022-07-27T17:40:01.563Z"
   },
   {
    "duration": 5,
    "start_time": "2022-07-27T17:40:03.069Z"
   },
   {
    "duration": 6,
    "start_time": "2022-07-27T17:40:03.075Z"
   },
   {
    "duration": 1092,
    "start_time": "2022-07-27T17:40:03.082Z"
   },
   {
    "duration": 5,
    "start_time": "2022-07-27T17:40:04.175Z"
   },
   {
    "duration": 1002,
    "start_time": "2022-07-27T17:40:04.181Z"
   },
   {
    "duration": 6,
    "start_time": "2022-07-27T17:40:05.185Z"
   },
   {
    "duration": 9,
    "start_time": "2022-07-27T17:40:05.193Z"
   },
   {
    "duration": 64,
    "start_time": "2022-07-27T17:40:14.963Z"
   },
   {
    "duration": 68,
    "start_time": "2022-07-27T17:41:52.284Z"
   },
   {
    "duration": 13,
    "start_time": "2022-07-27T17:42:00.402Z"
   },
   {
    "duration": 18,
    "start_time": "2022-07-27T17:44:01.754Z"
   },
   {
    "duration": 101,
    "start_time": "2022-07-27T17:46:06.375Z"
   },
   {
    "duration": 22,
    "start_time": "2022-07-27T17:46:33.163Z"
   },
   {
    "duration": 6,
    "start_time": "2022-07-27T17:46:41.452Z"
   },
   {
    "duration": 14,
    "start_time": "2022-07-27T17:46:41.462Z"
   },
   {
    "duration": 6,
    "start_time": "2022-07-27T17:46:41.477Z"
   },
   {
    "duration": 387,
    "start_time": "2022-07-27T17:46:41.484Z"
   },
   {
    "duration": 4,
    "start_time": "2022-07-27T17:46:41.873Z"
   },
   {
    "duration": 989,
    "start_time": "2022-07-27T17:46:41.878Z"
   },
   {
    "duration": 6,
    "start_time": "2022-07-27T17:46:42.869Z"
   },
   {
    "duration": 10,
    "start_time": "2022-07-27T17:46:42.877Z"
   },
   {
    "duration": 79,
    "start_time": "2022-07-27T17:46:42.889Z"
   },
   {
    "duration": 43,
    "start_time": "2022-07-27T17:46:42.969Z"
   },
   {
    "duration": 2,
    "start_time": "2022-07-27T17:46:43.013Z"
   },
   {
    "duration": 13,
    "start_time": "2022-07-27T17:46:43.017Z"
   },
   {
    "duration": 4,
    "start_time": "2022-07-27T17:46:43.032Z"
   },
   {
    "duration": 18,
    "start_time": "2022-07-27T17:46:43.054Z"
   },
   {
    "duration": 411,
    "start_time": "2022-07-27T17:46:43.073Z"
   },
   {
    "duration": 13,
    "start_time": "2022-07-27T17:46:43.485Z"
   },
   {
    "duration": 376,
    "start_time": "2022-07-27T17:46:43.499Z"
   },
   {
    "duration": 9,
    "start_time": "2022-07-27T17:46:43.877Z"
   },
   {
    "duration": 46,
    "start_time": "2022-07-27T17:46:43.887Z"
   },
   {
    "duration": 53,
    "start_time": "2022-07-27T17:46:43.934Z"
   },
   {
    "duration": 53,
    "start_time": "2022-07-27T17:46:58.351Z"
   },
   {
    "duration": 3,
    "start_time": "2022-07-27T17:47:12.846Z"
   },
   {
    "duration": 12,
    "start_time": "2022-07-27T17:47:19.028Z"
   },
   {
    "duration": 13,
    "start_time": "2022-07-27T17:47:25.823Z"
   },
   {
    "duration": 22,
    "start_time": "2022-07-27T17:47:29.342Z"
   },
   {
    "duration": 54,
    "start_time": "2022-07-27T17:47:47.587Z"
   },
   {
    "duration": 55,
    "start_time": "2022-07-27T17:47:57.150Z"
   },
   {
    "duration": 48,
    "start_time": "2022-07-27T17:49:49.784Z"
   },
   {
    "duration": 51,
    "start_time": "2022-07-27T17:49:57.404Z"
   },
   {
    "duration": 39,
    "start_time": "2022-07-27T17:50:10.126Z"
   },
   {
    "duration": 27,
    "start_time": "2022-07-27T17:50:29.567Z"
   },
   {
    "duration": 30,
    "start_time": "2022-07-27T17:50:35.096Z"
   },
   {
    "duration": 31,
    "start_time": "2022-07-27T17:50:47.456Z"
   },
   {
    "duration": 15,
    "start_time": "2022-07-27T17:50:52.364Z"
   },
   {
    "duration": 1295,
    "start_time": "2022-07-27T17:51:23.952Z"
   },
   {
    "duration": 9,
    "start_time": "2022-07-27T17:51:25.249Z"
   },
   {
    "duration": 13,
    "start_time": "2022-07-27T17:51:25.259Z"
   },
   {
    "duration": 400,
    "start_time": "2022-07-27T17:51:25.274Z"
   },
   {
    "duration": 5,
    "start_time": "2022-07-27T17:51:25.676Z"
   },
   {
    "duration": 1241,
    "start_time": "2022-07-27T17:51:25.683Z"
   },
   {
    "duration": 8,
    "start_time": "2022-07-27T17:51:26.926Z"
   },
   {
    "duration": 28,
    "start_time": "2022-07-27T17:51:26.935Z"
   },
   {
    "duration": 78,
    "start_time": "2022-07-27T17:51:26.965Z"
   },
   {
    "duration": 60,
    "start_time": "2022-07-27T17:51:27.046Z"
   },
   {
    "duration": 3,
    "start_time": "2022-07-27T17:51:27.108Z"
   },
   {
    "duration": 15,
    "start_time": "2022-07-27T17:51:27.112Z"
   },
   {
    "duration": 5,
    "start_time": "2022-07-27T17:51:27.128Z"
   },
   {
    "duration": 17,
    "start_time": "2022-07-27T17:51:27.153Z"
   },
   {
    "duration": 417,
    "start_time": "2022-07-27T17:51:27.171Z"
   },
   {
    "duration": 14,
    "start_time": "2022-07-27T17:51:27.590Z"
   },
   {
    "duration": 389,
    "start_time": "2022-07-27T17:51:27.606Z"
   },
   {
    "duration": 10,
    "start_time": "2022-07-27T17:51:27.997Z"
   },
   {
    "duration": 69,
    "start_time": "2022-07-27T17:51:28.010Z"
   },
   {
    "duration": 46,
    "start_time": "2022-07-27T17:51:28.082Z"
   },
   {
    "duration": 85,
    "start_time": "2022-07-27T17:51:28.129Z"
   },
   {
    "duration": 45,
    "start_time": "2022-07-27T17:51:28.215Z"
   },
   {
    "duration": 30,
    "start_time": "2022-07-27T17:51:28.265Z"
   },
   {
    "duration": 12,
    "start_time": "2022-07-27T17:51:28.297Z"
   },
   {
    "duration": 121,
    "start_time": "2022-07-27T17:51:35.668Z"
   },
   {
    "duration": 1510,
    "start_time": "2022-07-28T06:14:27.033Z"
   },
   {
    "duration": 4,
    "start_time": "2022-07-28T06:14:28.545Z"
   },
   {
    "duration": 10,
    "start_time": "2022-07-28T06:14:28.551Z"
   },
   {
    "duration": 1537,
    "start_time": "2022-07-28T06:14:28.563Z"
   },
   {
    "duration": 6,
    "start_time": "2022-07-28T06:14:30.102Z"
   },
   {
    "duration": 1187,
    "start_time": "2022-07-28T06:14:30.110Z"
   },
   {
    "duration": 8,
    "start_time": "2022-07-28T06:14:31.324Z"
   },
   {
    "duration": 17,
    "start_time": "2022-07-28T06:14:31.334Z"
   },
   {
    "duration": 85,
    "start_time": "2022-07-28T06:14:31.353Z"
   },
   {
    "duration": 54,
    "start_time": "2022-07-28T06:14:31.442Z"
   },
   {
    "duration": 26,
    "start_time": "2022-07-28T06:14:31.498Z"
   },
   {
    "duration": 19,
    "start_time": "2022-07-28T06:14:31.527Z"
   },
   {
    "duration": 5,
    "start_time": "2022-07-28T06:14:31.548Z"
   },
   {
    "duration": 14,
    "start_time": "2022-07-28T06:14:31.555Z"
   },
   {
    "duration": 457,
    "start_time": "2022-07-28T06:14:31.571Z"
   },
   {
    "duration": 14,
    "start_time": "2022-07-28T06:14:32.030Z"
   },
   {
    "duration": 405,
    "start_time": "2022-07-28T06:14:32.046Z"
   },
   {
    "duration": 11,
    "start_time": "2022-07-28T06:14:32.453Z"
   },
   {
    "duration": 73,
    "start_time": "2022-07-28T06:14:32.466Z"
   },
   {
    "duration": 38,
    "start_time": "2022-07-28T06:14:32.540Z"
   },
   {
    "duration": 84,
    "start_time": "2022-07-28T06:14:32.579Z"
   },
   {
    "duration": 32,
    "start_time": "2022-07-28T06:14:32.665Z"
   },
   {
    "duration": 43,
    "start_time": "2022-07-28T06:14:32.699Z"
   },
   {
    "duration": 14,
    "start_time": "2022-07-28T06:14:32.744Z"
   },
   {
    "duration": 35,
    "start_time": "2022-07-28T06:14:32.759Z"
   },
   {
    "duration": 34,
    "start_time": "2022-07-28T06:14:32.795Z"
   },
   {
    "duration": 18,
    "start_time": "2022-07-28T06:14:32.831Z"
   },
   {
    "duration": 25,
    "start_time": "2022-07-28T06:14:32.852Z"
   },
   {
    "duration": 4,
    "start_time": "2022-07-28T06:14:32.879Z"
   },
   {
    "duration": 131,
    "start_time": "2022-07-28T06:14:32.885Z"
   },
   {
    "duration": 12,
    "start_time": "2022-07-28T06:14:33.018Z"
   },
   {
    "duration": 20,
    "start_time": "2022-07-28T06:14:33.032Z"
   },
   {
    "duration": 640,
    "start_time": "2022-07-28T06:14:33.054Z"
   },
   {
    "duration": 18,
    "start_time": "2022-07-28T06:14:33.696Z"
   },
   {
    "duration": 476,
    "start_time": "2022-07-28T06:14:33.715Z"
   },
   {
    "duration": 29,
    "start_time": "2022-07-28T06:14:34.193Z"
   },
   {
    "duration": 533,
    "start_time": "2022-07-28T06:14:34.224Z"
   },
   {
    "duration": 10,
    "start_time": "2022-07-28T06:14:34.758Z"
   },
   {
    "duration": 18,
    "start_time": "2022-07-28T06:14:34.769Z"
   },
   {
    "duration": 425,
    "start_time": "2022-07-28T06:14:34.789Z"
   },
   {
    "duration": 10,
    "start_time": "2022-07-28T06:14:35.216Z"
   },
   {
    "duration": 22,
    "start_time": "2022-07-28T06:14:35.227Z"
   },
   {
    "duration": 752,
    "start_time": "2022-07-28T06:14:35.250Z"
   },
   {
    "duration": 5,
    "start_time": "2022-07-28T06:14:36.004Z"
   },
   {
    "duration": 51,
    "start_time": "2022-07-28T06:14:36.011Z"
   },
   {
    "duration": 23,
    "start_time": "2022-07-28T06:14:36.064Z"
   },
   {
    "duration": 8,
    "start_time": "2022-07-28T06:14:36.089Z"
   },
   {
    "duration": 56,
    "start_time": "2022-07-28T06:14:36.099Z"
   },
   {
    "duration": 450,
    "start_time": "2022-07-28T06:14:36.157Z"
   },
   {
    "duration": 712,
    "start_time": "2022-07-28T06:14:36.609Z"
   },
   {
    "duration": 364,
    "start_time": "2022-07-28T06:14:37.323Z"
   },
   {
    "duration": 7,
    "start_time": "2022-07-28T06:14:37.688Z"
   },
   {
    "duration": 9,
    "start_time": "2022-07-28T06:14:37.697Z"
   },
   {
    "duration": 36,
    "start_time": "2022-07-28T06:17:24.437Z"
   },
   {
    "duration": 11,
    "start_time": "2022-07-28T06:17:28.784Z"
   },
   {
    "duration": 11,
    "start_time": "2022-07-28T06:19:51.866Z"
   },
   {
    "duration": 1316,
    "start_time": "2022-07-28T06:20:04.478Z"
   },
   {
    "duration": 4,
    "start_time": "2022-07-28T06:20:05.797Z"
   },
   {
    "duration": 12,
    "start_time": "2022-07-28T06:20:05.802Z"
   },
   {
    "duration": 452,
    "start_time": "2022-07-28T06:20:05.815Z"
   },
   {
    "duration": 5,
    "start_time": "2022-07-28T06:20:06.269Z"
   },
   {
    "duration": 1123,
    "start_time": "2022-07-28T06:20:06.276Z"
   },
   {
    "duration": 9,
    "start_time": "2022-07-28T06:20:07.423Z"
   },
   {
    "duration": 15,
    "start_time": "2022-07-28T06:20:07.434Z"
   },
   {
    "duration": 75,
    "start_time": "2022-07-28T06:20:07.451Z"
   },
   {
    "duration": 51,
    "start_time": "2022-07-28T06:20:07.527Z"
   },
   {
    "duration": 2,
    "start_time": "2022-07-28T06:20:07.580Z"
   },
   {
    "duration": 17,
    "start_time": "2022-07-28T06:20:07.584Z"
   },
   {
    "duration": 5,
    "start_time": "2022-07-28T06:20:07.624Z"
   },
   {
    "duration": 11,
    "start_time": "2022-07-28T06:20:07.633Z"
   },
   {
    "duration": 403,
    "start_time": "2022-07-28T06:20:07.646Z"
   },
   {
    "duration": 15,
    "start_time": "2022-07-28T06:20:08.050Z"
   },
   {
    "duration": 391,
    "start_time": "2022-07-28T06:20:08.067Z"
   },
   {
    "duration": 11,
    "start_time": "2022-07-28T06:20:08.461Z"
   },
   {
    "duration": 67,
    "start_time": "2022-07-28T06:20:08.474Z"
   },
   {
    "duration": 36,
    "start_time": "2022-07-28T06:20:08.543Z"
   },
   {
    "duration": 81,
    "start_time": "2022-07-28T06:20:08.581Z"
   },
   {
    "duration": 33,
    "start_time": "2022-07-28T06:20:08.663Z"
   },
   {
    "duration": 46,
    "start_time": "2022-07-28T06:20:08.698Z"
   },
   {
    "duration": 14,
    "start_time": "2022-07-28T06:20:08.746Z"
   },
   {
    "duration": 73,
    "start_time": "2022-07-28T06:20:08.762Z"
   },
   {
    "duration": 18,
    "start_time": "2022-07-28T06:20:08.837Z"
   },
   {
    "duration": 28,
    "start_time": "2022-07-28T06:20:20.838Z"
   },
   {
    "duration": 16,
    "start_time": "2022-07-28T06:20:23.611Z"
   },
   {
    "duration": 1463,
    "start_time": "2022-07-28T06:20:57.062Z"
   },
   {
    "duration": 4,
    "start_time": "2022-07-28T06:20:58.527Z"
   },
   {
    "duration": 27,
    "start_time": "2022-07-28T06:20:58.533Z"
   },
   {
    "duration": 462,
    "start_time": "2022-07-28T06:20:58.562Z"
   },
   {
    "duration": 8,
    "start_time": "2022-07-28T06:20:59.028Z"
   },
   {
    "duration": 1139,
    "start_time": "2022-07-28T06:20:59.038Z"
   },
   {
    "duration": 8,
    "start_time": "2022-07-28T06:21:00.179Z"
   },
   {
    "duration": 39,
    "start_time": "2022-07-28T06:21:00.189Z"
   },
   {
    "duration": 73,
    "start_time": "2022-07-28T06:21:00.230Z"
   },
   {
    "duration": 69,
    "start_time": "2022-07-28T06:21:00.305Z"
   },
   {
    "duration": 2,
    "start_time": "2022-07-28T06:21:00.376Z"
   },
   {
    "duration": 15,
    "start_time": "2022-07-28T06:21:00.380Z"
   },
   {
    "duration": 29,
    "start_time": "2022-07-28T06:21:00.397Z"
   },
   {
    "duration": 37,
    "start_time": "2022-07-28T06:21:00.429Z"
   },
   {
    "duration": 408,
    "start_time": "2022-07-28T06:21:00.467Z"
   },
   {
    "duration": 14,
    "start_time": "2022-07-28T06:21:00.877Z"
   },
   {
    "duration": 381,
    "start_time": "2022-07-28T06:21:00.893Z"
   },
   {
    "duration": 10,
    "start_time": "2022-07-28T06:21:01.276Z"
   },
   {
    "duration": 73,
    "start_time": "2022-07-28T06:21:01.288Z"
   },
   {
    "duration": 41,
    "start_time": "2022-07-28T06:21:01.363Z"
   },
   {
    "duration": 66,
    "start_time": "2022-07-28T06:21:01.424Z"
   },
   {
    "duration": 56,
    "start_time": "2022-07-28T06:21:01.492Z"
   },
   {
    "duration": 28,
    "start_time": "2022-07-28T06:21:01.549Z"
   },
   {
    "duration": 33,
    "start_time": "2022-07-28T06:21:01.579Z"
   },
   {
    "duration": 54,
    "start_time": "2022-07-28T06:21:01.614Z"
   },
   {
    "duration": 11,
    "start_time": "2022-07-28T06:21:01.670Z"
   },
   {
    "duration": 17,
    "start_time": "2022-07-28T06:21:04.827Z"
   },
   {
    "duration": 11,
    "start_time": "2022-07-28T06:21:07.748Z"
   },
   {
    "duration": 18,
    "start_time": "2022-07-28T06:23:36.315Z"
   },
   {
    "duration": 1270,
    "start_time": "2022-07-28T06:24:30.378Z"
   },
   {
    "duration": 5,
    "start_time": "2022-07-28T06:24:31.650Z"
   },
   {
    "duration": 6,
    "start_time": "2022-07-28T06:24:31.656Z"
   },
   {
    "duration": 429,
    "start_time": "2022-07-28T06:24:31.664Z"
   },
   {
    "duration": 6,
    "start_time": "2022-07-28T06:24:32.096Z"
   },
   {
    "duration": 1158,
    "start_time": "2022-07-28T06:24:32.104Z"
   },
   {
    "duration": 8,
    "start_time": "2022-07-28T06:24:33.263Z"
   },
   {
    "duration": 28,
    "start_time": "2022-07-28T06:24:33.273Z"
   },
   {
    "duration": 86,
    "start_time": "2022-07-28T06:24:33.302Z"
   },
   {
    "duration": 58,
    "start_time": "2022-07-28T06:24:33.390Z"
   },
   {
    "duration": 6,
    "start_time": "2022-07-28T06:24:33.450Z"
   },
   {
    "duration": 47,
    "start_time": "2022-07-28T06:24:33.458Z"
   },
   {
    "duration": 29,
    "start_time": "2022-07-28T06:24:33.507Z"
   },
   {
    "duration": 31,
    "start_time": "2022-07-28T06:24:33.539Z"
   },
   {
    "duration": 405,
    "start_time": "2022-07-28T06:24:33.572Z"
   },
   {
    "duration": 14,
    "start_time": "2022-07-28T06:24:33.979Z"
   },
   {
    "duration": 378,
    "start_time": "2022-07-28T06:24:33.995Z"
   },
   {
    "duration": 11,
    "start_time": "2022-07-28T06:24:34.375Z"
   },
   {
    "duration": 91,
    "start_time": "2022-07-28T06:24:34.388Z"
   },
   {
    "duration": 44,
    "start_time": "2022-07-28T06:24:34.481Z"
   },
   {
    "duration": 59,
    "start_time": "2022-07-28T06:24:34.527Z"
   },
   {
    "duration": 48,
    "start_time": "2022-07-28T06:24:34.587Z"
   },
   {
    "duration": 30,
    "start_time": "2022-07-28T06:24:34.637Z"
   },
   {
    "duration": 36,
    "start_time": "2022-07-28T06:24:34.669Z"
   },
   {
    "duration": 59,
    "start_time": "2022-07-28T06:24:34.708Z"
   },
   {
    "duration": 10,
    "start_time": "2022-07-28T06:24:34.769Z"
   },
   {
    "duration": 19,
    "start_time": "2022-07-28T06:24:40.083Z"
   },
   {
    "duration": 12,
    "start_time": "2022-07-28T06:25:42.805Z"
   },
   {
    "duration": 12,
    "start_time": "2022-07-28T06:27:39.802Z"
   },
   {
    "duration": 25,
    "start_time": "2022-07-28T06:28:28.561Z"
   },
   {
    "duration": 4,
    "start_time": "2022-07-28T06:28:56.524Z"
   },
   {
    "duration": 107,
    "start_time": "2022-07-28T06:29:01.190Z"
   },
   {
    "duration": 5,
    "start_time": "2022-07-28T06:29:12.004Z"
   },
   {
    "duration": 5,
    "start_time": "2022-07-28T06:29:58.289Z"
   },
   {
    "duration": 4,
    "start_time": "2022-07-28T06:31:08.318Z"
   },
   {
    "duration": 20,
    "start_time": "2022-07-28T06:33:53.805Z"
   },
   {
    "duration": 22,
    "start_time": "2022-07-28T06:33:59.607Z"
   },
   {
    "duration": 1273,
    "start_time": "2022-07-28T06:34:25.749Z"
   },
   {
    "duration": 4,
    "start_time": "2022-07-28T06:34:27.025Z"
   },
   {
    "duration": 16,
    "start_time": "2022-07-28T06:34:27.031Z"
   },
   {
    "duration": 436,
    "start_time": "2022-07-28T06:34:27.048Z"
   },
   {
    "duration": 5,
    "start_time": "2022-07-28T06:34:27.486Z"
   },
   {
    "duration": 1181,
    "start_time": "2022-07-28T06:34:27.493Z"
   },
   {
    "duration": 8,
    "start_time": "2022-07-28T06:34:28.676Z"
   },
   {
    "duration": 11,
    "start_time": "2022-07-28T06:34:28.685Z"
   },
   {
    "duration": 93,
    "start_time": "2022-07-28T06:34:28.698Z"
   },
   {
    "duration": 69,
    "start_time": "2022-07-28T06:34:28.794Z"
   },
   {
    "duration": 4,
    "start_time": "2022-07-28T06:34:28.865Z"
   },
   {
    "duration": 20,
    "start_time": "2022-07-28T06:34:28.871Z"
   },
   {
    "duration": 9,
    "start_time": "2022-07-28T06:34:28.893Z"
   },
   {
    "duration": 14,
    "start_time": "2022-07-28T06:34:28.925Z"
   },
   {
    "duration": 481,
    "start_time": "2022-07-28T06:34:28.942Z"
   },
   {
    "duration": 15,
    "start_time": "2022-07-28T06:34:29.425Z"
   },
   {
    "duration": 426,
    "start_time": "2022-07-28T06:34:29.442Z"
   },
   {
    "duration": 12,
    "start_time": "2022-07-28T06:34:29.870Z"
   },
   {
    "duration": 71,
    "start_time": "2022-07-28T06:34:29.884Z"
   },
   {
    "duration": 41,
    "start_time": "2022-07-28T06:34:29.956Z"
   },
   {
    "duration": 80,
    "start_time": "2022-07-28T06:34:29.999Z"
   },
   {
    "duration": 44,
    "start_time": "2022-07-28T06:34:30.081Z"
   },
   {
    "duration": 27,
    "start_time": "2022-07-28T06:34:30.127Z"
   },
   {
    "duration": 20,
    "start_time": "2022-07-28T06:34:30.156Z"
   },
   {
    "duration": 49,
    "start_time": "2022-07-28T06:34:30.178Z"
   },
   {
    "duration": 10,
    "start_time": "2022-07-28T06:34:30.229Z"
   },
   {
    "duration": 38,
    "start_time": "2022-07-28T06:34:30.240Z"
   },
   {
    "duration": 20,
    "start_time": "2022-07-28T06:34:30.281Z"
   },
   {
    "duration": 18,
    "start_time": "2022-07-28T06:34:30.302Z"
   },
   {
    "duration": 35,
    "start_time": "2022-07-28T06:34:30.321Z"
   },
   {
    "duration": 4,
    "start_time": "2022-07-28T06:34:30.358Z"
   },
   {
    "duration": 128,
    "start_time": "2022-07-28T06:34:30.364Z"
   },
   {
    "duration": 9,
    "start_time": "2022-07-28T06:34:30.494Z"
   },
   {
    "duration": 51,
    "start_time": "2022-07-28T06:34:30.505Z"
   },
   {
    "duration": 648,
    "start_time": "2022-07-28T06:34:30.558Z"
   },
   {
    "duration": 18,
    "start_time": "2022-07-28T06:34:31.208Z"
   },
   {
    "duration": 552,
    "start_time": "2022-07-28T06:34:31.227Z"
   },
   {
    "duration": 19,
    "start_time": "2022-07-28T06:34:31.780Z"
   },
   {
    "duration": 568,
    "start_time": "2022-07-28T06:34:31.800Z"
   },
   {
    "duration": 11,
    "start_time": "2022-07-28T06:34:32.370Z"
   },
   {
    "duration": 40,
    "start_time": "2022-07-28T06:34:32.383Z"
   },
   {
    "duration": 443,
    "start_time": "2022-07-28T06:34:32.425Z"
   },
   {
    "duration": 7,
    "start_time": "2022-07-28T06:34:32.870Z"
   },
   {
    "duration": 30,
    "start_time": "2022-07-28T06:34:32.878Z"
   },
   {
    "duration": 789,
    "start_time": "2022-07-28T06:34:32.910Z"
   },
   {
    "duration": 7,
    "start_time": "2022-07-28T06:34:33.700Z"
   },
   {
    "duration": 72,
    "start_time": "2022-07-28T06:34:33.708Z"
   },
   {
    "duration": 10,
    "start_time": "2022-07-28T06:34:33.782Z"
   },
   {
    "duration": 26,
    "start_time": "2022-07-28T06:34:33.794Z"
   },
   {
    "duration": 52,
    "start_time": "2022-07-28T06:34:33.822Z"
   },
   {
    "duration": 458,
    "start_time": "2022-07-28T06:34:33.876Z"
   },
   {
    "duration": 725,
    "start_time": "2022-07-28T06:34:34.336Z"
   },
   {
    "duration": 368,
    "start_time": "2022-07-28T06:34:35.063Z"
   },
   {
    "duration": 6,
    "start_time": "2022-07-28T06:34:35.433Z"
   },
   {
    "duration": 22,
    "start_time": "2022-07-28T06:34:35.441Z"
   },
   {
    "duration": 1373,
    "start_time": "2022-07-28T06:36:48.109Z"
   },
   {
    "duration": 4,
    "start_time": "2022-07-28T06:36:49.484Z"
   },
   {
    "duration": 13,
    "start_time": "2022-07-28T06:36:49.489Z"
   },
   {
    "duration": 426,
    "start_time": "2022-07-28T06:36:49.504Z"
   },
   {
    "duration": 5,
    "start_time": "2022-07-28T06:36:49.932Z"
   },
   {
    "duration": 1104,
    "start_time": "2022-07-28T06:36:49.939Z"
   },
   {
    "duration": 9,
    "start_time": "2022-07-28T06:36:51.045Z"
   },
   {
    "duration": 10,
    "start_time": "2022-07-28T06:36:51.055Z"
   },
   {
    "duration": 95,
    "start_time": "2022-07-28T06:36:51.067Z"
   },
   {
    "duration": 65,
    "start_time": "2022-07-28T06:36:51.166Z"
   },
   {
    "duration": 3,
    "start_time": "2022-07-28T06:36:51.233Z"
   },
   {
    "duration": 21,
    "start_time": "2022-07-28T06:36:51.238Z"
   },
   {
    "duration": 16,
    "start_time": "2022-07-28T06:36:51.261Z"
   },
   {
    "duration": 21,
    "start_time": "2022-07-28T06:36:51.279Z"
   },
   {
    "duration": 375,
    "start_time": "2022-07-28T06:36:51.302Z"
   },
   {
    "duration": 15,
    "start_time": "2022-07-28T06:36:51.679Z"
   },
   {
    "duration": 367,
    "start_time": "2022-07-28T06:36:51.697Z"
   },
   {
    "duration": 16,
    "start_time": "2022-07-28T06:36:52.066Z"
   },
   {
    "duration": 64,
    "start_time": "2022-07-28T06:36:52.085Z"
   },
   {
    "duration": 37,
    "start_time": "2022-07-28T06:36:52.151Z"
   },
   {
    "duration": 76,
    "start_time": "2022-07-28T06:36:52.189Z"
   },
   {
    "duration": 28,
    "start_time": "2022-07-28T06:36:52.267Z"
   },
   {
    "duration": 45,
    "start_time": "2022-07-28T06:36:52.296Z"
   },
   {
    "duration": 14,
    "start_time": "2022-07-28T06:36:52.343Z"
   },
   {
    "duration": 33,
    "start_time": "2022-07-28T06:37:00.202Z"
   },
   {
    "duration": 13,
    "start_time": "2022-07-28T06:37:46.428Z"
   },
   {
    "duration": 9,
    "start_time": "2022-07-28T06:37:54.666Z"
   },
   {
    "duration": 10,
    "start_time": "2022-07-28T06:38:03.398Z"
   },
   {
    "duration": 8,
    "start_time": "2022-07-28T06:38:07.603Z"
   },
   {
    "duration": 1246,
    "start_time": "2022-07-28T06:38:20.441Z"
   },
   {
    "duration": 3,
    "start_time": "2022-07-28T06:38:21.689Z"
   },
   {
    "duration": 8,
    "start_time": "2022-07-28T06:38:21.694Z"
   },
   {
    "duration": 412,
    "start_time": "2022-07-28T06:38:21.703Z"
   },
   {
    "duration": 5,
    "start_time": "2022-07-28T06:38:22.117Z"
   },
   {
    "duration": 1102,
    "start_time": "2022-07-28T06:38:22.124Z"
   },
   {
    "duration": 7,
    "start_time": "2022-07-28T06:38:23.228Z"
   },
   {
    "duration": 16,
    "start_time": "2022-07-28T06:38:23.236Z"
   },
   {
    "duration": 82,
    "start_time": "2022-07-28T06:38:23.253Z"
   },
   {
    "duration": 50,
    "start_time": "2022-07-28T06:38:23.337Z"
   },
   {
    "duration": 3,
    "start_time": "2022-07-28T06:38:23.389Z"
   },
   {
    "duration": 35,
    "start_time": "2022-07-28T06:38:23.393Z"
   },
   {
    "duration": 8,
    "start_time": "2022-07-28T06:38:23.430Z"
   },
   {
    "duration": 12,
    "start_time": "2022-07-28T06:38:23.441Z"
   },
   {
    "duration": 386,
    "start_time": "2022-07-28T06:38:23.455Z"
   },
   {
    "duration": 15,
    "start_time": "2022-07-28T06:38:23.843Z"
   },
   {
    "duration": 385,
    "start_time": "2022-07-28T06:38:23.859Z"
   },
   {
    "duration": 10,
    "start_time": "2022-07-28T06:38:24.246Z"
   },
   {
    "duration": 51,
    "start_time": "2022-07-28T06:38:24.258Z"
   },
   {
    "duration": 36,
    "start_time": "2022-07-28T06:38:24.324Z"
   },
   {
    "duration": 76,
    "start_time": "2022-07-28T06:38:24.362Z"
   },
   {
    "duration": 30,
    "start_time": "2022-07-28T06:38:24.440Z"
   },
   {
    "duration": 26,
    "start_time": "2022-07-28T06:38:24.472Z"
   },
   {
    "duration": 32,
    "start_time": "2022-07-28T06:38:24.500Z"
   },
   {
    "duration": 30,
    "start_time": "2022-07-28T06:38:24.534Z"
   },
   {
    "duration": 9,
    "start_time": "2022-07-28T06:38:24.566Z"
   },
   {
    "duration": 22,
    "start_time": "2022-07-28T06:38:24.576Z"
   },
   {
    "duration": 11,
    "start_time": "2022-07-28T06:38:24.623Z"
   },
   {
    "duration": 5,
    "start_time": "2022-07-28T06:38:24.635Z"
   },
   {
    "duration": 29,
    "start_time": "2022-07-28T06:38:24.641Z"
   },
   {
    "duration": 5,
    "start_time": "2022-07-28T06:38:24.671Z"
   },
   {
    "duration": 139,
    "start_time": "2022-07-28T06:38:24.677Z"
   },
   {
    "duration": 11,
    "start_time": "2022-07-28T06:38:24.818Z"
   },
   {
    "duration": 18,
    "start_time": "2022-07-28T06:38:24.831Z"
   },
   {
    "duration": 654,
    "start_time": "2022-07-28T06:38:24.851Z"
   },
   {
    "duration": 18,
    "start_time": "2022-07-28T06:38:25.507Z"
   },
   {
    "duration": 495,
    "start_time": "2022-07-28T06:38:25.526Z"
   },
   {
    "duration": 21,
    "start_time": "2022-07-28T06:38:26.023Z"
   },
   {
    "duration": 538,
    "start_time": "2022-07-28T06:38:26.047Z"
   },
   {
    "duration": 11,
    "start_time": "2022-07-28T06:38:26.586Z"
   },
   {
    "duration": 32,
    "start_time": "2022-07-28T06:38:26.602Z"
   },
   {
    "duration": 512,
    "start_time": "2022-07-28T06:38:26.636Z"
   },
   {
    "duration": 5,
    "start_time": "2022-07-28T06:38:27.150Z"
   },
   {
    "duration": 14,
    "start_time": "2022-07-28T06:38:27.157Z"
   },
   {
    "duration": 723,
    "start_time": "2022-07-28T06:38:27.173Z"
   },
   {
    "duration": 5,
    "start_time": "2022-07-28T06:38:27.898Z"
   },
   {
    "duration": 44,
    "start_time": "2022-07-28T06:38:27.904Z"
   },
   {
    "duration": 9,
    "start_time": "2022-07-28T06:38:27.950Z"
   },
   {
    "duration": 5,
    "start_time": "2022-07-28T06:38:27.960Z"
   },
   {
    "duration": 19,
    "start_time": "2022-07-28T06:38:27.967Z"
   },
   {
    "duration": 436,
    "start_time": "2022-07-28T06:38:27.987Z"
   },
   {
    "duration": 823,
    "start_time": "2022-07-28T06:38:28.425Z"
   },
   {
    "duration": 373,
    "start_time": "2022-07-28T06:38:29.250Z"
   },
   {
    "duration": 7,
    "start_time": "2022-07-28T06:38:29.624Z"
   },
   {
    "duration": 9,
    "start_time": "2022-07-28T06:38:29.633Z"
   },
   {
    "duration": 1309,
    "start_time": "2022-07-28T07:14:46.229Z"
   },
   {
    "duration": 4,
    "start_time": "2022-07-28T07:14:47.540Z"
   },
   {
    "duration": 6,
    "start_time": "2022-07-28T07:14:47.545Z"
   },
   {
    "duration": 413,
    "start_time": "2022-07-28T07:14:47.553Z"
   },
   {
    "duration": 5,
    "start_time": "2022-07-28T07:14:47.968Z"
   },
   {
    "duration": 1181,
    "start_time": "2022-07-28T07:14:47.974Z"
   },
   {
    "duration": 7,
    "start_time": "2022-07-28T07:14:49.157Z"
   },
   {
    "duration": 20,
    "start_time": "2022-07-28T07:14:49.165Z"
   },
   {
    "duration": 90,
    "start_time": "2022-07-28T07:14:49.186Z"
   },
   {
    "duration": 58,
    "start_time": "2022-07-28T07:14:49.278Z"
   },
   {
    "duration": 3,
    "start_time": "2022-07-28T07:14:49.337Z"
   },
   {
    "duration": 14,
    "start_time": "2022-07-28T07:14:49.342Z"
   },
   {
    "duration": 9,
    "start_time": "2022-07-28T07:14:49.357Z"
   },
   {
    "duration": 12,
    "start_time": "2022-07-28T07:14:49.368Z"
   },
   {
    "duration": 388,
    "start_time": "2022-07-28T07:14:49.381Z"
   },
   {
    "duration": 16,
    "start_time": "2022-07-28T07:14:49.771Z"
   },
   {
    "duration": 370,
    "start_time": "2022-07-28T07:14:49.789Z"
   },
   {
    "duration": 10,
    "start_time": "2022-07-28T07:14:50.161Z"
   },
   {
    "duration": 65,
    "start_time": "2022-07-28T07:14:50.172Z"
   },
   {
    "duration": 35,
    "start_time": "2022-07-28T07:14:50.239Z"
   },
   {
    "duration": 77,
    "start_time": "2022-07-28T07:14:50.275Z"
   },
   {
    "duration": 30,
    "start_time": "2022-07-28T07:14:50.354Z"
   },
   {
    "duration": 41,
    "start_time": "2022-07-28T07:14:50.386Z"
   },
   {
    "duration": 13,
    "start_time": "2022-07-28T07:14:50.429Z"
   },
   {
    "duration": 34,
    "start_time": "2022-07-28T07:14:50.444Z"
   },
   {
    "duration": 9,
    "start_time": "2022-07-28T07:14:50.479Z"
   },
   {
    "duration": 43,
    "start_time": "2022-07-28T07:14:50.490Z"
   },
   {
    "duration": 12,
    "start_time": "2022-07-28T07:14:50.538Z"
   },
   {
    "duration": 7,
    "start_time": "2022-07-28T07:14:50.551Z"
   },
   {
    "duration": 32,
    "start_time": "2022-07-28T07:14:50.560Z"
   },
   {
    "duration": 5,
    "start_time": "2022-07-28T07:14:50.593Z"
   },
   {
    "duration": 127,
    "start_time": "2022-07-28T07:14:50.622Z"
   },
   {
    "duration": 12,
    "start_time": "2022-07-28T07:14:50.752Z"
   },
   {
    "duration": 23,
    "start_time": "2022-07-28T07:14:50.766Z"
   },
   {
    "duration": 606,
    "start_time": "2022-07-28T07:14:50.791Z"
   },
   {
    "duration": 19,
    "start_time": "2022-07-28T07:14:51.399Z"
   },
   {
    "duration": 500,
    "start_time": "2022-07-28T07:14:51.420Z"
   },
   {
    "duration": 17,
    "start_time": "2022-07-28T07:14:51.923Z"
   },
   {
    "duration": 542,
    "start_time": "2022-07-28T07:14:51.942Z"
   },
   {
    "duration": 10,
    "start_time": "2022-07-28T07:14:52.485Z"
   },
   {
    "duration": 32,
    "start_time": "2022-07-28T07:14:52.497Z"
   },
   {
    "duration": 475,
    "start_time": "2022-07-28T07:14:52.531Z"
   },
   {
    "duration": 16,
    "start_time": "2022-07-28T07:14:53.008Z"
   },
   {
    "duration": 10,
    "start_time": "2022-07-28T07:14:53.026Z"
   },
   {
    "duration": 757,
    "start_time": "2022-07-28T07:14:53.038Z"
   },
   {
    "duration": 6,
    "start_time": "2022-07-28T07:14:53.797Z"
   },
   {
    "duration": 44,
    "start_time": "2022-07-28T07:14:53.805Z"
   },
   {
    "duration": 10,
    "start_time": "2022-07-28T07:14:53.851Z"
   },
   {
    "duration": 8,
    "start_time": "2022-07-28T07:14:53.863Z"
   },
   {
    "duration": 18,
    "start_time": "2022-07-28T07:14:53.873Z"
   },
   {
    "duration": 453,
    "start_time": "2022-07-28T07:14:53.892Z"
   },
   {
    "duration": 720,
    "start_time": "2022-07-28T07:14:54.346Z"
   },
   {
    "duration": 363,
    "start_time": "2022-07-28T07:14:55.068Z"
   },
   {
    "duration": 7,
    "start_time": "2022-07-28T07:14:55.433Z"
   },
   {
    "duration": 23,
    "start_time": "2022-07-28T07:14:55.442Z"
   },
   {
    "duration": 14,
    "start_time": "2022-07-28T07:17:27.990Z"
   },
   {
    "duration": 13,
    "start_time": "2022-07-28T07:18:21.577Z"
   },
   {
    "duration": 14,
    "start_time": "2022-07-28T07:18:31.694Z"
   },
   {
    "duration": 1275,
    "start_time": "2022-07-28T07:19:36.268Z"
   },
   {
    "duration": 4,
    "start_time": "2022-07-28T07:19:37.545Z"
   },
   {
    "duration": 10,
    "start_time": "2022-07-28T07:19:37.550Z"
   },
   {
    "duration": 450,
    "start_time": "2022-07-28T07:19:37.563Z"
   },
   {
    "duration": 5,
    "start_time": "2022-07-28T07:19:38.015Z"
   },
   {
    "duration": 1248,
    "start_time": "2022-07-28T07:19:38.022Z"
   },
   {
    "duration": 10,
    "start_time": "2022-07-28T07:19:39.272Z"
   },
   {
    "duration": 13,
    "start_time": "2022-07-28T07:19:39.283Z"
   },
   {
    "duration": 97,
    "start_time": "2022-07-28T07:19:39.298Z"
   },
   {
    "duration": 61,
    "start_time": "2022-07-28T07:19:39.398Z"
   },
   {
    "duration": 3,
    "start_time": "2022-07-28T07:19:39.460Z"
   },
   {
    "duration": 13,
    "start_time": "2022-07-28T07:19:39.465Z"
   },
   {
    "duration": 9,
    "start_time": "2022-07-28T07:19:39.479Z"
   },
   {
    "duration": 36,
    "start_time": "2022-07-28T07:19:39.490Z"
   },
   {
    "duration": 431,
    "start_time": "2022-07-28T07:19:39.528Z"
   },
   {
    "duration": 14,
    "start_time": "2022-07-28T07:19:39.961Z"
   },
   {
    "duration": 378,
    "start_time": "2022-07-28T07:19:39.977Z"
   },
   {
    "duration": 11,
    "start_time": "2022-07-28T07:19:40.356Z"
   },
   {
    "duration": 69,
    "start_time": "2022-07-28T07:19:40.368Z"
   },
   {
    "duration": 37,
    "start_time": "2022-07-28T07:19:40.439Z"
   },
   {
    "duration": 81,
    "start_time": "2022-07-28T07:19:40.478Z"
   },
   {
    "duration": 31,
    "start_time": "2022-07-28T07:19:40.561Z"
   },
   {
    "duration": 45,
    "start_time": "2022-07-28T07:19:40.594Z"
   },
   {
    "duration": 14,
    "start_time": "2022-07-28T07:19:40.641Z"
   },
   {
    "duration": 36,
    "start_time": "2022-07-28T07:19:40.657Z"
   },
   {
    "duration": 29,
    "start_time": "2022-07-28T07:19:40.695Z"
   },
   {
    "duration": 19,
    "start_time": "2022-07-28T07:19:40.726Z"
   },
   {
    "duration": 11,
    "start_time": "2022-07-28T07:19:40.749Z"
   },
   {
    "duration": 4,
    "start_time": "2022-07-28T07:19:40.762Z"
   },
   {
    "duration": 10,
    "start_time": "2022-07-28T07:19:40.768Z"
   },
   {
    "duration": 61,
    "start_time": "2022-07-28T07:19:40.780Z"
   },
   {
    "duration": 5,
    "start_time": "2022-07-28T07:19:40.843Z"
   },
   {
    "duration": 132,
    "start_time": "2022-07-28T07:19:40.850Z"
   },
   {
    "duration": 10,
    "start_time": "2022-07-28T07:19:40.983Z"
   },
   {
    "duration": 34,
    "start_time": "2022-07-28T07:19:40.995Z"
   },
   {
    "duration": 683,
    "start_time": "2022-07-28T07:19:41.031Z"
   },
   {
    "duration": 18,
    "start_time": "2022-07-28T07:19:41.717Z"
   },
   {
    "duration": 539,
    "start_time": "2022-07-28T07:19:41.740Z"
   },
   {
    "duration": 25,
    "start_time": "2022-07-28T07:19:42.281Z"
   },
   {
    "duration": 561,
    "start_time": "2022-07-28T07:19:42.307Z"
   },
   {
    "duration": 10,
    "start_time": "2022-07-28T07:19:42.870Z"
   },
   {
    "duration": 26,
    "start_time": "2022-07-28T07:19:42.882Z"
   },
   {
    "duration": 472,
    "start_time": "2022-07-28T07:19:42.910Z"
   },
   {
    "duration": 6,
    "start_time": "2022-07-28T07:19:43.384Z"
   },
   {
    "duration": 9,
    "start_time": "2022-07-28T07:19:43.391Z"
   },
   {
    "duration": 776,
    "start_time": "2022-07-28T07:19:43.402Z"
   },
   {
    "duration": 6,
    "start_time": "2022-07-28T07:19:44.181Z"
   },
   {
    "duration": 53,
    "start_time": "2022-07-28T07:19:44.189Z"
   },
   {
    "duration": 11,
    "start_time": "2022-07-28T07:19:44.244Z"
   },
   {
    "duration": 7,
    "start_time": "2022-07-28T07:19:44.257Z"
   },
   {
    "duration": 32,
    "start_time": "2022-07-28T07:19:44.266Z"
   },
   {
    "duration": 487,
    "start_time": "2022-07-28T07:19:44.301Z"
   },
   {
    "duration": 738,
    "start_time": "2022-07-28T07:19:44.791Z"
   },
   {
    "duration": 369,
    "start_time": "2022-07-28T07:19:45.531Z"
   },
   {
    "duration": 6,
    "start_time": "2022-07-28T07:19:45.902Z"
   },
   {
    "duration": 5,
    "start_time": "2022-07-28T07:19:45.924Z"
   },
   {
    "duration": 1765,
    "start_time": "2022-07-28T09:11:43.478Z"
   },
   {
    "duration": 5,
    "start_time": "2022-07-28T09:11:45.245Z"
   },
   {
    "duration": 6,
    "start_time": "2022-07-28T09:11:45.252Z"
   },
   {
    "duration": 1299,
    "start_time": "2022-07-28T09:11:45.260Z"
   },
   {
    "duration": 6,
    "start_time": "2022-07-28T09:11:46.560Z"
   },
   {
    "duration": 1352,
    "start_time": "2022-07-28T09:11:46.567Z"
   },
   {
    "duration": 10,
    "start_time": "2022-07-28T09:11:47.922Z"
   },
   {
    "duration": 12,
    "start_time": "2022-07-28T09:11:47.934Z"
   },
   {
    "duration": 98,
    "start_time": "2022-07-28T09:11:47.947Z"
   },
   {
    "duration": 63,
    "start_time": "2022-07-28T09:11:48.049Z"
   },
   {
    "duration": 3,
    "start_time": "2022-07-28T09:11:48.114Z"
   },
   {
    "duration": 18,
    "start_time": "2022-07-28T09:11:48.120Z"
   },
   {
    "duration": 5,
    "start_time": "2022-07-28T09:11:48.140Z"
   },
   {
    "duration": 15,
    "start_time": "2022-07-28T09:11:48.146Z"
   },
   {
    "duration": 495,
    "start_time": "2022-07-28T09:11:48.163Z"
   },
   {
    "duration": 15,
    "start_time": "2022-07-28T09:11:48.660Z"
   },
   {
    "duration": 408,
    "start_time": "2022-07-28T09:11:48.676Z"
   },
   {
    "duration": 12,
    "start_time": "2022-07-28T09:11:49.086Z"
   },
   {
    "duration": 61,
    "start_time": "2022-07-28T09:11:49.111Z"
   },
   {
    "duration": 63,
    "start_time": "2022-07-28T09:11:49.174Z"
   },
   {
    "duration": 188,
    "start_time": "2022-07-28T09:11:49.239Z"
   },
   {
    "duration": 32,
    "start_time": "2022-07-28T09:11:49.429Z"
   },
   {
    "duration": 51,
    "start_time": "2022-07-28T09:11:49.463Z"
   },
   {
    "duration": 15,
    "start_time": "2022-07-28T09:11:49.516Z"
   },
   {
    "duration": 41,
    "start_time": "2022-07-28T09:11:49.533Z"
   },
   {
    "duration": 11,
    "start_time": "2022-07-28T09:11:49.576Z"
   },
   {
    "duration": 24,
    "start_time": "2022-07-28T09:11:49.605Z"
   },
   {
    "duration": 15,
    "start_time": "2022-07-28T09:11:49.631Z"
   },
   {
    "duration": 5,
    "start_time": "2022-07-28T09:11:49.649Z"
   },
   {
    "duration": 13,
    "start_time": "2022-07-28T09:11:49.656Z"
   },
   {
    "duration": 4,
    "start_time": "2022-07-28T09:12:49.159Z"
   },
   {
    "duration": 10,
    "start_time": "2022-07-28T09:12:50.837Z"
   },
   {
    "duration": 130,
    "start_time": "2022-07-28T09:13:01.117Z"
   },
   {
    "duration": 1477,
    "start_time": "2022-07-28T09:13:09.525Z"
   },
   {
    "duration": 9,
    "start_time": "2022-07-28T09:13:11.012Z"
   },
   {
    "duration": 8,
    "start_time": "2022-07-28T09:13:11.022Z"
   },
   {
    "duration": 507,
    "start_time": "2022-07-28T09:13:11.032Z"
   },
   {
    "duration": 5,
    "start_time": "2022-07-28T09:13:11.541Z"
   },
   {
    "duration": 1403,
    "start_time": "2022-07-28T09:13:11.548Z"
   },
   {
    "duration": 10,
    "start_time": "2022-07-28T09:13:12.953Z"
   },
   {
    "duration": 10,
    "start_time": "2022-07-28T09:13:12.965Z"
   },
   {
    "duration": 139,
    "start_time": "2022-07-28T09:13:12.977Z"
   },
   {
    "duration": 52,
    "start_time": "2022-07-28T09:13:13.120Z"
   },
   {
    "duration": 3,
    "start_time": "2022-07-28T09:13:13.173Z"
   },
   {
    "duration": 30,
    "start_time": "2022-07-28T09:13:13.178Z"
   },
   {
    "duration": 16,
    "start_time": "2022-07-28T09:13:13.210Z"
   },
   {
    "duration": 12,
    "start_time": "2022-07-28T09:13:13.229Z"
   },
   {
    "duration": 416,
    "start_time": "2022-07-28T09:13:13.242Z"
   },
   {
    "duration": 18,
    "start_time": "2022-07-28T09:13:13.660Z"
   },
   {
    "duration": 406,
    "start_time": "2022-07-28T09:13:13.680Z"
   },
   {
    "duration": 28,
    "start_time": "2022-07-28T09:13:14.088Z"
   },
   {
    "duration": 62,
    "start_time": "2022-07-28T09:13:14.118Z"
   },
   {
    "duration": 64,
    "start_time": "2022-07-28T09:13:14.184Z"
   },
   {
    "duration": 101,
    "start_time": "2022-07-28T09:13:14.250Z"
   },
   {
    "duration": 37,
    "start_time": "2022-07-28T09:13:14.353Z"
   },
   {
    "duration": 54,
    "start_time": "2022-07-28T09:13:14.391Z"
   },
   {
    "duration": 15,
    "start_time": "2022-07-28T09:13:14.447Z"
   },
   {
    "duration": 56,
    "start_time": "2022-07-28T09:13:14.465Z"
   },
   {
    "duration": 12,
    "start_time": "2022-07-28T09:13:14.524Z"
   },
   {
    "duration": 29,
    "start_time": "2022-07-28T09:13:14.538Z"
   },
   {
    "duration": 13,
    "start_time": "2022-07-28T09:13:14.571Z"
   },
   {
    "duration": 30,
    "start_time": "2022-07-28T09:13:14.586Z"
   },
   {
    "duration": 13,
    "start_time": "2022-07-28T09:13:14.618Z"
   },
   {
    "duration": 7,
    "start_time": "2022-07-28T09:13:14.633Z"
   },
   {
    "duration": 29,
    "start_time": "2022-07-28T09:13:14.642Z"
   },
   {
    "duration": 4,
    "start_time": "2022-07-28T09:13:14.673Z"
   },
   {
    "duration": 155,
    "start_time": "2022-07-28T09:13:14.679Z"
   },
   {
    "duration": 10,
    "start_time": "2022-07-28T09:13:14.835Z"
   },
   {
    "duration": 101,
    "start_time": "2022-07-28T09:13:14.847Z"
   },
   {
    "duration": 647,
    "start_time": "2022-07-28T09:13:14.950Z"
   },
   {
    "duration": 23,
    "start_time": "2022-07-28T09:13:15.599Z"
   },
   {
    "duration": 535,
    "start_time": "2022-07-28T09:13:15.624Z"
   },
   {
    "duration": 22,
    "start_time": "2022-07-28T09:13:16.161Z"
   },
   {
    "duration": 689,
    "start_time": "2022-07-28T09:13:16.184Z"
   },
   {
    "duration": 14,
    "start_time": "2022-07-28T09:13:16.875Z"
   },
   {
    "duration": 137,
    "start_time": "2022-07-28T09:13:16.891Z"
   },
   {
    "duration": 521,
    "start_time": "2022-07-28T09:13:17.030Z"
   },
   {
    "duration": 6,
    "start_time": "2022-07-28T09:13:17.554Z"
   },
   {
    "duration": 11,
    "start_time": "2022-07-28T09:13:17.562Z"
   },
   {
    "duration": 817,
    "start_time": "2022-07-28T09:13:17.575Z"
   },
   {
    "duration": 14,
    "start_time": "2022-07-28T09:13:18.394Z"
   },
   {
    "duration": 56,
    "start_time": "2022-07-28T09:13:18.411Z"
   },
   {
    "duration": 12,
    "start_time": "2022-07-28T09:13:18.469Z"
   },
   {
    "duration": 6,
    "start_time": "2022-07-28T09:13:18.483Z"
   },
   {
    "duration": 40,
    "start_time": "2022-07-28T09:13:18.491Z"
   },
   {
    "duration": 476,
    "start_time": "2022-07-28T09:13:18.534Z"
   },
   {
    "duration": 784,
    "start_time": "2022-07-28T09:13:19.013Z"
   },
   {
    "duration": 428,
    "start_time": "2022-07-28T09:13:19.799Z"
   },
   {
    "duration": 8,
    "start_time": "2022-07-28T09:13:20.230Z"
   },
   {
    "duration": 19,
    "start_time": "2022-07-28T09:13:20.240Z"
   },
   {
    "duration": 12,
    "start_time": "2022-07-28T09:14:17.286Z"
   },
   {
    "duration": 12,
    "start_time": "2022-07-28T09:14:22.452Z"
   },
   {
    "duration": 17,
    "start_time": "2022-07-28T09:14:26.802Z"
   },
   {
    "duration": 13,
    "start_time": "2022-07-28T09:14:33.470Z"
   },
   {
    "duration": 12,
    "start_time": "2022-07-28T09:14:39.681Z"
   },
   {
    "duration": 12,
    "start_time": "2022-07-28T09:14:44.438Z"
   },
   {
    "duration": 12,
    "start_time": "2022-07-28T09:14:57.369Z"
   },
   {
    "duration": 11,
    "start_time": "2022-07-28T09:15:01.582Z"
   },
   {
    "duration": 14,
    "start_time": "2022-07-28T09:15:34.058Z"
   },
   {
    "duration": 8,
    "start_time": "2022-07-28T09:15:51.862Z"
   },
   {
    "duration": 14,
    "start_time": "2022-07-28T09:16:04.364Z"
   },
   {
    "duration": 17,
    "start_time": "2022-07-28T09:16:27.390Z"
   },
   {
    "duration": 7,
    "start_time": "2022-07-28T09:18:06.609Z"
   },
   {
    "duration": 12,
    "start_time": "2022-07-28T09:18:11.546Z"
   },
   {
    "duration": 10,
    "start_time": "2022-07-28T09:18:28.883Z"
   },
   {
    "duration": 23,
    "start_time": "2022-07-28T09:18:44.470Z"
   },
   {
    "duration": 14,
    "start_time": "2022-07-28T09:19:02.388Z"
   },
   {
    "duration": 1529,
    "start_time": "2022-07-28T09:20:01.955Z"
   },
   {
    "duration": 4,
    "start_time": "2022-07-28T09:20:03.486Z"
   },
   {
    "duration": 8,
    "start_time": "2022-07-28T09:20:03.492Z"
   },
   {
    "duration": 477,
    "start_time": "2022-07-28T09:20:03.502Z"
   },
   {
    "duration": 6,
    "start_time": "2022-07-28T09:20:03.981Z"
   },
   {
    "duration": 1338,
    "start_time": "2022-07-28T09:20:03.989Z"
   },
   {
    "duration": 10,
    "start_time": "2022-07-28T09:20:05.329Z"
   },
   {
    "duration": 24,
    "start_time": "2022-07-28T09:20:05.341Z"
   },
   {
    "duration": 103,
    "start_time": "2022-07-28T09:20:05.367Z"
   },
   {
    "duration": 59,
    "start_time": "2022-07-28T09:20:05.472Z"
   },
   {
    "duration": 6,
    "start_time": "2022-07-28T09:20:05.533Z"
   },
   {
    "duration": 26,
    "start_time": "2022-07-28T09:20:05.541Z"
   },
   {
    "duration": 15,
    "start_time": "2022-07-28T09:20:05.569Z"
   },
   {
    "duration": 24,
    "start_time": "2022-07-28T09:20:05.589Z"
   },
   {
    "duration": 455,
    "start_time": "2022-07-28T09:20:05.615Z"
   },
   {
    "duration": 15,
    "start_time": "2022-07-28T09:20:06.072Z"
   },
   {
    "duration": 431,
    "start_time": "2022-07-28T09:20:06.089Z"
   },
   {
    "duration": 16,
    "start_time": "2022-07-28T09:20:06.522Z"
   },
   {
    "duration": 89,
    "start_time": "2022-07-28T09:20:06.540Z"
   },
   {
    "duration": 75,
    "start_time": "2022-07-28T09:20:06.631Z"
   },
   {
    "duration": 106,
    "start_time": "2022-07-28T09:20:06.709Z"
   },
   {
    "duration": 45,
    "start_time": "2022-07-28T09:20:06.818Z"
   },
   {
    "duration": 49,
    "start_time": "2022-07-28T09:20:06.865Z"
   },
   {
    "duration": 15,
    "start_time": "2022-07-28T09:20:06.916Z"
   },
   {
    "duration": 21,
    "start_time": "2022-07-28T09:20:06.932Z"
   },
   {
    "duration": 32,
    "start_time": "2022-07-28T09:20:06.955Z"
   },
   {
    "duration": 138,
    "start_time": "2022-07-28T09:20:13.755Z"
   },
   {
    "duration": 12,
    "start_time": "2022-07-28T09:20:14.185Z"
   },
   {
    "duration": 1681,
    "start_time": "2022-07-28T09:20:32.075Z"
   },
   {
    "duration": 28,
    "start_time": "2022-07-28T09:20:34.778Z"
   },
   {
    "duration": 1388,
    "start_time": "2022-07-28T09:20:49.213Z"
   },
   {
    "duration": 73,
    "start_time": "2022-07-28T09:21:19.080Z"
   },
   {
    "duration": 70,
    "start_time": "2022-07-28T09:21:24.008Z"
   },
   {
    "duration": 1422,
    "start_time": "2022-07-28T09:22:08.057Z"
   },
   {
    "duration": 4,
    "start_time": "2022-07-28T09:22:09.482Z"
   },
   {
    "duration": 14,
    "start_time": "2022-07-28T09:22:09.488Z"
   },
   {
    "duration": 501,
    "start_time": "2022-07-28T09:22:09.505Z"
   },
   {
    "duration": 5,
    "start_time": "2022-07-28T09:22:10.008Z"
   },
   {
    "duration": 1391,
    "start_time": "2022-07-28T09:22:10.015Z"
   },
   {
    "duration": 11,
    "start_time": "2022-07-28T09:22:11.407Z"
   },
   {
    "duration": 37,
    "start_time": "2022-07-28T09:22:11.420Z"
   },
   {
    "duration": 88,
    "start_time": "2022-07-28T09:22:11.458Z"
   },
   {
    "duration": 67,
    "start_time": "2022-07-28T09:22:11.549Z"
   },
   {
    "duration": 3,
    "start_time": "2022-07-28T09:22:11.618Z"
   },
   {
    "duration": 41,
    "start_time": "2022-07-28T09:22:11.624Z"
   },
   {
    "duration": 29,
    "start_time": "2022-07-28T09:22:11.667Z"
   },
   {
    "duration": 18,
    "start_time": "2022-07-28T09:22:11.699Z"
   },
   {
    "duration": 437,
    "start_time": "2022-07-28T09:22:11.719Z"
   },
   {
    "duration": 17,
    "start_time": "2022-07-28T09:22:12.158Z"
   },
   {
    "duration": 401,
    "start_time": "2022-07-28T09:22:12.178Z"
   },
   {
    "duration": 12,
    "start_time": "2022-07-28T09:22:12.582Z"
   },
   {
    "duration": 63,
    "start_time": "2022-07-28T09:22:12.596Z"
   },
   {
    "duration": 65,
    "start_time": "2022-07-28T09:22:12.661Z"
   },
   {
    "duration": 88,
    "start_time": "2022-07-28T09:22:12.728Z"
   },
   {
    "duration": 37,
    "start_time": "2022-07-28T09:22:12.817Z"
   },
   {
    "duration": 50,
    "start_time": "2022-07-28T09:22:12.856Z"
   },
   {
    "duration": 17,
    "start_time": "2022-07-28T09:22:12.908Z"
   },
   {
    "duration": 37,
    "start_time": "2022-07-28T09:22:12.927Z"
   },
   {
    "duration": 41,
    "start_time": "2022-07-28T09:22:12.965Z"
   },
   {
    "duration": 23,
    "start_time": "2022-07-28T09:22:13.008Z"
   },
   {
    "duration": 14,
    "start_time": "2022-07-28T09:22:13.035Z"
   },
   {
    "duration": 11,
    "start_time": "2022-07-28T09:22:13.051Z"
   },
   {
    "duration": 17,
    "start_time": "2022-07-28T09:22:13.064Z"
   },
   {
    "duration": 31,
    "start_time": "2022-07-28T09:22:13.103Z"
   },
   {
    "duration": 4,
    "start_time": "2022-07-28T09:22:13.136Z"
   },
   {
    "duration": 155,
    "start_time": "2022-07-28T09:22:13.142Z"
   },
   {
    "duration": 14,
    "start_time": "2022-07-28T09:22:13.304Z"
   },
   {
    "duration": 27,
    "start_time": "2022-07-28T09:22:13.320Z"
   },
   {
    "duration": 688,
    "start_time": "2022-07-28T09:22:13.349Z"
   },
   {
    "duration": 21,
    "start_time": "2022-07-28T09:22:14.040Z"
   },
   {
    "duration": 534,
    "start_time": "2022-07-28T09:22:14.063Z"
   },
   {
    "duration": 23,
    "start_time": "2022-07-28T09:22:14.598Z"
   },
   {
    "duration": 602,
    "start_time": "2022-07-28T09:22:14.622Z"
   },
   {
    "duration": 11,
    "start_time": "2022-07-28T09:22:15.226Z"
   },
   {
    "duration": 24,
    "start_time": "2022-07-28T09:22:15.239Z"
   },
   {
    "duration": 515,
    "start_time": "2022-07-28T09:22:15.266Z"
   },
   {
    "duration": 7,
    "start_time": "2022-07-28T09:22:15.783Z"
   },
   {
    "duration": 20,
    "start_time": "2022-07-28T09:22:15.791Z"
   },
   {
    "duration": 891,
    "start_time": "2022-07-28T09:22:15.813Z"
   },
   {
    "duration": 8,
    "start_time": "2022-07-28T09:22:16.708Z"
   },
   {
    "duration": 57,
    "start_time": "2022-07-28T09:22:16.718Z"
   },
   {
    "duration": 32,
    "start_time": "2022-07-28T09:22:16.778Z"
   },
   {
    "duration": 8,
    "start_time": "2022-07-28T09:22:16.813Z"
   },
   {
    "duration": 29,
    "start_time": "2022-07-28T09:22:16.824Z"
   },
   {
    "duration": 472,
    "start_time": "2022-07-28T09:22:16.855Z"
   },
   {
    "duration": 795,
    "start_time": "2022-07-28T09:22:17.329Z"
   },
   {
    "duration": 408,
    "start_time": "2022-07-28T09:22:18.126Z"
   },
   {
    "duration": 7,
    "start_time": "2022-07-28T09:22:18.536Z"
   },
   {
    "duration": 11,
    "start_time": "2022-07-28T09:22:18.545Z"
   },
   {
    "duration": 15,
    "start_time": "2022-07-28T09:23:26.940Z"
   },
   {
    "duration": 481,
    "start_time": "2022-07-28T09:24:11.805Z"
   },
   {
    "duration": 69,
    "start_time": "2022-07-28T09:24:22.203Z"
   },
   {
    "duration": 64,
    "start_time": "2022-07-28T09:24:56.821Z"
   },
   {
    "duration": 64,
    "start_time": "2022-07-28T09:25:03.521Z"
   },
   {
    "duration": 87,
    "start_time": "2022-07-28T09:25:23.415Z"
   },
   {
    "duration": 64,
    "start_time": "2022-07-28T09:25:27.503Z"
   },
   {
    "duration": 71,
    "start_time": "2022-07-28T09:27:07.759Z"
   },
   {
    "duration": 35,
    "start_time": "2022-07-28T09:27:24.565Z"
   },
   {
    "duration": 14,
    "start_time": "2022-07-28T09:27:28.286Z"
   },
   {
    "duration": 21,
    "start_time": "2022-07-28T09:27:30.899Z"
   },
   {
    "duration": 12,
    "start_time": "2022-07-28T09:27:32.678Z"
   },
   {
    "duration": 13,
    "start_time": "2022-07-28T09:28:48.435Z"
   },
   {
    "duration": 18,
    "start_time": "2022-07-28T09:28:52.871Z"
   },
   {
    "duration": 12,
    "start_time": "2022-07-28T09:30:00.847Z"
   },
   {
    "duration": 13,
    "start_time": "2022-07-28T09:30:04.294Z"
   },
   {
    "duration": 22,
    "start_time": "2022-07-28T09:30:13.949Z"
   },
   {
    "duration": 4,
    "start_time": "2022-07-28T09:30:22.038Z"
   },
   {
    "duration": 11,
    "start_time": "2022-07-28T09:30:24.995Z"
   },
   {
    "duration": 1413,
    "start_time": "2022-07-28T09:31:46.136Z"
   },
   {
    "duration": 5,
    "start_time": "2022-07-28T09:31:47.551Z"
   },
   {
    "duration": 7,
    "start_time": "2022-07-28T09:31:47.557Z"
   },
   {
    "duration": 461,
    "start_time": "2022-07-28T09:31:47.565Z"
   },
   {
    "duration": 5,
    "start_time": "2022-07-28T09:31:48.029Z"
   },
   {
    "duration": 1236,
    "start_time": "2022-07-28T09:31:48.037Z"
   },
   {
    "duration": 33,
    "start_time": "2022-07-28T09:31:49.275Z"
   },
   {
    "duration": 10,
    "start_time": "2022-07-28T09:31:49.310Z"
   },
   {
    "duration": 94,
    "start_time": "2022-07-28T09:31:49.322Z"
   },
   {
    "duration": 52,
    "start_time": "2022-07-28T09:31:49.418Z"
   },
   {
    "duration": 2,
    "start_time": "2022-07-28T09:31:49.472Z"
   },
   {
    "duration": 36,
    "start_time": "2022-07-28T09:31:49.476Z"
   },
   {
    "duration": 4,
    "start_time": "2022-07-28T09:31:49.514Z"
   },
   {
    "duration": 14,
    "start_time": "2022-07-28T09:31:49.521Z"
   },
   {
    "duration": 421,
    "start_time": "2022-07-28T09:31:49.537Z"
   },
   {
    "duration": 15,
    "start_time": "2022-07-28T09:31:49.960Z"
   },
   {
    "duration": 397,
    "start_time": "2022-07-28T09:31:49.977Z"
   },
   {
    "duration": 12,
    "start_time": "2022-07-28T09:31:50.376Z"
   },
   {
    "duration": 52,
    "start_time": "2022-07-28T09:31:50.405Z"
   },
   {
    "duration": 55,
    "start_time": "2022-07-28T09:31:50.459Z"
   },
   {
    "duration": 62,
    "start_time": "2022-07-28T09:31:50.517Z"
   },
   {
    "duration": 52,
    "start_time": "2022-07-28T09:31:50.581Z"
   },
   {
    "duration": 28,
    "start_time": "2022-07-28T09:31:50.635Z"
   },
   {
    "duration": 13,
    "start_time": "2022-07-28T09:31:50.665Z"
   },
   {
    "duration": 1400,
    "start_time": "2022-07-28T09:40:05.943Z"
   },
   {
    "duration": 5,
    "start_time": "2022-07-28T09:40:07.345Z"
   },
   {
    "duration": 9,
    "start_time": "2022-07-28T09:40:07.351Z"
   },
   {
    "duration": 492,
    "start_time": "2022-07-28T09:40:07.362Z"
   },
   {
    "duration": 5,
    "start_time": "2022-07-28T09:40:07.857Z"
   },
   {
    "duration": 1287,
    "start_time": "2022-07-28T09:40:07.864Z"
   },
   {
    "duration": 9,
    "start_time": "2022-07-28T09:40:09.152Z"
   },
   {
    "duration": 11,
    "start_time": "2022-07-28T09:40:09.164Z"
   },
   {
    "duration": 75,
    "start_time": "2022-07-28T09:40:09.204Z"
   },
   {
    "duration": 69,
    "start_time": "2022-07-28T09:40:09.281Z"
   },
   {
    "duration": 3,
    "start_time": "2022-07-28T09:40:09.352Z"
   },
   {
    "duration": 17,
    "start_time": "2022-07-28T09:40:09.356Z"
   },
   {
    "duration": 11,
    "start_time": "2022-07-28T09:40:09.374Z"
   },
   {
    "duration": 13,
    "start_time": "2022-07-28T09:40:09.404Z"
   },
   {
    "duration": 427,
    "start_time": "2022-07-28T09:40:09.418Z"
   },
   {
    "duration": 15,
    "start_time": "2022-07-28T09:40:09.847Z"
   },
   {
    "duration": 405,
    "start_time": "2022-07-28T09:40:09.864Z"
   },
   {
    "duration": 11,
    "start_time": "2022-07-28T09:40:10.270Z"
   },
   {
    "duration": 65,
    "start_time": "2022-07-28T09:40:10.283Z"
   },
   {
    "duration": 57,
    "start_time": "2022-07-28T09:40:10.350Z"
   },
   {
    "duration": 70,
    "start_time": "2022-07-28T09:40:10.409Z"
   },
   {
    "duration": 53,
    "start_time": "2022-07-28T09:40:10.481Z"
   },
   {
    "duration": 34,
    "start_time": "2022-07-28T09:40:10.537Z"
   },
   {
    "duration": 40,
    "start_time": "2022-07-28T09:40:10.573Z"
   },
   {
    "duration": 11,
    "start_time": "2022-07-28T09:40:20.421Z"
   },
   {
    "duration": 18,
    "start_time": "2022-07-28T09:40:22.046Z"
   },
   {
    "duration": 11,
    "start_time": "2022-07-28T09:41:24.979Z"
   },
   {
    "duration": 16,
    "start_time": "2022-07-28T09:41:28.816Z"
   },
   {
    "duration": 113,
    "start_time": "2022-07-28T09:41:42.633Z"
   },
   {
    "duration": 34,
    "start_time": "2022-07-28T09:41:44.486Z"
   },
   {
    "duration": 14,
    "start_time": "2022-07-28T09:41:44.886Z"
   },
   {
    "duration": 19,
    "start_time": "2022-07-28T09:41:45.806Z"
   },
   {
    "duration": 13,
    "start_time": "2022-07-28T09:41:46.500Z"
   },
   {
    "duration": 5,
    "start_time": "2022-07-28T09:41:48.920Z"
   },
   {
    "duration": 10,
    "start_time": "2022-07-28T09:41:49.269Z"
   },
   {
    "duration": 5,
    "start_time": "2022-07-28T09:42:25.493Z"
   },
   {
    "duration": 14,
    "start_time": "2022-07-28T09:42:30.903Z"
   },
   {
    "duration": 13,
    "start_time": "2022-07-28T09:42:45.828Z"
   },
   {
    "duration": 12,
    "start_time": "2022-07-28T09:43:15.483Z"
   },
   {
    "duration": 25,
    "start_time": "2022-07-28T09:44:45.043Z"
   },
   {
    "duration": 1660,
    "start_time": "2022-07-28T09:45:01.977Z"
   },
   {
    "duration": 4,
    "start_time": "2022-07-28T09:45:03.640Z"
   },
   {
    "duration": 16,
    "start_time": "2022-07-28T09:45:03.646Z"
   },
   {
    "duration": 474,
    "start_time": "2022-07-28T09:45:03.665Z"
   },
   {
    "duration": 9,
    "start_time": "2022-07-28T09:45:04.141Z"
   },
   {
    "duration": 1363,
    "start_time": "2022-07-28T09:45:04.152Z"
   },
   {
    "duration": 9,
    "start_time": "2022-07-28T09:45:05.517Z"
   },
   {
    "duration": 17,
    "start_time": "2022-07-28T09:45:05.528Z"
   },
   {
    "duration": 90,
    "start_time": "2022-07-28T09:45:05.548Z"
   },
   {
    "duration": 64,
    "start_time": "2022-07-28T09:45:05.641Z"
   },
   {
    "duration": 3,
    "start_time": "2022-07-28T09:45:05.707Z"
   },
   {
    "duration": 38,
    "start_time": "2022-07-28T09:45:05.712Z"
   },
   {
    "duration": 16,
    "start_time": "2022-07-28T09:45:05.752Z"
   },
   {
    "duration": 20,
    "start_time": "2022-07-28T09:45:05.771Z"
   },
   {
    "duration": 459,
    "start_time": "2022-07-28T09:45:05.793Z"
   },
   {
    "duration": 17,
    "start_time": "2022-07-28T09:45:06.254Z"
   },
   {
    "duration": 465,
    "start_time": "2022-07-28T09:45:06.273Z"
   },
   {
    "duration": 14,
    "start_time": "2022-07-28T09:45:06.740Z"
   },
   {
    "duration": 64,
    "start_time": "2022-07-28T09:45:06.756Z"
   },
   {
    "duration": 40,
    "start_time": "2022-07-28T09:45:06.822Z"
   },
   {
    "duration": 73,
    "start_time": "2022-07-28T09:45:06.864Z"
   },
   {
    "duration": 33,
    "start_time": "2022-07-28T09:45:06.939Z"
   },
   {
    "duration": 37,
    "start_time": "2022-07-28T09:45:06.974Z"
   },
   {
    "duration": 14,
    "start_time": "2022-07-28T09:45:07.013Z"
   },
   {
    "duration": 194,
    "start_time": "2022-07-28T09:45:07.029Z"
   },
   {
    "duration": 0,
    "start_time": "2022-07-28T09:45:07.226Z"
   },
   {
    "duration": 0,
    "start_time": "2022-07-28T09:45:07.227Z"
   },
   {
    "duration": 0,
    "start_time": "2022-07-28T09:45:07.229Z"
   },
   {
    "duration": 0,
    "start_time": "2022-07-28T09:45:07.230Z"
   },
   {
    "duration": 0,
    "start_time": "2022-07-28T09:45:07.231Z"
   },
   {
    "duration": 0,
    "start_time": "2022-07-28T09:45:07.233Z"
   },
   {
    "duration": 0,
    "start_time": "2022-07-28T09:45:07.234Z"
   },
   {
    "duration": 0,
    "start_time": "2022-07-28T09:45:07.235Z"
   },
   {
    "duration": 0,
    "start_time": "2022-07-28T09:45:07.237Z"
   },
   {
    "duration": 0,
    "start_time": "2022-07-28T09:45:07.238Z"
   },
   {
    "duration": 0,
    "start_time": "2022-07-28T09:45:07.240Z"
   },
   {
    "duration": 0,
    "start_time": "2022-07-28T09:45:07.241Z"
   },
   {
    "duration": 0,
    "start_time": "2022-07-28T09:45:07.242Z"
   },
   {
    "duration": 0,
    "start_time": "2022-07-28T09:45:07.243Z"
   },
   {
    "duration": 0,
    "start_time": "2022-07-28T09:45:07.244Z"
   },
   {
    "duration": 0,
    "start_time": "2022-07-28T09:45:07.245Z"
   },
   {
    "duration": 0,
    "start_time": "2022-07-28T09:45:07.245Z"
   },
   {
    "duration": 0,
    "start_time": "2022-07-28T09:45:07.246Z"
   },
   {
    "duration": 0,
    "start_time": "2022-07-28T09:45:07.247Z"
   },
   {
    "duration": 0,
    "start_time": "2022-07-28T09:45:07.248Z"
   },
   {
    "duration": 0,
    "start_time": "2022-07-28T09:45:07.249Z"
   },
   {
    "duration": 0,
    "start_time": "2022-07-28T09:45:07.250Z"
   },
   {
    "duration": 0,
    "start_time": "2022-07-28T09:45:07.251Z"
   },
   {
    "duration": 0,
    "start_time": "2022-07-28T09:45:07.252Z"
   },
   {
    "duration": 0,
    "start_time": "2022-07-28T09:45:07.254Z"
   },
   {
    "duration": 0,
    "start_time": "2022-07-28T09:45:07.255Z"
   },
   {
    "duration": 0,
    "start_time": "2022-07-28T09:45:07.256Z"
   },
   {
    "duration": 0,
    "start_time": "2022-07-28T09:45:07.304Z"
   },
   {
    "duration": 0,
    "start_time": "2022-07-28T09:45:07.305Z"
   },
   {
    "duration": 0,
    "start_time": "2022-07-28T09:45:07.307Z"
   },
   {
    "duration": 0,
    "start_time": "2022-07-28T09:45:07.307Z"
   },
   {
    "duration": 29,
    "start_time": "2022-07-28T09:45:17.460Z"
   },
   {
    "duration": 15,
    "start_time": "2022-07-28T09:45:26.505Z"
   },
   {
    "duration": 20,
    "start_time": "2022-07-28T09:45:31.574Z"
   },
   {
    "duration": 14,
    "start_time": "2022-07-28T09:45:38.776Z"
   },
   {
    "duration": 11,
    "start_time": "2022-07-28T09:46:23.760Z"
   },
   {
    "duration": 21,
    "start_time": "2022-07-28T09:47:00.353Z"
   },
   {
    "duration": 12,
    "start_time": "2022-07-28T09:47:02.745Z"
   },
   {
    "duration": 18,
    "start_time": "2022-07-28T09:47:06.583Z"
   },
   {
    "duration": 28,
    "start_time": "2022-07-28T09:47:08.601Z"
   },
   {
    "duration": 12,
    "start_time": "2022-07-28T09:47:11.463Z"
   },
   {
    "duration": 27,
    "start_time": "2022-07-28T09:47:30.934Z"
   },
   {
    "duration": 17,
    "start_time": "2022-07-28T09:47:32.791Z"
   },
   {
    "duration": 14,
    "start_time": "2022-07-28T09:47:35.838Z"
   },
   {
    "duration": 44,
    "start_time": "2022-07-28T09:48:04.544Z"
   },
   {
    "duration": 26,
    "start_time": "2022-07-28T09:48:22.108Z"
   },
   {
    "duration": 12,
    "start_time": "2022-07-28T09:48:23.559Z"
   },
   {
    "duration": 1407,
    "start_time": "2022-07-28T09:48:36.852Z"
   },
   {
    "duration": 4,
    "start_time": "2022-07-28T09:48:38.261Z"
   },
   {
    "duration": 6,
    "start_time": "2022-07-28T09:48:38.267Z"
   },
   {
    "duration": 477,
    "start_time": "2022-07-28T09:48:38.274Z"
   },
   {
    "duration": 6,
    "start_time": "2022-07-28T09:48:38.753Z"
   },
   {
    "duration": 1303,
    "start_time": "2022-07-28T09:48:38.761Z"
   },
   {
    "duration": 41,
    "start_time": "2022-07-28T09:48:40.067Z"
   },
   {
    "duration": 20,
    "start_time": "2022-07-28T09:48:40.110Z"
   },
   {
    "duration": 110,
    "start_time": "2022-07-28T09:48:40.132Z"
   },
   {
    "duration": 72,
    "start_time": "2022-07-28T09:48:40.245Z"
   },
   {
    "duration": 3,
    "start_time": "2022-07-28T09:48:40.319Z"
   },
   {
    "duration": 16,
    "start_time": "2022-07-28T09:48:40.324Z"
   },
   {
    "duration": 8,
    "start_time": "2022-07-28T09:48:40.341Z"
   },
   {
    "duration": 12,
    "start_time": "2022-07-28T09:48:40.352Z"
   },
   {
    "duration": 466,
    "start_time": "2022-07-28T09:48:40.366Z"
   },
   {
    "duration": 16,
    "start_time": "2022-07-28T09:48:40.834Z"
   },
   {
    "duration": 400,
    "start_time": "2022-07-28T09:48:40.852Z"
   },
   {
    "duration": 11,
    "start_time": "2022-07-28T09:48:41.254Z"
   },
   {
    "duration": 73,
    "start_time": "2022-07-28T09:48:41.267Z"
   },
   {
    "duration": 46,
    "start_time": "2022-07-28T09:48:41.342Z"
   },
   {
    "duration": 64,
    "start_time": "2022-07-28T09:48:41.405Z"
   },
   {
    "duration": 54,
    "start_time": "2022-07-28T09:48:41.470Z"
   },
   {
    "duration": 29,
    "start_time": "2022-07-28T09:48:41.526Z"
   },
   {
    "duration": 15,
    "start_time": "2022-07-28T09:48:41.557Z"
   },
   {
    "duration": 53,
    "start_time": "2022-07-28T09:48:41.573Z"
   },
   {
    "duration": 12,
    "start_time": "2022-07-28T09:48:41.628Z"
   },
   {
    "duration": 22,
    "start_time": "2022-07-28T09:48:41.642Z"
   },
   {
    "duration": 39,
    "start_time": "2022-07-28T09:48:41.665Z"
   },
   {
    "duration": 9,
    "start_time": "2022-07-28T09:48:41.706Z"
   },
   {
    "duration": 34,
    "start_time": "2022-07-28T09:48:41.717Z"
   },
   {
    "duration": 5,
    "start_time": "2022-07-28T09:48:41.753Z"
   },
   {
    "duration": 152,
    "start_time": "2022-07-28T09:48:41.760Z"
   },
   {
    "duration": 11,
    "start_time": "2022-07-28T09:48:41.914Z"
   },
   {
    "duration": 24,
    "start_time": "2022-07-28T09:48:41.927Z"
   },
   {
    "duration": 684,
    "start_time": "2022-07-28T09:48:41.953Z"
   },
   {
    "duration": 21,
    "start_time": "2022-07-28T09:48:42.640Z"
   },
   {
    "duration": 595,
    "start_time": "2022-07-28T09:48:42.664Z"
   },
   {
    "duration": 19,
    "start_time": "2022-07-28T09:48:43.261Z"
   },
   {
    "duration": 593,
    "start_time": "2022-07-28T09:48:43.282Z"
   },
   {
    "duration": 27,
    "start_time": "2022-07-28T09:48:43.877Z"
   },
   {
    "duration": 21,
    "start_time": "2022-07-28T09:48:43.909Z"
   },
   {
    "duration": 491,
    "start_time": "2022-07-28T09:48:43.932Z"
   },
   {
    "duration": 7,
    "start_time": "2022-07-28T09:48:44.424Z"
   },
   {
    "duration": 16,
    "start_time": "2022-07-28T09:48:44.433Z"
   },
   {
    "duration": 760,
    "start_time": "2022-07-28T09:48:44.451Z"
   },
   {
    "duration": 5,
    "start_time": "2022-07-28T09:48:45.213Z"
   },
   {
    "duration": 41,
    "start_time": "2022-07-28T09:48:45.220Z"
   },
   {
    "duration": 12,
    "start_time": "2022-07-28T09:48:45.262Z"
   },
   {
    "duration": 33,
    "start_time": "2022-07-28T09:48:45.276Z"
   },
   {
    "duration": 28,
    "start_time": "2022-07-28T09:48:45.311Z"
   },
   {
    "duration": 470,
    "start_time": "2022-07-28T09:48:45.342Z"
   },
   {
    "duration": 772,
    "start_time": "2022-07-28T09:48:45.814Z"
   },
   {
    "duration": 352,
    "start_time": "2022-07-28T09:48:46.589Z"
   },
   {
    "duration": 8,
    "start_time": "2022-07-28T09:48:46.943Z"
   },
   {
    "duration": 12,
    "start_time": "2022-07-28T09:48:46.953Z"
   },
   {
    "duration": 144,
    "start_time": "2022-07-28T09:49:36.535Z"
   },
   {
    "duration": 14,
    "start_time": "2022-07-28T09:49:40.373Z"
   },
   {
    "duration": 13,
    "start_time": "2022-07-28T09:50:10.122Z"
   },
   {
    "duration": 10,
    "start_time": "2022-07-28T09:50:14.775Z"
   },
   {
    "duration": 10,
    "start_time": "2022-07-28T09:50:21.448Z"
   },
   {
    "duration": 14,
    "start_time": "2022-07-28T09:50:56.054Z"
   },
   {
    "duration": 10,
    "start_time": "2022-07-28T09:51:08.419Z"
   },
   {
    "duration": 11,
    "start_time": "2022-07-28T09:51:11.317Z"
   },
   {
    "duration": 11,
    "start_time": "2022-07-28T09:51:18.826Z"
   },
   {
    "duration": 6,
    "start_time": "2022-07-28T09:51:36.619Z"
   },
   {
    "duration": 28,
    "start_time": "2022-07-28T09:51:44.101Z"
   },
   {
    "duration": 16,
    "start_time": "2022-07-28T09:51:46.718Z"
   },
   {
    "duration": 1591,
    "start_time": "2022-07-28T09:51:55.292Z"
   },
   {
    "duration": 5,
    "start_time": "2022-07-28T09:51:56.886Z"
   },
   {
    "duration": 8,
    "start_time": "2022-07-28T09:51:56.893Z"
   },
   {
    "duration": 467,
    "start_time": "2022-07-28T09:51:56.904Z"
   },
   {
    "duration": 6,
    "start_time": "2022-07-28T09:51:57.373Z"
   },
   {
    "duration": 1265,
    "start_time": "2022-07-28T09:51:57.381Z"
   },
   {
    "duration": 10,
    "start_time": "2022-07-28T09:51:58.648Z"
   },
   {
    "duration": 12,
    "start_time": "2022-07-28T09:51:58.660Z"
   },
   {
    "duration": 106,
    "start_time": "2022-07-28T09:51:58.674Z"
   },
   {
    "duration": 65,
    "start_time": "2022-07-28T09:51:58.783Z"
   },
   {
    "duration": 2,
    "start_time": "2022-07-28T09:51:58.850Z"
   },
   {
    "duration": 46,
    "start_time": "2022-07-28T09:51:58.854Z"
   },
   {
    "duration": 46,
    "start_time": "2022-07-28T09:51:58.902Z"
   },
   {
    "duration": 23,
    "start_time": "2022-07-28T09:51:58.950Z"
   },
   {
    "duration": 448,
    "start_time": "2022-07-28T09:51:58.975Z"
   },
   {
    "duration": 17,
    "start_time": "2022-07-28T09:51:59.425Z"
   },
   {
    "duration": 420,
    "start_time": "2022-07-28T09:51:59.444Z"
   },
   {
    "duration": 12,
    "start_time": "2022-07-28T09:51:59.866Z"
   },
   {
    "duration": 72,
    "start_time": "2022-07-28T09:51:59.880Z"
   },
   {
    "duration": 53,
    "start_time": "2022-07-28T09:51:59.954Z"
   },
   {
    "duration": 72,
    "start_time": "2022-07-28T09:52:00.009Z"
   },
   {
    "duration": 56,
    "start_time": "2022-07-28T09:52:00.083Z"
   },
   {
    "duration": 37,
    "start_time": "2022-07-28T09:52:00.142Z"
   },
   {
    "duration": 40,
    "start_time": "2022-07-28T09:52:00.182Z"
   },
   {
    "duration": 53,
    "start_time": "2022-07-28T09:52:00.225Z"
   },
   {
    "duration": 11,
    "start_time": "2022-07-28T09:52:00.280Z"
   },
   {
    "duration": 30,
    "start_time": "2022-07-28T09:52:00.293Z"
   },
   {
    "duration": 13,
    "start_time": "2022-07-28T09:52:00.327Z"
   },
   {
    "duration": 11,
    "start_time": "2022-07-28T09:52:00.342Z"
   },
   {
    "duration": 35,
    "start_time": "2022-07-28T09:52:00.355Z"
   },
   {
    "duration": 6,
    "start_time": "2022-07-28T09:52:00.405Z"
   },
   {
    "duration": 135,
    "start_time": "2022-07-28T09:52:00.413Z"
   },
   {
    "duration": 12,
    "start_time": "2022-07-28T09:52:00.551Z"
   },
   {
    "duration": 88,
    "start_time": "2022-07-28T09:52:00.565Z"
   },
   {
    "duration": 686,
    "start_time": "2022-07-28T09:52:00.655Z"
   },
   {
    "duration": 19,
    "start_time": "2022-07-28T09:52:01.343Z"
   },
   {
    "duration": 595,
    "start_time": "2022-07-28T09:52:01.365Z"
   },
   {
    "duration": 19,
    "start_time": "2022-07-28T09:52:01.962Z"
   },
   {
    "duration": 596,
    "start_time": "2022-07-28T09:52:01.983Z"
   },
   {
    "duration": 23,
    "start_time": "2022-07-28T09:52:02.581Z"
   },
   {
    "duration": 20,
    "start_time": "2022-07-28T09:52:02.606Z"
   },
   {
    "duration": 492,
    "start_time": "2022-07-28T09:52:02.628Z"
   },
   {
    "duration": 7,
    "start_time": "2022-07-28T09:52:03.122Z"
   },
   {
    "duration": 18,
    "start_time": "2022-07-28T09:52:03.132Z"
   },
   {
    "duration": 774,
    "start_time": "2022-07-28T09:52:03.152Z"
   },
   {
    "duration": 5,
    "start_time": "2022-07-28T09:52:03.928Z"
   },
   {
    "duration": 60,
    "start_time": "2022-07-28T09:52:03.935Z"
   },
   {
    "duration": 11,
    "start_time": "2022-07-28T09:52:03.997Z"
   },
   {
    "duration": 39,
    "start_time": "2022-07-28T09:52:04.010Z"
   },
   {
    "duration": 21,
    "start_time": "2022-07-28T09:52:04.051Z"
   },
   {
    "duration": 489,
    "start_time": "2022-07-28T09:52:04.075Z"
   },
   {
    "duration": 766,
    "start_time": "2022-07-28T09:52:04.566Z"
   },
   {
    "duration": 299,
    "start_time": "2022-07-28T09:52:05.335Z"
   },
   {
    "duration": 8,
    "start_time": "2022-07-28T09:52:05.635Z"
   },
   {
    "duration": 11,
    "start_time": "2022-07-28T09:52:05.645Z"
   },
   {
    "duration": 39,
    "start_time": "2022-07-28T09:52:26.408Z"
   },
   {
    "duration": 18,
    "start_time": "2022-07-28T09:52:30.520Z"
   },
   {
    "duration": 34,
    "start_time": "2022-07-28T09:52:44.609Z"
   },
   {
    "duration": 13,
    "start_time": "2022-07-28T09:52:45.600Z"
   },
   {
    "duration": 7,
    "start_time": "2022-07-28T09:52:54.926Z"
   },
   {
    "duration": 15,
    "start_time": "2022-07-28T09:53:04.794Z"
   },
   {
    "duration": 1444,
    "start_time": "2022-07-28T09:53:36.582Z"
   },
   {
    "duration": 4,
    "start_time": "2022-07-28T09:53:38.028Z"
   },
   {
    "duration": 6,
    "start_time": "2022-07-28T09:53:38.034Z"
   },
   {
    "duration": 478,
    "start_time": "2022-07-28T09:53:38.043Z"
   },
   {
    "duration": 5,
    "start_time": "2022-07-28T09:53:38.523Z"
   },
   {
    "duration": 1339,
    "start_time": "2022-07-28T09:53:38.530Z"
   },
   {
    "duration": 33,
    "start_time": "2022-07-28T09:53:39.871Z"
   },
   {
    "duration": 8,
    "start_time": "2022-07-28T09:53:39.906Z"
   },
   {
    "duration": 88,
    "start_time": "2022-07-28T09:53:39.916Z"
   },
   {
    "duration": 56,
    "start_time": "2022-07-28T09:53:40.007Z"
   },
   {
    "duration": 3,
    "start_time": "2022-07-28T09:53:40.065Z"
   },
   {
    "duration": 36,
    "start_time": "2022-07-28T09:53:40.069Z"
   },
   {
    "duration": 4,
    "start_time": "2022-07-28T09:53:40.107Z"
   },
   {
    "duration": 20,
    "start_time": "2022-07-28T09:53:40.113Z"
   },
   {
    "duration": 426,
    "start_time": "2022-07-28T09:53:40.136Z"
   },
   {
    "duration": 15,
    "start_time": "2022-07-28T09:53:40.564Z"
   },
   {
    "duration": 374,
    "start_time": "2022-07-28T09:53:40.581Z"
   },
   {
    "duration": 11,
    "start_time": "2022-07-28T09:53:40.957Z"
   },
   {
    "duration": 68,
    "start_time": "2022-07-28T09:53:40.970Z"
   },
   {
    "duration": 42,
    "start_time": "2022-07-28T09:53:41.039Z"
   },
   {
    "duration": 84,
    "start_time": "2022-07-28T09:53:41.082Z"
   },
   {
    "duration": 51,
    "start_time": "2022-07-28T09:53:41.168Z"
   },
   {
    "duration": 35,
    "start_time": "2022-07-28T09:53:41.221Z"
   },
   {
    "duration": 16,
    "start_time": "2022-07-28T09:53:41.258Z"
   },
   {
    "duration": 53,
    "start_time": "2022-07-28T09:53:41.275Z"
   },
   {
    "duration": 11,
    "start_time": "2022-07-28T09:53:41.330Z"
   },
   {
    "duration": 22,
    "start_time": "2022-07-28T09:53:41.343Z"
   },
   {
    "duration": 42,
    "start_time": "2022-07-28T09:53:41.368Z"
   },
   {
    "duration": 22,
    "start_time": "2022-07-28T09:53:41.411Z"
   },
   {
    "duration": 14,
    "start_time": "2022-07-28T09:54:58.422Z"
   },
   {
    "duration": 12,
    "start_time": "2022-07-28T09:55:09.881Z"
   },
   {
    "duration": 12,
    "start_time": "2022-07-28T09:57:43.077Z"
   },
   {
    "duration": 10,
    "start_time": "2022-07-28T09:58:34.779Z"
   },
   {
    "duration": 12,
    "start_time": "2022-07-28T09:58:37.797Z"
   },
   {
    "duration": 14,
    "start_time": "2022-07-28T09:58:46.655Z"
   },
   {
    "duration": 4,
    "start_time": "2022-07-28T09:58:53.933Z"
   },
   {
    "duration": 14,
    "start_time": "2022-07-28T10:00:46.282Z"
   },
   {
    "duration": 3,
    "start_time": "2022-07-28T10:02:05.938Z"
   },
   {
    "duration": 5,
    "start_time": "2022-07-28T10:03:14.421Z"
   },
   {
    "duration": 12,
    "start_time": "2022-07-28T10:03:24.558Z"
   },
   {
    "duration": 12,
    "start_time": "2022-07-28T10:03:30.206Z"
   },
   {
    "duration": 1470,
    "start_time": "2022-07-28T10:03:44.373Z"
   },
   {
    "duration": 4,
    "start_time": "2022-07-28T10:03:45.845Z"
   },
   {
    "duration": 16,
    "start_time": "2022-07-28T10:03:45.851Z"
   },
   {
    "duration": 491,
    "start_time": "2022-07-28T10:03:45.869Z"
   },
   {
    "duration": 6,
    "start_time": "2022-07-28T10:03:46.362Z"
   },
   {
    "duration": 1317,
    "start_time": "2022-07-28T10:03:46.370Z"
   },
   {
    "duration": 10,
    "start_time": "2022-07-28T10:03:47.704Z"
   },
   {
    "duration": 13,
    "start_time": "2022-07-28T10:03:47.716Z"
   },
   {
    "duration": 108,
    "start_time": "2022-07-28T10:03:47.732Z"
   },
   {
    "duration": 68,
    "start_time": "2022-07-28T10:03:47.842Z"
   },
   {
    "duration": 3,
    "start_time": "2022-07-28T10:03:47.912Z"
   },
   {
    "duration": 17,
    "start_time": "2022-07-28T10:03:47.917Z"
   },
   {
    "duration": 10,
    "start_time": "2022-07-28T10:03:47.936Z"
   },
   {
    "duration": 11,
    "start_time": "2022-07-28T10:03:47.950Z"
   },
   {
    "duration": 483,
    "start_time": "2022-07-28T10:03:47.963Z"
   },
   {
    "duration": 17,
    "start_time": "2022-07-28T10:03:48.448Z"
   },
   {
    "duration": 393,
    "start_time": "2022-07-28T10:03:48.467Z"
   },
   {
    "duration": 12,
    "start_time": "2022-07-28T10:03:48.862Z"
   },
   {
    "duration": 68,
    "start_time": "2022-07-28T10:03:48.876Z"
   },
   {
    "duration": 44,
    "start_time": "2022-07-28T10:03:48.946Z"
   },
   {
    "duration": 74,
    "start_time": "2022-07-28T10:03:49.003Z"
   },
   {
    "duration": 51,
    "start_time": "2022-07-28T10:03:49.079Z"
   },
   {
    "duration": 29,
    "start_time": "2022-07-28T10:03:49.132Z"
   },
   {
    "duration": 15,
    "start_time": "2022-07-28T10:03:49.163Z"
   },
   {
    "duration": 30,
    "start_time": "2022-07-28T10:03:49.203Z"
   },
   {
    "duration": 11,
    "start_time": "2022-07-28T10:03:49.235Z"
   },
   {
    "duration": 21,
    "start_time": "2022-07-28T10:03:49.248Z"
   },
   {
    "duration": 41,
    "start_time": "2022-07-28T10:03:49.270Z"
   },
   {
    "duration": 6,
    "start_time": "2022-07-28T10:03:49.313Z"
   },
   {
    "duration": 10,
    "start_time": "2022-07-28T10:03:49.321Z"
   },
   {
    "duration": 17,
    "start_time": "2022-07-28T10:03:49.333Z"
   },
   {
    "duration": 5,
    "start_time": "2022-07-28T10:03:49.352Z"
   },
   {
    "duration": 16,
    "start_time": "2022-07-28T10:03:49.359Z"
   },
   {
    "duration": 28,
    "start_time": "2022-07-28T10:03:49.404Z"
   },
   {
    "duration": 5,
    "start_time": "2022-07-28T10:03:49.434Z"
   },
   {
    "duration": 130,
    "start_time": "2022-07-28T10:03:49.441Z"
   },
   {
    "duration": 9,
    "start_time": "2022-07-28T10:03:49.573Z"
   },
   {
    "duration": 30,
    "start_time": "2022-07-28T10:03:49.584Z"
   },
   {
    "duration": 603,
    "start_time": "2022-07-28T10:03:49.615Z"
   },
   {
    "duration": 24,
    "start_time": "2022-07-28T10:03:50.220Z"
   },
   {
    "duration": 604,
    "start_time": "2022-07-28T10:03:50.248Z"
   },
   {
    "duration": 20,
    "start_time": "2022-07-28T10:03:50.853Z"
   },
   {
    "duration": 672,
    "start_time": "2022-07-28T10:03:50.875Z"
   },
   {
    "duration": 10,
    "start_time": "2022-07-28T10:03:51.549Z"
   },
   {
    "duration": 19,
    "start_time": "2022-07-28T10:03:51.561Z"
   },
   {
    "duration": 541,
    "start_time": "2022-07-28T10:03:51.581Z"
   },
   {
    "duration": 9,
    "start_time": "2022-07-28T10:03:52.124Z"
   },
   {
    "duration": 15,
    "start_time": "2022-07-28T10:03:52.135Z"
   },
   {
    "duration": 769,
    "start_time": "2022-07-28T10:03:52.152Z"
   },
   {
    "duration": 7,
    "start_time": "2022-07-28T10:03:52.923Z"
   },
   {
    "duration": 36,
    "start_time": "2022-07-28T10:03:52.933Z"
   },
   {
    "duration": 37,
    "start_time": "2022-07-28T10:03:52.972Z"
   },
   {
    "duration": 6,
    "start_time": "2022-07-28T10:03:53.011Z"
   },
   {
    "duration": 24,
    "start_time": "2022-07-28T10:03:53.020Z"
   },
   {
    "duration": 471,
    "start_time": "2022-07-28T10:03:53.047Z"
   },
   {
    "duration": 765,
    "start_time": "2022-07-28T10:03:53.520Z"
   },
   {
    "duration": 313,
    "start_time": "2022-07-28T10:03:54.287Z"
   },
   {
    "duration": 8,
    "start_time": "2022-07-28T10:03:54.605Z"
   },
   {
    "duration": 15,
    "start_time": "2022-07-28T10:03:54.616Z"
   },
   {
    "duration": 1479,
    "start_time": "2022-07-28T10:05:59.956Z"
   },
   {
    "duration": 4,
    "start_time": "2022-07-28T10:06:01.437Z"
   },
   {
    "duration": 9,
    "start_time": "2022-07-28T10:06:01.443Z"
   },
   {
    "duration": 469,
    "start_time": "2022-07-28T10:06:01.455Z"
   },
   {
    "duration": 5,
    "start_time": "2022-07-28T10:06:01.925Z"
   },
   {
    "duration": 1297,
    "start_time": "2022-07-28T10:06:01.932Z"
   },
   {
    "duration": 9,
    "start_time": "2022-07-28T10:06:03.232Z"
   },
   {
    "duration": 26,
    "start_time": "2022-07-28T10:06:03.243Z"
   },
   {
    "duration": 105,
    "start_time": "2022-07-28T10:06:03.271Z"
   },
   {
    "duration": 65,
    "start_time": "2022-07-28T10:06:03.380Z"
   },
   {
    "duration": 2,
    "start_time": "2022-07-28T10:06:03.448Z"
   },
   {
    "duration": 14,
    "start_time": "2022-07-28T10:06:03.453Z"
   },
   {
    "duration": 16,
    "start_time": "2022-07-28T10:06:03.469Z"
   },
   {
    "duration": 34,
    "start_time": "2022-07-28T10:06:03.487Z"
   },
   {
    "duration": 435,
    "start_time": "2022-07-28T10:06:03.523Z"
   },
   {
    "duration": 15,
    "start_time": "2022-07-28T10:06:03.960Z"
   },
   {
    "duration": 380,
    "start_time": "2022-07-28T10:06:03.977Z"
   },
   {
    "duration": 11,
    "start_time": "2022-07-28T10:06:04.358Z"
   },
   {
    "duration": 68,
    "start_time": "2022-07-28T10:06:04.371Z"
   },
   {
    "duration": 41,
    "start_time": "2022-07-28T10:06:04.441Z"
   },
   {
    "duration": 87,
    "start_time": "2022-07-28T10:06:04.483Z"
   },
   {
    "duration": 58,
    "start_time": "2022-07-28T10:06:04.573Z"
   },
   {
    "duration": 35,
    "start_time": "2022-07-28T10:06:04.633Z"
   },
   {
    "duration": 40,
    "start_time": "2022-07-28T10:06:04.670Z"
   },
   {
    "duration": 28,
    "start_time": "2022-07-28T10:06:04.712Z"
   },
   {
    "duration": 11,
    "start_time": "2022-07-28T10:06:04.742Z"
   },
   {
    "duration": 28,
    "start_time": "2022-07-28T10:06:04.755Z"
   },
   {
    "duration": 13,
    "start_time": "2022-07-28T10:06:04.808Z"
   },
   {
    "duration": 6,
    "start_time": "2022-07-28T10:06:04.823Z"
   },
   {
    "duration": 16,
    "start_time": "2022-07-28T10:06:04.831Z"
   },
   {
    "duration": 17,
    "start_time": "2022-07-28T10:06:04.849Z"
   },
   {
    "duration": 11,
    "start_time": "2022-07-28T10:06:04.868Z"
   },
   {
    "duration": 14,
    "start_time": "2022-07-28T10:06:04.905Z"
   },
   {
    "duration": 36,
    "start_time": "2022-07-28T10:06:04.921Z"
   },
   {
    "duration": 6,
    "start_time": "2022-07-28T10:06:04.960Z"
   },
   {
    "duration": 144,
    "start_time": "2022-07-28T10:06:04.968Z"
   },
   {
    "duration": 9,
    "start_time": "2022-07-28T10:06:05.114Z"
   },
   {
    "duration": 26,
    "start_time": "2022-07-28T10:06:05.125Z"
   },
   {
    "duration": 584,
    "start_time": "2022-07-28T10:06:05.153Z"
   },
   {
    "duration": 19,
    "start_time": "2022-07-28T10:06:05.739Z"
   },
   {
    "duration": 572,
    "start_time": "2022-07-28T10:06:05.760Z"
   },
   {
    "duration": 20,
    "start_time": "2022-07-28T10:06:06.334Z"
   },
   {
    "duration": 638,
    "start_time": "2022-07-28T10:06:06.356Z"
   },
   {
    "duration": 15,
    "start_time": "2022-07-28T10:06:06.997Z"
   },
   {
    "duration": 22,
    "start_time": "2022-07-28T10:06:07.014Z"
   },
   {
    "duration": 481,
    "start_time": "2022-07-28T10:06:07.038Z"
   },
   {
    "duration": 6,
    "start_time": "2022-07-28T10:06:07.521Z"
   },
   {
    "duration": 15,
    "start_time": "2022-07-28T10:06:07.529Z"
   },
   {
    "duration": 772,
    "start_time": "2022-07-28T10:06:07.546Z"
   },
   {
    "duration": 6,
    "start_time": "2022-07-28T10:06:08.320Z"
   },
   {
    "duration": 38,
    "start_time": "2022-07-28T10:06:08.328Z"
   },
   {
    "duration": 11,
    "start_time": "2022-07-28T10:06:08.368Z"
   },
   {
    "duration": 6,
    "start_time": "2022-07-28T10:06:08.405Z"
   },
   {
    "duration": 20,
    "start_time": "2022-07-28T10:06:08.413Z"
   },
   {
    "duration": 510,
    "start_time": "2022-07-28T10:06:08.435Z"
   },
   {
    "duration": 765,
    "start_time": "2022-07-28T10:06:08.947Z"
   },
   {
    "duration": 278,
    "start_time": "2022-07-28T10:06:09.714Z"
   },
   {
    "duration": 12,
    "start_time": "2022-07-28T10:06:09.995Z"
   },
   {
    "duration": 19,
    "start_time": "2022-07-28T10:06:10.009Z"
   },
   {
    "duration": 1355,
    "start_time": "2022-07-28T10:06:38.335Z"
   },
   {
    "duration": 0,
    "start_time": "2022-07-28T10:06:39.693Z"
   },
   {
    "duration": 0,
    "start_time": "2022-07-28T10:06:39.695Z"
   },
   {
    "duration": 0,
    "start_time": "2022-07-28T10:06:39.696Z"
   },
   {
    "duration": 0,
    "start_time": "2022-07-28T10:06:39.705Z"
   },
   {
    "duration": 0,
    "start_time": "2022-07-28T10:06:39.707Z"
   },
   {
    "duration": 0,
    "start_time": "2022-07-28T10:06:39.708Z"
   },
   {
    "duration": 0,
    "start_time": "2022-07-28T10:06:39.710Z"
   },
   {
    "duration": 0,
    "start_time": "2022-07-28T10:06:39.711Z"
   },
   {
    "duration": 0,
    "start_time": "2022-07-28T10:06:39.712Z"
   },
   {
    "duration": 0,
    "start_time": "2022-07-28T10:06:39.714Z"
   },
   {
    "duration": 1,
    "start_time": "2022-07-28T10:06:39.715Z"
   },
   {
    "duration": 0,
    "start_time": "2022-07-28T10:06:39.717Z"
   },
   {
    "duration": 0,
    "start_time": "2022-07-28T10:06:39.719Z"
   },
   {
    "duration": 0,
    "start_time": "2022-07-28T10:06:39.720Z"
   },
   {
    "duration": 0,
    "start_time": "2022-07-28T10:06:39.721Z"
   },
   {
    "duration": 1,
    "start_time": "2022-07-28T10:06:39.722Z"
   },
   {
    "duration": 0,
    "start_time": "2022-07-28T10:06:39.724Z"
   },
   {
    "duration": 0,
    "start_time": "2022-07-28T10:06:39.725Z"
   },
   {
    "duration": 0,
    "start_time": "2022-07-28T10:06:39.726Z"
   },
   {
    "duration": 0,
    "start_time": "2022-07-28T10:06:39.727Z"
   },
   {
    "duration": 0,
    "start_time": "2022-07-28T10:06:39.729Z"
   },
   {
    "duration": 0,
    "start_time": "2022-07-28T10:06:39.730Z"
   },
   {
    "duration": 0,
    "start_time": "2022-07-28T10:06:39.730Z"
   },
   {
    "duration": 0,
    "start_time": "2022-07-28T10:06:39.731Z"
   },
   {
    "duration": 0,
    "start_time": "2022-07-28T10:06:39.732Z"
   },
   {
    "duration": 0,
    "start_time": "2022-07-28T10:06:39.733Z"
   },
   {
    "duration": 0,
    "start_time": "2022-07-28T10:06:39.734Z"
   },
   {
    "duration": 0,
    "start_time": "2022-07-28T10:06:39.735Z"
   },
   {
    "duration": 0,
    "start_time": "2022-07-28T10:06:39.736Z"
   },
   {
    "duration": 0,
    "start_time": "2022-07-28T10:06:39.738Z"
   },
   {
    "duration": 0,
    "start_time": "2022-07-28T10:06:39.739Z"
   },
   {
    "duration": 0,
    "start_time": "2022-07-28T10:06:39.741Z"
   },
   {
    "duration": 0,
    "start_time": "2022-07-28T10:06:39.742Z"
   },
   {
    "duration": 0,
    "start_time": "2022-07-28T10:06:39.743Z"
   },
   {
    "duration": 0,
    "start_time": "2022-07-28T10:06:39.744Z"
   },
   {
    "duration": 0,
    "start_time": "2022-07-28T10:06:39.804Z"
   },
   {
    "duration": 0,
    "start_time": "2022-07-28T10:06:39.807Z"
   },
   {
    "duration": 0,
    "start_time": "2022-07-28T10:06:39.808Z"
   },
   {
    "duration": 0,
    "start_time": "2022-07-28T10:06:39.810Z"
   },
   {
    "duration": 0,
    "start_time": "2022-07-28T10:06:39.811Z"
   },
   {
    "duration": 0,
    "start_time": "2022-07-28T10:06:39.812Z"
   },
   {
    "duration": 0,
    "start_time": "2022-07-28T10:06:39.814Z"
   },
   {
    "duration": 0,
    "start_time": "2022-07-28T10:06:39.815Z"
   },
   {
    "duration": 0,
    "start_time": "2022-07-28T10:06:39.816Z"
   },
   {
    "duration": 0,
    "start_time": "2022-07-28T10:06:39.817Z"
   },
   {
    "duration": 0,
    "start_time": "2022-07-28T10:06:39.818Z"
   },
   {
    "duration": 0,
    "start_time": "2022-07-28T10:06:39.820Z"
   },
   {
    "duration": 0,
    "start_time": "2022-07-28T10:06:39.821Z"
   },
   {
    "duration": 0,
    "start_time": "2022-07-28T10:06:39.822Z"
   },
   {
    "duration": 0,
    "start_time": "2022-07-28T10:06:39.823Z"
   },
   {
    "duration": 0,
    "start_time": "2022-07-28T10:06:39.824Z"
   },
   {
    "duration": 0,
    "start_time": "2022-07-28T10:06:39.825Z"
   },
   {
    "duration": 0,
    "start_time": "2022-07-28T10:06:39.826Z"
   },
   {
    "duration": 0,
    "start_time": "2022-07-28T10:06:39.827Z"
   },
   {
    "duration": 0,
    "start_time": "2022-07-28T10:06:39.828Z"
   },
   {
    "duration": 0,
    "start_time": "2022-07-28T10:06:39.829Z"
   },
   {
    "duration": 0,
    "start_time": "2022-07-28T10:06:39.830Z"
   },
   {
    "duration": 0,
    "start_time": "2022-07-28T10:06:39.831Z"
   },
   {
    "duration": 1221,
    "start_time": "2022-07-28T10:06:52.974Z"
   },
   {
    "duration": 5,
    "start_time": "2022-07-28T10:06:54.197Z"
   },
   {
    "duration": 7,
    "start_time": "2022-07-28T10:06:54.203Z"
   },
   {
    "duration": 458,
    "start_time": "2022-07-28T10:06:54.212Z"
   },
   {
    "duration": 5,
    "start_time": "2022-07-28T10:06:54.672Z"
   },
   {
    "duration": 1231,
    "start_time": "2022-07-28T10:06:54.679Z"
   },
   {
    "duration": 9,
    "start_time": "2022-07-28T10:06:55.912Z"
   },
   {
    "duration": 26,
    "start_time": "2022-07-28T10:06:55.923Z"
   },
   {
    "duration": 85,
    "start_time": "2022-07-28T10:06:55.951Z"
   },
   {
    "duration": 66,
    "start_time": "2022-07-28T10:06:56.039Z"
   },
   {
    "duration": 3,
    "start_time": "2022-07-28T10:06:56.107Z"
   },
   {
    "duration": 26,
    "start_time": "2022-07-28T10:06:56.112Z"
   },
   {
    "duration": 7,
    "start_time": "2022-07-28T10:06:56.141Z"
   },
   {
    "duration": 18,
    "start_time": "2022-07-28T10:06:56.150Z"
   },
   {
    "duration": 444,
    "start_time": "2022-07-28T10:06:56.171Z"
   },
   {
    "duration": 20,
    "start_time": "2022-07-28T10:06:56.617Z"
   },
   {
    "duration": 414,
    "start_time": "2022-07-28T10:06:56.639Z"
   },
   {
    "duration": 11,
    "start_time": "2022-07-28T10:06:57.055Z"
   },
   {
    "duration": 66,
    "start_time": "2022-07-28T10:06:57.068Z"
   },
   {
    "duration": 44,
    "start_time": "2022-07-28T10:06:57.136Z"
   },
   {
    "duration": 65,
    "start_time": "2022-07-28T10:06:57.204Z"
   },
   {
    "duration": 47,
    "start_time": "2022-07-28T10:06:57.271Z"
   },
   {
    "duration": 27,
    "start_time": "2022-07-28T10:06:57.319Z"
   },
   {
    "duration": 14,
    "start_time": "2022-07-28T10:06:57.348Z"
   },
   {
    "duration": 51,
    "start_time": "2022-07-28T10:06:57.363Z"
   },
   {
    "duration": 10,
    "start_time": "2022-07-28T10:06:57.416Z"
   },
   {
    "duration": 20,
    "start_time": "2022-07-28T10:06:57.428Z"
   },
   {
    "duration": 13,
    "start_time": "2022-07-28T10:06:57.452Z"
   },
   {
    "duration": 5,
    "start_time": "2022-07-28T10:06:57.467Z"
   },
   {
    "duration": 17,
    "start_time": "2022-07-28T10:06:57.505Z"
   },
   {
    "duration": 19,
    "start_time": "2022-07-28T10:06:57.524Z"
   },
   {
    "duration": 8,
    "start_time": "2022-07-28T10:06:57.544Z"
   },
   {
    "duration": 19,
    "start_time": "2022-07-28T10:06:57.554Z"
   },
   {
    "duration": 40,
    "start_time": "2022-07-28T10:06:57.575Z"
   },
   {
    "duration": 5,
    "start_time": "2022-07-28T10:06:57.617Z"
   },
   {
    "duration": 122,
    "start_time": "2022-07-28T10:06:57.625Z"
   },
   {
    "duration": 10,
    "start_time": "2022-07-28T10:06:57.749Z"
   },
   {
    "duration": 20,
    "start_time": "2022-07-28T10:06:57.761Z"
   },
   {
    "duration": 628,
    "start_time": "2022-07-28T10:06:57.782Z"
   },
   {
    "duration": 19,
    "start_time": "2022-07-28T10:06:58.411Z"
   },
   {
    "duration": 487,
    "start_time": "2022-07-28T10:06:58.432Z"
   },
   {
    "duration": 20,
    "start_time": "2022-07-28T10:06:58.921Z"
   },
   {
    "duration": 612,
    "start_time": "2022-07-28T10:06:58.943Z"
   },
   {
    "duration": 10,
    "start_time": "2022-07-28T10:06:59.557Z"
   },
   {
    "duration": 40,
    "start_time": "2022-07-28T10:06:59.569Z"
   },
   {
    "duration": 605,
    "start_time": "2022-07-28T10:06:59.611Z"
   },
   {
    "duration": 7,
    "start_time": "2022-07-28T10:07:00.218Z"
   },
   {
    "duration": 13,
    "start_time": "2022-07-28T10:07:00.227Z"
   },
   {
    "duration": 772,
    "start_time": "2022-07-28T10:07:00.242Z"
   },
   {
    "duration": 6,
    "start_time": "2022-07-28T10:07:01.016Z"
   },
   {
    "duration": 44,
    "start_time": "2022-07-28T10:07:01.024Z"
   },
   {
    "duration": 11,
    "start_time": "2022-07-28T10:07:01.069Z"
   },
   {
    "duration": 27,
    "start_time": "2022-07-28T10:07:01.082Z"
   },
   {
    "duration": 28,
    "start_time": "2022-07-28T10:07:01.110Z"
   },
   {
    "duration": 474,
    "start_time": "2022-07-28T10:07:01.139Z"
   },
   {
    "duration": 754,
    "start_time": "2022-07-28T10:07:01.614Z"
   },
   {
    "duration": 298,
    "start_time": "2022-07-28T10:07:02.370Z"
   },
   {
    "duration": 7,
    "start_time": "2022-07-28T10:07:02.670Z"
   },
   {
    "duration": 81,
    "start_time": "2022-07-28T10:07:02.680Z"
   },
   {
    "duration": 14,
    "start_time": "2022-07-28T10:08:39.112Z"
   },
   {
    "duration": 15,
    "start_time": "2022-07-28T10:08:46.681Z"
   },
   {
    "duration": 4,
    "start_time": "2022-07-28T10:09:04.482Z"
   },
   {
    "duration": 13,
    "start_time": "2022-07-28T10:09:07.851Z"
   },
   {
    "duration": 17,
    "start_time": "2022-07-28T10:09:12.708Z"
   },
   {
    "duration": 1273,
    "start_time": "2022-07-28T10:09:18.928Z"
   },
   {
    "duration": 5,
    "start_time": "2022-07-28T10:09:20.207Z"
   },
   {
    "duration": 31,
    "start_time": "2022-07-28T10:09:20.214Z"
   },
   {
    "duration": 502,
    "start_time": "2022-07-28T10:09:20.247Z"
   },
   {
    "duration": 5,
    "start_time": "2022-07-28T10:09:20.751Z"
   },
   {
    "duration": 1355,
    "start_time": "2022-07-28T10:09:20.757Z"
   },
   {
    "duration": 9,
    "start_time": "2022-07-28T10:09:22.114Z"
   },
   {
    "duration": 18,
    "start_time": "2022-07-28T10:09:22.125Z"
   },
   {
    "duration": 102,
    "start_time": "2022-07-28T10:09:22.145Z"
   },
   {
    "duration": 72,
    "start_time": "2022-07-28T10:09:22.250Z"
   },
   {
    "duration": 2,
    "start_time": "2022-07-28T10:09:22.324Z"
   },
   {
    "duration": 18,
    "start_time": "2022-07-28T10:09:22.328Z"
   },
   {
    "duration": 6,
    "start_time": "2022-07-28T10:09:22.347Z"
   },
   {
    "duration": 17,
    "start_time": "2022-07-28T10:09:22.355Z"
   },
   {
    "duration": 450,
    "start_time": "2022-07-28T10:09:22.374Z"
   },
   {
    "duration": 15,
    "start_time": "2022-07-28T10:09:22.826Z"
   },
   {
    "duration": 404,
    "start_time": "2022-07-28T10:09:22.842Z"
   },
   {
    "duration": 12,
    "start_time": "2022-07-28T10:09:23.248Z"
   },
   {
    "duration": 65,
    "start_time": "2022-07-28T10:09:23.261Z"
   },
   {
    "duration": 41,
    "start_time": "2022-07-28T10:09:23.329Z"
   },
   {
    "duration": 85,
    "start_time": "2022-07-28T10:09:23.371Z"
   },
   {
    "duration": 49,
    "start_time": "2022-07-28T10:09:23.458Z"
   },
   {
    "duration": 29,
    "start_time": "2022-07-28T10:09:23.509Z"
   },
   {
    "duration": 13,
    "start_time": "2022-07-28T10:09:23.539Z"
   },
   {
    "duration": 25,
    "start_time": "2022-07-28T10:09:23.554Z"
   },
   {
    "duration": 11,
    "start_time": "2022-07-28T10:09:23.604Z"
   },
   {
    "duration": 29,
    "start_time": "2022-07-28T10:09:23.617Z"
   },
   {
    "duration": 12,
    "start_time": "2022-07-28T10:09:23.650Z"
   },
   {
    "duration": 9,
    "start_time": "2022-07-28T10:09:23.663Z"
   },
   {
    "duration": 32,
    "start_time": "2022-07-28T10:09:23.673Z"
   },
   {
    "duration": 18,
    "start_time": "2022-07-28T10:09:23.707Z"
   },
   {
    "duration": 6,
    "start_time": "2022-07-28T10:09:23.727Z"
   },
   {
    "duration": 16,
    "start_time": "2022-07-28T10:09:23.735Z"
   },
   {
    "duration": 30,
    "start_time": "2022-07-28T10:09:23.752Z"
   },
   {
    "duration": 21,
    "start_time": "2022-07-28T10:09:23.784Z"
   },
   {
    "duration": 123,
    "start_time": "2022-07-28T10:09:23.806Z"
   },
   {
    "duration": 10,
    "start_time": "2022-07-28T10:09:23.931Z"
   },
   {
    "duration": 20,
    "start_time": "2022-07-28T10:09:23.943Z"
   },
   {
    "duration": 623,
    "start_time": "2022-07-28T10:09:23.965Z"
   },
   {
    "duration": 22,
    "start_time": "2022-07-28T10:09:24.590Z"
   },
   {
    "duration": 513,
    "start_time": "2022-07-28T10:09:24.613Z"
   },
   {
    "duration": 20,
    "start_time": "2022-07-28T10:09:25.128Z"
   },
   {
    "duration": 605,
    "start_time": "2022-07-28T10:09:25.149Z"
   },
   {
    "duration": 12,
    "start_time": "2022-07-28T10:09:25.756Z"
   },
   {
    "duration": 36,
    "start_time": "2022-07-28T10:09:25.770Z"
   },
   {
    "duration": 615,
    "start_time": "2022-07-28T10:09:25.808Z"
   },
   {
    "duration": 7,
    "start_time": "2022-07-28T10:09:26.425Z"
   },
   {
    "duration": 11,
    "start_time": "2022-07-28T10:09:26.434Z"
   },
   {
    "duration": 825,
    "start_time": "2022-07-28T10:09:26.447Z"
   },
   {
    "duration": 5,
    "start_time": "2022-07-28T10:09:27.274Z"
   },
   {
    "duration": 55,
    "start_time": "2022-07-28T10:09:27.280Z"
   },
   {
    "duration": 11,
    "start_time": "2022-07-28T10:09:27.337Z"
   },
   {
    "duration": 6,
    "start_time": "2022-07-28T10:09:27.349Z"
   },
   {
    "duration": 21,
    "start_time": "2022-07-28T10:09:27.357Z"
   },
   {
    "duration": 480,
    "start_time": "2022-07-28T10:09:27.380Z"
   },
   {
    "duration": 720,
    "start_time": "2022-07-28T10:09:27.862Z"
   },
   {
    "duration": 269,
    "start_time": "2022-07-28T10:09:28.583Z"
   },
   {
    "duration": 7,
    "start_time": "2022-07-28T10:09:28.853Z"
   },
   {
    "duration": 11,
    "start_time": "2022-07-28T10:09:28.862Z"
   },
   {
    "duration": 1238,
    "start_time": "2022-07-28T10:11:56.446Z"
   },
   {
    "duration": 5,
    "start_time": "2022-07-28T10:11:57.686Z"
   },
   {
    "duration": 4,
    "start_time": "2022-07-28T10:11:57.693Z"
   },
   {
    "duration": 464,
    "start_time": "2022-07-28T10:11:57.705Z"
   },
   {
    "duration": 6,
    "start_time": "2022-07-28T10:11:58.171Z"
   },
   {
    "duration": 1254,
    "start_time": "2022-07-28T10:11:58.179Z"
   },
   {
    "duration": 9,
    "start_time": "2022-07-28T10:11:59.436Z"
   },
   {
    "duration": 24,
    "start_time": "2022-07-28T10:11:59.447Z"
   },
   {
    "duration": 92,
    "start_time": "2022-07-28T10:11:59.473Z"
   },
   {
    "duration": 70,
    "start_time": "2022-07-28T10:11:59.567Z"
   },
   {
    "duration": 3,
    "start_time": "2022-07-28T10:11:59.640Z"
   },
   {
    "duration": 42,
    "start_time": "2022-07-28T10:11:59.645Z"
   },
   {
    "duration": 14,
    "start_time": "2022-07-28T10:11:59.689Z"
   },
   {
    "duration": 19,
    "start_time": "2022-07-28T10:11:59.706Z"
   },
   {
    "duration": 454,
    "start_time": "2022-07-28T10:11:59.726Z"
   },
   {
    "duration": 26,
    "start_time": "2022-07-28T10:12:00.182Z"
   },
   {
    "duration": 426,
    "start_time": "2022-07-28T10:12:00.210Z"
   },
   {
    "duration": 13,
    "start_time": "2022-07-28T10:12:00.638Z"
   },
   {
    "duration": 70,
    "start_time": "2022-07-28T10:12:00.653Z"
   },
   {
    "duration": 46,
    "start_time": "2022-07-28T10:12:00.725Z"
   },
   {
    "duration": 95,
    "start_time": "2022-07-28T10:12:00.773Z"
   },
   {
    "duration": 49,
    "start_time": "2022-07-28T10:12:00.870Z"
   },
   {
    "duration": 33,
    "start_time": "2022-07-28T10:12:00.920Z"
   },
   {
    "duration": 15,
    "start_time": "2022-07-28T10:12:00.955Z"
   },
   {
    "duration": 51,
    "start_time": "2022-07-28T10:12:00.972Z"
   },
   {
    "duration": 11,
    "start_time": "2022-07-28T10:12:01.025Z"
   },
   {
    "duration": 24,
    "start_time": "2022-07-28T10:12:01.038Z"
   },
   {
    "duration": 13,
    "start_time": "2022-07-28T10:12:01.063Z"
   },
   {
    "duration": 29,
    "start_time": "2022-07-28T10:12:01.078Z"
   },
   {
    "duration": 15,
    "start_time": "2022-07-28T10:12:01.109Z"
   },
   {
    "duration": 30,
    "start_time": "2022-07-28T10:12:01.126Z"
   },
   {
    "duration": 10,
    "start_time": "2022-07-28T10:14:14.658Z"
   },
   {
    "duration": 18,
    "start_time": "2022-07-28T10:14:15.908Z"
   },
   {
    "duration": 1324,
    "start_time": "2022-07-28T10:14:41.181Z"
   },
   {
    "duration": 5,
    "start_time": "2022-07-28T10:14:42.507Z"
   },
   {
    "duration": 8,
    "start_time": "2022-07-28T10:14:42.514Z"
   },
   {
    "duration": 481,
    "start_time": "2022-07-28T10:14:42.524Z"
   },
   {
    "duration": 5,
    "start_time": "2022-07-28T10:14:43.008Z"
   },
   {
    "duration": 1401,
    "start_time": "2022-07-28T10:14:43.015Z"
   },
   {
    "duration": 10,
    "start_time": "2022-07-28T10:14:44.418Z"
   },
   {
    "duration": 13,
    "start_time": "2022-07-28T10:14:44.430Z"
   },
   {
    "duration": 106,
    "start_time": "2022-07-28T10:14:44.445Z"
   },
   {
    "duration": 73,
    "start_time": "2022-07-28T10:14:44.553Z"
   },
   {
    "duration": 3,
    "start_time": "2022-07-28T10:14:44.628Z"
   },
   {
    "duration": 35,
    "start_time": "2022-07-28T10:14:44.632Z"
   },
   {
    "duration": 19,
    "start_time": "2022-07-28T10:14:44.669Z"
   },
   {
    "duration": 30,
    "start_time": "2022-07-28T10:14:44.693Z"
   },
   {
    "duration": 441,
    "start_time": "2022-07-28T10:14:44.726Z"
   },
   {
    "duration": 16,
    "start_time": "2022-07-28T10:14:45.169Z"
   },
   {
    "duration": 400,
    "start_time": "2022-07-28T10:14:45.187Z"
   },
   {
    "duration": 16,
    "start_time": "2022-07-28T10:14:45.589Z"
   },
   {
    "duration": 62,
    "start_time": "2022-07-28T10:14:45.607Z"
   },
   {
    "duration": 55,
    "start_time": "2022-07-28T10:14:45.671Z"
   },
   {
    "duration": 87,
    "start_time": "2022-07-28T10:14:45.728Z"
   },
   {
    "duration": 36,
    "start_time": "2022-07-28T10:14:45.817Z"
   },
   {
    "duration": 55,
    "start_time": "2022-07-28T10:14:45.855Z"
   },
   {
    "duration": 15,
    "start_time": "2022-07-28T10:14:45.913Z"
   },
   {
    "duration": 33,
    "start_time": "2022-07-28T10:14:45.930Z"
   },
   {
    "duration": 13,
    "start_time": "2022-07-28T10:14:45.965Z"
   },
   {
    "duration": 41,
    "start_time": "2022-07-28T10:14:45.980Z"
   },
   {
    "duration": 12,
    "start_time": "2022-07-28T10:14:46.024Z"
   },
   {
    "duration": 9,
    "start_time": "2022-07-28T10:14:46.038Z"
   },
   {
    "duration": 31,
    "start_time": "2022-07-28T10:14:46.048Z"
   },
   {
    "duration": 30,
    "start_time": "2022-07-28T10:14:46.081Z"
   },
   {
    "duration": 27,
    "start_time": "2022-07-28T10:14:46.113Z"
   },
   {
    "duration": 38,
    "start_time": "2022-07-28T10:14:46.142Z"
   },
   {
    "duration": 43,
    "start_time": "2022-07-28T10:14:46.182Z"
   },
   {
    "duration": 5,
    "start_time": "2022-07-28T10:14:46.227Z"
   },
   {
    "duration": 147,
    "start_time": "2022-07-28T10:14:46.234Z"
   },
   {
    "duration": 20,
    "start_time": "2022-07-28T10:14:46.384Z"
   },
   {
    "duration": 20,
    "start_time": "2022-07-28T10:14:46.406Z"
   },
   {
    "duration": 734,
    "start_time": "2022-07-28T10:14:46.428Z"
   },
   {
    "duration": 21,
    "start_time": "2022-07-28T10:14:47.164Z"
   },
   {
    "duration": 542,
    "start_time": "2022-07-28T10:14:47.191Z"
   },
   {
    "duration": 20,
    "start_time": "2022-07-28T10:14:47.736Z"
   },
   {
    "duration": 635,
    "start_time": "2022-07-28T10:14:47.758Z"
   },
   {
    "duration": 19,
    "start_time": "2022-07-28T10:14:48.395Z"
   },
   {
    "duration": 21,
    "start_time": "2022-07-28T10:14:48.416Z"
   },
   {
    "duration": 629,
    "start_time": "2022-07-28T10:14:48.439Z"
   },
   {
    "duration": 7,
    "start_time": "2022-07-28T10:14:49.070Z"
   },
   {
    "duration": 41,
    "start_time": "2022-07-28T10:14:49.079Z"
   },
   {
    "duration": 763,
    "start_time": "2022-07-28T10:14:49.122Z"
   },
   {
    "duration": 17,
    "start_time": "2022-07-28T10:14:49.887Z"
   },
   {
    "duration": 34,
    "start_time": "2022-07-28T10:14:49.906Z"
   },
   {
    "duration": 10,
    "start_time": "2022-07-28T10:14:49.942Z"
   },
   {
    "duration": 7,
    "start_time": "2022-07-28T10:14:49.953Z"
   },
   {
    "duration": 56,
    "start_time": "2022-07-28T10:14:49.962Z"
   },
   {
    "duration": 497,
    "start_time": "2022-07-28T10:14:50.020Z"
   },
   {
    "duration": 742,
    "start_time": "2022-07-28T10:14:50.520Z"
   },
   {
    "duration": 283,
    "start_time": "2022-07-28T10:14:51.265Z"
   },
   {
    "duration": 8,
    "start_time": "2022-07-28T10:14:51.550Z"
   },
   {
    "duration": 17,
    "start_time": "2022-07-28T10:14:51.560Z"
   },
   {
    "duration": 1194,
    "start_time": "2022-07-28T14:05:26.806Z"
   },
   {
    "duration": 5,
    "start_time": "2022-07-28T14:05:28.003Z"
   },
   {
    "duration": 8,
    "start_time": "2022-07-28T14:05:28.009Z"
   },
   {
    "duration": 1469,
    "start_time": "2022-07-28T14:05:28.019Z"
   },
   {
    "duration": 5,
    "start_time": "2022-07-28T14:05:29.490Z"
   },
   {
    "duration": 1172,
    "start_time": "2022-07-28T14:05:29.497Z"
   },
   {
    "duration": 7,
    "start_time": "2022-07-28T14:05:30.671Z"
   },
   {
    "duration": 30,
    "start_time": "2022-07-28T14:05:30.680Z"
   },
   {
    "duration": 91,
    "start_time": "2022-07-28T14:05:30.712Z"
   },
   {
    "duration": 65,
    "start_time": "2022-07-28T14:05:30.806Z"
   },
   {
    "duration": 3,
    "start_time": "2022-07-28T14:05:30.872Z"
   },
   {
    "duration": 47,
    "start_time": "2022-07-28T14:05:30.877Z"
   },
   {
    "duration": 22,
    "start_time": "2022-07-28T14:05:30.926Z"
   },
   {
    "duration": 25,
    "start_time": "2022-07-28T14:05:30.950Z"
   },
   {
    "duration": 418,
    "start_time": "2022-07-28T14:05:30.977Z"
   },
   {
    "duration": 16,
    "start_time": "2022-07-28T14:05:31.397Z"
   },
   {
    "duration": 407,
    "start_time": "2022-07-28T14:05:31.415Z"
   },
   {
    "duration": 13,
    "start_time": "2022-07-28T14:05:31.824Z"
   },
   {
    "duration": 59,
    "start_time": "2022-07-28T14:05:31.853Z"
   },
   {
    "duration": 55,
    "start_time": "2022-07-28T14:05:31.914Z"
   },
   {
    "duration": 58,
    "start_time": "2022-07-28T14:05:31.970Z"
   },
   {
    "duration": 50,
    "start_time": "2022-07-28T14:05:32.029Z"
   },
   {
    "duration": 26,
    "start_time": "2022-07-28T14:05:32.081Z"
   },
   {
    "duration": 13,
    "start_time": "2022-07-28T14:05:32.109Z"
   },
   {
    "duration": 50,
    "start_time": "2022-07-28T14:05:32.123Z"
   },
   {
    "duration": 11,
    "start_time": "2022-07-28T14:05:32.175Z"
   },
   {
    "duration": 25,
    "start_time": "2022-07-28T14:05:32.187Z"
   },
   {
    "duration": 39,
    "start_time": "2022-07-28T14:05:32.218Z"
   },
   {
    "duration": 26,
    "start_time": "2022-07-28T14:05:32.259Z"
   },
   {
    "duration": 24,
    "start_time": "2022-07-28T14:05:32.287Z"
   },
   {
    "duration": 19,
    "start_time": "2022-07-28T14:05:32.314Z"
   },
   {
    "duration": 11,
    "start_time": "2022-07-28T14:05:32.335Z"
   },
   {
    "duration": 16,
    "start_time": "2022-07-28T14:05:32.348Z"
   },
   {
    "duration": 27,
    "start_time": "2022-07-28T14:05:32.366Z"
   },
   {
    "duration": 7,
    "start_time": "2022-07-28T14:05:32.395Z"
   },
   {
    "duration": 133,
    "start_time": "2022-07-28T14:05:32.404Z"
   },
   {
    "duration": 16,
    "start_time": "2022-07-28T14:05:32.539Z"
   },
   {
    "duration": 24,
    "start_time": "2022-07-28T14:05:32.557Z"
   }
  ],
  "kernelspec": {
   "display_name": "Python 3 (ipykernel)",
   "language": "python",
   "name": "python3"
  },
  "language_info": {
   "codemirror_mode": {
    "name": "ipython",
    "version": 3
   },
   "file_extension": ".py",
   "mimetype": "text/x-python",
   "name": "python",
   "nbconvert_exporter": "python",
   "pygments_lexer": "ipython3",
   "version": "3.9.7"
  },
  "toc": {
   "base_numbering": 1,
   "nav_menu": {},
   "number_sections": true,
   "sideBar": true,
   "skip_h1_title": true,
   "title_cell": "Table of Contents",
   "title_sidebar": "Contents",
   "toc_cell": false,
   "toc_position": {},
   "toc_section_display": true,
   "toc_window_display": false
  }
 },
 "nbformat": 4,
 "nbformat_minor": 5
}
